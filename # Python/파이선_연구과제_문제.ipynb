{
 "cells": [
  {
   "attachments": {},
   "cell_type": "markdown",
   "metadata": {},
   "source": [
    "# 연구과제 (1) "
   ]
  },
  {
   "cell_type": "code",
   "execution_count": 1,
   "metadata": {},
   "outputs": [
    {
     "name": "stdout",
     "output_type": "stream",
     "text": [
      "주식 총액 =  23920000\n"
     ]
    }
   ],
   "source": [
    "## 문제 1)\n",
    "daum = 89000\n",
    "naver = 751000\n",
    "daum_count = 100\n",
    "naver_count = 20\n",
    "total = daum * daum_count + naver * naver_count\n",
    "\n",
    "print(\"주식 총액 = \", total )"
   ]
  },
  {
   "cell_type": "code",
   "execution_count": 74,
   "metadata": {},
   "outputs": [
    {
     "name": "stdout",
     "output_type": "stream",
     "text": [
      "손실 후 주식 총액 =  21973000.0\n",
      "손익 : 23920000 - 21973000.0 = 1947000.0\n"
     ]
    }
   ],
   "source": [
    "## 문제 2) \n",
    "new_total = 0.95 * daum * daum_count + 0.9 *  naver * naver_count\n",
    "print(\"손실 후 주식 총액 = \", new_total )\n",
    "print(f'손익 : {total} - {new_total} = {total-new_total}')"
   ]
  },
  {
   "attachments": {},
   "cell_type": "markdown",
   "metadata": {},
   "source": [
    "# 연구과제(2)"
   ]
  },
  {
   "cell_type": "code",
   "execution_count": 11,
   "metadata": {},
   "outputs": [
    {
     "name": "stdout",
     "output_type": "stream",
     "text": [
      "bmi : 4.444444444444445 저체중 입니다 ~\n"
     ]
    }
   ],
   "source": [
    "myWeight = int(input(\"몸무게를 입력하시오(kg 단위)\"))\n",
    "myHeight = float(input(\"키를 입력하시오(m 단위)\"))\n",
    "\n",
    "bmi = myWeight / myHeight**2\n",
    "if bmi >= 30 :\n",
    "    print(f'bmi : {bmi} 비만입니다 ~')\n",
    "elif 25 <= bmi and  bmi < 30 :\n",
    "    print(f'bmi : {bmi} 과체중입니다 ~')\n",
    "elif 20 <= bmi and  bmi < 25 :\n",
    "    print(f'bmi : {bmi} 정상체중 입니다 ~')\n",
    "else :\n",
    "    print(f'bmi : {bmi} 저체중 입니다 ~')\n",
    " \n"
   ]
  },
  {
   "attachments": {},
   "cell_type": "markdown",
   "metadata": {},
   "source": [
    "# 연구과제(3)"
   ]
  },
  {
   "cell_type": "code",
   "execution_count": 13,
   "metadata": {},
   "outputs": [
    {
     "name": "stdout",
     "output_type": "stream",
     "text": [
      "Daum KaKao\n",
      "KaKao Daum\n"
     ]
    }
   ],
   "source": [
    "s= 'Daum KaKao'\n",
    "print(s)\n",
    "s1=s[:4]\n",
    "s2=s[5:]\n",
    "s=s2+\" \"+s1\n",
    "print(s)"
   ]
  },
  {
   "attachments": {},
   "cell_type": "markdown",
   "metadata": {},
   "source": [
    "# 연구과제(4)"
   ]
  },
  {
   "cell_type": "code",
   "execution_count": 80,
   "metadata": {},
   "outputs": [
    {
     "name": "stdout",
     "output_type": "stream",
     "text": [
      "폴더의 위치 :  C:\\myphoto\n",
      "파일 이름 :  helloworld\n",
      "확장자 :  jpg\n"
     ]
    }
   ],
   "source": [
    "dir='C:\\\\myphoto\\\\helloworld.jpg'\n",
    "\n",
    "# 마지막 역슬래시 위치\n",
    "p1=dir.rfind(\"\\\\\")\n",
    "\n",
    "## 마지막 점의 위치 \n",
    "p2=dir.rfind('.')\n",
    "\n",
    "## 폴더 위치 \n",
    "folder = dir[:p1]\n",
    "\n",
    "## 파일 이름\n",
    "fileName = dir[p1+1:p2]\n",
    "# 확장자 \n",
    "ext = dir[p2+1:]\n",
    "\n",
    "\n",
    "\n",
    "\n",
    "\n",
    "print(\"폴더의 위치 : \",folder)\n",
    "print(\"파일 이름 : \",fileName)\n",
    "print(\"확장자 : \",ext)"
   ]
  },
  {
   "attachments": {},
   "cell_type": "markdown",
   "metadata": {},
   "source": [
    "# 연구과제(5)\n"
   ]
  },
  {
   "cell_type": "code",
   "execution_count": 85,
   "metadata": {},
   "outputs": [
    {
     "name": "stdout",
     "output_type": "stream",
     "text": [
      "[32, 65, 71, 74, 74, 82, 88, 90, 93]\n",
      "[88, 90, 93]\n",
      "상위 3명의 평균 90.33333333333333\n"
     ]
    }
   ],
   "source": [
    "\n",
    "score = [82,74,93,65,32,71,90,88,74]\n",
    "score.sort()\n",
    "print(score)\n",
    "high_score = score[-3:]\n",
    "print(high_score)\n",
    "print(\"상위 3명의 평균\", sum(high_score)/len(high_score))\n",
    "high=[]\n",
    "for i in score"
   ]
  },
  {
   "cell_type": "code",
   "execution_count": 94,
   "metadata": {},
   "outputs": [
    {
     "name": "stdout",
     "output_type": "stream",
     "text": [
      "[32, 65, 71, 74, 74, 82, 88, 90, 93]\n"
     ]
    }
   ],
   "source": [
    "score = [82,74,93,65,32,71,90,88,74]\n",
    "\n",
    "high = []\n",
    "min = 999\n",
    "for i in range(len(score)-1) :\n",
    "    for j in range(i+1,len(score)) :\n",
    "        if score[i]>score[j] :\n",
    "            score[i],score[j] = score[j],score[i]\n",
    "print(score)"
   ]
  },
  {
   "attachments": {},
   "cell_type": "markdown",
   "metadata": {},
   "source": [
    "# 연구과제(6)"
   ]
  },
  {
   "attachments": {},
   "cell_type": "markdown",
   "metadata": {},
   "source": [
    "### if 문 사용할 떄 \n",
    "\n",
    "1) and 사용시\n",
    "a = True\n",
    "b = False\n",
    "\n",
    "        if a and b 일때 보다 if b and a 가 더 실행하는데 효율이 좋음 \n",
    "\n",
    "            -> and 에서는 false가 나오면 실행을 중단, but True가 나오면 뒤에거 까지 계산\n",
    "\n",
    "2) or 사용시\n",
    "a = True\n",
    "b = False\n",
    "\n",
    "        if a or b 가 if b or a 일떄 보다 더 실행하는데 효율이 좋음 \n",
    "\n",
    "            -> or에서는 True가 나오면 실행을 중단, but false 가 나오면 뒤에거 까지 계산"
   ]
  },
  {
   "attachments": {},
   "cell_type": "markdown",
   "metadata": {},
   "source": [
    "## (1) 내꺼"
   ]
  },
  {
   "cell_type": "code",
   "execution_count": 2,
   "metadata": {},
   "outputs": [
    {
     "name": "stdout",
     "output_type": "stream",
     "text": [
      "당신은 50대 입니다.\n"
     ]
    }
   ],
   "source": [
    "\n",
    "age = int(input(\"나이를 입력하세요 : \"))\n",
    "\n",
    "if 0<age and age<10 :\n",
    "    print('당신은 어린이 입니다.')\n",
    "elif age<20 :\n",
    "    print('당신은 10대 입니다.')\n",
    "elif age<30 :\n",
    "    print('당신은 20대 입니다.')\n",
    "elif age<40 :\n",
    "    print('당신은 30대 입니다.')\n",
    "elif age<50 :\n",
    "    print('당신은 40대 입니다.')\n",
    "elif age<60 :\n",
    "    print('당신은 50대 입니다.')\n",
    "else :\n",
    "    print('당신은 노년층 입니다.')"
   ]
  },
  {
   "attachments": {},
   "cell_type": "markdown",
   "metadata": {},
   "source": [
    "## (2) 썜꺼\n"
   ]
  },
  {
   "cell_type": "code",
   "execution_count": 3,
   "metadata": {},
   "outputs": [
    {
     "name": "stdout",
     "output_type": "stream",
     "text": [
      "당신은 50대입니다\n"
     ]
    }
   ],
   "source": [
    "age = int(input(\"나이를 입력하세요 : \"))\n",
    "level = age //10 \n",
    "if level == 0 :\n",
    "    print(\"어린이\")\n",
    "elif level > 5 :\n",
    "    print('당신은 노년층 ')\n",
    "else :\n",
    "    print(f\"당신은 {level * 10}대입니다\")"
   ]
  },
  {
   "attachments": {},
   "cell_type": "markdown",
   "metadata": {},
   "source": [
    "# 연구과제(7)"
   ]
  },
  {
   "cell_type": "code",
   "execution_count": 81,
   "metadata": {},
   "outputs": [
    {
     "name": "stdout",
     "output_type": "stream",
     "text": [
      "키 : 140, 체중 : 51 표준체중 : 30\n",
      "비만도 : 70.0\n",
      "고도비만\n"
     ]
    }
   ],
   "source": [
    "myWeight = int(input(\"몸무게를 입력하시오\"))\n",
    "myHeight = int(input(\"키를 입력하시오\"))\n",
    "standardWeight = 0\n",
    "\n",
    "if myHeight<=150 :\n",
    "    standardWeight = myHeight-110\n",
    "else :\n",
    "    standardWeight = (myHeight-110) * 0.9\n",
    "print(f'키 : {myHeight}, 체중 : {myWeight} 표준체중 : {standardWeight}')\n",
    "obesity = ((myWeight-standardWeight)/standardWeight) * 100\n",
    "print(f'비만도 : {obesity}')\n",
    "if obesity <= 20 :\n",
    "    print('정상입니다.')\n",
    "elif obesity > 20 and obesity <= 30 :\n",
    "    print('경도비만')\n",
    "elif obesity > 30 and obesity <= 50 :\n",
    "    print('중등도비만')\n",
    "else :\n",
    "    print('고도비만')\n"
   ]
  },
  {
   "attachments": {},
   "cell_type": "markdown",
   "metadata": {},
   "source": [
    "# 연구과제(8)"
   ]
  },
  {
   "cell_type": "code",
   "execution_count": 39,
   "metadata": {},
   "outputs": [
    {
     "name": "stdout",
     "output_type": "stream",
     "text": [
      "100까지의 짝수 총합은 2550\n"
     ]
    }
   ],
   "source": [
    "## for문 써서 풀기 \n",
    "\n",
    "nsum=0\n",
    "for i in range(0,101,2):\n",
    "    nsum=nsum+i\n",
    "print(f'100까지의 짝수 총합은 {nsum}')"
   ]
  },
  {
   "cell_type": "code",
   "execution_count": 5,
   "metadata": {},
   "outputs": [
    {
     "name": "stdout",
     "output_type": "stream",
     "text": [
      "2550\n"
     ]
    }
   ],
   "source": [
    "## while 문 사용해서 풀기\n",
    "i = 0\n",
    "total = 0\n",
    "while i < 101 :\n",
    "    total = i + total\n",
    "    i +=2 \n",
    "print(total)"
   ]
  },
  {
   "attachments": {},
   "cell_type": "markdown",
   "metadata": {},
   "source": [
    "# 연구과제(9)"
   ]
  },
  {
   "attachments": {},
   "cell_type": "markdown",
   "metadata": {},
   "source": [
    "내거"
   ]
  },
  {
   "cell_type": "code",
   "execution_count": 48,
   "metadata": {},
   "outputs": [
    {
     "name": "stdout",
     "output_type": "stream",
     "text": [
      "{'A': 3, 'B': 2, 'O': 3, 'AB': 2}\n"
     ]
    }
   ],
   "source": [
    "\n",
    "list_alpha = ['A','A','A','O','B','B','O','AB','AB','O']\n",
    "dict_alpha={\"A\":0 ,\"B\":0,\"O\":0,\"AB\":0}\n",
    "\n",
    "for i in list_alpha :\n",
    " \n",
    "    if i==\"A\":\n",
    "        dict_alpha['A'] +=1\n",
    "    elif i==\"B\":\n",
    "        dict_alpha['B'] +=1\n",
    "    elif i==\"O\":\n",
    "        dict_alpha['O'] +=1\n",
    "    elif i==\"AB\":\n",
    "        dict_alpha['AB'] +=1\n",
    "    \n",
    "print(dict_alpha)\n",
    "\n",
    "\n"
   ]
  },
  {
   "attachments": {},
   "cell_type": "markdown",
   "metadata": {},
   "source": [
    "샘꺼\n"
   ]
  },
  {
   "cell_type": "code",
   "execution_count": 6,
   "metadata": {},
   "outputs": [
    {
     "name": "stdout",
     "output_type": "stream",
     "text": [
      "{'A': 3, 'B': 2, 'O': 3, 'AB': 2}\n"
     ]
    }
   ],
   "source": [
    "\n",
    "list_alpha = ['A','A','A','O','B','B','O','AB','AB','O']\n",
    "dict_alpha={\"A\":0 ,\"B\":0,\"O\":0,\"AB\":0}\n",
    "\n",
    "for i in list_alpha :\n",
    "    dict_alpha[i] += 1\n",
    "print(dict_alpha)"
   ]
  },
  {
   "attachments": {},
   "cell_type": "markdown",
   "metadata": {},
   "source": [
    "# 연구과제(10)"
   ]
  },
  {
   "attachments": {},
   "cell_type": "markdown",
   "metadata": {},
   "source": [
    "반복문 사용\n"
   ]
  },
  {
   "cell_type": "code",
   "execution_count": 51,
   "metadata": {},
   "outputs": [
    {
     "name": "stdout",
     "output_type": "stream",
     "text": [
      "5! = 120\n"
     ]
    }
   ],
   "source": [
    "\n",
    "input_number = int(input('숫자를 입력하시오'))\n",
    "\n",
    "multiply_number = 1\n",
    "for i in range(1,input_number+1) :\n",
    "    multiply_number = multiply_number * i\n",
    "print(f'{input_number}! = {multiply_number}')"
   ]
  },
  {
   "attachments": {},
   "cell_type": "markdown",
   "metadata": {},
   "source": [
    "재귀함수 사용\n"
   ]
  },
  {
   "cell_type": "code",
   "execution_count": 9,
   "metadata": {},
   "outputs": [
    {
     "name": "stdout",
     "output_type": "stream",
     "text": [
      "3628800\n"
     ]
    }
   ],
   "source": [
    "def func(x) :\n",
    "    if x == 1 :\n",
    "        return 1 \n",
    "    return x * func(x-1)\n",
    "print(func(10))"
   ]
  },
  {
   "attachments": {},
   "cell_type": "markdown",
   "metadata": {},
   "source": [
    "# 연구과제(11)"
   ]
  },
  {
   "cell_type": "code",
   "execution_count": 58,
   "metadata": {},
   "outputs": [
    {
     "name": "stdout",
     "output_type": "stream",
     "text": [
      "[1, 5]\n",
      "[2, 4]\n",
      "[3, 3]\n",
      "[4, 2]\n",
      "[5, 1]\n",
      "경우의 수는 count\n"
     ]
    }
   ],
   "source": [
    "\n",
    "count=0\n",
    "for i in range(1,7):\n",
    "    for j in range(1,7):\n",
    "        if i + j == 6 :\n",
    "            print([i,j])\n",
    "            count +=1 \n",
    "print(f'경우의 수는 count')"
   ]
  },
  {
   "attachments": {},
   "cell_type": "markdown",
   "metadata": {},
   "source": [
    "# 연구과제(12)"
   ]
  },
  {
   "cell_type": "code",
   "execution_count": 12,
   "metadata": {},
   "outputs": [
    {
     "name": "stdout",
     "output_type": "stream",
     "text": [
      "21\n",
      "42\n",
      "63\n",
      "84\n",
      "210\n"
     ]
    }
   ],
   "source": [
    "\n",
    "x = int(input(\"1부터 100까지인 정수 x를 입력하세요\"))\n",
    "y = int(input(\"1부터 100까지인 정수 y를 입력하세요\"))\n",
    "list_num=[]\n",
    "\n",
    "\n",
    "for i in range(1,101):\n",
    "    if i % x == 0 and i % y == 0 :\n",
    "        list_num.append(i)\n",
    "        print(i)\n",
    "print(sum(list_num))\n"
   ]
  },
  {
   "attachments": {},
   "cell_type": "markdown",
   "metadata": {},
   "source": [
    "# 연구과제(13)"
   ]
  },
  {
   "cell_type": "code",
   "execution_count": 64,
   "metadata": {},
   "outputs": [
    {
     "name": "stdout",
     "output_type": "stream",
     "text": [
      " 주급 : 238000원 입니다\n"
     ]
    }
   ],
   "source": [
    "# hour_list = {\"월\":4,\"화\":3,\"수\":3,\"목\":4,\"금\":5,\"토\":7,\"일\":6 }\n",
    "hour_list = [4,3,3,4,5,7,6]\n",
    "weekday = []\n",
    "weekend = [] \n",
    "\n",
    "for i in range(len(hour_list)) :\n",
    "    if i < 5 :\n",
    "        weekday.append(i)\n",
    "    else :\n",
    "        weekend.append(i)\n",
    "total_money=sum(weekday)*9500+sum(weekend)*13000\n",
    "print(f' 주급 : {total_money}원 입니다')"
   ]
  },
  {
   "attachments": {},
   "cell_type": "markdown",
   "metadata": {},
   "source": [
    "# 연구과제(14)"
   ]
  },
  {
   "cell_type": "code",
   "execution_count": 19,
   "metadata": {},
   "outputs": [
    {
     "name": "stdout",
     "output_type": "stream",
     "text": [
      "총액은 :  404816.4\n",
      "총 판매 수익 : 404816.4\n",
      "[{'수량': 18, '단가': 92}, {'수량': 72, '단가': 30}, {'수량': 291, '단가': 500}, {'수량': 460, '단가': 100}, {'수량': 558, '단가': 120}, {'수량': 586, '단가': 320}]\n"
     ]
    }
   ],
   "source": [
    "## 총 수익\n",
    "\n",
    "item_list=[{'수량' : 291,'단가': 500},\n",
    "    {'수량' : 586,'단가': 320},\n",
    "    {'수량' : 460,'단가': 100},\n",
    "    {'수량' : 558,'단가': 120},\n",
    "    {'수량' : 18,'단가': 92},\n",
    "    {'수량' : 72,'단가': 30}\n",
    "]\n",
    "nsum=0\n",
    "\n",
    "for i in range(len(item_list)) :\n",
    "    # print(item_list[i])\n",
    "    nsum = item_list[i]['수량']*item_list[i]['단가']*0.9 + nsum\n",
    "    \n",
    "print(f'총액은 :  {nsum}')\n",
    "\n",
    "print(\"총 판매 수익 : %0.1f\" % nsum)\n",
    "\n",
    "## 수량별로 정렬해보기 \n",
    "\n",
    "## 정렬함수 사용 안됌 \n",
    "for i in range(len(item_list)-1) :\n",
    "    for j in range(i+1,len(item_list)):\n",
    "        if item_list[i]['수량'] > item_list[j]['수량'] :\n",
    "            item_list[i], item_list[j] = item_list[j] ,item_list[i]\n",
    "print(item_list)"
   ]
  },
  {
   "cell_type": "code",
   "execution_count": 24,
   "metadata": {},
   "outputs": [
    {
     "name": "stdout",
     "output_type": "stream",
     "text": [
      "*****\n",
      "****\n",
      "***\n",
      "**\n",
      "*\n",
      "*\n",
      "**\n",
      "***\n",
      "****\n",
      "*****\n"
     ]
    }
   ],
   "source": [
    "for i in range(5,0,-1):\n",
    "    print(i*'*')\n",
    "\n",
    "for i in range(1,6):\n",
    "    print(i*'*')"
   ]
  },
  {
   "cell_type": "code",
   "execution_count": null,
   "metadata": {},
   "outputs": [],
   "source": []
  }
 ],
 "metadata": {
  "kernelspec": {
   "display_name": "Python 3",
   "language": "python",
   "name": "python3"
  },
  "language_info": {
   "codemirror_mode": {
    "name": "ipython",
    "version": 3
   },
   "file_extension": ".py",
   "mimetype": "text/x-python",
   "name": "python",
   "nbconvert_exporter": "python",
   "pygments_lexer": "ipython3",
   "version": "3.11.3"
  },
  "orig_nbformat": 4
 },
 "nbformat": 4,
 "nbformat_minor": 2
}

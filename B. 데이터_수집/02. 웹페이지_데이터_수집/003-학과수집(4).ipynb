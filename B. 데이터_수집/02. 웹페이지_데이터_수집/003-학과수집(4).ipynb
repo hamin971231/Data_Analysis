{
 "cells": [
  {
   "attachments": {},
   "cell_type": "markdown",
   "metadata": {},
   "source": [
    "# 숙명여대 학과정보수집\n",
    "\n",
    "###  #01.패키지 참조"
   ]
  },
  {
   "cell_type": "code",
   "execution_count": 1,
   "metadata": {},
   "outputs": [],
   "source": [
    "# 필요한 모듈 참조\n",
    "import requests\n",
    "from bs4 import BeautifulSoup\n",
    "from pandas import DataFrame"
   ]
  },
  {
   "attachments": {},
   "cell_type": "markdown",
   "metadata": {},
   "source": [
    "#### #02.웹 페이지 코드 수집\n"
   ]
  },
  {
   "cell_type": "code",
   "execution_count": 4,
   "metadata": {},
   "outputs": [],
   "source": [
    "## 수집할 컨텐츠가 있는 웹페이지 주소\n",
    "## 물음표 뒤에오는 걸 쿼리 스트링 : 변수이름 = 값 & 변수이름 = 값\n",
    "## https : 통신방식에 대한 약속, \n",
    "\n",
    "#      프로토콜  / 도메인      /파일 경로/ (? 뒤에 변수이름 =값 & 변수이름 = 값 ) ->쿼리스트링\n",
    "#브라우저 버전정보\n",
    "userAgent = \"Mozilla/5.0 (Windows NT 10.0; Win64; x64) AppleWebKit/537.36 (KHTML, like Gecko) Chrome/114.0.0.0 Safari/537.36\"\n",
    "\n",
    "## 접속객체 생성\n",
    "session=requests.Session()\n",
    "\n",
    "# 접속객체에 header정보 삽입\n",
    "session.headers.update({\n",
    "    \"Referer\": \"\",\n",
    "    \"User-Agent\": userAgent,\n",
    "\n",
    "})\n",
    "\n"
   ]
  },
  {
   "attachments": {},
   "cell_type": "markdown",
   "metadata": {},
   "source": [
    "# while 문 써서 count함수 구현하기 공부 ㄱㄱ\n"
   ]
  },
  {
   "attachments": {},
   "cell_type": "markdown",
   "metadata": {},
   "source": [
    "#### #03. 응답결과로부터 내용 추출하기"
   ]
  },
  {
   "cell_type": "code",
   "execution_count": 5,
   "metadata": {},
   "outputs": [],
   "source": [
    "## 대학번호 리스트 정의 --> url을 분석해서 얻은값 \n",
    "## 전체 학부 + 전체 전공까지 for문으로 돌려서 크롤링\n",
    "\n",
    "clist = [1011,1023,1030,1041,1046,1052,1054,1057,1062,1064,1070,1073,1076]"
   ]
  },
  {
   "cell_type": "code",
   "execution_count": 9,
   "metadata": {},
   "outputs": [
    {
     "name": "stdout",
     "output_type": "stream",
     "text": [
      "/sookmyungkr/1071/subview.do\n",
      "/sookmyungkr/1072/subview.do\n",
      "https://admission.sookmyung.ac.kr/enter/pdf/major/Sookmyung_Major_01_2022.pdf\n",
      "https://admission.sookmyung.ac.kr/enter/pdf/major/Sookmyung_Major_02_2022.pdf\n",
      "https://admission.sookmyung.ac.kr/enter/pdf/major/Sookmyung_Major_03_2022.pdf\n",
      "https://admission.sookmyung.ac.kr/enter/pdf/major/Sookmyung_Major_04_2022.pdf\n",
      "https://admission.sookmyung.ac.kr/enter/pdf/major/Sookmyung_Major_05_2022.pdf\n",
      "https://admission.sookmyung.ac.kr/enter/pdf/major/Sookmyung_Major_06_2022.pdf\n",
      "https://admission.sookmyung.ac.kr/enter/pdf/major/Sookmyung_Major_07_2022.pdf\n",
      "https://admission.sookmyung.ac.kr/enter/pdf/major/Sookmyung_Major_08_2022.pdf\n",
      "https://admission.sookmyung.ac.kr/enter/pdf/major/Sookmyung_Major_09_2022.pdf\n",
      "https://admission.sookmyung.ac.kr/enter/pdf/major/Sookmyung_Major_10_2022.pdf\n",
      "https://admission.sookmyung.ac.kr/enter/pdf/major/Sookmyung_Major_11_2022.pdf\n",
      "https://admission.sookmyung.ac.kr/enter/pdf/major/Sookmyung_Major_12_2022.pdf\n",
      "https://admission.sookmyung.ac.kr/enter/pdf/major/Sookmyung_Major_13_2022.pdf\n",
      "https://admission.sookmyung.ac.kr/enter/pdf/major/Sookmyung_Major_14_2022.pdf\n",
      "https://admission.sookmyung.ac.kr/enter/pdf/major/Sookmyung_Major_15_2022.pdf\n",
      "https://admission.sookmyung.ac.kr/enter/pdf/major/Sookmyung_Major_16_2022.pdf\n",
      "https://admission.sookmyung.ac.kr/admission/pdf/major/Sookmyung_Major_17_2022.pdf\n",
      "https://admission.sookmyung.ac.kr/admission/pdf/major/Sookmyung_Major_18_2022.pdf\n"
     ]
    },
    {
     "ename": "KeyboardInterrupt",
     "evalue": "",
     "output_type": "error",
     "traceback": [
      "\u001b[1;31m---------------------------------------------------------------------------\u001b[0m",
      "\u001b[1;31mKeyboardInterrupt\u001b[0m                         Traceback (most recent call last)",
      "Cell \u001b[1;32mIn[9], line 77\u001b[0m\n\u001b[0;32m     74\u001b[0m     \u001b[39mcontinue\u001b[39;00m \u001b[39m## 학과홈페이지 로딩하다가 에러나면 그냥 넘기기 위해서 continue\u001b[39;00m\n\u001b[0;32m     75\u001b[0m r\u001b[39m.\u001b[39mencoding \u001b[39m=\u001b[39m \u001b[39m'\u001b[39m\u001b[39mutf-8\u001b[39m\u001b[39m'\u001b[39m\n\u001b[1;32m---> 77\u001b[0m detailSoup \u001b[39m=\u001b[39m BeautifulSoup(r\u001b[39m.\u001b[39;49mtext)\n\u001b[0;32m     78\u001b[0m \u001b[39m# print(detailSoup)\u001b[39;00m\n\u001b[0;32m     79\u001b[0m \u001b[39m## 같은 구조를 갖느 전화번호, 팩스번호, 위치, 이메일주소를 가져온다. \u001b[39;00m\n\u001b[0;32m     80\u001b[0m infoEl \u001b[39m=\u001b[39m detailSoup\u001b[39m.\u001b[39mselect(\u001b[39m\"\u001b[39m\u001b[39m.college_info_data dl\u001b[39m\u001b[39m\"\u001b[39m)\n",
      "File \u001b[1;32mc:\\Users\\hamin\\AppData\\Local\\Programs\\Python\\Python311\\Lib\\site-packages\\bs4\\__init__.py:335\u001b[0m, in \u001b[0;36mBeautifulSoup.__init__\u001b[1;34m(self, markup, features, builder, parse_only, from_encoding, exclude_encodings, element_classes, **kwargs)\u001b[0m\n\u001b[0;32m    333\u001b[0m \u001b[39mself\u001b[39m\u001b[39m.\u001b[39mbuilder\u001b[39m.\u001b[39minitialize_soup(\u001b[39mself\u001b[39m)\n\u001b[0;32m    334\u001b[0m \u001b[39mtry\u001b[39;00m:\n\u001b[1;32m--> 335\u001b[0m     \u001b[39mself\u001b[39;49m\u001b[39m.\u001b[39;49m_feed()\n\u001b[0;32m    336\u001b[0m     success \u001b[39m=\u001b[39m \u001b[39mTrue\u001b[39;00m\n\u001b[0;32m    337\u001b[0m     \u001b[39mbreak\u001b[39;00m\n",
      "File \u001b[1;32mc:\\Users\\hamin\\AppData\\Local\\Programs\\Python\\Python311\\Lib\\site-packages\\bs4\\__init__.py:478\u001b[0m, in \u001b[0;36mBeautifulSoup._feed\u001b[1;34m(self)\u001b[0m\n\u001b[0;32m    475\u001b[0m \u001b[39m# Convert the document to Unicode.\u001b[39;00m\n\u001b[0;32m    476\u001b[0m \u001b[39mself\u001b[39m\u001b[39m.\u001b[39mbuilder\u001b[39m.\u001b[39mreset()\n\u001b[1;32m--> 478\u001b[0m \u001b[39mself\u001b[39;49m\u001b[39m.\u001b[39;49mbuilder\u001b[39m.\u001b[39;49mfeed(\u001b[39mself\u001b[39;49m\u001b[39m.\u001b[39;49mmarkup)\n\u001b[0;32m    479\u001b[0m \u001b[39m# Close out any unfinished strings and close all the open tags.\u001b[39;00m\n\u001b[0;32m    480\u001b[0m \u001b[39mself\u001b[39m\u001b[39m.\u001b[39mendData()\n",
      "File \u001b[1;32mc:\\Users\\hamin\\AppData\\Local\\Programs\\Python\\Python311\\Lib\\site-packages\\bs4\\builder\\_htmlparser.py:380\u001b[0m, in \u001b[0;36mHTMLParserTreeBuilder.feed\u001b[1;34m(self, markup)\u001b[0m\n\u001b[0;32m    378\u001b[0m parser\u001b[39m.\u001b[39msoup \u001b[39m=\u001b[39m \u001b[39mself\u001b[39m\u001b[39m.\u001b[39msoup\n\u001b[0;32m    379\u001b[0m \u001b[39mtry\u001b[39;00m:\n\u001b[1;32m--> 380\u001b[0m     parser\u001b[39m.\u001b[39;49mfeed(markup)\n\u001b[0;32m    381\u001b[0m \u001b[39mexcept\u001b[39;00m \u001b[39mAssertionError\u001b[39;00m \u001b[39mas\u001b[39;00m e:\n\u001b[0;32m    382\u001b[0m     \u001b[39m# html.parser raises AssertionError in rare cases to\u001b[39;00m\n\u001b[0;32m    383\u001b[0m     \u001b[39m# indicate a fatal problem with the markup, especially\u001b[39;00m\n\u001b[0;32m    384\u001b[0m     \u001b[39m# when there's an error in the doctype declaration.\u001b[39;00m\n\u001b[0;32m    385\u001b[0m     \u001b[39mraise\u001b[39;00m ParserRejectedMarkup(e)\n",
      "File \u001b[1;32mc:\\Users\\hamin\\AppData\\Local\\Programs\\Python\\Python311\\Lib\\html\\parser.py:110\u001b[0m, in \u001b[0;36mHTMLParser.feed\u001b[1;34m(self, data)\u001b[0m\n\u001b[0;32m    104\u001b[0m \u001b[39m\u001b[39m\u001b[39mr\u001b[39m\u001b[39m\"\"\"Feed data to the parser.\u001b[39;00m\n\u001b[0;32m    105\u001b[0m \n\u001b[0;32m    106\u001b[0m \u001b[39mCall this as often as you want, with as little or as much text\u001b[39;00m\n\u001b[0;32m    107\u001b[0m \u001b[39mas you want (may include '\\n').\u001b[39;00m\n\u001b[0;32m    108\u001b[0m \u001b[39m\"\"\"\u001b[39;00m\n\u001b[0;32m    109\u001b[0m \u001b[39mself\u001b[39m\u001b[39m.\u001b[39mrawdata \u001b[39m=\u001b[39m \u001b[39mself\u001b[39m\u001b[39m.\u001b[39mrawdata \u001b[39m+\u001b[39m data\n\u001b[1;32m--> 110\u001b[0m \u001b[39mself\u001b[39;49m\u001b[39m.\u001b[39;49mgoahead(\u001b[39m0\u001b[39;49m)\n",
      "File \u001b[1;32mc:\\Users\\hamin\\AppData\\Local\\Programs\\Python\\Python311\\Lib\\html\\parser.py:170\u001b[0m, in \u001b[0;36mHTMLParser.goahead\u001b[1;34m(self, end)\u001b[0m\n\u001b[0;32m    168\u001b[0m \u001b[39mif\u001b[39;00m startswith(\u001b[39m'\u001b[39m\u001b[39m<\u001b[39m\u001b[39m'\u001b[39m, i):\n\u001b[0;32m    169\u001b[0m     \u001b[39mif\u001b[39;00m starttagopen\u001b[39m.\u001b[39mmatch(rawdata, i): \u001b[39m# < + letter\u001b[39;00m\n\u001b[1;32m--> 170\u001b[0m         k \u001b[39m=\u001b[39m \u001b[39mself\u001b[39;49m\u001b[39m.\u001b[39;49mparse_starttag(i)\n\u001b[0;32m    171\u001b[0m     \u001b[39melif\u001b[39;00m startswith(\u001b[39m\"\u001b[39m\u001b[39m</\u001b[39m\u001b[39m\"\u001b[39m, i):\n\u001b[0;32m    172\u001b[0m         k \u001b[39m=\u001b[39m \u001b[39mself\u001b[39m\u001b[39m.\u001b[39mparse_endtag(i)\n",
      "File \u001b[1;32mc:\\Users\\hamin\\AppData\\Local\\Programs\\Python\\Python311\\Lib\\html\\parser.py:337\u001b[0m, in \u001b[0;36mHTMLParser.parse_starttag\u001b[1;34m(self, i)\u001b[0m\n\u001b[0;32m    335\u001b[0m     \u001b[39mself\u001b[39m\u001b[39m.\u001b[39mhandle_startendtag(tag, attrs)\n\u001b[0;32m    336\u001b[0m \u001b[39melse\u001b[39;00m:\n\u001b[1;32m--> 337\u001b[0m     \u001b[39mself\u001b[39;49m\u001b[39m.\u001b[39;49mhandle_starttag(tag, attrs)\n\u001b[0;32m    338\u001b[0m     \u001b[39mif\u001b[39;00m tag \u001b[39min\u001b[39;00m \u001b[39mself\u001b[39m\u001b[39m.\u001b[39mCDATA_CONTENT_ELEMENTS:\n\u001b[0;32m    339\u001b[0m         \u001b[39mself\u001b[39m\u001b[39m.\u001b[39mset_cdata_mode(tag)\n",
      "File \u001b[1;32mc:\\Users\\hamin\\AppData\\Local\\Programs\\Python\\Python311\\Lib\\site-packages\\bs4\\builder\\_htmlparser.py:137\u001b[0m, in \u001b[0;36mBeautifulSoupHTMLParser.handle_starttag\u001b[1;34m(self, name, attrs, handle_empty_element)\u001b[0m\n\u001b[0;32m    135\u001b[0m \u001b[39m#print(\"START\", name)\u001b[39;00m\n\u001b[0;32m    136\u001b[0m sourceline, sourcepos \u001b[39m=\u001b[39m \u001b[39mself\u001b[39m\u001b[39m.\u001b[39mgetpos()\n\u001b[1;32m--> 137\u001b[0m tag \u001b[39m=\u001b[39m \u001b[39mself\u001b[39;49m\u001b[39m.\u001b[39;49msoup\u001b[39m.\u001b[39;49mhandle_starttag(\n\u001b[0;32m    138\u001b[0m     name, \u001b[39mNone\u001b[39;49;00m, \u001b[39mNone\u001b[39;49;00m, attr_dict, sourceline\u001b[39m=\u001b[39;49msourceline,\n\u001b[0;32m    139\u001b[0m     sourcepos\u001b[39m=\u001b[39;49msourcepos\n\u001b[0;32m    140\u001b[0m )\n\u001b[0;32m    141\u001b[0m \u001b[39mif\u001b[39;00m tag \u001b[39mand\u001b[39;00m tag\u001b[39m.\u001b[39mis_empty_element \u001b[39mand\u001b[39;00m handle_empty_element:\n\u001b[0;32m    142\u001b[0m     \u001b[39m# Unlike other parsers, html.parser doesn't send separate end tag\u001b[39;00m\n\u001b[0;32m    143\u001b[0m     \u001b[39m# events for empty-element tags. (It's handled in\u001b[39;00m\n\u001b[1;32m   (...)\u001b[0m\n\u001b[0;32m    149\u001b[0m     \u001b[39m# don't want handle_endtag() to cross off any previous end\u001b[39;00m\n\u001b[0;32m    150\u001b[0m     \u001b[39m# events for tags of this name.\u001b[39;00m\n\u001b[0;32m    151\u001b[0m     \u001b[39mself\u001b[39m\u001b[39m.\u001b[39mhandle_endtag(name, check_already_closed\u001b[39m=\u001b[39m\u001b[39mFalse\u001b[39;00m)\n",
      "File \u001b[1;32mc:\\Users\\hamin\\AppData\\Local\\Programs\\Python\\Python311\\Lib\\site-packages\\bs4\\__init__.py:742\u001b[0m, in \u001b[0;36mBeautifulSoup.handle_starttag\u001b[1;34m(self, name, namespace, nsprefix, attrs, sourceline, sourcepos, namespaces)\u001b[0m\n\u001b[0;32m    724\u001b[0m \u001b[39m\u001b[39m\u001b[39m\"\"\"Called by the tree builder when a new tag is encountered.\u001b[39;00m\n\u001b[0;32m    725\u001b[0m \n\u001b[0;32m    726\u001b[0m \u001b[39m:param name: Name of the tag.\u001b[39;00m\n\u001b[1;32m   (...)\u001b[0m\n\u001b[0;32m    739\u001b[0m \u001b[39mdon't call handle_endtag.\u001b[39;00m\n\u001b[0;32m    740\u001b[0m \u001b[39m\"\"\"\u001b[39;00m\n\u001b[0;32m    741\u001b[0m \u001b[39m# print(\"Start tag %s: %s\" % (name, attrs))\u001b[39;00m\n\u001b[1;32m--> 742\u001b[0m \u001b[39mself\u001b[39;49m\u001b[39m.\u001b[39;49mendData()\n\u001b[0;32m    744\u001b[0m \u001b[39mif\u001b[39;00m (\u001b[39mself\u001b[39m\u001b[39m.\u001b[39mparse_only \u001b[39mand\u001b[39;00m \u001b[39mlen\u001b[39m(\u001b[39mself\u001b[39m\u001b[39m.\u001b[39mtagStack) \u001b[39m<\u001b[39m\u001b[39m=\u001b[39m \u001b[39m1\u001b[39m\n\u001b[0;32m    745\u001b[0m     \u001b[39mand\u001b[39;00m (\u001b[39mself\u001b[39m\u001b[39m.\u001b[39mparse_only\u001b[39m.\u001b[39mtext\n\u001b[0;32m    746\u001b[0m          \u001b[39mor\u001b[39;00m \u001b[39mnot\u001b[39;00m \u001b[39mself\u001b[39m\u001b[39m.\u001b[39mparse_only\u001b[39m.\u001b[39msearch_tag(name, attrs))):\n\u001b[0;32m    747\u001b[0m     \u001b[39mreturn\u001b[39;00m \u001b[39mNone\u001b[39;00m\n",
      "File \u001b[1;32mc:\\Users\\hamin\\AppData\\Local\\Programs\\Python\\Python311\\Lib\\site-packages\\bs4\\__init__.py:618\u001b[0m, in \u001b[0;36mBeautifulSoup.endData\u001b[1;34m(self, containerClass)\u001b[0m\n\u001b[0;32m    616\u001b[0m containerClass \u001b[39m=\u001b[39m \u001b[39mself\u001b[39m\u001b[39m.\u001b[39mstring_container(containerClass)\n\u001b[0;32m    617\u001b[0m o \u001b[39m=\u001b[39m containerClass(current_data)\n\u001b[1;32m--> 618\u001b[0m \u001b[39mself\u001b[39;49m\u001b[39m.\u001b[39;49mobject_was_parsed(o)\n",
      "File \u001b[1;32mc:\\Users\\hamin\\AppData\\Local\\Programs\\Python\\Python311\\Lib\\site-packages\\bs4\\__init__.py:639\u001b[0m, in \u001b[0;36mBeautifulSoup.object_was_parsed\u001b[1;34m(self, o, parent, most_recent_element)\u001b[0m\n\u001b[0;32m    635\u001b[0m         previous_element \u001b[39m=\u001b[39m o\u001b[39m.\u001b[39mprevious_element\n\u001b[0;32m    637\u001b[0m fix \u001b[39m=\u001b[39m parent\u001b[39m.\u001b[39mnext_element \u001b[39mis\u001b[39;00m \u001b[39mnot\u001b[39;00m \u001b[39mNone\u001b[39;00m\n\u001b[1;32m--> 639\u001b[0m o\u001b[39m.\u001b[39;49msetup(parent, previous_element, next_element, previous_sibling, next_sibling)\n\u001b[0;32m    641\u001b[0m \u001b[39mself\u001b[39m\u001b[39m.\u001b[39m_most_recent_element \u001b[39m=\u001b[39m o\n\u001b[0;32m    642\u001b[0m parent\u001b[39m.\u001b[39mcontents\u001b[39m.\u001b[39mappend(o)\n",
      "File \u001b[1;32mc:\\Users\\hamin\\AppData\\Local\\Programs\\Python\\Python311\\Lib\\site-packages\\bs4\\element.py:156\u001b[0m, in \u001b[0;36mPageElement.setup\u001b[1;34m(self, parent, previous_element, next_element, previous_sibling, next_sibling)\u001b[0m\n\u001b[0;32m    151\u001b[0m \u001b[39m# In general, we can't tell just by looking at an element whether\u001b[39;00m\n\u001b[0;32m    152\u001b[0m \u001b[39m# it's contained in an XML document or an HTML document. But for\u001b[39;00m\n\u001b[0;32m    153\u001b[0m \u001b[39m# Tags (q.v.) we can store this information at parse time.\u001b[39;00m\n\u001b[0;32m    154\u001b[0m known_xml \u001b[39m=\u001b[39m \u001b[39mNone\u001b[39;00m\n\u001b[1;32m--> 156\u001b[0m \u001b[39mdef\u001b[39;00m \u001b[39msetup\u001b[39m(\u001b[39mself\u001b[39m, parent\u001b[39m=\u001b[39m\u001b[39mNone\u001b[39;00m, previous_element\u001b[39m=\u001b[39m\u001b[39mNone\u001b[39;00m, next_element\u001b[39m=\u001b[39m\u001b[39mNone\u001b[39;00m,\n\u001b[0;32m    157\u001b[0m           previous_sibling\u001b[39m=\u001b[39m\u001b[39mNone\u001b[39;00m, next_sibling\u001b[39m=\u001b[39m\u001b[39mNone\u001b[39;00m):\n\u001b[0;32m    158\u001b[0m \u001b[39m    \u001b[39m\u001b[39m\"\"\"Sets up the initial relations between this element and\u001b[39;00m\n\u001b[0;32m    159\u001b[0m \u001b[39m    other elements.\u001b[39;00m\n\u001b[0;32m    160\u001b[0m \n\u001b[1;32m   (...)\u001b[0m\n\u001b[0;32m    173\u001b[0m \u001b[39m        on the same level of the parse tree as this one.\u001b[39;00m\n\u001b[0;32m    174\u001b[0m \u001b[39m    \"\"\"\u001b[39;00m\n\u001b[0;32m    175\u001b[0m     \u001b[39mself\u001b[39m\u001b[39m.\u001b[39mparent \u001b[39m=\u001b[39m parent\n",
      "\u001b[1;31mKeyboardInterrupt\u001b[0m: "
     ]
    }
   ],
   "source": [
    "# 수집할 정보를 저장할 빈 리스트 \n",
    "\n",
    "학과목록_리스트 =[]\n",
    "for c in clist :\n",
    "    ## 접속객체를 통해 api접속\n",
    "    r= session.get(url)\n",
    "    url = \"https://www.sookmyung.ac.kr/sookmyungkr/%d/subview.do\" % c\n",
    "    # 접속에 실패했을 때 \n",
    "\n",
    "    if r.status_code!=200 :\n",
    "        # 200이 아니면 에러코드와 에러메세지 출력\n",
    "        msg = \"[%d Error] %s 에러가 발생함\" % (r.status_code,r.reason)\n",
    "        # 에러를 강제로 생성시킨다.\n",
    "        raise Exception(msg)\n",
    "        \n",
    "    # 인코딩 형식 지정\n",
    "    r.encoding = 'utf-8'\n",
    "    ## 전체 html파일\n",
    "    soup = BeautifulSoup(r.text)\n",
    "\n",
    "\n",
    "    college_list = soup.select(\".college_list\")\n",
    "    college_list\n",
    "    for item in college_list :\n",
    "        # print(item)\n",
    "        # print(\"-\"*90)\n",
    "        ## 학과이름 \n",
    "        nameEl = item.select(\"h5\")\n",
    "        name = nameEl[0].text.strip()\n",
    "        # print(name)\n",
    "        # print(\"-\"*90)\n",
    "        ## 상세보기 url\n",
    "        viewEl = item.select(\".view\")\n",
    "        view = viewEl[0].attrs['href']\n",
    "\n",
    "        \n",
    "        # print(view)\n",
    "        ## 가져온 주소는 /sookmyungkr/1012/subview.do 인데 외부에서 직접 접근할 때는 풀 주소가 필요함\n",
    "        ## https://www.sookmyung.ac.kr/sookmyungkr/1011/subview.do 필요함\n",
    "        if view.find(\"https://www.sookmyung.ac.kr\") == -1 :\n",
    "            view = \"https://www.sookmyung.ac.kr\" + view\n",
    "        # print(view)\n",
    "        # print(\"-\"*90)\n",
    "        ## 학과소개 pdf링크\n",
    "        pdfEl = item.select('.info')\n",
    "        # print(infoEl)\n",
    "        # print(\"-\"*90)\n",
    "        pdf = pdfEl[0].attrs['href']\n",
    "\n",
    "        ## 학과 홈페이지 \n",
    "        homepageEl = item.select('.homepage')\n",
    "        # print(homepageEl)\n",
    "        # print(\"-\"*90)\n",
    "        homepage = homepageEl[0].attrs['href']\n",
    "        # print(homepage)\n",
    "        ## 수집한 값들을 딕셔너리에 묶기 \n",
    "        college_dict = {\n",
    "            '학과이름' : name,\n",
    "            '상세페이지' : view,\n",
    "            '홈페이지' : homepage\n",
    "        }\n",
    "        # -------------------------------------------------\n",
    "\n",
    "        # 상세보기 url을 새롭게 수집(시작)\n",
    "\n",
    "        # -------------------------------------------------\n",
    "        \n",
    "        r= session.get(view)\n",
    "        if r.status_code!=200 :\n",
    "            # 200이 아니면 에러코드와 에러메세지 출력\n",
    "            msg = \"[%d Error] %s 에러가 발생함\" % (r.status_code,r.reason)\n",
    "            # 에러를 강제로 생성시킨다.\n",
    "            print(msg)\n",
    "            continue ## 학과홈페이지 로딩하다가 에러나면 그냥 넘기기 위해서 continue\n",
    "        r.encoding = 'utf-8'\n",
    "\n",
    "        detailSoup = BeautifulSoup(r.text)\n",
    "        # print(detailSoup)\n",
    "        ## 같은 구조를 갖느 전화번호, 팩스번호, 위치, 이메일주소를 가져온다. \n",
    "        infoEl = detailSoup.select(\".college_info_data dl\")\n",
    "        # print(infoEl)\n",
    "        # print(\"-\"*90)\n",
    "        for info in infoEl :\n",
    "            dt = info.select(\"dt\")[0].text.replace(\":\",'').strip()\n",
    "            # print(dt)\n",
    "            dd =info.select(\"dd\")[0].text.replace(\":\",\"\").strip()\n",
    "            # print(dd)\n",
    "            # print(\"-\"*90)\n",
    "            college_dict[dt] = dd\n",
    "        # -------------------------------------------------\n",
    "\n",
    "        # 상세보기 url을 새롭게 수집 (끝)\n",
    "\n",
    "        # -------------------------------------------------\n",
    "        ## 수집한 값들을 리스트에 append \n",
    "        \n",
    "        ## pdf 파일 다운로드 + 저장 -> url 저장하고있는 변수는 pdf\n",
    "        print(pdf)\n",
    "        r=session.get(pdf, stream = True)\n",
    "        if pdf.find(\".pdf\") > -1 : ## 없으면pdf가 없으면 -1 리턴하는데 .pdf 있어야 다운 받으셈 \n",
    "            #https://admission.sookmyung.ac.kr/enter/pdf/major/Sookmyung_Major_01_2022.pdf 다운받는 링크임\n",
    "            r=session.get(pdf, stream = True)\n",
    "            if r.status_code == 200 :\n",
    "                r.encoding = \"utf-8\"\n",
    "                with open(\"%s.pdf\" % name,'wb') as f :\n",
    "                    f.write(r.raw.read())\n",
    "            \n",
    "        학과목록_리스트.append(college_dict)\n",
    "# print(학과목록_리스트)\n",
    "df = DataFrame(학과목록_리스트)\n",
    "df.to_excel(\"result.xlsx\")\n",
    "df"
   ]
  },
  {
   "cell_type": "code",
   "execution_count": null,
   "metadata": {},
   "outputs": [],
   "source": []
  },
  {
   "cell_type": "code",
   "execution_count": null,
   "metadata": {},
   "outputs": [],
   "source": []
  }
 ],
 "metadata": {
  "kernelspec": {
   "display_name": "Python 3",
   "language": "python",
   "name": "python3"
  },
  "language_info": {
   "codemirror_mode": {
    "name": "ipython",
    "version": 3
   },
   "file_extension": ".py",
   "mimetype": "text/x-python",
   "name": "python",
   "nbconvert_exporter": "python",
   "pygments_lexer": "ipython3",
   "version": "3.11.3"
  },
  "orig_nbformat": 4
 },
 "nbformat": 4,
 "nbformat_minor": 2
}

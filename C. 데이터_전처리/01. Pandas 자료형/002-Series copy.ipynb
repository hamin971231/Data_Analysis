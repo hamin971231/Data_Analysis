{
 "cells": [
  {
   "attachments": {},
   "cell_type": "markdown",
   "metadata": {},
   "source": [
    "# Series 자료형\n",
    "\n",
    "#01. Pandas 개요\n",
    "\n",
    "- 표현이 풍부한 데이터 구조를 제공하는 파이선 패키지\n",
    "- 데이터 분석을 위한 고수준의 객체를 사용할 수 있다 .\n",
    "\n",
    "\n",
    "\n",
    "#### 1) 판다스가 사용되는 경우\n",
    "\n",
    "- SQL 테이블 또는 엑셀과 같은 테이블 형식\n",
    "- 시계열 데이터\n",
    "- 통계 테이터 \n",
    "\n",
    "    -> 표형식의 데이터 다룸\n",
    "\n",
    "\n",
    "시리즈 ( 1차원)과 데이터 프레임\n"
   ]
  },
  {
   "attachments": {},
   "cell_type": "markdown",
   "metadata": {},
   "source": [
    "### 2) 판다스 데이터 구조\n",
    "\n",
    "- 시리즈 : 균일한 유형의 배열로 표시된 1차원 데이터\n",
    "- 데이터 프레임 : 행과 열이 있는 크기가 가변적인 테이블 형식의 2차원 데이터"
   ]
  },
  {
   "attachments": {},
   "cell_type": "markdown",
   "metadata": {},
   "source": [
    "### 3) 필요한 패키지\n"
   ]
  },
  {
   "cell_type": "code",
   "execution_count": 2,
   "metadata": {},
   "outputs": [],
   "source": [
    "import pandas \n"
   ]
  },
  {
   "attachments": {},
   "cell_type": "markdown",
   "metadata": {},
   "source": [
    "### #02. Series 자료형\n",
    "\n",
    "#### 1) Series 자료형의 구조 \n"
   ]
  },
  {
   "cell_type": "code",
   "execution_count": 7,
   "metadata": {},
   "outputs": [
    {
     "name": "stdout",
     "output_type": "stream",
     "text": [
      "[0, 1, 2, 3, 4]\n",
      "3    70\n",
      "dtype: int64\n",
      "1    30\n",
      "2    50\n",
      "dtype: int64\n"
     ]
    }
   ],
   "source": [
    "\n",
    "items = [10,30,50,70,90]\n",
    "column = pandas.Series(items)\n",
    "column\n",
    "\n",
    "\n",
    "in1=list(column.index)\n",
    "print(in1)\n",
    "in3 = column[(column>50) & (column <90)]\n",
    "print(in3)\n",
    "in2 = column[column<70][column>10]\n",
    "print(in2)"
   ]
  },
  {
   "attachments": {},
   "cell_type": "markdown",
   "metadata": {},
   "source": [
    "#### 2) Series 연산"
   ]
  },
  {
   "cell_type": "code",
   "execution_count": 10,
   "metadata": {},
   "outputs": [
    {
     "name": "stdout",
     "output_type": "stream",
     "text": [
      "sat    58000\n",
      "sun    62000\n",
      "dtype: int64\n"
     ]
    }
   ],
   "source": [
    "## 인덱스를 지정하면서 시리즈 만들기\n",
    "\n",
    "week1 = pandas.Series([29000,31000],index = ['sat','sun'])\n",
    "print(week1+week1)"
   ]
  },
  {
   "cell_type": "code",
   "execution_count": null,
   "metadata": {},
   "outputs": [],
   "source": []
  }
 ],
 "metadata": {
  "kernelspec": {
   "display_name": "Python 3",
   "language": "python",
   "name": "python3"
  },
  "language_info": {
   "codemirror_mode": {
    "name": "ipython",
    "version": 3
   },
   "file_extension": ".py",
   "mimetype": "text/x-python",
   "name": "python",
   "nbconvert_exporter": "python",
   "pygments_lexer": "ipython3",
   "version": "3.11.3"
  },
  "orig_nbformat": 4
 },
 "nbformat": 4,
 "nbformat_minor": 2
}

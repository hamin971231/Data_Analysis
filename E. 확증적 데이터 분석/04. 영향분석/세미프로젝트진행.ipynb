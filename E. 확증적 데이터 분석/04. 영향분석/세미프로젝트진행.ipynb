{
 "cells": [
  {
   "cell_type": "markdown",
   "metadata": {},
   "source": [
    "# 세미 프로잭트\n",
    "## #01. 작업준비\n",
    "### 데이터 불러오기"
   ]
  },
  {
   "cell_type": "code",
   "execution_count": 1,
   "metadata": {},
   "outputs": [],
   "source": [
    "import pandas as pd\n",
    "import numpy as np\n",
    "import matplotlib.pyplot as plt\n",
    "import seaborn as sns\n",
    "import sys\n",
    "import os\n",
    "import scipy.stats as stats\n",
    "\n"
   ]
  },
  {
   "cell_type": "code",
   "execution_count": 2,
   "metadata": {},
   "outputs": [
    {
     "data": {
      "text/html": [
       "<div>\n",
       "<style scoped>\n",
       "    .dataframe tbody tr th:only-of-type {\n",
       "        vertical-align: middle;\n",
       "    }\n",
       "\n",
       "    .dataframe tbody tr th {\n",
       "        vertical-align: top;\n",
       "    }\n",
       "\n",
       "    .dataframe thead th {\n",
       "        text-align: right;\n",
       "    }\n",
       "</style>\n",
       "<table border=\"1\" class=\"dataframe\">\n",
       "  <thead>\n",
       "    <tr style=\"text-align: right;\">\n",
       "      <th></th>\n",
       "      <th>Unnamed: 0</th>\n",
       "      <th>Q1</th>\n",
       "      <th>Q2</th>\n",
       "      <th>Q3</th>\n",
       "      <th>Q4</th>\n",
       "      <th>Q5</th>\n",
       "      <th>Q6</th>\n",
       "      <th>Q7</th>\n",
       "      <th>Q8</th>\n",
       "      <th>Q9</th>\n",
       "      <th>...</th>\n",
       "      <th>income</th>\n",
       "      <th>loan1</th>\n",
       "      <th>loan2</th>\n",
       "      <th>loan3</th>\n",
       "      <th>loan5</th>\n",
       "      <th>loan6</th>\n",
       "      <th>loan7</th>\n",
       "      <th>loan8</th>\n",
       "      <th>y_total</th>\n",
       "      <th>y_train</th>\n",
       "    </tr>\n",
       "  </thead>\n",
       "  <tbody>\n",
       "    <tr>\n",
       "      <th>0</th>\n",
       "      <td>0</td>\n",
       "      <td>2</td>\n",
       "      <td>3</td>\n",
       "      <td>1</td>\n",
       "      <td>2</td>\n",
       "      <td>2</td>\n",
       "      <td>2</td>\n",
       "      <td>3</td>\n",
       "      <td>1</td>\n",
       "      <td>1</td>\n",
       "      <td>...</td>\n",
       "      <td>405.0</td>\n",
       "      <td>10000</td>\n",
       "      <td>0</td>\n",
       "      <td>0</td>\n",
       "      <td>0</td>\n",
       "      <td>0</td>\n",
       "      <td>0</td>\n",
       "      <td>350.0</td>\n",
       "      <td>20</td>\n",
       "      <td>1</td>\n",
       "    </tr>\n",
       "    <tr>\n",
       "      <th>1</th>\n",
       "      <td>1</td>\n",
       "      <td>3</td>\n",
       "      <td>3</td>\n",
       "      <td>3</td>\n",
       "      <td>3</td>\n",
       "      <td>3</td>\n",
       "      <td>3</td>\n",
       "      <td>3</td>\n",
       "      <td>1</td>\n",
       "      <td>3</td>\n",
       "      <td>...</td>\n",
       "      <td>2788.0</td>\n",
       "      <td>0</td>\n",
       "      <td>0</td>\n",
       "      <td>0</td>\n",
       "      <td>0</td>\n",
       "      <td>0</td>\n",
       "      <td>0</td>\n",
       "      <td>0.0</td>\n",
       "      <td>29</td>\n",
       "      <td>1</td>\n",
       "    </tr>\n",
       "    <tr>\n",
       "      <th>2</th>\n",
       "      <td>2</td>\n",
       "      <td>1</td>\n",
       "      <td>4</td>\n",
       "      <td>1</td>\n",
       "      <td>1</td>\n",
       "      <td>2</td>\n",
       "      <td>1</td>\n",
       "      <td>4</td>\n",
       "      <td>1</td>\n",
       "      <td>1</td>\n",
       "      <td>...</td>\n",
       "      <td>2304.0</td>\n",
       "      <td>14000</td>\n",
       "      <td>6500</td>\n",
       "      <td>0</td>\n",
       "      <td>0</td>\n",
       "      <td>0</td>\n",
       "      <td>720</td>\n",
       "      <td>0.0</td>\n",
       "      <td>18</td>\n",
       "      <td>0</td>\n",
       "    </tr>\n",
       "    <tr>\n",
       "      <th>3</th>\n",
       "      <td>3</td>\n",
       "      <td>1</td>\n",
       "      <td>4</td>\n",
       "      <td>1</td>\n",
       "      <td>2</td>\n",
       "      <td>2</td>\n",
       "      <td>2</td>\n",
       "      <td>4</td>\n",
       "      <td>1</td>\n",
       "      <td>1</td>\n",
       "      <td>...</td>\n",
       "      <td>5231.0</td>\n",
       "      <td>0</td>\n",
       "      <td>0</td>\n",
       "      <td>0</td>\n",
       "      <td>0</td>\n",
       "      <td>0</td>\n",
       "      <td>0</td>\n",
       "      <td>0.0</td>\n",
       "      <td>20</td>\n",
       "      <td>1</td>\n",
       "    </tr>\n",
       "    <tr>\n",
       "      <th>4</th>\n",
       "      <td>4</td>\n",
       "      <td>1</td>\n",
       "      <td>4</td>\n",
       "      <td>1</td>\n",
       "      <td>3</td>\n",
       "      <td>1</td>\n",
       "      <td>1</td>\n",
       "      <td>4</td>\n",
       "      <td>1</td>\n",
       "      <td>1</td>\n",
       "      <td>...</td>\n",
       "      <td>5231.0</td>\n",
       "      <td>0</td>\n",
       "      <td>0</td>\n",
       "      <td>0</td>\n",
       "      <td>0</td>\n",
       "      <td>0</td>\n",
       "      <td>0</td>\n",
       "      <td>0.0</td>\n",
       "      <td>21</td>\n",
       "      <td>1</td>\n",
       "    </tr>\n",
       "  </tbody>\n",
       "</table>\n",
       "<p>5 rows × 39 columns</p>\n",
       "</div>"
      ],
      "text/plain": [
       "   Unnamed: 0  Q1  Q2  Q3  Q4  Q5  Q6  Q7  Q8  Q9  ...  income  loan1  loan2  \\\n",
       "0           0   2   3   1   2   2   2   3   1   1  ...   405.0  10000      0   \n",
       "1           1   3   3   3   3   3   3   3   1   3  ...  2788.0      0      0   \n",
       "2           2   1   4   1   1   2   1   4   1   1  ...  2304.0  14000   6500   \n",
       "3           3   1   4   1   2   2   2   4   1   1  ...  5231.0      0      0   \n",
       "4           4   1   4   1   3   1   1   4   1   1  ...  5231.0      0      0   \n",
       "\n",
       "   loan3  loan5  loan6  loan7  loan8  y_total  y_train  \n",
       "0      0      0      0      0  350.0       20        1  \n",
       "1      0      0      0      0    0.0       29        1  \n",
       "2      0      0      0    720    0.0       18        0  \n",
       "3      0      0      0      0    0.0       20        1  \n",
       "4      0      0      0      0    0.0       21        1  \n",
       "\n",
       "[5 rows x 39 columns]"
      ]
     },
     "execution_count": 2,
     "metadata": {},
     "output_type": "execute_result"
    }
   ],
   "source": [
    "df = pd.read_excel(\"마지막데이터.xlsx\")\n",
    "df.head()"
   ]
  },
  {
   "cell_type": "code",
   "execution_count": 3,
   "metadata": {},
   "outputs": [
    {
     "data": {
      "text/html": [
       "<div>\n",
       "<style scoped>\n",
       "    .dataframe tbody tr th:only-of-type {\n",
       "        vertical-align: middle;\n",
       "    }\n",
       "\n",
       "    .dataframe tbody tr th {\n",
       "        vertical-align: top;\n",
       "    }\n",
       "\n",
       "    .dataframe thead th {\n",
       "        text-align: right;\n",
       "    }\n",
       "</style>\n",
       "<table border=\"1\" class=\"dataframe\">\n",
       "  <thead>\n",
       "    <tr style=\"text-align: right;\">\n",
       "      <th></th>\n",
       "      <th>Unnamed: 0</th>\n",
       "      <th>Q1</th>\n",
       "      <th>Q2</th>\n",
       "      <th>Q3</th>\n",
       "      <th>Q4</th>\n",
       "      <th>Q5</th>\n",
       "      <th>Q6</th>\n",
       "      <th>Q7</th>\n",
       "      <th>Q8</th>\n",
       "      <th>Q9</th>\n",
       "      <th>...</th>\n",
       "      <th>loan1</th>\n",
       "      <th>loan2</th>\n",
       "      <th>loan3</th>\n",
       "      <th>loan5</th>\n",
       "      <th>loan6</th>\n",
       "      <th>loan7</th>\n",
       "      <th>loan8</th>\n",
       "      <th>y_total</th>\n",
       "      <th>y_train</th>\n",
       "      <th>debt</th>\n",
       "    </tr>\n",
       "  </thead>\n",
       "  <tbody>\n",
       "    <tr>\n",
       "      <th>0</th>\n",
       "      <td>0</td>\n",
       "      <td>2</td>\n",
       "      <td>3</td>\n",
       "      <td>1</td>\n",
       "      <td>2</td>\n",
       "      <td>2</td>\n",
       "      <td>2</td>\n",
       "      <td>3</td>\n",
       "      <td>1</td>\n",
       "      <td>1</td>\n",
       "      <td>...</td>\n",
       "      <td>10000</td>\n",
       "      <td>0</td>\n",
       "      <td>0</td>\n",
       "      <td>0</td>\n",
       "      <td>0</td>\n",
       "      <td>0</td>\n",
       "      <td>350.0</td>\n",
       "      <td>20</td>\n",
       "      <td>1</td>\n",
       "      <td>10350.0</td>\n",
       "    </tr>\n",
       "    <tr>\n",
       "      <th>1</th>\n",
       "      <td>1</td>\n",
       "      <td>3</td>\n",
       "      <td>3</td>\n",
       "      <td>3</td>\n",
       "      <td>3</td>\n",
       "      <td>3</td>\n",
       "      <td>3</td>\n",
       "      <td>3</td>\n",
       "      <td>1</td>\n",
       "      <td>3</td>\n",
       "      <td>...</td>\n",
       "      <td>0</td>\n",
       "      <td>0</td>\n",
       "      <td>0</td>\n",
       "      <td>0</td>\n",
       "      <td>0</td>\n",
       "      <td>0</td>\n",
       "      <td>0.0</td>\n",
       "      <td>29</td>\n",
       "      <td>1</td>\n",
       "      <td>0.0</td>\n",
       "    </tr>\n",
       "    <tr>\n",
       "      <th>2</th>\n",
       "      <td>2</td>\n",
       "      <td>1</td>\n",
       "      <td>4</td>\n",
       "      <td>1</td>\n",
       "      <td>1</td>\n",
       "      <td>2</td>\n",
       "      <td>1</td>\n",
       "      <td>4</td>\n",
       "      <td>1</td>\n",
       "      <td>1</td>\n",
       "      <td>...</td>\n",
       "      <td>14000</td>\n",
       "      <td>6500</td>\n",
       "      <td>0</td>\n",
       "      <td>0</td>\n",
       "      <td>0</td>\n",
       "      <td>720</td>\n",
       "      <td>0.0</td>\n",
       "      <td>18</td>\n",
       "      <td>0</td>\n",
       "      <td>21220.0</td>\n",
       "    </tr>\n",
       "    <tr>\n",
       "      <th>3</th>\n",
       "      <td>3</td>\n",
       "      <td>1</td>\n",
       "      <td>4</td>\n",
       "      <td>1</td>\n",
       "      <td>2</td>\n",
       "      <td>2</td>\n",
       "      <td>2</td>\n",
       "      <td>4</td>\n",
       "      <td>1</td>\n",
       "      <td>1</td>\n",
       "      <td>...</td>\n",
       "      <td>0</td>\n",
       "      <td>0</td>\n",
       "      <td>0</td>\n",
       "      <td>0</td>\n",
       "      <td>0</td>\n",
       "      <td>0</td>\n",
       "      <td>0.0</td>\n",
       "      <td>20</td>\n",
       "      <td>1</td>\n",
       "      <td>0.0</td>\n",
       "    </tr>\n",
       "    <tr>\n",
       "      <th>4</th>\n",
       "      <td>4</td>\n",
       "      <td>1</td>\n",
       "      <td>4</td>\n",
       "      <td>1</td>\n",
       "      <td>3</td>\n",
       "      <td>1</td>\n",
       "      <td>1</td>\n",
       "      <td>4</td>\n",
       "      <td>1</td>\n",
       "      <td>1</td>\n",
       "      <td>...</td>\n",
       "      <td>0</td>\n",
       "      <td>0</td>\n",
       "      <td>0</td>\n",
       "      <td>0</td>\n",
       "      <td>0</td>\n",
       "      <td>0</td>\n",
       "      <td>0.0</td>\n",
       "      <td>21</td>\n",
       "      <td>1</td>\n",
       "      <td>0.0</td>\n",
       "    </tr>\n",
       "  </tbody>\n",
       "</table>\n",
       "<p>5 rows × 40 columns</p>\n",
       "</div>"
      ],
      "text/plain": [
       "   Unnamed: 0  Q1  Q2  Q3  Q4  Q5  Q6  Q7  Q8  Q9  ...  loan1  loan2  loan3  \\\n",
       "0           0   2   3   1   2   2   2   3   1   1  ...  10000      0      0   \n",
       "1           1   3   3   3   3   3   3   3   1   3  ...      0      0      0   \n",
       "2           2   1   4   1   1   2   1   4   1   1  ...  14000   6500      0   \n",
       "3           3   1   4   1   2   2   2   4   1   1  ...      0      0      0   \n",
       "4           4   1   4   1   3   1   1   4   1   1  ...      0      0      0   \n",
       "\n",
       "   loan5  loan6  loan7  loan8  y_total  y_train     debt  \n",
       "0      0      0      0  350.0       20        1  10350.0  \n",
       "1      0      0      0    0.0       29        1      0.0  \n",
       "2      0      0    720    0.0       18        0  21220.0  \n",
       "3      0      0      0    0.0       20        1      0.0  \n",
       "4      0      0      0    0.0       21        1      0.0  \n",
       "\n",
       "[5 rows x 40 columns]"
      ]
     },
     "execution_count": 3,
     "metadata": {},
     "output_type": "execute_result"
    }
   ],
   "source": [
    "df['debt'] = df['loan1']+df['loan2']+df['loan3']+df['loan5']+df['loan6']+df['loan7']+df['loan8']\n",
    "df.head()\n"
   ]
  },
  {
   "cell_type": "code",
   "execution_count": 4,
   "metadata": {},
   "outputs": [
    {
     "data": {
      "text/html": [
       "<div>\n",
       "<style scoped>\n",
       "    .dataframe tbody tr th:only-of-type {\n",
       "        vertical-align: middle;\n",
       "    }\n",
       "\n",
       "    .dataframe tbody tr th {\n",
       "        vertical-align: top;\n",
       "    }\n",
       "\n",
       "    .dataframe thead th {\n",
       "        text-align: right;\n",
       "    }\n",
       "</style>\n",
       "<table border=\"1\" class=\"dataframe\">\n",
       "  <thead>\n",
       "    <tr style=\"text-align: right;\">\n",
       "      <th></th>\n",
       "      <th>gen</th>\n",
       "      <th>age</th>\n",
       "      <th>religion</th>\n",
       "      <th>edu</th>\n",
       "      <th>sm_year</th>\n",
       "      <th>sm_state</th>\n",
       "      <th>sm_day</th>\n",
       "      <th>dr_mean_year</th>\n",
       "      <th>dr_6cup</th>\n",
       "      <th>dr_hurt</th>\n",
       "      <th>...</th>\n",
       "      <th>loan1</th>\n",
       "      <th>loan2</th>\n",
       "      <th>loan3</th>\n",
       "      <th>loan5</th>\n",
       "      <th>loan6</th>\n",
       "      <th>loan7</th>\n",
       "      <th>loan8</th>\n",
       "      <th>y_total</th>\n",
       "      <th>y_train</th>\n",
       "      <th>debt</th>\n",
       "    </tr>\n",
       "  </thead>\n",
       "  <tbody>\n",
       "    <tr>\n",
       "      <th>0</th>\n",
       "      <td>2</td>\n",
       "      <td>1945</td>\n",
       "      <td>1</td>\n",
       "      <td>4</td>\n",
       "      <td>NaN</td>\n",
       "      <td>2</td>\n",
       "      <td>NaN</td>\n",
       "      <td>5</td>\n",
       "      <td>NaN</td>\n",
       "      <td>NaN</td>\n",
       "      <td>...</td>\n",
       "      <td>10000</td>\n",
       "      <td>0</td>\n",
       "      <td>0</td>\n",
       "      <td>0</td>\n",
       "      <td>0</td>\n",
       "      <td>0</td>\n",
       "      <td>350.0</td>\n",
       "      <td>20</td>\n",
       "      <td>1</td>\n",
       "      <td>10350.0</td>\n",
       "    </tr>\n",
       "    <tr>\n",
       "      <th>1</th>\n",
       "      <td>1</td>\n",
       "      <td>1948</td>\n",
       "      <td>2</td>\n",
       "      <td>3</td>\n",
       "      <td>NaN</td>\n",
       "      <td>2</td>\n",
       "      <td>NaN</td>\n",
       "      <td>5</td>\n",
       "      <td>NaN</td>\n",
       "      <td>NaN</td>\n",
       "      <td>...</td>\n",
       "      <td>0</td>\n",
       "      <td>0</td>\n",
       "      <td>0</td>\n",
       "      <td>0</td>\n",
       "      <td>0</td>\n",
       "      <td>0</td>\n",
       "      <td>0.0</td>\n",
       "      <td>29</td>\n",
       "      <td>1</td>\n",
       "      <td>0.0</td>\n",
       "    </tr>\n",
       "    <tr>\n",
       "      <th>2</th>\n",
       "      <td>1</td>\n",
       "      <td>1942</td>\n",
       "      <td>1</td>\n",
       "      <td>7</td>\n",
       "      <td>NaN</td>\n",
       "      <td>2</td>\n",
       "      <td>NaN</td>\n",
       "      <td>5</td>\n",
       "      <td>NaN</td>\n",
       "      <td>NaN</td>\n",
       "      <td>...</td>\n",
       "      <td>14000</td>\n",
       "      <td>6500</td>\n",
       "      <td>0</td>\n",
       "      <td>0</td>\n",
       "      <td>0</td>\n",
       "      <td>720</td>\n",
       "      <td>0.0</td>\n",
       "      <td>18</td>\n",
       "      <td>0</td>\n",
       "      <td>21220.0</td>\n",
       "    </tr>\n",
       "    <tr>\n",
       "      <th>3</th>\n",
       "      <td>1</td>\n",
       "      <td>1962</td>\n",
       "      <td>1</td>\n",
       "      <td>6</td>\n",
       "      <td>NaN</td>\n",
       "      <td>2</td>\n",
       "      <td>NaN</td>\n",
       "      <td>5</td>\n",
       "      <td>NaN</td>\n",
       "      <td>NaN</td>\n",
       "      <td>...</td>\n",
       "      <td>0</td>\n",
       "      <td>0</td>\n",
       "      <td>0</td>\n",
       "      <td>0</td>\n",
       "      <td>0</td>\n",
       "      <td>0</td>\n",
       "      <td>0.0</td>\n",
       "      <td>20</td>\n",
       "      <td>1</td>\n",
       "      <td>0.0</td>\n",
       "    </tr>\n",
       "    <tr>\n",
       "      <th>4</th>\n",
       "      <td>2</td>\n",
       "      <td>1963</td>\n",
       "      <td>1</td>\n",
       "      <td>5</td>\n",
       "      <td>NaN</td>\n",
       "      <td>2</td>\n",
       "      <td>NaN</td>\n",
       "      <td>5</td>\n",
       "      <td>NaN</td>\n",
       "      <td>NaN</td>\n",
       "      <td>...</td>\n",
       "      <td>0</td>\n",
       "      <td>0</td>\n",
       "      <td>0</td>\n",
       "      <td>0</td>\n",
       "      <td>0</td>\n",
       "      <td>0</td>\n",
       "      <td>0.0</td>\n",
       "      <td>21</td>\n",
       "      <td>1</td>\n",
       "      <td>0.0</td>\n",
       "    </tr>\n",
       "  </tbody>\n",
       "</table>\n",
       "<p>5 rows × 28 columns</p>\n",
       "</div>"
      ],
      "text/plain": [
       "   gen   age  religion  edu  sm_year  sm_state  sm_day  dr_mean_year  dr_6cup  \\\n",
       "0    2  1945         1    4      NaN         2     NaN             5      NaN   \n",
       "1    1  1948         2    3      NaN         2     NaN             5      NaN   \n",
       "2    1  1942         1    7      NaN         2     NaN             5      NaN   \n",
       "3    1  1962         1    6      NaN         2     NaN             5      NaN   \n",
       "4    2  1963         1    5      NaN         2     NaN             5      NaN   \n",
       "\n",
       "   dr_hurt  ...  loan1  loan2  loan3  loan5  loan6  loan7  loan8  y_total  \\\n",
       "0      NaN  ...  10000      0      0      0      0      0  350.0       20   \n",
       "1      NaN  ...      0      0      0      0      0      0    0.0       29   \n",
       "2      NaN  ...  14000   6500      0      0      0    720    0.0       18   \n",
       "3      NaN  ...      0      0      0      0      0      0    0.0       20   \n",
       "4      NaN  ...      0      0      0      0      0      0    0.0       21   \n",
       "\n",
       "   y_train     debt  \n",
       "0        1  10350.0  \n",
       "1        1      0.0  \n",
       "2        0  21220.0  \n",
       "3        1      0.0  \n",
       "4        1      0.0  \n",
       "\n",
       "[5 rows x 28 columns]"
      ]
     },
     "execution_count": 4,
     "metadata": {},
     "output_type": "execute_result"
    }
   ],
   "source": [
    "\n",
    "df = df.iloc[:,12:]\n",
    "df.head()"
   ]
  },
  {
   "cell_type": "code",
   "execution_count": 5,
   "metadata": {},
   "outputs": [
    {
     "data": {
      "text/html": [
       "<div>\n",
       "<style scoped>\n",
       "    .dataframe tbody tr th:only-of-type {\n",
       "        vertical-align: middle;\n",
       "    }\n",
       "\n",
       "    .dataframe tbody tr th {\n",
       "        vertical-align: top;\n",
       "    }\n",
       "\n",
       "    .dataframe thead th {\n",
       "        text-align: right;\n",
       "    }\n",
       "</style>\n",
       "<table border=\"1\" class=\"dataframe\">\n",
       "  <thead>\n",
       "    <tr style=\"text-align: right;\">\n",
       "      <th></th>\n",
       "      <th>loan1</th>\n",
       "      <th>loan2</th>\n",
       "      <th>loan3</th>\n",
       "      <th>loan5</th>\n",
       "      <th>loan6</th>\n",
       "      <th>loan7</th>\n",
       "      <th>loan8</th>\n",
       "    </tr>\n",
       "  </thead>\n",
       "  <tbody>\n",
       "    <tr>\n",
       "      <th>0</th>\n",
       "      <td>10000</td>\n",
       "      <td>0</td>\n",
       "      <td>0</td>\n",
       "      <td>0</td>\n",
       "      <td>0</td>\n",
       "      <td>0</td>\n",
       "      <td>350.0</td>\n",
       "    </tr>\n",
       "    <tr>\n",
       "      <th>1</th>\n",
       "      <td>0</td>\n",
       "      <td>0</td>\n",
       "      <td>0</td>\n",
       "      <td>0</td>\n",
       "      <td>0</td>\n",
       "      <td>0</td>\n",
       "      <td>0.0</td>\n",
       "    </tr>\n",
       "    <tr>\n",
       "      <th>2</th>\n",
       "      <td>14000</td>\n",
       "      <td>6500</td>\n",
       "      <td>0</td>\n",
       "      <td>0</td>\n",
       "      <td>0</td>\n",
       "      <td>720</td>\n",
       "      <td>0.0</td>\n",
       "    </tr>\n",
       "    <tr>\n",
       "      <th>3</th>\n",
       "      <td>0</td>\n",
       "      <td>0</td>\n",
       "      <td>0</td>\n",
       "      <td>0</td>\n",
       "      <td>0</td>\n",
       "      <td>0</td>\n",
       "      <td>0.0</td>\n",
       "    </tr>\n",
       "    <tr>\n",
       "      <th>4</th>\n",
       "      <td>0</td>\n",
       "      <td>0</td>\n",
       "      <td>0</td>\n",
       "      <td>0</td>\n",
       "      <td>0</td>\n",
       "      <td>0</td>\n",
       "      <td>0.0</td>\n",
       "    </tr>\n",
       "    <tr>\n",
       "      <th>...</th>\n",
       "      <td>...</td>\n",
       "      <td>...</td>\n",
       "      <td>...</td>\n",
       "      <td>...</td>\n",
       "      <td>...</td>\n",
       "      <td>...</td>\n",
       "      <td>...</td>\n",
       "    </tr>\n",
       "    <tr>\n",
       "      <th>13469</th>\n",
       "      <td>25947</td>\n",
       "      <td>0</td>\n",
       "      <td>0</td>\n",
       "      <td>0</td>\n",
       "      <td>0</td>\n",
       "      <td>67</td>\n",
       "      <td>0.0</td>\n",
       "    </tr>\n",
       "    <tr>\n",
       "      <th>13470</th>\n",
       "      <td>25947</td>\n",
       "      <td>0</td>\n",
       "      <td>0</td>\n",
       "      <td>0</td>\n",
       "      <td>0</td>\n",
       "      <td>67</td>\n",
       "      <td>0.0</td>\n",
       "    </tr>\n",
       "    <tr>\n",
       "      <th>13471</th>\n",
       "      <td>12000</td>\n",
       "      <td>0</td>\n",
       "      <td>0</td>\n",
       "      <td>0</td>\n",
       "      <td>0</td>\n",
       "      <td>360</td>\n",
       "      <td>0.0</td>\n",
       "    </tr>\n",
       "    <tr>\n",
       "      <th>13472</th>\n",
       "      <td>1880</td>\n",
       "      <td>0</td>\n",
       "      <td>0</td>\n",
       "      <td>0</td>\n",
       "      <td>0</td>\n",
       "      <td>0</td>\n",
       "      <td>22.0</td>\n",
       "    </tr>\n",
       "    <tr>\n",
       "      <th>13473</th>\n",
       "      <td>1880</td>\n",
       "      <td>0</td>\n",
       "      <td>0</td>\n",
       "      <td>0</td>\n",
       "      <td>0</td>\n",
       "      <td>0</td>\n",
       "      <td>22.0</td>\n",
       "    </tr>\n",
       "  </tbody>\n",
       "</table>\n",
       "<p>13474 rows × 7 columns</p>\n",
       "</div>"
      ],
      "text/plain": [
       "       loan1  loan2  loan3  loan5  loan6  loan7  loan8\n",
       "0      10000      0      0      0      0      0  350.0\n",
       "1          0      0      0      0      0      0    0.0\n",
       "2      14000   6500      0      0      0    720    0.0\n",
       "3          0      0      0      0      0      0    0.0\n",
       "4          0      0      0      0      0      0    0.0\n",
       "...      ...    ...    ...    ...    ...    ...    ...\n",
       "13469  25947      0      0      0      0     67    0.0\n",
       "13470  25947      0      0      0      0     67    0.0\n",
       "13471  12000      0      0      0      0    360    0.0\n",
       "13472   1880      0      0      0      0      0   22.0\n",
       "13473   1880      0      0      0      0      0   22.0\n",
       "\n",
       "[13474 rows x 7 columns]"
      ]
     },
     "execution_count": 5,
     "metadata": {},
     "output_type": "execute_result"
    }
   ],
   "source": [
    "df.iloc[:,[-10,-9,-8,-7,-6,-5,-4]]"
   ]
  },
  {
   "cell_type": "code",
   "execution_count": 6,
   "metadata": {},
   "outputs": [
    {
     "data": {
      "text/html": [
       "<div>\n",
       "<style scoped>\n",
       "    .dataframe tbody tr th:only-of-type {\n",
       "        vertical-align: middle;\n",
       "    }\n",
       "\n",
       "    .dataframe tbody tr th {\n",
       "        vertical-align: top;\n",
       "    }\n",
       "\n",
       "    .dataframe thead th {\n",
       "        text-align: right;\n",
       "    }\n",
       "</style>\n",
       "<table border=\"1\" class=\"dataframe\">\n",
       "  <thead>\n",
       "    <tr style=\"text-align: right;\">\n",
       "      <th></th>\n",
       "      <th>gen</th>\n",
       "      <th>age</th>\n",
       "      <th>religion</th>\n",
       "      <th>edu</th>\n",
       "      <th>sm_year</th>\n",
       "      <th>sm_state</th>\n",
       "      <th>sm_day</th>\n",
       "      <th>dr_mean_year</th>\n",
       "      <th>dr_6cup</th>\n",
       "      <th>dr_hurt</th>\n",
       "      <th>...</th>\n",
       "      <th>preg_experience</th>\n",
       "      <th>health_state</th>\n",
       "      <th>disabled</th>\n",
       "      <th>work_state</th>\n",
       "      <th>work_code</th>\n",
       "      <th>region</th>\n",
       "      <th>income</th>\n",
       "      <th>y_total</th>\n",
       "      <th>y_train</th>\n",
       "      <th>debt</th>\n",
       "    </tr>\n",
       "  </thead>\n",
       "  <tbody>\n",
       "    <tr>\n",
       "      <th>0</th>\n",
       "      <td>2</td>\n",
       "      <td>1945</td>\n",
       "      <td>1</td>\n",
       "      <td>4</td>\n",
       "      <td>NaN</td>\n",
       "      <td>2</td>\n",
       "      <td>NaN</td>\n",
       "      <td>5</td>\n",
       "      <td>NaN</td>\n",
       "      <td>NaN</td>\n",
       "      <td>...</td>\n",
       "      <td>2</td>\n",
       "      <td>4</td>\n",
       "      <td>0</td>\n",
       "      <td>4</td>\n",
       "      <td>NaN</td>\n",
       "      <td>1</td>\n",
       "      <td>405.0</td>\n",
       "      <td>20</td>\n",
       "      <td>1</td>\n",
       "      <td>10350.0</td>\n",
       "    </tr>\n",
       "    <tr>\n",
       "      <th>1</th>\n",
       "      <td>1</td>\n",
       "      <td>1948</td>\n",
       "      <td>2</td>\n",
       "      <td>3</td>\n",
       "      <td>NaN</td>\n",
       "      <td>2</td>\n",
       "      <td>NaN</td>\n",
       "      <td>5</td>\n",
       "      <td>NaN</td>\n",
       "      <td>NaN</td>\n",
       "      <td>...</td>\n",
       "      <td>0</td>\n",
       "      <td>5</td>\n",
       "      <td>0</td>\n",
       "      <td>1</td>\n",
       "      <td>942.0</td>\n",
       "      <td>1</td>\n",
       "      <td>2788.0</td>\n",
       "      <td>29</td>\n",
       "      <td>1</td>\n",
       "      <td>0.0</td>\n",
       "    </tr>\n",
       "    <tr>\n",
       "      <th>2</th>\n",
       "      <td>1</td>\n",
       "      <td>1942</td>\n",
       "      <td>1</td>\n",
       "      <td>7</td>\n",
       "      <td>NaN</td>\n",
       "      <td>2</td>\n",
       "      <td>NaN</td>\n",
       "      <td>5</td>\n",
       "      <td>NaN</td>\n",
       "      <td>NaN</td>\n",
       "      <td>...</td>\n",
       "      <td>0</td>\n",
       "      <td>2</td>\n",
       "      <td>0</td>\n",
       "      <td>1</td>\n",
       "      <td>762.0</td>\n",
       "      <td>1</td>\n",
       "      <td>2304.0</td>\n",
       "      <td>18</td>\n",
       "      <td>0</td>\n",
       "      <td>21220.0</td>\n",
       "    </tr>\n",
       "    <tr>\n",
       "      <th>3</th>\n",
       "      <td>1</td>\n",
       "      <td>1962</td>\n",
       "      <td>1</td>\n",
       "      <td>6</td>\n",
       "      <td>NaN</td>\n",
       "      <td>2</td>\n",
       "      <td>NaN</td>\n",
       "      <td>5</td>\n",
       "      <td>NaN</td>\n",
       "      <td>NaN</td>\n",
       "      <td>...</td>\n",
       "      <td>0</td>\n",
       "      <td>2</td>\n",
       "      <td>0</td>\n",
       "      <td>1</td>\n",
       "      <td>855.0</td>\n",
       "      <td>1</td>\n",
       "      <td>5231.0</td>\n",
       "      <td>20</td>\n",
       "      <td>1</td>\n",
       "      <td>0.0</td>\n",
       "    </tr>\n",
       "    <tr>\n",
       "      <th>4</th>\n",
       "      <td>2</td>\n",
       "      <td>1963</td>\n",
       "      <td>1</td>\n",
       "      <td>5</td>\n",
       "      <td>NaN</td>\n",
       "      <td>2</td>\n",
       "      <td>NaN</td>\n",
       "      <td>5</td>\n",
       "      <td>NaN</td>\n",
       "      <td>NaN</td>\n",
       "      <td>...</td>\n",
       "      <td>2</td>\n",
       "      <td>2</td>\n",
       "      <td>0</td>\n",
       "      <td>1</td>\n",
       "      <td>399.0</td>\n",
       "      <td>1</td>\n",
       "      <td>5231.0</td>\n",
       "      <td>21</td>\n",
       "      <td>1</td>\n",
       "      <td>0.0</td>\n",
       "    </tr>\n",
       "  </tbody>\n",
       "</table>\n",
       "<p>5 rows × 21 columns</p>\n",
       "</div>"
      ],
      "text/plain": [
       "   gen   age  religion  edu  sm_year  sm_state  sm_day  dr_mean_year  dr_6cup  \\\n",
       "0    2  1945         1    4      NaN         2     NaN             5      NaN   \n",
       "1    1  1948         2    3      NaN         2     NaN             5      NaN   \n",
       "2    1  1942         1    7      NaN         2     NaN             5      NaN   \n",
       "3    1  1962         1    6      NaN         2     NaN             5      NaN   \n",
       "4    2  1963         1    5      NaN         2     NaN             5      NaN   \n",
       "\n",
       "   dr_hurt  ...  preg_experience  health_state  disabled  work_state  \\\n",
       "0      NaN  ...                2             4         0           4   \n",
       "1      NaN  ...                0             5         0           1   \n",
       "2      NaN  ...                0             2         0           1   \n",
       "3      NaN  ...                0             2         0           1   \n",
       "4      NaN  ...                2             2         0           1   \n",
       "\n",
       "   work_code  region  income  y_total  y_train     debt  \n",
       "0        NaN       1   405.0       20        1  10350.0  \n",
       "1      942.0       1  2788.0       29        1      0.0  \n",
       "2      762.0       1  2304.0       18        0  21220.0  \n",
       "3      855.0       1  5231.0       20        1      0.0  \n",
       "4      399.0       1  5231.0       21        1      0.0  \n",
       "\n",
       "[5 rows x 21 columns]"
      ]
     },
     "execution_count": 6,
     "metadata": {},
     "output_type": "execute_result"
    }
   ],
   "source": [
    "df = df.drop(df.iloc[:,[-10,-9,-8,-7,-6,-5,-4]],axis=1)\n",
    "df.head()\n"
   ]
  },
  {
   "cell_type": "code",
   "execution_count": null,
   "metadata": {},
   "outputs": [],
   "source": []
  },
  {
   "cell_type": "markdown",
   "metadata": {},
   "source": [
    "### 데이터 정제"
   ]
  },
  {
   "cell_type": "markdown",
   "metadata": {},
   "source": [
    "#### y값만 냄겨두기 "
   ]
  },
  {
   "cell_type": "code",
   "execution_count": null,
   "metadata": {},
   "outputs": [],
   "source": []
  },
  {
   "cell_type": "code",
   "execution_count": 7,
   "metadata": {},
   "outputs": [
    {
     "data": {
      "text/html": [
       "<div>\n",
       "<style scoped>\n",
       "    .dataframe tbody tr th:only-of-type {\n",
       "        vertical-align: middle;\n",
       "    }\n",
       "\n",
       "    .dataframe tbody tr th {\n",
       "        vertical-align: top;\n",
       "    }\n",
       "\n",
       "    .dataframe thead th {\n",
       "        text-align: right;\n",
       "    }\n",
       "</style>\n",
       "<table border=\"1\" class=\"dataframe\">\n",
       "  <thead>\n",
       "    <tr style=\"text-align: right;\">\n",
       "      <th></th>\n",
       "      <th>gen</th>\n",
       "      <th>age</th>\n",
       "      <th>religion</th>\n",
       "      <th>edu</th>\n",
       "      <th>sm_year</th>\n",
       "      <th>sm_state</th>\n",
       "      <th>sm_day</th>\n",
       "      <th>dr_mean_year</th>\n",
       "      <th>dr_6cup</th>\n",
       "      <th>dr_hurt</th>\n",
       "      <th>dr_worry</th>\n",
       "      <th>preg_experience</th>\n",
       "      <th>health_state</th>\n",
       "      <th>disabled</th>\n",
       "      <th>work_state</th>\n",
       "      <th>work_code</th>\n",
       "      <th>region</th>\n",
       "      <th>income</th>\n",
       "      <th>y_total</th>\n",
       "      <th>debt</th>\n",
       "    </tr>\n",
       "  </thead>\n",
       "  <tbody>\n",
       "    <tr>\n",
       "      <th>0</th>\n",
       "      <td>2</td>\n",
       "      <td>1945</td>\n",
       "      <td>1</td>\n",
       "      <td>4</td>\n",
       "      <td>NaN</td>\n",
       "      <td>2</td>\n",
       "      <td>NaN</td>\n",
       "      <td>5</td>\n",
       "      <td>NaN</td>\n",
       "      <td>NaN</td>\n",
       "      <td>NaN</td>\n",
       "      <td>2</td>\n",
       "      <td>4</td>\n",
       "      <td>0</td>\n",
       "      <td>4</td>\n",
       "      <td>NaN</td>\n",
       "      <td>1</td>\n",
       "      <td>405.0</td>\n",
       "      <td>20</td>\n",
       "      <td>10350.0</td>\n",
       "    </tr>\n",
       "    <tr>\n",
       "      <th>1</th>\n",
       "      <td>1</td>\n",
       "      <td>1948</td>\n",
       "      <td>2</td>\n",
       "      <td>3</td>\n",
       "      <td>NaN</td>\n",
       "      <td>2</td>\n",
       "      <td>NaN</td>\n",
       "      <td>5</td>\n",
       "      <td>NaN</td>\n",
       "      <td>NaN</td>\n",
       "      <td>NaN</td>\n",
       "      <td>0</td>\n",
       "      <td>5</td>\n",
       "      <td>0</td>\n",
       "      <td>1</td>\n",
       "      <td>942.0</td>\n",
       "      <td>1</td>\n",
       "      <td>2788.0</td>\n",
       "      <td>29</td>\n",
       "      <td>0.0</td>\n",
       "    </tr>\n",
       "    <tr>\n",
       "      <th>2</th>\n",
       "      <td>1</td>\n",
       "      <td>1942</td>\n",
       "      <td>1</td>\n",
       "      <td>7</td>\n",
       "      <td>NaN</td>\n",
       "      <td>2</td>\n",
       "      <td>NaN</td>\n",
       "      <td>5</td>\n",
       "      <td>NaN</td>\n",
       "      <td>NaN</td>\n",
       "      <td>NaN</td>\n",
       "      <td>0</td>\n",
       "      <td>2</td>\n",
       "      <td>0</td>\n",
       "      <td>1</td>\n",
       "      <td>762.0</td>\n",
       "      <td>1</td>\n",
       "      <td>2304.0</td>\n",
       "      <td>18</td>\n",
       "      <td>21220.0</td>\n",
       "    </tr>\n",
       "    <tr>\n",
       "      <th>3</th>\n",
       "      <td>1</td>\n",
       "      <td>1962</td>\n",
       "      <td>1</td>\n",
       "      <td>6</td>\n",
       "      <td>NaN</td>\n",
       "      <td>2</td>\n",
       "      <td>NaN</td>\n",
       "      <td>5</td>\n",
       "      <td>NaN</td>\n",
       "      <td>NaN</td>\n",
       "      <td>NaN</td>\n",
       "      <td>0</td>\n",
       "      <td>2</td>\n",
       "      <td>0</td>\n",
       "      <td>1</td>\n",
       "      <td>855.0</td>\n",
       "      <td>1</td>\n",
       "      <td>5231.0</td>\n",
       "      <td>20</td>\n",
       "      <td>0.0</td>\n",
       "    </tr>\n",
       "    <tr>\n",
       "      <th>4</th>\n",
       "      <td>2</td>\n",
       "      <td>1963</td>\n",
       "      <td>1</td>\n",
       "      <td>5</td>\n",
       "      <td>NaN</td>\n",
       "      <td>2</td>\n",
       "      <td>NaN</td>\n",
       "      <td>5</td>\n",
       "      <td>NaN</td>\n",
       "      <td>NaN</td>\n",
       "      <td>NaN</td>\n",
       "      <td>2</td>\n",
       "      <td>2</td>\n",
       "      <td>0</td>\n",
       "      <td>1</td>\n",
       "      <td>399.0</td>\n",
       "      <td>1</td>\n",
       "      <td>5231.0</td>\n",
       "      <td>21</td>\n",
       "      <td>0.0</td>\n",
       "    </tr>\n",
       "  </tbody>\n",
       "</table>\n",
       "</div>"
      ],
      "text/plain": [
       "   gen   age  religion  edu  sm_year  sm_state  sm_day  dr_mean_year  dr_6cup  \\\n",
       "0    2  1945         1    4      NaN         2     NaN             5      NaN   \n",
       "1    1  1948         2    3      NaN         2     NaN             5      NaN   \n",
       "2    1  1942         1    7      NaN         2     NaN             5      NaN   \n",
       "3    1  1962         1    6      NaN         2     NaN             5      NaN   \n",
       "4    2  1963         1    5      NaN         2     NaN             5      NaN   \n",
       "\n",
       "   dr_hurt  dr_worry  preg_experience  health_state  disabled  work_state  \\\n",
       "0      NaN       NaN                2             4         0           4   \n",
       "1      NaN       NaN                0             5         0           1   \n",
       "2      NaN       NaN                0             2         0           1   \n",
       "3      NaN       NaN                0             2         0           1   \n",
       "4      NaN       NaN                2             2         0           1   \n",
       "\n",
       "   work_code  region  income  y_total     debt  \n",
       "0        NaN       1   405.0       20  10350.0  \n",
       "1      942.0       1  2788.0       29      0.0  \n",
       "2      762.0       1  2304.0       18  21220.0  \n",
       "3      855.0       1  5231.0       20      0.0  \n",
       "4      399.0       1  5231.0       21      0.0  "
      ]
     },
     "execution_count": 7,
     "metadata": {},
     "output_type": "execute_result"
    }
   ],
   "source": [
    "df = df.drop('y_train',axis=1)\n",
    "df.head()"
   ]
  },
  {
   "cell_type": "markdown",
   "metadata": {},
   "source": [
    "#### 데이터 라밸링"
   ]
  },
  {
   "cell_type": "code",
   "execution_count": 8,
   "metadata": {},
   "outputs": [
    {
     "data": {
      "text/html": [
       "<div>\n",
       "<style scoped>\n",
       "    .dataframe tbody tr th:only-of-type {\n",
       "        vertical-align: middle;\n",
       "    }\n",
       "\n",
       "    .dataframe tbody tr th {\n",
       "        vertical-align: top;\n",
       "    }\n",
       "\n",
       "    .dataframe thead th {\n",
       "        text-align: right;\n",
       "    }\n",
       "</style>\n",
       "<table border=\"1\" class=\"dataframe\">\n",
       "  <thead>\n",
       "    <tr style=\"text-align: right;\">\n",
       "      <th></th>\n",
       "      <th>gen</th>\n",
       "      <th>age</th>\n",
       "      <th>religion</th>\n",
       "      <th>edu</th>\n",
       "      <th>sm_year</th>\n",
       "      <th>sm_state</th>\n",
       "      <th>sm_day</th>\n",
       "      <th>dr_mean_year</th>\n",
       "      <th>dr_6cup</th>\n",
       "      <th>dr_hurt</th>\n",
       "      <th>...</th>\n",
       "      <th>preg_experience</th>\n",
       "      <th>health_state</th>\n",
       "      <th>disabled</th>\n",
       "      <th>work_state</th>\n",
       "      <th>work_code</th>\n",
       "      <th>region</th>\n",
       "      <th>income</th>\n",
       "      <th>y_total</th>\n",
       "      <th>debt</th>\n",
       "      <th>y_train</th>\n",
       "    </tr>\n",
       "  </thead>\n",
       "  <tbody>\n",
       "    <tr>\n",
       "      <th>0</th>\n",
       "      <td>2</td>\n",
       "      <td>1945</td>\n",
       "      <td>1</td>\n",
       "      <td>4</td>\n",
       "      <td>NaN</td>\n",
       "      <td>2</td>\n",
       "      <td>NaN</td>\n",
       "      <td>5</td>\n",
       "      <td>NaN</td>\n",
       "      <td>NaN</td>\n",
       "      <td>...</td>\n",
       "      <td>2</td>\n",
       "      <td>4</td>\n",
       "      <td>0</td>\n",
       "      <td>4</td>\n",
       "      <td>NaN</td>\n",
       "      <td>1</td>\n",
       "      <td>405.0</td>\n",
       "      <td>20</td>\n",
       "      <td>10350.0</td>\n",
       "      <td>0</td>\n",
       "    </tr>\n",
       "    <tr>\n",
       "      <th>1</th>\n",
       "      <td>1</td>\n",
       "      <td>1948</td>\n",
       "      <td>2</td>\n",
       "      <td>3</td>\n",
       "      <td>NaN</td>\n",
       "      <td>2</td>\n",
       "      <td>NaN</td>\n",
       "      <td>5</td>\n",
       "      <td>NaN</td>\n",
       "      <td>NaN</td>\n",
       "      <td>...</td>\n",
       "      <td>0</td>\n",
       "      <td>5</td>\n",
       "      <td>0</td>\n",
       "      <td>1</td>\n",
       "      <td>942.0</td>\n",
       "      <td>1</td>\n",
       "      <td>2788.0</td>\n",
       "      <td>29</td>\n",
       "      <td>0.0</td>\n",
       "      <td>1</td>\n",
       "    </tr>\n",
       "    <tr>\n",
       "      <th>2</th>\n",
       "      <td>1</td>\n",
       "      <td>1942</td>\n",
       "      <td>1</td>\n",
       "      <td>7</td>\n",
       "      <td>NaN</td>\n",
       "      <td>2</td>\n",
       "      <td>NaN</td>\n",
       "      <td>5</td>\n",
       "      <td>NaN</td>\n",
       "      <td>NaN</td>\n",
       "      <td>...</td>\n",
       "      <td>0</td>\n",
       "      <td>2</td>\n",
       "      <td>0</td>\n",
       "      <td>1</td>\n",
       "      <td>762.0</td>\n",
       "      <td>1</td>\n",
       "      <td>2304.0</td>\n",
       "      <td>18</td>\n",
       "      <td>21220.0</td>\n",
       "      <td>0</td>\n",
       "    </tr>\n",
       "    <tr>\n",
       "      <th>3</th>\n",
       "      <td>1</td>\n",
       "      <td>1962</td>\n",
       "      <td>1</td>\n",
       "      <td>6</td>\n",
       "      <td>NaN</td>\n",
       "      <td>2</td>\n",
       "      <td>NaN</td>\n",
       "      <td>5</td>\n",
       "      <td>NaN</td>\n",
       "      <td>NaN</td>\n",
       "      <td>...</td>\n",
       "      <td>0</td>\n",
       "      <td>2</td>\n",
       "      <td>0</td>\n",
       "      <td>1</td>\n",
       "      <td>855.0</td>\n",
       "      <td>1</td>\n",
       "      <td>5231.0</td>\n",
       "      <td>20</td>\n",
       "      <td>0.0</td>\n",
       "      <td>0</td>\n",
       "    </tr>\n",
       "    <tr>\n",
       "      <th>4</th>\n",
       "      <td>2</td>\n",
       "      <td>1963</td>\n",
       "      <td>1</td>\n",
       "      <td>5</td>\n",
       "      <td>NaN</td>\n",
       "      <td>2</td>\n",
       "      <td>NaN</td>\n",
       "      <td>5</td>\n",
       "      <td>NaN</td>\n",
       "      <td>NaN</td>\n",
       "      <td>...</td>\n",
       "      <td>2</td>\n",
       "      <td>2</td>\n",
       "      <td>0</td>\n",
       "      <td>1</td>\n",
       "      <td>399.0</td>\n",
       "      <td>1</td>\n",
       "      <td>5231.0</td>\n",
       "      <td>21</td>\n",
       "      <td>0.0</td>\n",
       "      <td>0</td>\n",
       "    </tr>\n",
       "  </tbody>\n",
       "</table>\n",
       "<p>5 rows × 21 columns</p>\n",
       "</div>"
      ],
      "text/plain": [
       "   gen   age  religion  edu  sm_year  sm_state  sm_day  dr_mean_year  dr_6cup  \\\n",
       "0    2  1945         1    4      NaN         2     NaN             5      NaN   \n",
       "1    1  1948         2    3      NaN         2     NaN             5      NaN   \n",
       "2    1  1942         1    7      NaN         2     NaN             5      NaN   \n",
       "3    1  1962         1    6      NaN         2     NaN             5      NaN   \n",
       "4    2  1963         1    5      NaN         2     NaN             5      NaN   \n",
       "\n",
       "   dr_hurt  ...  preg_experience  health_state  disabled  work_state  \\\n",
       "0      NaN  ...                2             4         0           4   \n",
       "1      NaN  ...                0             5         0           1   \n",
       "2      NaN  ...                0             2         0           1   \n",
       "3      NaN  ...                0             2         0           1   \n",
       "4      NaN  ...                2             2         0           1   \n",
       "\n",
       "   work_code  region  income  y_total     debt  y_train  \n",
       "0        NaN       1   405.0       20  10350.0        0  \n",
       "1      942.0       1  2788.0       29      0.0        1  \n",
       "2      762.0       1  2304.0       18  21220.0        0  \n",
       "3      855.0       1  5231.0       20      0.0        0  \n",
       "4      399.0       1  5231.0       21      0.0        0  \n",
       "\n",
       "[5 rows x 21 columns]"
      ]
     },
     "execution_count": 8,
     "metadata": {},
     "output_type": "execute_result"
    }
   ],
   "source": [
    "df['y_train']=np.where(df['y_total'] > 22,1,0)\n",
    "df.head()"
   ]
  },
  {
   "cell_type": "code",
   "execution_count": 9,
   "metadata": {},
   "outputs": [],
   "source": [
    "df.loc[df['gen']==1 ,'gen'] = 'male'\n",
    "df.loc[df['gen']==2 ,'gen'] = 'female'\n"
   ]
  },
  {
   "cell_type": "code",
   "execution_count": 10,
   "metadata": {},
   "outputs": [
    {
     "data": {
      "text/plain": [
       "array(['female', 'male'], dtype=object)"
      ]
     },
     "execution_count": 10,
     "metadata": {},
     "output_type": "execute_result"
    }
   ],
   "source": [
    "df['gen'].unique()"
   ]
  },
  {
   "cell_type": "code",
   "execution_count": 11,
   "metadata": {},
   "outputs": [
    {
     "data": {
      "text/plain": [
       "0    78\n",
       "1    75\n",
       "2    81\n",
       "3    61\n",
       "4    60\n",
       "Name: age, dtype: int64"
      ]
     },
     "execution_count": 11,
     "metadata": {},
     "output_type": "execute_result"
    }
   ],
   "source": [
    "df['age']=2023-df['age']\n",
    "df['age'].head()"
   ]
  },
  {
   "cell_type": "code",
   "execution_count": 12,
   "metadata": {},
   "outputs": [
    {
     "data": {
      "text/plain": [
       "array(['yes', 'no'], dtype=object)"
      ]
     },
     "execution_count": 12,
     "metadata": {},
     "output_type": "execute_result"
    }
   ],
   "source": [
    "df.loc[df['religion']==1,'religion'] = 'yes'\n",
    "df.loc[df['religion']==2,'religion'] = 'no'\n",
    "df['religion'].unique()"
   ]
  },
  {
   "cell_type": "code",
   "execution_count": 13,
   "metadata": {},
   "outputs": [
    {
     "data": {
      "text/plain": [
       "Index(['gen', 'age', 'religion', 'edu', 'sm_year', 'sm_state', 'sm_day',\n",
       "       'dr_mean_year', 'dr_6cup', 'dr_hurt', 'dr_worry', 'preg_experience',\n",
       "       'health_state', 'disabled', 'work_state', 'work_code', 'region',\n",
       "       'income', 'y_total', 'debt', 'y_train'],\n",
       "      dtype='object')"
      ]
     },
     "execution_count": 13,
     "metadata": {},
     "output_type": "execute_result"
    }
   ],
   "source": [
    "df.columns"
   ]
  },
  {
   "cell_type": "code",
   "execution_count": 14,
   "metadata": {},
   "outputs": [],
   "source": [
    "df.loc[df['edu']<=3,'edu']=\"초졸이하\"\n",
    "df.loc[df['edu']==4,'edu']=\"중졸\"\n",
    "df.loc[df['edu']==5,'edu']=\"고졸\"\n",
    "df.loc[df['edu']==6,'edu']=\"대졸이상\"\n",
    "df.loc[df['edu']==7,'edu']=\"대졸이상\"\n",
    "df.loc[df['edu']==8,'edu']=\"대졸이상\"\n",
    "df.loc[df['edu']==9,'edu']=\"대졸이상\"\n"
   ]
  },
  {
   "cell_type": "code",
   "execution_count": 15,
   "metadata": {},
   "outputs": [
    {
     "data": {
      "text/plain": [
       "array(['중졸', '초졸이하', '대졸이상', '고졸'], dtype=object)"
      ]
     },
     "execution_count": 15,
     "metadata": {},
     "output_type": "execute_result"
    }
   ],
   "source": [
    "df['edu'].unique()"
   ]
  },
  {
   "cell_type": "code",
   "execution_count": 16,
   "metadata": {},
   "outputs": [
    {
     "data": {
      "text/plain": [
       "Index(['gen', 'age', 'religion', 'edu', 'sm_year', 'sm_state', 'sm_day',\n",
       "       'dr_mean_year', 'dr_6cup', 'dr_hurt', 'dr_worry', 'preg_experience',\n",
       "       'health_state', 'disabled', 'work_state', 'work_code', 'region',\n",
       "       'income', 'y_total', 'debt', 'y_train'],\n",
       "      dtype='object')"
      ]
     },
     "execution_count": 16,
     "metadata": {},
     "output_type": "execute_result"
    }
   ],
   "source": [
    "df.columns"
   ]
  },
  {
   "cell_type": "code",
   "execution_count": 17,
   "metadata": {},
   "outputs": [
    {
     "data": {
      "text/plain": [
       "array(['no', 'yes'], dtype=object)"
      ]
     },
     "execution_count": 17,
     "metadata": {},
     "output_type": "execute_result"
    }
   ],
   "source": [
    "df.loc[df['sm_state']==1 ,\"sm_state\"] = 'yes'\n",
    "df.loc[df['sm_state']==2 ,\"sm_state\"] = 'no'\n",
    "df['sm_state'].unique()"
   ]
  },
  {
   "cell_type": "code",
   "execution_count": 18,
   "metadata": {},
   "outputs": [
    {
     "data": {
      "text/plain": [
       "array([nan,  3.,  2.,  1.,  5.,  4.])"
      ]
     },
     "execution_count": 18,
     "metadata": {},
     "output_type": "execute_result"
    }
   ],
   "source": [
    "df.loc[df['dr_mean_year']==1 ,\"dr_mean_year\"] = '월1회'\n",
    "df.loc[df['dr_mean_year']==2 ,\"dr_mean_year\"] = '월2~3회'\n",
    "df.loc[df['dr_mean_year']==3 ,\"dr_mean_year\"] = '주2~3회'\n",
    "df.loc[df['dr_mean_year']==4 ,\"dr_mean_year\"] = '주4회이상'\n",
    "df.loc[df['dr_mean_year']==5 ,\"dr_mean_year\"] = '전혀마시지않음'\n",
    "df['dr_6cup'].unique()"
   ]
  },
  {
   "cell_type": "code",
   "execution_count": 19,
   "metadata": {},
   "outputs": [
    {
     "data": {
      "text/plain": [
       "array([nan, '월1회', '연1회', '전혀', '매일', '주1회'], dtype=object)"
      ]
     },
     "execution_count": 19,
     "metadata": {},
     "output_type": "execute_result"
    }
   ],
   "source": [
    "df.loc[df['dr_6cup']==1 ,\"dr_6cup\"] = '전혀'\n",
    "df.loc[df['dr_6cup']==2 ,\"dr_6cup\"] = '연1회'\n",
    "df.loc[df['dr_6cup']==3 ,\"dr_6cup\"] = '월1회'\n",
    "df.loc[df['dr_6cup']==4 ,\"dr_6cup\"] = '주1회'\n",
    "df.loc[df['dr_6cup']==5 ,\"dr_6cup\"] = '매일'\n",
    "df['dr_6cup'].unique()"
   ]
  },
  {
   "cell_type": "code",
   "execution_count": 20,
   "metadata": {},
   "outputs": [
    {
     "data": {
      "text/plain": [
       "array([nan, '전혀', '과거존재', '최근존재'], dtype=object)"
      ]
     },
     "execution_count": 20,
     "metadata": {},
     "output_type": "execute_result"
    }
   ],
   "source": [
    "df.loc[df['dr_hurt']==1 ,\"dr_hurt\"] = '전혀'\n",
    "df.loc[df['dr_hurt']==2 ,\"dr_hurt\"] = '과거존재'\n",
    "df.loc[df['dr_hurt']==3 ,\"dr_hurt\"] = '최근존재'\n",
    "df['dr_hurt'].unique()"
   ]
  },
  {
   "cell_type": "code",
   "execution_count": 21,
   "metadata": {},
   "outputs": [
    {
     "data": {
      "text/plain": [
       "array([nan, '전혀', '과거존재', '최근존재'], dtype=object)"
      ]
     },
     "execution_count": 21,
     "metadata": {},
     "output_type": "execute_result"
    }
   ],
   "source": [
    "df.loc[df['dr_worry']==1 ,\"dr_worry\"] = '전혀'\n",
    "df.loc[df['dr_worry']==2 ,\"dr_worry\"] = '과거존재'\n",
    "df.loc[df['dr_worry']==3 ,\"dr_worry\"] = '최근존재'\n",
    "df['dr_worry'].unique()"
   ]
  },
  {
   "cell_type": "code",
   "execution_count": 22,
   "metadata": {},
   "outputs": [
    {
     "data": {
      "text/plain": [
       "array(['없다', '남성', '있다'], dtype=object)"
      ]
     },
     "execution_count": 22,
     "metadata": {},
     "output_type": "execute_result"
    }
   ],
   "source": [
    "df.loc[df['preg_experience']==1 ,\"preg_experience\"] = '있다'\n",
    "df.loc[df['preg_experience']==2 ,\"preg_experience\"] = '없다'\n",
    "df.loc[df['preg_experience']==0 ,\"preg_experience\"] = '남성'\n",
    "\n",
    "df['preg_experience'].unique()"
   ]
  },
  {
   "cell_type": "code",
   "execution_count": 23,
   "metadata": {},
   "outputs": [
    {
     "data": {
      "text/plain": [
       "array([2, 1, 4, 3, 5])"
      ]
     },
     "execution_count": 23,
     "metadata": {},
     "output_type": "execute_result"
    }
   ],
   "source": [
    "df.loc[df['health_state']==1 ,\"health_state\"] = '5'\n",
    "df.loc[df['health_state']==2 ,\"health_state\"] = '4'\n",
    "df.loc[df['health_state']==3 ,\"health_state\"] = '3'\n",
    "df.loc[df['health_state']==4 ,\"health_state\"] = '2'\n",
    "df.loc[df['health_state']==5 ,\"health_state\"] = '1'\n",
    "df['health_state']= df['health_state'].astype(int)\n",
    "df['health_state'].unique()"
   ]
  },
  {
   "cell_type": "code",
   "execution_count": 24,
   "metadata": {},
   "outputs": [
    {
     "data": {
      "text/plain": [
       "array([ 0,  1,  4, 16, 15,  8,  3,  2, 14,  9,  6, 11, 12, 10, 13,  5],\n",
       "      dtype=int64)"
      ]
     },
     "execution_count": 24,
     "metadata": {},
     "output_type": "execute_result"
    }
   ],
   "source": [
    "df['disabled'].unique()"
   ]
  },
  {
   "cell_type": "code",
   "execution_count": 25,
   "metadata": {},
   "outputs": [
    {
     "data": {
      "text/plain": [
       "array(['abled', 'disabled'], dtype=object)"
      ]
     },
     "execution_count": 25,
     "metadata": {},
     "output_type": "execute_result"
    }
   ],
   "source": [
    "df['disabled'] = df['disabled'].apply(lambda x: 'abled' if x==0 else 'disabled')\n",
    "df['disabled'].unique()"
   ]
  },
  {
   "cell_type": "code",
   "execution_count": 26,
   "metadata": {},
   "outputs": [
    {
     "data": {
      "text/plain": [
       "array(['nowork', 'work'], dtype=object)"
      ]
     },
     "execution_count": 26,
     "metadata": {},
     "output_type": "execute_result"
    }
   ],
   "source": [
    "df.loc[df['work_state']==1 ,\"work_state\"] = 'work'\n",
    "df.loc[df['work_state']==2 ,\"work_state\"] = 'work'\n",
    "df.loc[df['work_state']==3 ,\"work_state\"] = 'work'\n",
    "df.loc[df['work_state']==4 ,\"work_state\"] = 'nowork'\n",
    "df.loc[df['work_state']==5 ,\"work_state\"] = 'nowork'\n",
    "df['work_state'].unique()"
   ]
  },
  {
   "cell_type": "code",
   "execution_count": 27,
   "metadata": {},
   "outputs": [
    {
     "data": {
      "text/plain": [
       "array(['city', 'country'], dtype=object)"
      ]
     },
     "execution_count": 27,
     "metadata": {},
     "output_type": "execute_result"
    }
   ],
   "source": [
    "df.loc[df['region']==1 ,\"region\"] = 'city'\n",
    "df.loc[df['region']==2 ,\"region\"] = 'city'\n",
    "df.loc[df['region']==3 ,\"region\"] = 'city'\n",
    "df.loc[df['region']==4 ,\"region\"] = 'country'\n",
    "df.loc[df['region']==5 ,\"region\"] = 'country'\n",
    "df['region'].unique()"
   ]
  },
  {
   "cell_type": "code",
   "execution_count": 28,
   "metadata": {},
   "outputs": [
    {
     "data": {
      "text/html": [
       "<div>\n",
       "<style scoped>\n",
       "    .dataframe tbody tr th:only-of-type {\n",
       "        vertical-align: middle;\n",
       "    }\n",
       "\n",
       "    .dataframe tbody tr th {\n",
       "        vertical-align: top;\n",
       "    }\n",
       "\n",
       "    .dataframe thead th {\n",
       "        text-align: right;\n",
       "    }\n",
       "</style>\n",
       "<table border=\"1\" class=\"dataframe\">\n",
       "  <thead>\n",
       "    <tr style=\"text-align: right;\">\n",
       "      <th></th>\n",
       "      <th>gen</th>\n",
       "      <th>age</th>\n",
       "      <th>religion</th>\n",
       "      <th>edu</th>\n",
       "      <th>sm_year</th>\n",
       "      <th>sm_state</th>\n",
       "      <th>sm_day</th>\n",
       "      <th>dr_mean_year</th>\n",
       "      <th>dr_6cup</th>\n",
       "      <th>dr_hurt</th>\n",
       "      <th>...</th>\n",
       "      <th>preg_experience</th>\n",
       "      <th>health_state</th>\n",
       "      <th>disabled</th>\n",
       "      <th>work_state</th>\n",
       "      <th>work_code</th>\n",
       "      <th>region</th>\n",
       "      <th>income</th>\n",
       "      <th>y_total</th>\n",
       "      <th>debt</th>\n",
       "      <th>y_train</th>\n",
       "    </tr>\n",
       "  </thead>\n",
       "  <tbody>\n",
       "    <tr>\n",
       "      <th>0</th>\n",
       "      <td>female</td>\n",
       "      <td>78</td>\n",
       "      <td>yes</td>\n",
       "      <td>중졸</td>\n",
       "      <td>NaN</td>\n",
       "      <td>no</td>\n",
       "      <td>NaN</td>\n",
       "      <td>전혀마시지않음</td>\n",
       "      <td>NaN</td>\n",
       "      <td>NaN</td>\n",
       "      <td>...</td>\n",
       "      <td>없다</td>\n",
       "      <td>2</td>\n",
       "      <td>abled</td>\n",
       "      <td>nowork</td>\n",
       "      <td>NaN</td>\n",
       "      <td>city</td>\n",
       "      <td>405.0</td>\n",
       "      <td>20</td>\n",
       "      <td>10350.0</td>\n",
       "      <td>0</td>\n",
       "    </tr>\n",
       "    <tr>\n",
       "      <th>1</th>\n",
       "      <td>male</td>\n",
       "      <td>75</td>\n",
       "      <td>no</td>\n",
       "      <td>초졸이하</td>\n",
       "      <td>NaN</td>\n",
       "      <td>no</td>\n",
       "      <td>NaN</td>\n",
       "      <td>전혀마시지않음</td>\n",
       "      <td>NaN</td>\n",
       "      <td>NaN</td>\n",
       "      <td>...</td>\n",
       "      <td>남성</td>\n",
       "      <td>1</td>\n",
       "      <td>abled</td>\n",
       "      <td>work</td>\n",
       "      <td>942.0</td>\n",
       "      <td>city</td>\n",
       "      <td>2788.0</td>\n",
       "      <td>29</td>\n",
       "      <td>0.0</td>\n",
       "      <td>1</td>\n",
       "    </tr>\n",
       "    <tr>\n",
       "      <th>2</th>\n",
       "      <td>male</td>\n",
       "      <td>81</td>\n",
       "      <td>yes</td>\n",
       "      <td>대졸이상</td>\n",
       "      <td>NaN</td>\n",
       "      <td>no</td>\n",
       "      <td>NaN</td>\n",
       "      <td>전혀마시지않음</td>\n",
       "      <td>NaN</td>\n",
       "      <td>NaN</td>\n",
       "      <td>...</td>\n",
       "      <td>남성</td>\n",
       "      <td>4</td>\n",
       "      <td>abled</td>\n",
       "      <td>work</td>\n",
       "      <td>762.0</td>\n",
       "      <td>city</td>\n",
       "      <td>2304.0</td>\n",
       "      <td>18</td>\n",
       "      <td>21220.0</td>\n",
       "      <td>0</td>\n",
       "    </tr>\n",
       "    <tr>\n",
       "      <th>3</th>\n",
       "      <td>male</td>\n",
       "      <td>61</td>\n",
       "      <td>yes</td>\n",
       "      <td>대졸이상</td>\n",
       "      <td>NaN</td>\n",
       "      <td>no</td>\n",
       "      <td>NaN</td>\n",
       "      <td>전혀마시지않음</td>\n",
       "      <td>NaN</td>\n",
       "      <td>NaN</td>\n",
       "      <td>...</td>\n",
       "      <td>남성</td>\n",
       "      <td>4</td>\n",
       "      <td>abled</td>\n",
       "      <td>work</td>\n",
       "      <td>855.0</td>\n",
       "      <td>city</td>\n",
       "      <td>5231.0</td>\n",
       "      <td>20</td>\n",
       "      <td>0.0</td>\n",
       "      <td>0</td>\n",
       "    </tr>\n",
       "    <tr>\n",
       "      <th>4</th>\n",
       "      <td>female</td>\n",
       "      <td>60</td>\n",
       "      <td>yes</td>\n",
       "      <td>고졸</td>\n",
       "      <td>NaN</td>\n",
       "      <td>no</td>\n",
       "      <td>NaN</td>\n",
       "      <td>전혀마시지않음</td>\n",
       "      <td>NaN</td>\n",
       "      <td>NaN</td>\n",
       "      <td>...</td>\n",
       "      <td>없다</td>\n",
       "      <td>4</td>\n",
       "      <td>abled</td>\n",
       "      <td>work</td>\n",
       "      <td>399.0</td>\n",
       "      <td>city</td>\n",
       "      <td>5231.0</td>\n",
       "      <td>21</td>\n",
       "      <td>0.0</td>\n",
       "      <td>0</td>\n",
       "    </tr>\n",
       "  </tbody>\n",
       "</table>\n",
       "<p>5 rows × 21 columns</p>\n",
       "</div>"
      ],
      "text/plain": [
       "      gen  age religion   edu  sm_year sm_state  sm_day dr_mean_year dr_6cup  \\\n",
       "0  female   78      yes    중졸      NaN       no     NaN      전혀마시지않음     NaN   \n",
       "1    male   75       no  초졸이하      NaN       no     NaN      전혀마시지않음     NaN   \n",
       "2    male   81      yes  대졸이상      NaN       no     NaN      전혀마시지않음     NaN   \n",
       "3    male   61      yes  대졸이상      NaN       no     NaN      전혀마시지않음     NaN   \n",
       "4  female   60      yes    고졸      NaN       no     NaN      전혀마시지않음     NaN   \n",
       "\n",
       "  dr_hurt  ... preg_experience health_state  disabled work_state work_code  \\\n",
       "0     NaN  ...              없다            2     abled     nowork       NaN   \n",
       "1     NaN  ...              남성            1     abled       work     942.0   \n",
       "2     NaN  ...              남성            4     abled       work     762.0   \n",
       "3     NaN  ...              남성            4     abled       work     855.0   \n",
       "4     NaN  ...              없다            4     abled       work     399.0   \n",
       "\n",
       "   region  income  y_total     debt  y_train  \n",
       "0    city   405.0       20  10350.0        0  \n",
       "1    city  2788.0       29      0.0        1  \n",
       "2    city  2304.0       18  21220.0        0  \n",
       "3    city  5231.0       20      0.0        0  \n",
       "4    city  5231.0       21      0.0        0  \n",
       "\n",
       "[5 rows x 21 columns]"
      ]
     },
     "execution_count": 28,
     "metadata": {},
     "output_type": "execute_result"
    }
   ],
   "source": [
    "df.head()"
   ]
  },
  {
   "cell_type": "code",
   "execution_count": 29,
   "metadata": {},
   "outputs": [
    {
     "data": {
      "text/plain": [
       "0"
      ]
     },
     "execution_count": 29,
     "metadata": {},
     "output_type": "execute_result"
    }
   ],
   "source": [
    "df['gen'].isnull().sum()"
   ]
  },
  {
   "cell_type": "code",
   "execution_count": 30,
   "metadata": {},
   "outputs": [],
   "source": [
    "df.to_excel('빚추가마지막.xlsx')"
   ]
  },
  {
   "cell_type": "code",
   "execution_count": 118,
   "metadata": {},
   "outputs": [],
   "source": [
    "plt.rcParams[\"font.family\"] = 'AppleGothic' if sys.platform == 'darwin' else 'Malgun Gothic'\n",
    "plt.rcParams[\"font.size\"] = 12\n",
    "plt.rcParams[\"figure.figsize\"] = (10, 5)\n",
    "plt.rcParams[\"axes.unicode_minus\"] = False"
   ]
  },
  {
   "cell_type": "code",
   "execution_count": 29,
   "metadata": {},
   "outputs": [
    {
     "data": {
      "text/plain": [
       "<seaborn.axisgrid.FacetGrid at 0x2013e68e890>"
      ]
     },
     "execution_count": 29,
     "metadata": {},
     "output_type": "execute_result"
    },
    {
     "data": {
      "image/png": "[encoded data removed]",
      "text/plain": [
       "<Figure size 569.25x500 with 1 Axes>"
      ]
     },
     "metadata": {},
     "output_type": "display_data"
    }
   ],
   "source": [
    "sns.catplot(data=df,x='gen',kind='count',hue='y_train')"
   ]
  },
  {
   "cell_type": "code",
   "execution_count": 30,
   "metadata": {},
   "outputs": [
    {
     "data": {
      "text/plain": [
       "Index(['Unnamed: 0', 'Q1', 'Q2', 'Q3', 'Q4', 'Q5', 'Q6', 'Q7', 'Q8', 'Q9',\n",
       "       'Q10', 'Q11', 'gen', 'age', 'religion', 'edu', 'sm_year', 'sm_state',\n",
       "       'sm_day', 'dr_mean_year', 'dr_6cup', 'dr_hurt', 'dr_worry',\n",
       "       'preg_experience', 'health_state', 'disabled', 'work_state',\n",
       "       'work_code', 'region', 'income', 'loan1', 'loan2', 'loan3', 'loan5',\n",
       "       'loan6', 'loan7', 'loan8', 'y_total', 'y_train', 'loan_total'],\n",
       "      dtype='object')"
      ]
     },
     "execution_count": 30,
     "metadata": {},
     "output_type": "execute_result"
    }
   ],
   "source": [
    "df.columns"
   ]
  },
  {
   "cell_type": "code",
   "execution_count": 31,
   "metadata": {},
   "outputs": [
    {
     "data": {
      "text/plain": [
       "<Axes: xlabel='age', ylabel='y_total'>"
      ]
     },
     "execution_count": 31,
     "metadata": {},
     "output_type": "execute_result"
    },
    {
     "data": {
      "image/png": "[encoded data removed]",
      "text/plain": [
       "<Figure size 1000x500 with 1 Axes>"
      ]
     },
     "metadata": {},
     "output_type": "display_data"
    }
   ],
   "source": [
    "sns.regplot(data=df,x='age',y='y_total')"
   ]
  },
  {
   "cell_type": "code",
   "execution_count": 32,
   "metadata": {},
   "outputs": [
    {
     "data": {
      "text/html": [
       "<div>\n",
       "<style scoped>\n",
       "    .dataframe tbody tr th:only-of-type {\n",
       "        vertical-align: middle;\n",
       "    }\n",
       "\n",
       "    .dataframe tbody tr th {\n",
       "        vertical-align: top;\n",
       "    }\n",
       "\n",
       "    .dataframe thead th {\n",
       "        text-align: right;\n",
       "    }\n",
       "</style>\n",
       "<table border=\"1\" class=\"dataframe\">\n",
       "  <thead>\n",
       "    <tr style=\"text-align: right;\">\n",
       "      <th></th>\n",
       "      <th>age</th>\n",
       "      <th>y_total</th>\n",
       "    </tr>\n",
       "  </thead>\n",
       "  <tbody>\n",
       "    <tr>\n",
       "      <th>age</th>\n",
       "      <td>1.000000</td>\n",
       "      <td>0.301144</td>\n",
       "    </tr>\n",
       "    <tr>\n",
       "      <th>y_total</th>\n",
       "      <td>0.301144</td>\n",
       "      <td>1.000000</td>\n",
       "    </tr>\n",
       "  </tbody>\n",
       "</table>\n",
       "</div>"
      ],
      "text/plain": [
       "              age   y_total\n",
       "age      1.000000  0.301144\n",
       "y_total  0.301144  1.000000"
      ]
     },
     "execution_count": 32,
     "metadata": {},
     "output_type": "execute_result"
    }
   ],
   "source": [
    "corr = df[['age','y_total']].corr(method='pearson')\n",
    "corr"
   ]
  },
  {
   "cell_type": "code",
   "execution_count": 33,
   "metadata": {},
   "outputs": [],
   "source": [
    "bins = [20,29,39,49,59,99]\n",
    "labels = ['19~29세','30~39세','40~49세','50~59세','60세 이상']\n",
    "\n",
    "cuts = pd.cut(df['age'],bins,labels=labels)\n",
    "df['age_range'] = cuts\n"
   ]
  },
  {
   "cell_type": "code",
   "execution_count": 34,
   "metadata": {},
   "outputs": [
    {
     "data": {
      "text/plain": [
       "<seaborn.axisgrid.FacetGrid at 0x201500fe150>"
      ]
     },
     "execution_count": 34,
     "metadata": {},
     "output_type": "execute_result"
    },
    {
     "data": {
      "image/png": "[encoded data removed]",
      "text/plain": [
       "<Figure size 569.25x500 with 1 Axes>"
      ]
     },
     "metadata": {},
     "output_type": "display_data"
    }
   ],
   "source": [
    "sns.catplot(data=df,x='age_range',kind='count',hue='y_train')"
   ]
  },
  {
   "cell_type": "code",
   "execution_count": null,
   "metadata": {},
   "outputs": [],
   "source": []
  },
  {
   "cell_type": "code",
   "execution_count": 35,
   "metadata": {},
   "outputs": [
    {
     "data": {
      "text/plain": [
       "<seaborn.axisgrid.FacetGrid at 0x201502d8550>"
      ]
     },
     "execution_count": 35,
     "metadata": {},
     "output_type": "execute_result"
    },
    {
     "data": {
      "image/png": "[encoded data removed]",
      "text/plain": [
       "<Figure size 569.25x500 with 1 Axes>"
      ]
     },
     "metadata": {},
     "output_type": "display_data"
    }
   ],
   "source": [
    "sns.catplot(data=df,x='religion',kind='count',hue='y_train')"
   ]
  },
  {
   "cell_type": "code",
   "execution_count": 36,
   "metadata": {},
   "outputs": [
    {
     "data": {
      "text/plain": [
       "Index(['Unnamed: 0', 'Q1', 'Q2', 'Q3', 'Q4', 'Q5', 'Q6', 'Q7', 'Q8', 'Q9',\n",
       "       'Q10', 'Q11', 'gen', 'age', 'religion', 'edu', 'sm_year', 'sm_state',\n",
       "       'sm_day', 'dr_mean_year', 'dr_6cup', 'dr_hurt', 'dr_worry',\n",
       "       'preg_experience', 'health_state', 'disabled', 'work_state',\n",
       "       'work_code', 'region', 'income', 'loan1', 'loan2', 'loan3', 'loan5',\n",
       "       'loan6', 'loan7', 'loan8', 'y_total', 'y_train', 'loan_total',\n",
       "       'age_range'],\n",
       "      dtype='object')"
      ]
     },
     "execution_count": 36,
     "metadata": {},
     "output_type": "execute_result"
    }
   ],
   "source": [
    "df.columns"
   ]
  },
  {
   "cell_type": "code",
   "execution_count": 37,
   "metadata": {},
   "outputs": [
    {
     "data": {
      "text/plain": [
       "<seaborn.axisgrid.FacetGrid at 0x201506048d0>"
      ]
     },
     "execution_count": 37,
     "metadata": {},
     "output_type": "execute_result"
    },
    {
     "data": {
      "image/png": "[encoded data removed]",
      "text/plain": [
       "<Figure size 569.25x500 with 1 Axes>"
      ]
     },
     "metadata": {},
     "output_type": "display_data"
    }
   ],
   "source": [
    "sns.catplot(data=df,x='edu',kind='count',hue='y_train')"
   ]
  },
  {
   "cell_type": "code",
   "execution_count": 38,
   "metadata": {},
   "outputs": [
    {
     "data": {
      "text/plain": [
       "Index(['Unnamed: 0', 'Q1', 'Q2', 'Q3', 'Q4', 'Q5', 'Q6', 'Q7', 'Q8', 'Q9',\n",
       "       'Q10', 'Q11', 'gen', 'age', 'religion', 'edu', 'sm_year', 'sm_state',\n",
       "       'sm_day', 'dr_mean_year', 'dr_6cup', 'dr_hurt', 'dr_worry',\n",
       "       'preg_experience', 'health_state', 'disabled', 'work_state',\n",
       "       'work_code', 'region', 'income', 'loan1', 'loan2', 'loan3', 'loan5',\n",
       "       'loan6', 'loan7', 'loan8', 'y_total', 'y_train', 'loan_total',\n",
       "       'age_range'],\n",
       "      dtype='object')"
      ]
     },
     "execution_count": 38,
     "metadata": {},
     "output_type": "execute_result"
    }
   ],
   "source": [
    "df.columns"
   ]
  },
  {
   "cell_type": "code",
   "execution_count": 39,
   "metadata": {},
   "outputs": [
    {
     "data": {
      "text/plain": [
       "0"
      ]
     },
     "execution_count": 39,
     "metadata": {},
     "output_type": "execute_result"
    }
   ],
   "source": [
    "df['sm_state'].isnull().sum()"
   ]
  },
  {
   "cell_type": "code",
   "execution_count": 40,
   "metadata": {},
   "outputs": [
    {
     "data": {
      "text/plain": [
       "<seaborn.axisgrid.FacetGrid at 0x201505b6890>"
      ]
     },
     "execution_count": 40,
     "metadata": {},
     "output_type": "execute_result"
    },
    {
     "data": {
      "image/png": "[encoded data removed]",
      "text/plain": [
       "<Figure size 569.25x500 with 1 Axes>"
      ]
     },
     "metadata": {},
     "output_type": "display_data"
    }
   ],
   "source": [
    "sns.catplot(data=df,x='sm_state',kind='count',hue='y_train')"
   ]
  },
  {
   "cell_type": "code",
   "execution_count": 41,
   "metadata": {},
   "outputs": [
    {
     "data": {
      "text/plain": [
       "sm_state\n",
       "no     11438\n",
       "yes     2036\n",
       "Name: count, dtype: int64"
      ]
     },
     "execution_count": 41,
     "metadata": {},
     "output_type": "execute_result"
    }
   ],
   "source": [
    "df['sm_state'].value_counts()"
   ]
  },
  {
   "cell_type": "code",
   "execution_count": 42,
   "metadata": {},
   "outputs": [],
   "source": [
    "from sklearn.utils import resample\n",
    "\n",
    "subset_city_downsampled = resample(df[df['sm_state']=='no'],\n",
    "                            replace=False,\n",
    "                            n_samples =2036 ,\n",
    "                            random_state = 2020)\n",
    "                            \n"
   ]
  },
  {
   "cell_type": "code",
   "execution_count": 43,
   "metadata": {},
   "outputs": [
    {
     "data": {
      "text/plain": [
       "sm_state\n",
       "yes    2036\n",
       "no     2036\n",
       "Name: count, dtype: int64"
      ]
     },
     "execution_count": 43,
     "metadata": {},
     "output_type": "execute_result"
    }
   ],
   "source": [
    "sm_data = pd.concat([df[df['sm_state']=='yes'],subset_city_downsampled])\n",
    "sm_data['sm_state'].value_counts()\n"
   ]
  },
  {
   "cell_type": "code",
   "execution_count": 44,
   "metadata": {},
   "outputs": [
    {
     "data": {
      "text/plain": [
       "<seaborn.axisgrid.FacetGrid at 0x20154852d90>"
      ]
     },
     "execution_count": 44,
     "metadata": {},
     "output_type": "execute_result"
    },
    {
     "data": {
      "image/png": "[encoded data removed]",
      "text/plain": [
       "<Figure size 569.25x500 with 1 Axes>"
      ]
     },
     "metadata": {},
     "output_type": "display_data"
    }
   ],
   "source": [
    "sns.catplot(data=sm_data,x='sm_state',kind='count',hue='y_train')"
   ]
  },
  {
   "cell_type": "code",
   "execution_count": 45,
   "metadata": {},
   "outputs": [
    {
     "data": {
      "text/plain": [
       "Index(['Unnamed: 0', 'Q1', 'Q2', 'Q3', 'Q4', 'Q5', 'Q6', 'Q7', 'Q8', 'Q9',\n",
       "       'Q10', 'Q11', 'gen', 'age', 'religion', 'edu', 'sm_year', 'sm_state',\n",
       "       'sm_day', 'dr_mean_year', 'dr_6cup', 'dr_hurt', 'dr_worry',\n",
       "       'preg_experience', 'health_state', 'disabled', 'work_state',\n",
       "       'work_code', 'region', 'income', 'loan1', 'loan2', 'loan3', 'loan5',\n",
       "       'loan6', 'loan7', 'loan8', 'y_total', 'y_train', 'loan_total',\n",
       "       'age_range'],\n",
       "      dtype='object')"
      ]
     },
     "execution_count": 45,
     "metadata": {},
     "output_type": "execute_result"
    }
   ],
   "source": [
    "df.columns"
   ]
  },
  {
   "cell_type": "code",
   "execution_count": 46,
   "metadata": {},
   "outputs": [
    {
     "data": {
      "text/html": [
       "<div>\n",
       "<style scoped>\n",
       "    .dataframe tbody tr th:only-of-type {\n",
       "        vertical-align: middle;\n",
       "    }\n",
       "\n",
       "    .dataframe tbody tr th {\n",
       "        vertical-align: top;\n",
       "    }\n",
       "\n",
       "    .dataframe thead th {\n",
       "        text-align: right;\n",
       "    }\n",
       "</style>\n",
       "<table border=\"1\" class=\"dataframe\">\n",
       "  <thead>\n",
       "    <tr style=\"text-align: right;\">\n",
       "      <th></th>\n",
       "      <th>sm_year</th>\n",
       "      <th>y_total</th>\n",
       "    </tr>\n",
       "  </thead>\n",
       "  <tbody>\n",
       "    <tr>\n",
       "      <th>sm_year</th>\n",
       "      <td>1.000000</td>\n",
       "      <td>0.109959</td>\n",
       "    </tr>\n",
       "    <tr>\n",
       "      <th>y_total</th>\n",
       "      <td>0.109959</td>\n",
       "      <td>1.000000</td>\n",
       "    </tr>\n",
       "  </tbody>\n",
       "</table>\n",
       "</div>"
      ],
      "text/plain": [
       "          sm_year   y_total\n",
       "sm_year  1.000000  0.109959\n",
       "y_total  0.109959  1.000000"
      ]
     },
     "execution_count": 46,
     "metadata": {},
     "output_type": "execute_result"
    },
    {
     "data": {
      "image/png": "[encoded data removed]",
      "text/plain": [
       "<Figure size 1000x500 with 1 Axes>"
      ]
     },
     "metadata": {},
     "output_type": "display_data"
    }
   ],
   "source": [
    "smoking = df.loc[df['sm_year']>0,]\n",
    "\n",
    "sns.regplot(data=smoking,x='sm_year',y='y_total')\n",
    "corr = smoking[['sm_year','y_total']].corr(method='pearson')\n",
    "corr\n"
   ]
  },
  {
   "cell_type": "code",
   "execution_count": 47,
   "metadata": {},
   "outputs": [
    {
     "data": {
      "text/html": [
       "<div>\n",
       "<style scoped>\n",
       "    .dataframe tbody tr th:only-of-type {\n",
       "        vertical-align: middle;\n",
       "    }\n",
       "\n",
       "    .dataframe tbody tr th {\n",
       "        vertical-align: top;\n",
       "    }\n",
       "\n",
       "    .dataframe thead th {\n",
       "        text-align: right;\n",
       "    }\n",
       "</style>\n",
       "<table border=\"1\" class=\"dataframe\">\n",
       "  <thead>\n",
       "    <tr style=\"text-align: right;\">\n",
       "      <th></th>\n",
       "      <th>sm_year</th>\n",
       "      <th>y_total</th>\n",
       "    </tr>\n",
       "  </thead>\n",
       "  <tbody>\n",
       "    <tr>\n",
       "      <th>sm_year</th>\n",
       "      <td>1.000000</td>\n",
       "      <td>0.109959</td>\n",
       "    </tr>\n",
       "    <tr>\n",
       "      <th>y_total</th>\n",
       "      <td>0.109959</td>\n",
       "      <td>1.000000</td>\n",
       "    </tr>\n",
       "  </tbody>\n",
       "</table>\n",
       "</div>"
      ],
      "text/plain": [
       "          sm_year   y_total\n",
       "sm_year  1.000000  0.109959\n",
       "y_total  0.109959  1.000000"
      ]
     },
     "execution_count": 47,
     "metadata": {},
     "output_type": "execute_result"
    }
   ],
   "source": [
    "corr = smoking[['sm_year','y_total']].corr(method='pearson')\n",
    "corr"
   ]
  },
  {
   "cell_type": "code",
   "execution_count": 48,
   "metadata": {},
   "outputs": [
    {
     "data": {
      "text/plain": [
       "Index(['Unnamed: 0', 'Q1', 'Q2', 'Q3', 'Q4', 'Q5', 'Q6', 'Q7', 'Q8', 'Q9',\n",
       "       'Q10', 'Q11', 'gen', 'age', 'religion', 'edu', 'sm_year', 'sm_state',\n",
       "       'sm_day', 'dr_mean_year', 'dr_6cup', 'dr_hurt', 'dr_worry',\n",
       "       'preg_experience', 'health_state', 'disabled', 'work_state',\n",
       "       'work_code', 'region', 'income', 'loan1', 'loan2', 'loan3', 'loan5',\n",
       "       'loan6', 'loan7', 'loan8', 'y_total', 'y_train', 'loan_total',\n",
       "       'age_range'],\n",
       "      dtype='object')"
      ]
     },
     "execution_count": 48,
     "metadata": {},
     "output_type": "execute_result"
    }
   ],
   "source": [
    "df.columns"
   ]
  },
  {
   "cell_type": "code",
   "execution_count": 49,
   "metadata": {},
   "outputs": [
    {
     "data": {
      "text/plain": [
       "<seaborn.axisgrid.FacetGrid at 0x20154adf090>"
      ]
     },
     "execution_count": 49,
     "metadata": {},
     "output_type": "execute_result"
    },
    {
     "data": {
      "image/png": "[encoded data removed]",
      "text/plain": [
       "<Figure size 569.25x500 with 1 Axes>"
      ]
     },
     "metadata": {},
     "output_type": "display_data"
    }
   ],
   "source": [
    "sns.catplot(data=df,x='dr_mean_year',kind='count',hue='y_train')"
   ]
  },
  {
   "cell_type": "code",
   "execution_count": 50,
   "metadata": {},
   "outputs": [
    {
     "data": {
      "text/plain": [
       "array([nan, '월1회', '연1회', '전혀', '매일', '주1회'], dtype=object)"
      ]
     },
     "execution_count": 50,
     "metadata": {},
     "output_type": "execute_result"
    }
   ],
   "source": [
    "df['dr_6cup'].unique()"
   ]
  },
  {
   "cell_type": "code",
   "execution_count": 51,
   "metadata": {},
   "outputs": [
    {
     "data": {
      "text/plain": [
       "0"
      ]
     },
     "execution_count": 51,
     "metadata": {},
     "output_type": "execute_result"
    }
   ],
   "source": [
    "over_dr = df.loc[df['dr_6cup'].notnull(),:]\n",
    "\n",
    "over_dr['dr_6cup'].isnull().sum()"
   ]
  },
  {
   "cell_type": "code",
   "execution_count": 52,
   "metadata": {},
   "outputs": [
    {
     "data": {
      "text/plain": [
       "<seaborn.axisgrid.FacetGrid at 0x20154ade190>"
      ]
     },
     "execution_count": 52,
     "metadata": {},
     "output_type": "execute_result"
    },
    {
     "data": {
      "image/png": "[encoded data removed]",
      "text/plain": [
       "<Figure size 569.25x500 with 1 Axes>"
      ]
     },
     "metadata": {},
     "output_type": "display_data"
    }
   ],
   "source": [
    "sns.catplot(data=over_dr,x='dr_6cup',kind='count',hue='y_train')"
   ]
  },
  {
   "cell_type": "code",
   "execution_count": 53,
   "metadata": {},
   "outputs": [
    {
     "data": {
      "text/plain": [
       "Index(['Unnamed: 0', 'Q1', 'Q2', 'Q3', 'Q4', 'Q5', 'Q6', 'Q7', 'Q8', 'Q9',\n",
       "       'Q10', 'Q11', 'gen', 'age', 'religion', 'edu', 'sm_year', 'sm_state',\n",
       "       'sm_day', 'dr_mean_year', 'dr_6cup', 'dr_hurt', 'dr_worry',\n",
       "       'preg_experience', 'health_state', 'disabled', 'work_state',\n",
       "       'work_code', 'region', 'income', 'loan1', 'loan2', 'loan3', 'loan5',\n",
       "       'loan6', 'loan7', 'loan8', 'y_total', 'y_train', 'loan_total',\n",
       "       'age_range'],\n",
       "      dtype='object')"
      ]
     },
     "execution_count": 53,
     "metadata": {},
     "output_type": "execute_result"
    }
   ],
   "source": [
    "df.columns"
   ]
  },
  {
   "cell_type": "code",
   "execution_count": 54,
   "metadata": {},
   "outputs": [
    {
     "data": {
      "text/plain": [
       "array([nan, '전혀', '과거존재', '최근존재'], dtype=object)"
      ]
     },
     "execution_count": 54,
     "metadata": {},
     "output_type": "execute_result"
    }
   ],
   "source": [
    "df['dr_hurt'].unique()"
   ]
  },
  {
   "cell_type": "markdown",
   "metadata": {},
   "source": [
    "# 다치게한경험 칼럼이랑 걱정시키게한경험 칼럼 없애기 "
   ]
  },
  {
   "cell_type": "code",
   "execution_count": 55,
   "metadata": {},
   "outputs": [],
   "source": [
    "hurt = df.loc[df['dr_hurt'].notnull(),:]\n",
    "hurt = hurt.loc[hurt['dr_hurt']!='전혀',:]\n"
   ]
  },
  {
   "cell_type": "code",
   "execution_count": 56,
   "metadata": {},
   "outputs": [
    {
     "data": {
      "text/plain": [
       "Index(['Unnamed: 0', 'Q1', 'Q2', 'Q3', 'Q4', 'Q5', 'Q6', 'Q7', 'Q8', 'Q9',\n",
       "       'Q10', 'Q11', 'gen', 'age', 'religion', 'edu', 'sm_year', 'sm_state',\n",
       "       'sm_day', 'dr_mean_year', 'dr_6cup', 'dr_hurt', 'dr_worry',\n",
       "       'preg_experience', 'health_state', 'disabled', 'work_state',\n",
       "       'work_code', 'region', 'income', 'loan1', 'loan2', 'loan3', 'loan5',\n",
       "       'loan6', 'loan7', 'loan8', 'y_total', 'y_train', 'loan_total',\n",
       "       'age_range'],\n",
       "      dtype='object')"
      ]
     },
     "execution_count": 56,
     "metadata": {},
     "output_type": "execute_result"
    }
   ],
   "source": [
    "df.columns"
   ]
  },
  {
   "cell_type": "code",
   "execution_count": 57,
   "metadata": {},
   "outputs": [
    {
     "data": {
      "text/plain": [
       "array(['없다', '남성', '있다'], dtype=object)"
      ]
     },
     "execution_count": 57,
     "metadata": {},
     "output_type": "execute_result"
    }
   ],
   "source": [
    "df['preg_experience'].unique()"
   ]
  },
  {
   "cell_type": "code",
   "execution_count": null,
   "metadata": {},
   "outputs": [],
   "source": []
  },
  {
   "cell_type": "code",
   "execution_count": 58,
   "metadata": {},
   "outputs": [
    {
     "data": {
      "text/plain": [
       "<seaborn.axisgrid.FacetGrid at 0x20154a16090>"
      ]
     },
     "execution_count": 58,
     "metadata": {},
     "output_type": "execute_result"
    },
    {
     "data": {
      "image/png": "[encoded data removed]",
      "text/plain": [
       "<Figure size 569.25x500 with 1 Axes>"
      ]
     },
     "metadata": {},
     "output_type": "display_data"
    }
   ],
   "source": [
    "woman = df.loc[df['preg_experience']!='남성']\n",
    "sns.catplot(data=woman,x='preg_experience',kind='count',hue='y_train')"
   ]
  },
  {
   "cell_type": "code",
   "execution_count": 59,
   "metadata": {},
   "outputs": [
    {
     "data": {
      "text/plain": [
       "preg_experience\n",
       "없다    7596\n",
       "있다      86\n",
       "Name: count, dtype: int64"
      ]
     },
     "execution_count": 59,
     "metadata": {},
     "output_type": "execute_result"
    }
   ],
   "source": [
    "woman['preg_experience'].value_counts()"
   ]
  },
  {
   "cell_type": "code",
   "execution_count": 60,
   "metadata": {},
   "outputs": [],
   "source": [
    "\n",
    "subset_city_downsampled = resample(woman[woman['preg_experience']=='없다'],\n",
    "                            replace=False,\n",
    "                            n_samples =100 ,\n",
    "                            random_state = 2020)\n"
   ]
  },
  {
   "cell_type": "code",
   "execution_count": 61,
   "metadata": {},
   "outputs": [
    {
     "data": {
      "text/plain": [
       "preg_experience\n",
       "없다    100\n",
       "있다     86\n",
       "Name: count, dtype: int64"
      ]
     },
     "execution_count": 61,
     "metadata": {},
     "output_type": "execute_result"
    }
   ],
   "source": [
    "sm_data = pd.concat([woman[woman['preg_experience']=='있다'],subset_city_downsampled])\n",
    "sm_data['preg_experience'].value_counts()"
   ]
  },
  {
   "cell_type": "code",
   "execution_count": 62,
   "metadata": {},
   "outputs": [
    {
     "data": {
      "text/plain": [
       "<seaborn.axisgrid.FacetGrid at 0x201549b3410>"
      ]
     },
     "execution_count": 62,
     "metadata": {},
     "output_type": "execute_result"
    },
    {
     "data": {
      "image/png": "[encoded data removed]",
      "text/plain": [
       "<Figure size 569.25x500 with 1 Axes>"
      ]
     },
     "metadata": {},
     "output_type": "display_data"
    }
   ],
   "source": [
    "sns.catplot(data=sm_data,x='preg_experience',kind='count',hue='y_train')"
   ]
  },
  {
   "cell_type": "code",
   "execution_count": 63,
   "metadata": {},
   "outputs": [
    {
     "data": {
      "text/plain": [
       "Index(['Unnamed: 0', 'Q1', 'Q2', 'Q3', 'Q4', 'Q5', 'Q6', 'Q7', 'Q8', 'Q9',\n",
       "       'Q10', 'Q11', 'gen', 'age', 'religion', 'edu', 'sm_year', 'sm_state',\n",
       "       'sm_day', 'dr_mean_year', 'dr_6cup', 'dr_hurt', 'dr_worry',\n",
       "       'preg_experience', 'health_state', 'disabled', 'work_state',\n",
       "       'work_code', 'region', 'income', 'loan1', 'loan2', 'loan3', 'loan5',\n",
       "       'loan6', 'loan7', 'loan8', 'y_total', 'y_train', 'loan_total',\n",
       "       'age_range'],\n",
       "      dtype='object')"
      ]
     },
     "execution_count": 63,
     "metadata": {},
     "output_type": "execute_result"
    }
   ],
   "source": [
    "df.columns"
   ]
  },
  {
   "cell_type": "code",
   "execution_count": 64,
   "metadata": {},
   "outputs": [
    {
     "data": {
      "text/plain": [
       "array([2, 1, 4, 3, 5])"
      ]
     },
     "execution_count": 64,
     "metadata": {},
     "output_type": "execute_result"
    }
   ],
   "source": [
    "df['health_state'].unique()"
   ]
  },
  {
   "cell_type": "code",
   "execution_count": 65,
   "metadata": {},
   "outputs": [
    {
     "data": {
      "text/html": [
       "<div>\n",
       "<style scoped>\n",
       "    .dataframe tbody tr th:only-of-type {\n",
       "        vertical-align: middle;\n",
       "    }\n",
       "\n",
       "    .dataframe tbody tr th {\n",
       "        vertical-align: top;\n",
       "    }\n",
       "\n",
       "    .dataframe thead th {\n",
       "        text-align: right;\n",
       "    }\n",
       "</style>\n",
       "<table border=\"1\" class=\"dataframe\">\n",
       "  <thead>\n",
       "    <tr style=\"text-align: right;\">\n",
       "      <th></th>\n",
       "      <th>health_state</th>\n",
       "      <th>y_total</th>\n",
       "    </tr>\n",
       "  </thead>\n",
       "  <tbody>\n",
       "    <tr>\n",
       "      <th>health_state</th>\n",
       "      <td>1.00000</td>\n",
       "      <td>-0.39022</td>\n",
       "    </tr>\n",
       "    <tr>\n",
       "      <th>y_total</th>\n",
       "      <td>-0.39022</td>\n",
       "      <td>1.00000</td>\n",
       "    </tr>\n",
       "  </tbody>\n",
       "</table>\n",
       "</div>"
      ],
      "text/plain": [
       "              health_state  y_total\n",
       "health_state       1.00000 -0.39022\n",
       "y_total           -0.39022  1.00000"
      ]
     },
     "execution_count": 65,
     "metadata": {},
     "output_type": "execute_result"
    },
    {
     "data": {
      "image/png": "[encoded data removed]",
      "text/plain": [
       "<Figure size 1000x500 with 1 Axes>"
      ]
     },
     "metadata": {},
     "output_type": "display_data"
    }
   ],
   "source": [
    "\n",
    "sns.regplot(data=df,x='health_state',y='y_total')\n",
    "corr = df[['health_state','y_total']].corr(method='pearson')\n",
    "corr"
   ]
  },
  {
   "cell_type": "code",
   "execution_count": 66,
   "metadata": {},
   "outputs": [
    {
     "data": {
      "text/plain": [
       "Index(['gen', 'age', 'religion', 'edu', 'sm_year', 'sm_state', 'sm_day',\n",
       "       'dr_mean_year', 'dr_6cup', 'dr_hurt', 'dr_worry', 'preg_experience',\n",
       "       'health_state', 'disabled', 'work_state', 'work_code', 'region',\n",
       "       'income', 'y_total', 'y_train', 'age_range'],\n",
       "      dtype='object')"
      ]
     },
     "execution_count": 66,
     "metadata": {},
     "output_type": "execute_result"
    }
   ],
   "source": [
    "df.columns"
   ]
  },
  {
   "cell_type": "code",
   "execution_count": 67,
   "metadata": {},
   "outputs": [
    {
     "data": {
      "text/plain": [
       "disabled\n",
       "abled       12187\n",
       "disabled     1287\n",
       "Name: count, dtype: int64"
      ]
     },
     "execution_count": 67,
     "metadata": {},
     "output_type": "execute_result"
    }
   ],
   "source": [
    "df['disabled'].value_counts()"
   ]
  },
  {
   "cell_type": "code",
   "execution_count": null,
   "metadata": {},
   "outputs": [],
   "source": []
  },
  {
   "cell_type": "code",
   "execution_count": 68,
   "metadata": {},
   "outputs": [
    {
     "data": {
      "text/plain": [
       "<seaborn.axisgrid.FacetGrid at 0x1ec54cfcc50>"
      ]
     },
     "execution_count": 68,
     "metadata": {},
     "output_type": "execute_result"
    },
    {
     "data": {
      "image/png": "[encoded data removed]",
      "text/plain": [
       "<Figure size 569.25x500 with 1 Axes>"
      ]
     },
     "metadata": {},
     "output_type": "display_data"
    }
   ],
   "source": [
    "sns.catplot(data=df,x='disabled',kind='count',hue='y_train')"
   ]
  },
  {
   "cell_type": "code",
   "execution_count": 69,
   "metadata": {},
   "outputs": [
    {
     "data": {
      "text/plain": [
       "disabled\n",
       "disabled    1287\n",
       "abled       1287\n",
       "Name: count, dtype: int64"
      ]
     },
     "execution_count": 69,
     "metadata": {},
     "output_type": "execute_result"
    }
   ],
   "source": [
    "\n",
    "subset_city_downsampled = resample(df[df['disabled']=='abled'],\n",
    "                            replace=False,\n",
    "                            n_samples =1287 ,\n",
    "                            random_state = 2020)\n",
    "able = pd.concat([df[df['disabled']=='disabled'],subset_city_downsampled])\n",
    "able['disabled'].value_counts()"
   ]
  },
  {
   "cell_type": "code",
   "execution_count": 70,
   "metadata": {},
   "outputs": [
    {
     "data": {
      "text/plain": [
       "<seaborn.axisgrid.FacetGrid at 0x1ec54dbb8d0>"
      ]
     },
     "execution_count": 70,
     "metadata": {},
     "output_type": "execute_result"
    },
    {
     "data": {
      "image/png": "[encoded data removed]",
      "text/plain": [
       "<Figure size 569.25x500 with 1 Axes>"
      ]
     },
     "metadata": {},
     "output_type": "display_data"
    }
   ],
   "source": [
    "sns.catplot(data=able,x='disabled',kind='count',hue='y_train')"
   ]
  },
  {
   "cell_type": "code",
   "execution_count": 71,
   "metadata": {},
   "outputs": [
    {
     "data": {
      "text/plain": [
       "Index(['gen', 'age', 'religion', 'edu', 'sm_year', 'sm_state', 'sm_day',\n",
       "       'dr_mean_year', 'dr_6cup', 'dr_hurt', 'dr_worry', 'preg_experience',\n",
       "       'health_state', 'disabled', 'work_state', 'work_code', 'region',\n",
       "       'income', 'y_total', 'y_train', 'age_range'],\n",
       "      dtype='object')"
      ]
     },
     "execution_count": 71,
     "metadata": {},
     "output_type": "execute_result"
    }
   ],
   "source": [
    "df.columns"
   ]
  },
  {
   "cell_type": "code",
   "execution_count": 72,
   "metadata": {},
   "outputs": [
    {
     "data": {
      "text/plain": [
       "array(['nowork', 'work'], dtype=object)"
      ]
     },
     "execution_count": 72,
     "metadata": {},
     "output_type": "execute_result"
    }
   ],
   "source": [
    "df['work_state'].unique()"
   ]
  },
  {
   "cell_type": "code",
   "execution_count": 73,
   "metadata": {},
   "outputs": [
    {
     "data": {
      "text/plain": [
       "<seaborn.axisgrid.FacetGrid at 0x1ec555f7650>"
      ]
     },
     "execution_count": 73,
     "metadata": {},
     "output_type": "execute_result"
    },
    {
     "data": {
      "image/png": "[encoded data removed]",
      "text/plain": [
       "<Figure size 569.25x500 with 1 Axes>"
      ]
     },
     "metadata": {},
     "output_type": "display_data"
    }
   ],
   "source": [
    "sns.catplot(data=df,x='work_state',kind='count',hue='y_train')"
   ]
  },
  {
   "cell_type": "code",
   "execution_count": 74,
   "metadata": {},
   "outputs": [
    {
     "data": {
      "text/plain": [
       "<seaborn.axisgrid.FacetGrid at 0x1ec556bcc50>"
      ]
     },
     "execution_count": 74,
     "metadata": {},
     "output_type": "execute_result"
    },
    {
     "data": {
      "image/png": "[encoded data removed]",
      "text/plain": [
       "<Figure size 569.25x500 with 1 Axes>"
      ]
     },
     "metadata": {},
     "output_type": "display_data"
    }
   ],
   "source": [
    "sns.catplot(data=df,x='region',kind='count',hue='y_train')"
   ]
  },
  {
   "cell_type": "code",
   "execution_count": 75,
   "metadata": {},
   "outputs": [
    {
     "data": {
      "text/plain": [
       "region\n",
       "city       10826\n",
       "country     2648\n",
       "Name: count, dtype: int64"
      ]
     },
     "execution_count": 75,
     "metadata": {},
     "output_type": "execute_result"
    }
   ],
   "source": [
    "df['region'].value_counts()"
   ]
  },
  {
   "cell_type": "code",
   "execution_count": 76,
   "metadata": {},
   "outputs": [
    {
     "data": {
      "text/plain": [
       "region\n",
       "country    2648\n",
       "city       2648\n",
       "Name: count, dtype: int64"
      ]
     },
     "execution_count": 76,
     "metadata": {},
     "output_type": "execute_result"
    }
   ],
   "source": [
    "\n",
    "subset_city_downsampled = resample(df[df['region']=='city'],\n",
    "                            replace=False,\n",
    "                            n_samples =2648 ,\n",
    "                            random_state = 2020)\n",
    "city = pd.concat([df[df['region']=='country'],subset_city_downsampled])\n",
    "city['region'].value_counts()"
   ]
  },
  {
   "cell_type": "code",
   "execution_count": 77,
   "metadata": {},
   "outputs": [
    {
     "data": {
      "text/plain": [
       "<seaborn.axisgrid.FacetGrid at 0x1ec54c0f550>"
      ]
     },
     "execution_count": 77,
     "metadata": {},
     "output_type": "execute_result"
    },
    {
     "data": {
      "image/png": "[encoded data removed]",
      "text/plain": [
       "<Figure size 569.25x500 with 1 Axes>"
      ]
     },
     "metadata": {},
     "output_type": "display_data"
    }
   ],
   "source": [
    "sns.catplot(data=city,x='region',kind='count',hue='y_train')"
   ]
  },
  {
   "cell_type": "code",
   "execution_count": 78,
   "metadata": {},
   "outputs": [
    {
     "data": {
      "text/plain": [
       "Index(['gen', 'age', 'religion', 'edu', 'sm_year', 'sm_state', 'sm_day',\n",
       "       'dr_mean_year', 'dr_6cup', 'dr_hurt', 'dr_worry', 'preg_experience',\n",
       "       'health_state', 'disabled', 'work_state', 'work_code', 'region',\n",
       "       'income', 'y_total', 'y_train', 'age_range'],\n",
       "      dtype='object')"
      ]
     },
     "execution_count": 78,
     "metadata": {},
     "output_type": "execute_result"
    }
   ],
   "source": [
    "df.columns"
   ]
  },
  {
   "cell_type": "code",
   "execution_count": 79,
   "metadata": {},
   "outputs": [
    {
     "data": {
      "text/html": [
       "<div>\n",
       "<style scoped>\n",
       "    .dataframe tbody tr th:only-of-type {\n",
       "        vertical-align: middle;\n",
       "    }\n",
       "\n",
       "    .dataframe tbody tr th {\n",
       "        vertical-align: top;\n",
       "    }\n",
       "\n",
       "    .dataframe thead th {\n",
       "        text-align: right;\n",
       "    }\n",
       "</style>\n",
       "<table border=\"1\" class=\"dataframe\">\n",
       "  <thead>\n",
       "    <tr style=\"text-align: right;\">\n",
       "      <th></th>\n",
       "      <th>income</th>\n",
       "      <th>y_total</th>\n",
       "    </tr>\n",
       "  </thead>\n",
       "  <tbody>\n",
       "    <tr>\n",
       "      <th>income</th>\n",
       "      <td>1.000000</td>\n",
       "      <td>-0.212786</td>\n",
       "    </tr>\n",
       "    <tr>\n",
       "      <th>y_total</th>\n",
       "      <td>-0.212786</td>\n",
       "      <td>1.000000</td>\n",
       "    </tr>\n",
       "  </tbody>\n",
       "</table>\n",
       "</div>"
      ],
      "text/plain": [
       "           income   y_total\n",
       "income   1.000000 -0.212786\n",
       "y_total -0.212786  1.000000"
      ]
     },
     "execution_count": 79,
     "metadata": {},
     "output_type": "execute_result"
    },
    {
     "data": {
      "image/png": "[encoded data removed]",
      "text/plain": [
       "<Figure size 1000x500 with 1 Axes>"
      ]
     },
     "metadata": {},
     "output_type": "display_data"
    }
   ],
   "source": [
    "\n",
    "sns.regplot(data=df,x='income',y='y_total')\n",
    "corr = df[['income','y_total']].corr(method='pearson')\n",
    "corr"
   ]
  },
  {
   "cell_type": "markdown",
   "metadata": {},
   "source": [
    "분산분석이던 카이제곱 검정이던 일단 독립변수에 따라 종속변수의 유의미한 차이가 있는지  가설검정\n",
    "\n",
    "연관성 분석은 했음.\n",
    "\n",
    "회귀분석 떄리면 됌 (다중회귀분석 + 로지스틱 회귐분석)\n",
    "\n"
   ]
  },
  {
   "cell_type": "code",
   "execution_count": 80,
   "metadata": {},
   "outputs": [
    {
     "data": {
      "text/html": [
       "<div>\n",
       "<style scoped>\n",
       "    .dataframe tbody tr th:only-of-type {\n",
       "        vertical-align: middle;\n",
       "    }\n",
       "\n",
       "    .dataframe tbody tr th {\n",
       "        vertical-align: top;\n",
       "    }\n",
       "\n",
       "    .dataframe thead th {\n",
       "        text-align: right;\n",
       "    }\n",
       "</style>\n",
       "<table border=\"1\" class=\"dataframe\">\n",
       "  <thead>\n",
       "    <tr style=\"text-align: right;\">\n",
       "      <th></th>\n",
       "      <th>gen</th>\n",
       "      <th>age</th>\n",
       "      <th>religion</th>\n",
       "      <th>edu</th>\n",
       "      <th>sm_year</th>\n",
       "      <th>sm_state</th>\n",
       "      <th>sm_day</th>\n",
       "      <th>dr_mean_year</th>\n",
       "      <th>dr_6cup</th>\n",
       "      <th>dr_hurt</th>\n",
       "      <th>...</th>\n",
       "      <th>preg_experience</th>\n",
       "      <th>health_state</th>\n",
       "      <th>disabled</th>\n",
       "      <th>work_state</th>\n",
       "      <th>work_code</th>\n",
       "      <th>region</th>\n",
       "      <th>income</th>\n",
       "      <th>y_total</th>\n",
       "      <th>y_train</th>\n",
       "      <th>age_range</th>\n",
       "    </tr>\n",
       "  </thead>\n",
       "  <tbody>\n",
       "    <tr>\n",
       "      <th>0</th>\n",
       "      <td>female</td>\n",
       "      <td>78</td>\n",
       "      <td>yes</td>\n",
       "      <td>중졸</td>\n",
       "      <td>NaN</td>\n",
       "      <td>no</td>\n",
       "      <td>NaN</td>\n",
       "      <td>전혀마시지않음</td>\n",
       "      <td>NaN</td>\n",
       "      <td>NaN</td>\n",
       "      <td>...</td>\n",
       "      <td>없다</td>\n",
       "      <td>2</td>\n",
       "      <td>abled</td>\n",
       "      <td>nowork</td>\n",
       "      <td>NaN</td>\n",
       "      <td>city</td>\n",
       "      <td>NaN</td>\n",
       "      <td>20</td>\n",
       "      <td>0</td>\n",
       "      <td>60세 이상</td>\n",
       "    </tr>\n",
       "    <tr>\n",
       "      <th>1</th>\n",
       "      <td>male</td>\n",
       "      <td>75</td>\n",
       "      <td>no</td>\n",
       "      <td>초졸이하</td>\n",
       "      <td>NaN</td>\n",
       "      <td>no</td>\n",
       "      <td>NaN</td>\n",
       "      <td>전혀마시지않음</td>\n",
       "      <td>NaN</td>\n",
       "      <td>NaN</td>\n",
       "      <td>...</td>\n",
       "      <td>남성</td>\n",
       "      <td>1</td>\n",
       "      <td>abled</td>\n",
       "      <td>work</td>\n",
       "      <td>942.0</td>\n",
       "      <td>city</td>\n",
       "      <td>172.0</td>\n",
       "      <td>29</td>\n",
       "      <td>1</td>\n",
       "      <td>60세 이상</td>\n",
       "    </tr>\n",
       "    <tr>\n",
       "      <th>2</th>\n",
       "      <td>male</td>\n",
       "      <td>81</td>\n",
       "      <td>yes</td>\n",
       "      <td>대졸이상</td>\n",
       "      <td>NaN</td>\n",
       "      <td>no</td>\n",
       "      <td>NaN</td>\n",
       "      <td>전혀마시지않음</td>\n",
       "      <td>NaN</td>\n",
       "      <td>NaN</td>\n",
       "      <td>...</td>\n",
       "      <td>남성</td>\n",
       "      <td>4</td>\n",
       "      <td>abled</td>\n",
       "      <td>work</td>\n",
       "      <td>762.0</td>\n",
       "      <td>city</td>\n",
       "      <td>100.0</td>\n",
       "      <td>18</td>\n",
       "      <td>0</td>\n",
       "      <td>60세 이상</td>\n",
       "    </tr>\n",
       "    <tr>\n",
       "      <th>3</th>\n",
       "      <td>male</td>\n",
       "      <td>61</td>\n",
       "      <td>yes</td>\n",
       "      <td>대졸이상</td>\n",
       "      <td>NaN</td>\n",
       "      <td>no</td>\n",
       "      <td>NaN</td>\n",
       "      <td>전혀마시지않음</td>\n",
       "      <td>NaN</td>\n",
       "      <td>NaN</td>\n",
       "      <td>...</td>\n",
       "      <td>남성</td>\n",
       "      <td>4</td>\n",
       "      <td>abled</td>\n",
       "      <td>work</td>\n",
       "      <td>855.0</td>\n",
       "      <td>city</td>\n",
       "      <td>268.0</td>\n",
       "      <td>20</td>\n",
       "      <td>0</td>\n",
       "      <td>60세 이상</td>\n",
       "    </tr>\n",
       "    <tr>\n",
       "      <th>4</th>\n",
       "      <td>female</td>\n",
       "      <td>60</td>\n",
       "      <td>yes</td>\n",
       "      <td>고졸</td>\n",
       "      <td>NaN</td>\n",
       "      <td>no</td>\n",
       "      <td>NaN</td>\n",
       "      <td>전혀마시지않음</td>\n",
       "      <td>NaN</td>\n",
       "      <td>NaN</td>\n",
       "      <td>...</td>\n",
       "      <td>없다</td>\n",
       "      <td>4</td>\n",
       "      <td>abled</td>\n",
       "      <td>work</td>\n",
       "      <td>399.0</td>\n",
       "      <td>city</td>\n",
       "      <td>140.0</td>\n",
       "      <td>21</td>\n",
       "      <td>0</td>\n",
       "      <td>60세 이상</td>\n",
       "    </tr>\n",
       "  </tbody>\n",
       "</table>\n",
       "<p>5 rows × 21 columns</p>\n",
       "</div>"
      ],
      "text/plain": [
       "      gen  age religion   edu  sm_year sm_state  sm_day dr_mean_year dr_6cup  \\\n",
       "0  female   78      yes    중졸      NaN       no     NaN      전혀마시지않음     NaN   \n",
       "1    male   75       no  초졸이하      NaN       no     NaN      전혀마시지않음     NaN   \n",
       "2    male   81      yes  대졸이상      NaN       no     NaN      전혀마시지않음     NaN   \n",
       "3    male   61      yes  대졸이상      NaN       no     NaN      전혀마시지않음     NaN   \n",
       "4  female   60      yes    고졸      NaN       no     NaN      전혀마시지않음     NaN   \n",
       "\n",
       "  dr_hurt  ... preg_experience health_state  disabled work_state work_code  \\\n",
       "0     NaN  ...              없다            2     abled     nowork       NaN   \n",
       "1     NaN  ...              남성            1     abled       work     942.0   \n",
       "2     NaN  ...              남성            4     abled       work     762.0   \n",
       "3     NaN  ...              남성            4     abled       work     855.0   \n",
       "4     NaN  ...              없다            4     abled       work     399.0   \n",
       "\n",
       "   region income  y_total  y_train  age_range  \n",
       "0    city    NaN       20        0     60세 이상  \n",
       "1    city  172.0       29        1     60세 이상  \n",
       "2    city  100.0       18        0     60세 이상  \n",
       "3    city  268.0       20        0     60세 이상  \n",
       "4    city  140.0       21        0     60세 이상  \n",
       "\n",
       "[5 rows x 21 columns]"
      ]
     },
     "execution_count": 80,
     "metadata": {},
     "output_type": "execute_result"
    }
   ],
   "source": [
    "df.head()"
   ]
  },
  {
   "cell_type": "code",
   "execution_count": 82,
   "metadata": {},
   "outputs": [
    {
     "data": {
      "text/plain": [
       "Index(['gen', 'age', 'religion', 'edu', 'sm_year', 'sm_state', 'sm_day',\n",
       "       'dr_mean_year', 'dr_6cup', 'dr_hurt', 'dr_worry', 'preg_experience',\n",
       "       'health_state', 'disabled', 'work_state', 'work_code', 'region',\n",
       "       'income', 'y_total', 'y_train', 'age_range'],\n",
       "      dtype='object')"
      ]
     },
     "execution_count": 82,
     "metadata": {},
     "output_type": "execute_result"
    }
   ],
   "source": [
    "df.columns"
   ]
  },
  {
   "cell_type": "code",
   "execution_count": 127,
   "metadata": {},
   "outputs": [
    {
     "data": {
      "text/html": [
       "<div>\n",
       "<style scoped>\n",
       "    .dataframe tbody tr th:only-of-type {\n",
       "        vertical-align: middle;\n",
       "    }\n",
       "\n",
       "    .dataframe tbody tr th {\n",
       "        vertical-align: top;\n",
       "    }\n",
       "\n",
       "    .dataframe thead th {\n",
       "        text-align: right;\n",
       "    }\n",
       "</style>\n",
       "<table border=\"1\" class=\"dataframe\">\n",
       "  <thead>\n",
       "    <tr style=\"text-align: right;\">\n",
       "      <th></th>\n",
       "      <th>gen</th>\n",
       "      <th>age</th>\n",
       "      <th>edu</th>\n",
       "      <th>health_state</th>\n",
       "      <th>disabled</th>\n",
       "      <th>work_state</th>\n",
       "      <th>income</th>\n",
       "      <th>age_range</th>\n",
       "      <th>y_total</th>\n",
       "      <th>y_train</th>\n",
       "    </tr>\n",
       "  </thead>\n",
       "  <tbody>\n",
       "    <tr>\n",
       "      <th>0</th>\n",
       "      <td>female</td>\n",
       "      <td>78</td>\n",
       "      <td>중졸</td>\n",
       "      <td>2</td>\n",
       "      <td>abled</td>\n",
       "      <td>nowork</td>\n",
       "      <td>NaN</td>\n",
       "      <td>60세 이상</td>\n",
       "      <td>20</td>\n",
       "      <td>0</td>\n",
       "    </tr>\n",
       "    <tr>\n",
       "      <th>1</th>\n",
       "      <td>male</td>\n",
       "      <td>75</td>\n",
       "      <td>초졸이하</td>\n",
       "      <td>1</td>\n",
       "      <td>abled</td>\n",
       "      <td>work</td>\n",
       "      <td>172.0</td>\n",
       "      <td>60세 이상</td>\n",
       "      <td>29</td>\n",
       "      <td>1</td>\n",
       "    </tr>\n",
       "    <tr>\n",
       "      <th>2</th>\n",
       "      <td>male</td>\n",
       "      <td>81</td>\n",
       "      <td>대졸이상</td>\n",
       "      <td>4</td>\n",
       "      <td>abled</td>\n",
       "      <td>work</td>\n",
       "      <td>100.0</td>\n",
       "      <td>60세 이상</td>\n",
       "      <td>18</td>\n",
       "      <td>0</td>\n",
       "    </tr>\n",
       "    <tr>\n",
       "      <th>3</th>\n",
       "      <td>male</td>\n",
       "      <td>61</td>\n",
       "      <td>대졸이상</td>\n",
       "      <td>4</td>\n",
       "      <td>abled</td>\n",
       "      <td>work</td>\n",
       "      <td>268.0</td>\n",
       "      <td>60세 이상</td>\n",
       "      <td>20</td>\n",
       "      <td>0</td>\n",
       "    </tr>\n",
       "    <tr>\n",
       "      <th>4</th>\n",
       "      <td>female</td>\n",
       "      <td>60</td>\n",
       "      <td>고졸</td>\n",
       "      <td>4</td>\n",
       "      <td>abled</td>\n",
       "      <td>work</td>\n",
       "      <td>140.0</td>\n",
       "      <td>60세 이상</td>\n",
       "      <td>21</td>\n",
       "      <td>0</td>\n",
       "    </tr>\n",
       "  </tbody>\n",
       "</table>\n",
       "</div>"
      ],
      "text/plain": [
       "      gen  age   edu  health_state disabled work_state  income age_range  \\\n",
       "0  female   78    중졸             2    abled     nowork     NaN    60세 이상   \n",
       "1    male   75  초졸이하             1    abled       work   172.0    60세 이상   \n",
       "2    male   81  대졸이상             4    abled       work   100.0    60세 이상   \n",
       "3    male   61  대졸이상             4    abled       work   268.0    60세 이상   \n",
       "4  female   60    고졸             4    abled       work   140.0    60세 이상   \n",
       "\n",
       "   y_total  y_train  \n",
       "0       20        0  \n",
       "1       29        1  \n",
       "2       18        0  \n",
       "3       20        0  \n",
       "4       21        0  "
      ]
     },
     "execution_count": 127,
     "metadata": {},
     "output_type": "execute_result"
    }
   ],
   "source": [
    "new_df = df[['gen','age','edu','health_state','disabled','work_state','income','age_range','y_total','y_train']]\n",
    "new_df.head()"
   ]
  },
  {
   "cell_type": "markdown",
   "metadata": {},
   "source": [
    "### 범주형 변수들에 대한 시각화 \n",
    "#### 성별"
   ]
  },
  {
   "cell_type": "code",
   "execution_count": 128,
   "metadata": {},
   "outputs": [
    {
     "data": {
      "text/plain": [
       "<seaborn.axisgrid.FacetGrid at 0x1ec5c2fa450>"
      ]
     },
     "execution_count": 128,
     "metadata": {},
     "output_type": "execute_result"
    },
    {
     "data": {
      "image/png": "[encoded data removed]",
      "text/plain": [
       "<Figure size 569.25x500 with 1 Axes>"
      ]
     },
     "metadata": {},
     "output_type": "display_data"
    }
   ],
   "source": [
    "sns.catplot(data = new_df,x='gen',kind='count',hue='y_train')"
   ]
  },
  {
   "cell_type": "markdown",
   "metadata": {},
   "source": [
    "#### 교육수준"
   ]
  },
  {
   "cell_type": "code",
   "execution_count": 129,
   "metadata": {},
   "outputs": [
    {
     "data": {
      "text/plain": [
       "<seaborn.axisgrid.FacetGrid at 0x1ec5c4a7a90>"
      ]
     },
     "execution_count": 129,
     "metadata": {},
     "output_type": "execute_result"
    },
    {
     "data": {
      "image/png": "[encoded data removed]",
      "text/plain": [
       "<Figure size 569.25x500 with 1 Axes>"
      ]
     },
     "metadata": {},
     "output_type": "display_data"
    }
   ],
   "source": [
    "sns.catplot(data = new_df,x='edu',kind='count',hue='y_train')"
   ]
  },
  {
   "cell_type": "markdown",
   "metadata": {},
   "source": []
  },
  {
   "cell_type": "code",
   "execution_count": 130,
   "metadata": {},
   "outputs": [],
   "source": [
    "# 출력 옵션 설정\n",
    "pd.set_option(\"display.max_rows\", None)  # 모든 행 표시\n",
    "pd.set_option(\"display.max_columns\", None)  # 모든 열 표시\n",
    "pd.set_option(\"display.width\", None)  # 줄 바꿈 없이 전체 내용 표시\n"
   ]
  },
  {
   "cell_type": "markdown",
   "metadata": {},
   "source": [
    "### 정규성 검정"
   ]
  },
  {
   "cell_type": "code",
   "execution_count": 131,
   "metadata": {},
   "outputs": [
    {
     "name": "stdout",
     "output_type": "stream",
     "text": [
      "정규성 검정 결과: statistic = 0.9617179036140442 p-value = 0.0\n"
     ]
    },
    {
     "name": "stderr",
     "output_type": "stream",
     "text": [
      "c:\\Users\\hamin\\AppData\\Local\\Programs\\Python\\Python311\\Lib\\site-packages\\scipy\\stats\\_morestats.py:1882: UserWarning: p-value may not be accurate for N > 5000.\n",
      "  warnings.warn(\"p-value may not be accurate for N > 5000.\")\n"
     ]
    }
   ],
   "source": [
    "test_stat,p_val = stats.shapiro(new_df['age'])\n",
    "print(\"정규성 검정 결과: statistic =\", test_stat, \"p-value =\", p_val)"
   ]
  },
  {
   "cell_type": "code",
   "execution_count": 132,
   "metadata": {},
   "outputs": [
    {
     "name": "stdout",
     "output_type": "stream",
     "text": [
      "정규성 검정 결과: statistic = 0.8813180327415466 p-value = 0.0\n"
     ]
    }
   ],
   "source": [
    "test_stat,p_val = stats.shapiro(new_df.loc[new_df['income'].notnull(),\"income\"])\n",
    "print(\"정규성 검정 결과: statistic =\", test_stat, \"p-value =\", p_val)"
   ]
  },
  {
   "cell_type": "markdown",
   "metadata": {},
   "source": [
    "#### 독립성"
   ]
  },
  {
   "cell_type": "code",
   "execution_count": 133,
   "metadata": {},
   "outputs": [
    {
     "ename": "NameError",
     "evalue": "name 'ttest_ind' is not defined",
     "output_type": "error",
     "traceback": [
      "\u001b[1;31m---------------------------------------------------------------------------\u001b[0m",
      "\u001b[1;31mNameError\u001b[0m                                 Traceback (most recent call last)",
      "Cell \u001b[1;32mIn[133], line 1\u001b[0m\n\u001b[1;32m----> 1\u001b[0m t_stat, p_value \u001b[39m=\u001b[39m ttest_ind(variable1, variable2)\n\u001b[0;32m      2\u001b[0m \u001b[39mprint\u001b[39m(\u001b[39m\"\u001b[39m\u001b[39m독립표본 t-검정 결과: t-statistic =\u001b[39m\u001b[39m\"\u001b[39m, t_stat, \u001b[39m\"\u001b[39m\u001b[39mp-value =\u001b[39m\u001b[39m\"\u001b[39m, p_value)\n",
      "\u001b[1;31mNameError\u001b[0m: name 'ttest_ind' is not defined"
     ]
    }
   ],
   "source": [
    "t_stat, p_value = ttest_ind(variable1, variable2)\n",
    "print(\"독립표본 t-검정 결과: t-statistic =\", t_stat, \"p-value =\", p_value)"
   ]
  },
  {
   "cell_type": "code",
   "execution_count": 134,
   "metadata": {},
   "outputs": [
    {
     "data": {
      "text/plain": [
       "Index(['gen', 'age', 'edu', 'health_state', 'disabled', 'work_state', 'income',\n",
       "       'age_range', 'y_total', 'y_train'],\n",
       "      dtype='object')"
      ]
     },
     "execution_count": 134,
     "metadata": {},
     "output_type": "execute_result"
    }
   ],
   "source": [
    "new_df.columns"
   ]
  },
  {
   "cell_type": "code",
   "execution_count": 135,
   "metadata": {},
   "outputs": [],
   "source": [
    "from statsmodels.stats.anova import anova_lm"
   ]
  },
  {
   "cell_type": "code",
   "execution_count": 136,
   "metadata": {},
   "outputs": [
    {
     "data": {
      "text/plain": [
       "Index(['gen', 'age', 'edu', 'health_state', 'disabled', 'work_state', 'income',\n",
       "       'age_range', 'y_total', 'y_train'],\n",
       "      dtype='object')"
      ]
     },
     "execution_count": 136,
     "metadata": {},
     "output_type": "execute_result"
    }
   ],
   "source": [
    "new_df.columns"
   ]
  },
  {
   "cell_type": "code",
   "execution_count": 139,
   "metadata": {},
   "outputs": [
    {
     "data": {
      "text/html": [
       "<div>\n",
       "<style scoped>\n",
       "    .dataframe tbody tr th:only-of-type {\n",
       "        vertical-align: middle;\n",
       "    }\n",
       "\n",
       "    .dataframe tbody tr th {\n",
       "        vertical-align: top;\n",
       "    }\n",
       "\n",
       "    .dataframe thead th {\n",
       "        text-align: right;\n",
       "    }\n",
       "</style>\n",
       "<table border=\"1\" class=\"dataframe\">\n",
       "  <thead>\n",
       "    <tr style=\"text-align: right;\">\n",
       "      <th></th>\n",
       "      <th>df</th>\n",
       "      <th>sum_sq</th>\n",
       "      <th>mean_sq</th>\n",
       "      <th>F</th>\n",
       "      <th>PR(&gt;F)</th>\n",
       "    </tr>\n",
       "  </thead>\n",
       "  <tbody>\n",
       "    <tr>\n",
       "      <th>C(gen)</th>\n",
       "      <td>1.0</td>\n",
       "      <td>3.843493</td>\n",
       "      <td>3.843493</td>\n",
       "      <td>62.119841</td>\n",
       "      <td>3.930241e-15</td>\n",
       "    </tr>\n",
       "    <tr>\n",
       "      <th>C(age_range)</th>\n",
       "      <td>4.0</td>\n",
       "      <td>5.431234</td>\n",
       "      <td>1.357808</td>\n",
       "      <td>21.945361</td>\n",
       "      <td>5.587364e-18</td>\n",
       "    </tr>\n",
       "    <tr>\n",
       "      <th>C(edu)</th>\n",
       "      <td>3.0</td>\n",
       "      <td>4.654326</td>\n",
       "      <td>1.551442</td>\n",
       "      <td>25.074933</td>\n",
       "      <td>4.249259e-16</td>\n",
       "    </tr>\n",
       "    <tr>\n",
       "      <th>C(health_state)</th>\n",
       "      <td>4.0</td>\n",
       "      <td>10.290163</td>\n",
       "      <td>2.572541</td>\n",
       "      <td>41.578278</td>\n",
       "      <td>2.393449e-34</td>\n",
       "    </tr>\n",
       "    <tr>\n",
       "      <th>C(disabled)</th>\n",
       "      <td>1.0</td>\n",
       "      <td>0.081564</td>\n",
       "      <td>0.081564</td>\n",
       "      <td>1.318257</td>\n",
       "      <td>2.509595e-01</td>\n",
       "    </tr>\n",
       "    <tr>\n",
       "      <th>C(work_state)</th>\n",
       "      <td>1.0</td>\n",
       "      <td>0.287094</td>\n",
       "      <td>0.287094</td>\n",
       "      <td>4.640114</td>\n",
       "      <td>3.128012e-02</td>\n",
       "    </tr>\n",
       "    <tr>\n",
       "      <th>C(gen):C(age_range)</th>\n",
       "      <td>4.0</td>\n",
       "      <td>0.684300</td>\n",
       "      <td>0.171075</td>\n",
       "      <td>2.764971</td>\n",
       "      <td>2.600809e-02</td>\n",
       "    </tr>\n",
       "    <tr>\n",
       "      <th>C(gen):C(edu)</th>\n",
       "      <td>3.0</td>\n",
       "      <td>0.069488</td>\n",
       "      <td>0.023163</td>\n",
       "      <td>0.374365</td>\n",
       "      <td>7.715055e-01</td>\n",
       "    </tr>\n",
       "    <tr>\n",
       "      <th>C(age_range):C(edu)</th>\n",
       "      <td>12.0</td>\n",
       "      <td>0.949892</td>\n",
       "      <td>0.079158</td>\n",
       "      <td>1.279373</td>\n",
       "      <td>2.231430e-01</td>\n",
       "    </tr>\n",
       "    <tr>\n",
       "      <th>C(gen):C(health_state)</th>\n",
       "      <td>4.0</td>\n",
       "      <td>0.478971</td>\n",
       "      <td>0.119743</td>\n",
       "      <td>1.935324</td>\n",
       "      <td>1.017056e-01</td>\n",
       "    </tr>\n",
       "    <tr>\n",
       "      <th>C(age_range):C(health_state)</th>\n",
       "      <td>16.0</td>\n",
       "      <td>2.228430</td>\n",
       "      <td>0.139277</td>\n",
       "      <td>2.251041</td>\n",
       "      <td>2.950913e-03</td>\n",
       "    </tr>\n",
       "    <tr>\n",
       "      <th>C(edu):C(health_state)</th>\n",
       "      <td>12.0</td>\n",
       "      <td>2.460207</td>\n",
       "      <td>0.205017</td>\n",
       "      <td>3.313558</td>\n",
       "      <td>8.230946e-05</td>\n",
       "    </tr>\n",
       "    <tr>\n",
       "      <th>C(gen):C(disabled)</th>\n",
       "      <td>1.0</td>\n",
       "      <td>0.088243</td>\n",
       "      <td>0.088243</td>\n",
       "      <td>1.426205</td>\n",
       "      <td>2.324408e-01</td>\n",
       "    </tr>\n",
       "    <tr>\n",
       "      <th>C(age_range):C(disabled)</th>\n",
       "      <td>4.0</td>\n",
       "      <td>0.235833</td>\n",
       "      <td>0.058958</td>\n",
       "      <td>0.952903</td>\n",
       "      <td>4.321983e-01</td>\n",
       "    </tr>\n",
       "    <tr>\n",
       "      <th>C(edu):C(disabled)</th>\n",
       "      <td>3.0</td>\n",
       "      <td>0.129999</td>\n",
       "      <td>0.043333</td>\n",
       "      <td>0.700363</td>\n",
       "      <td>5.517386e-01</td>\n",
       "    </tr>\n",
       "    <tr>\n",
       "      <th>C(health_state):C(disabled)</th>\n",
       "      <td>4.0</td>\n",
       "      <td>0.547485</td>\n",
       "      <td>0.136871</td>\n",
       "      <td>2.212159</td>\n",
       "      <td>6.515538e-02</td>\n",
       "    </tr>\n",
       "    <tr>\n",
       "      <th>C(gen):C(work_state)</th>\n",
       "      <td>1.0</td>\n",
       "      <td>0.110020</td>\n",
       "      <td>0.110020</td>\n",
       "      <td>1.778185</td>\n",
       "      <td>1.824325e-01</td>\n",
       "    </tr>\n",
       "    <tr>\n",
       "      <th>C(age_range):C(work_state)</th>\n",
       "      <td>4.0</td>\n",
       "      <td>0.189715</td>\n",
       "      <td>0.047429</td>\n",
       "      <td>0.766560</td>\n",
       "      <td>5.468559e-01</td>\n",
       "    </tr>\n",
       "    <tr>\n",
       "      <th>C(edu):C(work_state)</th>\n",
       "      <td>3.0</td>\n",
       "      <td>0.511226</td>\n",
       "      <td>0.170409</td>\n",
       "      <td>2.754202</td>\n",
       "      <td>4.099455e-02</td>\n",
       "    </tr>\n",
       "    <tr>\n",
       "      <th>C(health_state):C(work_state)</th>\n",
       "      <td>4.0</td>\n",
       "      <td>0.066247</td>\n",
       "      <td>0.016562</td>\n",
       "      <td>0.267678</td>\n",
       "      <td>8.988756e-01</td>\n",
       "    </tr>\n",
       "    <tr>\n",
       "      <th>C(disabled):C(work_state)</th>\n",
       "      <td>1.0</td>\n",
       "      <td>0.018366</td>\n",
       "      <td>0.018366</td>\n",
       "      <td>0.296830</td>\n",
       "      <td>5.859008e-01</td>\n",
       "    </tr>\n",
       "    <tr>\n",
       "      <th>C(gen):C(age_range):C(edu)</th>\n",
       "      <td>12.0</td>\n",
       "      <td>0.110370</td>\n",
       "      <td>0.009197</td>\n",
       "      <td>0.148653</td>\n",
       "      <td>9.996710e-01</td>\n",
       "    </tr>\n",
       "    <tr>\n",
       "      <th>C(gen):C(age_range):C(health_state)</th>\n",
       "      <td>16.0</td>\n",
       "      <td>2.388652</td>\n",
       "      <td>0.149291</td>\n",
       "      <td>2.412888</td>\n",
       "      <td>1.278257e-03</td>\n",
       "    </tr>\n",
       "    <tr>\n",
       "      <th>C(gen):C(edu):C(health_state)</th>\n",
       "      <td>12.0</td>\n",
       "      <td>0.724692</td>\n",
       "      <td>0.060391</td>\n",
       "      <td>0.976060</td>\n",
       "      <td>4.691818e-01</td>\n",
       "    </tr>\n",
       "    <tr>\n",
       "      <th>C(age_range):C(edu):C(health_state)</th>\n",
       "      <td>48.0</td>\n",
       "      <td>1.758665</td>\n",
       "      <td>0.036639</td>\n",
       "      <td>0.592170</td>\n",
       "      <td>9.887866e-01</td>\n",
       "    </tr>\n",
       "    <tr>\n",
       "      <th>C(gen):C(age_range):C(disabled)</th>\n",
       "      <td>4.0</td>\n",
       "      <td>0.474193</td>\n",
       "      <td>0.118548</td>\n",
       "      <td>1.916015</td>\n",
       "      <td>1.048672e-01</td>\n",
       "    </tr>\n",
       "    <tr>\n",
       "      <th>C(gen):C(edu):C(disabled)</th>\n",
       "      <td>3.0</td>\n",
       "      <td>0.194140</td>\n",
       "      <td>0.064713</td>\n",
       "      <td>1.045918</td>\n",
       "      <td>3.709677e-01</td>\n",
       "    </tr>\n",
       "    <tr>\n",
       "      <th>C(age_range):C(edu):C(disabled)</th>\n",
       "      <td>12.0</td>\n",
       "      <td>1.452264</td>\n",
       "      <td>0.121022</td>\n",
       "      <td>1.955999</td>\n",
       "      <td>2.420873e-02</td>\n",
       "    </tr>\n",
       "    <tr>\n",
       "      <th>C(gen):C(health_state):C(disabled)</th>\n",
       "      <td>4.0</td>\n",
       "      <td>0.737100</td>\n",
       "      <td>0.184275</td>\n",
       "      <td>2.978313</td>\n",
       "      <td>1.809840e-02</td>\n",
       "    </tr>\n",
       "    <tr>\n",
       "      <th>C(age_range):C(health_state):C(disabled)</th>\n",
       "      <td>16.0</td>\n",
       "      <td>0.403924</td>\n",
       "      <td>0.025245</td>\n",
       "      <td>0.408022</td>\n",
       "      <td>9.812454e-01</td>\n",
       "    </tr>\n",
       "    <tr>\n",
       "      <th>C(edu):C(health_state):C(disabled)</th>\n",
       "      <td>12.0</td>\n",
       "      <td>0.582064</td>\n",
       "      <td>0.048505</td>\n",
       "      <td>0.783960</td>\n",
       "      <td>6.677373e-01</td>\n",
       "    </tr>\n",
       "    <tr>\n",
       "      <th>C(gen):C(age_range):C(work_state)</th>\n",
       "      <td>4.0</td>\n",
       "      <td>0.347886</td>\n",
       "      <td>0.086972</td>\n",
       "      <td>1.405665</td>\n",
       "      <td>2.293266e-01</td>\n",
       "    </tr>\n",
       "    <tr>\n",
       "      <th>C(gen):C(edu):C(work_state)</th>\n",
       "      <td>3.0</td>\n",
       "      <td>0.009287</td>\n",
       "      <td>0.003096</td>\n",
       "      <td>0.050031</td>\n",
       "      <td>9.852110e-01</td>\n",
       "    </tr>\n",
       "    <tr>\n",
       "      <th>C(age_range):C(edu):C(work_state)</th>\n",
       "      <td>12.0</td>\n",
       "      <td>0.658574</td>\n",
       "      <td>0.054881</td>\n",
       "      <td>0.887008</td>\n",
       "      <td>5.596997e-01</td>\n",
       "    </tr>\n",
       "    <tr>\n",
       "      <th>C(gen):C(health_state):C(work_state)</th>\n",
       "      <td>4.0</td>\n",
       "      <td>0.084150</td>\n",
       "      <td>0.021038</td>\n",
       "      <td>0.340017</td>\n",
       "      <td>8.510900e-01</td>\n",
       "    </tr>\n",
       "    <tr>\n",
       "      <th>C(age_range):C(health_state):C(work_state)</th>\n",
       "      <td>16.0</td>\n",
       "      <td>0.959187</td>\n",
       "      <td>0.059949</td>\n",
       "      <td>0.968919</td>\n",
       "      <td>4.883387e-01</td>\n",
       "    </tr>\n",
       "    <tr>\n",
       "      <th>C(edu):C(health_state):C(work_state)</th>\n",
       "      <td>12.0</td>\n",
       "      <td>0.162275</td>\n",
       "      <td>0.013523</td>\n",
       "      <td>0.218561</td>\n",
       "      <td>9.976636e-01</td>\n",
       "    </tr>\n",
       "    <tr>\n",
       "      <th>C(gen):C(disabled):C(work_state)</th>\n",
       "      <td>1.0</td>\n",
       "      <td>0.005623</td>\n",
       "      <td>0.005623</td>\n",
       "      <td>0.090874</td>\n",
       "      <td>7.630811e-01</td>\n",
       "    </tr>\n",
       "    <tr>\n",
       "      <th>C(age_range):C(disabled):C(work_state)</th>\n",
       "      <td>4.0</td>\n",
       "      <td>0.082327</td>\n",
       "      <td>0.020582</td>\n",
       "      <td>0.332647</td>\n",
       "      <td>8.561496e-01</td>\n",
       "    </tr>\n",
       "    <tr>\n",
       "      <th>C(edu):C(disabled):C(work_state)</th>\n",
       "      <td>3.0</td>\n",
       "      <td>0.163604</td>\n",
       "      <td>0.054535</td>\n",
       "      <td>0.881408</td>\n",
       "      <td>4.498634e-01</td>\n",
       "    </tr>\n",
       "    <tr>\n",
       "      <th>C(health_state):C(disabled):C(work_state)</th>\n",
       "      <td>4.0</td>\n",
       "      <td>0.299485</td>\n",
       "      <td>0.074871</td>\n",
       "      <td>1.210093</td>\n",
       "      <td>3.042182e-01</td>\n",
       "    </tr>\n",
       "    <tr>\n",
       "      <th>C(gen):C(age_range):C(edu):C(health_state)</th>\n",
       "      <td>48.0</td>\n",
       "      <td>3.746964</td>\n",
       "      <td>0.078062</td>\n",
       "      <td>1.261661</td>\n",
       "      <td>1.068053e-01</td>\n",
       "    </tr>\n",
       "    <tr>\n",
       "      <th>C(gen):C(age_range):C(edu):C(disabled)</th>\n",
       "      <td>12.0</td>\n",
       "      <td>0.924868</td>\n",
       "      <td>0.077072</td>\n",
       "      <td>1.245669</td>\n",
       "      <td>2.446948e-01</td>\n",
       "    </tr>\n",
       "    <tr>\n",
       "      <th>C(gen):C(age_range):C(health_state):C(disabled)</th>\n",
       "      <td>16.0</td>\n",
       "      <td>0.808960</td>\n",
       "      <td>0.050560</td>\n",
       "      <td>0.817168</td>\n",
       "      <td>6.672017e-01</td>\n",
       "    </tr>\n",
       "    <tr>\n",
       "      <th>C(gen):C(edu):C(health_state):C(disabled)</th>\n",
       "      <td>12.0</td>\n",
       "      <td>1.538542</td>\n",
       "      <td>0.128212</td>\n",
       "      <td>2.072203</td>\n",
       "      <td>1.564965e-02</td>\n",
       "    </tr>\n",
       "    <tr>\n",
       "      <th>C(age_range):C(edu):C(health_state):C(disabled)</th>\n",
       "      <td>48.0</td>\n",
       "      <td>2.655527</td>\n",
       "      <td>0.055323</td>\n",
       "      <td>0.894157</td>\n",
       "      <td>6.800659e-01</td>\n",
       "    </tr>\n",
       "    <tr>\n",
       "      <th>C(gen):C(age_range):C(edu):C(work_state)</th>\n",
       "      <td>12.0</td>\n",
       "      <td>0.695315</td>\n",
       "      <td>0.057943</td>\n",
       "      <td>0.936493</td>\n",
       "      <td>5.087638e-01</td>\n",
       "    </tr>\n",
       "    <tr>\n",
       "      <th>C(gen):C(age_range):C(health_state):C(work_state)</th>\n",
       "      <td>16.0</td>\n",
       "      <td>0.948862</td>\n",
       "      <td>0.059304</td>\n",
       "      <td>0.958489</td>\n",
       "      <td>5.003398e-01</td>\n",
       "    </tr>\n",
       "    <tr>\n",
       "      <th>C(gen):C(edu):C(health_state):C(work_state)</th>\n",
       "      <td>12.0</td>\n",
       "      <td>0.746860</td>\n",
       "      <td>0.062238</td>\n",
       "      <td>1.005916</td>\n",
       "      <td>4.401922e-01</td>\n",
       "    </tr>\n",
       "    <tr>\n",
       "      <th>C(age_range):C(edu):C(health_state):C(work_state)</th>\n",
       "      <td>48.0</td>\n",
       "      <td>2.617806</td>\n",
       "      <td>0.054538</td>\n",
       "      <td>0.881456</td>\n",
       "      <td>7.036468e-01</td>\n",
       "    </tr>\n",
       "    <tr>\n",
       "      <th>C(gen):C(age_range):C(disabled):C(work_state)</th>\n",
       "      <td>4.0</td>\n",
       "      <td>0.436145</td>\n",
       "      <td>0.109036</td>\n",
       "      <td>1.762279</td>\n",
       "      <td>1.334983e-01</td>\n",
       "    </tr>\n",
       "    <tr>\n",
       "      <th>C(gen):C(edu):C(disabled):C(work_state)</th>\n",
       "      <td>3.0</td>\n",
       "      <td>0.001959</td>\n",
       "      <td>0.000653</td>\n",
       "      <td>0.010557</td>\n",
       "      <td>9.985150e-01</td>\n",
       "    </tr>\n",
       "    <tr>\n",
       "      <th>C(age_range):C(edu):C(disabled):C(work_state)</th>\n",
       "      <td>12.0</td>\n",
       "      <td>0.266910</td>\n",
       "      <td>0.022243</td>\n",
       "      <td>0.359491</td>\n",
       "      <td>9.770285e-01</td>\n",
       "    </tr>\n",
       "    <tr>\n",
       "      <th>C(gen):C(health_state):C(disabled):C(work_state)</th>\n",
       "      <td>4.0</td>\n",
       "      <td>0.171820</td>\n",
       "      <td>0.042955</td>\n",
       "      <td>0.694254</td>\n",
       "      <td>5.958434e-01</td>\n",
       "    </tr>\n",
       "    <tr>\n",
       "      <th>C(age_range):C(health_state):C(disabled):C(work_state)</th>\n",
       "      <td>16.0</td>\n",
       "      <td>1.185590</td>\n",
       "      <td>0.074099</td>\n",
       "      <td>1.197619</td>\n",
       "      <td>2.608530e-01</td>\n",
       "    </tr>\n",
       "    <tr>\n",
       "      <th>C(edu):C(health_state):C(disabled):C(work_state)</th>\n",
       "      <td>12.0</td>\n",
       "      <td>0.458674</td>\n",
       "      <td>0.038223</td>\n",
       "      <td>0.617771</td>\n",
       "      <td>8.290049e-01</td>\n",
       "    </tr>\n",
       "    <tr>\n",
       "      <th>C(gen):C(age_range):C(edu):C(health_state):C(disabled)</th>\n",
       "      <td>48.0</td>\n",
       "      <td>1.945922</td>\n",
       "      <td>0.040540</td>\n",
       "      <td>0.655222</td>\n",
       "      <td>9.684551e-01</td>\n",
       "    </tr>\n",
       "    <tr>\n",
       "      <th>C(gen):C(age_range):C(edu):C(health_state):C(work_state)</th>\n",
       "      <td>48.0</td>\n",
       "      <td>6.296387</td>\n",
       "      <td>0.131175</td>\n",
       "      <td>2.120090</td>\n",
       "      <td>1.143259e-05</td>\n",
       "    </tr>\n",
       "    <tr>\n",
       "      <th>C(gen):C(age_range):C(edu):C(disabled):C(work_state)</th>\n",
       "      <td>12.0</td>\n",
       "      <td>0.628592</td>\n",
       "      <td>0.052383</td>\n",
       "      <td>0.846627</td>\n",
       "      <td>6.019822e-01</td>\n",
       "    </tr>\n",
       "    <tr>\n",
       "      <th>C(gen):C(age_range):C(health_state):C(disabled):C(work_state)</th>\n",
       "      <td>16.0</td>\n",
       "      <td>0.621841</td>\n",
       "      <td>0.038865</td>\n",
       "      <td>0.628150</td>\n",
       "      <td>8.637757e-01</td>\n",
       "    </tr>\n",
       "    <tr>\n",
       "      <th>C(gen):C(edu):C(health_state):C(disabled):C(work_state)</th>\n",
       "      <td>12.0</td>\n",
       "      <td>0.189600</td>\n",
       "      <td>0.015800</td>\n",
       "      <td>0.255365</td>\n",
       "      <td>9.950562e-01</td>\n",
       "    </tr>\n",
       "    <tr>\n",
       "      <th>C(age_range):C(edu):C(health_state):C(disabled):C(work_state)</th>\n",
       "      <td>48.0</td>\n",
       "      <td>2.230211</td>\n",
       "      <td>0.046463</td>\n",
       "      <td>0.750946</td>\n",
       "      <td>8.971112e-01</td>\n",
       "    </tr>\n",
       "    <tr>\n",
       "      <th>C(gen):C(age_range):C(edu):C(health_state):C(disabled):C(work_state)</th>\n",
       "      <td>48.0</td>\n",
       "      <td>4.104382</td>\n",
       "      <td>0.085508</td>\n",
       "      <td>1.382009</td>\n",
       "      <td>4.176682e-02</td>\n",
       "    </tr>\n",
       "    <tr>\n",
       "      <th>income</th>\n",
       "      <td>1.0</td>\n",
       "      <td>0.377058</td>\n",
       "      <td>0.377058</td>\n",
       "      <td>6.094144</td>\n",
       "      <td>1.359595e-02</td>\n",
       "    </tr>\n",
       "    <tr>\n",
       "      <th>C(gen):income</th>\n",
       "      <td>1.0</td>\n",
       "      <td>0.033838</td>\n",
       "      <td>0.033838</td>\n",
       "      <td>0.546908</td>\n",
       "      <td>4.596182e-01</td>\n",
       "    </tr>\n",
       "    <tr>\n",
       "      <th>C(age_range):income</th>\n",
       "      <td>4.0</td>\n",
       "      <td>0.226787</td>\n",
       "      <td>0.056697</td>\n",
       "      <td>0.916354</td>\n",
       "      <td>4.532648e-01</td>\n",
       "    </tr>\n",
       "    <tr>\n",
       "      <th>C(edu):income</th>\n",
       "      <td>3.0</td>\n",
       "      <td>0.548420</td>\n",
       "      <td>0.182807</td>\n",
       "      <td>2.954584</td>\n",
       "      <td>3.125588e-02</td>\n",
       "    </tr>\n",
       "    <tr>\n",
       "      <th>C(health_state):income</th>\n",
       "      <td>4.0</td>\n",
       "      <td>1.196322</td>\n",
       "      <td>0.299080</td>\n",
       "      <td>4.833839</td>\n",
       "      <td>6.854376e-04</td>\n",
       "    </tr>\n",
       "    <tr>\n",
       "      <th>C(disabled):income</th>\n",
       "      <td>1.0</td>\n",
       "      <td>0.002573</td>\n",
       "      <td>0.002573</td>\n",
       "      <td>0.041592</td>\n",
       "      <td>8.384078e-01</td>\n",
       "    </tr>\n",
       "    <tr>\n",
       "      <th>C(work_state):income</th>\n",
       "      <td>1.0</td>\n",
       "      <td>0.054644</td>\n",
       "      <td>0.054644</td>\n",
       "      <td>0.883171</td>\n",
       "      <td>3.473796e-01</td>\n",
       "    </tr>\n",
       "    <tr>\n",
       "      <th>C(gen):C(age_range):income</th>\n",
       "      <td>4.0</td>\n",
       "      <td>0.147690</td>\n",
       "      <td>0.036922</td>\n",
       "      <td>0.596753</td>\n",
       "      <td>6.649925e-01</td>\n",
       "    </tr>\n",
       "    <tr>\n",
       "      <th>C(gen):C(edu):income</th>\n",
       "      <td>3.0</td>\n",
       "      <td>0.026702</td>\n",
       "      <td>0.008901</td>\n",
       "      <td>0.143854</td>\n",
       "      <td>9.336430e-01</td>\n",
       "    </tr>\n",
       "    <tr>\n",
       "      <th>C(age_range):C(edu):income</th>\n",
       "      <td>12.0</td>\n",
       "      <td>0.528805</td>\n",
       "      <td>0.044067</td>\n",
       "      <td>0.712227</td>\n",
       "      <td>7.409791e-01</td>\n",
       "    </tr>\n",
       "    <tr>\n",
       "      <th>C(gen):C(health_state):income</th>\n",
       "      <td>4.0</td>\n",
       "      <td>0.721312</td>\n",
       "      <td>0.180328</td>\n",
       "      <td>2.914523</td>\n",
       "      <td>2.017909e-02</td>\n",
       "    </tr>\n",
       "    <tr>\n",
       "      <th>C(age_range):C(health_state):income</th>\n",
       "      <td>16.0</td>\n",
       "      <td>0.922993</td>\n",
       "      <td>0.057687</td>\n",
       "      <td>0.932358</td>\n",
       "      <td>5.307716e-01</td>\n",
       "    </tr>\n",
       "    <tr>\n",
       "      <th>C(edu):C(health_state):income</th>\n",
       "      <td>12.0</td>\n",
       "      <td>0.421811</td>\n",
       "      <td>0.035151</td>\n",
       "      <td>0.568122</td>\n",
       "      <td>8.693008e-01</td>\n",
       "    </tr>\n",
       "    <tr>\n",
       "      <th>C(gen):C(disabled):income</th>\n",
       "      <td>1.0</td>\n",
       "      <td>0.051325</td>\n",
       "      <td>0.051325</td>\n",
       "      <td>0.829539</td>\n",
       "      <td>3.624494e-01</td>\n",
       "    </tr>\n",
       "    <tr>\n",
       "      <th>C(age_range):C(disabled):income</th>\n",
       "      <td>4.0</td>\n",
       "      <td>0.042407</td>\n",
       "      <td>0.010602</td>\n",
       "      <td>0.171349</td>\n",
       "      <td>9.531067e-01</td>\n",
       "    </tr>\n",
       "    <tr>\n",
       "      <th>C(edu):C(disabled):income</th>\n",
       "      <td>3.0</td>\n",
       "      <td>0.130818</td>\n",
       "      <td>0.043606</td>\n",
       "      <td>0.704774</td>\n",
       "      <td>5.490676e-01</td>\n",
       "    </tr>\n",
       "    <tr>\n",
       "      <th>C(health_state):C(disabled):income</th>\n",
       "      <td>4.0</td>\n",
       "      <td>0.870569</td>\n",
       "      <td>0.217642</td>\n",
       "      <td>3.517609</td>\n",
       "      <td>7.125803e-03</td>\n",
       "    </tr>\n",
       "    <tr>\n",
       "      <th>C(gen):C(work_state):income</th>\n",
       "      <td>1.0</td>\n",
       "      <td>0.001639</td>\n",
       "      <td>0.001639</td>\n",
       "      <td>0.026492</td>\n",
       "      <td>8.707110e-01</td>\n",
       "    </tr>\n",
       "    <tr>\n",
       "      <th>C(age_range):C(work_state):income</th>\n",
       "      <td>4.0</td>\n",
       "      <td>0.080516</td>\n",
       "      <td>0.020129</td>\n",
       "      <td>0.325333</td>\n",
       "      <td>8.611345e-01</td>\n",
       "    </tr>\n",
       "    <tr>\n",
       "      <th>C(edu):C(work_state):income</th>\n",
       "      <td>3.0</td>\n",
       "      <td>0.109645</td>\n",
       "      <td>0.036548</td>\n",
       "      <td>0.590708</td>\n",
       "      <td>6.210496e-01</td>\n",
       "    </tr>\n",
       "    <tr>\n",
       "      <th>C(health_state):C(work_state):income</th>\n",
       "      <td>4.0</td>\n",
       "      <td>0.727951</td>\n",
       "      <td>0.181988</td>\n",
       "      <td>2.941349</td>\n",
       "      <td>1.927724e-02</td>\n",
       "    </tr>\n",
       "    <tr>\n",
       "      <th>C(disabled):C(work_state):income</th>\n",
       "      <td>1.0</td>\n",
       "      <td>0.000127</td>\n",
       "      <td>0.000127</td>\n",
       "      <td>0.002059</td>\n",
       "      <td>9.638076e-01</td>\n",
       "    </tr>\n",
       "    <tr>\n",
       "      <th>C(gen):C(age_range):C(edu):income</th>\n",
       "      <td>12.0</td>\n",
       "      <td>1.147258</td>\n",
       "      <td>0.095605</td>\n",
       "      <td>1.545198</td>\n",
       "      <td>1.006083e-01</td>\n",
       "    </tr>\n",
       "    <tr>\n",
       "      <th>C(gen):C(age_range):C(health_state):income</th>\n",
       "      <td>16.0</td>\n",
       "      <td>1.008982</td>\n",
       "      <td>0.063061</td>\n",
       "      <td>1.019219</td>\n",
       "      <td>4.319670e-01</td>\n",
       "    </tr>\n",
       "    <tr>\n",
       "      <th>C(gen):C(edu):C(health_state):income</th>\n",
       "      <td>12.0</td>\n",
       "      <td>1.029333</td>\n",
       "      <td>0.085778</td>\n",
       "      <td>1.386370</td>\n",
       "      <td>1.642351e-01</td>\n",
       "    </tr>\n",
       "    <tr>\n",
       "      <th>C(age_range):C(edu):C(health_state):income</th>\n",
       "      <td>48.0</td>\n",
       "      <td>3.198415</td>\n",
       "      <td>0.066634</td>\n",
       "      <td>1.076956</td>\n",
       "      <td>3.326460e-01</td>\n",
       "    </tr>\n",
       "    <tr>\n",
       "      <th>C(gen):C(age_range):C(disabled):income</th>\n",
       "      <td>4.0</td>\n",
       "      <td>0.435788</td>\n",
       "      <td>0.108947</td>\n",
       "      <td>1.760837</td>\n",
       "      <td>1.337982e-01</td>\n",
       "    </tr>\n",
       "    <tr>\n",
       "      <th>C(gen):C(edu):C(disabled):income</th>\n",
       "      <td>3.0</td>\n",
       "      <td>0.605401</td>\n",
       "      <td>0.201800</td>\n",
       "      <td>3.261567</td>\n",
       "      <td>2.056757e-02</td>\n",
       "    </tr>\n",
       "    <tr>\n",
       "      <th>C(age_range):C(edu):C(disabled):income</th>\n",
       "      <td>12.0</td>\n",
       "      <td>0.353970</td>\n",
       "      <td>0.029497</td>\n",
       "      <td>0.476748</td>\n",
       "      <td>9.293784e-01</td>\n",
       "    </tr>\n",
       "    <tr>\n",
       "      <th>C(gen):C(health_state):C(disabled):income</th>\n",
       "      <td>4.0</td>\n",
       "      <td>0.636166</td>\n",
       "      <td>0.159041</td>\n",
       "      <td>2.570482</td>\n",
       "      <td>3.606415e-02</td>\n",
       "    </tr>\n",
       "    <tr>\n",
       "      <th>C(age_range):C(health_state):C(disabled):income</th>\n",
       "      <td>16.0</td>\n",
       "      <td>0.550687</td>\n",
       "      <td>0.034418</td>\n",
       "      <td>0.556274</td>\n",
       "      <td>9.172791e-01</td>\n",
       "    </tr>\n",
       "    <tr>\n",
       "      <th>C(edu):C(health_state):C(disabled):income</th>\n",
       "      <td>12.0</td>\n",
       "      <td>1.195212</td>\n",
       "      <td>0.099601</td>\n",
       "      <td>1.609785</td>\n",
       "      <td>8.154932e-02</td>\n",
       "    </tr>\n",
       "    <tr>\n",
       "      <th>C(gen):C(age_range):C(work_state):income</th>\n",
       "      <td>4.0</td>\n",
       "      <td>0.064999</td>\n",
       "      <td>0.016250</td>\n",
       "      <td>0.262633</td>\n",
       "      <td>9.020241e-01</td>\n",
       "    </tr>\n",
       "    <tr>\n",
       "      <th>C(gen):C(edu):C(work_state):income</th>\n",
       "      <td>3.0</td>\n",
       "      <td>0.046165</td>\n",
       "      <td>0.015388</td>\n",
       "      <td>0.248712</td>\n",
       "      <td>8.622976e-01</td>\n",
       "    </tr>\n",
       "    <tr>\n",
       "      <th>C(age_range):C(edu):C(work_state):income</th>\n",
       "      <td>12.0</td>\n",
       "      <td>0.357303</td>\n",
       "      <td>0.029775</td>\n",
       "      <td>0.481238</td>\n",
       "      <td>9.268906e-01</td>\n",
       "    </tr>\n",
       "    <tr>\n",
       "      <th>C(gen):C(health_state):C(work_state):income</th>\n",
       "      <td>4.0</td>\n",
       "      <td>0.024042</td>\n",
       "      <td>0.006010</td>\n",
       "      <td>0.097143</td>\n",
       "      <td>9.833968e-01</td>\n",
       "    </tr>\n",
       "    <tr>\n",
       "      <th>C(age_range):C(health_state):C(work_state):income</th>\n",
       "      <td>16.0</td>\n",
       "      <td>1.190199</td>\n",
       "      <td>0.074387</td>\n",
       "      <td>1.202275</td>\n",
       "      <td>2.570956e-01</td>\n",
       "    </tr>\n",
       "    <tr>\n",
       "      <th>C(edu):C(health_state):C(work_state):income</th>\n",
       "      <td>12.0</td>\n",
       "      <td>0.904960</td>\n",
       "      <td>0.075413</td>\n",
       "      <td>1.218856</td>\n",
       "      <td>2.629023e-01</td>\n",
       "    </tr>\n",
       "    <tr>\n",
       "      <th>C(gen):C(disabled):C(work_state):income</th>\n",
       "      <td>1.0</td>\n",
       "      <td>0.000635</td>\n",
       "      <td>0.000635</td>\n",
       "      <td>0.010256</td>\n",
       "      <td>9.193396e-01</td>\n",
       "    </tr>\n",
       "    <tr>\n",
       "      <th>C(age_range):C(disabled):C(work_state):income</th>\n",
       "      <td>4.0</td>\n",
       "      <td>0.380922</td>\n",
       "      <td>0.095230</td>\n",
       "      <td>1.539147</td>\n",
       "      <td>1.879349e-01</td>\n",
       "    </tr>\n",
       "    <tr>\n",
       "      <th>C(edu):C(disabled):C(work_state):income</th>\n",
       "      <td>3.0</td>\n",
       "      <td>0.132080</td>\n",
       "      <td>0.044027</td>\n",
       "      <td>0.711573</td>\n",
       "      <td>5.449689e-01</td>\n",
       "    </tr>\n",
       "    <tr>\n",
       "      <th>C(health_state):C(disabled):C(work_state):income</th>\n",
       "      <td>4.0</td>\n",
       "      <td>0.140271</td>\n",
       "      <td>0.035068</td>\n",
       "      <td>0.566777</td>\n",
       "      <td>6.867747e-01</td>\n",
       "    </tr>\n",
       "    <tr>\n",
       "      <th>C(gen):C(age_range):C(edu):C(health_state):income</th>\n",
       "      <td>48.0</td>\n",
       "      <td>3.252402</td>\n",
       "      <td>0.067758</td>\n",
       "      <td>1.095134</td>\n",
       "      <td>3.027958e-01</td>\n",
       "    </tr>\n",
       "    <tr>\n",
       "      <th>C(gen):C(age_range):C(edu):C(disabled):income</th>\n",
       "      <td>12.0</td>\n",
       "      <td>2.360828</td>\n",
       "      <td>0.196736</td>\n",
       "      <td>3.179708</td>\n",
       "      <td>1.506622e-04</td>\n",
       "    </tr>\n",
       "    <tr>\n",
       "      <th>C(gen):C(age_range):C(health_state):C(disabled):income</th>\n",
       "      <td>16.0</td>\n",
       "      <td>1.264715</td>\n",
       "      <td>0.079045</td>\n",
       "      <td>1.277547</td>\n",
       "      <td>2.015700e-01</td>\n",
       "    </tr>\n",
       "    <tr>\n",
       "      <th>C(gen):C(edu):C(health_state):C(disabled):income</th>\n",
       "      <td>12.0</td>\n",
       "      <td>0.730070</td>\n",
       "      <td>0.060839</td>\n",
       "      <td>0.983303</td>\n",
       "      <td>4.620736e-01</td>\n",
       "    </tr>\n",
       "    <tr>\n",
       "      <th>C(age_range):C(edu):C(health_state):C(disabled):income</th>\n",
       "      <td>48.0</td>\n",
       "      <td>1.295165</td>\n",
       "      <td>0.026983</td>\n",
       "      <td>0.436102</td>\n",
       "      <td>9.997600e-01</td>\n",
       "    </tr>\n",
       "    <tr>\n",
       "      <th>C(gen):C(age_range):C(edu):C(work_state):income</th>\n",
       "      <td>12.0</td>\n",
       "      <td>0.192534</td>\n",
       "      <td>0.016045</td>\n",
       "      <td>0.259317</td>\n",
       "      <td>9.946848e-01</td>\n",
       "    </tr>\n",
       "    <tr>\n",
       "      <th>C(gen):C(age_range):C(health_state):C(work_state):income</th>\n",
       "      <td>16.0</td>\n",
       "      <td>0.572727</td>\n",
       "      <td>0.035795</td>\n",
       "      <td>0.578538</td>\n",
       "      <td>9.022793e-01</td>\n",
       "    </tr>\n",
       "    <tr>\n",
       "      <th>C(gen):C(edu):C(health_state):C(work_state):income</th>\n",
       "      <td>12.0</td>\n",
       "      <td>0.701528</td>\n",
       "      <td>0.058461</td>\n",
       "      <td>0.944861</td>\n",
       "      <td>5.002943e-01</td>\n",
       "    </tr>\n",
       "    <tr>\n",
       "      <th>C(age_range):C(edu):C(health_state):C(work_state):income</th>\n",
       "      <td>48.0</td>\n",
       "      <td>2.440711</td>\n",
       "      <td>0.050848</td>\n",
       "      <td>0.821825</td>\n",
       "      <td>8.047595e-01</td>\n",
       "    </tr>\n",
       "    <tr>\n",
       "      <th>C(gen):C(age_range):C(disabled):C(work_state):income</th>\n",
       "      <td>4.0</td>\n",
       "      <td>0.036009</td>\n",
       "      <td>0.009002</td>\n",
       "      <td>0.145499</td>\n",
       "      <td>9.650344e-01</td>\n",
       "    </tr>\n",
       "    <tr>\n",
       "      <th>C(gen):C(edu):C(disabled):C(work_state):income</th>\n",
       "      <td>3.0</td>\n",
       "      <td>0.023482</td>\n",
       "      <td>0.007827</td>\n",
       "      <td>0.126506</td>\n",
       "      <td>9.444358e-01</td>\n",
       "    </tr>\n",
       "    <tr>\n",
       "      <th>C(age_range):C(edu):C(disabled):C(work_state):income</th>\n",
       "      <td>12.0</td>\n",
       "      <td>1.079242</td>\n",
       "      <td>0.089937</td>\n",
       "      <td>1.453590</td>\n",
       "      <td>1.341168e-01</td>\n",
       "    </tr>\n",
       "    <tr>\n",
       "      <th>C(gen):C(health_state):C(disabled):C(work_state):income</th>\n",
       "      <td>4.0</td>\n",
       "      <td>0.319246</td>\n",
       "      <td>0.079811</td>\n",
       "      <td>1.289939</td>\n",
       "      <td>2.714528e-01</td>\n",
       "    </tr>\n",
       "    <tr>\n",
       "      <th>C(age_range):C(health_state):C(disabled):C(work_state):income</th>\n",
       "      <td>16.0</td>\n",
       "      <td>0.881010</td>\n",
       "      <td>0.055063</td>\n",
       "      <td>0.889949</td>\n",
       "      <td>5.809250e-01</td>\n",
       "    </tr>\n",
       "    <tr>\n",
       "      <th>C(edu):C(health_state):C(disabled):C(work_state):income</th>\n",
       "      <td>12.0</td>\n",
       "      <td>0.631519</td>\n",
       "      <td>0.052627</td>\n",
       "      <td>0.850569</td>\n",
       "      <td>5.978393e-01</td>\n",
       "    </tr>\n",
       "    <tr>\n",
       "      <th>C(gen):C(age_range):C(edu):C(health_state):C(disabled):income</th>\n",
       "      <td>48.0</td>\n",
       "      <td>2.246406</td>\n",
       "      <td>0.046800</td>\n",
       "      <td>0.756400</td>\n",
       "      <td>8.912257e-01</td>\n",
       "    </tr>\n",
       "    <tr>\n",
       "      <th>C(gen):C(age_range):C(edu):C(health_state):C(work_state):income</th>\n",
       "      <td>48.0</td>\n",
       "      <td>2.889140</td>\n",
       "      <td>0.060190</td>\n",
       "      <td>0.972818</td>\n",
       "      <td>5.264947e-01</td>\n",
       "    </tr>\n",
       "    <tr>\n",
       "      <th>C(gen):C(age_range):C(edu):C(disabled):C(work_state):income</th>\n",
       "      <td>12.0</td>\n",
       "      <td>1.332420</td>\n",
       "      <td>0.111035</td>\n",
       "      <td>1.794586</td>\n",
       "      <td>4.338658e-02</td>\n",
       "    </tr>\n",
       "    <tr>\n",
       "      <th>C(gen):C(age_range):C(health_state):C(disabled):C(work_state):income</th>\n",
       "      <td>16.0</td>\n",
       "      <td>1.191922</td>\n",
       "      <td>0.074495</td>\n",
       "      <td>1.204015</td>\n",
       "      <td>2.557009e-01</td>\n",
       "    </tr>\n",
       "    <tr>\n",
       "      <th>C(gen):C(edu):C(health_state):C(disabled):C(work_state):income</th>\n",
       "      <td>12.0</td>\n",
       "      <td>0.445162</td>\n",
       "      <td>0.037097</td>\n",
       "      <td>0.599572</td>\n",
       "      <td>8.443348e-01</td>\n",
       "    </tr>\n",
       "    <tr>\n",
       "      <th>C(age_range):C(edu):C(health_state):C(disabled):C(work_state):income</th>\n",
       "      <td>48.0</td>\n",
       "      <td>2.096145</td>\n",
       "      <td>0.043670</td>\n",
       "      <td>0.705804</td>\n",
       "      <td>9.379887e-01</td>\n",
       "    </tr>\n",
       "    <tr>\n",
       "      <th>C(gen):C(age_range):C(edu):C(health_state):C(disabled):C(work_state):income</th>\n",
       "      <td>48.0</td>\n",
       "      <td>3.699562</td>\n",
       "      <td>0.077074</td>\n",
       "      <td>1.245699</td>\n",
       "      <td>1.196263e-01</td>\n",
       "    </tr>\n",
       "    <tr>\n",
       "      <th>Residual</th>\n",
       "      <td>5047.0</td>\n",
       "      <td>312.269150</td>\n",
       "      <td>0.061872</td>\n",
       "      <td>NaN</td>\n",
       "      <td>NaN</td>\n",
       "    </tr>\n",
       "  </tbody>\n",
       "</table>\n",
       "</div>"
      ],
      "text/plain": [
       "                                                        df      sum_sq  \\\n",
       "C(gen)                                                 1.0    3.843493   \n",
       "C(age_range)                                           4.0    5.431234   \n",
       "C(edu)                                                 3.0    4.654326   \n",
       "C(health_state)                                        4.0   10.290163   \n",
       "C(disabled)                                            1.0    0.081564   \n",
       "C(work_state)                                          1.0    0.287094   \n",
       "C(gen):C(age_range)                                    4.0    0.684300   \n",
       "C(gen):C(edu)                                          3.0    0.069488   \n",
       "C(age_range):C(edu)                                   12.0    0.949892   \n",
       "C(gen):C(health_state)                                 4.0    0.478971   \n",
       "C(age_range):C(health_state)                          16.0    2.228430   \n",
       "C(edu):C(health_state)                                12.0    2.460207   \n",
       "C(gen):C(disabled)                                     1.0    0.088243   \n",
       "C(age_range):C(disabled)                               4.0    0.235833   \n",
       "C(edu):C(disabled)                                     3.0    0.129999   \n",
       "C(health_state):C(disabled)                            4.0    0.547485   \n",
       "C(gen):C(work_state)                                   1.0    0.110020   \n",
       "C(age_range):C(work_state)                             4.0    0.189715   \n",
       "C(edu):C(work_state)                                   3.0    0.511226   \n",
       "C(health_state):C(work_state)                          4.0    0.066247   \n",
       "C(disabled):C(work_state)                              1.0    0.018366   \n",
       "C(gen):C(age_range):C(edu)                            12.0    0.110370   \n",
       "C(gen):C(age_range):C(health_state)                   16.0    2.388652   \n",
       "C(gen):C(edu):C(health_state)                         12.0    0.724692   \n",
       "C(age_range):C(edu):C(health_state)                   48.0    1.758665   \n",
       "C(gen):C(age_range):C(disabled)                        4.0    0.474193   \n",
       "C(gen):C(edu):C(disabled)                              3.0    0.194140   \n",
       "C(age_range):C(edu):C(disabled)                       12.0    1.452264   \n",
       "C(gen):C(health_state):C(disabled)                     4.0    0.737100   \n",
       "C(age_range):C(health_state):C(disabled)              16.0    0.403924   \n",
       "C(edu):C(health_state):C(disabled)                    12.0    0.582064   \n",
       "C(gen):C(age_range):C(work_state)                      4.0    0.347886   \n",
       "C(gen):C(edu):C(work_state)                            3.0    0.009287   \n",
       "C(age_range):C(edu):C(work_state)                     12.0    0.658574   \n",
       "C(gen):C(health_state):C(work_state)                   4.0    0.084150   \n",
       "C(age_range):C(health_state):C(work_state)            16.0    0.959187   \n",
       "C(edu):C(health_state):C(work_state)                  12.0    0.162275   \n",
       "C(gen):C(disabled):C(work_state)                       1.0    0.005623   \n",
       "C(age_range):C(disabled):C(work_state)                 4.0    0.082327   \n",
       "C(edu):C(disabled):C(work_state)                       3.0    0.163604   \n",
       "C(health_state):C(disabled):C(work_state)              4.0    0.299485   \n",
       "C(gen):C(age_range):C(edu):C(health_state)            48.0    3.746964   \n",
       "C(gen):C(age_range):C(edu):C(disabled)                12.0    0.924868   \n",
       "C(gen):C(age_range):C(health_state):C(disabled)       16.0    0.808960   \n",
       "C(gen):C(edu):C(health_state):C(disabled)             12.0    1.538542   \n",
       "C(age_range):C(edu):C(health_state):C(disabled)       48.0    2.655527   \n",
       "C(gen):C(age_range):C(edu):C(work_state)              12.0    0.695315   \n",
       "C(gen):C(age_range):C(health_state):C(work_state)     16.0    0.948862   \n",
       "C(gen):C(edu):C(health_state):C(work_state)           12.0    0.746860   \n",
       "C(age_range):C(edu):C(health_state):C(work_state)     48.0    2.617806   \n",
       "C(gen):C(age_range):C(disabled):C(work_state)          4.0    0.436145   \n",
       "C(gen):C(edu):C(disabled):C(work_state)                3.0    0.001959   \n",
       "C(age_range):C(edu):C(disabled):C(work_state)         12.0    0.266910   \n",
       "C(gen):C(health_state):C(disabled):C(work_state)       4.0    0.171820   \n",
       "C(age_range):C(health_state):C(disabled):C(work...    16.0    1.185590   \n",
       "C(edu):C(health_state):C(disabled):C(work_state)      12.0    0.458674   \n",
       "C(gen):C(age_range):C(edu):C(health_state):C(di...    48.0    1.945922   \n",
       "C(gen):C(age_range):C(edu):C(health_state):C(wo...    48.0    6.296387   \n",
       "C(gen):C(age_range):C(edu):C(disabled):C(work_s...    12.0    0.628592   \n",
       "C(gen):C(age_range):C(health_state):C(disabled)...    16.0    0.621841   \n",
       "C(gen):C(edu):C(health_state):C(disabled):C(wor...    12.0    0.189600   \n",
       "C(age_range):C(edu):C(health_state):C(disabled)...    48.0    2.230211   \n",
       "C(gen):C(age_range):C(edu):C(health_state):C(di...    48.0    4.104382   \n",
       "income                                                 1.0    0.377058   \n",
       "C(gen):income                                          1.0    0.033838   \n",
       "C(age_range):income                                    4.0    0.226787   \n",
       "C(edu):income                                          3.0    0.548420   \n",
       "C(health_state):income                                 4.0    1.196322   \n",
       "C(disabled):income                                     1.0    0.002573   \n",
       "C(work_state):income                                   1.0    0.054644   \n",
       "C(gen):C(age_range):income                             4.0    0.147690   \n",
       "C(gen):C(edu):income                                   3.0    0.026702   \n",
       "C(age_range):C(edu):income                            12.0    0.528805   \n",
       "C(gen):C(health_state):income                          4.0    0.721312   \n",
       "C(age_range):C(health_state):income                   16.0    0.922993   \n",
       "C(edu):C(health_state):income                         12.0    0.421811   \n",
       "C(gen):C(disabled):income                              1.0    0.051325   \n",
       "C(age_range):C(disabled):income                        4.0    0.042407   \n",
       "C(edu):C(disabled):income                              3.0    0.130818   \n",
       "C(health_state):C(disabled):income                     4.0    0.870569   \n",
       "C(gen):C(work_state):income                            1.0    0.001639   \n",
       "C(age_range):C(work_state):income                      4.0    0.080516   \n",
       "C(edu):C(work_state):income                            3.0    0.109645   \n",
       "C(health_state):C(work_state):income                   4.0    0.727951   \n",
       "C(disabled):C(work_state):income                       1.0    0.000127   \n",
       "C(gen):C(age_range):C(edu):income                     12.0    1.147258   \n",
       "C(gen):C(age_range):C(health_state):income            16.0    1.008982   \n",
       "C(gen):C(edu):C(health_state):income                  12.0    1.029333   \n",
       "C(age_range):C(edu):C(health_state):income            48.0    3.198415   \n",
       "C(gen):C(age_range):C(disabled):income                 4.0    0.435788   \n",
       "C(gen):C(edu):C(disabled):income                       3.0    0.605401   \n",
       "C(age_range):C(edu):C(disabled):income                12.0    0.353970   \n",
       "C(gen):C(health_state):C(disabled):income              4.0    0.636166   \n",
       "C(age_range):C(health_state):C(disabled):income       16.0    0.550687   \n",
       "C(edu):C(health_state):C(disabled):income             12.0    1.195212   \n",
       "C(gen):C(age_range):C(work_state):income               4.0    0.064999   \n",
       "C(gen):C(edu):C(work_state):income                     3.0    0.046165   \n",
       "C(age_range):C(edu):C(work_state):income              12.0    0.357303   \n",
       "C(gen):C(health_state):C(work_state):income            4.0    0.024042   \n",
       "C(age_range):C(health_state):C(work_state):income     16.0    1.190199   \n",
       "C(edu):C(health_state):C(work_state):income           12.0    0.904960   \n",
       "C(gen):C(disabled):C(work_state):income                1.0    0.000635   \n",
       "C(age_range):C(disabled):C(work_state):income          4.0    0.380922   \n",
       "C(edu):C(disabled):C(work_state):income                3.0    0.132080   \n",
       "C(health_state):C(disabled):C(work_state):income       4.0    0.140271   \n",
       "C(gen):C(age_range):C(edu):C(health_state):income     48.0    3.252402   \n",
       "C(gen):C(age_range):C(edu):C(disabled):income         12.0    2.360828   \n",
       "C(gen):C(age_range):C(health_state):C(disabled)...    16.0    1.264715   \n",
       "C(gen):C(edu):C(health_state):C(disabled):income      12.0    0.730070   \n",
       "C(age_range):C(edu):C(health_state):C(disabled)...    48.0    1.295165   \n",
       "C(gen):C(age_range):C(edu):C(work_state):income       12.0    0.192534   \n",
       "C(gen):C(age_range):C(health_state):C(work_stat...    16.0    0.572727   \n",
       "C(gen):C(edu):C(health_state):C(work_state):income    12.0    0.701528   \n",
       "C(age_range):C(edu):C(health_state):C(work_stat...    48.0    2.440711   \n",
       "C(gen):C(age_range):C(disabled):C(work_state):i...     4.0    0.036009   \n",
       "C(gen):C(edu):C(disabled):C(work_state):income         3.0    0.023482   \n",
       "C(age_range):C(edu):C(disabled):C(work_state):i...    12.0    1.079242   \n",
       "C(gen):C(health_state):C(disabled):C(work_state...     4.0    0.319246   \n",
       "C(age_range):C(health_state):C(disabled):C(work...    16.0    0.881010   \n",
       "C(edu):C(health_state):C(disabled):C(work_state...    12.0    0.631519   \n",
       "C(gen):C(age_range):C(edu):C(health_state):C(di...    48.0    2.246406   \n",
       "C(gen):C(age_range):C(edu):C(health_state):C(wo...    48.0    2.889140   \n",
       "C(gen):C(age_range):C(edu):C(disabled):C(work_s...    12.0    1.332420   \n",
       "C(gen):C(age_range):C(health_state):C(disabled)...    16.0    1.191922   \n",
       "C(gen):C(edu):C(health_state):C(disabled):C(wor...    12.0    0.445162   \n",
       "C(age_range):C(edu):C(health_state):C(disabled)...    48.0    2.096145   \n",
       "C(gen):C(age_range):C(edu):C(health_state):C(di...    48.0    3.699562   \n",
       "Residual                                            5047.0  312.269150   \n",
       "\n",
       "                                                     mean_sq          F  \\\n",
       "C(gen)                                              3.843493  62.119841   \n",
       "C(age_range)                                        1.357808  21.945361   \n",
       "C(edu)                                              1.551442  25.074933   \n",
       "C(health_state)                                     2.572541  41.578278   \n",
       "C(disabled)                                         0.081564   1.318257   \n",
       "C(work_state)                                       0.287094   4.640114   \n",
       "C(gen):C(age_range)                                 0.171075   2.764971   \n",
       "C(gen):C(edu)                                       0.023163   0.374365   \n",
       "C(age_range):C(edu)                                 0.079158   1.279373   \n",
       "C(gen):C(health_state)                              0.119743   1.935324   \n",
       "C(age_range):C(health_state)                        0.139277   2.251041   \n",
       "C(edu):C(health_state)                              0.205017   3.313558   \n",
       "C(gen):C(disabled)                                  0.088243   1.426205   \n",
       "C(age_range):C(disabled)                            0.058958   0.952903   \n",
       "C(edu):C(disabled)                                  0.043333   0.700363   \n",
       "C(health_state):C(disabled)                         0.136871   2.212159   \n",
       "C(gen):C(work_state)                                0.110020   1.778185   \n",
       "C(age_range):C(work_state)                          0.047429   0.766560   \n",
       "C(edu):C(work_state)                                0.170409   2.754202   \n",
       "C(health_state):C(work_state)                       0.016562   0.267678   \n",
       "C(disabled):C(work_state)                           0.018366   0.296830   \n",
       "C(gen):C(age_range):C(edu)                          0.009197   0.148653   \n",
       "C(gen):C(age_range):C(health_state)                 0.149291   2.412888   \n",
       "C(gen):C(edu):C(health_state)                       0.060391   0.976060   \n",
       "C(age_range):C(edu):C(health_state)                 0.036639   0.592170   \n",
       "C(gen):C(age_range):C(disabled)                     0.118548   1.916015   \n",
       "C(gen):C(edu):C(disabled)                           0.064713   1.045918   \n",
       "C(age_range):C(edu):C(disabled)                     0.121022   1.955999   \n",
       "C(gen):C(health_state):C(disabled)                  0.184275   2.978313   \n",
       "C(age_range):C(health_state):C(disabled)            0.025245   0.408022   \n",
       "C(edu):C(health_state):C(disabled)                  0.048505   0.783960   \n",
       "C(gen):C(age_range):C(work_state)                   0.086972   1.405665   \n",
       "C(gen):C(edu):C(work_state)                         0.003096   0.050031   \n",
       "C(age_range):C(edu):C(work_state)                   0.054881   0.887008   \n",
       "C(gen):C(health_state):C(work_state)                0.021038   0.340017   \n",
       "C(age_range):C(health_state):C(work_state)          0.059949   0.968919   \n",
       "C(edu):C(health_state):C(work_state)                0.013523   0.218561   \n",
       "C(gen):C(disabled):C(work_state)                    0.005623   0.090874   \n",
       "C(age_range):C(disabled):C(work_state)              0.020582   0.332647   \n",
       "C(edu):C(disabled):C(work_state)                    0.054535   0.881408   \n",
       "C(health_state):C(disabled):C(work_state)           0.074871   1.210093   \n",
       "C(gen):C(age_range):C(edu):C(health_state)          0.078062   1.261661   \n",
       "C(gen):C(age_range):C(edu):C(disabled)              0.077072   1.245669   \n",
       "C(gen):C(age_range):C(health_state):C(disabled)     0.050560   0.817168   \n",
       "C(gen):C(edu):C(health_state):C(disabled)           0.128212   2.072203   \n",
       "C(age_range):C(edu):C(health_state):C(disabled)     0.055323   0.894157   \n",
       "C(gen):C(age_range):C(edu):C(work_state)            0.057943   0.936493   \n",
       "C(gen):C(age_range):C(health_state):C(work_state)   0.059304   0.958489   \n",
       "C(gen):C(edu):C(health_state):C(work_state)         0.062238   1.005916   \n",
       "C(age_range):C(edu):C(health_state):C(work_state)   0.054538   0.881456   \n",
       "C(gen):C(age_range):C(disabled):C(work_state)       0.109036   1.762279   \n",
       "C(gen):C(edu):C(disabled):C(work_state)             0.000653   0.010557   \n",
       "C(age_range):C(edu):C(disabled):C(work_state)       0.022243   0.359491   \n",
       "C(gen):C(health_state):C(disabled):C(work_state)    0.042955   0.694254   \n",
       "C(age_range):C(health_state):C(disabled):C(work...  0.074099   1.197619   \n",
       "C(edu):C(health_state):C(disabled):C(work_state)    0.038223   0.617771   \n",
       "C(gen):C(age_range):C(edu):C(health_state):C(di...  0.040540   0.655222   \n",
       "C(gen):C(age_range):C(edu):C(health_state):C(wo...  0.131175   2.120090   \n",
       "C(gen):C(age_range):C(edu):C(disabled):C(work_s...  0.052383   0.846627   \n",
       "C(gen):C(age_range):C(health_state):C(disabled)...  0.038865   0.628150   \n",
       "C(gen):C(edu):C(health_state):C(disabled):C(wor...  0.015800   0.255365   \n",
       "C(age_range):C(edu):C(health_state):C(disabled)...  0.046463   0.750946   \n",
       "C(gen):C(age_range):C(edu):C(health_state):C(di...  0.085508   1.382009   \n",
       "income                                              0.377058   6.094144   \n",
       "C(gen):income                                       0.033838   0.546908   \n",
       "C(age_range):income                                 0.056697   0.916354   \n",
       "C(edu):income                                       0.182807   2.954584   \n",
       "C(health_state):income                              0.299080   4.833839   \n",
       "C(disabled):income                                  0.002573   0.041592   \n",
       "C(work_state):income                                0.054644   0.883171   \n",
       "C(gen):C(age_range):income                          0.036922   0.596753   \n",
       "C(gen):C(edu):income                                0.008901   0.143854   \n",
       "C(age_range):C(edu):income                          0.044067   0.712227   \n",
       "C(gen):C(health_state):income                       0.180328   2.914523   \n",
       "C(age_range):C(health_state):income                 0.057687   0.932358   \n",
       "C(edu):C(health_state):income                       0.035151   0.568122   \n",
       "C(gen):C(disabled):income                           0.051325   0.829539   \n",
       "C(age_range):C(disabled):income                     0.010602   0.171349   \n",
       "C(edu):C(disabled):income                           0.043606   0.704774   \n",
       "C(health_state):C(disabled):income                  0.217642   3.517609   \n",
       "C(gen):C(work_state):income                         0.001639   0.026492   \n",
       "C(age_range):C(work_state):income                   0.020129   0.325333   \n",
       "C(edu):C(work_state):income                         0.036548   0.590708   \n",
       "C(health_state):C(work_state):income                0.181988   2.941349   \n",
       "C(disabled):C(work_state):income                    0.000127   0.002059   \n",
       "C(gen):C(age_range):C(edu):income                   0.095605   1.545198   \n",
       "C(gen):C(age_range):C(health_state):income          0.063061   1.019219   \n",
       "C(gen):C(edu):C(health_state):income                0.085778   1.386370   \n",
       "C(age_range):C(edu):C(health_state):income          0.066634   1.076956   \n",
       "C(gen):C(age_range):C(disabled):income              0.108947   1.760837   \n",
       "C(gen):C(edu):C(disabled):income                    0.201800   3.261567   \n",
       "C(age_range):C(edu):C(disabled):income              0.029497   0.476748   \n",
       "C(gen):C(health_state):C(disabled):income           0.159041   2.570482   \n",
       "C(age_range):C(health_state):C(disabled):income     0.034418   0.556274   \n",
       "C(edu):C(health_state):C(disabled):income           0.099601   1.609785   \n",
       "C(gen):C(age_range):C(work_state):income            0.016250   0.262633   \n",
       "C(gen):C(edu):C(work_state):income                  0.015388   0.248712   \n",
       "C(age_range):C(edu):C(work_state):income            0.029775   0.481238   \n",
       "C(gen):C(health_state):C(work_state):income         0.006010   0.097143   \n",
       "C(age_range):C(health_state):C(work_state):income   0.074387   1.202275   \n",
       "C(edu):C(health_state):C(work_state):income         0.075413   1.218856   \n",
       "C(gen):C(disabled):C(work_state):income             0.000635   0.010256   \n",
       "C(age_range):C(disabled):C(work_state):income       0.095230   1.539147   \n",
       "C(edu):C(disabled):C(work_state):income             0.044027   0.711573   \n",
       "C(health_state):C(disabled):C(work_state):income    0.035068   0.566777   \n",
       "C(gen):C(age_range):C(edu):C(health_state):income   0.067758   1.095134   \n",
       "C(gen):C(age_range):C(edu):C(disabled):income       0.196736   3.179708   \n",
       "C(gen):C(age_range):C(health_state):C(disabled)...  0.079045   1.277547   \n",
       "C(gen):C(edu):C(health_state):C(disabled):income    0.060839   0.983303   \n",
       "C(age_range):C(edu):C(health_state):C(disabled)...  0.026983   0.436102   \n",
       "C(gen):C(age_range):C(edu):C(work_state):income     0.016045   0.259317   \n",
       "C(gen):C(age_range):C(health_state):C(work_stat...  0.035795   0.578538   \n",
       "C(gen):C(edu):C(health_state):C(work_state):income  0.058461   0.944861   \n",
       "C(age_range):C(edu):C(health_state):C(work_stat...  0.050848   0.821825   \n",
       "C(gen):C(age_range):C(disabled):C(work_state):i...  0.009002   0.145499   \n",
       "C(gen):C(edu):C(disabled):C(work_state):income      0.007827   0.126506   \n",
       "C(age_range):C(edu):C(disabled):C(work_state):i...  0.089937   1.453590   \n",
       "C(gen):C(health_state):C(disabled):C(work_state...  0.079811   1.289939   \n",
       "C(age_range):C(health_state):C(disabled):C(work...  0.055063   0.889949   \n",
       "C(edu):C(health_state):C(disabled):C(work_state...  0.052627   0.850569   \n",
       "C(gen):C(age_range):C(edu):C(health_state):C(di...  0.046800   0.756400   \n",
       "C(gen):C(age_range):C(edu):C(health_state):C(wo...  0.060190   0.972818   \n",
       "C(gen):C(age_range):C(edu):C(disabled):C(work_s...  0.111035   1.794586   \n",
       "C(gen):C(age_range):C(health_state):C(disabled)...  0.074495   1.204015   \n",
       "C(gen):C(edu):C(health_state):C(disabled):C(wor...  0.037097   0.599572   \n",
       "C(age_range):C(edu):C(health_state):C(disabled)...  0.043670   0.705804   \n",
       "C(gen):C(age_range):C(edu):C(health_state):C(di...  0.077074   1.245699   \n",
       "Residual                                            0.061872        NaN   \n",
       "\n",
       "                                                          PR(>F)  \n",
       "C(gen)                                              3.930241e-15  \n",
       "C(age_range)                                        5.587364e-18  \n",
       "C(edu)                                              4.249259e-16  \n",
       "C(health_state)                                     2.393449e-34  \n",
       "C(disabled)                                         2.509595e-01  \n",
       "C(work_state)                                       3.128012e-02  \n",
       "C(gen):C(age_range)                                 2.600809e-02  \n",
       "C(gen):C(edu)                                       7.715055e-01  \n",
       "C(age_range):C(edu)                                 2.231430e-01  \n",
       "C(gen):C(health_state)                              1.017056e-01  \n",
       "C(age_range):C(health_state)                        2.950913e-03  \n",
       "C(edu):C(health_state)                              8.230946e-05  \n",
       "C(gen):C(disabled)                                  2.324408e-01  \n",
       "C(age_range):C(disabled)                            4.321983e-01  \n",
       "C(edu):C(disabled)                                  5.517386e-01  \n",
       "C(health_state):C(disabled)                         6.515538e-02  \n",
       "C(gen):C(work_state)                                1.824325e-01  \n",
       "C(age_range):C(work_state)                          5.468559e-01  \n",
       "C(edu):C(work_state)                                4.099455e-02  \n",
       "C(health_state):C(work_state)                       8.988756e-01  \n",
       "C(disabled):C(work_state)                           5.859008e-01  \n",
       "C(gen):C(age_range):C(edu)                          9.996710e-01  \n",
       "C(gen):C(age_range):C(health_state)                 1.278257e-03  \n",
       "C(gen):C(edu):C(health_state)                       4.691818e-01  \n",
       "C(age_range):C(edu):C(health_state)                 9.887866e-01  \n",
       "C(gen):C(age_range):C(disabled)                     1.048672e-01  \n",
       "C(gen):C(edu):C(disabled)                           3.709677e-01  \n",
       "C(age_range):C(edu):C(disabled)                     2.420873e-02  \n",
       "C(gen):C(health_state):C(disabled)                  1.809840e-02  \n",
       "C(age_range):C(health_state):C(disabled)            9.812454e-01  \n",
       "C(edu):C(health_state):C(disabled)                  6.677373e-01  \n",
       "C(gen):C(age_range):C(work_state)                   2.293266e-01  \n",
       "C(gen):C(edu):C(work_state)                         9.852110e-01  \n",
       "C(age_range):C(edu):C(work_state)                   5.596997e-01  \n",
       "C(gen):C(health_state):C(work_state)                8.510900e-01  \n",
       "C(age_range):C(health_state):C(work_state)          4.883387e-01  \n",
       "C(edu):C(health_state):C(work_state)                9.976636e-01  \n",
       "C(gen):C(disabled):C(work_state)                    7.630811e-01  \n",
       "C(age_range):C(disabled):C(work_state)              8.561496e-01  \n",
       "C(edu):C(disabled):C(work_state)                    4.498634e-01  \n",
       "C(health_state):C(disabled):C(work_state)           3.042182e-01  \n",
       "C(gen):C(age_range):C(edu):C(health_state)          1.068053e-01  \n",
       "C(gen):C(age_range):C(edu):C(disabled)              2.446948e-01  \n",
       "C(gen):C(age_range):C(health_state):C(disabled)     6.672017e-01  \n",
       "C(gen):C(edu):C(health_state):C(disabled)           1.564965e-02  \n",
       "C(age_range):C(edu):C(health_state):C(disabled)     6.800659e-01  \n",
       "C(gen):C(age_range):C(edu):C(work_state)            5.087638e-01  \n",
       "C(gen):C(age_range):C(health_state):C(work_state)   5.003398e-01  \n",
       "C(gen):C(edu):C(health_state):C(work_state)         4.401922e-01  \n",
       "C(age_range):C(edu):C(health_state):C(work_state)   7.036468e-01  \n",
       "C(gen):C(age_range):C(disabled):C(work_state)       1.334983e-01  \n",
       "C(gen):C(edu):C(disabled):C(work_state)             9.985150e-01  \n",
       "C(age_range):C(edu):C(disabled):C(work_state)       9.770285e-01  \n",
       "C(gen):C(health_state):C(disabled):C(work_state)    5.958434e-01  \n",
       "C(age_range):C(health_state):C(disabled):C(work...  2.608530e-01  \n",
       "C(edu):C(health_state):C(disabled):C(work_state)    8.290049e-01  \n",
       "C(gen):C(age_range):C(edu):C(health_state):C(di...  9.684551e-01  \n",
       "C(gen):C(age_range):C(edu):C(health_state):C(wo...  1.143259e-05  \n",
       "C(gen):C(age_range):C(edu):C(disabled):C(work_s...  6.019822e-01  \n",
       "C(gen):C(age_range):C(health_state):C(disabled)...  8.637757e-01  \n",
       "C(gen):C(edu):C(health_state):C(disabled):C(wor...  9.950562e-01  \n",
       "C(age_range):C(edu):C(health_state):C(disabled)...  8.971112e-01  \n",
       "C(gen):C(age_range):C(edu):C(health_state):C(di...  4.176682e-02  \n",
       "income                                              1.359595e-02  \n",
       "C(gen):income                                       4.596182e-01  \n",
       "C(age_range):income                                 4.532648e-01  \n",
       "C(edu):income                                       3.125588e-02  \n",
       "C(health_state):income                              6.854376e-04  \n",
       "C(disabled):income                                  8.384078e-01  \n",
       "C(work_state):income                                3.473796e-01  \n",
       "C(gen):C(age_range):income                          6.649925e-01  \n",
       "C(gen):C(edu):income                                9.336430e-01  \n",
       "C(age_range):C(edu):income                          7.409791e-01  \n",
       "C(gen):C(health_state):income                       2.017909e-02  \n",
       "C(age_range):C(health_state):income                 5.307716e-01  \n",
       "C(edu):C(health_state):income                       8.693008e-01  \n",
       "C(gen):C(disabled):income                           3.624494e-01  \n",
       "C(age_range):C(disabled):income                     9.531067e-01  \n",
       "C(edu):C(disabled):income                           5.490676e-01  \n",
       "C(health_state):C(disabled):income                  7.125803e-03  \n",
       "C(gen):C(work_state):income                         8.707110e-01  \n",
       "C(age_range):C(work_state):income                   8.611345e-01  \n",
       "C(edu):C(work_state):income                         6.210496e-01  \n",
       "C(health_state):C(work_state):income                1.927724e-02  \n",
       "C(disabled):C(work_state):income                    9.638076e-01  \n",
       "C(gen):C(age_range):C(edu):income                   1.006083e-01  \n",
       "C(gen):C(age_range):C(health_state):income          4.319670e-01  \n",
       "C(gen):C(edu):C(health_state):income                1.642351e-01  \n",
       "C(age_range):C(edu):C(health_state):income          3.326460e-01  \n",
       "C(gen):C(age_range):C(disabled):income              1.337982e-01  \n",
       "C(gen):C(edu):C(disabled):income                    2.056757e-02  \n",
       "C(age_range):C(edu):C(disabled):income              9.293784e-01  \n",
       "C(gen):C(health_state):C(disabled):income           3.606415e-02  \n",
       "C(age_range):C(health_state):C(disabled):income     9.172791e-01  \n",
       "C(edu):C(health_state):C(disabled):income           8.154932e-02  \n",
       "C(gen):C(age_range):C(work_state):income            9.020241e-01  \n",
       "C(gen):C(edu):C(work_state):income                  8.622976e-01  \n",
       "C(age_range):C(edu):C(work_state):income            9.268906e-01  \n",
       "C(gen):C(health_state):C(work_state):income         9.833968e-01  \n",
       "C(age_range):C(health_state):C(work_state):income   2.570956e-01  \n",
       "C(edu):C(health_state):C(work_state):income         2.629023e-01  \n",
       "C(gen):C(disabled):C(work_state):income             9.193396e-01  \n",
       "C(age_range):C(disabled):C(work_state):income       1.879349e-01  \n",
       "C(edu):C(disabled):C(work_state):income             5.449689e-01  \n",
       "C(health_state):C(disabled):C(work_state):income    6.867747e-01  \n",
       "C(gen):C(age_range):C(edu):C(health_state):income   3.027958e-01  \n",
       "C(gen):C(age_range):C(edu):C(disabled):income       1.506622e-04  \n",
       "C(gen):C(age_range):C(health_state):C(disabled)...  2.015700e-01  \n",
       "C(gen):C(edu):C(health_state):C(disabled):income    4.620736e-01  \n",
       "C(age_range):C(edu):C(health_state):C(disabled)...  9.997600e-01  \n",
       "C(gen):C(age_range):C(edu):C(work_state):income     9.946848e-01  \n",
       "C(gen):C(age_range):C(health_state):C(work_stat...  9.022793e-01  \n",
       "C(gen):C(edu):C(health_state):C(work_state):income  5.002943e-01  \n",
       "C(age_range):C(edu):C(health_state):C(work_stat...  8.047595e-01  \n",
       "C(gen):C(age_range):C(disabled):C(work_state):i...  9.650344e-01  \n",
       "C(gen):C(edu):C(disabled):C(work_state):income      9.444358e-01  \n",
       "C(age_range):C(edu):C(disabled):C(work_state):i...  1.341168e-01  \n",
       "C(gen):C(health_state):C(disabled):C(work_state...  2.714528e-01  \n",
       "C(age_range):C(health_state):C(disabled):C(work...  5.809250e-01  \n",
       "C(edu):C(health_state):C(disabled):C(work_state...  5.978393e-01  \n",
       "C(gen):C(age_range):C(edu):C(health_state):C(di...  8.912257e-01  \n",
       "C(gen):C(age_range):C(edu):C(health_state):C(wo...  5.264947e-01  \n",
       "C(gen):C(age_range):C(edu):C(disabled):C(work_s...  4.338658e-02  \n",
       "C(gen):C(age_range):C(health_state):C(disabled)...  2.557009e-01  \n",
       "C(gen):C(edu):C(health_state):C(disabled):C(wor...  8.443348e-01  \n",
       "C(age_range):C(edu):C(health_state):C(disabled)...  9.379887e-01  \n",
       "C(gen):C(age_range):C(edu):C(health_state):C(di...  1.196263e-01  \n",
       "Residual                                                     NaN  "
      ]
     },
     "execution_count": 139,
     "metadata": {},
     "output_type": "execute_result"
    }
   ],
   "source": [
    "formula = 'y_train ~ C(gen) * C(age_range)* C(edu) * C(health_state)*C(disabled)*C(work_state)*income'\n",
    "\n",
    "lm = ols(formula,new_df).fit()\n",
    "anova = anova_lm(lm)\n",
    "\n",
    "anova"
   ]
  },
  {
   "cell_type": "code",
   "execution_count": 138,
   "metadata": {},
   "outputs": [
    {
     "data": {
      "text/html": [
       "<div>\n",
       "<style scoped>\n",
       "    .dataframe tbody tr th:only-of-type {\n",
       "        vertical-align: middle;\n",
       "    }\n",
       "\n",
       "    .dataframe tbody tr th {\n",
       "        vertical-align: top;\n",
       "    }\n",
       "\n",
       "    .dataframe thead th {\n",
       "        text-align: right;\n",
       "    }\n",
       "</style>\n",
       "<table border=\"1\" class=\"dataframe\">\n",
       "  <thead>\n",
       "    <tr style=\"text-align: right;\">\n",
       "      <th></th>\n",
       "      <th>gen</th>\n",
       "      <th>age</th>\n",
       "      <th>edu</th>\n",
       "      <th>health_state</th>\n",
       "      <th>disabled</th>\n",
       "      <th>work_state</th>\n",
       "      <th>income</th>\n",
       "      <th>age_range</th>\n",
       "      <th>y_total</th>\n",
       "      <th>y_train</th>\n",
       "    </tr>\n",
       "  </thead>\n",
       "  <tbody>\n",
       "    <tr>\n",
       "      <th>0</th>\n",
       "      <td>female</td>\n",
       "      <td>78</td>\n",
       "      <td>중졸</td>\n",
       "      <td>2</td>\n",
       "      <td>abled</td>\n",
       "      <td>nowork</td>\n",
       "      <td>NaN</td>\n",
       "      <td>60세 이상</td>\n",
       "      <td>20</td>\n",
       "      <td>0</td>\n",
       "    </tr>\n",
       "    <tr>\n",
       "      <th>1</th>\n",
       "      <td>male</td>\n",
       "      <td>75</td>\n",
       "      <td>초졸이하</td>\n",
       "      <td>1</td>\n",
       "      <td>abled</td>\n",
       "      <td>work</td>\n",
       "      <td>172.0</td>\n",
       "      <td>60세 이상</td>\n",
       "      <td>29</td>\n",
       "      <td>1</td>\n",
       "    </tr>\n",
       "    <tr>\n",
       "      <th>2</th>\n",
       "      <td>male</td>\n",
       "      <td>81</td>\n",
       "      <td>대졸이상</td>\n",
       "      <td>4</td>\n",
       "      <td>abled</td>\n",
       "      <td>work</td>\n",
       "      <td>100.0</td>\n",
       "      <td>60세 이상</td>\n",
       "      <td>18</td>\n",
       "      <td>0</td>\n",
       "    </tr>\n",
       "    <tr>\n",
       "      <th>3</th>\n",
       "      <td>male</td>\n",
       "      <td>61</td>\n",
       "      <td>대졸이상</td>\n",
       "      <td>4</td>\n",
       "      <td>abled</td>\n",
       "      <td>work</td>\n",
       "      <td>268.0</td>\n",
       "      <td>60세 이상</td>\n",
       "      <td>20</td>\n",
       "      <td>0</td>\n",
       "    </tr>\n",
       "    <tr>\n",
       "      <th>4</th>\n",
       "      <td>female</td>\n",
       "      <td>60</td>\n",
       "      <td>고졸</td>\n",
       "      <td>4</td>\n",
       "      <td>abled</td>\n",
       "      <td>work</td>\n",
       "      <td>140.0</td>\n",
       "      <td>60세 이상</td>\n",
       "      <td>21</td>\n",
       "      <td>0</td>\n",
       "    </tr>\n",
       "  </tbody>\n",
       "</table>\n",
       "</div>"
      ],
      "text/plain": [
       "      gen  age   edu  health_state disabled work_state  income age_range  \\\n",
       "0  female   78    중졸             2    abled     nowork     NaN    60세 이상   \n",
       "1    male   75  초졸이하             1    abled       work   172.0    60세 이상   \n",
       "2    male   81  대졸이상             4    abled       work   100.0    60세 이상   \n",
       "3    male   61  대졸이상             4    abled       work   268.0    60세 이상   \n",
       "4  female   60    고졸             4    abled       work   140.0    60세 이상   \n",
       "\n",
       "   y_total  y_train  \n",
       "0       20        0  \n",
       "1       29        1  \n",
       "2       18        0  \n",
       "3       20        0  \n",
       "4       21        0  "
      ]
     },
     "execution_count": 138,
     "metadata": {},
     "output_type": "execute_result"
    }
   ],
   "source": [
    "new_df.head()"
   ]
  },
  {
   "cell_type": "code",
   "execution_count": 140,
   "metadata": {},
   "outputs": [],
   "source": [
    "## 딴거 다 포함한 데이터들은 대략적인 시각화를 통해 우울감  0과 1 에 차이가 있는지 대략적인 상관성을 파악해서 잠재변수들을 걸러냈음\n",
    "\n",
    "## 걸러낸 잠재변수들로부터 독립변수를 선정\n",
    "\n",
    "## 선정된 독립변수들이 y_total 및 y_train에 통계적으로 유의미한 영향을 미치는지 알아본게 밑에거임\n",
    "\n",
    "## y_total 우울정도지표인데, 우울감 경험 여부를 나누기 전에, 무엇이 우울정도 지표에 통계적으로 유의한 영향을 미치는지 알아봤다 \n",
    "## 그결화\n",
    "## 장애는 우울감 점수의 유의미한 차이가 없음 .\n",
    "## 나이는 특정나이대범주화 시켜서 분산분석 했다\n",
    "\n",
    "## y_train\n",
    "\n",
    "## 각 범주형 및 연속형 변수에 따라 0인지 1인지 빈도수 및 비율을 알아봄으로써 카이제곱 검정을 통해 \n",
    "## 독립변수가 종속변수에 영향을 미치는지 알아보면 됨 \n",
    "## 근데 y_train에 대한 검정을 할 때 income은 제외함 -> 연속형 변수기 때문에. \n",
    "## 그래서 new_df[['income','y_total']].corr()을 통해 약한 음의 상관관계가 있다는 것과, 아노바를 통해 income에 따라 y_total이 유의미한 차이가 있다고 결과가 \n",
    "## 나왔기 떄문에 독립변수로써 쓸모가 있음. \n",
    "## 밑에서 카이제곱 검정 하겠음."
   ]
  },
  {
   "cell_type": "code",
   "execution_count": 141,
   "metadata": {},
   "outputs": [
    {
     "data": {
      "text/html": [
       "<div>\n",
       "<style scoped>\n",
       "    .dataframe tbody tr th:only-of-type {\n",
       "        vertical-align: middle;\n",
       "    }\n",
       "\n",
       "    .dataframe tbody tr th {\n",
       "        vertical-align: top;\n",
       "    }\n",
       "\n",
       "    .dataframe thead th {\n",
       "        text-align: right;\n",
       "    }\n",
       "</style>\n",
       "<table border=\"1\" class=\"dataframe\">\n",
       "  <thead>\n",
       "    <tr style=\"text-align: right;\">\n",
       "      <th></th>\n",
       "      <th>income</th>\n",
       "      <th>y_total</th>\n",
       "    </tr>\n",
       "  </thead>\n",
       "  <tbody>\n",
       "    <tr>\n",
       "      <th>income</th>\n",
       "      <td>1.000000</td>\n",
       "      <td>-0.212786</td>\n",
       "    </tr>\n",
       "    <tr>\n",
       "      <th>y_total</th>\n",
       "      <td>-0.212786</td>\n",
       "      <td>1.000000</td>\n",
       "    </tr>\n",
       "  </tbody>\n",
       "</table>\n",
       "</div>"
      ],
      "text/plain": [
       "           income   y_total\n",
       "income   1.000000 -0.212786\n",
       "y_total -0.212786  1.000000"
      ]
     },
     "execution_count": 141,
     "metadata": {},
     "output_type": "execute_result"
    }
   ],
   "source": [
    "new_df[['income','y_total']].corr()"
   ]
  },
  {
   "cell_type": "code",
   "execution_count": 143,
   "metadata": {},
   "outputs": [
    {
     "data": {
      "text/plain": [
       "Index(['gen', 'age', 'edu', 'health_state', 'disabled', 'work_state', 'income',\n",
       "       'age_range', 'y_total', 'y_train'],\n",
       "      dtype='object')"
      ]
     },
     "execution_count": 143,
     "metadata": {},
     "output_type": "execute_result"
    }
   ],
   "source": [
    "new_df.columns"
   ]
  },
  {
   "cell_type": "code",
   "execution_count": 145,
   "metadata": {},
   "outputs": [
    {
     "data": {
      "text/html": [
       "<div>\n",
       "<style scoped>\n",
       "    .dataframe tbody tr th:only-of-type {\n",
       "        vertical-align: middle;\n",
       "    }\n",
       "\n",
       "    .dataframe tbody tr th {\n",
       "        vertical-align: top;\n",
       "    }\n",
       "\n",
       "    .dataframe thead th {\n",
       "        text-align: right;\n",
       "    }\n",
       "</style>\n",
       "<table border=\"1\" class=\"dataframe\">\n",
       "  <thead>\n",
       "    <tr style=\"text-align: right;\">\n",
       "      <th>y_train</th>\n",
       "      <th>0</th>\n",
       "      <th>1</th>\n",
       "    </tr>\n",
       "    <tr>\n",
       "      <th>gen</th>\n",
       "      <th></th>\n",
       "      <th></th>\n",
       "    </tr>\n",
       "  </thead>\n",
       "  <tbody>\n",
       "    <tr>\n",
       "      <th>female</th>\n",
       "      <td>6370</td>\n",
       "      <td>1312</td>\n",
       "    </tr>\n",
       "    <tr>\n",
       "      <th>male</th>\n",
       "      <td>5290</td>\n",
       "      <td>502</td>\n",
       "    </tr>\n",
       "  </tbody>\n",
       "</table>\n",
       "</div>"
      ],
      "text/plain": [
       "y_train     0     1\n",
       "gen                \n",
       "female   6370  1312\n",
       "male     5290   502"
      ]
     },
     "execution_count": 145,
     "metadata": {},
     "output_type": "execute_result"
    }
   ],
   "source": [
    "\n",
    "result_gen"
   ]
  },
  {
   "cell_type": "code",
   "execution_count": 148,
   "metadata": {},
   "outputs": [
    {
     "data": {
      "text/plain": [
       "Chi2ContingencyResult(statistic=199.8353366379684, pvalue=2.2686379928906813e-45, dof=1, expected_freq=array([[6647.77497402, 1034.22502598],\n",
       "       [5012.22502598,  779.77497402]]))"
      ]
     },
     "execution_count": 148,
     "metadata": {},
     "output_type": "execute_result"
    }
   ],
   "source": [
    "from scipy.stats import chi2_contingency\n",
    "result_gen = pd.crosstab(new_df['gen'],new_df['y_train'])\n",
    "chiresult_gen = chi2_contingency(observed=result_gen)\n",
    "chiresult_gen"
   ]
  },
  {
   "cell_type": "code",
   "execution_count": 150,
   "metadata": {},
   "outputs": [
    {
     "data": {
      "text/html": [
       "<div>\n",
       "<style scoped>\n",
       "    .dataframe tbody tr th:only-of-type {\n",
       "        vertical-align: middle;\n",
       "    }\n",
       "\n",
       "    .dataframe tbody tr th {\n",
       "        vertical-align: top;\n",
       "    }\n",
       "\n",
       "    .dataframe thead th {\n",
       "        text-align: right;\n",
       "    }\n",
       "</style>\n",
       "<table border=\"1\" class=\"dataframe\">\n",
       "  <thead>\n",
       "    <tr style=\"text-align: right;\">\n",
       "      <th>y_train</th>\n",
       "      <th>0</th>\n",
       "      <th>1</th>\n",
       "    </tr>\n",
       "    <tr>\n",
       "      <th>age_range</th>\n",
       "      <th></th>\n",
       "      <th></th>\n",
       "    </tr>\n",
       "  </thead>\n",
       "  <tbody>\n",
       "    <tr>\n",
       "      <th>19~29세</th>\n",
       "      <td>1042</td>\n",
       "      <td>71</td>\n",
       "    </tr>\n",
       "    <tr>\n",
       "      <th>30~39세</th>\n",
       "      <td>1108</td>\n",
       "      <td>69</td>\n",
       "    </tr>\n",
       "    <tr>\n",
       "      <th>40~49세</th>\n",
       "      <td>1678</td>\n",
       "      <td>86</td>\n",
       "    </tr>\n",
       "    <tr>\n",
       "      <th>50~59세</th>\n",
       "      <td>1810</td>\n",
       "      <td>144</td>\n",
       "    </tr>\n",
       "    <tr>\n",
       "      <th>60세 이상</th>\n",
       "      <td>6009</td>\n",
       "      <td>1439</td>\n",
       "    </tr>\n",
       "  </tbody>\n",
       "</table>\n",
       "</div>"
      ],
      "text/plain": [
       "y_train       0     1\n",
       "age_range            \n",
       "19~29세     1042    71\n",
       "30~39세     1108    69\n",
       "40~49세     1678    86\n",
       "50~59세     1810   144\n",
       "60세 이상     6009  1439"
      ]
     },
     "execution_count": 150,
     "metadata": {},
     "output_type": "execute_result"
    }
   ],
   "source": [
    "result_age"
   ]
  },
  {
   "cell_type": "code",
   "execution_count": 149,
   "metadata": {},
   "outputs": [
    {
     "data": {
      "text/plain": [
       "Chi2ContingencyResult(statistic=500.1881601693687, pvalue=6.100389097601047e-107, dof=4, expected_freq=array([[ 963.37031807,  149.62968193],\n",
       "       [1018.76627527,  158.23372473],\n",
       "       [1526.85107015,  237.14892985],\n",
       "       [1691.30781807,  262.69218193],\n",
       "       [6446.70451843, 1001.29548157]]))"
      ]
     },
     "execution_count": 149,
     "metadata": {},
     "output_type": "execute_result"
    }
   ],
   "source": [
    "result_age = pd.crosstab(new_df['age_range'],new_df['y_train'])\n",
    "chiresult_age = chi2_contingency(observed=result_age)\n",
    "chiresult_age"
   ]
  },
  {
   "cell_type": "code",
   "execution_count": 152,
   "metadata": {},
   "outputs": [
    {
     "data": {
      "text/html": [
       "<div>\n",
       "<style scoped>\n",
       "    .dataframe tbody tr th:only-of-type {\n",
       "        vertical-align: middle;\n",
       "    }\n",
       "\n",
       "    .dataframe tbody tr th {\n",
       "        vertical-align: top;\n",
       "    }\n",
       "\n",
       "    .dataframe thead th {\n",
       "        text-align: right;\n",
       "    }\n",
       "</style>\n",
       "<table border=\"1\" class=\"dataframe\">\n",
       "  <thead>\n",
       "    <tr style=\"text-align: right;\">\n",
       "      <th>y_train</th>\n",
       "      <th>0</th>\n",
       "      <th>1</th>\n",
       "    </tr>\n",
       "    <tr>\n",
       "      <th>edu</th>\n",
       "      <th></th>\n",
       "      <th></th>\n",
       "    </tr>\n",
       "  </thead>\n",
       "  <tbody>\n",
       "    <tr>\n",
       "      <th>고졸</th>\n",
       "      <td>3285</td>\n",
       "      <td>358</td>\n",
       "    </tr>\n",
       "    <tr>\n",
       "      <th>대졸이상</th>\n",
       "      <td>4281</td>\n",
       "      <td>243</td>\n",
       "    </tr>\n",
       "    <tr>\n",
       "      <th>중졸</th>\n",
       "      <td>1392</td>\n",
       "      <td>271</td>\n",
       "    </tr>\n",
       "    <tr>\n",
       "      <th>초졸이하</th>\n",
       "      <td>2702</td>\n",
       "      <td>942</td>\n",
       "    </tr>\n",
       "  </tbody>\n",
       "</table>\n",
       "</div>"
      ],
      "text/plain": [
       "y_train     0    1\n",
       "edu               \n",
       "고졸       3285  358\n",
       "대졸이상     4281  243\n",
       "중졸       1392  271\n",
       "초졸이하     2702  942"
      ]
     },
     "execution_count": 152,
     "metadata": {},
     "output_type": "execute_result"
    }
   ],
   "source": [
    "result_edu"
   ]
  },
  {
   "cell_type": "code",
   "execution_count": 151,
   "metadata": {},
   "outputs": [
    {
     "data": {
      "text/plain": [
       "Chi2ContingencyResult(statistic=787.0129591697416, pvalue=2.8365412580622276e-170, dof=3, expected_freq=array([[3152.54415912,  490.45584088],\n",
       "       [3914.9354312 ,  609.0645688 ],\n",
       "       [1439.11088021,  223.88911979],\n",
       "       [3153.40952946,  490.59047054]]))"
      ]
     },
     "execution_count": 151,
     "metadata": {},
     "output_type": "execute_result"
    }
   ],
   "source": [
    "result_edu = pd.crosstab(new_df['edu'],new_df['y_train'])\n",
    "chiresult_edu = chi2_contingency(observed=result_edu)\n",
    "chiresult_edu"
   ]
  },
  {
   "cell_type": "code",
   "execution_count": 154,
   "metadata": {},
   "outputs": [
    {
     "data": {
      "text/html": [
       "<div>\n",
       "<style scoped>\n",
       "    .dataframe tbody tr th:only-of-type {\n",
       "        vertical-align: middle;\n",
       "    }\n",
       "\n",
       "    .dataframe tbody tr th {\n",
       "        vertical-align: top;\n",
       "    }\n",
       "\n",
       "    .dataframe thead th {\n",
       "        text-align: right;\n",
       "    }\n",
       "</style>\n",
       "<table border=\"1\" class=\"dataframe\">\n",
       "  <thead>\n",
       "    <tr style=\"text-align: right;\">\n",
       "      <th>y_train</th>\n",
       "      <th>0</th>\n",
       "      <th>1</th>\n",
       "    </tr>\n",
       "    <tr>\n",
       "      <th>health_state</th>\n",
       "      <th></th>\n",
       "      <th></th>\n",
       "    </tr>\n",
       "  </thead>\n",
       "  <tbody>\n",
       "    <tr>\n",
       "      <th>1</th>\n",
       "      <td>112</td>\n",
       "      <td>130</td>\n",
       "    </tr>\n",
       "    <tr>\n",
       "      <th>2</th>\n",
       "      <td>1873</td>\n",
       "      <td>815</td>\n",
       "    </tr>\n",
       "    <tr>\n",
       "      <th>3</th>\n",
       "      <td>2843</td>\n",
       "      <td>461</td>\n",
       "    </tr>\n",
       "    <tr>\n",
       "      <th>4</th>\n",
       "      <td>5897</td>\n",
       "      <td>363</td>\n",
       "    </tr>\n",
       "    <tr>\n",
       "      <th>5</th>\n",
       "      <td>935</td>\n",
       "      <td>45</td>\n",
       "    </tr>\n",
       "  </tbody>\n",
       "</table>\n",
       "</div>"
      ],
      "text/plain": [
       "y_train          0    1\n",
       "health_state           \n",
       "1              112  130\n",
       "2             1873  815\n",
       "3             2843  461\n",
       "4             5897  363\n",
       "5              935   45"
      ]
     },
     "execution_count": 154,
     "metadata": {},
     "output_type": "execute_result"
    }
   ],
   "source": [
    "result_health_state"
   ]
  },
  {
   "cell_type": "code",
   "execution_count": 157,
   "metadata": {},
   "outputs": [
    {
     "data": {
      "text/plain": [
       "Chi2ContingencyResult(statistic=1374.7283108106578, pvalue=2.0862122777445187e-296, dof=4, expected_freq=array([[ 209.41962298,   32.58037702],\n",
       "       [2326.11548167,  361.88451833],\n",
       "       [2859.18361288,  444.81638712],\n",
       "       [5417.21834645,  842.78165355],\n",
       "       [ 848.06293602,  131.93706398]]))"
      ]
     },
     "execution_count": 157,
     "metadata": {},
     "output_type": "execute_result"
    }
   ],
   "source": [
    "result_health_state = pd.crosstab(new_df['health_state'],new_df['y_train'])\n",
    "chiresult_health_state = chi2_contingency(observed=result_health_state)\n",
    "chiresult_health_state"
   ]
  },
  {
   "cell_type": "code",
   "execution_count": 155,
   "metadata": {},
   "outputs": [
    {
     "data": {
      "text/plain": [
       "Index(['gen', 'age', 'edu', 'health_state', 'disabled', 'work_state', 'income',\n",
       "       'age_range', 'y_total', 'y_train'],\n",
       "      dtype='object')"
      ]
     },
     "execution_count": 155,
     "metadata": {},
     "output_type": "execute_result"
    }
   ],
   "source": [
    "new_df.columns"
   ]
  },
  {
   "cell_type": "code",
   "execution_count": 159,
   "metadata": {},
   "outputs": [
    {
     "data": {
      "text/html": [
       "<div>\n",
       "<style scoped>\n",
       "    .dataframe tbody tr th:only-of-type {\n",
       "        vertical-align: middle;\n",
       "    }\n",
       "\n",
       "    .dataframe tbody tr th {\n",
       "        vertical-align: top;\n",
       "    }\n",
       "\n",
       "    .dataframe thead th {\n",
       "        text-align: right;\n",
       "    }\n",
       "</style>\n",
       "<table border=\"1\" class=\"dataframe\">\n",
       "  <thead>\n",
       "    <tr style=\"text-align: right;\">\n",
       "      <th>y_train</th>\n",
       "      <th>0</th>\n",
       "      <th>1</th>\n",
       "    </tr>\n",
       "    <tr>\n",
       "      <th>disabled</th>\n",
       "      <th></th>\n",
       "      <th></th>\n",
       "    </tr>\n",
       "  </thead>\n",
       "  <tbody>\n",
       "    <tr>\n",
       "      <th>abled</th>\n",
       "      <td>10702</td>\n",
       "      <td>1485</td>\n",
       "    </tr>\n",
       "    <tr>\n",
       "      <th>disabled</th>\n",
       "      <td>958</td>\n",
       "      <td>329</td>\n",
       "    </tr>\n",
       "  </tbody>\n",
       "</table>\n",
       "</div>"
      ],
      "text/plain": [
       "y_train       0     1\n",
       "disabled             \n",
       "abled     10702  1485\n",
       "disabled    958   329"
      ]
     },
     "execution_count": 159,
     "metadata": {},
     "output_type": "execute_result"
    }
   ],
   "source": [
    "result_disabled"
   ]
  },
  {
   "cell_type": "code",
   "execution_count": 158,
   "metadata": {},
   "outputs": [
    {
     "data": {
      "text/plain": [
       "Chi2ContingencyResult(statistic=177.6801371080632, pvalue=1.5558162389120512e-40, dof=1, expected_freq=array([[10546.26836871,  1640.73163129],\n",
       "       [ 1113.73163129,   173.26836871]]))"
      ]
     },
     "execution_count": 158,
     "metadata": {},
     "output_type": "execute_result"
    }
   ],
   "source": [
    "result_disabled = pd.crosstab(new_df['disabled'],new_df['y_train'])\n",
    "chiresult_disabled = chi2_contingency(observed=result_disabled)\n",
    "chiresult_disabled"
   ]
  },
  {
   "cell_type": "code",
   "execution_count": 160,
   "metadata": {},
   "outputs": [
    {
     "data": {
      "text/plain": [
       "Chi2ContingencyResult(statistic=573.851381337482, pvalue=8.157228625223528e-127, dof=1, expected_freq=array([[4686.84577705,  729.15422295],\n",
       "       [6973.15422295, 1084.84577705]]))"
      ]
     },
     "execution_count": 160,
     "metadata": {},
     "output_type": "execute_result"
    }
   ],
   "source": [
    "result_work_state = pd.crosstab(new_df['work_state'],new_df['y_train'])\n",
    "chiresult_work_state = chi2_contingency(observed=result_work_state)\n",
    "chiresult_work_state"
   ]
  },
  {
   "cell_type": "code",
   "execution_count": null,
   "metadata": {},
   "outputs": [],
   "source": [
    "### 의미있는거 확인해봄 \n"
   ]
  }
 ],
 "metadata": {
  "kernelspec": {
   "display_name": "Python 3",
   "language": "python",
   "name": "python3"
  },
  "language_info": {
   "codemirror_mode": {
    "name": "ipython",
    "version": 3
   },
   "file_extension": ".py",
   "mimetype": "text/x-python",
   "name": "python",
   "nbconvert_exporter": "python",
   "pygments_lexer": "ipython3",
   "version": "3.11.3"
  },
  "orig_nbformat": 4
 },
 "nbformat": 4,
 "nbformat_minor": 2
}

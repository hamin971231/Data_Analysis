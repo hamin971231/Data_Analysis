{
 "cells": [
  {
   "attachments": {},
   "cell_type": "markdown",
   "metadata": {},
   "source": [
    "# DataFrame \n",
    "\n",
    "### #01. Pandas 개요\n",
    "\n",
    "- 엑셀은 2만건 넘어가면 오래걸림 -> 데이터프레임 쓰는 이유 \n",
    "\n",
    "\n",
    "\n",
    "### 1) DataFrame으로 변환 가능한 데이터 형태\n",
    "\n",
    "- 2차원리스트\n",
    "- 리스트를 원소로 갖는 딕셔너리\n",
    "- 딕셔너리를 원소로 갖는 리스트\n",
    "- csv + 엑셀파일\n",
    "- SQL 데이터\n",
    "- 웹데이터 수집\n",
    "\n"
   ]
  },
  {
   "attachments": {},
   "cell_type": "markdown",
   "metadata": {},
   "source": [
    "### #2) 필요한 패키지\n"
   ]
  },
  {
   "cell_type": "code",
   "execution_count": 2,
   "metadata": {},
   "outputs": [],
   "source": [
    "import pandas as pd"
   ]
  },
  {
   "attachments": {},
   "cell_type": "markdown",
   "metadata": {},
   "source": [
    "### #3) 필요한 패키지\n"
   ]
  },
  {
   "cell_type": "code",
   "execution_count": 5,
   "metadata": {},
   "outputs": [],
   "source": [
    "import pandas as pd"
   ]
  },
  {
   "attachments": {},
   "cell_type": "markdown",
   "metadata": {},
   "source": [
    "#### 1) 2차원리스트"
   ]
  },
  {
   "cell_type": "code",
   "execution_count": 11,
   "metadata": {},
   "outputs": [
    {
     "data": {
      "text/html": [
       "<div>\n",
       "<style scoped>\n",
       "    .dataframe tbody tr th:only-of-type {\n",
       "        vertical-align: middle;\n",
       "    }\n",
       "\n",
       "    .dataframe tbody tr th {\n",
       "        vertical-align: top;\n",
       "    }\n",
       "\n",
       "    .dataframe thead th {\n",
       "        text-align: right;\n",
       "    }\n",
       "</style>\n",
       "<table border=\"1\" class=\"dataframe\">\n",
       "  <thead>\n",
       "    <tr style=\"text-align: right;\">\n",
       "      <th></th>\n",
       "      <th>햑년</th>\n",
       "      <th>성별</th>\n",
       "      <th>국어</th>\n",
       "      <th>영어</th>\n",
       "      <th>수학</th>\n",
       "      <th>사회</th>\n",
       "    </tr>\n",
       "  </thead>\n",
       "  <tbody>\n",
       "    <tr>\n",
       "      <th>철수</th>\n",
       "      <td>1</td>\n",
       "      <td>남자</td>\n",
       "      <td>98</td>\n",
       "      <td>77</td>\n",
       "      <td>88</td>\n",
       "      <td>64</td>\n",
       "    </tr>\n",
       "    <tr>\n",
       "      <th>영희</th>\n",
       "      <td>2</td>\n",
       "      <td>여자</td>\n",
       "      <td>99</td>\n",
       "      <td>15</td>\n",
       "      <td>84</td>\n",
       "      <td>35</td>\n",
       "    </tr>\n",
       "    <tr>\n",
       "      <th>민철</th>\n",
       "      <td>3</td>\n",
       "      <td>남자</td>\n",
       "      <td>98</td>\n",
       "      <td>48</td>\n",
       "      <td>15</td>\n",
       "      <td>48</td>\n",
       "    </tr>\n",
       "    <tr>\n",
       "      <th>수현</th>\n",
       "      <td>2</td>\n",
       "      <td>남자</td>\n",
       "      <td>98</td>\n",
       "      <td>48</td>\n",
       "      <td>15</td>\n",
       "      <td>48</td>\n",
       "    </tr>\n",
       "    <tr>\n",
       "      <th>호영</th>\n",
       "      <td>4</td>\n",
       "      <td>여자</td>\n",
       "      <td>88</td>\n",
       "      <td>76</td>\n",
       "      <td>55</td>\n",
       "      <td>98</td>\n",
       "    </tr>\n",
       "  </tbody>\n",
       "</table>\n",
       "</div>"
      ],
      "text/plain": [
       "    햑년  성별  국어  영어  수학  사회\n",
       "철수   1  남자  98  77  88  64\n",
       "영희   2  여자  99  15  84  35\n",
       "민철   3  남자  98  48  15  48\n",
       "수현   2  남자  98  48  15  48\n",
       "호영   4  여자  88  76  55  98"
      ]
     },
     "execution_count": 11,
     "metadata": {},
     "output_type": "execute_result"
    }
   ],
   "source": [
    "grade_data = [ \n",
    "                [1,'남자',98,77,88,64],\n",
    "                [2,'여자',99,15,84,35],\n",
    "                [3,'남자',98,48,15,48],\n",
    "                [2,'남자',98,48,15,48],\n",
    "                [4,'여자',88,76,55,98]\n",
    "                ]\n",
    "df = DataFrame(grade_data)\n",
    "i_names=['철수','영희','민철','수현','호영']\n",
    "\n",
    "c_names=['햑년','성별','국어','영어','수학','사회']\n",
    "df=DataFrame(grade_data,index=i_names,columns=c_names)\n",
    "df"
   ]
  },
  {
   "attachments": {},
   "cell_type": "markdown",
   "metadata": {},
   "source": [
    "#### 2) 리스트를 원소로 갖는 딕셔너리"
   ]
  },
  {
   "cell_type": "code",
   "execution_count": 14,
   "metadata": {},
   "outputs": [
    {
     "name": "stdout",
     "output_type": "stream",
     "text": [
      "    학년  성별  국어  영어  수학  사회\n",
      "철수   1  남자  98  77  88  64\n",
      "영희   2  여자  99  15  84  35\n",
      "민철   3  남자  98  48  15  48\n",
      "수현   2  남자  98  48  15  48\n",
      "호영   4  여자  88  76  55  98\n"
     ]
    }
   ],
   "source": [
    "grade_dic = {\n",
    "                \"학년\" : [1,2,3,2,4],\n",
    "                \"성별\" : [\"남자\",'여자','남자','남자','여자'],\n",
    "                \"국어\": [98,99,98,98,88],\n",
    "                \"영어\": [77,15,48,48,76],\n",
    "                \"수학\": [88,84,15,15,55],\n",
    "                \"사회\": [64,35,48,48,98]\n",
    "}\n",
    "\n",
    "df2 = DataFrame(grade_dic)\n",
    "\n",
    "\n",
    "df2 = DataFrame(grade_dic,index=['철수','영희','민철','수현','호영'])\n",
    "print(df2)"
   ]
  },
  {
   "cell_type": "code",
   "execution_count": null,
   "metadata": {},
   "outputs": [],
   "source": [
    "df = pd.read_csv('웹페이지 주소',encoding='euc-kr',index_col=\"이름\")\n"
   ]
  },
  {
   "cell_type": "code",
   "execution_count": null,
   "metadata": {},
   "outputs": [],
   "source": [
    "df = pd.read_excel(\"주소\",index_col=\"이름\")"
   ]
  }
 ],
 "metadata": {
  "kernelspec": {
   "display_name": "Python 3",
   "language": "python",
   "name": "python3"
  },
  "language_info": {
   "codemirror_mode": {
    "name": "ipython",
    "version": 3
   },
   "file_extension": ".py",
   "mimetype": "text/x-python",
   "name": "python",
   "nbconvert_exporter": "python",
   "pygments_lexer": "ipython3",
   "version": "3.11.3"
  },
  "orig_nbformat": 4
 },
 "nbformat": 4,
 "nbformat_minor": 2
}

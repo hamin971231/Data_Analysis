{
 "cells": [
  {
   "cell_type": "markdown",
   "metadata": {},
   "source": [
    "# 워드클라우드 (한글)\n",
    "\n",
    "## #01. 형태소 분석의 이해\n",
    "\n",
    "### 형태소\n",
    "\n",
    "- 의미가 있는 최소의 단위(minimally meaningful unit)\n",
    "- 문법적, 관계적인 뜻을 나타내는 단어 또는 단어의 부분\n",
    "- 일정한 범위 안에서 쓰이는 낱말의 총체\n",
    "\n",
    "문법적으로 더 이상 나눌 수 없는 언어 요소를 형태소라고 한다.\n",
    "\n",
    "영어의 경우 각 단어로 나누면 되지만 한글의 경우 복잡한 처리 과정을 거쳐야 하기 때문에 별도의 라이브러리를 적용해야 한다. (konlpy, mecab 등)\n",
    "\n",
    "### 형태소 분석 예시\n",
    "\n",
    "#### 형태소 사전에 수록된 어휘를 기준으로 분석\n",
    "\n",
    "```plain\n",
    "사랑하다 = 사랑 + 하 + 다, 사랑하 + 다\n",
    "알뜰하다 = 알뜰 + 하 + 다, 알뜰하 + 다\n",
    "```\n",
    "\n",
    "## #02. KoNLPy(OKT)를 사용한 형태소 분석\n",
    "\n",
    "KoNLPy는 한국어 정보처리를 위한 파이썬 패키지\n",
    "\n",
    "자연어처리(NLP)에서 형태소를 분리(형태소 단위 토크나이징)하는 데이터 전처리가 필요한데 이 때 한국어 데이터 전처리를 할 때 많이 사용하는 패키지\n",
    "\n",
    "JAVA를 기반으로 만들어져 있어서 패키지 설치를 위해서는 JAVA 개발 환경이 구성되어 있어야 한다.\n",
    "\n",
    "### 현재 컴퓨터의 java 환경 구성여부 확인\n",
    "\n",
    "```shell\n",
    "$ javac --version\n",
    "```\n",
    "\n",
    "설치가 필요한 경우 아래와 같이 에러 메시지가 표시된다.\n",
    "\n",
    "```plain\n",
    "'javac'은(는) 내부 또는 외부 명령, 실행할 수 있는 프로그램, 또는\n",
    "배치 파일이 아닙니다.\n",
    "```\n",
    "\n",
    "### OpenJDK 다운로드\n",
    "\n",
    "권장 버전은 `19`\n",
    "\n",
    "[https://jdk.java.net/19/](https://jdk.java.net/19/) 페이지에서 자신의 버전에 맞는 파일을 내려 받는다.\n",
    "\n",
    "다운로드 받은 파일을 적절한 위치에 압축 해제한다.\n",
    "\n",
    "#### 예\n",
    "\n",
    "```\n",
    "C:\\jdk-19.0.2\n",
    "```\n",
    "\n",
    "### 환경변수 설정\n",
    "\n",
    "#### 환경변수 입력 화면 열기\n",
    "\n",
    "1. 폴더창 좌측 트리에서 `내 PC` 마우스 우클릭 하여 `속성` 메뉴 선택\n",
    "2. `설정`화면이 나타나면 오른쪽에서 `고급 시스템 설정` 클릭\n",
    "3. 나타난 화면 하단의 `환경 변수` 버튼 클릭\n",
    "\n",
    "#### `JAVA_HOME` 변수 추가\n",
    "\n",
    "1. `환경 변수`화면 아래쪽의 `시스템 변수`영역에서 `새로 만들기` 버튼 클릭\n",
    "2. 변수 이름에 `JAVA_HOME`\n",
    "3. 변수 값에 JDK의 경로 입력\n",
    "    - 예: `C:\\jdk-19.0.2`\n",
    "4. `확인`을 눌러 입력창 닫기\n",
    "\n",
    "#### `Path` 변수 추가\n",
    "\n",
    "1. `환경 변수`화면 아래쪽의 `시스템 변수`영역에서 `Path` 항목을 찾아 선택하고 `편집`버튼 클릭\n",
    "2. 맨 아래 빈 행을 더블클릭 하여 입력 상태로 만들고 JDK 설치 폴더 내의 `bin` 디렉토리까지의 경로를 입력\n",
    "    - 예: `C:\\jdk-19.0.2\\bin`\n",
    "3. `확인`을 눌러 모든 창 닫기\n",
    "\n",
    "명령 프롬프트, 폴더창, VSCode 등 모든 프로그램을 닫은 후 명령 프롬프트에서 `javac --version` 명령으로 설정이 잘 되었는지 확인\n",
    "\n",
    "### 형태소 분석 설치\n",
    "\n",
    "`konlpy` 패키지 설치가 필요하다.\n",
    "\n",
    "### 형태소 분석 테스트\n",
    "\n",
    "#### 패키지 참조"
   ]
  },
  {
   "cell_type": "code",
   "execution_count": 35,
   "metadata": {},
   "outputs": [],
   "source": [
    "from IPython.display import Image, display\n",
    "from konlpy.tag import Okt\n",
    "import sys\n",
    "import os\n",
    "\n",
    "# 파이썬 내장 클래스 --> 설치 불필요\n",
    "from collections import Counter\n",
    "\n",
    "if sys.platform == \"win32\" or (sys.platform == \"darwin\" and sys.version_info.minor < 11):\n",
    "    # mac의 경우 python 3.11이상 버전에서는 사용 불가능\n",
    "    from wordcloud import WordCloud\n",
    "\n",
    "# 직접 구현한 모듈 참조\n",
    "# 소스파일의 위치에 따라 `os.path.dirname` 사용 횟수 조절 필요\n",
    "sys.path.append(os.path.dirname(os.path.dirname(os.getcwd())))\n",
    "from helper import clearStopwords"
   ]
  },
  {
   "cell_type": "markdown",
   "metadata": {},
   "source": [
    "#### 형태소 분석 객체 생성"
   ]
  },
  {
   "cell_type": "code",
   "execution_count": 36,
   "metadata": {},
   "outputs": [],
   "source": [
    "nlp = Okt()"
   ]
  },
  {
   "cell_type": "code",
   "execution_count": 37,
   "metadata": {},
   "outputs": [
    {
     "name": "stdout",
     "output_type": "stream",
     "text": [
      "['개봉', '때', '지금', '마음', '때', '이영화', '그때', '심', '위로', '영화', '장면', '하나', '하나', '마음', '남아', '여운', '영화']\n"
     ]
    }
   ],
   "source": [
    "sample = \"개봉했을때부터 지금까지 마음이답답하거나 힘들때 이영화 보고있어요 그때마다 심적인 위로를 받을수있는영화같아요 장면 하나하나가 너무예쁘고 마음에 남아서 진한 여운까지 주는영화 감사합니다. 알잘딱깔센\"\n",
    "\n",
    "# 명사들만 추출 -> 리스트형식으로 반환\n",
    "nouns = nlp.nouns(sample)\n",
    "print(nouns)"
   ]
  },
  {
   "cell_type": "markdown",
   "metadata": {},
   "source": [
    "#### 사전 구축 하기\n",
    "\n",
    "##### konlpy의 설치 경로 확인"
   ]
  },
  {
   "cell_type": "code",
   "execution_count": 38,
   "metadata": {},
   "outputs": [
    {
     "data": {
      "text/plain": [
       "['/Users/leekh/konlpy_data',\n",
       " '/usr/share/konlpy_data',\n",
       " '/usr/local/share/konlpy_data',\n",
       " '/usr/lib/konlpy_data',\n",
       " '/usr/local/lib/konlpy_data',\n",
       " '/opt/homebrew/lib/python3.11/site-packages/konlpy/data']"
      ]
     },
     "execution_count": 38,
     "metadata": {},
     "output_type": "execute_result"
    }
   ],
   "source": [
    "import konlpy\n",
    "konlpy.data.path"
   ]
  },
  {
   "cell_type": "markdown",
   "metadata": {},
   "source": [
    "출력되는 마지막 경로의 상위 폴더가 `konlpy`의 설치 위치로 확인됨\n",
    "\n",
    "> 컴퓨터마다 다를 수 있음\n",
    "\n",
    "`konlpy`의 설치 위치 하위의 `java` 라는 이름의 폴더에서 `open-korean-text-2.1.0.jar` 파일의 압축을 해제\n",
    "\n",
    "압축을 해제한 폴더 안에서 `names.txt` 파일을 찾는다.\n",
    "\n",
    "```\n",
    ".\\open-korean-text-2.1.0\\org\\openkoreantext\\processor\\util\\noun\n",
    "```\n",
    "\n",
    "`txt` 파일이 위치하는 폴더 안에 임의의 텍스트 파일을 영문이름, 공백금지, UTF-8 형태로 생성하고 그 안에 새로운 단어들을 줄바꿈으로 구분하여 나열한다.\n",
    "\n",
    "`open-korean-text-2.1.0` 폴더 위치에서 명령 프롬프트를 열고 아래의 명령으로 jar 압축을 수행\n",
    "\n",
    "```java\n",
    "$ jar cvf open-korean-text-2.1.0.jar .\n",
    "```\n",
    "\n",
    "> 마지막에 현재 폴더를 의미하는 `.` 주의\n",
    "\n",
    "생성된 jar 파일을 기존의 파일과 교체한다. (VSCode 종료 후 파일 교체 해야 함)"
   ]
  },
  {
   "cell_type": "markdown",
   "metadata": {},
   "source": [
    "## #03. 대한민국 헌법 형태소 분석\n",
    "\n",
    "### 패키지 참조\n",
    "\n",
    "`kolnpy`는 앞에서 이미 참조했으므로 생략"
   ]
  },
  {
   "cell_type": "markdown",
   "metadata": {},
   "source": [
    "### 분석할 데이터 가져오기"
   ]
  },
  {
   "cell_type": "code",
   "execution_count": 39,
   "metadata": {},
   "outputs": [],
   "source": [
    "with open(\"wordcloud/대한민국헌법.txt\", 'r', encoding=\"utf-8\") as f:\n",
    "    text = f.read()\n",
    "    #print(text)"
   ]
  },
  {
   "cell_type": "markdown",
   "metadata": {},
   "source": [
    "### 데이터에 대한 형태소 분석"
   ]
  },
  {
   "cell_type": "code",
   "execution_count": 40,
   "metadata": {},
   "outputs": [],
   "source": [
    "# 형태소 분석 클래스의 객체 생성\n",
    "nlp = Okt()\n",
    "\n",
    "# 명사들만 추출 -> 리스트형식으로 반환\n",
    "nouns = nlp.nouns(text)\n",
    "#print(nouns)"
   ]
  },
  {
   "cell_type": "markdown",
   "metadata": {},
   "source": [
    "### 불용어 제거하기 (직접구현)\n",
    "\n",
    "#### 불용어 목록 가져오기"
   ]
  },
  {
   "cell_type": "code",
   "execution_count": 41,
   "metadata": {},
   "outputs": [],
   "source": [
    "with open('wordcloud/stopwords-ko.txt', 'r', encoding='utf-8') as f:\n",
    "    stopwords = f.readlines()\n",
    "    \n",
    "    for i, v in enumerate(stopwords):\n",
    "        stopwords[i] = v.strip()\n",
    "\n",
    "    #print(stopwords)"
   ]
  },
  {
   "cell_type": "markdown",
   "metadata": {},
   "source": [
    "#### 추출된 명사에서 불용어를 제거함"
   ]
  },
  {
   "cell_type": "code",
   "execution_count": 42,
   "metadata": {},
   "outputs": [],
   "source": [
    "data_set = []\n",
    "\n",
    "for v in nouns:\n",
    "    if v not in stopwords:\n",
    "        data_set.append(v)\n",
    "\n",
    "#print(data_set)"
   ]
  },
  {
   "cell_type": "markdown",
   "metadata": {},
   "source": [
    "### helper.py에 모듈화 한 기능 테스트"
   ]
  },
  {
   "cell_type": "code",
   "execution_count": 43,
   "metadata": {},
   "outputs": [],
   "source": [
    "data_set = clearStopwords(nouns)\n",
    "#data_set"
   ]
  },
  {
   "cell_type": "markdown",
   "metadata": {},
   "source": [
    "### 리스트로부터 빈도수 측정"
   ]
  },
  {
   "cell_type": "code",
   "execution_count": 44,
   "metadata": {},
   "outputs": [],
   "source": [
    "count = Counter(data_set)\n",
    "#count"
   ]
  },
  {
   "cell_type": "markdown",
   "metadata": {},
   "source": [
    "## #04. 단어 빈도수 시각화\n",
    "\n",
    "Mac의 경우 python 3.11 미만 버전에서만 사용 가능하다."
   ]
  },
  {
   "cell_type": "code",
   "execution_count": 45,
   "metadata": {},
   "outputs": [
    {
     "ename": "Exception",
     "evalue": "지원되지 않는 환경입니다.",
     "output_type": "error",
     "traceback": [
      "\u001b[0;31m---------------------------------------------------------------------------\u001b[0m",
      "\u001b[0;31mException\u001b[0m                                 Traceback (most recent call last)",
      "Cell \u001b[0;32mIn[45], line 11\u001b[0m\n\u001b[1;32m      9\u001b[0m     display(Image(filename\u001b[39m=\u001b[39m\u001b[39m'\u001b[39m\u001b[39m대한민국헌법-주요단어.png\u001b[39m\u001b[39m'\u001b[39m))\n\u001b[1;32m     10\u001b[0m \u001b[39melse\u001b[39;00m:\n\u001b[0;32m---> 11\u001b[0m     \u001b[39mraise\u001b[39;00m \u001b[39mException\u001b[39;00m(\u001b[39m\"\u001b[39m\u001b[39m지원되지 않는 환경입니다.\u001b[39m\u001b[39m\"\u001b[39m)\n",
      "\u001b[0;31mException\u001b[0m: 지원되지 않는 환경입니다."
     ]
    }
   ],
   "source": [
    "# 윈도우이거나 Mac이면서 python 버전이 3.11 미만인 경우만 수행\n",
    "if sys.platform == \"win32\" or (sys.platform == \"darwin\" and sys.version_info.minor < 11):\n",
    "    # 워드 클라우드 객체 생성 -> 한글은 폰트파일의 경로를 지정해야 함\n",
    "    wc = WordCloud(font_path=\"./wordcloud/batang.ttc\", width=1200, height=800, scale=2.0)\n",
    "\n",
    "    # 직접 생성한 빈도수를 이용해서 워드 클라우드를 그린다.\n",
    "    wc = wc.generate_from_frequencies(count)\n",
    "    wc.to_file(\"대한민국헌법-주요단어.png\")\n",
    "    display(Image(filename='대한민국헌법-주요단어.png'))\n",
    "else:\n",
    "    raise Exception(\"지원되지 않는 환경입니다.\")"
   ]
  }
 ],
 "metadata": {
  "kernelspec": {
   "display_name": "Python 3",
   "language": "python",
   "name": "python3"
  },
  "language_info": {
   "codemirror_mode": {
    "name": "ipython",
    "version": 3
   },
   "file_extension": ".py",
   "mimetype": "text/x-python",
   "name": "python",
   "nbconvert_exporter": "python",
   "pygments_lexer": "ipython3",
   "version": "3.11.4"
  },
  "orig_nbformat": 4
 },
 "nbformat": 4,
 "nbformat_minor": 2
}

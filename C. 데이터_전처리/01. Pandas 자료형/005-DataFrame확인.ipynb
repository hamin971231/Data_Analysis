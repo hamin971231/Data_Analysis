{
 "cells": [
  {
   "attachments": {},
   "cell_type": "markdown",
   "metadata": {},
   "source": [
    "# DataFrame 확인하기\n",
    "### #01. 패키지 참조\n",
    "\n"
   ]
  },
  {
   "cell_type": "code",
   "execution_count": 1,
   "metadata": {},
   "outputs": [],
   "source": [
    "from pandas import read_excel, DataFrame"
   ]
  },
  {
   "attachments": {},
   "cell_type": "markdown",
   "metadata": {},
   "source": [
    "### #02. 데이터준비\n"
   ]
  },
  {
   "cell_type": "code",
   "execution_count": 4,
   "metadata": {},
   "outputs": [
    {
     "data": {
      "text/html": [
       "<div>\n",
       "<style scoped>\n",
       "    .dataframe tbody tr th:only-of-type {\n",
       "        vertical-align: middle;\n",
       "    }\n",
       "\n",
       "    .dataframe tbody tr th {\n",
       "        vertical-align: top;\n",
       "    }\n",
       "\n",
       "    .dataframe thead th {\n",
       "        text-align: right;\n",
       "    }\n",
       "</style>\n",
       "<table border=\"1\" class=\"dataframe\">\n",
       "  <thead>\n",
       "    <tr style=\"text-align: right;\">\n",
       "      <th></th>\n",
       "      <th>학년</th>\n",
       "      <th>성별</th>\n",
       "      <th>국어</th>\n",
       "      <th>영어</th>\n",
       "      <th>수학</th>\n",
       "      <th>과학</th>\n",
       "    </tr>\n",
       "    <tr>\n",
       "      <th>이름</th>\n",
       "      <th></th>\n",
       "      <th></th>\n",
       "      <th></th>\n",
       "      <th></th>\n",
       "      <th></th>\n",
       "      <th></th>\n",
       "    </tr>\n",
       "  </thead>\n",
       "  <tbody>\n",
       "    <tr>\n",
       "      <th>철수</th>\n",
       "      <td>1</td>\n",
       "      <td>남자</td>\n",
       "      <td>98</td>\n",
       "      <td>77</td>\n",
       "      <td>88</td>\n",
       "      <td>64</td>\n",
       "    </tr>\n",
       "    <tr>\n",
       "      <th>영희</th>\n",
       "      <td>2</td>\n",
       "      <td>여자</td>\n",
       "      <td>88</td>\n",
       "      <td>90</td>\n",
       "      <td>62</td>\n",
       "      <td>72</td>\n",
       "    </tr>\n",
       "    <tr>\n",
       "      <th>민철</th>\n",
       "      <td>1</td>\n",
       "      <td>남자</td>\n",
       "      <td>92</td>\n",
       "      <td>70</td>\n",
       "      <td>83</td>\n",
       "      <td>79</td>\n",
       "    </tr>\n",
       "    <tr>\n",
       "      <th>수현</th>\n",
       "      <td>3</td>\n",
       "      <td>여자</td>\n",
       "      <td>63</td>\n",
       "      <td>60</td>\n",
       "      <td>31</td>\n",
       "      <td>70</td>\n",
       "    </tr>\n",
       "    <tr>\n",
       "      <th>호영</th>\n",
       "      <td>4</td>\n",
       "      <td>남자</td>\n",
       "      <td>75</td>\n",
       "      <td>50</td>\n",
       "      <td>90</td>\n",
       "      <td>88</td>\n",
       "    </tr>\n",
       "  </tbody>\n",
       "</table>\n",
       "</div>"
      ],
      "text/plain": [
       "    학년  성별  국어  영어  수학  과학\n",
       "이름                        \n",
       "철수   1  남자  98  77  88  64\n",
       "영희   2  여자  88  90  62  72\n",
       "민철   1  남자  92  70  83  79\n",
       "수현   3  여자  63  60  31  70\n",
       "호영   4  남자  75  50  90  88"
      ]
     },
     "execution_count": 4,
     "metadata": {},
     "output_type": "execute_result"
    }
   ],
   "source": [
    "df = read_excel('https://data.hossam.kr/grade.xlsx',index_col='이름')\n",
    "df"
   ]
  },
  {
   "attachments": {},
   "cell_type": "markdown",
   "metadata": {},
   "source": [
    "### #03. 데이터확인"
   ]
  },
  {
   "attachments": {},
   "cell_type": "markdown",
   "metadata": {},
   "source": [
    "#### 1) 데이터 구조 확인"
   ]
  },
  {
   "cell_type": "code",
   "execution_count": 11,
   "metadata": {},
   "outputs": [
    {
     "name": "stdout",
     "output_type": "stream",
     "text": [
      "데이터 차원 :  2\n",
      "데이터 행&열 :  (5, 6)\n",
      "학년     int64\n",
      "성별    object\n",
      "국어     int64\n",
      "영어     int64\n",
      "수학     int64\n",
      "과학     int64\n",
      "dtype: object\n"
     ]
    }
   ],
   "source": [
    "## 데이터 차원 확인\n",
    "print(\"데이터 차원 : \",df.ndim)\n",
    "\n",
    "## 데이터 행,열 확인\n",
    "print(\"데이터 행&열 : \", df.shape)\n",
    "\n",
    "## 각 변수의 데이터 타입 확인\n",
    "print( df.dtypes)\n",
    "\n",
    "\n"
   ]
  },
  {
   "attachments": {},
   "cell_type": "markdown",
   "metadata": {},
   "source": [
    "#### 2) 데이터 내용 확인"
   ]
  },
  {
   "cell_type": "code",
   "execution_count": 26,
   "metadata": {},
   "outputs": [
    {
     "name": "stdout",
     "output_type": "stream",
     "text": [
      "열조회\n",
      " 이름\n",
      "철수    100\n",
      "영희     88\n",
      "민철     92\n",
      "수현     63\n",
      "호영     75\n",
      "Name: 국어, dtype: int64\n",
      "----------------------------------------------\n",
      "행조회\n",
      " 학년      1\n",
      "성별     남자\n",
      "국어    100\n",
      "영어     77\n",
      "수학     88\n",
      "과학     64\n",
      "Name: 철수, dtype: object\n",
      "----------------------------------------------\n",
      "행에 대한 데이터 타입 \n",
      " <class 'pandas.core.series.Series'>\n",
      "----------------------------------------------\n",
      "값 확인하기\n",
      " 100\n",
      "----------------------------------------------\n",
      "값 확인하기 (행-> 열순서)\n",
      " 100\n",
      "----------------------------------------------\n",
      "값 변경하기 (행-> 열순서만 가능)\n",
      " 100\n",
      "----------------------------------------------\n",
      "상위 n건확인 \n",
      "     학년  성별   국어  영어  수학  과학\n",
      "이름                         \n",
      "철수   1  남자  100  77  88  64\n",
      "영희   2  여자   88  90  62  72\n",
      "하위 n건확인 \n",
      "     학년  성별  국어  영어  수학  과학\n",
      "이름                        \n",
      "수현   3  여자  63  60  31  70\n",
      "호영   4  남자  75  50  90  88\n"
     ]
    }
   ],
   "source": [
    "## 열조회\n",
    "\n",
    "print(\"열조회\\n\", df['국어'])\n",
    "print('----------------------------------------------')\n",
    "## 데이터의 행 조회\n",
    "print(\"행조회\\n\", df.loc[\"철수\"])\n",
    "print('----------------------------------------------')\n",
    "## 행에 대한 데이터 타입 확인\n",
    "\n",
    "print(\"행에 대한 데이터 타입 \\n\", type(df.loc['철수']))\n",
    "print('----------------------------------------------')\n",
    "## 값 확인하기\n",
    "print(\"값 확인하기\\n\", df['국어'][\"철수\"])\n",
    "print('----------------------------------------------')\n",
    "\n",
    "## 값 확인하기 (행 -> 열순서)\n",
    "print(\"값 확인하기 (행-> 열순서)\\n\", df.loc[\"철수\",'국어'])\n",
    "print('----------------------------------------------')\n",
    "\n",
    "\n",
    "\n"
   ]
  },
  {
   "cell_type": "code",
   "execution_count": 31,
   "metadata": {},
   "outputs": [
    {
     "name": "stdout",
     "output_type": "stream",
     "text": [
      "값 변경하기 (행-> 열순서만 가능)\n",
      " 100\n",
      "----------------------------------------------\n",
      "상위 n건확인 \n",
      "     학년  성별   국어  영어  수학  과학\n",
      "이름                         \n",
      "철수   1  남자  100  77  88  64\n",
      "영희   2  여자   88  90  62  72\n",
      "----------------------------------------------\n",
      "하위 n건확인 \n",
      "     학년  성별  국어  영어  수학  과학\n",
      "이름                        \n",
      "수현   3  여자  63  60  31  70\n",
      "호영   4  남자  75  50  90  88\n",
      "----------------------------------------------\n",
      "특정 열에 대한 데이터 빈도 수 확인 \n",
      " 성별\n",
      "남자    3\n",
      "여자    2\n",
      "Name: count, dtype: int64\n",
      "----------------------------------------------\n"
     ]
    }
   ],
   "source": [
    "## 값의 변경 : 행-> 열 순으로 접근하는 경우에만 가능함 \n",
    "df.loc['철수','국어'] = 100\n",
    "print(\"값 변경하기 (행-> 열순서만 가능)\\n\", df.loc[\"철수\",'국어'])\n",
    "print('----------------------------------------------')\n",
    "\n",
    "## 상위 n 건 확인\n",
    "print(\"상위 n건확인 \\n\", df.head(2))\n",
    "print('----------------------------------------------')\n",
    "\n",
    "\n",
    "## 하위 n 건 확인\n",
    "print(\"하위 n건확인 \\n\", df.tail(2))\n",
    "print('----------------------------------------------')\n",
    "\n",
    "\n",
    "## 특정 열데 대한 데이터 빈도 수 확인\n",
    "print(\"특정 열에 대한 데이터 빈도 수 확인 \\n\",df['성별'].value_counts())\n",
    "print('----------------------------------------------')\n",
    "\n"
   ]
  },
  {
   "attachments": {},
   "cell_type": "markdown",
   "metadata": {},
   "source": [
    "* 메모\n",
    "\n",
    "1) 대상 컴퓨터의 ip주소를 알면 원격접속이 가능\n",
    "2) 윈도우의 도커를 설치한 경우 윈도우에 접속한 포트를 도커의 포트로 포워딩함.\n",
    "    \n",
    "    -> 3406->3306\n",
    "\n",
    "3) 윈도우에서 해당 포트를 열면(방화벽 해제) 외부에서 내 도커안에 접속가능.\n",
    "4) ip확인 방법 : win : ipconfig\n",
    "\n"
   ]
  },
  {
   "cell_type": "code",
   "execution_count": null,
   "metadata": {},
   "outputs": [],
   "source": []
  }
 ],
 "metadata": {
  "kernelspec": {
   "display_name": "Python 3",
   "language": "python",
   "name": "python3"
  },
  "language_info": {
   "codemirror_mode": {
    "name": "ipython",
    "version": 3
   },
   "file_extension": ".py",
   "mimetype": "text/x-python",
   "name": "python",
   "nbconvert_exporter": "python",
   "pygments_lexer": "ipython3",
   "version": "3.11.3"
  },
  "orig_nbformat": 4
 },
 "nbformat": 4,
 "nbformat_minor": 2
}

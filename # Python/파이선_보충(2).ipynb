{
 "cells": [
  {
   "attachments": {},
   "cell_type": "markdown",
   "metadata": {},
   "source": [
    "# 파이선 보충 Take 2\n"
   ]
  },
  {
   "attachments": {},
   "cell_type": "markdown",
   "metadata": {},
   "source": [
    "#### 1) 개발환경 구성\n",
    "\n",
    "#### 2) 변수와 연산자\n",
    "\n",
    "#### 3) 자료구조 \n",
    "        - 리스트\n",
    "        - 딕셔너리\n",
    "\n",
    "#### 4) 흐름제어 \n",
    "        - 조건문\n",
    "        - 반복문\n",
    "#### 5) 함수\n",
    "\n",
    "#### 6) 클래스 \n",
    "\n"
   ]
  },
  {
   "attachments": {},
   "cell_type": "markdown",
   "metadata": {},
   "source": [
    "### 01. 파일 및 폴더 관련 모음"
   ]
  },
  {
   "cell_type": "code",
   "execution_count": 2,
   "metadata": {},
   "outputs": [],
   "source": [
    "# 모듈 참조 \n",
    "\n",
    "import sys\n",
    "import os "
   ]
  },
  {
   "attachments": {},
   "cell_type": "markdown",
   "metadata": {},
   "source": [
    "### 현재 운영체제 이름조회"
   ]
  },
  {
   "cell_type": "code",
   "execution_count": 3,
   "metadata": {},
   "outputs": [
    {
     "name": "stdout",
     "output_type": "stream",
     "text": [
      "win32\n"
     ]
    }
   ],
   "source": [
    "print(sys.platform)"
   ]
  },
  {
   "attachments": {},
   "cell_type": "markdown",
   "metadata": {},
   "source": [
    "### 경로 문자열 관련 기능 "
   ]
  },
  {
   "cell_type": "code",
   "execution_count": 4,
   "metadata": {},
   "outputs": [
    {
     "name": "stdout",
     "output_type": "stream",
     "text": [
      "['Python_연구과제.pdf', 'Python_연구과제_풀이(2).ipynb.pdf', 'Python_연구과제_풀이.ipynb.pdf', 'Python보충-take01.ipynb.pdf', '파이선_보충.ipynb', '파이선_보충_file.ipynb', '파이선_연구과제_문제.ipynb']\n"
     ]
    }
   ],
   "source": [
    "# 현재 폴더 내의 하위 항목들의 이름을 리스트로 리턴받음\n",
    "\n",
    "## \"./\"은 현재폴더,  \"../\" 상위폴더\n",
    "\n",
    "ls=os.listdir('.')\n",
    "print(ls)"
   ]
  },
  {
   "cell_type": "code",
   "execution_count": 11,
   "metadata": {},
   "outputs": [
    {
     "name": "stdout",
     "output_type": "stream",
     "text": [
      "False\n"
     ]
    }
   ],
   "source": [
    "## 특정 폴더나 파일이 존재하는지 확인 -> 상대경로일 경우 현재 파일 기준\n",
    "\n",
    "ex = os.path.exists('./hello')\n",
    "print(ex)"
   ]
  },
  {
   "cell_type": "code",
   "execution_count": 13,
   "metadata": {},
   "outputs": [
    {
     "name": "stdout",
     "output_type": "stream",
     "text": [
      "c:\\Users\\hamin\\조해민\\Data_Analysis\\# Python\\hello\n"
     ]
    }
   ],
   "source": [
    "## 특정 폴더나 파일의 절대경로 확인 -> 존재하지 않아도 경로값을 확인 가능 \n",
    "\n",
    "print(os.path.abspath('./hello'))"
   ]
  },
  {
   "attachments": {},
   "cell_type": "markdown",
   "metadata": {},
   "source": [
    "### 폴더의 생성과 삭제"
   ]
  },
  {
   "cell_type": "code",
   "execution_count": 7,
   "metadata": {},
   "outputs": [
    {
     "name": "stdout",
     "output_type": "stream",
     "text": [
      "삭제완료\n"
     ]
    }
   ],
   "source": [
    "if os.path.exists('./hello') ==False :\n",
    "    os.mkdir('./hello')\n",
    "    print(\"생성완료\")\n",
    "else :\n",
    "    os.rmdir('./hello')\n",
    "    print('삭제완료')"
   ]
  },
  {
   "attachments": {},
   "cell_type": "markdown",
   "metadata": {},
   "source": [
    "### 파일이나 폴더검색\n"
   ]
  },
  {
   "cell_type": "code",
   "execution_count": 15,
   "metadata": {},
   "outputs": [
    {
     "name": "stdout",
     "output_type": "stream",
     "text": [
      "['Python_연구과제.pdf', 'Python_연구과제_풀이(2).ipynb.pdf', 'Python_연구과제_풀이.ipynb.pdf', 'Python보충-take01.ipynb.pdf', '파이선_보충.ipynb', '파이선_보충_file.ipynb', '파이선_연구과제_문제.ipynb']\n"
     ]
    }
   ],
   "source": [
    "import glob as gl\n",
    "\n",
    "## 현재 폴더의 모든 하위요소 조회\n",
    "ls = gl.glob(\"*\")\n",
    "print(ls)"
   ]
  },
  {
   "cell_type": "code",
   "execution_count": 10,
   "metadata": {},
   "outputs": [
    {
     "name": "stdout",
     "output_type": "stream",
     "text": [
      "['파이선_보충.ipynb', '파이선_보충_file.ipynb', '파이선_연구과제_문제.ipynb']\n"
     ]
    }
   ],
   "source": [
    "## 현재 폴더의 .ipynb로 끝나는 모든 파일 검색\n",
    "\n",
    "ls = gl.glob('*.ipynb')\n",
    "print(ls)"
   ]
  },
  {
   "cell_type": "code",
   "execution_count": 16,
   "metadata": {},
   "outputs": [
    {
     "name": "stdout",
     "output_type": "stream",
     "text": [
      "['Python_연구과제_풀이(2).ipynb.pdf']\n"
     ]
    }
   ],
   "source": [
    "## 현재 폴더에서 2를 포함한 파일 조회 \n",
    "ls = gl.glob(\"*2*\")\n",
    "print(ls)"
   ]
  },
  {
   "attachments": {},
   "cell_type": "markdown",
   "metadata": {},
   "source": [
    "### 폴더 트리 생성 및 삭제 "
   ]
  },
  {
   "cell_type": "code",
   "execution_count": 24,
   "metadata": {},
   "outputs": [
    {
     "name": "stdout",
     "output_type": "stream",
     "text": [
      "파이선 폴더 생성과 하위 폴더들 생성 완료\n"
     ]
    }
   ],
   "source": [
    "import shutil # 파일, 폴더 관련 작업에 확장된 기능을 제공\n",
    "\n",
    "# 현재 작업 위치에서 \"python\" 이라는 폴더가 없다면\n",
    "\n",
    "if os.path.exists(\"python\") == False :\n",
    "    # 순환적으로 폴더를 생성함 - > exist_ok = True 옵션은 이미 존재하더라도 에러 발생 안함\n",
    "    os.makedirs(\"python/test/hello/world\", exist_ok=True)\n",
    "    print(\"파이선 폴더 생성과 하위 폴더들 생성 완료\")\n",
    "else :\n",
    "    # 비어있지 않은 폴더도 강제 삭제 -> 존재하지 않는 폴더인 경우 에러\n",
    "    shutil.rmtree(\"python\")\n",
    "    print(\"파이선 폴더 삭제 완료\")"
   ]
  },
  {
   "attachments": {},
   "cell_type": "markdown",
   "metadata": {},
   "source": [
    "### 폴더의 이동과 폴더 트리 복사"
   ]
  },
  {
   "cell_type": "code",
   "execution_count": 25,
   "metadata": {},
   "outputs": [
    {
     "name": "stdout",
     "output_type": "stream",
     "text": [
      "파이선 폴더가 created폴더로 이동되었습니다.\n"
     ]
    }
   ],
   "source": [
    "# 폴더의 이동\n",
    "if os.path.exists(\"python\") :\n",
    "    shutil.move(\"python\",'../created')\n",
    "    print('파이선 폴더가 created폴더로 이동되었습니다.')\n"
   ]
  },
  {
   "cell_type": "code",
   "execution_count": 26,
   "metadata": {},
   "outputs": [
    {
     "name": "stdout",
     "output_type": "stream",
     "text": [
      "파이선 폴더가 copy로 복사되었습니다.\n"
     ]
    }
   ],
   "source": [
    "# 폴더의 복사 \n",
    "\n",
    "if os.path.exists(\"../created/\"):\n",
    "    shutil.copytree(\"../created/\",'./copy')\n",
    "    print('파이선 폴더가 copy로 복사되었습니다.')\n"
   ]
  },
  {
   "cell_type": "code",
   "execution_count": 28,
   "metadata": {},
   "outputs": [
    {
     "name": "stdout",
     "output_type": "stream",
     "text": [
      "hello.txt삭제완료\n",
      "world.txt삭제완료\n"
     ]
    }
   ],
   "source": [
    "# 파일의 복사 및 삭제 작업\n",
    "\n",
    "## os 모듈 내의 path 객체가 갖는 exists()함수 사용\n",
    "## -> \"hello.txt\" 라는 파일이 존재하지 않는다면 ??\n",
    "\n",
    "if os.path.exists(\"hello.txt\") == False :\n",
    "    ## 테스트용 파일 생성\n",
    "    with open(\"hello.txt\",\"w\",encoding='utf-8') as f :\n",
    "        f.write(\"Life is too short, you need python\")\n",
    "        print(\"hello.txt 파일 생성 완료 \")\n",
    "    ## 생성한 파일을 복사함. 이미 존재하면 덮어씀 \n",
    "    shutil.copy(\"hello.txt\",\"world.txt\")\n",
    "    print(\"hello.txt 가 world.txt로 복사되었습니다.\")\n",
    "else : \n",
    "    os.remove(\"hello.txt\")\n",
    "    print(\"hello.txt삭제완료\")\n",
    "    os.remove(\"world.txt\")\n",
    "    print(\"world.txt삭제완료\")"
   ]
  },
  {
   "cell_type": "code",
   "execution_count": null,
   "metadata": {},
   "outputs": [],
   "source": []
  }
 ],
 "metadata": {
  "kernelspec": {
   "display_name": "Python 3",
   "language": "python",
   "name": "python3"
  },
  "language_info": {
   "codemirror_mode": {
    "name": "ipython",
    "version": 3
   },
   "file_extension": ".py",
   "mimetype": "text/x-python",
   "name": "python",
   "nbconvert_exporter": "python",
   "pygments_lexer": "ipython3",
   "version": "3.11.3"
  },
  "orig_nbformat": 4
 },
 "nbformat": 4,
 "nbformat_minor": 2
}

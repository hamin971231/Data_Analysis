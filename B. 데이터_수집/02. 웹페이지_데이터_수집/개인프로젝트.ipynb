{
 "cells": [
  {
   "attachments": {},
   "cell_type": "markdown",
   "metadata": {},
   "source": [
    "# 개인프로젝트\n",
    "###  #01.프로젝트 개요"
   ]
  },
  {
   "attachments": {},
   "cell_type": "markdown",
   "metadata": {},
   "source": [
    "## 관심사\n",
    "- 관심있는 브랜드의 남성 스포츠 용품에 대한 정보 수집 : 미즈노, 아디다스 \n",
    "\n",
    "\n",
    "        미즈노 남성 스포츠용품 웹페이지 url : https://kor.mizuno.com/kr-kr/044/?start=0&sz=12\n",
    "\n",
    "        아디다스 남성 스포츠 용품 웹페이지 url : https://www.adidas.co.kr/men-performance?start=0\n",
    "\n",
    "\n",
    "- 미즈노 크롤링 하나 데이터프레임+ 아디다스 크롤링 데이터 프레임 하나로  합치기 \n"
   ]
  },
  {
   "cell_type": "code",
   "execution_count": 13,
   "metadata": {},
   "outputs": [],
   "source": [
    "# 필요한 모듈 참조\n",
    "import requests\n",
    "from bs4 import BeautifulSoup\n",
    "from pandas import DataFrame\n",
    "import chromedriver_autoinstaller\n",
    "from selenium import webdriver\n",
    "from selenium.webdriver.support.ui import WebDriverWait\n",
    "import time\n"
   ]
  },
  {
   "cell_type": "code",
   "execution_count": null,
   "metadata": {},
   "outputs": [],
   "source": []
  },
  {
   "attachments": {},
   "cell_type": "markdown",
   "metadata": {},
   "source": [
    "#### #02.웹 페이지 코드 수집 - 미즈노부터 ㄱㄱ \n"
   ]
  },
  {
   "attachments": {},
   "cell_type": "markdown",
   "metadata": {},
   "source": [
    "미즈노는 각 페이지 별로 상품 수집해서 그 전에는 이미지링크 + 상품 상세보기 링크 + 상품이름 -> 링크를 타고 들어가자 \n",
    "그다음에 정가, 할인가 + 리뷰 수 "
   ]
  },
  {
   "cell_type": "code",
   "execution_count": 14,
   "metadata": {},
   "outputs": [],
   "source": [
    "userAgent = \"Mozilla/5.0 (Windows NT 10.0; Win64; x64) AppleWebKit/537.36 (KHTML, like Gecko) Chrome/114.0.0.0 Safari/537.36\"\n",
    "\n",
    "## 접속객체 생성\n",
    "session=requests.Session()\n",
    "\n",
    "# 접속객체에 header정보 삽입\n",
    "session.headers.update({\n",
    "    \"Referer\": \"\",\n",
    "    \"User-Agent\": userAgent,\n",
    "\n",
    "})\n",
    "\n"
   ]
  },
  {
   "cell_type": "code",
   "execution_count": 15,
   "metadata": {},
   "outputs": [
    {
     "name": "stdout",
     "output_type": "stream",
     "text": [
      "[0, 12, 24, 36, 48, 60, 72, 84, 96, 108, 120, 132, 144, 156, 168, 180, 192, 204, 216, 228, 240, 252, 264, 276, 288, 300, 312, 324, 336, 348, 360, 372, 384, 396, 408, 420]\n"
     ]
    }
   ],
   "source": [
    "\n",
    "## https://kor.mizuno.com/kr-kr/044/\n",
    "## https://kor.mizuno.com/kr-kr/044/?start=0&sz=12\n",
    "\n",
    "## 페이지마다 url ㄱ밧이 12씩 늘어남\n",
    "mizuno_num =[]\n",
    "for i in range(0,36) :\n",
    "    mizuno_num.append(i*12)\n",
    "print(mizuno_num)\n",
    "\n"
   ]
  },
  {
   "attachments": {},
   "cell_type": "markdown",
   "metadata": {},
   "source": [
    "#### #03. 응답결과로부터 내용 추출하기"
   ]
  },
  {
   "cell_type": "code",
   "execution_count": 26,
   "metadata": {},
   "outputs": [],
   "source": [
    "## 수집할 정보를 저장할 전체  list\n",
    "## for 문이랑 url 리스트 돌리는 거 일단 나중에 ㄱㄱ\n",
    "\n",
    "## 미즈노 빈 list\n",
    "mizuno_result =[]\n",
    "# ## 페이지 수 만큼 반복 \n",
    "# ## 수집할 컨텐츠가 있는 웹페이지의 주소 \n",
    "# url = \"https://kor.mizuno.com/kr-kr/044/?start=0&sz=12\" \n",
    "    \n",
    "# ## 생성한 접속 객체를 활용해서 접속\n",
    "# r = session.get(url)\n",
    "\n",
    "# ## 에러 발생시 예외처리\n",
    "# if r.status_code!=200 :\n",
    "#     msg = \"[%d Error] %s 에러가 발생함\" % (r.status_code,r.reason)\n",
    "#     raise Exception(msg)\n",
    "    \n",
    "# ## 인코딩 형식 지정\n",
    "# r.encoding = 'utf-8'\n",
    "\n",
    "# ## 전체 HTML 파일 \n",
    "# soup = BeautifulSoup(r.text)\n",
    "\n",
    "# mizuno_list = soup.select(\"#search-result-items\")\n",
    "# mizuno_list\n",
    "#이미지링크 + 상품 상세보기 링크 + 상품이름\n",
    "for number in mizuno_num :\n",
    "    url = \"https://kor.mizuno.com/kr-kr/044/?start=%d&sz=12\" % number\n",
    "\n",
    "    ## 생성한 접속 객체를 활용해서 접속\n",
    "    r = session.get(url)\n",
    "\n",
    "    ## 에러 발생시 예외처리\n",
    "    if r.status_code!=200 :\n",
    "        msg = \"[%d Error] %s 에러가 발생함\" % (r.status_code,r.reason)\n",
    "        raise Exception(msg)\n",
    "\n",
    "    ## 인코딩 형식 지정\n",
    "    r.encoding = 'utf-8'\n",
    "\n",
    "    ## 전체 HTML 파일\n",
    "    soup = BeautifulSoup(r.text)\n",
    "    mizuno_list = soup.select(\"#search-result-items\")\n",
    "    for mizuno in mizuno_list :\n",
    "        # print(mizuno)\n",
    "        ## 상품이름 크롤링 & 상세보기 링크\n",
    "        mizuno_n = mizuno.select(\".product-tile > .product-name-and-pricing\")\n",
    "        for n in mizuno_n :\n",
    "            mizuno_nameEl = n.select(\".product-name> a \")\n",
    "            mizuno_name = mizuno_nameEl[0].text.strip()\n",
    "            # print(mizuno_name)\n",
    "\n",
    "        ## 이미지 링크  mizuno_imageEl\n",
    "        mizuno_i = mizuno.select(\".product-tile > .tile-toparea\")\n",
    "\n",
    "        for i in mizuno_i :\n",
    "            mizuno_imageEl = i.select(\".product-image > .thumb-link > img\")\n",
    "            # print(mizuno_imageEl[0].attrs['src'])\n",
    "            if mizuno_imageEl and \"src\" in mizuno_imageEl[0].attrs:\n",
    "                mizuno_image = mizuno_imageEl[0].attrs['src']\n",
    "            else : \n",
    "                mizuno_image =None\n",
    "            # print(mizuno_image)\n",
    "        \n",
    "        ## 상품 상세 보기 링크  product-name-and-pricing\n",
    "        mizuno_l = mizuno.select(\".product-tile > .product-name-and-pricing \")\n",
    "        for l in mizuno_l :\n",
    "            mizuno_detailEl = l.select(\".product-name > .name-link\")\n",
    "            mizuno_detail = mizuno_detailEl[0].attrs['href']\n",
    "            # print(mizuno_detail)\n",
    "        ## 링크 들어가서 상품상세정보 수집해야함 \n",
    "\n",
    "        # ---------------------------------------------------\n",
    "        \n",
    "        #### 상세보기 수집 (시작) \n",
    "\n",
    "        # --------------mizuno_detail-------------------------------------\n",
    "\n",
    "        chromedriver_autoinstaller.install()\n",
    "        driver = webdriver.Chrome()\n",
    "        driver.implicitly_wait(5)\n",
    "        driver.get(mizuno_detail)\n",
    "        time.sleep(1)\n",
    "        \n",
    "\n",
    "\n",
    "        \n",
    "\n",
    "        detailSoup = BeautifulSoup(driver.page_source)\n",
    "        # print(detailSoup)\n",
    "        #      링크를 타고 들어가자 \n",
    "        # 그다음에 정가, 할인금액,최종금액 + 리뷰 수\n",
    "        detailEl = detailSoup.select(\".pt_product-details\")\n",
    "        # print(detailEl)\n",
    "        for detail in detailEl :\n",
    "            standardPriceEl =detail.select(\"#product-content > .product-price > span \")\n",
    "            # print(len(standardPriceEl))\n",
    "            if len(standardPriceEl) ==1 :\n",
    "                LastPrice = standardPriceEl[0].text.strip()\n",
    "                standardPrice = LastPrice\n",
    "                discountPrice = None\n",
    "                # print(LastPrice)      \n",
    "            elif len(standardPriceEl) == 3 :\n",
    "                standardPrice = standardPriceEl[0].text.strip()\n",
    "                LastPrice = standardPriceEl[1].text.strip()\n",
    "                discountPrice = standardPriceEl[2].text.strip()\n",
    "            reviewEl = detail.select(\".naverReview > h2\")\n",
    "            # print(reviewEl[0].text.strip())\n",
    "        result_dict = {'상품이름' :mizuno_name,\"정가\" : standardPrice,\"할인금액\":\n",
    "                                discountPrice,\"가격\":LastPrice}\n",
    "        mizuno_result.append(result_dict)\n",
    "\n",
    "            \n",
    "\n",
    "        \n",
    "\n",
    "\n",
    "\n",
    "    \n",
    "\n"
   ]
  },
  {
   "cell_type": "code",
   "execution_count": 29,
   "metadata": {},
   "outputs": [
    {
     "data": {
      "text/plain": [
       "36"
      ]
     },
     "execution_count": 29,
     "metadata": {},
     "output_type": "execute_result"
    }
   ],
   "source": [
    "len(mizuno_result)"
   ]
  },
  {
   "attachments": {},
   "cell_type": "markdown",
   "metadata": {},
   "source": []
  },
  {
   "cell_type": "code",
   "execution_count": null,
   "metadata": {},
   "outputs": [],
   "source": []
  }
 ],
 "metadata": {
  "kernelspec": {
   "display_name": "Python 3",
   "language": "python",
   "name": "python3"
  },
  "language_info": {
   "codemirror_mode": {
    "name": "ipython",
    "version": 3
   },
   "file_extension": ".py",
   "mimetype": "text/x-python",
   "name": "python",
   "nbconvert_exporter": "python",
   "pygments_lexer": "ipython3",
   "version": "3.11.3"
  },
  "orig_nbformat": 4
 },
 "nbformat": 4,
 "nbformat_minor": 2
}

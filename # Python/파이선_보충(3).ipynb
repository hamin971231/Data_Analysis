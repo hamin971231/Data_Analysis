{
 "cells": [
  {
   "attachments": {},
   "cell_type": "markdown",
   "metadata": {},
   "source": [
    "# 파이선 보충 Take 3\n",
    "\n"
   ]
  },
  {
   "attachments": {},
   "cell_type": "markdown",
   "metadata": {},
   "source": [
    "### 01. 파일 입출력 객체를 위한 Open 함수"
   ]
  },
  {
   "attachments": {},
   "cell_type": "markdown",
   "metadata": {},
   "source": [
    "### 파일 쓰기"
   ]
  },
  {
   "cell_type": "code",
   "execution_count": 3,
   "metadata": {},
   "outputs": [],
   "source": [
    "## 새로운 파일 생성, 혹은 기존의 파일 열기\n",
    "## -> 파일 경로와 파일 열기 모드 설정\n",
    "## -> r: 읽기모드 \n",
    "##    w: 쓰기모드\n",
    "##    a: 추가모드\n",
    "f = open(\"helloworld.txt\",\"w\",encoding='utf-8')\n",
    "## 두 문장을 연달아서 한줄로 기록하는게 디폴트기 때문에 줄바꿈 해줘야함\n",
    "f.write(\"hello python!!! \\n\")\n",
    "\n",
    "f.write(\"하이 \\n\")\n",
    "\n",
    "f.close()"
   ]
  },
  {
   "attachments": {},
   "cell_type": "markdown",
   "metadata": {},
   "source": [
    "### 파일 읽기\n"
   ]
  },
  {
   "cell_type": "code",
   "execution_count": 6,
   "metadata": {},
   "outputs": [
    {
     "name": "stdout",
     "output_type": "stream",
     "text": [
      "hello python!!! \n",
      "하이 \n",
      "\n"
     ]
    }
   ],
   "source": [
    "## 인코딩이 안맞으면 한글 깨짐 \n",
    "\n",
    "f = open(\"helloworld.txt\",\"r\",encoding='utf-8')\n",
    "\n",
    "data=f.read()\n",
    "## 닫아줘야함\n",
    "f.close()\n",
    "\n",
    "print(data)"
   ]
  },
  {
   "attachments": {},
   "cell_type": "markdown",
   "metadata": {},
   "source": [
    "### 02. with블록을 활용한 파일 입출력"
   ]
  },
  {
   "attachments": {},
   "cell_type": "markdown",
   "metadata": {},
   "source": [
    "### 파일 쓰기\n"
   ]
  },
  {
   "cell_type": "code",
   "execution_count": 16,
   "metadata": {},
   "outputs": [
    {
     "name": "stdout",
     "output_type": "stream",
     "text": [
      "파일 저장 완료\n",
      "0 >>  Life is short,  you need python.\n",
      " 1 >>  Life is short,  you need python.\n",
      " 2 >>  Life is short,  you need python.\n",
      " 3 >>  Life is short,  you need python.\n",
      " 4 >>  Life is short,  you need python.\n",
      " 5 >>  Life is short,  you need python.\n",
      " 6 >>  Life is short,  you need python.\n",
      " 7 >>  Life is short,  you need python.\n",
      " 8 >>  Life is short,  you need python.\n",
      " 9 >>  Life is short,  you need python.\n",
      " \n"
     ]
    }
   ],
   "source": [
    "## with 를 쓰면 f.close 안해도 됌 \n",
    "\n",
    "with open(\"hellopython.txt\",\"w\",encoding='utf-8') as f :\n",
    "    for i in range(10) :\n",
    "        f.write(\"%d >> \" % i)\n",
    "        f.write(\" Life is short, \")\n",
    "        f.write(\" you need python.\\n \")\n",
    "  \n",
    "    print('파일 저장 완료')\n",
    "\n",
    "with open(\"hellopython.txt\",\"r\",encoding='utf-8') as f :\n",
    "    data=f.read()\n",
    "print(data)\n",
    "        \n",
    "        \n",
    "        "
   ]
  },
  {
   "attachments": {},
   "cell_type": "markdown",
   "metadata": {},
   "source": [
    "### 파일 읽기"
   ]
  },
  {
   "cell_type": "code",
   "execution_count": 10,
   "metadata": {},
   "outputs": [
    {
     "name": "stdout",
     "output_type": "stream",
     "text": [
      "['hello python!!! \\n', '하이 \\n']\n",
      "hello python!!!\n",
      "하이\n"
     ]
    }
   ],
   "source": [
    "with open(\"helloworld.txt\",\"r\",encoding='utf-8') as f :\n",
    "    lines = f.readlines() ## 한줄씩 쪼개서 리스트로 반환\n",
    "    print(lines)\n",
    "\n",
    "for i in lines :\n",
    "    print(i.strip())"
   ]
  },
  {
   "cell_type": "code",
   "execution_count": null,
   "metadata": {},
   "outputs": [],
   "source": []
  }
 ],
 "metadata": {
  "kernelspec": {
   "display_name": "Python 3",
   "language": "python",
   "name": "python3"
  },
  "language_info": {
   "codemirror_mode": {
    "name": "ipython",
    "version": 3
   },
   "file_extension": ".py",
   "mimetype": "text/x-python",
   "name": "python",
   "nbconvert_exporter": "python",
   "pygments_lexer": "ipython3",
   "version": "3.11.3"
  },
  "orig_nbformat": 4
 },
 "nbformat": 4,
 "nbformat_minor": 2
}

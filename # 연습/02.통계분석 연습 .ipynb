{
 "cells": [
  {
   "attachments": {},
   "cell_type": "markdown",
   "metadata": {},
   "source": [
    "# T3-example 예시문제\n",
    "\n",
    "주어진 데이터는 고혈압 환자 치료 전후의 혈압이다. 해당 치료가 효과가 있는지 대응(쌍체)표본 t-검정을 진행하시오\n",
    "- 귀무가설(H0):  \n",
    "  μ >= 0\n",
    "\n",
    "- 대립가설(H1):  \n",
    "\n",
    "   μ  < 0\n",
    "\n",
    "- μ = (치료 후 혈압 - 치료 전 혈압)의 평균\n",
    "\n",
    "- 유의수준: 0.05\n",
    "- μ 의 표본평균은?(소수 둘째자리까지 반올림)\n",
    "- 검정통계량 값은?(소수 넷째자리까지 반올림)\n",
    "- p-값은?(소수 넷째자리까지 반올림)\n",
    "- 가설검정의 결과는? (유의수준 5%)"
   ]
  },
  {
   "cell_type": "code",
   "execution_count": 9,
   "metadata": {},
   "outputs": [
    {
     "data": {
      "text/html": [
       "<div>\n",
       "<style scoped>\n",
       "    .dataframe tbody tr th:only-of-type {\n",
       "        vertical-align: middle;\n",
       "    }\n",
       "\n",
       "    .dataframe tbody tr th {\n",
       "        vertical-align: top;\n",
       "    }\n",
       "\n",
       "    .dataframe thead th {\n",
       "        text-align: right;\n",
       "    }\n",
       "</style>\n",
       "<table border=\"1\" class=\"dataframe\">\n",
       "  <thead>\n",
       "    <tr style=\"text-align: right;\">\n",
       "      <th></th>\n",
       "      <th>Id</th>\n",
       "      <th>sex</th>\n",
       "      <th>age</th>\n",
       "      <th>bp_pre</th>\n",
       "      <th>bp_post</th>\n",
       "    </tr>\n",
       "  </thead>\n",
       "  <tbody>\n",
       "    <tr>\n",
       "      <th>0</th>\n",
       "      <td>p001</td>\n",
       "      <td>Male</td>\n",
       "      <td>33</td>\n",
       "      <td>149</td>\n",
       "      <td>129</td>\n",
       "    </tr>\n",
       "    <tr>\n",
       "      <th>1</th>\n",
       "      <td>p002</td>\n",
       "      <td>Male</td>\n",
       "      <td>39</td>\n",
       "      <td>168</td>\n",
       "      <td>168</td>\n",
       "    </tr>\n",
       "    <tr>\n",
       "      <th>2</th>\n",
       "      <td>p003</td>\n",
       "      <td>Male</td>\n",
       "      <td>70</td>\n",
       "      <td>176</td>\n",
       "      <td>155</td>\n",
       "    </tr>\n",
       "    <tr>\n",
       "      <th>3</th>\n",
       "      <td>p004</td>\n",
       "      <td>Female</td>\n",
       "      <td>41</td>\n",
       "      <td>169</td>\n",
       "      <td>178</td>\n",
       "    </tr>\n",
       "    <tr>\n",
       "      <th>4</th>\n",
       "      <td>p005</td>\n",
       "      <td>Male</td>\n",
       "      <td>48</td>\n",
       "      <td>160</td>\n",
       "      <td>126</td>\n",
       "    </tr>\n",
       "  </tbody>\n",
       "</table>\n",
       "</div>"
      ],
      "text/plain": [
       "     Id     sex  age  bp_pre  bp_post\n",
       "0  p001    Male   33     149      129\n",
       "1  p002    Male   39     168      168\n",
       "2  p003    Male   70     176      155\n",
       "3  p004  Female   41     169      178\n",
       "4  p005    Male   48     160      126"
      ]
     },
     "execution_count": 9,
     "metadata": {},
     "output_type": "execute_result"
    }
   ],
   "source": [
    "import pandas as pd \n",
    "from scipy import stats\n",
    "df = pd.read_csv(\"high_blood_pressure.csv\")\n",
    "df.head()\n"
   ]
  },
  {
   "cell_type": "code",
   "execution_count": 13,
   "metadata": {},
   "outputs": [
    {
     "name": "stdout",
     "output_type": "stream",
     "text": [
      "표본평균 :  -6 2\n",
      "검정 통계량 :  -3.0002\n",
      "p-value :  0.0016\n"
     ]
    }
   ],
   "source": [
    "## 상체표보이기 떄문에 차이 구해야함\n",
    "df['diff'] = df['bp_post'] - df['bp_pre'] \n",
    "df\n",
    "\n",
    "## 표본평균\n",
    "print(\"표본평균 : \",round(df['diff'].mean()),2)\n",
    "\n",
    "## 상체표본 t검정 \n",
    "## 검정통계량 값 & p값\n",
    "\n",
    "st, pv = stats.ttest_rel(df['bp_post'],df['bp_pre'],alternative='less')\n",
    "print(\"검정 통계량 : \",round(st,4))\n",
    "\n",
    "print(\"p-value : \",round(pv,4))\n",
    "\n",
    "## p값이 0.05보다 작기 떄문에 대립가설 채택 "
   ]
  },
  {
   "attachments": {},
   "cell_type": "markdown",
   "metadata": {},
   "source": [
    "# T3-ttest_ind (독립표본 T검정)\n",
    "\n",
    "어떤 특정 약물을 복용한 사람들의 평균 체온이 복용하지 않은 사람들의 평균 체온과 유의미하게 다른지 검정해보려고 합니다.\n",
    "\n",
    "가정:\n",
    "\n",
    "약물을 복용한 그룹과 복용하지 않은 그룹의 체온 데이터가 각각 주어져 있다고 가정합니다.\n",
    "각 그룹의 체온은 정규분포를 따른다고 가정합니다.\n",
    "\n",
    "검정통계량, p-value, 검정결과를 출력하시오"
   ]
  },
  {
   "cell_type": "code",
   "execution_count": 15,
   "metadata": {},
   "outputs": [
    {
     "name": "stdout",
     "output_type": "stream",
     "text": [
      "검정통계량 :  3.7964208654863336\n",
      "P값 :  0.001321891476703691\n"
     ]
    }
   ],
   "source": [
    "from scipy import stats\n",
    "# 데이터 수집\n",
    "group1 = [36.8, 36.7, 37.1, 36.9, 37.2, 36.8, 36.9, 37.1, 36.7, 37.1]\n",
    "group2 = [36.5, 36.6, 36.3, 36.6, 36.9, 36.7, 36.7, 36.8, 36.5, 36.7]\n",
    "\n",
    "t,pv = stats.ttest_ind(group1,group2)\n",
    "## 검정통계량 & p-values -> 유의수준 0.05\n",
    "\n",
    "print('검정통계량 : ',t )\n",
    "\n",
    "print(\"P값 : \",pv)\n",
    "\n"
   ]
  },
  {
   "attachments": {},
   "cell_type": "markdown",
   "metadata": {},
   "source": [
    "# T3-ttest_1samp\n",
    "\n",
    "### 문제: 다음은 22명의 학생들이 국어시험에서 받은 점수이다. 학생들의 평균이 75보다 크다고 할 수 있는가?\n",
    "\n",
    "- 귀무가설(H0): 모평균은 mu와 같다. (μ = mu), 학생들의 평균은 75이다\n",
    "- 대립가설(H1): 모평균은 mu보다 크다. (μ > mu), 학생들의 평균은 75보다 크다\n",
    "\n",
    "가정:\n",
    "\n",
    "모집단은 정규분포를 따른다.\n",
    "\n",
    "표본의 크기가 충분히 크다.\n"
   ]
  },
  {
   "cell_type": "code",
   "execution_count": 21,
   "metadata": {},
   "outputs": [
    {
     "name": "stdout",
     "output_type": "stream",
     "text": [
      "0.04597614747709146\n"
     ]
    }
   ],
   "source": [
    "from scipy import stats\n",
    "scores = [75, 80, 68, 72, 77, 82, 81, 79, 70, 74, 76, 78, 81, 73, 81, 78, 75, 72, 74, 79, 78, 79]\n",
    "\n",
    "mu = 75\n",
    "alpha = 0.05\n",
    "## 단일표본 t검정 \n",
    "## stats.ttest_1samp(데이터,모평균,alternative(큰지작은지)=\"less\" or \"greater\")\n",
    "t_stat , pv = stats.ttest_1samp(scores,mu,alternative = 'greater')\n",
    "print(pv)\n"
   ]
  },
  {
   "attachments": {},
   "cell_type": "markdown",
   "metadata": {},
   "source": [
    "# T3-anova 일원배치법\n",
    "\n",
    "세 가지 다른 교육 방법(A, B, C)을 사용하여 수험생들의 시험 성적을 개선시키는 효과를 평가하고자 한다. 30명의 학생들을 무작위로 세 그룹으로 배정하여 교육을 실시하였고, 시험을 보고 성적을 측정하였습니다. 다음은 각 그룹의 학생들의 성적 데이터입니다.\n",
    "\n",
    "일원배치법을 수행하여 그룹 간의 평균 성적 차이가 있는지 검정하세요¶\n",
    "\n",
    "- f값 (소수 둘째자리)\n",
    "\n",
    "- p값 (소수 여섯째자리)\n",
    "\n",
    "- 검정결과 출력\n"
   ]
  },
  {
   "cell_type": "code",
   "execution_count": 22,
   "metadata": {},
   "outputs": [],
   "source": [
    "from scipy import stats\n",
    "\n",
    "\n",
    "groupA = [85, 92, 78, 88, 83, 90, 76, 84, 92, 87]\n",
    "groupB = [79, 69, 84, 78, 79, 83, 79, 81, 86, 88]\n",
    "groupC = [75, 68, 74, 65, 77, 72, 70, 73, 78, 75]\n"
   ]
  },
  {
   "cell_type": "code",
   "execution_count": 26,
   "metadata": {},
   "outputs": [
    {
     "name": "stdout",
     "output_type": "stream",
     "text": [
      "16.884107946026987 1.752985223798021e-05\n"
     ]
    }
   ],
   "source": [
    "f_stat, pv = stats.f_oneway(groupA,groupB,groupC)\n",
    "print(f_stat,pv)"
   ]
  },
  {
   "attachments": {},
   "cell_type": "markdown",
   "metadata": {},
   "source": [
    "# T3-Shapiro-Wilk\n",
    "\n",
    "12명의 수험생이 빅데이터 분석기사 시험에서 받은 점수이다. Shapiro-Wilk 검정을 사용하여 데이터가 정규 분포를 따르는지 검증하시오\n",
    "\n",
    "- 귀무 가설(H0): 데이터는 정규 분포를 따른다.\n",
    "\n",
    "- 대립 가설(H1): 데이터는 정규 분포를 따르지 않는다.\n",
    "\n",
    "- Shapiro-Wilk 검정 통계량, p-value, 검증결과를 출력하시오"
   ]
  },
  {
   "cell_type": "code",
   "execution_count": 27,
   "metadata": {},
   "outputs": [
    {
     "name": "stdout",
     "output_type": "stream",
     "text": [
      "0.9768089652061462 0.9676492810249329\n"
     ]
    }
   ],
   "source": [
    "from scipy import stats\n",
    "\n",
    "data = [75, 83, 81, 92, 68, 77, 78, 80, 85, 95, 79, 89]\n",
    "\n",
    "stat,pv = stats.shapiro(data)\n",
    "print(stat, pv)"
   ]
  },
  {
   "attachments": {},
   "cell_type": "markdown",
   "metadata": {},
   "source": [
    "# T3-correlation\n",
    "\n",
    "iris에서 Sepal Length와 Sepal Width의 상관계수 계산하고 소수 둘째자리까지 출력하시오"
   ]
  },
  {
   "cell_type": "code",
   "execution_count": 28,
   "metadata": {},
   "outputs": [
    {
     "data": {
      "text/html": [
       "<div>\n",
       "<style scoped>\n",
       "    .dataframe tbody tr th:only-of-type {\n",
       "        vertical-align: middle;\n",
       "    }\n",
       "\n",
       "    .dataframe tbody tr th {\n",
       "        vertical-align: top;\n",
       "    }\n",
       "\n",
       "    .dataframe thead th {\n",
       "        text-align: right;\n",
       "    }\n",
       "</style>\n",
       "<table border=\"1\" class=\"dataframe\">\n",
       "  <thead>\n",
       "    <tr style=\"text-align: right;\">\n",
       "      <th></th>\n",
       "      <th>sepal length (cm)</th>\n",
       "      <th>sepal width (cm)</th>\n",
       "      <th>petal length (cm)</th>\n",
       "      <th>petal width (cm)</th>\n",
       "    </tr>\n",
       "  </thead>\n",
       "  <tbody>\n",
       "    <tr>\n",
       "      <th>0</th>\n",
       "      <td>5.1</td>\n",
       "      <td>3.5</td>\n",
       "      <td>1.4</td>\n",
       "      <td>0.2</td>\n",
       "    </tr>\n",
       "    <tr>\n",
       "      <th>1</th>\n",
       "      <td>4.9</td>\n",
       "      <td>3.0</td>\n",
       "      <td>1.4</td>\n",
       "      <td>0.2</td>\n",
       "    </tr>\n",
       "    <tr>\n",
       "      <th>2</th>\n",
       "      <td>4.7</td>\n",
       "      <td>3.2</td>\n",
       "      <td>1.3</td>\n",
       "      <td>0.2</td>\n",
       "    </tr>\n",
       "    <tr>\n",
       "      <th>3</th>\n",
       "      <td>4.6</td>\n",
       "      <td>3.1</td>\n",
       "      <td>1.5</td>\n",
       "      <td>0.2</td>\n",
       "    </tr>\n",
       "    <tr>\n",
       "      <th>4</th>\n",
       "      <td>5.0</td>\n",
       "      <td>3.6</td>\n",
       "      <td>1.4</td>\n",
       "      <td>0.2</td>\n",
       "    </tr>\n",
       "  </tbody>\n",
       "</table>\n",
       "</div>"
      ],
      "text/plain": [
       "   sepal length (cm)  sepal width (cm)  petal length (cm)  petal width (cm)\n",
       "0                5.1               3.5                1.4               0.2\n",
       "1                4.9               3.0                1.4               0.2\n",
       "2                4.7               3.2                1.3               0.2\n",
       "3                4.6               3.1                1.5               0.2\n",
       "4                5.0               3.6                1.4               0.2"
      ]
     },
     "execution_count": 28,
     "metadata": {},
     "output_type": "execute_result"
    }
   ],
   "source": [
    "import pandas as pd\n",
    "from sklearn.datasets import load_iris\n",
    "\n",
    "iris = load_iris()\n",
    "\n",
    "df = pd.DataFrame(iris.data, columns=iris.feature_names)\n",
    "df.head()"
   ]
  },
  {
   "cell_type": "code",
   "execution_count": 34,
   "metadata": {},
   "outputs": [
    {
     "data": {
      "text/plain": [
       "-0.12"
      ]
     },
     "execution_count": 34,
     "metadata": {},
     "output_type": "execute_result"
    }
   ],
   "source": [
    "df_corr = df.corr()\n",
    "round(df_corr.loc[\"sepal length (cm)\",\"sepal width (cm)\"],2)"
   ]
  },
  {
   "cell_type": "code",
   "execution_count": null,
   "metadata": {},
   "outputs": [],
   "source": []
  }
 ],
 "metadata": {
  "kernelspec": {
   "display_name": "Python 3",
   "language": "python",
   "name": "python3"
  },
  "language_info": {
   "codemirror_mode": {
    "name": "ipython",
    "version": 3
   },
   "file_extension": ".py",
   "mimetype": "text/x-python",
   "name": "python",
   "nbconvert_exporter": "python",
   "pygments_lexer": "ipython3",
   "version": "3.11.3"
  },
  "orig_nbformat": 4
 },
 "nbformat": 4,
 "nbformat_minor": 2
}

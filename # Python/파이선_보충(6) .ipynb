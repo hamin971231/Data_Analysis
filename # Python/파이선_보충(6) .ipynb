{
 "cells": [
  {
   "attachments": {},
   "cell_type": "markdown",
   "metadata": {},
   "source": [
    "# 파이선 보충 Take 6 _ 메일링 리스트\n",
    "\n"
   ]
  },
  {
   "attachments": {},
   "cell_type": "markdown",
   "metadata": {},
   "source": [
    "### 메일 발송에 필요한 내장모듈 참조 \n"
   ]
  },
  {
   "cell_type": "code",
   "execution_count": 37,
   "metadata": {},
   "outputs": [],
   "source": [
    "import Sendmail\n",
    "import datetime as dt\n"
   ]
  },
  {
   "attachments": {},
   "cell_type": "markdown",
   "metadata": {},
   "source": [
    "메일 발송에 필요한 정보 설정\n"
   ]
  },
  {
   "cell_type": "code",
   "execution_count": 38,
   "metadata": {},
   "outputs": [
    {
     "name": "stdout",
     "output_type": "stream",
     "text": [
      "2023 6 23\n"
     ]
    }
   ],
   "source": [
    "today = dt.datetime.now()\n",
    "year = today.year\n",
    "month = today.month\n",
    "day = today.day\n",
    "\n",
    "print(year,month,day)"
   ]
  },
  {
   "attachments": {},
   "cell_type": "markdown",
   "metadata": {},
   "source": [
    "발신자 정보, 메일제목\n"
   ]
  },
  {
   "cell_type": "code",
   "execution_count": 44,
   "metadata": {},
   "outputs": [],
   "source": [
    "fromAddr = \"goaldl97123@naver.com\"\n",
    "\n",
    "subjectTmpl = \"{name}님의 {year}년도 {month}월 급여 명세서 입니다.\"\n"
   ]
  },
  {
   "attachments": {},
   "cell_type": "markdown",
   "metadata": {},
   "source": [
    "메일 본문 가져오기 "
   ]
  },
  {
   "cell_type": "code",
   "execution_count": 45,
   "metadata": {},
   "outputs": [
    {
     "name": "stdout",
     "output_type": "stream",
     "text": [
      "안녕하세요 {name}님\n",
      "\n",
      "{yy}년도 {mm}월 급여명세서와 결산보고서 보내드립니다.\n",
      "\n",
      "귀하의 노고에 감사드립니다.\n",
      "\n",
      "- {yy}년 {mm}월 {dd}일 / 운영지원팀 드림\n"
     ]
    }
   ],
   "source": [
    "with open(\"mail/content.txt\",'r',encoding='utf-8') as f :\n",
    "    contentTmpl = f.read()\n",
    "    print(contentTmpl)"
   ]
  },
  {
   "attachments": {},
   "cell_type": "markdown",
   "metadata": {},
   "source": [
    "수신자 목록에 대한csv 파일에 대한 반복수행"
   ]
  },
  {
   "cell_type": "code",
   "execution_count": 50,
   "metadata": {},
   "outputs": [
    {
     "name": "stdout",
     "output_type": "stream",
     "text": [
      "hamin971231@gmail.com\n",
      "hamin971231@gmail.com\n",
      "hamin971231@gmail.com\n",
      "hamin971231@gmail.com\n",
      "hamin971231@gmail.com\n"
     ]
    }
   ],
   "source": [
    "with open('mail/mail_list.csv','r',encoding= 'euc-kr') as f:\n",
    "    csv = f.readlines()\n",
    "    # print(csv)\n",
    "\n",
    "    # csv 파일 라인 수 만큼 반복\n",
    "    for line in csv :\n",
    "        # print(line)\n",
    "        name, email, file1, file2  = line.strip().split(',')\n",
    "        # print(email)\n",
    "        # print(toAddr)\n",
    "        \n",
    "        # 메일제목\n",
    "        subject = subjectTmpl.format(name = name,year = year, month = month)\n",
    "\n",
    "        # 메일내용\n",
    "        content = contentTmpl.format(name=name, yy=year, mm=month, dd=day)\n",
    "        # print(content)\n",
    "        Sendmail.sendmail(fromAddr,email,subject,content,[file1,file2])\n",
    "\n",
    "        print(\"%s님에게 메일이 발송되었습니다.\" % email)\n",
    "\n",
    "        "
   ]
  },
  {
   "cell_type": "code",
   "execution_count": null,
   "metadata": {},
   "outputs": [],
   "source": []
  }
 ],
 "metadata": {
  "kernelspec": {
   "display_name": "Python 3",
   "language": "python",
   "name": "python3"
  },
  "language_info": {
   "codemirror_mode": {
    "name": "ipython",
    "version": 3
   },
   "file_extension": ".py",
   "mimetype": "text/x-python",
   "name": "python",
   "nbconvert_exporter": "python",
   "pygments_lexer": "ipython3",
   "version": "3.11.3"
  },
  "orig_nbformat": 4
 },
 "nbformat": 4,
 "nbformat_minor": 2
}

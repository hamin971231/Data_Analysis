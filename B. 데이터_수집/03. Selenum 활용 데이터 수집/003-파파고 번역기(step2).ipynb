{
 "cells": [
  {
   "attachments": {},
   "cell_type": "markdown",
   "metadata": {},
   "source": [
    "# 파파고 번역기 예제\n",
    "\n",
    "\n",
    "\n",
    "###  #01.패키지 참조"
   ]
  },
  {
   "cell_type": "code",
   "execution_count": 10,
   "metadata": {},
   "outputs": [],
   "source": [
    "# 필요한 모듈 참조\n",
    "\n",
    "## chromedriver_autoinstaller 자동 설치 모듈\n",
    "import chromedriver_autoinstaller\n",
    "## 크롬을 제어하기 위한 객체\n",
    "from selenium import webdriver\n",
    "\n",
    "## 크롬이 웹페이지 로딩을 완료할 떄 까지 최대 n초간 대기하는 기능\n",
    "from selenium.webdriver.support.ui import WebDriverWait\n",
    "## 원하는 부분을 추출할 수 있는 방식을 지정하는 객체\n",
    "from selenium.webdriver.common.by import By\n",
    "from bs4 import BeautifulSoup\n",
    "from pandas import DataFrame\n",
    "import time\n",
    "\n",
    "import datetime as dt"
   ]
  },
  {
   "attachments": {},
   "cell_type": "markdown",
   "metadata": {},
   "source": [
    "#### #02.번역할 파일 가져오기\n",
    "\n",
    "\n",
    "\n"
   ]
  },
  {
   "cell_type": "code",
   "execution_count": 11,
   "metadata": {},
   "outputs": [
    {
     "data": {
      "text/plain": [
       "['Desperately projecting that everything is as it was, the Kremlin is only emphasizing how much has changed.\\n',\n",
       " '\\n',\n",
       " 'These were 36 hours that provided a glimpse of the end of Russian President Vladimir Putin’s rule. Almost every action was improbable, at best a week ago – much was inconceivable, 17 months ago.\\n',\n",
       " '\\n',\n",
       " 'A loyal henchman slams the premise of the invasion, then claims an airstrike targeted his troops, before taking a major military town without clashes, Prigozhin said, and then marching to within a few hundred miles of Moscow. But suddenly he executes a baffling reversal, turning back to avoid bloodshed, as the Kremlin claims Alexander Lukashenko, the president of Belarus whom Putin seems to treat with contempt, brokered a dramatic reprieve, in which the insurrectionist who has his armor bound for Moscow, now opts for exile in Minsk.\\n',\n",
       " '\\n',\n",
       " 'Even as the dust settles, it still makes little sense. It is important to remember we have yet to hear from Yevgeny Prigozhin that he has accepted exile in Belarus and see evidence his units have genuinely all stood down. He is an open proliferator of misinformation. We should be equally suspicious of the apparent bow with which Kremlin spokesman Dmitry Peskov tried to tie this startling episode up with on Saturday night. Two hours earlier, Wagner were at the gates of the capital (almost), and then suddenly everything is forgiven.\\n',\n",
       " '\\n',\n",
       " 'Fighters of Wagner private mercenary group pull out of the headquarters of the Southern Military District to return to base, in the city of Rostov-on-Don, Russia, June 24, 2023. REUTERS/Alexander Ermochenko\\n',\n",
       " '\\n',\n",
       " 'There are large parts of this story missing. We may never learn what they are. Many emotions could have altered Prigozhin’s course. Was the advance north too easy? Did he accept entering the capital would leave his men vulnerable, even to a weak Russian military response? Were the regular military not joining him in large enough number? Did he believe a climbdown would only grow his support? While on the surface, Prigozhin’s climbdown makes him appear weak, even finished, he has been the decision-maker over the past 36 hours.\\n',\n",
       " '\\n',\n",
       " 'Putin has been left reacting. Silent initially, and then bombastically angry and confident, promising “inevitable punishment” for the “scum.” But hours later, this was all forgotten. Putin’s emotional state - were it known - is arguably less revealing than his actions. By letting Prigozhin go, and apparently sweeping the entire insurrection under the carpet, he’s appeared the weakest yet in 23 years.\\n',\n",
       " '\\n',\n",
       " 'It is possible his special services will now pursue Wagner and its supporters, slowly, away from the glare of the last two days. Yet the Kremlin’s solution to the problem was to climb down too. It’s a move so antipathetic to everything Putin stands for, it can only suggest he had no other choice: that he lacked the forces to be sure he could hold Prigozhin back.\\n',\n",
       " '\\n',\n",
       " 'That is perhaps the larger lesson of the so-called March of Justice. Not that a mercenary boss didn’t send a modest-sized force into Moscow to execute a coup, but that the Kremlin had to let him go.\\n',\n",
       " '\\n',\n",
       " 'Putin’s vulnerability is assured\\n',\n",
       " '\\n',\n",
       " 'Putin’s position was clearly weakening because of the war’s catastrophic mismanagement. But how he would be removed - what possible circumstances could permit that - was something that eluded officials and analysts. This was not a likely option.\\n',\n",
       " '\\n',\n",
       " 'But now it has happened, we have a glimpse behind the thickset curtain the Kremlin relies upon to hide its infighting, incompetence and frailty, allowing it to project an outsized confidence – a post-Soviet omnipotence. It’s pretty ugly in there it seems.\\n',\n",
       " '\\n',\n",
       " 'Now the rest of the world has seen this too – from Ukraine to NATO to Putin’s allies. Notably some friends were quiet: Kazakhstan and Iran – both of whom owe Russia a past debt – called this an “internal matter.” That is not unqualified support.\\n',\n",
       " '\\n',\n",
       " 'Fighters of Wagner private mercenary group stand guard in a street near the headquarters of the Southern Military District in the city of Rostov-on-Don, Russia, June 24, 2023. REUTERS/Stringer\\n',\n",
       " '\\n',\n",
       " 'We can only guess whether the thought of Prigozhin in charge will cause such panic in the elite country houses of suburban Moscow that support for Putin sustains. Yet his vulnerability is now assured, for the first time in 23 years – two decades in which he has accrued plentiful enemies and debts. (It is ridiculous to maintain the last two days have been an elaborate charade designed to somehow improve Putin’s position or provide a pretext for escalation. This is an entirely internal affair, distracting from the urgent needs of the war. Making the Kremlin head seem this unequivocally weak can in no way strengthen his position).\\n',\n",
       " '\\n',\n",
       " 'So where does this leave Russia and its anxious adversaries? We can’t know what comes next, but it is likely to follow the explosively erratic pattern of the last two days. Prigozhin may vanish for a few months. Putin may make some changes in his military staff. Things may seem “normal.” But they have absolutely changed and a post-Putin world – and the dramatic force needed to impose it – has been glimpsed. It feels like the beginning of the end for him.\\n',\n",
       " '\\n',\n",
       " 'The most acute catalyst to any change will be the impact this bizarre drama has on the Ukraine frontlines. It is impossible to imagine that a series of fluctuations in Russia’s military presence has not weakened defensive positions in the south and east – the very places where Ukraine is pushing forwards. The most optimistic assessment you could make is that Russian military morale must have felt a hiccup while watching its commander-in-chief and most prominent military figure engage in a 24-hour game of chicken. Would you genuinely give your life on the Russian front lines this weekend, given the mess you observe in the higher command?\\n',\n",
       " '\\n',\n",
       " 'Ukraine claims to be already pushing forward. It is too early to know what impact the Justice March has had on the war. But the Kremlin must be acutely aware of the damage to both the positions of Putin and Prigozhin if this conflict – which Moscow has framed as an existential battle against NATO – is ultimately lost. Perhaps that stark recognition was quietly feeding the bizarre decisions and reversals as Wagner fighters made such easy progress on Saturday north on the M4 highway to Moscow.']"
      ]
     },
     "execution_count": 11,
     "metadata": {},
     "output_type": "execute_result"
    }
   ],
   "source": [
    "source = None\n",
    "\n",
    "with open(\"news.txt\",\"r\",encoding='utf-8') as f :\n",
    "    source = f.readlines()\n",
    "\n",
    "source"
   ]
  },
  {
   "attachments": {},
   "cell_type": "markdown",
   "metadata": {},
   "source": [
    "#### #03. 웹브라우저 준비"
   ]
  },
  {
   "cell_type": "code",
   "execution_count": 12,
   "metadata": {},
   "outputs": [],
   "source": [
    "## 크롬드라이버 자동설치\n",
    "chromedriver_autoinstaller.install()\n",
    "\n",
    "## 크롬드라이버를 통해 크롬을 실행시킴\n",
    "driver = webdriver.Chrome()\n",
    "## 크롬브라우저가 준비될떄까지 최대 5초씩 대기\n",
    "driver.implicitly_wait(5)\n",
    "\n",
    "## 파파고 페이지 이동 \n",
    "driver.get(\"https:papago.naver.com/\")\n",
    "time.sleep(3)"
   ]
  },
  {
   "cell_type": "code",
   "execution_count": null,
   "metadata": {},
   "outputs": [],
   "source": [
    "\n"
   ]
  },
  {
   "attachments": {},
   "cell_type": "markdown",
   "metadata": {},
   "source": [
    "#### #04. 번역수행하기\n",
    "\n"
   ]
  },
  {
   "attachments": {},
   "cell_type": "markdown",
   "metadata": {},
   "source": []
  },
  {
   "cell_type": "code",
   "execution_count": 13,
   "metadata": {},
   "outputs": [
    {
     "ename": "KeyboardInterrupt",
     "evalue": "",
     "output_type": "error",
     "traceback": [
      "\u001b[1;31m---------------------------------------------------------------------------\u001b[0m",
      "\u001b[1;31mKeyboardInterrupt\u001b[0m                         Traceback (most recent call last)",
      "Cell \u001b[1;32mIn[13], line 56\u001b[0m\n\u001b[0;32m     54\u001b[0m         \u001b[39mbreak\u001b[39;00m\n\u001b[0;32m     55\u001b[0m     \u001b[39m# 번역이 되는 동안 1초대기\u001b[39;00m\n\u001b[1;32m---> 56\u001b[0m     time\u001b[39m.\u001b[39msleep(\u001b[39m1\u001b[39m)\n\u001b[0;32m     58\u001b[0m \u001b[39m#-----------------------------\u001b[39;00m\n\u001b[0;32m     59\u001b[0m \n\u001b[0;32m     60\u001b[0m \u001b[39m# 번여결과를 파일에 기록\u001b[39;00m\n\u001b[0;32m     61\u001b[0m f\u001b[39m.\u001b[39mwrite(s)\n",
      "\u001b[1;31mKeyboardInterrupt\u001b[0m: "
     ]
    }
   ],
   "source": [
    "## 번역결과가 저장될 텍스트 파일 생성\n",
    "fileName = \"fileName_papago(2)\"\n",
    "\n",
    "currnetTrans = None\n",
    "\n",
    "prevTrans = None\n",
    "\n",
    "with open(fileName,\"w\",encoding='utf-8') as f :\n",
    "    for s in source :\n",
    "        ## 각 행마다 줄바꿈 문자, 등 앞뒤 공백을 제거\n",
    "        s.strip()\n",
    "        # 이번턴에서 번역할 내용이 없으면 다음턴으로 이동\n",
    "        if not s :\n",
    "            continue\n",
    "        ## 번역할 문장들이 출력됌\n",
    "        # print(s)\n",
    "\n",
    "        # 변역할 원문을 입력하는 요소(input)를 취득 txtSource\n",
    "        txtSource = WebDriverWait(driver,3).until(lambda x:x.find_element(By.CSS_SELECTOR,\"#txtSource\"))\n",
    "        \n",
    "\n",
    "        ## 기존의 입력내용 삭제  : 한턴이 돌때마다 새로운 내용을 입력해야 하기 떄문\n",
    "\n",
    "        txtSource.clear()\n",
    "\n",
    "        ## 번여할 내용을 입력 \n",
    "        txtSource.send_keys(s)\n",
    "\n",
    "        ## 번역하기 버튼 요소 \n",
    "        btnTranslate=WebDriverWait(driver,3).until(lambda x:x.find_element(By.CSS_SELECTOR,\"#btnTranslate\"))\n",
    "\n",
    "        ## 번역하기 버튼 클릭 \n",
    "        btnTranslate.click()\n",
    "\n",
    "        ## 번역이 되는 동안 1초대기\n",
    "        time.sleep(1) ## 번역하는 동안 렉이 걸리는걸 방지하고자 1초동안 대기 \n",
    "\n",
    "        ## 웹브라우저 보다 파이썬이 먼저 돌아가서 문장들을 입력하고 번역하고나서 \n",
    "        # #결과값들을 입력하는 동안 기다리는 1초동안 파이선이 돌아가버리기 떄문에 번역결과가 나오다 마는것임.\n",
    "        ## r그래서 while문을 돌려서 결과가 안나왔으면 무한루프를 돌리는 것임. \n",
    "        while True :\n",
    "            ## 번역결과가 표시될 요소 취득 \n",
    "            txtTarget = WebDriverWait(driver,3).until(lambda x : x.find_element(By.CSS_SELECTOR,\"#txtTarget\"))\n",
    "            # print(txtTarget)\n",
    "            ## 번역결과 가져오기 \n",
    "            currnetTrans = txtTarget.text.strip()\n",
    "            # print(currnetTrans)\n",
    "            \n",
    "            ## 만약 지금 결과랑 번역결과가 다르면 계속 진행하고 \n",
    "            ## 같으면 break\n",
    "            ## 가져온 내용이 있고, 이전 번역결과와 다르다면 반복중단. \n",
    "            if currnetTrans and currnetTrans != prevTrans :\n",
    "                prevTrans =currnetTrans\n",
    "                break\n",
    "            # 번역이 되는 동안 1초대기\n",
    "            time.sleep(1)\n",
    "\n",
    "        #-----------------------------\n",
    "        \n",
    "        # 번여결과를 파일에 기록\n",
    "        f.write(s)\n",
    "        f.write(\"\\n\\n\")\n",
    "        f.write(\">\")\n",
    "        f.write(currnetTrans)\n",
    "        f.write(\"\\n\\n\")\n",
    "        \n",
    "print(\"작업이 종료되었습니다.\")"
   ]
  },
  {
   "cell_type": "code",
   "execution_count": null,
   "metadata": {},
   "outputs": [],
   "source": []
  },
  {
   "cell_type": "code",
   "execution_count": null,
   "metadata": {},
   "outputs": [],
   "source": []
  }
 ],
 "metadata": {
  "kernelspec": {
   "display_name": "Python 3",
   "language": "python",
   "name": "python3"
  },
  "language_info": {
   "codemirror_mode": {
    "name": "ipython",
    "version": 3
   },
   "file_extension": ".py",
   "mimetype": "text/x-python",
   "name": "python",
   "nbconvert_exporter": "python",
   "pygments_lexer": "ipython3",
   "version": "3.11.3"
  },
  "orig_nbformat": 4
 },
 "nbformat": 4,
 "nbformat_minor": 2
}

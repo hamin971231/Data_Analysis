{
 "cells": [
  {
   "attachments": {},
   "cell_type": "markdown",
   "metadata": {},
   "source": [
    "# 데이터 전처리 연습문제"
   ]
  },
  {
   "attachments": {},
   "cell_type": "markdown",
   "metadata": {},
   "source": [
    "## 문제 1\n",
    "\n",
    "네 종류의 식단 A1, A2, A3, A4에 따른 식이용법이 혈액응고시간에 영향을 주는지 알고자 실험한 자료가 다음과 같다.\n",
    "\n",
    "인자의 수준을 나타내는 변수를 class로, 실습값을 time으로 하여 데이터를 구성하여라"
   ]
  },
  {
   "cell_type": "code",
   "execution_count": 1,
   "metadata": {},
   "outputs": [],
   "source": [
    "import pandas as pd"
   ]
  },
  {
   "cell_type": "code",
   "execution_count": null,
   "metadata": {},
   "outputs": [],
   "source": [
    "{\"A1\":[62,60,63,59,61],\n",
    "                    \"A2\":[62,67,71,64,65,66],\n",
    "                    \"A3\":[68,66,71,67,68,67,70],\n",
    "                    \"A4\":[58,62,60,59,61,63,64]})"
   ]
  },
  {
   "cell_type": "code",
   "execution_count": null,
   "metadata": {},
   "outputs": [],
   "source": []
  },
  {
   "attachments": {},
   "cell_type": "markdown",
   "metadata": {},
   "source": [
    "## 문제2\n",
    "\n",
    "다음과 같은 두 개의 데이터를 하나로 합쳐서 엑셀 파일로 만들고자 한다. 코드를 작성하시오\n"
   ]
  },
  {
   "cell_type": "code",
   "execution_count": 11,
   "metadata": {},
   "outputs": [],
   "source": [
    "df1 = pd.DataFrame({\"ID\":[25,27,30,35],\"READ\":[350,425,475,375],\n",
    "                    \"MATH\":[425,375,485,400],\"GRADE\":[7,8,8,9]})\n",
    "df2 = pd.DataFrame({\"ID\":[20,33,37],\"READ\":[250,325,300],\n",
    "                    \"MATH\":[300,225,375],\"GRADE\":[7,9,9]})\n",
    "\n",
    "new_data = pd.concat([df1,df2],ignore_index=True)\n",
    "\n",
    "new_xlsx = new_data.to_excel(\"new_xlsx.xlsx\", index=False)"
   ]
  },
  {
   "attachments": {},
   "cell_type": "markdown",
   "metadata": {},
   "source": [
    "## 문제3\n",
    "다음은 한 도시의 20개 중,고교를 대상으로 조사한 흡연율 자료이다. 도시와 농촌별에 따른 남여 평균 흡연율을 확인할 수 있는 데이터 피벗테이블로 구성하시오."
   ]
  },
  {
   "cell_type": "code",
   "execution_count": 19,
   "metadata": {},
   "outputs": [
    {
     "data": {
      "text/html": [
       "<div>\n",
       "<style scoped>\n",
       "    .dataframe tbody tr th:only-of-type {\n",
       "        vertical-align: middle;\n",
       "    }\n",
       "\n",
       "    .dataframe tbody tr th {\n",
       "        vertical-align: top;\n",
       "    }\n",
       "\n",
       "    .dataframe thead th {\n",
       "        text-align: right;\n",
       "    }\n",
       "</style>\n",
       "<table border=\"1\" class=\"dataframe\">\n",
       "  <thead>\n",
       "    <tr style=\"text-align: right;\">\n",
       "      <th>구성</th>\n",
       "      <th>남</th>\n",
       "      <th>여</th>\n",
       "    </tr>\n",
       "    <tr>\n",
       "      <th>지역</th>\n",
       "      <th></th>\n",
       "      <th></th>\n",
       "    </tr>\n",
       "  </thead>\n",
       "  <tbody>\n",
       "    <tr>\n",
       "      <th>농촌</th>\n",
       "      <td>0.745</td>\n",
       "      <td>0.463333</td>\n",
       "    </tr>\n",
       "    <tr>\n",
       "      <th>도시</th>\n",
       "      <td>0.792</td>\n",
       "      <td>0.507500</td>\n",
       "    </tr>\n",
       "  </tbody>\n",
       "</table>\n",
       "</div>"
      ],
      "text/plain": [
       "구성      남         여\n",
       "지역                 \n",
       "농촌  0.745  0.463333\n",
       "도시  0.792  0.507500"
      ]
     },
     "execution_count": 19,
     "metadata": {},
     "output_type": "execute_result"
    }
   ],
   "source": [
    "data=pd.read_excel(\"https://data.hossam.kr/test/q3.xlsx\")\n",
    "\n",
    "pivot = pd.pivot_table(data,\n",
    "                    index = '지역',\n",
    "                    columns='구성',\n",
    "                    values='흡연율',\n",
    "                    aggfunc='mean')\n",
    "pivot.drop(\"공학\",axis=1)"
   ]
  },
  {
   "attachments": {},
   "cell_type": "markdown",
   "metadata": {},
   "source": [
    "## 문제4\n",
    "\n",
    "다음은 제주도 남녀 대학생의 개인정보 관리방법에 관한 설문조사 결과이다. 자료를 직접 입력하고 남녀별 메모의 종류별로 비율을 확인할 수 있는 데이터를 구성하여라"
   ]
  },
  {
   "cell_type": "code",
   "execution_count": 31,
   "metadata": {},
   "outputs": [
    {
     "data": {
      "text/html": [
       "<div>\n",
       "<style scoped>\n",
       "    .dataframe tbody tr th:only-of-type {\n",
       "        vertical-align: middle;\n",
       "    }\n",
       "\n",
       "    .dataframe tbody tr th {\n",
       "        vertical-align: top;\n",
       "    }\n",
       "\n",
       "    .dataframe thead th {\n",
       "        text-align: right;\n",
       "    }\n",
       "</style>\n",
       "<table border=\"1\" class=\"dataframe\">\n",
       "  <thead>\n",
       "    <tr style=\"text-align: right;\">\n",
       "      <th>메모 종류</th>\n",
       "      <th>1</th>\n",
       "      <th>2</th>\n",
       "      <th>3</th>\n",
       "      <th>All</th>\n",
       "    </tr>\n",
       "    <tr>\n",
       "      <th>성별(sex)</th>\n",
       "      <th></th>\n",
       "      <th></th>\n",
       "      <th></th>\n",
       "      <th></th>\n",
       "    </tr>\n",
       "  </thead>\n",
       "  <tbody>\n",
       "    <tr>\n",
       "      <th>남</th>\n",
       "      <td>0.133333</td>\n",
       "      <td>0.266667</td>\n",
       "      <td>0.100000</td>\n",
       "      <td>0.5</td>\n",
       "    </tr>\n",
       "    <tr>\n",
       "      <th>여</th>\n",
       "      <td>0.066667</td>\n",
       "      <td>0.400000</td>\n",
       "      <td>0.033333</td>\n",
       "      <td>0.5</td>\n",
       "    </tr>\n",
       "    <tr>\n",
       "      <th>All</th>\n",
       "      <td>0.200000</td>\n",
       "      <td>0.666667</td>\n",
       "      <td>0.133333</td>\n",
       "      <td>1.0</td>\n",
       "    </tr>\n",
       "  </tbody>\n",
       "</table>\n",
       "</div>"
      ],
      "text/plain": [
       "메모 종류           1         2         3  All\n",
       "성별(sex)                                   \n",
       "남        0.133333  0.266667  0.100000  0.5\n",
       "여        0.066667  0.400000  0.033333  0.5\n",
       "All      0.200000  0.666667  0.133333  1.0"
      ]
     },
     "execution_count": 31,
     "metadata": {},
     "output_type": "execute_result"
    }
   ],
   "source": [
    "df =pd.read_excel(\"https://data.hossam.kr/test/q4.xlsx\")\n",
    "\n",
    "data = pd.DataFrame({\"학생(ID)\":[1,2,3,4,5,6,7,8,9,10,11,12,13,14,15,16,17,18,19,20,21,22,23,24,25,26,27,28,29,30],\n",
    "\"성별(sex)\":[\"남\",\"남\",\"남\",\"남\",\"남\",\"남\",\"남\",\"남\",\"남\",\"남\",\"남\",\"남\",\"남\",\"남\",\"남\",\"여\",\"여\",\"여\",\"여\",\"여\",\"여\",\"여\",\"여\",\"여\",\"여\",\"여\",\"여\",\"여\",\"여\",\"여\"],\n",
    "\"메모 종류\":[3,2,2,1,2,3,2,2,1,1,2,3,2,1,2,2,1,2,3,2,2,2,2,2,2,2,2,2,1,2]})\n",
    "\n",
    "pd.crosstab(index=data[\"성별(sex)\"],\n",
    "            columns=data['메모 종류'],\n",
    "            normalize = True,\n",
    "            margins = True)"
   ]
  },
  {
   "cell_type": "code",
   "execution_count": null,
   "metadata": {},
   "outputs": [],
   "source": []
  }
 ],
 "metadata": {
  "kernelspec": {
   "display_name": "Python 3",
   "language": "python",
   "name": "python3"
  },
  "language_info": {
   "codemirror_mode": {
    "name": "ipython",
    "version": 3
   },
   "file_extension": ".py",
   "mimetype": "text/x-python",
   "name": "python",
   "nbconvert_exporter": "python",
   "pygments_lexer": "ipython3",
   "version": "3.11.3"
  },
  "orig_nbformat": 4
 },
 "nbformat": 4,
 "nbformat_minor": 2
}

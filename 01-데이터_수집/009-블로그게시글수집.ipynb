{
 "cells": [
  {
   "cell_type": "code",
   "execution_count": 1,
   "metadata": {},
   "outputs": [],
   "source": [
    "# 필요한 모듈 설치\n",
    "import requests\n",
    "\n",
    "from bs4 import BeautifulSoup"
   ]
  },
  {
   "cell_type": "code",
   "execution_count": null,
   "metadata": {},
   "outputs": [],
   "source": [
    "\n",
    "\n",
    "\n"
   ]
  },
  {
   "cell_type": "code",
   "execution_count": 6,
   "metadata": {},
   "outputs": [],
   "source": [
    "## 접속객체 생성\n",
    "\n",
    "session=requests.Session()\n",
    "\n",
    "## 접속객체에 header 정보 삽입\n",
    "userAgent = \"Mozilla/5.0 (Windows NT 10.0; Win64; x64) AppleWebKit/537.36 (KHTML, like Gecko) Chrome/114.0.0.0 Safari/537.36\"\n",
    "\n",
    "\n",
    "session.headers.update({\n",
    "    \"Referer\": \"\",\n",
    "    \"User-Agent\": userAgent    \n",
    "})"
   ]
  },
  {
   "cell_type": "code",
   "execution_count": 7,
   "metadata": {},
   "outputs": [],
   "source": [
    "# 수집할 컨텐츠가 있는 웹페이지 주소\n",
    "\n",
    "url = \"https://data.hossam.kr/sample.html\""
   ]
  },
  {
   "cell_type": "code",
   "execution_count": 8,
   "metadata": {},
   "outputs": [],
   "source": [
    "## 접속객체를 ㅌㅇ해 api접속\n",
    "\n",
    "r= session.get(url)\n",
    "# 접속에 실패했을 때 \n",
    "\n",
    "if r.status_code!=200 :\n",
    "    # 200이 아니면 에러코드와 에러메세지 출력\n",
    "    msg = \"[%d Error] %s 에러가 발생함\" % {r.status_code,r.reason}\n",
    "    # 에러를 강제로 생성시킨다.\n",
    "    raise Exception(msg)\n"
   ]
  },
  {
   "cell_type": "code",
   "execution_count": 9,
   "metadata": {},
   "outputs": [
    {
     "data": {
      "text/plain": [
       "<!DOCTYPE html>\n",
       "\n",
       "<html lang=\"en\">\n",
       "<head>\n",
       "<meta charset=\"utf-8\"/>\n",
       "<meta content=\"width=device-width, initial-scale=1.0\" name=\"viewport\"/>\n",
       "<title>Document</title>\n",
       "<style>\n",
       "        /* HTML 태그 방식 */\n",
       "        h1 { color: #f0f; }\n",
       "        h2 { color: #06f; }\n",
       "\n",
       "        /** Class 방식 */\n",
       "        .myclass { color: #f00; }\n",
       "\n",
       "        /** id 방식 */\n",
       "        #myid { color: #f60; }\n",
       "\n",
       "        /** 자식 선택자  */\n",
       "        .syllabus > li > ol > li {\n",
       "            text-decoration: underline;\n",
       "        }\n",
       "\n",
       "        /** 자손 선택자 */\n",
       "        .syllabus ol {\n",
       "            font-weight: bold;\n",
       "        }\n",
       "\n",
       "        .part1 {\n",
       "            background-color: #eeeeee;\n",
       "        }\n",
       "\n",
       "        .part2 {\n",
       "            background-color: #d5d5d5;\n",
       "        }\n",
       "\n",
       "        /** 특정 대상을 구체적으로 명시  */\n",
       "        div.sub.part1 {\n",
       "            border: 1px dotted #000;\n",
       "        }\n",
       "\n",
       "        div.sub.part2#hello {\n",
       "            border: 1px solid #555;\n",
       "        }\n",
       "\n",
       "        /** 특정 속성을 갖고 있는 요소  */\n",
       "        a[href] {\n",
       "            font-size: 20px;\n",
       "        }\n",
       "\n",
       "        /** 특정 속성 값에 대한 적용  */\n",
       "        a[href='#'] {\n",
       "            color: green;\n",
       "        }\n",
       "    </style>\n",
       "</head>\n",
       "<body>\n",
       "<h1>Hello World</h1>\n",
       "<a>link0</a>\n",
       "<a href=\"#\">link1</a>\n",
       "<a href=\"https://www.naver.com\">link2</a>\n",
       "<h2 id=\"myid\">Python</h2>\n",
       "<div class=\"sub part1\">\n",
       "<ul class=\"syllabus\">\n",
       "<li>변수와 데이터 타입</li>\n",
       "<li class=\"myclass\">연산자</li>\n",
       "<li>\n",
       "                연속성 자료형\n",
       "                <ol>\n",
       "<li>리스트(list)</li>\n",
       "<li>딕셔너리(dict)</li>\n",
       "<li>집합(set)</li>\n",
       "</ol>\n",
       "</li>\n",
       "<li>프로그램 흐름제어</li>\n",
       "<li>함수</li>\n",
       "</ul>\n",
       "</div>\n",
       "<h2>Data Analysis</h2>\n",
       "<div class=\"sub part2\" id=\"hello\">\n",
       "<ul>\n",
       "<li>데이터 수집</li>\n",
       "<li class=\"myclass\">데이터 전처리</li>\n",
       "<li>\n",
       "                탐색적 데이터 분석\n",
       "                <ol class=\"myclass\">\n",
       "<li>기초통계</li>\n",
       "<li>데이터 시각화</li>\n",
       "</ol>\n",
       "</li>\n",
       "<li>확증적 데이터 분석</li>\n",
       "<li>데이터 마이닝</li>\n",
       "</ul>\n",
       "</div>\n",
       "</body>\n",
       "</html>"
      ]
     },
     "execution_count": 9,
     "metadata": {},
     "output_type": "execute_result"
    }
   ],
   "source": [
    "\n",
    "# 인코딩 형식 지정\n",
    "r.encoding = 'utf-8'\n",
    "\n",
    "## html파일 여는거인듯\n",
    "\n",
    "soup=BeautifulSoup(r.text)\n",
    "soup"
   ]
  },
  {
   "attachments": {},
   "cell_type": "markdown",
   "metadata": {},
   "source": [
    "#### soup 객체로 부터 원하는 부분 추출하기\n",
    "\n",
    "1) HTML 태그에 의한 추출\n"
   ]
  },
  {
   "cell_type": "code",
   "execution_count": 12,
   "metadata": {},
   "outputs": [
    {
     "data": {
      "text/plain": [
       "[<h1>Hello World</h1>]"
      ]
     },
     "execution_count": 12,
     "metadata": {},
     "output_type": "execute_result"
    }
   ],
   "source": [
    "test1 = soup.select('h1')\n",
    "test1"
   ]
  },
  {
   "attachments": {},
   "cell_type": "markdown",
   "metadata": {},
   "source": [
    "리스트 유형이므로, 인덱스를 통한 접근 가능\n"
   ]
  },
  {
   "cell_type": "code",
   "execution_count": 16,
   "metadata": {},
   "outputs": [
    {
     "data": {
      "text/plain": [
       "<h1>Hello World</h1>"
      ]
     },
     "execution_count": 16,
     "metadata": {},
     "output_type": "execute_result"
    }
   ],
   "source": [
    "h1 = test1[0]\n",
    "h1"
   ]
  },
  {
   "attachments": {},
   "cell_type": "markdown",
   "metadata": {},
   "source": [
    "추출한 태그에서 내용만 추출 "
   ]
  },
  {
   "attachments": {},
   "cell_type": "markdown",
   "metadata": {},
   "source": [
    "+ 추출한 내용에서 앞뒤 공백제거는 필수"
   ]
  },
  {
   "cell_type": "code",
   "execution_count": 17,
   "metadata": {},
   "outputs": [
    {
     "data": {
      "text/plain": [
       "'Hello World'"
      ]
     },
     "execution_count": 17,
     "metadata": {},
     "output_type": "execute_result"
    }
   ],
   "source": [
    "result = h1.text.strip()\n",
    "result"
   ]
  },
  {
   "attachments": {},
   "cell_type": "markdown",
   "metadata": {},
   "source": [
    "2. class에 의한 추출\n"
   ]
  },
  {
   "cell_type": "code",
   "execution_count": 18,
   "metadata": {},
   "outputs": [
    {
     "data": {
      "text/plain": [
       "[<li class=\"myclass\">연산자</li>,\n",
       " <li class=\"myclass\">데이터 전처리</li>,\n",
       " <ol class=\"myclass\">\n",
       " <li>기초통계</li>\n",
       " <li>데이터 시각화</li>\n",
       " </ol>]"
      ]
     },
     "execution_count": 18,
     "metadata": {},
     "output_type": "execute_result"
    }
   ],
   "source": [
    "test2 = soup.select(\".myclass\")\n",
    "test2"
   ]
  },
  {
   "cell_type": "code",
   "execution_count": 20,
   "metadata": {},
   "outputs": [
    {
     "name": "stdout",
     "output_type": "stream",
     "text": [
      "0번째 요소 : 연산자\n",
      "1번째 요소 : 데이터 전처리\n",
      "2번째 요소 : 기초통계\n",
      "데이터 시각화\n"
     ]
    }
   ],
   "source": [
    "## enumerate() 인덱스와 값으로 이루어진 튜플로 만들어준다\n",
    "\n",
    "for i, v in enumerate(test2) : \n",
    "    # 추출한 요소가 하위 태그를 포함하는 경우 그 안의 텍스트만 일괄 추출\n",
    "    print(\"%d번째 요소 : %s\" % (i,v.text.strip()))"
   ]
  },
  {
   "attachments": {},
   "cell_type": "markdown",
   "metadata": {},
   "source": [
    "하위요소 추출하기\n",
    "\n",
    "\n",
    "select()  메서드로 추출한 요소를 활용하여 그 하위요소를 추가적으로 추출할 수 있다"
   ]
  },
  {
   "cell_type": "code",
   "execution_count": 24,
   "metadata": {},
   "outputs": [
    {
     "data": {
      "text/plain": [
       "[<li>기초통계</li>, <li>데이터 시각화</li>]"
      ]
     },
     "execution_count": 24,
     "metadata": {},
     "output_type": "execute_result"
    }
   ],
   "source": [
    "li = test2[2].select('li')\n",
    "li"
   ]
  },
  {
   "cell_type": "code",
   "execution_count": 25,
   "metadata": {},
   "outputs": [
    {
     "name": "stdout",
     "output_type": "stream",
     "text": [
      "기초통계\n",
      "데이터 시각화\n"
     ]
    }
   ],
   "source": [
    "for i in li :\n",
    "    print(i.text.strip())"
   ]
  },
  {
   "attachments": {},
   "cell_type": "markdown",
   "metadata": {},
   "source": [
    "3. id에 의한 추출\n",
    "\n",
    " - id값은 해당 웹페이지 안에 단 하나만 존재하기 때문에 반복문을 적용할 필요는 없다."
   ]
  },
  {
   "cell_type": "code",
   "execution_count": 26,
   "metadata": {},
   "outputs": [
    {
     "data": {
      "text/plain": [
       "[<h2 id=\"myid\">Python</h2>]"
      ]
     },
     "execution_count": 26,
     "metadata": {},
     "output_type": "execute_result"
    }
   ],
   "source": [
    "test3 = soup.select('#myid')\n",
    "test3"
   ]
  },
  {
   "cell_type": "code",
   "execution_count": 27,
   "metadata": {},
   "outputs": [
    {
     "name": "stdout",
     "output_type": "stream",
     "text": [
      "Python\n"
     ]
    }
   ],
   "source": [
    "print(test3[0].text.strip())"
   ]
  },
  {
   "cell_type": "code",
   "execution_count": null,
   "metadata": {},
   "outputs": [],
   "source": []
  },
  {
   "cell_type": "code",
   "execution_count": null,
   "metadata": {},
   "outputs": [],
   "source": []
  }
 ],
 "metadata": {
  "kernelspec": {
   "display_name": "Python 3",
   "language": "python",
   "name": "python3"
  },
  "language_info": {
   "codemirror_mode": {
    "name": "ipython",
    "version": 3
   },
   "file_extension": ".py",
   "mimetype": "text/x-python",
   "name": "python",
   "nbconvert_exporter": "python",
   "pygments_lexer": "ipython3",
   "version": "3.11.3"
  },
  "orig_nbformat": 4
 },
 "nbformat": 4,
 "nbformat_minor": 2
}

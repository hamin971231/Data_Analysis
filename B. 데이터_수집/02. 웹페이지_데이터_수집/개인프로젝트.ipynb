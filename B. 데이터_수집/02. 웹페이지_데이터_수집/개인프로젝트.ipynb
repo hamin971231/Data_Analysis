{
 "cells": [
  {
   "attachments": {},
   "cell_type": "markdown",
   "metadata": {},
   "source": [
    "# 개인프로젝트\n",
    "###  #01.프로젝트 개요"
   ]
  },
  {
   "attachments": {},
   "cell_type": "markdown",
   "metadata": {},
   "source": [
    "## 관심사\n",
    "- 관심있는 브랜드의 남성 스포츠 용품에 대한 정보 수집 : 미즈노, 아디다스 \n",
    "\n",
    "\n",
    "        미즈노 남성 스포츠용품 웹페이지 url : https://kor.mizuno.com/kr-kr/044/?start=0&sz=12\n",
    "\n",
    "        아디다스 남성 스포츠 용품 웹페이지 url : https://www.adidas.co.kr/men-performance?start=0\n",
    "\n",
    "\n",
    "- 미즈노 크롤링 하나 데이터프레임+ 아디다스 크롤링 데이터 프레임 하나로  합치기 \n"
   ]
  },
  {
   "cell_type": "code",
   "execution_count": 2,
   "metadata": {},
   "outputs": [],
   "source": [
    "# 필요한 모듈 참조\n",
    "import requests\n",
    "from bs4 import BeautifulSoup\n",
    "from pandas import DataFrame"
   ]
  },
  {
   "attachments": {},
   "cell_type": "markdown",
   "metadata": {},
   "source": [
    "#### #02.웹 페이지 코드 수집 - 미즈노부터 ㄱㄱ \n"
   ]
  },
  {
   "attachments": {},
   "cell_type": "markdown",
   "metadata": {},
   "source": [
    "미즈노는 각 페이지 별로 상품 수집해서 그 전에는 이미지링크 + 상품 상세보기 링크 + 상품이름 -> 링크를 타고 들어가자 \n",
    "그다음에 정가, 할인가 + 리뷰 수 "
   ]
  },
  {
   "cell_type": "code",
   "execution_count": 3,
   "metadata": {},
   "outputs": [],
   "source": [
    "userAgent = \"Mozilla/5.0 (Windows NT 10.0; Win64; x64) AppleWebKit/537.36 (KHTML, like Gecko) Chrome/114.0.0.0 Safari/537.36\"\n",
    "\n",
    "## 접속객체 생성\n",
    "session=requests.Session()\n",
    "\n",
    "# 접속객체에 header정보 삽입\n",
    "session.headers.update({\n",
    "    \"Referer\": \"\",\n",
    "    \"User-Agent\": userAgent,\n",
    "\n",
    "})\n",
    "\n"
   ]
  },
  {
   "cell_type": "code",
   "execution_count": 11,
   "metadata": {},
   "outputs": [
    {
     "name": "stdout",
     "output_type": "stream",
     "text": [
      "[0, 12, 24, 36, 48, 60, 72, 84, 96, 108, 120, 132, 144, 156, 168, 180, 192, 204, 216, 228, 240, 252, 264, 276, 288, 300, 312, 324, 336, 348, 360, 372, 384, 396, 408, 420]\n"
     ]
    }
   ],
   "source": [
    "\n",
    "## https://kor.mizuno.com/kr-kr/044/\n",
    "## https://kor.mizuno.com/kr-kr/044/?start=0&sz=12\n",
    "\n",
    "## 페이지마다 url ㄱ밧이 12씩 늘어남\n",
    "mizuno_num =[]\n",
    "for i in range(0,36) :\n",
    "    mizuno_num.append(i*12)\n",
    "print(mizuno_num)\n",
    "\n"
   ]
  },
  {
   "attachments": {},
   "cell_type": "markdown",
   "metadata": {},
   "source": [
    "#### #03. 응답결과로부터 내용 추출하기"
   ]
  },
  {
   "cell_type": "code",
   "execution_count": 6,
   "metadata": {},
   "outputs": [
    {
     "name": "stdout",
     "output_type": "stream",
     "text": [
      "https://kor.mizuno.com/kr-kr/morelia+sala+japan+tf_q1gb2100/KRQ1GB2100.html?dwvar_KRQ1GB2100_color=09&cgid=044\n",
      "https://kor.mizuno.com/kr-kr/mizuno+%CE%B1lpha+japan_p1ga2360/KRP1GA2360.html?dwvar_KRP1GA2360_color=64&cgid=044\n",
      "https://kor.mizuno.com/kr-kr/mizuno+%CE%B1lpha+japan+ag_p1ga2361/KRP1GA2361.html?dwvar_KRP1GA2361_color=64&cgid=044\n",
      "https://kor.mizuno.com/kr-kr/mizuno+%CE%B1+elite+as_p1gd2362/KRP1GD2362.html?dwvar_KRP1GD2362_color=64&cgid=044\n",
      "https://kor.mizuno.com/kr-kr/wave+rider+10_d1ga2104/KRD1GA2104.html?dwvar_KRD1GA2104_color=10&cgid=044\n",
      "https://kor.mizuno.com/kr-kr/mizuno+alpha+sr4+japan_p1ga2399/KRP1GA2399.html?dwvar_KRP1GA2399_color=04&cgid=044\n",
      "https://kor.mizuno.com/kr-kr/morelia+neo+iii+%CE%B2+sr4+japan_p1ga2398/KRP1GA2398.html?dwvar_KRP1GA2398_color=04&cgid=044\n",
      "https://kor.mizuno.com/kr-kr/morelia+neo+iii+sr4+japan_p1ga2397/KRP1GA2397.html?dwvar_KRP1GA2397_color=04&cgid=044\n",
      "https://kor.mizuno.com/kr-kr/graphic+t-shirts_32ya3156/KR32YA3156.html?dwvar_KR32YA3156_color=01&cgid=044\n",
      "https://kor.mizuno.com/kr-kr/graphic+t-shirts_32ya3158/KR32YA3158.html?dwvar_KR32YA3158_color=01&cgid=044\n",
      "https://kor.mizuno.com/kr-kr/graphic+t-shirts_32ya3157/KR32YA3157.html?dwvar_KR32YA3157_color=01&cgid=044\n",
      "https://kor.mizuno.com/kr-kr/3.5+cut+woven+shorts_32yd3155/KR32YD3155.html?dwvar_KR32YD3155_color=09&cgid=044\n"
     ]
    }
   ],
   "source": [
    "## 수집할 정보를 저장할 전체  list\n",
    "## for 문이랑 url 리스트 돌리는 거 일단 나중에 ㄱㄱ\n",
    "\n",
    "porudct_result = [] \n",
    "\n",
    "## 미즈노 빈 list\n",
    "mizuno_result =[]\n",
    "## 페이지 수 만큼 반복 \n",
    "## 수집할 컨텐츠가 있는 웹페이지의 주소 \n",
    "url = \"https://kor.mizuno.com/kr-kr/044/?start=0&sz=12\" \n",
    "    \n",
    "## 생성한 접속 객체를 활용해서 접속\n",
    "r = session.get(url)\n",
    "\n",
    "## 에러 발생시 예외처리\n",
    "if r.status_code!=200 :\n",
    "    msg = \"[%d Error] %s 에러가 발생함\" % (r.status_code,r.reason)\n",
    "    raise Exception(msg)\n",
    "    \n",
    "## 인코딩 형식 지정\n",
    "r.encoding = 'utf-8'\n",
    "\n",
    "## 전체 HTML 파일 \n",
    "soup = BeautifulSoup(r.text)\n",
    "\n",
    "mizuno_list = soup.select(\".search-result-content\")\n",
    "# mizuno_list\n",
    "#이미지링크 + 상품 상세보기 링크 + 상품이름\n",
    "for mizuno in mizuno_list :\n",
    "    # print(mizuno)\n",
    "    ## 상품이름 크롤링\n",
    "    ## 이미지 링크  mizuno_imageEl\n",
    "    mizuno_i = mizuno.select(\".product-tile > .tile-toparea\")\n",
    "    for i in mizuno_i :\n",
    "        mizuno_imageEl = i.select(\".product-image > .thumb-link > img\")\n",
    "        # print(mizuno_imageEl[0].attrs['src'])\n",
    "        if mizuno_imageEl and \"src\" in mizuno_imageEl[0].attrs:\n",
    "            mizuno_image = mizuno_imageEl[0].attrs['src']\n",
    "        else : \n",
    "            mizuno_image =None\n",
    "        # print(mizuno_image)\n",
    "    \n",
    "    ## 상품 상세 보기 링크  product-name-and-pricing\n",
    "    mizuno_l = mizuno.select(\".product-tile > .product-name-and-pricing \")\n",
    "    for l in mizuno_l :\n",
    "        mizuno_detailEl = l.select(\".product-name > .name-link\")\n",
    "        mizuno_detail = mizuno_detailEl[0].attrs['href']\n",
    "        # print(mizuno_detail)\n",
    "\n",
    "    \n",
    "\n"
   ]
  },
  {
   "cell_type": "code",
   "execution_count": null,
   "metadata": {},
   "outputs": [],
   "source": []
  },
  {
   "cell_type": "code",
   "execution_count": null,
   "metadata": {},
   "outputs": [],
   "source": []
  }
 ],
 "metadata": {
  "kernelspec": {
   "display_name": "Python 3",
   "language": "python",
   "name": "python3"
  },
  "language_info": {
   "codemirror_mode": {
    "name": "ipython",
    "version": 3
   },
   "file_extension": ".py",
   "mimetype": "text/x-python",
   "name": "python",
   "nbconvert_exporter": "python",
   "pygments_lexer": "ipython3",
   "version": "3.11.3"
  },
  "orig_nbformat": 4
 },
 "nbformat": 4,
 "nbformat_minor": 2
}

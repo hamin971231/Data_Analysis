{
 "cells": [
  {
   "cell_type": "markdown",
   "metadata": {},
   "source": [
    "# 변수, 텐서, 계산그래프\n",
    "\n",
    "## #01. 작업준비\n",
    "\n",
    "패키지 가져오기"
   ]
  },
  {
   "cell_type": "code",
   "execution_count": 3,
   "metadata": {},
   "outputs": [],
   "source": [
    "import tensorflow as tf\n",
    "import numpy as np"
   ]
  },
  {
   "cell_type": "markdown",
   "metadata": {},
   "source": [
    "## #02. 변수의 이해\n",
    "\n",
    "학습을 위한 가설이 있다면\n",
    "\n",
    "$$\n",
    "f(x) = W * x + b\n",
    "$$\n",
    "입력데이터가 x일 때 W와 b는 텐서플로우가 학습을 통해 스스로 구해야 하는 값이다.\n",
    "\n",
    "이를 변수라하고, 벼수형은 variable타입의 객체로 생성된다.\n",
    "\n",
    "변수는 생성할 때 그 값에따라 압묵적 타입과 명시적 타입으로 구분된다."
   ]
  },
  {
   "cell_type": "markdown",
   "metadata": {},
   "source": [
    "### 암묵적 타입의 변수 생성하기\n"
   ]
  },
  {
   "cell_type": "code",
   "execution_count": 2,
   "metadata": {},
   "outputs": [
    {
     "name": "stdout",
     "output_type": "stream",
     "text": [
      "123\n",
      "12300\n"
     ]
    }
   ],
   "source": [
    "x = tf.Variable(123)\n",
    "tf.print(x)\n",
    "y= tf.Variable(x*100)\n",
    "tf.print(y)"
   ]
  },
  {
   "cell_type": "markdown",
   "metadata": {},
   "source": [
    "### 명시적 타입의 변수 생성하기\n",
    "tf.Variable() 함수에 데이터 타입을 의미하는 dtype파라미터 전달"
   ]
  },
  {
   "cell_type": "code",
   "execution_count": 4,
   "metadata": {},
   "outputs": [
    {
     "name": "stdout",
     "output_type": "stream",
     "text": [
      "123\n"
     ]
    }
   ],
   "source": [
    "x = tf.Variable(123,dtype=tf.float32)\n",
    "tf.print(x)"
   ]
  },
  {
   "cell_type": "markdown",
   "metadata": {},
   "source": [
    "### 데이터 타입 종류"
   ]
  },
  {
   "cell_type": "markdown",
   "metadata": {},
   "source": [
    "\n",
    "- tf.float16: 16-bit half-precision floating-point.\n",
    "- tf.float32: 32-bit single-precision floating-point.\n",
    "- tf.float64: 64-bit double-precision floating-point.\n",
    "- tf.bfloat16: 16-bit truncated floating-point.\n",
    "- tf.complex64: 64-bit single-precision complex.\n",
    "- tf.complex128: 128-bit double-precision complex.\n",
    "- tf.int8: 8-bit signed integer.\n",
    "- tf.uint8: 8-bit unsigned integer.\n",
    "- tf.uint16: 16-bit unsigned integer.\n",
    "- tf.uint32: 32-bit unsigned integer.\n",
    "- tf.uint64: 64-bit unsigned integer.\n",
    "- tf.int16: 16-bit signed integer.\n",
    "- tf.int32: 32-bit signed integer.\n",
    "- tf.int64: 64-bit signed integer.\n",
    "- tf.bool: Boolean.\n",
    "- tf.string: String.\n",
    "- tf.qint8: Quantized 8-bit signed integer.\n",
    "- tf.quint8: Quantized 8-bit unsigned integer.\n",
    "- tf.qint16: Quantized 16-bit signed integer.\n",
    "- tf.quint16: Quantized 16-bit unsigned integer.\n",
    "- tf.qint32: Quantized 32-bit signed integer.\n",
    "- tf.resource: Handle to a mutable resource.\n",
    "- tf.variant: Values of arbitrary types."
   ]
  },
  {
   "cell_type": "code",
   "execution_count": null,
   "metadata": {},
   "outputs": [],
   "source": []
  },
  {
   "cell_type": "markdown",
   "metadata": {},
   "source": [
    "## #03. 텐서\n",
    "\n",
    "텐서란 배열의 집합을 의미하며 배열의 차수에 따라 불리는 이름이 바뀐다.\n",
    "\n",
    "파이선에서는 텐서는 numpy array로 표현한다.\n",
    "| 이름 | 설명 |\n",
    "|--|--|\n",
    "| Tensor | 수학적인 개념으로 데이터의 배열을 의미. |\n",
    "| Rank | 텐서의 차원. numpy의 shape으로 확인 가능 |\n",
    "\n",
    "### 배열의 종류\n",
    "\n",
    "| Rank | Type | 설명 | Example |\n",
    "| -- | -- | -- | -- |  \n",
    "| 0 | scalar | 랭크가 0인 배열 |  [1] |\n",
    "| 1 | vector | 원소가 2개 이상인 1차 배열 | [1,2] |\n",
    "| 2 | matrix | 2차 배열 | [[1,2],[2,3]] |\n",
    "| 3 | tensor | 3차 배열 |  [[[1,2],[2,3]],[[1,2],[2,3]]] |\n",
    "| n | n-tansor | n차 배열 | |\n"
   ]
  },
  {
   "cell_type": "markdown",
   "metadata": {},
   "source": [
    "### 랭크가 0인 배열 -> 스칼라"
   ]
  },
  {
   "cell_type": "code",
   "execution_count": 6,
   "metadata": {},
   "outputs": [
    {
     "name": "stdout",
     "output_type": "stream",
     "text": [
      "()\n"
     ]
    },
    {
     "data": {
      "text/plain": [
       "array(100)"
      ]
     },
     "execution_count": 6,
     "metadata": {},
     "output_type": "execute_result"
    }
   ],
   "source": [
    "a= 100\n",
    "ts1 = np.array(a)\n",
    "\n",
    "print(ts1.shape)\n",
    "ts1"
   ]
  },
  {
   "cell_type": "markdown",
   "metadata": {},
   "source": [
    "### 랭크가 1인 배열 -> 백터 "
   ]
  },
  {
   "cell_type": "code",
   "execution_count": 8,
   "metadata": {},
   "outputs": [
    {
     "name": "stdout",
     "output_type": "stream",
     "text": [
      "(3,)\n"
     ]
    },
    {
     "data": {
      "text/plain": [
       "array([1, 2, 3])"
      ]
     },
     "execution_count": 8,
     "metadata": {},
     "output_type": "execute_result"
    }
   ],
   "source": [
    "b = [1,2,3]\n",
    "ts2 = np.array(b)\n",
    "print(ts2.shape)\n",
    "ts2"
   ]
  },
  {
   "cell_type": "markdown",
   "metadata": {},
   "source": [
    "### 랭크가 2인 배열 -> 행렬"
   ]
  },
  {
   "cell_type": "code",
   "execution_count": 9,
   "metadata": {},
   "outputs": [
    {
     "name": "stdout",
     "output_type": "stream",
     "text": [
      "(2, 3)\n"
     ]
    },
    {
     "data": {
      "text/plain": [
       "array([[ 10,  20,  30],\n",
       "       [100, 200, 300]])"
      ]
     },
     "execution_count": 9,
     "metadata": {},
     "output_type": "execute_result"
    }
   ],
   "source": [
    "c = [ [10, 20, 30], [100, 200, 300] ]\n",
    "ts3 = np.array(c)\n",
    "print(ts3.shape)\n",
    "ts3"
   ]
  },
  {
   "cell_type": "markdown",
   "metadata": {},
   "source": [
    "### 랭크가 3인 배열 -> 텐서\n"
   ]
  },
  {
   "cell_type": "code",
   "execution_count": 12,
   "metadata": {},
   "outputs": [
    {
     "name": "stdout",
     "output_type": "stream",
     "text": [
      "(2, 2, 3)\n"
     ]
    },
    {
     "data": {
      "text/plain": [
       "array([[[-1, -2, -3],\n",
       "        [ 1,  2,  3]],\n",
       "\n",
       "       [[-1,  0,  1],\n",
       "        [ 1,  0, -1]]])"
      ]
     },
     "execution_count": 12,
     "metadata": {},
     "output_type": "execute_result"
    }
   ],
   "source": [
    "hello = [[-1,-2,-3],[1,2,3]]\n",
    "world = [[-1,0,1],[1,0,-1]]\n",
    "d= [hello,world]\n",
    "\n",
    "ts4 = np.array(d)\n",
    "print(ts4.shape)\n",
    "ts4"
   ]
  },
  {
   "cell_type": "markdown",
   "metadata": {},
   "source": [
    "## #03. 이진 그래프 (계산 그래프)\n",
    "\n",
    "\n",
    "- Computational Graph\n",
    "- 컴퓨터 공학에서 정의하는 노드와 엑지로 이루어진 자료구조\n",
    "- 텐서들이 계산 그래프 구조를 통해 노드에서 다른 노드로 이동\n",
    "- 텐서플로우 라이브러리는 그래프 구조를 먼저 정의하고, 정의한 그래프에서 실제 텐서들을 흘려보내도록 하는 디자인\n",
    "\n",
    "\n",
    "### 명시적 타입을 갖는 노드 정의\n",
    "print 함수로 출력할 경우 노드의 정보만 출력될 뿐 실제값이 출력 되지는 않는다.\n",
    "\n",
    "실제값을 확인하기 위해서는 tf.print()"
   ]
  },
  {
   "cell_type": "code",
   "execution_count": 13,
   "metadata": {},
   "outputs": [
    {
     "name": "stdout",
     "output_type": "stream",
     "text": [
      "tf.Tensor(3.0, shape=(), dtype=float32)\n",
      "3\n"
     ]
    }
   ],
   "source": [
    "node1 = tf.constant(3.0,dtype=tf.float32,name='hello')\n",
    "print(node1)\n",
    "tf.print(node1)"
   ]
  },
  {
   "cell_type": "markdown",
   "metadata": {},
   "source": [
    "### 암묵적 타입을 갖는 노드 정의 "
   ]
  },
  {
   "cell_type": "code",
   "execution_count": 14,
   "metadata": {},
   "outputs": [
    {
     "name": "stdout",
     "output_type": "stream",
     "text": [
      "tf.Tensor(4.0, shape=(), dtype=float32)\n",
      "4\n"
     ]
    }
   ],
   "source": [
    "node2 = tf.constant(4.0,name='world')\n",
    "print(node2)\n",
    "tf.print(node2)"
   ]
  },
  {
   "cell_type": "markdown",
   "metadata": {},
   "source": [
    "### 두개의 노드의 값을 더하는 연산을 수행하는 node3을 정의"
   ]
  },
  {
   "cell_type": "code",
   "execution_count": 15,
   "metadata": {},
   "outputs": [
    {
     "name": "stdout",
     "output_type": "stream",
     "text": [
      "tf.Tensor(7.0, shape=(), dtype=float32)\n",
      "7\n"
     ]
    }
   ],
   "source": [
    "node3 = tf.add(node1,node2)\n",
    "print(node3)\n",
    "tf.print(node3)"
   ]
  },
  {
   "cell_type": "code",
   "execution_count": null,
   "metadata": {},
   "outputs": [],
   "source": [
    "지금 머신러닝중에 회귀분석이랑 로지스틱 회귀분석 두개만하고 바로 텐서플로우로 넘어갔는데, "
   ]
  }
 ],
 "metadata": {
  "kernelspec": {
   "display_name": "Python 3",
   "language": "python",
   "name": "python3"
  },
  "language_info": {
   "codemirror_mode": {
    "name": "ipython",
    "version": 3
   },
   "file_extension": ".py",
   "mimetype": "text/x-python",
   "name": "python",
   "nbconvert_exporter": "python",
   "pygments_lexer": "ipython3",
   "version": "3.9.13"
  },
  "orig_nbformat": 4
 },
 "nbformat": 4,
 "nbformat_minor": 2
}

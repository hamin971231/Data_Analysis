{
 "cells": [
  {
   "cell_type": "markdown",
   "metadata": {},
   "source": [
    "# 데이터 분포\n",
    "\n",
    "변수를 몇 개의 구간으로 나누어 각 구간별로 몇 개의 데이터가 분포되어 있는지를 확인하는 것\n",
    "\n",
    "## #01. 도수분포\n",
    "\n",
    "수집된 자료를 쉽게 이해할 수 있도록 일목요연하게 정리된 표\n",
    "\n",
    "특정 항목 또는 특정 범위에 속하는 빈도수를 나타낸 표\n",
    "\n",
    "### 1. 주요 개념\n",
    "\n",
    "| 용어 | 의미 |\n",
    "|---|---|\n",
    "| 계급 (Class) | 자료가 취하는 전체 범위를 몇 개의 소집단(범주,구간)으로 나눈것\n",
    "| 도수/빈도 (Frequency) | 각 계급에 속하는 자료의 수 |\n",
    "| 상대도수 (Relative Frequency) | 도수를 전체 자료의 수, 즉 전체 도수로 나눈 비율(Proportion,Probability)<br/>상대도수를 모두 합하면, 1 이 됨 |\n",
    "| 도수분포표 (Frequency Table) | 데이터의 대략적인 분포 형태, 중심위치, 산포 등을 파악하기 위한 데이터정리 방법<br/>계급, 도수, 상대도수, 누적도수 등으로 구성 |\n",
    "\n",
    "도수 분포를 통해 얻을 수 있는 정보는 얻는 정보\t자료 분포의 특징 (집중성,대칭성 등)이며 잃는 정보는 자료 그 자체의 수치값이다.\n",
    "\n",
    "### 2. 도수분포표 예시\n",
    "\n",
    "연령대가 `28`, `30`, `31`, `33`, `35`, `41`, `42`가 있다면 데이터 구간을 `20초과 30이하`, `30초과 40이하`, `40초과 50이하`로 설정했을 때 빈도수는 1, 4, 2 합계 7로 표현한다\n",
    "\n",
    "#### 절대도수\n",
    "\n",
    "| 구간 | 도수 |\n",
    "|--|--|\n",
    "| `20초과 30이하` | 1 |\n",
    "| `30초과 40이하` | 4 |\n",
    "| `40초과 50이하` | 2 |\n",
    "| 합계 | 7 |\n",
    "\n",
    "#### 상대도수\n",
    "\n",
    "| 구간 | 도수 |\n",
    "|--|--|\n",
    "| `20초과 30이하` | 14.28 |\n",
    "| `30초과 40이하` | 57.14 |\n",
    "| `40초과 50이하` | 28.57 |\n",
    "| 합계 | 1 |\n",
    "\n",
    "## #02. 작업 준비\n",
    "\n",
    "### 1. 패키지 가져오기"
   ]
  },
  {
   "cell_type": "code",
   "execution_count": 79,
   "metadata": {},
   "outputs": [],
   "source": [
    "import sys\n",
    "import numpy as np\n",
    "import seaborn as sb\n",
    "from pandas import DataFrame, read_excel, melt\n",
    "from matplotlib import pyplot as plt"
   ]
  },
  {
   "cell_type": "markdown",
   "metadata": {},
   "source": [
    "### 2. 데이터 가져오기"
   ]
  },
  {
   "cell_type": "code",
   "execution_count": 61,
   "metadata": {},
   "outputs": [
    {
     "data": {
      "text/html": [
       "<div>\n",
       "<style scoped>\n",
       "    .dataframe tbody tr th:only-of-type {\n",
       "        vertical-align: middle;\n",
       "    }\n",
       "\n",
       "    .dataframe tbody tr th {\n",
       "        vertical-align: top;\n",
       "    }\n",
       "\n",
       "    .dataframe thead th {\n",
       "        text-align: right;\n",
       "    }\n",
       "</style>\n",
       "<table border=\"1\" class=\"dataframe\">\n",
       "  <thead>\n",
       "    <tr style=\"text-align: right;\">\n",
       "      <th></th>\n",
       "      <th>광고비(백만원)</th>\n",
       "      <th>매출액(억원)</th>\n",
       "    </tr>\n",
       "    <tr>\n",
       "      <th>월</th>\n",
       "      <th></th>\n",
       "      <th></th>\n",
       "    </tr>\n",
       "  </thead>\n",
       "  <tbody>\n",
       "    <tr>\n",
       "      <th>1월</th>\n",
       "      <td>2</td>\n",
       "      <td>100</td>\n",
       "    </tr>\n",
       "    <tr>\n",
       "      <th>2월</th>\n",
       "      <td>142</td>\n",
       "      <td>1690</td>\n",
       "    </tr>\n",
       "    <tr>\n",
       "      <th>3월</th>\n",
       "      <td>122</td>\n",
       "      <td>298</td>\n",
       "    </tr>\n",
       "    <tr>\n",
       "      <th>4월</th>\n",
       "      <td>130</td>\n",
       "      <td>390</td>\n",
       "    </tr>\n",
       "    <tr>\n",
       "      <th>5월</th>\n",
       "      <td>185</td>\n",
       "      <td>590</td>\n",
       "    </tr>\n",
       "    <tr>\n",
       "      <th>6월</th>\n",
       "      <td>121</td>\n",
       "      <td>200</td>\n",
       "    </tr>\n",
       "    <tr>\n",
       "      <th>7월</th>\n",
       "      <td>101</td>\n",
       "      <td>190</td>\n",
       "    </tr>\n",
       "    <tr>\n",
       "      <th>8월</th>\n",
       "      <td>199</td>\n",
       "      <td>460</td>\n",
       "    </tr>\n",
       "    <tr>\n",
       "      <th>9월</th>\n",
       "      <td>221</td>\n",
       "      <td>660</td>\n",
       "    </tr>\n",
       "    <tr>\n",
       "      <th>10월</th>\n",
       "      <td>139</td>\n",
       "      <td>350</td>\n",
       "    </tr>\n",
       "    <tr>\n",
       "      <th>11월</th>\n",
       "      <td>169</td>\n",
       "      <td>650</td>\n",
       "    </tr>\n",
       "    <tr>\n",
       "      <th>12월</th>\n",
       "      <td>237</td>\n",
       "      <td>880</td>\n",
       "    </tr>\n",
       "  </tbody>\n",
       "</table>\n",
       "</div>"
      ],
      "text/plain": [
       "     광고비(백만원)  매출액(억원)\n",
       "월                     \n",
       "1월          2      100\n",
       "2월        142     1690\n",
       "3월        122      298\n",
       "4월        130      390\n",
       "5월        185      590\n",
       "6월        121      200\n",
       "7월        101      190\n",
       "8월        199      460\n",
       "9월        221      660\n",
       "10월       139      350\n",
       "11월       169      650\n",
       "12월       237      880"
      ]
     },
     "execution_count": 61,
     "metadata": {},
     "output_type": "execute_result"
    }
   ],
   "source": [
    "df = read_excel('http://data.hossam.kr/D02/ad-sales.xlsx', index_col=\"월\")\n",
    "df"
   ]
  },
  {
   "cell_type": "markdown",
   "metadata": {},
   "source": [
    "## #03. 도수분포\n",
    "\n",
    "```python\n",
    "도수, 구간 = np.histogram(데이터, 클래스수)\n",
    "```\n",
    "\n",
    "### 1. numpy를 통한 도수분포 조회"
   ]
  },
  {
   "cell_type": "code",
   "execution_count": 62,
   "metadata": {},
   "outputs": [
    {
     "name": "stdout",
     "output_type": "stream",
     "text": [
      "[6 4 1 0 1]\n",
      "[ 100.  418.  736. 1054. 1372. 1690.]\n"
     ]
    }
   ],
   "source": [
    "hist, bins = np.histogram(df['매출액(억원)'], bins=5)\n",
    "print(hist)\n",
    "print(bins)"
   ]
  },
  {
   "cell_type": "markdown",
   "metadata": {},
   "source": [
    "### 2. 조회 결과를 도수분포표로 생성"
   ]
  },
  {
   "cell_type": "code",
   "execution_count": 63,
   "metadata": {},
   "outputs": [
    {
     "data": {
      "text/html": [
       "<div>\n",
       "<style scoped>\n",
       "    .dataframe tbody tr th:only-of-type {\n",
       "        vertical-align: middle;\n",
       "    }\n",
       "\n",
       "    .dataframe tbody tr th {\n",
       "        vertical-align: top;\n",
       "    }\n",
       "\n",
       "    .dataframe thead th {\n",
       "        text-align: right;\n",
       "    }\n",
       "</style>\n",
       "<table border=\"1\" class=\"dataframe\">\n",
       "  <thead>\n",
       "    <tr style=\"text-align: right;\">\n",
       "      <th></th>\n",
       "      <th>도수</th>\n",
       "    </tr>\n",
       "    <tr>\n",
       "      <th>계급</th>\n",
       "      <th></th>\n",
       "    </tr>\n",
       "  </thead>\n",
       "  <tbody>\n",
       "    <tr>\n",
       "      <th>100이상 418미만</th>\n",
       "      <td>6</td>\n",
       "    </tr>\n",
       "    <tr>\n",
       "      <th>418이상 736미만</th>\n",
       "      <td>4</td>\n",
       "    </tr>\n",
       "    <tr>\n",
       "      <th>736이상 1054미만</th>\n",
       "      <td>1</td>\n",
       "    </tr>\n",
       "    <tr>\n",
       "      <th>1054이상 1372미만</th>\n",
       "      <td>0</td>\n",
       "    </tr>\n",
       "    <tr>\n",
       "      <th>1372이상 1690이하</th>\n",
       "      <td>1</td>\n",
       "    </tr>\n",
       "  </tbody>\n",
       "</table>\n",
       "</div>"
      ],
      "text/plain": [
       "               도수\n",
       "계급               \n",
       "100이상 418미만     6\n",
       "418이상 736미만     4\n",
       "736이상 1054미만    1\n",
       "1054이상 1372미만   0\n",
       "1372이상 1690이하   1"
      ]
     },
     "execution_count": 63,
     "metadata": {},
     "output_type": "execute_result"
    }
   ],
   "source": [
    "info = []\n",
    "for i, v in enumerate(hist):\n",
    "    if i+1 < len(hist):\n",
    "        tpl = \"%d이상 %d미만\"\n",
    "    else:\n",
    "        tpl = \"%d이상 %d이하\"\n",
    "\n",
    "    cls = tpl % (bins[i], bins[i+1])\n",
    "    line = {\"계급\": cls, \"도수\": v}\n",
    "    info.append(line)\n",
    "\n",
    "hist_df = DataFrame(info)\n",
    "hist_df.set_index('계급', inplace=True)\n",
    "hist_df"
   ]
  },
  {
   "cell_type": "markdown",
   "metadata": {},
   "source": [
    "### 3. 상대도수 파생변수 추가"
   ]
  },
  {
   "cell_type": "code",
   "execution_count": 64,
   "metadata": {},
   "outputs": [
    {
     "data": {
      "text/html": [
       "<div>\n",
       "<style scoped>\n",
       "    .dataframe tbody tr th:only-of-type {\n",
       "        vertical-align: middle;\n",
       "    }\n",
       "\n",
       "    .dataframe tbody tr th {\n",
       "        vertical-align: top;\n",
       "    }\n",
       "\n",
       "    .dataframe thead th {\n",
       "        text-align: right;\n",
       "    }\n",
       "</style>\n",
       "<table border=\"1\" class=\"dataframe\">\n",
       "  <thead>\n",
       "    <tr style=\"text-align: right;\">\n",
       "      <th></th>\n",
       "      <th>도수</th>\n",
       "      <th>상대도수</th>\n",
       "    </tr>\n",
       "    <tr>\n",
       "      <th>계급</th>\n",
       "      <th></th>\n",
       "      <th></th>\n",
       "    </tr>\n",
       "  </thead>\n",
       "  <tbody>\n",
       "    <tr>\n",
       "      <th>100이상 418미만</th>\n",
       "      <td>6</td>\n",
       "      <td>0.500000</td>\n",
       "    </tr>\n",
       "    <tr>\n",
       "      <th>418이상 736미만</th>\n",
       "      <td>4</td>\n",
       "      <td>0.333333</td>\n",
       "    </tr>\n",
       "    <tr>\n",
       "      <th>736이상 1054미만</th>\n",
       "      <td>1</td>\n",
       "      <td>0.083333</td>\n",
       "    </tr>\n",
       "    <tr>\n",
       "      <th>1054이상 1372미만</th>\n",
       "      <td>0</td>\n",
       "      <td>0.000000</td>\n",
       "    </tr>\n",
       "    <tr>\n",
       "      <th>1372이상 1690이하</th>\n",
       "      <td>1</td>\n",
       "      <td>0.083333</td>\n",
       "    </tr>\n",
       "  </tbody>\n",
       "</table>\n",
       "</div>"
      ],
      "text/plain": [
       "               도수      상대도수\n",
       "계급                         \n",
       "100이상 418미만     6  0.500000\n",
       "418이상 736미만     4  0.333333\n",
       "736이상 1054미만    1  0.083333\n",
       "1054이상 1372미만   0  0.000000\n",
       "1372이상 1690이하   1  0.083333"
      ]
     },
     "execution_count": 64,
     "metadata": {},
     "output_type": "execute_result"
    }
   ],
   "source": [
    "전체데이터수 = len(df)\n",
    "hist_df['상대도수'] = hist_df['도수'] / 전체데이터수\n",
    "hist_df"
   ]
  },
  {
   "cell_type": "markdown",
   "metadata": {},
   "source": [
    "## #04. 히스토그램\n",
    "\n",
    "도수분포표를 시각화 한 그래프\n",
    "\n",
    "### 1. 그래프 기본 설정"
   ]
  },
  {
   "cell_type": "code",
   "execution_count": 65,
   "metadata": {},
   "outputs": [],
   "source": [
    "plt.rcParams[\"font.family\"] = 'AppleGothic' if sys.platform == 'darwin' else 'Malgun Gothic'\n",
    "plt.rcParams[\"font.size\"] = 10\n",
    "plt.rcParams[\"figure.figsize\"] = (7, 4)\n",
    "plt.rcParams[\"axes.unicode_minus\"] = False"
   ]
  },
  {
   "cell_type": "markdown",
   "metadata": {},
   "source": [
    "### 2. pyplot을 사용한 히스토그램\n",
    "\n",
    "#### 1) 기본 사용 방법\n",
    "\n",
    "데이터 원본을 사용해서 시각화한다.\n",
    "\n",
    "x축을 pyplot이 임의로 지정하기 때문에 데이터 구간을 파악하기 어렵다."
   ]
  },
  {
   "cell_type": "code",
   "execution_count": 66,
   "metadata": {},
   "outputs": [
    {
     "data": {
      "image/png": "[encoded data removed]",
      "text/plain": [
       "<Figure size 700x400 with 1 Axes>"
      ]
     },
     "metadata": {},
     "output_type": "display_data"
    }
   ],
   "source": [
    "plt.figure()\n",
    "plt.hist(df['매출액(억원)'], bins=5, edgecolor='black', linewidth=1.2)\n",
    "plt.show()\n",
    "plt.close()"
   ]
  },
  {
   "cell_type": "markdown",
   "metadata": {},
   "source": [
    "#### 2) x축 설정하기\n",
    "\n",
    "`np.histogram()` 메서드를 사용하여 데이터 구간 정보를 리턴받은 후 그래프의 `xticks()`로 적용한다."
   ]
  },
  {
   "cell_type": "code",
   "execution_count": 67,
   "metadata": {},
   "outputs": [
    {
     "data": {
      "image/png": "[encoded data removed]",
      "text/plain": [
       "<Figure size 700x400 with 1 Axes>"
      ]
     },
     "metadata": {},
     "output_type": "display_data"
    }
   ],
   "source": [
    "hist, bins = np.histogram(df['매출액(억원)'], bins=5)\n",
    "\n",
    "plt.figure()\n",
    "plt.hist(df['매출액(억원)'], bins=5, edgecolor='black', linewidth=1.2)\n",
    "plt.xticks(bins, bins)\n",
    "plt.show()\n",
    "plt.close()"
   ]
  },
  {
   "cell_type": "markdown",
   "metadata": {},
   "source": [
    "### 2. 원본 데이터 자체를 사용"
   ]
  },
  {
   "cell_type": "code",
   "execution_count": 68,
   "metadata": {},
   "outputs": [
    {
     "data": {
      "text/plain": [
       "<Figure size 700x400 with 0 Axes>"
      ]
     },
     "metadata": {},
     "output_type": "display_data"
    },
    {
     "data": {
      "image/png": "[encoded data removed]",
      "text/plain": [
       "<Figure size 700x400 with 1 Axes>"
      ]
     },
     "metadata": {},
     "output_type": "display_data"
    }
   ],
   "source": [
    "hist, bins = np.histogram(df['매출액(억원)'], bins=5)\n",
    "\n",
    "plt.figure()\n",
    "df.hist(column='매출액(억원)', bins=5, edgecolor='black', linewidth=1.2)\n",
    "plt.xticks(bins, bins)\n",
    "plt.show()\n",
    "plt.close()"
   ]
  },
  {
   "cell_type": "markdown",
   "metadata": {},
   "source": [
    "### 3. seaborn 사용하기\n",
    "\n",
    "> 23/07/07일 version '0.12.2'에서 sb.set_theme()를 호출하면 기존의 한글 글꼴 설정이 깨짐. sb.set_theme() 호출 이후에 글꼴을 다시 한번 설정해야 함.\n",
    "\n",
    "- bins : 계급수\n",
    "- kde : 확률밀도곡선 표시 여부\n",
    "- stat : 절대, 상대도수 구분. \"percent\"라고 지정할 경우 상대도수, 기본값은 절대도수\n",
    "- hue : 범주 지정"
   ]
  },
  {
   "cell_type": "code",
   "execution_count": 96,
   "metadata": {},
   "outputs": [
    {
     "data": {
      "image/png": "[encoded data removed]",
      "text/plain": [
       "<Figure size 700x400 with 1 Axes>"
      ]
     },
     "metadata": {},
     "output_type": "display_data"
    }
   ],
   "source": [
    "hist, bins = np.histogram(df['매출액(억원)'], bins=5)\n",
    "\n",
    "plt.figure()\n",
    "sb.set_theme(style='whitegrid', font='Malgun Gothic', font_scale=1.2)\n",
    "sb.histplot(data=df, x='매출액(억원)', bins=5, kde=True, stat=\"percent\")\n",
    "plt.xticks(bins, bins)\n",
    "plt.show()\n",
    "plt.close()"
   ]
  },
  {
   "cell_type": "code",
   "execution_count": 92,
   "metadata": {},
   "outputs": [
    {
     "data": {
      "text/html": [
       "<div>\n",
       "<style scoped>\n",
       "    .dataframe tbody tr th:only-of-type {\n",
       "        vertical-align: middle;\n",
       "    }\n",
       "\n",
       "    .dataframe tbody tr th {\n",
       "        vertical-align: top;\n",
       "    }\n",
       "\n",
       "    .dataframe thead th {\n",
       "        text-align: right;\n",
       "    }\n",
       "</style>\n",
       "<table border=\"1\" class=\"dataframe\">\n",
       "  <thead>\n",
       "    <tr style=\"text-align: right;\">\n",
       "      <th></th>\n",
       "      <th>월</th>\n",
       "      <th>구분</th>\n",
       "      <th>금액</th>\n",
       "    </tr>\n",
       "  </thead>\n",
       "  <tbody>\n",
       "    <tr>\n",
       "      <th>0</th>\n",
       "      <td>1월</td>\n",
       "      <td>광고비(백만원)</td>\n",
       "      <td>2</td>\n",
       "    </tr>\n",
       "    <tr>\n",
       "      <th>1</th>\n",
       "      <td>2월</td>\n",
       "      <td>광고비(백만원)</td>\n",
       "      <td>142</td>\n",
       "    </tr>\n",
       "    <tr>\n",
       "      <th>2</th>\n",
       "      <td>3월</td>\n",
       "      <td>광고비(백만원)</td>\n",
       "      <td>122</td>\n",
       "    </tr>\n",
       "    <tr>\n",
       "      <th>3</th>\n",
       "      <td>4월</td>\n",
       "      <td>광고비(백만원)</td>\n",
       "      <td>130</td>\n",
       "    </tr>\n",
       "    <tr>\n",
       "      <th>4</th>\n",
       "      <td>5월</td>\n",
       "      <td>광고비(백만원)</td>\n",
       "      <td>185</td>\n",
       "    </tr>\n",
       "    <tr>\n",
       "      <th>5</th>\n",
       "      <td>6월</td>\n",
       "      <td>광고비(백만원)</td>\n",
       "      <td>121</td>\n",
       "    </tr>\n",
       "    <tr>\n",
       "      <th>6</th>\n",
       "      <td>7월</td>\n",
       "      <td>광고비(백만원)</td>\n",
       "      <td>101</td>\n",
       "    </tr>\n",
       "    <tr>\n",
       "      <th>7</th>\n",
       "      <td>8월</td>\n",
       "      <td>광고비(백만원)</td>\n",
       "      <td>199</td>\n",
       "    </tr>\n",
       "    <tr>\n",
       "      <th>8</th>\n",
       "      <td>9월</td>\n",
       "      <td>광고비(백만원)</td>\n",
       "      <td>221</td>\n",
       "    </tr>\n",
       "    <tr>\n",
       "      <th>9</th>\n",
       "      <td>10월</td>\n",
       "      <td>광고비(백만원)</td>\n",
       "      <td>139</td>\n",
       "    </tr>\n",
       "    <tr>\n",
       "      <th>10</th>\n",
       "      <td>11월</td>\n",
       "      <td>광고비(백만원)</td>\n",
       "      <td>169</td>\n",
       "    </tr>\n",
       "    <tr>\n",
       "      <th>11</th>\n",
       "      <td>12월</td>\n",
       "      <td>광고비(백만원)</td>\n",
       "      <td>237</td>\n",
       "    </tr>\n",
       "    <tr>\n",
       "      <th>12</th>\n",
       "      <td>1월</td>\n",
       "      <td>매출액(억원)</td>\n",
       "      <td>100</td>\n",
       "    </tr>\n",
       "    <tr>\n",
       "      <th>13</th>\n",
       "      <td>2월</td>\n",
       "      <td>매출액(억원)</td>\n",
       "      <td>1690</td>\n",
       "    </tr>\n",
       "    <tr>\n",
       "      <th>14</th>\n",
       "      <td>3월</td>\n",
       "      <td>매출액(억원)</td>\n",
       "      <td>298</td>\n",
       "    </tr>\n",
       "    <tr>\n",
       "      <th>15</th>\n",
       "      <td>4월</td>\n",
       "      <td>매출액(억원)</td>\n",
       "      <td>390</td>\n",
       "    </tr>\n",
       "    <tr>\n",
       "      <th>16</th>\n",
       "      <td>5월</td>\n",
       "      <td>매출액(억원)</td>\n",
       "      <td>590</td>\n",
       "    </tr>\n",
       "    <tr>\n",
       "      <th>17</th>\n",
       "      <td>6월</td>\n",
       "      <td>매출액(억원)</td>\n",
       "      <td>200</td>\n",
       "    </tr>\n",
       "    <tr>\n",
       "      <th>18</th>\n",
       "      <td>7월</td>\n",
       "      <td>매출액(억원)</td>\n",
       "      <td>190</td>\n",
       "    </tr>\n",
       "    <tr>\n",
       "      <th>19</th>\n",
       "      <td>8월</td>\n",
       "      <td>매출액(억원)</td>\n",
       "      <td>460</td>\n",
       "    </tr>\n",
       "    <tr>\n",
       "      <th>20</th>\n",
       "      <td>9월</td>\n",
       "      <td>매출액(억원)</td>\n",
       "      <td>660</td>\n",
       "    </tr>\n",
       "    <tr>\n",
       "      <th>21</th>\n",
       "      <td>10월</td>\n",
       "      <td>매출액(억원)</td>\n",
       "      <td>350</td>\n",
       "    </tr>\n",
       "    <tr>\n",
       "      <th>22</th>\n",
       "      <td>11월</td>\n",
       "      <td>매출액(억원)</td>\n",
       "      <td>650</td>\n",
       "    </tr>\n",
       "    <tr>\n",
       "      <th>23</th>\n",
       "      <td>12월</td>\n",
       "      <td>매출액(억원)</td>\n",
       "      <td>880</td>\n",
       "    </tr>\n",
       "  </tbody>\n",
       "</table>\n",
       "</div>"
      ],
      "text/plain": [
       "      월        구분    금액\n",
       "0    1월  광고비(백만원)     2\n",
       "1    2월  광고비(백만원)   142\n",
       "2    3월  광고비(백만원)   122\n",
       "3    4월  광고비(백만원)   130\n",
       "4    5월  광고비(백만원)   185\n",
       "5    6월  광고비(백만원)   121\n",
       "6    7월  광고비(백만원)   101\n",
       "7    8월  광고비(백만원)   199\n",
       "8    9월  광고비(백만원)   221\n",
       "9   10월  광고비(백만원)   139\n",
       "10  11월  광고비(백만원)   169\n",
       "11  12월  광고비(백만원)   237\n",
       "12   1월   매출액(억원)   100\n",
       "13   2월   매출액(억원)  1690\n",
       "14   3월   매출액(억원)   298\n",
       "15   4월   매출액(억원)   390\n",
       "16   5월   매출액(억원)   590\n",
       "17   6월   매출액(억원)   200\n",
       "18   7월   매출액(억원)   190\n",
       "19   8월   매출액(억원)   460\n",
       "20   9월   매출액(억원)   660\n",
       "21  10월   매출액(억원)   350\n",
       "22  11월   매출액(억원)   650\n",
       "23  12월   매출액(억원)   880"
      ]
     },
     "execution_count": 92,
     "metadata": {},
     "output_type": "execute_result"
    }
   ],
   "source": [
    "# index를 일반 컬럼으로 변환\n",
    "df2 = df.reset_index()\n",
    "mdf = melt(df2, id_vars=['월'], value_vars=['광고비(백만원)', '매출액(억원)'],\n",
    "            var_name='구분', value_name='금액')\n",
    "mdf"
   ]
  },
  {
   "cell_type": "code",
   "execution_count": 108,
   "metadata": {},
   "outputs": [
    {
     "data": {
      "image/png": "[encoded data removed]",
      "text/plain": [
       "<Figure size 700x400 with 1 Axes>"
      ]
     },
     "metadata": {},
     "output_type": "display_data"
    }
   ],
   "source": [
    "hist, bins = np.histogram(mdf['금액'], bins=5)\n",
    "\n",
    "#for i, v in enumerate(bins):\n",
    "#    bins[i] = round(v, 1)\n",
    "bins2 = np.round(bins, 1)\n",
    "\n",
    "plt.figure()\n",
    "sb.set_theme(style='whitegrid', font='Malgun Gothic', font_scale=1.2)\n",
    "sb.histplot(data=mdf, x='금액', bins=5, hue='구분', kde=True, palette='cool')\n",
    "plt.xticks(bins2, bins2)\n",
    "plt.show()\n",
    "plt.close()"
   ]
  }
 ],
 "metadata": {
  "kernelspec": {
   "display_name": "Python 3 (ipykernel)",
   "language": "python",
   "name": "python3"
  },
  "language_info": {
   "codemirror_mode": {
    "name": "ipython",
    "version": 3
   },
   "file_extension": ".py",
   "mimetype": "text/x-python",
   "name": "python",
   "nbconvert_exporter": "python",
   "pygments_lexer": "ipython3",
   "version": "3.11.4"
  }
 },
 "nbformat": 4,
 "nbformat_minor": 2
}

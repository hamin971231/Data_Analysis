{
 "cells": [
  {
   "cell_type": "markdown",
   "metadata": {},
   "source": [
    "# 지도학습(4) - 회귀모델 성능 측정 지표\n",
    "\n",
    "회귀분석을 통해 예측 모델을 만들고 해당 모델의 성능을 파악 하기 위해 제공되는 사이킷런의 성능 지표 모듈\n",
    "\n",
    "## #01. 작업준비\n",
    "\n",
    "### 패키지 가져오기 \n"
   ]
  },
  {
   "cell_type": "code",
   "execution_count": 1,
   "metadata": {},
   "outputs": [],
   "source": [
    "import pandas as pd \n",
    "from sklearn.linear_model import LinearRegression\n",
    "from sklearn.preprocessing import PolynomialFeatures\n",
    "from sklearn.model_selection import train_test_split\n",
    "from matplotlib import pyplot as plt\n",
    "import seaborn as sb\n",
    "from sklearn.preprocessing import LabelEncoder, OneHotEncoder\n",
    "import sys\n",
    "import os\n",
    "sys.path.append(os.path.dirname(os.path.dirname(os.getcwd())))\n",
    "import helper\n",
    "\n",
    "\n",
    "from sklearn.metrics import mean_squared_error, r2_score, mean_squared_log_error, mean_absolute_error\n",
    "\n",
    "import numpy as np"
   ]
  },
  {
   "cell_type": "markdown",
   "metadata": {},
   "source": [
    "## #02. 데이터 가져오기 \n"
   ]
  },
  {
   "cell_type": "code",
   "execution_count": 2,
   "metadata": {},
   "outputs": [
    {
     "data": {
      "text/html": [
       "<div>\n",
       "<style scoped>\n",
       "    .dataframe tbody tr th:only-of-type {\n",
       "        vertical-align: middle;\n",
       "    }\n",
       "\n",
       "    .dataframe tbody tr th {\n",
       "        vertical-align: top;\n",
       "    }\n",
       "\n",
       "    .dataframe thead th {\n",
       "        text-align: right;\n",
       "    }\n",
       "</style>\n",
       "<table border=\"1\" class=\"dataframe\">\n",
       "  <thead>\n",
       "    <tr style=\"text-align: right;\">\n",
       "      <th></th>\n",
       "      <th>speed</th>\n",
       "      <th>dist</th>\n",
       "    </tr>\n",
       "  </thead>\n",
       "  <tbody>\n",
       "    <tr>\n",
       "      <th>0</th>\n",
       "      <td>4</td>\n",
       "      <td>2</td>\n",
       "    </tr>\n",
       "    <tr>\n",
       "      <th>1</th>\n",
       "      <td>4</td>\n",
       "      <td>10</td>\n",
       "    </tr>\n",
       "    <tr>\n",
       "      <th>2</th>\n",
       "      <td>7</td>\n",
       "      <td>4</td>\n",
       "    </tr>\n",
       "    <tr>\n",
       "      <th>3</th>\n",
       "      <td>7</td>\n",
       "      <td>22</td>\n",
       "    </tr>\n",
       "    <tr>\n",
       "      <th>4</th>\n",
       "      <td>8</td>\n",
       "      <td>16</td>\n",
       "    </tr>\n",
       "  </tbody>\n",
       "</table>\n",
       "</div>"
      ],
      "text/plain": [
       "   speed  dist\n",
       "0      4     2\n",
       "1      4    10\n",
       "2      7     4\n",
       "3      7    22\n",
       "4      8    16"
      ]
     },
     "execution_count": 2,
     "metadata": {},
     "output_type": "execute_result"
    }
   ],
   "source": [
    "origin= pd.read_excel('https://data.hossam.kr/E04/cars.xlsx')\n",
    "origin.head()"
   ]
  },
  {
   "cell_type": "code",
   "execution_count": null,
   "metadata": {},
   "outputs": [],
   "source": []
  },
  {
   "cell_type": "code",
   "execution_count": 3,
   "metadata": {},
   "outputs": [
    {
     "data": {
      "text/html": [
       "<div>\n",
       "<style scoped>\n",
       "    .dataframe tbody tr th:only-of-type {\n",
       "        vertical-align: middle;\n",
       "    }\n",
       "\n",
       "    .dataframe tbody tr th {\n",
       "        vertical-align: top;\n",
       "    }\n",
       "\n",
       "    .dataframe thead th {\n",
       "        text-align: right;\n",
       "    }\n",
       "</style>\n",
       "<table border=\"1\" class=\"dataframe\">\n",
       "  <thead>\n",
       "    <tr style=\"text-align: right;\">\n",
       "      <th></th>\n",
       "      <th>speed</th>\n",
       "      <th>speed^2</th>\n",
       "    </tr>\n",
       "  </thead>\n",
       "  <tbody>\n",
       "    <tr>\n",
       "      <th>0</th>\n",
       "      <td>4.0</td>\n",
       "      <td>16.0</td>\n",
       "    </tr>\n",
       "    <tr>\n",
       "      <th>1</th>\n",
       "      <td>4.0</td>\n",
       "      <td>16.0</td>\n",
       "    </tr>\n",
       "    <tr>\n",
       "      <th>2</th>\n",
       "      <td>7.0</td>\n",
       "      <td>49.0</td>\n",
       "    </tr>\n",
       "    <tr>\n",
       "      <th>3</th>\n",
       "      <td>7.0</td>\n",
       "      <td>49.0</td>\n",
       "    </tr>\n",
       "    <tr>\n",
       "      <th>4</th>\n",
       "      <td>8.0</td>\n",
       "      <td>64.0</td>\n",
       "    </tr>\n",
       "  </tbody>\n",
       "</table>\n",
       "</div>"
      ],
      "text/plain": [
       "   speed  speed^2\n",
       "0    4.0     16.0\n",
       "1    4.0     16.0\n",
       "2    7.0     49.0\n",
       "3    7.0     49.0\n",
       "4    8.0     64.0"
      ]
     },
     "execution_count": 3,
     "metadata": {},
     "output_type": "execute_result"
    }
   ],
   "source": [
    "poly = PolynomialFeatures(degree=2,include_bias=False)\n",
    "fit = poly.fit_transform(origin[['speed']])\n",
    "x = pd.DataFrame(fit,columns=poly.get_feature_names_out())\n",
    "x.head()"
   ]
  },
  {
   "cell_type": "code",
   "execution_count": 4,
   "metadata": {},
   "outputs": [],
   "source": [
    "y= origin[['dist']]"
   ]
  },
  {
   "cell_type": "code",
   "execution_count": 5,
   "metadata": {},
   "outputs": [],
   "source": [
    "model = LinearRegression()"
   ]
  },
  {
   "cell_type": "code",
   "execution_count": 6,
   "metadata": {},
   "outputs": [],
   "source": [
    "x_train,x_test,y_train,y_test = train_test_split(x,y,test_size=0.3)"
   ]
  },
  {
   "cell_type": "code",
   "execution_count": 7,
   "metadata": {},
   "outputs": [],
   "source": [
    "fit = model.fit(x_train[['speed']],y_train[['dist']])"
   ]
  },
  {
   "cell_type": "code",
   "execution_count": null,
   "metadata": {},
   "outputs": [],
   "source": []
  },
  {
   "cell_type": "code",
   "execution_count": 8,
   "metadata": {},
   "outputs": [
    {
     "name": "stdout",
     "output_type": "stream",
     "text": [
      "(35, 2)\n",
      "(35, 1)\n",
      "(15, 2)\n",
      "(15, 1)\n"
     ]
    },
    {
     "data": {
      "text/html": [
       "<div>\n",
       "<style scoped>\n",
       "    .dataframe tbody tr th:only-of-type {\n",
       "        vertical-align: middle;\n",
       "    }\n",
       "\n",
       "    .dataframe tbody tr th {\n",
       "        vertical-align: top;\n",
       "    }\n",
       "\n",
       "    .dataframe thead th {\n",
       "        text-align: right;\n",
       "    }\n",
       "</style>\n",
       "<table border=\"1\" class=\"dataframe\">\n",
       "  <thead>\n",
       "    <tr style=\"text-align: right;\">\n",
       "      <th></th>\n",
       "      <th>speed</th>\n",
       "      <th>speed^2</th>\n",
       "    </tr>\n",
       "  </thead>\n",
       "  <tbody>\n",
       "    <tr>\n",
       "      <th>44</th>\n",
       "      <td>23.0</td>\n",
       "      <td>529.0</td>\n",
       "    </tr>\n",
       "    <tr>\n",
       "      <th>5</th>\n",
       "      <td>9.0</td>\n",
       "      <td>81.0</td>\n",
       "    </tr>\n",
       "    <tr>\n",
       "      <th>12</th>\n",
       "      <td>12.0</td>\n",
       "      <td>144.0</td>\n",
       "    </tr>\n",
       "    <tr>\n",
       "      <th>19</th>\n",
       "      <td>14.0</td>\n",
       "      <td>196.0</td>\n",
       "    </tr>\n",
       "    <tr>\n",
       "      <th>8</th>\n",
       "      <td>10.0</td>\n",
       "      <td>100.0</td>\n",
       "    </tr>\n",
       "  </tbody>\n",
       "</table>\n",
       "</div>"
      ],
      "text/plain": [
       "    speed  speed^2\n",
       "44   23.0    529.0\n",
       "5     9.0     81.0\n",
       "12   12.0    144.0\n",
       "19   14.0    196.0\n",
       "8    10.0    100.0"
      ]
     },
     "execution_count": 8,
     "metadata": {},
     "output_type": "execute_result"
    }
   ],
   "source": [
    "\n",
    "print(x_train.shape)\n",
    "print(y_train.shape)\n",
    "print(x_test.shape)\n",
    "print(y_test.shape)\n",
    "x_train.head()"
   ]
  },
  {
   "cell_type": "code",
   "execution_count": 9,
   "metadata": {},
   "outputs": [
    {
     "name": "stdout",
     "output_type": "stream",
     "text": [
      "기울기:  [[1.37851995 0.0808227 ]]\n",
      "절편 :  [-0.75834708]\n",
      "훈련 데이터 설명력 :  0.5964088514844106\n",
      "검증 데이터 설명력 :  0.7668043398633401\n"
     ]
    }
   ],
   "source": [
    "model = LinearRegression()\n",
    "fit = model.fit(x_train,y_train)\n",
    "\n",
    "## 직선의 기울기 \n",
    "coef = fit.coef_\n",
    "\n",
    "\n",
    "\n",
    "## 절편 \n",
    "intercept = fit.intercept_\n",
    "\n",
    "print ('기울기: ', coef)\n",
    "\n",
    "print('절편 : ',intercept )\n",
    "\n",
    "\n",
    "rscore = fit.score(x_train,y_train)\n",
    "rscore_test = fit.score(x_test,y_test)\n",
    "print('훈련 데이터 설명력 : ',rscore)\n",
    "print('검증 데이터 설명력 : ',rscore_test)"
   ]
  },
  {
   "cell_type": "code",
   "execution_count": 10,
   "metadata": {},
   "outputs": [
    {
     "data": {
      "text/plain": [
       "array([73.70281978, 18.19497114, 27.42236105, 34.38218132, 21.10912238,\n",
       "       54.61052648, 41.98858319, 12.85160485, 34.38218132, 34.38218132,\n",
       "        6.04889592, 27.42236105, 30.82144849, 38.10455956, 46.03425222,\n",
       "       59.1411317 , 41.98858319, 30.82144849, 78.8800066 , 50.24156665,\n",
       "       27.42236105,  6.04889592, 59.1411317 , 21.10912238, 24.18491902,\n",
       "       50.24156665, 27.42236105, 78.8800066 , 68.68727835, 30.82144849,\n",
       "       46.03425222, 12.85160485, 50.24156665, 59.1411317 , 50.24156665])"
      ]
     },
     "execution_count": 10,
     "metadata": {},
     "output_type": "execute_result"
    }
   ],
   "source": [
    "y_pred_train = fit.predict(x_train)\n",
    "y_pred_train = y_pred_train.reshape(-1)\n",
    "y_pred_train"
   ]
  },
  {
   "cell_type": "code",
   "execution_count": 11,
   "metadata": {},
   "outputs": [
    {
     "data": {
      "text/plain": [
       "array([84.21883882, 54.61052648, 59.1411317 , 54.61052648, 15.4424653 ,\n",
       "       21.10912238, 78.8800066 , 24.18491902, 78.8800066 , 38.10455956,\n",
       "       38.10455956, 30.82144849, 34.38218132, 59.1411317 , 46.03425222])"
      ]
     },
     "execution_count": 11,
     "metadata": {},
     "output_type": "execute_result"
    }
   ],
   "source": [
    "y_test_pred = fit.predict(x_test)\n",
    "y_test_pred = y_test_pred.reshape(-1)\n",
    "y_test_pred"
   ]
  },
  {
   "cell_type": "markdown",
   "metadata": {},
   "source": [
    "## #03. 회귀분석 모델의 성능평가\n",
    "\n",
    "회귀분석 모델의 평가를 위한 지표는 관측치와 회귀 예측값의 차이를 기반으로 한다.\n",
    "\n",
    "|구분|설명|\n",
    "|--|--|\n",
    "|에러율|낮을수록 좋다.(0에 가까울 수록 좋음) |\n",
    "|설명력|높을수록 좋다.(1에 가까울 수록 좋음) |\n",
    "\n",
    "### 1) $R^2$ (결정계수)\n",
    "\n",
    "회귀분석에서 가장 많이 채택되는 설명력 값\n",
    "\n",
    "기본적으로 모델의 학습 결과를 갖고 있는 fit 객체의 score() 매서드로 알 수 있음\n",
    "\n",
    "\n"
   ]
  },
  {
   "cell_type": "code",
   "execution_count": 12,
   "metadata": {},
   "outputs": [
    {
     "name": "stdout",
     "output_type": "stream",
     "text": [
      "훈련 데이터 설명력 :  0.5964088514844106\n",
      "검증 데이터 설명력 :  0.7668043398633401\n"
     ]
    }
   ],
   "source": [
    "print('훈련 데이터 설명력 : ',rscore)\n",
    "print('검증 데이터 설명력 : ',rscore_test)"
   ]
  },
  {
   "cell_type": "markdown",
   "metadata": {},
   "source": [
    "sklearn.metrics 에서 r2_score 매서드를 통해서도 조회 할 수 있다.\n"
   ]
  },
  {
   "cell_type": "code",
   "execution_count": 13,
   "metadata": {},
   "outputs": [
    {
     "name": "stdout",
     "output_type": "stream",
     "text": [
      "훈련 데이터 설명력 :  0.5964088514844106\n",
      "검증 데이터 설명력 :  0.7668043398633401\n"
     ]
    }
   ],
   "source": [
    "\n",
    "print('훈련 데이터 설명력 : ',r2_score(y_train,y_pred_train))\n",
    "\n",
    "print('검증 데이터 설명력 : ',r2_score(y_test,y_test_pred))\n"
   ]
  },
  {
   "cell_type": "markdown",
   "metadata": {},
   "source": [
    "### 2) 에러율\n",
    "\n",
    "### $MAE$ (Mean Absoulte Error) 평균 절대 오차\n",
    "\n",
    "모델의 예측값과 실제값의 차이를 모두 더하는 개념이다\n",
    "\n",
    "젛대값을 취하기 떄문에 직관적으로 알 수 있는 지표이다.\n",
    "\n",
    "이상치에 영향을 받지 않는다.\n",
    "\n",
    "MAE는 절대값을 취하는 지표기 떄문에 실제보다 작은 값인지, 큰값인지 알 수 없다 ."
   ]
  },
  {
   "cell_type": "code",
   "execution_count": 14,
   "metadata": {},
   "outputs": [
    {
     "name": "stdout",
     "output_type": "stream",
     "text": [
      "훈련 데이터 MAE :  11.572674137355365\n",
      "훈련 데이터 MAE :  9.607684246792042\n"
     ]
    }
   ],
   "source": [
    "\n",
    "\n",
    "print('훈련 데이터 MAE : ',mean_absolute_error(y_train,y_pred_train))\n",
    "\n",
    "print('훈련 데이터 MAE : ',mean_absolute_error(y_test,y_test_pred))"
   ]
  },
  {
   "cell_type": "markdown",
   "metadata": {},
   "source": [
    "### $MSE$ (Mean Squared Error) 평균 제곱 오차\n",
    "\n",
    "\n"
   ]
  },
  {
   "cell_type": "code",
   "execution_count": 15,
   "metadata": {},
   "outputs": [
    {
     "name": "stdout",
     "output_type": "stream",
     "text": [
      "훈련 데이터 MSE :  250.95462345780382\n",
      "훈련 데이터 MSE :  142.77171096206865\n"
     ]
    }
   ],
   "source": [
    "\n",
    "print('훈련 데이터 MSE : ',mean_squared_error(y_train,y_pred_train))\n",
    "\n",
    "print('훈련 데이터 MSE : ',mean_squared_error(y_test,y_test_pred))"
   ]
  },
  {
   "cell_type": "markdown",
   "metadata": {},
   "source": [
    "### $RMSE$ (Root Mean Squared Error) 평균 제곱근 오차\n",
    "\n",
    "\n",
    "MSE 값에 루트를 씌운다\n",
    "\n",
    "오류지표를 실제 값과 유사한 단위로 변환하여 해석을 쉽게한다."
   ]
  },
  {
   "cell_type": "code",
   "execution_count": 16,
   "metadata": {},
   "outputs": [
    {
     "name": "stdout",
     "output_type": "stream",
     "text": [
      "훈련 데이터 RMSE :  15.841547382052166\n",
      "훈련 데이터 RMSE :  11.948711686289391\n"
     ]
    }
   ],
   "source": [
    "\n",
    "print('훈련 데이터 RMSE : ',np.sqrt(mean_squared_error(y_train,y_pred_train)))\n",
    "\n",
    "print('훈련 데이터 RMSE : ',np.sqrt(mean_squared_error(y_test,y_test_pred)))"
   ]
  },
  {
   "cell_type": "markdown",
   "metadata": {},
   "source": [
    "### $MAPE$ (Mean Absolute Percentage Error) 평균 절대 백분율 오차\n",
    "\n",
    "MAE를 퍼센트로 변환\n",
    "\n",
    "MAE와 동일하게 MSE보다 이상치에 민감하여 실제값보다 낮은 값인지 높은 값인지 알 수 없다.\n",
    "\n",
    "모델에 따른 편향이 있다."
   ]
  },
  {
   "cell_type": "code",
   "execution_count": 17,
   "metadata": {},
   "outputs": [
    {
     "name": "stdout",
     "output_type": "stream",
     "text": [
      "훈련 데이터 MAPE :  151.1058859228037\n",
      "검증 데이터 MAPE :  66.1909931008276\n"
     ]
    }
   ],
   "source": [
    "\n",
    "print('훈련 데이터 MAPE : ',np.mean(np.abs((y_train.values - y_pred_train)/y_train.values))*100)\n",
    "\n",
    "print('검증 데이터 MAPE : ',np.mean(np.abs((y_test.values - y_test_pred)/y_test.values))*100)"
   ]
  },
  {
   "cell_type": "markdown",
   "metadata": {},
   "source": [
    "### $MPE$ (Mean Percentage Error) 평균 비율 오차\n",
    "\n",
    "MAPE 에서 절대값을 제외한 지표 "
   ]
  },
  {
   "cell_type": "code",
   "execution_count": 18,
   "metadata": {},
   "outputs": [
    {
     "name": "stdout",
     "output_type": "stream",
     "text": [
      "훈련 데이터 MAPE :  -109.69911646913451\n",
      "검증 데이터 MAPE :  -23.067507485789175\n"
     ]
    }
   ],
   "source": [
    "\n",
    "print('훈련 데이터 MAPE : ',np.mean((y_train.values - y_pred_train)/y_train.values)*100)\n",
    "\n",
    "print('검증 데이터 MAPE : ',np.mean((y_test.values - y_test_pred)/y_test.values)*100)"
   ]
  },
  {
   "cell_type": "markdown",
   "metadata": {},
   "source": [
    "## #04. 머신러닝 회귀분석 모듈테스트\n",
    "\n",
    "### 회귀분석 수행\n"
   ]
  },
  {
   "cell_type": "code",
   "execution_count": 19,
   "metadata": {},
   "outputs": [
    {
     "name": "stdout",
     "output_type": "stream",
     "text": [
      "계수:  [[-0.57291577  0.15448622]]\n",
      "절편:  [10.59889578]\n"
     ]
    }
   ],
   "source": [
    "olsResult = helper.ml_ols(origin,xnames='speed',yname='dist',degree=2,test_size=0.3)\n",
    "\n",
    "print(\"계수: \", olsResult.coef)\n",
    "print(\"절편: \", olsResult.intercept)"
   ]
  },
  {
   "cell_type": "code",
   "execution_count": 20,
   "metadata": {},
   "outputs": [
    {
     "data": {
      "text/plain": [
       "True"
      ]
     },
     "execution_count": 20,
     "metadata": {},
     "output_type": "execute_result"
    }
   ],
   "source": [
    "type(origin['dist']) ==pd.Series"
   ]
  },
  {
   "cell_type": "code",
   "execution_count": null,
   "metadata": {},
   "outputs": [],
   "source": []
  },
  {
   "cell_type": "code",
   "execution_count": 21,
   "metadata": {},
   "outputs": [
    {
     "name": "stdout",
     "output_type": "stream",
     "text": [
      "R^2:  0.7362907694394939\n",
      "MAE:  10.49486983811964\n",
      "MSE:  189.8779652801677\n",
      "RMSE:  13.779621376517126\n",
      "MAPE:  32.08240536981032\n",
      "MPE:  -14.626018915206958\n"
     ]
    }
   ],
   "source": [
    "print(\"R^2: \", olsResult.trainRegMetric.r2)\n",
    "print(\"MAE: \", olsResult.trainRegMetric.mae)\n",
    "print(\"MSE: \", olsResult.trainRegMetric.mse)\n",
    "print(\"RMSE: \", olsResult.trainRegMetric.rmse)\n",
    "print(\"MAPE: \", olsResult.trainRegMetric.mape)\n",
    "print(\"MPE: \", olsResult.trainRegMetric.mpe)"
   ]
  },
  {
   "cell_type": "code",
   "execution_count": 22,
   "metadata": {},
   "outputs": [
    {
     "name": "stdout",
     "output_type": "stream",
     "text": [
      "R^2:  0.36333742876701225\n",
      "MAE:  12.77297087252875\n",
      "MSE:  291.8178265389246\n",
      "RMSE:  17.08267621126516\n",
      "MAPE:  59.857459284118555\n",
      "MPE:  -35.04350737847307\n"
     ]
    }
   ],
   "source": [
    "print(\"R^2: \", olsResult.testRegMetric.r2)\n",
    "print(\"MAE: \", olsResult.testRegMetric.mae)\n",
    "print(\"MSE: \", olsResult.testRegMetric.mse)\n",
    "print(\"RMSE: \", olsResult.testRegMetric.rmse)\n",
    "print(\"MAPE: \", olsResult.testRegMetric.mape)\n",
    "print(\"MPE: \", olsResult.testRegMetric.mpe)"
   ]
  },
  {
   "cell_type": "code",
   "execution_count": null,
   "metadata": {},
   "outputs": [],
   "source": []
  }
 ],
 "metadata": {
  "kernelspec": {
   "display_name": "Python 3",
   "language": "python",
   "name": "python3"
  },
  "language_info": {
   "codemirror_mode": {
    "name": "ipython",
    "version": 3
   },
   "file_extension": ".py",
   "mimetype": "text/x-python",
   "name": "python",
   "nbconvert_exporter": "python",
   "pygments_lexer": "ipython3",
   "version": "3.11.3"
  },
  "orig_nbformat": 4
 },
 "nbformat": 4,
 "nbformat_minor": 2
}

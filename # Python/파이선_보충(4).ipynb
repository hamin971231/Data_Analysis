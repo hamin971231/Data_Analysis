{
 "cells": [
  {
   "attachments": {},
   "cell_type": "markdown",
   "metadata": {},
   "source": [
    "# 파이선 보충 Take 4\n",
    "\n"
   ]
  },
  {
   "attachments": {},
   "cell_type": "markdown",
   "metadata": {},
   "source": [
    "### 01. csv파일 저장하기"
   ]
  },
  {
   "attachments": {},
   "cell_type": "markdown",
   "metadata": {},
   "source": [
    "딕셔너리를 포함하는 리스트 구조를 csv로 저장하기 \n"
   ]
  },
  {
   "cell_type": "code",
   "execution_count": 3,
   "metadata": {},
   "outputs": [],
   "source": [
    "# 한 학급의 성적표 데이터 제시\n",
    "\n",
    "grade = [\n",
    "{\"name\": \"철수\", \"kor\": 95, \"eng\": 88, \"math\": 72},\n",
    "{\"name\": \"영희\", \"kor\": 92, \"eng\": 90, \"math\": 95},\n",
    "{\"name\": \"철민\", \"kor\": 88, \"eng\": 76, \"math\": 64}\n",
    "]\n",
    "\n",
    "# csv 파일의 한 행에 대한 구문 형식 정의\n",
    "\n",
    "tpl = \"{0},{1},{2},{3} \\n\"\n",
    "\n",
    "## csv파일 저장을 위한 f객체 갱신\n",
    "# 엑셀에서는 euc-kr임\n",
    "with open(\"grade.csv\",'w',encoding = \"euc-kr\") as f :\n",
    "    f.write(\"이름,국어,영어,수학 \\n\")\n",
    "    # 각 데이터를 한 줄씩 콤마로 구분하여 기록 \n",
    "    for item in grade :\n",
    "        tmp = tpl.format(item['name'],item['kor'],item['eng'],item['math'])\n",
    "        f.write(tmp)\n",
    "    \n"
   ]
  },
  {
   "attachments": {},
   "cell_type": "markdown",
   "metadata": {},
   "source": [
    "### 02. csv파일 읽어오기"
   ]
  },
  {
   "attachments": {},
   "cell_type": "markdown",
   "metadata": {},
   "source": [
    "csv 파일의 내용을 파이선 데이터로 변환\n",
    "\n"
   ]
  },
  {
   "cell_type": "code",
   "execution_count": 4,
   "metadata": {},
   "outputs": [
    {
     "name": "stdout",
     "output_type": "stream",
     "text": [
      "['이름,국어,영어,수학 \\n', '철수,95,88,72 \\n', '영희,92,90,95 \\n', '철민,88,76,64 \\n']\n"
     ]
    }
   ],
   "source": [
    "#-----------------------------------\n",
    "# # step1. 파일 읽기\n",
    "#------------------------------------\n",
    "# 읽어들인 내용을 저장하기 위한 빈 변수 생성\n",
    "\n",
    "csv_list = None \n",
    "\n",
    "## grade.csv 파일에 대한 파일 객체를 읽기 모드로 생성\n",
    "with open(\"grade.csv\",'r',encoding='euc-kr') as f:\n",
    "    csv_list = f.readlines()\n",
    "print(csv_list)\n"
   ]
  },
  {
   "cell_type": "code",
   "execution_count": null,
   "metadata": {},
   "outputs": [],
   "source": []
  }
 ],
 "metadata": {
  "kernelspec": {
   "display_name": "Python 3",
   "language": "python",
   "name": "python3"
  },
  "language_info": {
   "codemirror_mode": {
    "name": "ipython",
    "version": 3
   },
   "file_extension": ".py",
   "mimetype": "text/x-python",
   "name": "python",
   "nbconvert_exporter": "python",
   "pygments_lexer": "ipython3",
   "version": "3.11.3"
  },
  "orig_nbformat": 4
 },
 "nbformat": 4,
 "nbformat_minor": 2
}

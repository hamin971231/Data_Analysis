{
 "cells": [
  {
   "cell_type": "markdown",
   "metadata": {},
   "source": [
    "# 연습문제(1)\n",
    "\n",
    "회귀분석을 통해 예측 모델을 만들고 해당 모델의 성능을 파악 하기 위해 제공되는 사이킷런의 성능 지표 모듈\n",
    "\n",
    "## #01. 작업준비\n",
    "\n",
    "### 패키지 가져오기 \n"
   ]
  },
  {
   "cell_type": "code",
   "execution_count": 1,
   "metadata": {},
   "outputs": [],
   "source": [
    "import pandas as pd \n",
    "from sklearn.linear_model import LinearRegression\n",
    "from sklearn.preprocessing import PolynomialFeatures\n",
    "from sklearn.model_selection import train_test_split\n",
    "from matplotlib import pyplot as plt\n",
    "import seaborn as sb\n",
    "from sklearn.preprocessing import LabelEncoder, OneHotEncoder\n",
    "import sys\n",
    "import os\n",
    "sys.path.append(os.path.dirname(os.path.dirname(os.getcwd())))\n",
    "import helper\n",
    "\n",
    "\n",
    "from sklearn.metrics import mean_squared_error, r2_score, mean_squared_log_error, mean_absolute_error\n",
    "\n",
    "import numpy as np"
   ]
  },
  {
   "cell_type": "markdown",
   "metadata": {},
   "source": [
    "## #01. 문제 (1)\n",
    "\n"
   ]
  },
  {
   "cell_type": "code",
   "execution_count": 2,
   "metadata": {},
   "outputs": [
    {
     "data": {
      "text/html": [
       "<div>\n",
       "<style scoped>\n",
       "    .dataframe tbody tr th:only-of-type {\n",
       "        vertical-align: middle;\n",
       "    }\n",
       "\n",
       "    .dataframe tbody tr th {\n",
       "        vertical-align: top;\n",
       "    }\n",
       "\n",
       "    .dataframe thead th {\n",
       "        text-align: right;\n",
       "    }\n",
       "</style>\n",
       "<table border=\"1\" class=\"dataframe\">\n",
       "  <thead>\n",
       "    <tr style=\"text-align: right;\">\n",
       "      <th></th>\n",
       "      <th>수분함유량</th>\n",
       "      <th>강도</th>\n",
       "    </tr>\n",
       "  </thead>\n",
       "  <tbody>\n",
       "    <tr>\n",
       "      <th>0</th>\n",
       "      <td>36</td>\n",
       "      <td>29</td>\n",
       "    </tr>\n",
       "    <tr>\n",
       "      <th>1</th>\n",
       "      <td>40</td>\n",
       "      <td>32</td>\n",
       "    </tr>\n",
       "    <tr>\n",
       "      <th>2</th>\n",
       "      <td>34</td>\n",
       "      <td>29</td>\n",
       "    </tr>\n",
       "    <tr>\n",
       "      <th>3</th>\n",
       "      <td>44</td>\n",
       "      <td>40</td>\n",
       "    </tr>\n",
       "    <tr>\n",
       "      <th>4</th>\n",
       "      <td>33</td>\n",
       "      <td>31</td>\n",
       "    </tr>\n",
       "  </tbody>\n",
       "</table>\n",
       "</div>"
      ],
      "text/plain": [
       "   수분함유량  강도\n",
       "0     36  29\n",
       "1     40  32\n",
       "2     34  29\n",
       "3     44  40\n",
       "4     33  31"
      ]
     },
     "execution_count": 2,
     "metadata": {},
     "output_type": "execute_result"
    }
   ],
   "source": [
    "df = pd.read_excel(\"https://data.hossam.kr/E04/beans.xlsx\")\n",
    "df.head()"
   ]
  },
  {
   "cell_type": "markdown",
   "metadata": {},
   "source": [
    "### 다항식으로 표현"
   ]
  },
  {
   "cell_type": "code",
   "execution_count": 3,
   "metadata": {},
   "outputs": [],
   "source": [
    "plt.rcParams[\"font.family\"] = 'AppleGothic' if sys.platform == 'darwin' else 'Malgun Gothic'\n",
    "plt.rcParams[\"font.size\"] = 12\n",
    "plt.rcParams[\"figure.figsize\"] = (10, 5)\n",
    "plt.rcParams[\"axes.unicode_minus\"] = False"
   ]
  },
  {
   "cell_type": "code",
   "execution_count": 4,
   "metadata": {},
   "outputs": [
    {
     "data": {
      "text/plain": [
       "array(['수분함유량', '수분함유량^2'], dtype=object)"
      ]
     },
     "execution_count": 4,
     "metadata": {},
     "output_type": "execute_result"
    }
   ],
   "source": [
    "poly = PolynomialFeatures(degree=2 , include_bias=False)\n",
    "fit = poly.fit_transform(df[['수분함유량']])\n",
    "poly.get_feature_names_out()"
   ]
  },
  {
   "cell_type": "code",
   "execution_count": 5,
   "metadata": {},
   "outputs": [
    {
     "data": {
      "text/html": [
       "<div>\n",
       "<style scoped>\n",
       "    .dataframe tbody tr th:only-of-type {\n",
       "        vertical-align: middle;\n",
       "    }\n",
       "\n",
       "    .dataframe tbody tr th {\n",
       "        vertical-align: top;\n",
       "    }\n",
       "\n",
       "    .dataframe thead th {\n",
       "        text-align: right;\n",
       "    }\n",
       "</style>\n",
       "<table border=\"1\" class=\"dataframe\">\n",
       "  <thead>\n",
       "    <tr style=\"text-align: right;\">\n",
       "      <th></th>\n",
       "      <th>수분함유량</th>\n",
       "      <th>수분함유량^2</th>\n",
       "    </tr>\n",
       "  </thead>\n",
       "  <tbody>\n",
       "    <tr>\n",
       "      <th>0</th>\n",
       "      <td>36.0</td>\n",
       "      <td>1296.0</td>\n",
       "    </tr>\n",
       "    <tr>\n",
       "      <th>1</th>\n",
       "      <td>40.0</td>\n",
       "      <td>1600.0</td>\n",
       "    </tr>\n",
       "    <tr>\n",
       "      <th>2</th>\n",
       "      <td>34.0</td>\n",
       "      <td>1156.0</td>\n",
       "    </tr>\n",
       "    <tr>\n",
       "      <th>3</th>\n",
       "      <td>44.0</td>\n",
       "      <td>1936.0</td>\n",
       "    </tr>\n",
       "    <tr>\n",
       "      <th>4</th>\n",
       "      <td>33.0</td>\n",
       "      <td>1089.0</td>\n",
       "    </tr>\n",
       "  </tbody>\n",
       "</table>\n",
       "</div>"
      ],
      "text/plain": [
       "   수분함유량  수분함유량^2\n",
       "0   36.0   1296.0\n",
       "1   40.0   1600.0\n",
       "2   34.0   1156.0\n",
       "3   44.0   1936.0\n",
       "4   33.0   1089.0"
      ]
     },
     "execution_count": 5,
     "metadata": {},
     "output_type": "execute_result"
    }
   ],
   "source": [
    "x= pd.DataFrame(fit,columns=poly.get_feature_names_out())\n",
    "x.head()"
   ]
  },
  {
   "cell_type": "code",
   "execution_count": 6,
   "metadata": {},
   "outputs": [
    {
     "data": {
      "text/html": [
       "<div>\n",
       "<style scoped>\n",
       "    .dataframe tbody tr th:only-of-type {\n",
       "        vertical-align: middle;\n",
       "    }\n",
       "\n",
       "    .dataframe tbody tr th {\n",
       "        vertical-align: top;\n",
       "    }\n",
       "\n",
       "    .dataframe thead th {\n",
       "        text-align: right;\n",
       "    }\n",
       "</style>\n",
       "<table border=\"1\" class=\"dataframe\">\n",
       "  <thead>\n",
       "    <tr style=\"text-align: right;\">\n",
       "      <th></th>\n",
       "      <th>강도</th>\n",
       "    </tr>\n",
       "  </thead>\n",
       "  <tbody>\n",
       "    <tr>\n",
       "      <th>0</th>\n",
       "      <td>29</td>\n",
       "    </tr>\n",
       "    <tr>\n",
       "      <th>1</th>\n",
       "      <td>32</td>\n",
       "    </tr>\n",
       "    <tr>\n",
       "      <th>2</th>\n",
       "      <td>29</td>\n",
       "    </tr>\n",
       "    <tr>\n",
       "      <th>3</th>\n",
       "      <td>40</td>\n",
       "    </tr>\n",
       "    <tr>\n",
       "      <th>4</th>\n",
       "      <td>31</td>\n",
       "    </tr>\n",
       "  </tbody>\n",
       "</table>\n",
       "</div>"
      ],
      "text/plain": [
       "   강도\n",
       "0  29\n",
       "1  32\n",
       "2  29\n",
       "3  40\n",
       "4  31"
      ]
     },
     "execution_count": 6,
     "metadata": {},
     "output_type": "execute_result"
    }
   ],
   "source": [
    "y= df[['강도']]\n",
    "y.head()"
   ]
  },
  {
   "cell_type": "markdown",
   "metadata": {},
   "source": [
    "### 데이터 분리"
   ]
  },
  {
   "cell_type": "code",
   "execution_count": 7,
   "metadata": {},
   "outputs": [
    {
     "name": "stdout",
     "output_type": "stream",
     "text": [
      "(7, 2)\n",
      "(7, 1)\n",
      "(3, 2)\n",
      "(3, 1)\n"
     ]
    }
   ],
   "source": [
    "x_train,x_test,y_train,y_test = train_test_split(x,y,test_size=0.3,random_state=123)\n",
    "\n",
    "print(x_train.shape)\n",
    "print(y_train.shape)\n",
    "print(x_test.shape)\n",
    "print(y_test.shape)"
   ]
  },
  {
   "cell_type": "markdown",
   "metadata": {},
   "source": [
    "### 회귀분석"
   ]
  },
  {
   "cell_type": "code",
   "execution_count": 8,
   "metadata": {},
   "outputs": [
    {
     "data": {
      "text/html": [
       "<div>\n",
       "<style scoped>\n",
       "    .dataframe tbody tr th:only-of-type {\n",
       "        vertical-align: middle;\n",
       "    }\n",
       "\n",
       "    .dataframe tbody tr th {\n",
       "        vertical-align: top;\n",
       "    }\n",
       "\n",
       "    .dataframe thead th {\n",
       "        text-align: right;\n",
       "    }\n",
       "</style>\n",
       "<table border=\"1\" class=\"dataframe\">\n",
       "  <thead>\n",
       "    <tr style=\"text-align: right;\">\n",
       "      <th></th>\n",
       "      <th>수분함유량</th>\n",
       "      <th>수분함유량^2</th>\n",
       "    </tr>\n",
       "  </thead>\n",
       "  <tbody>\n",
       "    <tr>\n",
       "      <th>4</th>\n",
       "      <td>33.0</td>\n",
       "      <td>1089.0</td>\n",
       "    </tr>\n",
       "    <tr>\n",
       "      <th>0</th>\n",
       "      <td>36.0</td>\n",
       "      <td>1296.0</td>\n",
       "    </tr>\n",
       "    <tr>\n",
       "      <th>7</th>\n",
       "      <td>33.0</td>\n",
       "      <td>1089.0</td>\n",
       "    </tr>\n",
       "  </tbody>\n",
       "</table>\n",
       "</div>"
      ],
      "text/plain": [
       "   수분함유량  수분함유량^2\n",
       "4   33.0   1089.0\n",
       "0   36.0   1296.0\n",
       "7   33.0   1089.0"
      ]
     },
     "execution_count": 8,
     "metadata": {},
     "output_type": "execute_result"
    }
   ],
   "source": [
    "x_test"
   ]
  },
  {
   "cell_type": "code",
   "execution_count": 9,
   "metadata": {},
   "outputs": [
    {
     "name": "stdout",
     "output_type": "stream",
     "text": [
      "기울기:  [[-2.05422407  0.04045876]]\n",
      "절편 :  [51.29936854]\n"
     ]
    }
   ],
   "source": [
    "model = LinearRegression()\n",
    "fit = model.fit(x_train,y_train)\n",
    "\n",
    "## 직선의 기울기 \n",
    "coef = fit.coef_\n",
    "\n",
    "\n",
    "\n",
    "## 절편 \n",
    "intercept = fit.intercept_\n",
    "\n",
    "print ('기울기: ', coef)\n",
    "\n",
    "print('절편 : ',intercept )\n",
    "\n"
   ]
  },
  {
   "cell_type": "markdown",
   "metadata": {},
   "source": [
    "## 설명력"
   ]
  },
  {
   "cell_type": "code",
   "execution_count": 10,
   "metadata": {},
   "outputs": [],
   "source": [
    "y_train_pred = fit.predict(x_train)\n",
    "\n",
    "y_test_pred = fit.predict(x_test)\n",
    "\n"
   ]
  },
  {
   "cell_type": "code",
   "execution_count": 11,
   "metadata": {},
   "outputs": [
    {
     "name": "stdout",
     "output_type": "stream",
     "text": [
      "훈련 데이터 설명력 :  0.948987598169573\n",
      "검증 데이터 설명력 :  -8.143084034528927\n"
     ]
    }
   ],
   "source": [
    "\n",
    "print('훈련 데이터 설명력 : ',r2_score(y_train,y_train_pred))\n",
    "print('검증 데이터 설명력 : ',r2_score(y_test,y_test_pred))"
   ]
  },
  {
   "cell_type": "markdown",
   "metadata": {},
   "source": [
    "### 에러율"
   ]
  },
  {
   "cell_type": "code",
   "execution_count": 12,
   "metadata": {},
   "outputs": [
    {
     "name": "stdout",
     "output_type": "stream",
     "text": [
      "훈련 데이터 MAE :  0.8245585260510643\n",
      "훈련 데이터 MAE :  2.214241293532337\n",
      "훈련 데이터 MSE :  0.9744409819036656\n",
      "훈련 데이터 MSE :  6.0953893563526185\n",
      "훈련 데이터 RMSE :  0.9871377725037501\n",
      "훈련 데이터 RMSE :  2.4688842330803236\n",
      "훈련 데이터 MAPE :  2.6248278332767847\n",
      "검증 데이터 MAPE :  7.287806079908203\n",
      "훈련 데이터 MPE :  -0.08405044961718743\n",
      "검증 데이터 MPE :  5.490426927922783\n"
     ]
    }
   ],
   "source": [
    "print('훈련 데이터 MAE : ',mean_absolute_error(y_train,y_train_pred))\n",
    "\n",
    "print('훈련 데이터 MAE : ',mean_absolute_error(y_test,y_test_pred))\n",
    "\n",
    "print('훈련 데이터 MSE : ',mean_squared_error(y_train,y_train_pred))\n",
    "\n",
    "print('훈련 데이터 MSE : ',mean_squared_error(y_test,y_test_pred))\n",
    "\n",
    "print('훈련 데이터 RMSE : ',np.sqrt(mean_squared_error(y_train,y_train_pred)))\n",
    "\n",
    "print('훈련 데이터 RMSE : ',np.sqrt(mean_squared_error(y_test,y_test_pred)))\n",
    "\n",
    "\n",
    "print('훈련 데이터 MAPE : ',np.mean(np.abs((y_train.values - y_train_pred)/y_train.values))*100)\n",
    "\n",
    "print('검증 데이터 MAPE : ',np.mean(np.abs((y_test.values - y_test_pred)/y_test.values))*100)\n",
    "\n",
    "print('훈련 데이터 MPE : ',np.mean((y_train.values - y_train_pred)/y_train.values)*100)\n",
    "\n",
    "print('검증 데이터 MPE : ',np.mean((y_test.values - y_test_pred)/y_test.values)*100)"
   ]
  },
  {
   "cell_type": "markdown",
   "metadata": {},
   "source": [
    "### 시각화"
   ]
  },
  {
   "cell_type": "code",
   "execution_count": 13,
   "metadata": {},
   "outputs": [
    {
     "data": {
      "text/html": [
       "<div>\n",
       "<style scoped>\n",
       "    .dataframe tbody tr th:only-of-type {\n",
       "        vertical-align: middle;\n",
       "    }\n",
       "\n",
       "    .dataframe tbody tr th {\n",
       "        vertical-align: top;\n",
       "    }\n",
       "\n",
       "    .dataframe thead th {\n",
       "        text-align: right;\n",
       "    }\n",
       "</style>\n",
       "<table border=\"1\" class=\"dataframe\">\n",
       "  <thead>\n",
       "    <tr style=\"text-align: right;\">\n",
       "      <th></th>\n",
       "      <th>강도</th>\n",
       "    </tr>\n",
       "  </thead>\n",
       "  <tbody>\n",
       "    <tr>\n",
       "      <th>5</th>\n",
       "      <td>29</td>\n",
       "    </tr>\n",
       "    <tr>\n",
       "      <th>8</th>\n",
       "      <td>25</td>\n",
       "    </tr>\n",
       "    <tr>\n",
       "      <th>3</th>\n",
       "      <td>40</td>\n",
       "    </tr>\n",
       "    <tr>\n",
       "      <th>1</th>\n",
       "      <td>32</td>\n",
       "    </tr>\n",
       "    <tr>\n",
       "      <th>6</th>\n",
       "      <td>34</td>\n",
       "    </tr>\n",
       "    <tr>\n",
       "      <th>9</th>\n",
       "      <td>31</td>\n",
       "    </tr>\n",
       "    <tr>\n",
       "      <th>2</th>\n",
       "      <td>29</td>\n",
       "    </tr>\n",
       "  </tbody>\n",
       "</table>\n",
       "</div>"
      ],
      "text/plain": [
       "   강도\n",
       "5  29\n",
       "8  25\n",
       "3  40\n",
       "1  32\n",
       "6  34\n",
       "9  31\n",
       "2  29"
      ]
     },
     "execution_count": 13,
     "metadata": {},
     "output_type": "execute_result"
    }
   ],
   "source": [
    "y_train"
   ]
  },
  {
   "cell_type": "code",
   "execution_count": 14,
   "metadata": {},
   "outputs": [
    {
     "data": {
      "text/html": [
       "<div>\n",
       "<style scoped>\n",
       "    .dataframe tbody tr th:only-of-type {\n",
       "        vertical-align: middle;\n",
       "    }\n",
       "\n",
       "    .dataframe tbody tr th {\n",
       "        vertical-align: top;\n",
       "    }\n",
       "\n",
       "    .dataframe thead th {\n",
       "        text-align: right;\n",
       "    }\n",
       "</style>\n",
       "<table border=\"1\" class=\"dataframe\">\n",
       "  <thead>\n",
       "    <tr style=\"text-align: right;\">\n",
       "      <th></th>\n",
       "      <th>수분함유량</th>\n",
       "      <th>수분함유량^2</th>\n",
       "    </tr>\n",
       "  </thead>\n",
       "  <tbody>\n",
       "    <tr>\n",
       "      <th>5</th>\n",
       "      <td>36.0</td>\n",
       "      <td>1296.0</td>\n",
       "    </tr>\n",
       "    <tr>\n",
       "      <th>8</th>\n",
       "      <td>26.0</td>\n",
       "      <td>676.0</td>\n",
       "    </tr>\n",
       "    <tr>\n",
       "      <th>3</th>\n",
       "      <td>44.0</td>\n",
       "      <td>1936.0</td>\n",
       "    </tr>\n",
       "    <tr>\n",
       "      <th>1</th>\n",
       "      <td>40.0</td>\n",
       "      <td>1600.0</td>\n",
       "    </tr>\n",
       "    <tr>\n",
       "      <th>6</th>\n",
       "      <td>40.0</td>\n",
       "      <td>1600.0</td>\n",
       "    </tr>\n",
       "    <tr>\n",
       "      <th>9</th>\n",
       "      <td>36.0</td>\n",
       "      <td>1296.0</td>\n",
       "    </tr>\n",
       "    <tr>\n",
       "      <th>2</th>\n",
       "      <td>34.0</td>\n",
       "      <td>1156.0</td>\n",
       "    </tr>\n",
       "  </tbody>\n",
       "</table>\n",
       "</div>"
      ],
      "text/plain": [
       "   수분함유량  수분함유량^2\n",
       "5   36.0   1296.0\n",
       "8   26.0    676.0\n",
       "3   44.0   1936.0\n",
       "1   40.0   1600.0\n",
       "6   40.0   1600.0\n",
       "9   36.0   1296.0\n",
       "2   34.0   1156.0"
      ]
     },
     "execution_count": 14,
     "metadata": {},
     "output_type": "execute_result"
    }
   ],
   "source": [
    "x_train"
   ]
  },
  {
   "cell_type": "code",
   "execution_count": 15,
   "metadata": {},
   "outputs": [
    {
     "data": {
      "text/plain": [
       "5    36.0\n",
       "8    26.0\n",
       "3    44.0\n",
       "1    40.0\n",
       "6    40.0\n",
       "9    36.0\n",
       "2    34.0\n",
       "Name: 수분함유량, dtype: float64"
      ]
     },
     "execution_count": 15,
     "metadata": {},
     "output_type": "execute_result"
    }
   ],
   "source": [
    "x_train['수분함유량']"
   ]
  },
  {
   "cell_type": "code",
   "execution_count": 16,
   "metadata": {},
   "outputs": [
    {
     "data": {
      "text/plain": [
       "array([29.78185993, 25.23966705, 39.24167623, 33.86442786, 33.86442786,\n",
       "       29.78185993, 28.22608113])"
      ]
     },
     "execution_count": 16,
     "metadata": {},
     "output_type": "execute_result"
    }
   ],
   "source": [
    "y_train_pred.reshape(-1)"
   ]
  },
  {
   "cell_type": "code",
   "execution_count": 17,
   "metadata": {},
   "outputs": [
    {
     "name": "stderr",
     "output_type": "stream",
     "text": [
      "c:\\Users\\hamin\\조해민\\Data_Analysis\\helper.py:884: RankWarning: Polyfit may be poorly conditioned\n",
      "  coeff = np.polyfit(x,y,degree)\n",
      "c:\\Users\\hamin\\조해민\\Data_Analysis\\helper.py:884: RankWarning: Polyfit may be poorly conditioned\n",
      "  coeff = np.polyfit(x,y,degree)\n"
     ]
    },
    {
     "data": {
      "image/png": "[encoded data removed]",
      "text/plain": [
       "<Figure size 1500x500 with 2 Axes>"
      ]
     },
     "metadata": {},
     "output_type": "display_data"
    }
   ],
   "source": [
    "fig, (ax1,ax2) = plt.subplots(1,2,figsize = (15,5))\n",
    "## 학습에 사용된 관측치 시각화\n",
    "\n",
    "sb.scatterplot(x=x_train['수분함유량'],y=y_train['강도'],label = 'train data',ax=ax1)\n",
    "## 학습에 사용한 데이터에 추세선\n",
    "x,y = helper.getTrend(x_train['수분함유량'],y_train['강도'])\n",
    "sb.lineplot(x=x,y=y,color='blue',ax=ax1)\n",
    "## 학습 데이터에 따른 추정치\n",
    "sb.scatterplot(x=x_train['수분함유량'],y=y_train_pred.reshape(-1),label = ' train predict',ax=ax1)\n",
    "\n",
    "### 추정치에 대한 추세선\n",
    "x,y= helper.getTrend(x=x_train['수분함유량'],y=y_train_pred.reshape(-1))\n",
    "sb.lineplot(x=x,y=y,color='red',ax=ax1)\n",
    "ax1.set_title(\"훈련 데이터\")\n",
    "ax1.legend()\n",
    "ax1.grid()\n",
    "\n",
    "## 검증데이터 시각화\n",
    "sb.scatterplot(x=x_test['수분함유량'],y=y_test['강도'],label = 'test data',ax=ax2)\n",
    "## 검증데이터 추세선\n",
    "x,y = helper.getTrend(x_test['수분함유량'],y_test['강도'])\n",
    "sb.lineplot(x=x,y=y,color='blue',ax=ax2)\n",
    "### 검증데이터 추정치 시각화\n",
    "sb.scatterplot(x=x_test['수분함유량'],y=y_test_pred.reshape(-1),label= 'test predict',ax=ax2)\n",
    "\n",
    "## 검증데이터 추정치에 대한 추세선\n",
    "x,y = helper.getTrend(x_test['수분함유량'],y_test_pred.reshape(-1))\n",
    "sb.lineplot(x=x,y=y,color='red',ax=ax2)\n",
    "\n",
    "ax2.set_title(\"검증 데이터\")\n",
    "ax2.legend()\n",
    "ax2.grid()"
   ]
  },
  {
   "cell_type": "markdown",
   "metadata": {},
   "source": [
    "## #02. 문제(2)"
   ]
  },
  {
   "cell_type": "code",
   "execution_count": 49,
   "metadata": {},
   "outputs": [],
   "source": [
    "plt.rcParams[\"font.family\"] = 'AppleGothic' if sys.platform == 'darwin' else 'Malgun Gothic'\n",
    "plt.rcParams[\"font.size\"] = 12\n",
    "plt.rcParams[\"figure.figsize\"] = (10, 5)\n",
    "plt.rcParams[\"axes.unicode_minus\"] = False"
   ]
  },
  {
   "cell_type": "code",
   "execution_count": 50,
   "metadata": {},
   "outputs": [
    {
     "data": {
      "text/html": [
       "<div>\n",
       "<style scoped>\n",
       "    .dataframe tbody tr th:only-of-type {\n",
       "        vertical-align: middle;\n",
       "    }\n",
       "\n",
       "    .dataframe tbody tr th {\n",
       "        vertical-align: top;\n",
       "    }\n",
       "\n",
       "    .dataframe thead th {\n",
       "        text-align: right;\n",
       "    }\n",
       "</style>\n",
       "<table border=\"1\" class=\"dataframe\">\n",
       "  <thead>\n",
       "    <tr style=\"text-align: right;\">\n",
       "      <th></th>\n",
       "      <th>예약대수</th>\n",
       "      <th>판매대수</th>\n",
       "    </tr>\n",
       "  </thead>\n",
       "  <tbody>\n",
       "    <tr>\n",
       "      <th>0</th>\n",
       "      <td>19</td>\n",
       "      <td>33</td>\n",
       "    </tr>\n",
       "    <tr>\n",
       "      <th>1</th>\n",
       "      <td>23</td>\n",
       "      <td>51</td>\n",
       "    </tr>\n",
       "    <tr>\n",
       "      <th>2</th>\n",
       "      <td>26</td>\n",
       "      <td>40</td>\n",
       "    </tr>\n",
       "    <tr>\n",
       "      <th>3</th>\n",
       "      <td>29</td>\n",
       "      <td>49</td>\n",
       "    </tr>\n",
       "    <tr>\n",
       "      <th>4</th>\n",
       "      <td>30</td>\n",
       "      <td>50</td>\n",
       "    </tr>\n",
       "  </tbody>\n",
       "</table>\n",
       "</div>"
      ],
      "text/plain": [
       "   예약대수  판매대수\n",
       "0    19    33\n",
       "1    23    51\n",
       "2    26    40\n",
       "3    29    49\n",
       "4    30    50"
      ]
     },
     "execution_count": 50,
     "metadata": {},
     "output_type": "execute_result"
    }
   ],
   "source": [
    "df= pd.read_excel('https://data.hossam.kr/E04/aircon.xlsx')\n",
    "df.head()"
   ]
  },
  {
   "cell_type": "code",
   "execution_count": 51,
   "metadata": {},
   "outputs": [
    {
     "data": {
      "text/plain": [
       "array(['예약대수', '예약대수^2'], dtype=object)"
      ]
     },
     "execution_count": 51,
     "metadata": {},
     "output_type": "execute_result"
    }
   ],
   "source": [
    "poly = PolynomialFeatures(degree=2,include_bias=False)\n",
    "fit = poly.fit_transform(df[['예약대수']])\n",
    "poly.get_feature_names_out()"
   ]
  },
  {
   "cell_type": "code",
   "execution_count": 53,
   "metadata": {},
   "outputs": [
    {
     "data": {
      "text/html": [
       "<div>\n",
       "<style scoped>\n",
       "    .dataframe tbody tr th:only-of-type {\n",
       "        vertical-align: middle;\n",
       "    }\n",
       "\n",
       "    .dataframe tbody tr th {\n",
       "        vertical-align: top;\n",
       "    }\n",
       "\n",
       "    .dataframe thead th {\n",
       "        text-align: right;\n",
       "    }\n",
       "</style>\n",
       "<table border=\"1\" class=\"dataframe\">\n",
       "  <thead>\n",
       "    <tr style=\"text-align: right;\">\n",
       "      <th></th>\n",
       "      <th>예약대수</th>\n",
       "      <th>예약대수^2</th>\n",
       "    </tr>\n",
       "  </thead>\n",
       "  <tbody>\n",
       "    <tr>\n",
       "      <th>0</th>\n",
       "      <td>19.0</td>\n",
       "      <td>361.0</td>\n",
       "    </tr>\n",
       "    <tr>\n",
       "      <th>1</th>\n",
       "      <td>23.0</td>\n",
       "      <td>529.0</td>\n",
       "    </tr>\n",
       "    <tr>\n",
       "      <th>2</th>\n",
       "      <td>26.0</td>\n",
       "      <td>676.0</td>\n",
       "    </tr>\n",
       "    <tr>\n",
       "      <th>3</th>\n",
       "      <td>29.0</td>\n",
       "      <td>841.0</td>\n",
       "    </tr>\n",
       "    <tr>\n",
       "      <th>4</th>\n",
       "      <td>30.0</td>\n",
       "      <td>900.0</td>\n",
       "    </tr>\n",
       "  </tbody>\n",
       "</table>\n",
       "</div>"
      ],
      "text/plain": [
       "   예약대수  예약대수^2\n",
       "0  19.0   361.0\n",
       "1  23.0   529.0\n",
       "2  26.0   676.0\n",
       "3  29.0   841.0\n",
       "4  30.0   900.0"
      ]
     },
     "execution_count": 53,
     "metadata": {},
     "output_type": "execute_result"
    }
   ],
   "source": [
    "x= pd.DataFrame(fit,columns=poly.get_feature_names_out())\n",
    "x.head()"
   ]
  },
  {
   "cell_type": "code",
   "execution_count": 54,
   "metadata": {},
   "outputs": [],
   "source": [
    "y=df[['판매대수']]"
   ]
  },
  {
   "cell_type": "markdown",
   "metadata": {},
   "source": [
    "### 데이터 분리"
   ]
  },
  {
   "cell_type": "code",
   "execution_count": 55,
   "metadata": {},
   "outputs": [
    {
     "name": "stdout",
     "output_type": "stream",
     "text": [
      "(7, 2)\n",
      "(7, 1)\n",
      "(3, 2)\n",
      "(3, 1)\n"
     ]
    }
   ],
   "source": [
    "x_train,x_test,y_train,y_test = train_test_split(x,y,test_size=0.3,random_state=123)\n",
    "print(x_train.shape)\n",
    "print(y_train.shape)\n",
    "print(x_test.shape)\n",
    "print(y_test.shape)"
   ]
  },
  {
   "cell_type": "markdown",
   "metadata": {},
   "source": [
    "### 회귀분석\n"
   ]
  },
  {
   "cell_type": "code",
   "execution_count": 56,
   "metadata": {},
   "outputs": [
    {
     "name": "stdout",
     "output_type": "stream",
     "text": [
      "기울기:  [[ 1.72732907e+00 -1.10258345e-03]]\n",
      "절편 :  [3.61731765]\n"
     ]
    }
   ],
   "source": [
    "model = LinearRegression()\n",
    "fit = model.fit(x_train,y_train)\n",
    "\n",
    "\n",
    "## 기울기 \n",
    "coef = fit.coef_\n",
    "## 절편\n",
    "intercept = fit.intercept_\n",
    "\n",
    "print ('기울기: ', coef)\n",
    "\n",
    "print('절편 : ',intercept )\n",
    "\n",
    "\n"
   ]
  },
  {
   "cell_type": "markdown",
   "metadata": {},
   "source": [
    "### 설명력"
   ]
  },
  {
   "cell_type": "code",
   "execution_count": 58,
   "metadata": {},
   "outputs": [
    {
     "name": "stdout",
     "output_type": "stream",
     "text": [
      "훈련 데이터 설명력 :  0.9418315846138151\n",
      "검증 데이터 설명력 :  0.3583742568809699\n"
     ]
    }
   ],
   "source": [
    "y_train_pred = fit.predict(x_train)\n",
    "y_test_pred = fit.predict(x_test)\n",
    "\n",
    "print('훈련 데이터 설명력 : ',r2_score(y_train,y_train_pred))\n",
    "print('검증 데이터 설명력 : ',r2_score(y_test,y_test_pred))\n",
    "\n"
   ]
  },
  {
   "cell_type": "markdown",
   "metadata": {},
   "source": [
    "### 에러율 "
   ]
  },
  {
   "cell_type": "code",
   "execution_count": 59,
   "metadata": {},
   "outputs": [
    {
     "name": "stdout",
     "output_type": "stream",
     "text": [
      "훈련 데이터 MAE :  3.902407933472026\n",
      "훈련 데이터 MAE :  8.074930020670541\n",
      "훈련 데이터 MSE :  22.982459630133462\n",
      "훈련 데이터 MSE :  103.08786939445751\n",
      "훈련 데이터 RMSE :  4.794002464552293\n",
      "훈련 데이터 RMSE :  10.153219656564982\n",
      "훈련 데이터 MAPE :  7.4573619696148725\n",
      "검증 데이터 MAPE :  14.751945665039626\n",
      "훈련 데이터 MPE :  -0.9174718034904253\n",
      "검증 데이터 MPE :  -14.751945665039626\n"
     ]
    }
   ],
   "source": [
    "print('훈련 데이터 MAE : ',mean_absolute_error(y_train,y_train_pred))\n",
    "\n",
    "print('훈련 데이터 MAE : ',mean_absolute_error(y_test,y_test_pred))\n",
    "\n",
    "print('훈련 데이터 MSE : ',mean_squared_error(y_train,y_train_pred))\n",
    "\n",
    "print('훈련 데이터 MSE : ',mean_squared_error(y_test,y_test_pred))\n",
    "\n",
    "print('훈련 데이터 RMSE : ',np.sqrt(mean_squared_error(y_train,y_train_pred)))\n",
    "\n",
    "print('훈련 데이터 RMSE : ',np.sqrt(mean_squared_error(y_test,y_test_pred)))\n",
    "\n",
    "\n",
    "print('훈련 데이터 MAPE : ',np.mean(np.abs((y_train.values - y_train_pred)/y_train.values))*100)\n",
    "\n",
    "print('검증 데이터 MAPE : ',np.mean(np.abs((y_test.values - y_test_pred)/y_test.values))*100)\n",
    "\n",
    "print('훈련 데이터 MPE : ',np.mean((y_train.values - y_train_pred)/y_train.values)*100)\n",
    "\n",
    "print('검증 데이터 MPE : ',np.mean((y_test.values - y_test_pred)/y_test.values)*100)"
   ]
  },
  {
   "cell_type": "markdown",
   "metadata": {},
   "source": [
    "### 시각화"
   ]
  },
  {
   "cell_type": "code",
   "execution_count": 69,
   "metadata": {},
   "outputs": [
    {
     "data": {
      "text/plain": [
       "<Axes: xlabel='예약대수', ylabel='판매대수'>"
      ]
     },
     "execution_count": 69,
     "metadata": {},
     "output_type": "execute_result"
    },
    {
     "data": {
      "image/png": "[encoded data removed]",
      "text/plain": [
       "<Figure size 1500x500 with 2 Axes>"
      ]
     },
     "metadata": {},
     "output_type": "display_data"
    }
   ],
   "source": [
    "fig,(ax1,ax2) = plt.subplots(1,2,figsize=(15,5))\n",
    "## 관측치 시각화\n",
    "sb.scatterplot(x=x_train['예약대수'],y=y_train['판매대수'],label = 'train data',ax=ax1)\n",
    "## 관측치 선그래프\n",
    "sb.lineplot(x=x_train['예약대수'],y=y_train['판매대수'],ax=ax1)\n",
    "\n",
    "### 학습데이터에 따른 추정치\n",
    "sb.scatterplot(x=x_train['예약대수'],y=y_train_pred.reshape(-1),label='train predict data',ax=ax1)\n",
    "## 추정치에 따른 선그래프\n",
    "sb.lineplot(x=x_train['예약대수'],y=y_train_pred.reshape(-1),ax=ax1)\n",
    "\n",
    "## 검증 데이터 시각화\n",
    "sb.scatterplot(x=x_test['예약대수'],y=y_test['판매대수'],label='test data', ax=ax2)\n",
    "## 검증 데이터 선그래프\n",
    "sb.lineplot(x=x_test['예약대수'],y=y_test['판매대수'],ax=ax2)\n",
    "\n",
    "## 검증데이터 추정치 \n",
    "sb.scatterplot(x=x_test['예약대수'],y=y_test_pred.reshape(-1),label='test predict data',ax=ax2)\n",
    "## 검증데이터 선그래프\n",
    "\n",
    "sb.lineplot(x=x_test['예약대수'],y=y_test_pred.reshape(-1),ax=ax2)\n"
   ]
  },
  {
   "cell_type": "code",
   "execution_count": null,
   "metadata": {},
   "outputs": [],
   "source": []
  },
  {
   "cell_type": "code",
   "execution_count": null,
   "metadata": {},
   "outputs": [],
   "source": []
  },
  {
   "cell_type": "code",
   "execution_count": null,
   "metadata": {},
   "outputs": [],
   "source": []
  },
  {
   "cell_type": "markdown",
   "metadata": {},
   "source": [
    "## #03. 문제(3) \n"
   ]
  },
  {
   "cell_type": "code",
   "execution_count": 71,
   "metadata": {},
   "outputs": [
    {
     "data": {
      "text/html": [
       "<div>\n",
       "<style scoped>\n",
       "    .dataframe tbody tr th:only-of-type {\n",
       "        vertical-align: middle;\n",
       "    }\n",
       "\n",
       "    .dataframe tbody tr th {\n",
       "        vertical-align: top;\n",
       "    }\n",
       "\n",
       "    .dataframe thead th {\n",
       "        text-align: right;\n",
       "    }\n",
       "</style>\n",
       "<table border=\"1\" class=\"dataframe\">\n",
       "  <thead>\n",
       "    <tr style=\"text-align: right;\">\n",
       "      <th></th>\n",
       "      <th>child</th>\n",
       "      <th>parent</th>\n",
       "    </tr>\n",
       "  </thead>\n",
       "  <tbody>\n",
       "    <tr>\n",
       "      <th>0</th>\n",
       "      <td>61.7</td>\n",
       "      <td>70.5</td>\n",
       "    </tr>\n",
       "    <tr>\n",
       "      <th>1</th>\n",
       "      <td>61.7</td>\n",
       "      <td>68.5</td>\n",
       "    </tr>\n",
       "    <tr>\n",
       "      <th>2</th>\n",
       "      <td>61.7</td>\n",
       "      <td>65.5</td>\n",
       "    </tr>\n",
       "    <tr>\n",
       "      <th>3</th>\n",
       "      <td>61.7</td>\n",
       "      <td>64.5</td>\n",
       "    </tr>\n",
       "    <tr>\n",
       "      <th>4</th>\n",
       "      <td>61.7</td>\n",
       "      <td>64.0</td>\n",
       "    </tr>\n",
       "  </tbody>\n",
       "</table>\n",
       "</div>"
      ],
      "text/plain": [
       "   child  parent\n",
       "0   61.7    70.5\n",
       "1   61.7    68.5\n",
       "2   61.7    65.5\n",
       "3   61.7    64.5\n",
       "4   61.7    64.0"
      ]
     },
     "execution_count": 71,
     "metadata": {},
     "output_type": "execute_result"
    }
   ],
   "source": [
    "df= pd.read_excel('https://data.hossam.kr/E04/galton.xlsx')\n",
    "df.head()"
   ]
  },
  {
   "cell_type": "code",
   "execution_count": 72,
   "metadata": {},
   "outputs": [],
   "source": [
    "plt.rcParams[\"font.family\"] = 'AppleGothic' if sys.platform == 'darwin' else 'Malgun Gothic'\n",
    "plt.rcParams[\"font.size\"] = 12\n",
    "plt.rcParams[\"figure.figsize\"] = (10, 5)\n",
    "plt.rcParams[\"axes.unicode_minus\"] = False"
   ]
  },
  {
   "cell_type": "markdown",
   "metadata": {},
   "source": [
    "### 다항식 변환\n"
   ]
  },
  {
   "cell_type": "code",
   "execution_count": 74,
   "metadata": {},
   "outputs": [
    {
     "data": {
      "text/plain": [
       "array(['parent', 'parent^2'], dtype=object)"
      ]
     },
     "execution_count": 74,
     "metadata": {},
     "output_type": "execute_result"
    }
   ],
   "source": [
    "poly = PolynomialFeatures(degree=2,include_bias=False)\n",
    "fit=  poly.fit_transform(df[['parent']])\n",
    "poly.get_feature_names_out()"
   ]
  },
  {
   "cell_type": "code",
   "execution_count": 77,
   "metadata": {},
   "outputs": [],
   "source": [
    "x= pd.DataFrame(fit,columns=poly.get_feature_names_out())"
   ]
  },
  {
   "cell_type": "code",
   "execution_count": 83,
   "metadata": {},
   "outputs": [],
   "source": [
    "y=df[['child']]"
   ]
  },
  {
   "cell_type": "markdown",
   "metadata": {},
   "source": [
    "### 데이터 분리"
   ]
  },
  {
   "cell_type": "code",
   "execution_count": 84,
   "metadata": {},
   "outputs": [
    {
     "name": "stdout",
     "output_type": "stream",
     "text": [
      "(649, 2)\n",
      "(649, 1)\n",
      "(279, 2)\n",
      "(279, 1)\n"
     ]
    }
   ],
   "source": [
    "x_train,x_test,y_train,y_test = train_test_split(x,y,test_size=0.3,random_state=12)\n",
    "print(x_train.shape)\n",
    "print(y_train.shape)\n",
    "print(x_test.shape)\n",
    "print(y_test.shape)"
   ]
  },
  {
   "cell_type": "markdown",
   "metadata": {},
   "source": [
    "### 회귀분석\n",
    "\n"
   ]
  },
  {
   "cell_type": "code",
   "execution_count": 85,
   "metadata": {},
   "outputs": [
    {
     "name": "stdout",
     "output_type": "stream",
     "text": [
      "기울기:  [[-5.64286268  0.04574315]]\n",
      "절편 :  [239.91854072]\n"
     ]
    }
   ],
   "source": [
    "model = LinearRegression()\n",
    "fit = model.fit(x_train,y_train)\n",
    "\n",
    "# 기울기 \n",
    "coef = fit.coef_\n",
    "# 절편\n",
    "intercept = fit.intercept_\n",
    "print ('기울기: ', coef)\n",
    "\n",
    "print('절편 : ',intercept )\n",
    "\n"
   ]
  },
  {
   "cell_type": "markdown",
   "metadata": {},
   "source": [
    "### 설명력"
   ]
  },
  {
   "cell_type": "code",
   "execution_count": 86,
   "metadata": {},
   "outputs": [
    {
     "name": "stdout",
     "output_type": "stream",
     "text": [
      "훈련 데이터 설명력 :  0.1901345908760611\n",
      "검증 데이터 설명력 :  0.263146408232788\n"
     ]
    }
   ],
   "source": [
    "y_train_pred = fit.predict(x_train)\n",
    "y_test_pred = fit.predict(x_test)\n",
    "\n",
    "print('훈련 데이터 설명력 : ',r2_score(y_train,y_train_pred))\n",
    "print('검증 데이터 설명력 : ',r2_score(y_test,y_test_pred))\n"
   ]
  },
  {
   "cell_type": "markdown",
   "metadata": {},
   "source": [
    "### 에러율"
   ]
  },
  {
   "cell_type": "code",
   "execution_count": 87,
   "metadata": {},
   "outputs": [
    {
     "name": "stdout",
     "output_type": "stream",
     "text": [
      "훈련 데이터 MAE :  1.810636603695316\n",
      "훈련 데이터 MAE :  1.770594800859888\n",
      "훈련 데이터 MSE :  5.057921456237263\n",
      "훈련 데이터 MSE :  4.816645164441858\n",
      "훈련 데이터 RMSE :  2.248982315679086\n",
      "훈련 데이터 RMSE :  2.1946856641537207\n",
      "훈련 데이터 MAPE :  2.6742113555454496\n",
      "검증 데이터 MAPE :  2.6081757808120325\n",
      "훈련 데이터 MPE :  -0.11038332335243407\n",
      "검증 데이터 MPE :  0.08443350581051012\n"
     ]
    }
   ],
   "source": [
    "print('훈련 데이터 MAE : ',mean_absolute_error(y_train,y_train_pred))\n",
    "\n",
    "print('훈련 데이터 MAE : ',mean_absolute_error(y_test,y_test_pred))\n",
    "\n",
    "print('훈련 데이터 MSE : ',mean_squared_error(y_train,y_train_pred))\n",
    "\n",
    "print('훈련 데이터 MSE : ',mean_squared_error(y_test,y_test_pred))\n",
    "\n",
    "print('훈련 데이터 RMSE : ',np.sqrt(mean_squared_error(y_train,y_train_pred)))\n",
    "\n",
    "print('훈련 데이터 RMSE : ',np.sqrt(mean_squared_error(y_test,y_test_pred)))\n",
    "\n",
    "\n",
    "print('훈련 데이터 MAPE : ',np.mean(np.abs((y_train.values - y_train_pred)/y_train.values))*100)\n",
    "\n",
    "print('검증 데이터 MAPE : ',np.mean(np.abs((y_test.values - y_test_pred)/y_test.values))*100)\n",
    "\n",
    "print('훈련 데이터 MPE : ',np.mean((y_train.values - y_train_pred)/y_train.values)*100)\n",
    "\n",
    "print('검증 데이터 MPE : ',np.mean((y_test.values - y_test_pred)/y_test.values)*100)"
   ]
  },
  {
   "cell_type": "markdown",
   "metadata": {},
   "source": [
    "### 시각화"
   ]
  },
  {
   "cell_type": "code",
   "execution_count": 82,
   "metadata": {},
   "outputs": [
    {
     "data": {
      "text/plain": [
       "326    67.2\n",
       "153    66.2\n",
       "138    65.2\n",
       "457    68.2\n",
       "921    73.7\n",
       "       ... \n",
       "241    66.2\n",
       "253    66.2\n",
       "390    67.2\n",
       "667    69.2\n",
       "843    71.2\n",
       "Name: child, Length: 649, dtype: float64"
      ]
     },
     "execution_count": 82,
     "metadata": {},
     "output_type": "execute_result"
    }
   ],
   "source": [
    "y_train"
   ]
  },
  {
   "cell_type": "code",
   "execution_count": 100,
   "metadata": {},
   "outputs": [
    {
     "data": {
      "text/plain": [
       "<Axes: xlabel='parent', ylabel='child'>"
      ]
     },
     "execution_count": 100,
     "metadata": {},
     "output_type": "execute_result"
    },
    {
     "data": {
      "image/png": "[encoded data removed]",
      "text/plain": [
       "<Figure size 1500x500 with 2 Axes>"
      ]
     },
     "metadata": {},
     "output_type": "display_data"
    }
   ],
   "source": [
    "fig,(ax1,ax2) = plt.subplots(1,2,figsize=(15,5))\n",
    "## 관측치 시각화 \n",
    "sb.scatterplot(x=x_train['parent'],y=y_train['child'],ax=ax1,label='train data')\n",
    "## 관측치 추세선\n",
    "sb.regplot(x=x_train['parent'],y=y_train['child'],ax=ax1)\n",
    "\n",
    "## 학습데이터에 따른 추정치\n",
    "sb.scatterplot(x=x_train['parent'],y=y_train_pred.reshape(-1),ax=ax1,label='train predcit data')\n",
    "## 추정치에 따른 그래프\n",
    "sb.lineplot(x=x_train['parent'],y=y_train_pred.reshape(-1),ax=ax1) \n",
    "\n",
    "## 검증 데이터 시각화\n",
    "sb.scatterplot(x=x_test['parent'],y=y_test['child'],label='test data',ax=ax2)\n",
    "## 검증 데이터 추세선\n",
    "sb.regplot(x=x_test['parent'],y=y_test['child'],ax=ax2)\n",
    "\n",
    "## 검증 데이터 추정치 \n",
    "sb.scatterplot(x=x_test['parent'],y=y_test_pred.reshape(-1),label='test predict data',ax=ax2)\n",
    "## 검증 데이터 선그래프\n",
    "sb.lineplot(x=x_test['parent'],y=y_test_pred.reshape(-1),ax=ax2)\n"
   ]
  },
  {
   "cell_type": "code",
   "execution_count": 95,
   "metadata": {},
   "outputs": [
    {
     "data": {
      "text/plain": [
       "649"
      ]
     },
     "execution_count": 95,
     "metadata": {},
     "output_type": "execute_result"
    }
   ],
   "source": [
    "len(y_train_pred)"
   ]
  },
  {
   "cell_type": "markdown",
   "metadata": {},
   "source": [
    "## #04. 문제(4)"
   ]
  },
  {
   "cell_type": "code",
   "execution_count": 106,
   "metadata": {},
   "outputs": [],
   "source": [
    "plt.rcParams[\"font.family\"] = 'AppleGothic' if sys.platform == 'darwin' else 'Malgun Gothic'\n",
    "plt.rcParams[\"font.size\"] = 12\n",
    "plt.rcParams[\"figure.figsize\"] = (10, 5)\n",
    "plt.rcParams[\"axes.unicode_minus\"] = False"
   ]
  },
  {
   "cell_type": "code",
   "execution_count": 18,
   "metadata": {},
   "outputs": [
    {
     "data": {
      "text/html": [
       "<div>\n",
       "<style scoped>\n",
       "    .dataframe tbody tr th:only-of-type {\n",
       "        vertical-align: middle;\n",
       "    }\n",
       "\n",
       "    .dataframe tbody tr th {\n",
       "        vertical-align: top;\n",
       "    }\n",
       "\n",
       "    .dataframe thead th {\n",
       "        text-align: right;\n",
       "    }\n",
       "</style>\n",
       "<table border=\"1\" class=\"dataframe\">\n",
       "  <thead>\n",
       "    <tr style=\"text-align: right;\">\n",
       "      <th></th>\n",
       "      <th>age</th>\n",
       "      <th>sex</th>\n",
       "      <th>bmi</th>\n",
       "      <th>bp</th>\n",
       "      <th>s1</th>\n",
       "      <th>s2</th>\n",
       "      <th>s3</th>\n",
       "      <th>s4</th>\n",
       "      <th>s5</th>\n",
       "      <th>s6</th>\n",
       "      <th>target</th>\n",
       "    </tr>\n",
       "  </thead>\n",
       "  <tbody>\n",
       "    <tr>\n",
       "      <th>0</th>\n",
       "      <td>0.038076</td>\n",
       "      <td>0.050680</td>\n",
       "      <td>0.061696</td>\n",
       "      <td>0.021872</td>\n",
       "      <td>-0.044223</td>\n",
       "      <td>-0.034821</td>\n",
       "      <td>-0.043401</td>\n",
       "      <td>-0.002592</td>\n",
       "      <td>0.019907</td>\n",
       "      <td>-0.017646</td>\n",
       "      <td>151</td>\n",
       "    </tr>\n",
       "    <tr>\n",
       "      <th>1</th>\n",
       "      <td>-0.001882</td>\n",
       "      <td>-0.044642</td>\n",
       "      <td>-0.051474</td>\n",
       "      <td>-0.026328</td>\n",
       "      <td>-0.008449</td>\n",
       "      <td>-0.019163</td>\n",
       "      <td>0.074412</td>\n",
       "      <td>-0.039493</td>\n",
       "      <td>-0.068332</td>\n",
       "      <td>-0.092204</td>\n",
       "      <td>75</td>\n",
       "    </tr>\n",
       "    <tr>\n",
       "      <th>2</th>\n",
       "      <td>0.085299</td>\n",
       "      <td>0.050680</td>\n",
       "      <td>0.044451</td>\n",
       "      <td>-0.005670</td>\n",
       "      <td>-0.045599</td>\n",
       "      <td>-0.034194</td>\n",
       "      <td>-0.032356</td>\n",
       "      <td>-0.002592</td>\n",
       "      <td>0.002861</td>\n",
       "      <td>-0.025930</td>\n",
       "      <td>141</td>\n",
       "    </tr>\n",
       "    <tr>\n",
       "      <th>3</th>\n",
       "      <td>-0.089063</td>\n",
       "      <td>-0.044642</td>\n",
       "      <td>-0.011595</td>\n",
       "      <td>-0.036656</td>\n",
       "      <td>0.012191</td>\n",
       "      <td>0.024991</td>\n",
       "      <td>-0.036038</td>\n",
       "      <td>0.034309</td>\n",
       "      <td>0.022688</td>\n",
       "      <td>-0.009362</td>\n",
       "      <td>206</td>\n",
       "    </tr>\n",
       "    <tr>\n",
       "      <th>4</th>\n",
       "      <td>0.005383</td>\n",
       "      <td>-0.044642</td>\n",
       "      <td>-0.036385</td>\n",
       "      <td>0.021872</td>\n",
       "      <td>0.003935</td>\n",
       "      <td>0.015596</td>\n",
       "      <td>0.008142</td>\n",
       "      <td>-0.002592</td>\n",
       "      <td>-0.031988</td>\n",
       "      <td>-0.046641</td>\n",
       "      <td>135</td>\n",
       "    </tr>\n",
       "  </tbody>\n",
       "</table>\n",
       "</div>"
      ],
      "text/plain": [
       "        age       sex       bmi        bp        s1        s2        s3  \\\n",
       "0  0.038076  0.050680  0.061696  0.021872 -0.044223 -0.034821 -0.043401   \n",
       "1 -0.001882 -0.044642 -0.051474 -0.026328 -0.008449 -0.019163  0.074412   \n",
       "2  0.085299  0.050680  0.044451 -0.005670 -0.045599 -0.034194 -0.032356   \n",
       "3 -0.089063 -0.044642 -0.011595 -0.036656  0.012191  0.024991 -0.036038   \n",
       "4  0.005383 -0.044642 -0.036385  0.021872  0.003935  0.015596  0.008142   \n",
       "\n",
       "         s4        s5        s6  target  \n",
       "0 -0.002592  0.019907 -0.017646     151  \n",
       "1 -0.039493 -0.068332 -0.092204      75  \n",
       "2 -0.002592  0.002861 -0.025930     141  \n",
       "3  0.034309  0.022688 -0.009362     206  \n",
       "4 -0.002592 -0.031988 -0.046641     135  "
      ]
     },
     "execution_count": 18,
     "metadata": {},
     "output_type": "execute_result"
    }
   ],
   "source": [
    "df= pd.read_excel('https://data.hossam.kr/E04/diabetes.xlsx')\n",
    "df.head()"
   ]
  },
  {
   "cell_type": "code",
   "execution_count": null,
   "metadata": {},
   "outputs": [],
   "source": []
  },
  {
   "cell_type": "markdown",
   "metadata": {},
   "source": [
    "### 상관관꼐 확인 후 데이터 제거"
   ]
  },
  {
   "cell_type": "code",
   "execution_count": 108,
   "metadata": {},
   "outputs": [
    {
     "data": {
      "text/html": [
       "<div>\n",
       "<style scoped>\n",
       "    .dataframe tbody tr th:only-of-type {\n",
       "        vertical-align: middle;\n",
       "    }\n",
       "\n",
       "    .dataframe tbody tr th {\n",
       "        vertical-align: top;\n",
       "    }\n",
       "\n",
       "    .dataframe thead th {\n",
       "        text-align: right;\n",
       "    }\n",
       "</style>\n",
       "<table border=\"1\" class=\"dataframe\">\n",
       "  <thead>\n",
       "    <tr style=\"text-align: right;\">\n",
       "      <th></th>\n",
       "      <th>age</th>\n",
       "      <th>sex</th>\n",
       "      <th>bmi</th>\n",
       "      <th>bp</th>\n",
       "      <th>s1</th>\n",
       "      <th>s2</th>\n",
       "      <th>s3</th>\n",
       "      <th>s4</th>\n",
       "      <th>s5</th>\n",
       "      <th>s6</th>\n",
       "      <th>target</th>\n",
       "    </tr>\n",
       "  </thead>\n",
       "  <tbody>\n",
       "    <tr>\n",
       "      <th>age</th>\n",
       "      <td>1.000000</td>\n",
       "      <td>0.173737</td>\n",
       "      <td>0.185085</td>\n",
       "      <td>0.335428</td>\n",
       "      <td>0.260061</td>\n",
       "      <td>0.219243</td>\n",
       "      <td>-0.075181</td>\n",
       "      <td>0.203841</td>\n",
       "      <td>0.270774</td>\n",
       "      <td>0.301731</td>\n",
       "      <td>0.187889</td>\n",
       "    </tr>\n",
       "    <tr>\n",
       "      <th>sex</th>\n",
       "      <td>0.173737</td>\n",
       "      <td>1.000000</td>\n",
       "      <td>0.088161</td>\n",
       "      <td>0.241010</td>\n",
       "      <td>0.035277</td>\n",
       "      <td>0.142637</td>\n",
       "      <td>-0.379090</td>\n",
       "      <td>0.332115</td>\n",
       "      <td>0.149916</td>\n",
       "      <td>0.208133</td>\n",
       "      <td>0.043062</td>\n",
       "    </tr>\n",
       "    <tr>\n",
       "      <th>bmi</th>\n",
       "      <td>0.185085</td>\n",
       "      <td>0.088161</td>\n",
       "      <td>1.000000</td>\n",
       "      <td>0.395411</td>\n",
       "      <td>0.249777</td>\n",
       "      <td>0.261170</td>\n",
       "      <td>-0.366811</td>\n",
       "      <td>0.413807</td>\n",
       "      <td>0.446157</td>\n",
       "      <td>0.388680</td>\n",
       "      <td>0.586450</td>\n",
       "    </tr>\n",
       "    <tr>\n",
       "      <th>bp</th>\n",
       "      <td>0.335428</td>\n",
       "      <td>0.241010</td>\n",
       "      <td>0.395411</td>\n",
       "      <td>1.000000</td>\n",
       "      <td>0.242464</td>\n",
       "      <td>0.185548</td>\n",
       "      <td>-0.178762</td>\n",
       "      <td>0.257650</td>\n",
       "      <td>0.393480</td>\n",
       "      <td>0.390430</td>\n",
       "      <td>0.441482</td>\n",
       "    </tr>\n",
       "    <tr>\n",
       "      <th>s1</th>\n",
       "      <td>0.260061</td>\n",
       "      <td>0.035277</td>\n",
       "      <td>0.249777</td>\n",
       "      <td>0.242464</td>\n",
       "      <td>1.000000</td>\n",
       "      <td>0.896663</td>\n",
       "      <td>0.051519</td>\n",
       "      <td>0.542207</td>\n",
       "      <td>0.515503</td>\n",
       "      <td>0.325717</td>\n",
       "      <td>0.212022</td>\n",
       "    </tr>\n",
       "    <tr>\n",
       "      <th>s2</th>\n",
       "      <td>0.219243</td>\n",
       "      <td>0.142637</td>\n",
       "      <td>0.261170</td>\n",
       "      <td>0.185548</td>\n",
       "      <td>0.896663</td>\n",
       "      <td>1.000000</td>\n",
       "      <td>-0.196455</td>\n",
       "      <td>0.659817</td>\n",
       "      <td>0.318357</td>\n",
       "      <td>0.290600</td>\n",
       "      <td>0.174054</td>\n",
       "    </tr>\n",
       "    <tr>\n",
       "      <th>s3</th>\n",
       "      <td>-0.075181</td>\n",
       "      <td>-0.379090</td>\n",
       "      <td>-0.366811</td>\n",
       "      <td>-0.178762</td>\n",
       "      <td>0.051519</td>\n",
       "      <td>-0.196455</td>\n",
       "      <td>1.000000</td>\n",
       "      <td>-0.738493</td>\n",
       "      <td>-0.398577</td>\n",
       "      <td>-0.273697</td>\n",
       "      <td>-0.394789</td>\n",
       "    </tr>\n",
       "    <tr>\n",
       "      <th>s4</th>\n",
       "      <td>0.203841</td>\n",
       "      <td>0.332115</td>\n",
       "      <td>0.413807</td>\n",
       "      <td>0.257650</td>\n",
       "      <td>0.542207</td>\n",
       "      <td>0.659817</td>\n",
       "      <td>-0.738493</td>\n",
       "      <td>1.000000</td>\n",
       "      <td>0.617859</td>\n",
       "      <td>0.417212</td>\n",
       "      <td>0.430453</td>\n",
       "    </tr>\n",
       "    <tr>\n",
       "      <th>s5</th>\n",
       "      <td>0.270774</td>\n",
       "      <td>0.149916</td>\n",
       "      <td>0.446157</td>\n",
       "      <td>0.393480</td>\n",
       "      <td>0.515503</td>\n",
       "      <td>0.318357</td>\n",
       "      <td>-0.398577</td>\n",
       "      <td>0.617859</td>\n",
       "      <td>1.000000</td>\n",
       "      <td>0.464669</td>\n",
       "      <td>0.565883</td>\n",
       "    </tr>\n",
       "    <tr>\n",
       "      <th>s6</th>\n",
       "      <td>0.301731</td>\n",
       "      <td>0.208133</td>\n",
       "      <td>0.388680</td>\n",
       "      <td>0.390430</td>\n",
       "      <td>0.325717</td>\n",
       "      <td>0.290600</td>\n",
       "      <td>-0.273697</td>\n",
       "      <td>0.417212</td>\n",
       "      <td>0.464669</td>\n",
       "      <td>1.000000</td>\n",
       "      <td>0.382483</td>\n",
       "    </tr>\n",
       "    <tr>\n",
       "      <th>target</th>\n",
       "      <td>0.187889</td>\n",
       "      <td>0.043062</td>\n",
       "      <td>0.586450</td>\n",
       "      <td>0.441482</td>\n",
       "      <td>0.212022</td>\n",
       "      <td>0.174054</td>\n",
       "      <td>-0.394789</td>\n",
       "      <td>0.430453</td>\n",
       "      <td>0.565883</td>\n",
       "      <td>0.382483</td>\n",
       "      <td>1.000000</td>\n",
       "    </tr>\n",
       "  </tbody>\n",
       "</table>\n",
       "</div>"
      ],
      "text/plain": [
       "             age       sex       bmi        bp        s1        s2        s3  \\\n",
       "age     1.000000  0.173737  0.185085  0.335428  0.260061  0.219243 -0.075181   \n",
       "sex     0.173737  1.000000  0.088161  0.241010  0.035277  0.142637 -0.379090   \n",
       "bmi     0.185085  0.088161  1.000000  0.395411  0.249777  0.261170 -0.366811   \n",
       "bp      0.335428  0.241010  0.395411  1.000000  0.242464  0.185548 -0.178762   \n",
       "s1      0.260061  0.035277  0.249777  0.242464  1.000000  0.896663  0.051519   \n",
       "s2      0.219243  0.142637  0.261170  0.185548  0.896663  1.000000 -0.196455   \n",
       "s3     -0.075181 -0.379090 -0.366811 -0.178762  0.051519 -0.196455  1.000000   \n",
       "s4      0.203841  0.332115  0.413807  0.257650  0.542207  0.659817 -0.738493   \n",
       "s5      0.270774  0.149916  0.446157  0.393480  0.515503  0.318357 -0.398577   \n",
       "s6      0.301731  0.208133  0.388680  0.390430  0.325717  0.290600 -0.273697   \n",
       "target  0.187889  0.043062  0.586450  0.441482  0.212022  0.174054 -0.394789   \n",
       "\n",
       "              s4        s5        s6    target  \n",
       "age     0.203841  0.270774  0.301731  0.187889  \n",
       "sex     0.332115  0.149916  0.208133  0.043062  \n",
       "bmi     0.413807  0.446157  0.388680  0.586450  \n",
       "bp      0.257650  0.393480  0.390430  0.441482  \n",
       "s1      0.542207  0.515503  0.325717  0.212022  \n",
       "s2      0.659817  0.318357  0.290600  0.174054  \n",
       "s3     -0.738493 -0.398577 -0.273697 -0.394789  \n",
       "s4      1.000000  0.617859  0.417212  0.430453  \n",
       "s5      0.617859  1.000000  0.464669  0.565883  \n",
       "s6      0.417212  0.464669  1.000000  0.382483  \n",
       "target  0.430453  0.565883  0.382483  1.000000  "
      ]
     },
     "execution_count": 108,
     "metadata": {},
     "output_type": "execute_result"
    }
   ],
   "source": [
    "df.corr()"
   ]
  },
  {
   "cell_type": "code",
   "execution_count": 109,
   "metadata": {},
   "outputs": [
    {
     "data": {
      "text/html": [
       "<div>\n",
       "<style scoped>\n",
       "    .dataframe tbody tr th:only-of-type {\n",
       "        vertical-align: middle;\n",
       "    }\n",
       "\n",
       "    .dataframe tbody tr th {\n",
       "        vertical-align: top;\n",
       "    }\n",
       "\n",
       "    .dataframe thead th {\n",
       "        text-align: right;\n",
       "    }\n",
       "</style>\n",
       "<table border=\"1\" class=\"dataframe\">\n",
       "  <thead>\n",
       "    <tr style=\"text-align: right;\">\n",
       "      <th></th>\n",
       "      <th>bmi</th>\n",
       "      <th>bp</th>\n",
       "      <th>s3</th>\n",
       "      <th>s4</th>\n",
       "      <th>s5</th>\n",
       "      <th>s6</th>\n",
       "      <th>target</th>\n",
       "    </tr>\n",
       "  </thead>\n",
       "  <tbody>\n",
       "    <tr>\n",
       "      <th>0</th>\n",
       "      <td>0.061696</td>\n",
       "      <td>0.021872</td>\n",
       "      <td>-0.043401</td>\n",
       "      <td>-0.002592</td>\n",
       "      <td>0.019907</td>\n",
       "      <td>-0.017646</td>\n",
       "      <td>151</td>\n",
       "    </tr>\n",
       "    <tr>\n",
       "      <th>1</th>\n",
       "      <td>-0.051474</td>\n",
       "      <td>-0.026328</td>\n",
       "      <td>0.074412</td>\n",
       "      <td>-0.039493</td>\n",
       "      <td>-0.068332</td>\n",
       "      <td>-0.092204</td>\n",
       "      <td>75</td>\n",
       "    </tr>\n",
       "    <tr>\n",
       "      <th>2</th>\n",
       "      <td>0.044451</td>\n",
       "      <td>-0.005670</td>\n",
       "      <td>-0.032356</td>\n",
       "      <td>-0.002592</td>\n",
       "      <td>0.002861</td>\n",
       "      <td>-0.025930</td>\n",
       "      <td>141</td>\n",
       "    </tr>\n",
       "    <tr>\n",
       "      <th>3</th>\n",
       "      <td>-0.011595</td>\n",
       "      <td>-0.036656</td>\n",
       "      <td>-0.036038</td>\n",
       "      <td>0.034309</td>\n",
       "      <td>0.022688</td>\n",
       "      <td>-0.009362</td>\n",
       "      <td>206</td>\n",
       "    </tr>\n",
       "    <tr>\n",
       "      <th>4</th>\n",
       "      <td>-0.036385</td>\n",
       "      <td>0.021872</td>\n",
       "      <td>0.008142</td>\n",
       "      <td>-0.002592</td>\n",
       "      <td>-0.031988</td>\n",
       "      <td>-0.046641</td>\n",
       "      <td>135</td>\n",
       "    </tr>\n",
       "  </tbody>\n",
       "</table>\n",
       "</div>"
      ],
      "text/plain": [
       "        bmi        bp        s3        s4        s5        s6  target\n",
       "0  0.061696  0.021872 -0.043401 -0.002592  0.019907 -0.017646     151\n",
       "1 -0.051474 -0.026328  0.074412 -0.039493 -0.068332 -0.092204      75\n",
       "2  0.044451 -0.005670 -0.032356 -0.002592  0.002861 -0.025930     141\n",
       "3 -0.011595 -0.036656 -0.036038  0.034309  0.022688 -0.009362     206\n",
       "4 -0.036385  0.021872  0.008142 -0.002592 -0.031988 -0.046641     135"
      ]
     },
     "execution_count": 109,
     "metadata": {},
     "output_type": "execute_result"
    }
   ],
   "source": [
    "df = df.drop(['age','sex','s1','s2'],axis=1)\n",
    "df.head()"
   ]
  },
  {
   "cell_type": "markdown",
   "metadata": {},
   "source": [
    "### 다항식 변환 \n"
   ]
  },
  {
   "cell_type": "code",
   "execution_count": 110,
   "metadata": {},
   "outputs": [
    {
     "data": {
      "text/plain": [
       "array(['bmi', 'bp', 's3', 's4', 's5', 's6', 'bmi^2', 'bmi bp', 'bmi s3',\n",
       "       'bmi s4', 'bmi s5', 'bmi s6', 'bp^2', 'bp s3', 'bp s4', 'bp s5',\n",
       "       'bp s6', 's3^2', 's3 s4', 's3 s5', 's3 s6', 's4^2', 's4 s5',\n",
       "       's4 s6', 's5^2', 's5 s6', 's6^2'], dtype=object)"
      ]
     },
     "execution_count": 110,
     "metadata": {},
     "output_type": "execute_result"
    }
   ],
   "source": [
    "poly = PolynomialFeatures(degree=2,include_bias=False)\n",
    "fit = poly.fit_transform(df.loc[:,['bmi','bp','s3','s4','s5','s6']])\n",
    "poly.get_feature_names_out()"
   ]
  },
  {
   "cell_type": "code",
   "execution_count": 111,
   "metadata": {},
   "outputs": [
    {
     "data": {
      "text/html": [
       "<div>\n",
       "<style scoped>\n",
       "    .dataframe tbody tr th:only-of-type {\n",
       "        vertical-align: middle;\n",
       "    }\n",
       "\n",
       "    .dataframe tbody tr th {\n",
       "        vertical-align: top;\n",
       "    }\n",
       "\n",
       "    .dataframe thead th {\n",
       "        text-align: right;\n",
       "    }\n",
       "</style>\n",
       "<table border=\"1\" class=\"dataframe\">\n",
       "  <thead>\n",
       "    <tr style=\"text-align: right;\">\n",
       "      <th></th>\n",
       "      <th>bmi</th>\n",
       "      <th>bp</th>\n",
       "      <th>s3</th>\n",
       "      <th>s4</th>\n",
       "      <th>s5</th>\n",
       "      <th>s6</th>\n",
       "      <th>bmi^2</th>\n",
       "      <th>bmi bp</th>\n",
       "      <th>bmi s3</th>\n",
       "      <th>bmi s4</th>\n",
       "      <th>...</th>\n",
       "      <th>s3^2</th>\n",
       "      <th>s3 s4</th>\n",
       "      <th>s3 s5</th>\n",
       "      <th>s3 s6</th>\n",
       "      <th>s4^2</th>\n",
       "      <th>s4 s5</th>\n",
       "      <th>s4 s6</th>\n",
       "      <th>s5^2</th>\n",
       "      <th>s5 s6</th>\n",
       "      <th>s6^2</th>\n",
       "    </tr>\n",
       "  </thead>\n",
       "  <tbody>\n",
       "    <tr>\n",
       "      <th>0</th>\n",
       "      <td>0.061696</td>\n",
       "      <td>0.021872</td>\n",
       "      <td>-0.043401</td>\n",
       "      <td>-0.002592</td>\n",
       "      <td>0.019907</td>\n",
       "      <td>-0.017646</td>\n",
       "      <td>0.003806</td>\n",
       "      <td>0.001349</td>\n",
       "      <td>-0.002678</td>\n",
       "      <td>-0.000160</td>\n",
       "      <td>...</td>\n",
       "      <td>0.001884</td>\n",
       "      <td>0.000113</td>\n",
       "      <td>-0.000864</td>\n",
       "      <td>0.000766</td>\n",
       "      <td>0.000007</td>\n",
       "      <td>-0.000052</td>\n",
       "      <td>0.000046</td>\n",
       "      <td>0.000396</td>\n",
       "      <td>-0.000351</td>\n",
       "      <td>0.000311</td>\n",
       "    </tr>\n",
       "    <tr>\n",
       "      <th>1</th>\n",
       "      <td>-0.051474</td>\n",
       "      <td>-0.026328</td>\n",
       "      <td>0.074412</td>\n",
       "      <td>-0.039493</td>\n",
       "      <td>-0.068332</td>\n",
       "      <td>-0.092204</td>\n",
       "      <td>0.002650</td>\n",
       "      <td>0.001355</td>\n",
       "      <td>-0.003830</td>\n",
       "      <td>0.002033</td>\n",
       "      <td>...</td>\n",
       "      <td>0.005537</td>\n",
       "      <td>-0.002939</td>\n",
       "      <td>-0.005085</td>\n",
       "      <td>-0.006861</td>\n",
       "      <td>0.001560</td>\n",
       "      <td>0.002699</td>\n",
       "      <td>0.003641</td>\n",
       "      <td>0.004669</td>\n",
       "      <td>0.006300</td>\n",
       "      <td>0.008502</td>\n",
       "    </tr>\n",
       "    <tr>\n",
       "      <th>2</th>\n",
       "      <td>0.044451</td>\n",
       "      <td>-0.005670</td>\n",
       "      <td>-0.032356</td>\n",
       "      <td>-0.002592</td>\n",
       "      <td>0.002861</td>\n",
       "      <td>-0.025930</td>\n",
       "      <td>0.001976</td>\n",
       "      <td>-0.000252</td>\n",
       "      <td>-0.001438</td>\n",
       "      <td>-0.000115</td>\n",
       "      <td>...</td>\n",
       "      <td>0.001047</td>\n",
       "      <td>0.000084</td>\n",
       "      <td>-0.000093</td>\n",
       "      <td>0.000839</td>\n",
       "      <td>0.000007</td>\n",
       "      <td>-0.000007</td>\n",
       "      <td>0.000067</td>\n",
       "      <td>0.000008</td>\n",
       "      <td>-0.000074</td>\n",
       "      <td>0.000672</td>\n",
       "    </tr>\n",
       "    <tr>\n",
       "      <th>3</th>\n",
       "      <td>-0.011595</td>\n",
       "      <td>-0.036656</td>\n",
       "      <td>-0.036038</td>\n",
       "      <td>0.034309</td>\n",
       "      <td>0.022688</td>\n",
       "      <td>-0.009362</td>\n",
       "      <td>0.000134</td>\n",
       "      <td>0.000425</td>\n",
       "      <td>0.000418</td>\n",
       "      <td>-0.000398</td>\n",
       "      <td>...</td>\n",
       "      <td>0.001299</td>\n",
       "      <td>-0.001236</td>\n",
       "      <td>-0.000818</td>\n",
       "      <td>0.000337</td>\n",
       "      <td>0.001177</td>\n",
       "      <td>0.000778</td>\n",
       "      <td>-0.000321</td>\n",
       "      <td>0.000515</td>\n",
       "      <td>-0.000212</td>\n",
       "      <td>0.000088</td>\n",
       "    </tr>\n",
       "    <tr>\n",
       "      <th>4</th>\n",
       "      <td>-0.036385</td>\n",
       "      <td>0.021872</td>\n",
       "      <td>0.008142</td>\n",
       "      <td>-0.002592</td>\n",
       "      <td>-0.031988</td>\n",
       "      <td>-0.046641</td>\n",
       "      <td>0.001324</td>\n",
       "      <td>-0.000796</td>\n",
       "      <td>-0.000296</td>\n",
       "      <td>0.000094</td>\n",
       "      <td>...</td>\n",
       "      <td>0.000066</td>\n",
       "      <td>-0.000021</td>\n",
       "      <td>-0.000260</td>\n",
       "      <td>-0.000380</td>\n",
       "      <td>0.000007</td>\n",
       "      <td>0.000083</td>\n",
       "      <td>0.000121</td>\n",
       "      <td>0.001023</td>\n",
       "      <td>0.001492</td>\n",
       "      <td>0.002175</td>\n",
       "    </tr>\n",
       "  </tbody>\n",
       "</table>\n",
       "<p>5 rows × 27 columns</p>\n",
       "</div>"
      ],
      "text/plain": [
       "        bmi        bp        s3        s4        s5        s6     bmi^2  \\\n",
       "0  0.061696  0.021872 -0.043401 -0.002592  0.019907 -0.017646  0.003806   \n",
       "1 -0.051474 -0.026328  0.074412 -0.039493 -0.068332 -0.092204  0.002650   \n",
       "2  0.044451 -0.005670 -0.032356 -0.002592  0.002861 -0.025930  0.001976   \n",
       "3 -0.011595 -0.036656 -0.036038  0.034309  0.022688 -0.009362  0.000134   \n",
       "4 -0.036385  0.021872  0.008142 -0.002592 -0.031988 -0.046641  0.001324   \n",
       "\n",
       "     bmi bp    bmi s3    bmi s4  ...      s3^2     s3 s4     s3 s5     s3 s6  \\\n",
       "0  0.001349 -0.002678 -0.000160  ...  0.001884  0.000113 -0.000864  0.000766   \n",
       "1  0.001355 -0.003830  0.002033  ...  0.005537 -0.002939 -0.005085 -0.006861   \n",
       "2 -0.000252 -0.001438 -0.000115  ...  0.001047  0.000084 -0.000093  0.000839   \n",
       "3  0.000425  0.000418 -0.000398  ...  0.001299 -0.001236 -0.000818  0.000337   \n",
       "4 -0.000796 -0.000296  0.000094  ...  0.000066 -0.000021 -0.000260 -0.000380   \n",
       "\n",
       "       s4^2     s4 s5     s4 s6      s5^2     s5 s6      s6^2  \n",
       "0  0.000007 -0.000052  0.000046  0.000396 -0.000351  0.000311  \n",
       "1  0.001560  0.002699  0.003641  0.004669  0.006300  0.008502  \n",
       "2  0.000007 -0.000007  0.000067  0.000008 -0.000074  0.000672  \n",
       "3  0.001177  0.000778 -0.000321  0.000515 -0.000212  0.000088  \n",
       "4  0.000007  0.000083  0.000121  0.001023  0.001492  0.002175  \n",
       "\n",
       "[5 rows x 27 columns]"
      ]
     },
     "execution_count": 111,
     "metadata": {},
     "output_type": "execute_result"
    }
   ],
   "source": [
    "x= pd.DataFrame(fit,columns=poly.get_feature_names_out())\n",
    "x.head()"
   ]
  },
  {
   "cell_type": "code",
   "execution_count": 112,
   "metadata": {},
   "outputs": [
    {
     "data": {
      "text/html": [
       "<div>\n",
       "<style scoped>\n",
       "    .dataframe tbody tr th:only-of-type {\n",
       "        vertical-align: middle;\n",
       "    }\n",
       "\n",
       "    .dataframe tbody tr th {\n",
       "        vertical-align: top;\n",
       "    }\n",
       "\n",
       "    .dataframe thead th {\n",
       "        text-align: right;\n",
       "    }\n",
       "</style>\n",
       "<table border=\"1\" class=\"dataframe\">\n",
       "  <thead>\n",
       "    <tr style=\"text-align: right;\">\n",
       "      <th></th>\n",
       "      <th>target</th>\n",
       "    </tr>\n",
       "  </thead>\n",
       "  <tbody>\n",
       "    <tr>\n",
       "      <th>0</th>\n",
       "      <td>151</td>\n",
       "    </tr>\n",
       "    <tr>\n",
       "      <th>1</th>\n",
       "      <td>75</td>\n",
       "    </tr>\n",
       "    <tr>\n",
       "      <th>2</th>\n",
       "      <td>141</td>\n",
       "    </tr>\n",
       "    <tr>\n",
       "      <th>3</th>\n",
       "      <td>206</td>\n",
       "    </tr>\n",
       "    <tr>\n",
       "      <th>4</th>\n",
       "      <td>135</td>\n",
       "    </tr>\n",
       "  </tbody>\n",
       "</table>\n",
       "</div>"
      ],
      "text/plain": [
       "   target\n",
       "0     151\n",
       "1      75\n",
       "2     141\n",
       "3     206\n",
       "4     135"
      ]
     },
     "execution_count": 112,
     "metadata": {},
     "output_type": "execute_result"
    }
   ],
   "source": [
    "y= df[['target']]\n",
    "y.head()"
   ]
  },
  {
   "cell_type": "markdown",
   "metadata": {},
   "source": [
    "### 데이터 분리 "
   ]
  },
  {
   "cell_type": "code",
   "execution_count": 113,
   "metadata": {},
   "outputs": [
    {
     "name": "stdout",
     "output_type": "stream",
     "text": [
      "(309, 27)\n",
      "(309, 1)\n",
      "(133, 27)\n",
      "(133, 1)\n"
     ]
    }
   ],
   "source": [
    "x_train,x_test,y_train,y_test = train_test_split(x,y,test_size=0.3,random_state=123)\n",
    "print(x_train.shape)\n",
    "print(y_train.shape)\n",
    "print(x_test.shape)\n",
    "print(y_test.shape)"
   ]
  },
  {
   "cell_type": "markdown",
   "metadata": {},
   "source": [
    "### 회귀분석"
   ]
  },
  {
   "cell_type": "code",
   "execution_count": 114,
   "metadata": {},
   "outputs": [
    {
     "name": "stdout",
     "output_type": "stream",
     "text": [
      "기울기:  [[  468.0272734    254.03838294  -377.6731231   -167.53359238\n",
      "    497.1227199     31.90261944  1617.31808011   -44.51479607\n",
      "  -1627.41271232  2240.40336565 -2660.50930091  1413.21393602\n",
      "   1485.66198813   991.15396563  -124.28201755  4139.90895768\n",
      "  -3524.13967687 -1488.83819995 -5626.04978941  1930.06660789\n",
      "    758.43068462 -2608.16246591 -1811.72681967  1865.45115407\n",
      "   -537.35075098   725.3453207   2001.65428375]]\n",
      "절편 :  [142.08614897]\n"
     ]
    }
   ],
   "source": [
    "model = LinearRegression()\n",
    "fit = model.fit(x_train,y_train)\n",
    "\n",
    "# 기울기 \n",
    "coef = fit.coef_\n",
    "# 절편\n",
    "intercept = fit.intercept_\n",
    "print ('기울기: ', coef)\n",
    "\n",
    "print('절편 : ',intercept )\n",
    "\n"
   ]
  },
  {
   "cell_type": "markdown",
   "metadata": {},
   "source": [
    "### 설명력"
   ]
  },
  {
   "cell_type": "code",
   "execution_count": 115,
   "metadata": {},
   "outputs": [
    {
     "name": "stdout",
     "output_type": "stream",
     "text": [
      "훈련 데이터 설명력 :  0.5344321578327741\n",
      "검증 데이터 설명력 :  0.4478672633108255\n"
     ]
    }
   ],
   "source": [
    "y_train_pred = fit.predict(x_train)\n",
    "y_test_pred = fit.predict(x_test)\n",
    "print('훈련 데이터 설명력 : ',r2_score(y_train,y_train_pred))\n",
    "print('검증 데이터 설명력 : ',r2_score(y_test,y_test_pred))\n"
   ]
  },
  {
   "cell_type": "markdown",
   "metadata": {},
   "source": [
    "### 에러율"
   ]
  },
  {
   "cell_type": "code",
   "execution_count": 116,
   "metadata": {},
   "outputs": [
    {
     "name": "stdout",
     "output_type": "stream",
     "text": [
      "훈련 데이터 MAE :  43.15856339546352\n",
      "훈련 데이터 MAE :  46.55942186835502\n",
      "훈련 데이터 MSE :  2753.9967675894727\n",
      "훈련 데이터 MSE :  3283.3729797463043\n",
      "훈련 데이터 RMSE :  52.47853625616356\n",
      "훈련 데이터 RMSE :  57.30072407698095\n",
      "훈련 데이터 MAPE :  38.484143261232376\n",
      "검증 데이터 MAPE :  41.33340517447052\n",
      "훈련 데이터 MPE :  -17.56662410584182\n",
      "검증 데이터 MPE :  -19.7489209498542\n"
     ]
    }
   ],
   "source": [
    "print('훈련 데이터 MAE : ',mean_absolute_error(y_train,y_train_pred))\n",
    "\n",
    "print('훈련 데이터 MAE : ',mean_absolute_error(y_test,y_test_pred))\n",
    "\n",
    "print('훈련 데이터 MSE : ',mean_squared_error(y_train,y_train_pred))\n",
    "\n",
    "print('훈련 데이터 MSE : ',mean_squared_error(y_test,y_test_pred))\n",
    "\n",
    "print('훈련 데이터 RMSE : ',np.sqrt(mean_squared_error(y_train,y_train_pred)))\n",
    "\n",
    "print('훈련 데이터 RMSE : ',np.sqrt(mean_squared_error(y_test,y_test_pred)))\n",
    "\n",
    "\n",
    "print('훈련 데이터 MAPE : ',np.mean(np.abs((y_train.values - y_train_pred)/y_train.values))*100)\n",
    "\n",
    "print('검증 데이터 MAPE : ',np.mean(np.abs((y_test.values - y_test_pred)/y_test.values))*100)\n",
    "\n",
    "print('훈련 데이터 MPE : ',np.mean((y_train.values - y_train_pred)/y_train.values)*100)\n",
    "\n",
    "print('검증 데이터 MPE : ',np.mean((y_test.values - y_test_pred)/y_test.values)*100)"
   ]
  },
  {
   "cell_type": "markdown",
   "metadata": {},
   "source": [
    "### 시각화"
   ]
  },
  {
   "cell_type": "code",
   "execution_count": 118,
   "metadata": {},
   "outputs": [
    {
     "data": {
      "text/html": [
       "<div>\n",
       "<style scoped>\n",
       "    .dataframe tbody tr th:only-of-type {\n",
       "        vertical-align: middle;\n",
       "    }\n",
       "\n",
       "    .dataframe tbody tr th {\n",
       "        vertical-align: top;\n",
       "    }\n",
       "\n",
       "    .dataframe thead th {\n",
       "        text-align: right;\n",
       "    }\n",
       "</style>\n",
       "<table border=\"1\" class=\"dataframe\">\n",
       "  <thead>\n",
       "    <tr style=\"text-align: right;\">\n",
       "      <th></th>\n",
       "      <th>target</th>\n",
       "    </tr>\n",
       "  </thead>\n",
       "  <tbody>\n",
       "    <tr>\n",
       "      <th>374</th>\n",
       "      <td>140</td>\n",
       "    </tr>\n",
       "    <tr>\n",
       "      <th>420</th>\n",
       "      <td>146</td>\n",
       "    </tr>\n",
       "    <tr>\n",
       "      <th>204</th>\n",
       "      <td>277</td>\n",
       "    </tr>\n",
       "    <tr>\n",
       "      <th>263</th>\n",
       "      <td>116</td>\n",
       "    </tr>\n",
       "    <tr>\n",
       "      <th>285</th>\n",
       "      <td>233</td>\n",
       "    </tr>\n",
       "    <tr>\n",
       "      <th>...</th>\n",
       "      <td>...</td>\n",
       "    </tr>\n",
       "    <tr>\n",
       "      <th>230</th>\n",
       "      <td>220</td>\n",
       "    </tr>\n",
       "    <tr>\n",
       "      <th>98</th>\n",
       "      <td>92</td>\n",
       "    </tr>\n",
       "    <tr>\n",
       "      <th>322</th>\n",
       "      <td>242</td>\n",
       "    </tr>\n",
       "    <tr>\n",
       "      <th>382</th>\n",
       "      <td>132</td>\n",
       "    </tr>\n",
       "    <tr>\n",
       "      <th>365</th>\n",
       "      <td>206</td>\n",
       "    </tr>\n",
       "  </tbody>\n",
       "</table>\n",
       "<p>309 rows × 1 columns</p>\n",
       "</div>"
      ],
      "text/plain": [
       "     target\n",
       "374     140\n",
       "420     146\n",
       "204     277\n",
       "263     116\n",
       "285     233\n",
       "..      ...\n",
       "230     220\n",
       "98       92\n",
       "322     242\n",
       "382     132\n",
       "365     206\n",
       "\n",
       "[309 rows x 1 columns]"
      ]
     },
     "execution_count": 118,
     "metadata": {},
     "output_type": "execute_result"
    }
   ],
   "source": [
    "y_train"
   ]
  },
  {
   "cell_type": "code",
   "execution_count": 121,
   "metadata": {},
   "outputs": [
    {
     "data": {
      "text/html": [
       "<div>\n",
       "<style scoped>\n",
       "    .dataframe tbody tr th:only-of-type {\n",
       "        vertical-align: middle;\n",
       "    }\n",
       "\n",
       "    .dataframe tbody tr th {\n",
       "        vertical-align: top;\n",
       "    }\n",
       "\n",
       "    .dataframe thead th {\n",
       "        text-align: right;\n",
       "    }\n",
       "</style>\n",
       "<table border=\"1\" class=\"dataframe\">\n",
       "  <thead>\n",
       "    <tr style=\"text-align: right;\">\n",
       "      <th></th>\n",
       "      <th>bmi</th>\n",
       "      <th>bp</th>\n",
       "      <th>s3</th>\n",
       "      <th>s4</th>\n",
       "      <th>s5</th>\n",
       "      <th>s6</th>\n",
       "      <th>bmi^2</th>\n",
       "      <th>bmi bp</th>\n",
       "      <th>bmi s3</th>\n",
       "      <th>bmi s4</th>\n",
       "      <th>...</th>\n",
       "      <th>s3^2</th>\n",
       "      <th>s3 s4</th>\n",
       "      <th>s3 s5</th>\n",
       "      <th>s3 s6</th>\n",
       "      <th>s4^2</th>\n",
       "      <th>s4 s5</th>\n",
       "      <th>s4 s6</th>\n",
       "      <th>s5^2</th>\n",
       "      <th>s5 s6</th>\n",
       "      <th>s6^2</th>\n",
       "    </tr>\n",
       "  </thead>\n",
       "  <tbody>\n",
       "    <tr>\n",
       "      <th>374</th>\n",
       "      <td>-0.034229</td>\n",
       "      <td>-0.067642</td>\n",
       "      <td>0.008142</td>\n",
       "      <td>-0.039493</td>\n",
       "      <td>-0.000612</td>\n",
       "      <td>-0.079778</td>\n",
       "      <td>0.001172</td>\n",
       "      <td>0.002315</td>\n",
       "      <td>-0.000279</td>\n",
       "      <td>0.001352</td>\n",
       "      <td>...</td>\n",
       "      <td>0.000066</td>\n",
       "      <td>-0.000322</td>\n",
       "      <td>-0.000005</td>\n",
       "      <td>-0.000650</td>\n",
       "      <td>0.001560</td>\n",
       "      <td>0.000024</td>\n",
       "      <td>0.003151</td>\n",
       "      <td>3.742201e-07</td>\n",
       "      <td>0.000049</td>\n",
       "      <td>0.006364</td>\n",
       "    </tr>\n",
       "    <tr>\n",
       "      <th>420</th>\n",
       "      <td>-0.036385</td>\n",
       "      <td>0.000079</td>\n",
       "      <td>-0.043401</td>\n",
       "      <td>0.034309</td>\n",
       "      <td>-0.033246</td>\n",
       "      <td>0.061054</td>\n",
       "      <td>0.001324</td>\n",
       "      <td>-0.000003</td>\n",
       "      <td>0.001579</td>\n",
       "      <td>-0.001248</td>\n",
       "      <td>...</td>\n",
       "      <td>0.001884</td>\n",
       "      <td>-0.001489</td>\n",
       "      <td>0.001443</td>\n",
       "      <td>-0.002650</td>\n",
       "      <td>0.001177</td>\n",
       "      <td>-0.001141</td>\n",
       "      <td>0.002095</td>\n",
       "      <td>1.105269e-03</td>\n",
       "      <td>-0.002030</td>\n",
       "      <td>0.003728</td>\n",
       "    </tr>\n",
       "    <tr>\n",
       "      <th>204</th>\n",
       "      <td>0.006728</td>\n",
       "      <td>0.028758</td>\n",
       "      <td>-0.047082</td>\n",
       "      <td>0.034309</td>\n",
       "      <td>0.002004</td>\n",
       "      <td>0.077622</td>\n",
       "      <td>0.000045</td>\n",
       "      <td>0.000193</td>\n",
       "      <td>-0.000317</td>\n",
       "      <td>0.000231</td>\n",
       "      <td>...</td>\n",
       "      <td>0.002217</td>\n",
       "      <td>-0.001615</td>\n",
       "      <td>-0.000094</td>\n",
       "      <td>-0.003655</td>\n",
       "      <td>0.001177</td>\n",
       "      <td>0.000069</td>\n",
       "      <td>0.002663</td>\n",
       "      <td>4.017790e-06</td>\n",
       "      <td>0.000156</td>\n",
       "      <td>0.006025</td>\n",
       "    </tr>\n",
       "    <tr>\n",
       "      <th>263</th>\n",
       "      <td>-0.077342</td>\n",
       "      <td>-0.046985</td>\n",
       "      <td>0.004460</td>\n",
       "      <td>-0.039493</td>\n",
       "      <td>-0.072133</td>\n",
       "      <td>-0.017646</td>\n",
       "      <td>0.005982</td>\n",
       "      <td>0.003634</td>\n",
       "      <td>-0.000345</td>\n",
       "      <td>0.003054</td>\n",
       "      <td>...</td>\n",
       "      <td>0.000020</td>\n",
       "      <td>-0.000176</td>\n",
       "      <td>-0.000322</td>\n",
       "      <td>-0.000079</td>\n",
       "      <td>0.001560</td>\n",
       "      <td>0.002849</td>\n",
       "      <td>0.000697</td>\n",
       "      <td>5.203134e-03</td>\n",
       "      <td>0.001273</td>\n",
       "      <td>0.000311</td>\n",
       "    </tr>\n",
       "    <tr>\n",
       "      <th>285</th>\n",
       "      <td>-0.020218</td>\n",
       "      <td>-0.015999</td>\n",
       "      <td>-0.076536</td>\n",
       "      <td>0.108111</td>\n",
       "      <td>0.059879</td>\n",
       "      <td>-0.021788</td>\n",
       "      <td>0.000409</td>\n",
       "      <td>0.000323</td>\n",
       "      <td>0.001547</td>\n",
       "      <td>-0.002186</td>\n",
       "      <td>...</td>\n",
       "      <td>0.005858</td>\n",
       "      <td>-0.008274</td>\n",
       "      <td>-0.004583</td>\n",
       "      <td>0.001668</td>\n",
       "      <td>0.011688</td>\n",
       "      <td>0.006474</td>\n",
       "      <td>-0.002356</td>\n",
       "      <td>3.585543e-03</td>\n",
       "      <td>-0.001305</td>\n",
       "      <td>0.000475</td>\n",
       "    </tr>\n",
       "  </tbody>\n",
       "</table>\n",
       "<p>5 rows × 27 columns</p>\n",
       "</div>"
      ],
      "text/plain": [
       "          bmi        bp        s3        s4        s5        s6     bmi^2  \\\n",
       "374 -0.034229 -0.067642  0.008142 -0.039493 -0.000612 -0.079778  0.001172   \n",
       "420 -0.036385  0.000079 -0.043401  0.034309 -0.033246  0.061054  0.001324   \n",
       "204  0.006728  0.028758 -0.047082  0.034309  0.002004  0.077622  0.000045   \n",
       "263 -0.077342 -0.046985  0.004460 -0.039493 -0.072133 -0.017646  0.005982   \n",
       "285 -0.020218 -0.015999 -0.076536  0.108111  0.059879 -0.021788  0.000409   \n",
       "\n",
       "       bmi bp    bmi s3    bmi s4  ...      s3^2     s3 s4     s3 s5  \\\n",
       "374  0.002315 -0.000279  0.001352  ...  0.000066 -0.000322 -0.000005   \n",
       "420 -0.000003  0.001579 -0.001248  ...  0.001884 -0.001489  0.001443   \n",
       "204  0.000193 -0.000317  0.000231  ...  0.002217 -0.001615 -0.000094   \n",
       "263  0.003634 -0.000345  0.003054  ...  0.000020 -0.000176 -0.000322   \n",
       "285  0.000323  0.001547 -0.002186  ...  0.005858 -0.008274 -0.004583   \n",
       "\n",
       "        s3 s6      s4^2     s4 s5     s4 s6          s5^2     s5 s6      s6^2  \n",
       "374 -0.000650  0.001560  0.000024  0.003151  3.742201e-07  0.000049  0.006364  \n",
       "420 -0.002650  0.001177 -0.001141  0.002095  1.105269e-03 -0.002030  0.003728  \n",
       "204 -0.003655  0.001177  0.000069  0.002663  4.017790e-06  0.000156  0.006025  \n",
       "263 -0.000079  0.001560  0.002849  0.000697  5.203134e-03  0.001273  0.000311  \n",
       "285  0.001668  0.011688  0.006474 -0.002356  3.585543e-03 -0.001305  0.000475  \n",
       "\n",
       "[5 rows x 27 columns]"
      ]
     },
     "execution_count": 121,
     "metadata": {},
     "output_type": "execute_result"
    }
   ],
   "source": [
    "x_train.head()"
   ]
  },
  {
   "cell_type": "code",
   "execution_count": 123,
   "metadata": {},
   "outputs": [
    {
     "data": {
      "text/plain": [
       "<Axes: xlabel='bmi', ylabel='target'>"
      ]
     },
     "execution_count": 123,
     "metadata": {},
     "output_type": "execute_result"
    },
    {
     "data": {
      "image/png": "[encoded data removed]",
      "text/plain": [
       "<Figure size 1500x500 with 2 Axes>"
      ]
     },
     "metadata": {},
     "output_type": "display_data"
    }
   ],
   "source": [
    "fig,(ax1,ax2) = plt.subplots(1,2,figsize=(15,5))\n",
    "## 관측치 시각화 \n",
    "sb.scatterplot(x=x_train['bmi'],y=y_train['target'],ax=ax1,label='train data')\n",
    "## 관측치 추세선\n",
    "sb.regplot(x=x_train['bmi'],y=y_train['target'],ax=ax1)\n",
    "\n",
    "## 학습데이터에 따른 추정치\n",
    "sb.scatterplot(x=x_train['bmi'],y=y_train_pred.reshape(-1),ax=ax1,label='train predcit data')\n",
    "## 추정치에 따른 그래프\n",
    "sb.regplot(x=x_train['bmi'],y=y_train_pred.reshape(-1),ax=ax1) \n",
    "\n",
    "## 검증 데이터 시각화\n",
    "sb.scatterplot(x=x_test['bmi'],y=y_test['target'],label='test data',ax=ax2)\n",
    "## 검증 데이터 추세선\n",
    "sb.regplot(x=x_test['bmi'],y=y_test['target'],ax=ax2)\n",
    "\n",
    "## 검증 데이터 추정치 \n",
    "sb.scatterplot(x=x_test['bmi'],y=y_test_pred.reshape(-1),label='test predict data',ax=ax2)\n",
    "## 검증 데이터 선그래프\n",
    "sb.regplot(x=x_test['bmi'],y=y_test_pred.reshape(-1),ax=ax2)"
   ]
  },
  {
   "cell_type": "markdown",
   "metadata": {},
   "source": [
    "## #05. 문제(5)"
   ]
  },
  {
   "cell_type": "code",
   "execution_count": 29,
   "metadata": {},
   "outputs": [],
   "source": [
    "plt.rcParams[\"font.family\"] = 'AppleGothic' if sys.platform == 'darwin' else 'Malgun Gothic'\n",
    "plt.rcParams[\"font.size\"] = 12\n",
    "plt.rcParams[\"figure.figsize\"] = (10, 5)\n",
    "plt.rcParams[\"axes.unicode_minus\"] = False"
   ]
  },
  {
   "cell_type": "code",
   "execution_count": 30,
   "metadata": {},
   "outputs": [
    {
     "data": {
      "text/html": [
       "<div>\n",
       "<style scoped>\n",
       "    .dataframe tbody tr th:only-of-type {\n",
       "        vertical-align: middle;\n",
       "    }\n",
       "\n",
       "    .dataframe tbody tr th {\n",
       "        vertical-align: top;\n",
       "    }\n",
       "\n",
       "    .dataframe thead th {\n",
       "        text-align: right;\n",
       "    }\n",
       "</style>\n",
       "<table border=\"1\" class=\"dataframe\">\n",
       "  <thead>\n",
       "    <tr style=\"text-align: right;\">\n",
       "      <th></th>\n",
       "      <th>rent</th>\n",
       "      <th>bedrooms</th>\n",
       "      <th>bathrooms</th>\n",
       "      <th>size_sqft</th>\n",
       "      <th>min_to_subway</th>\n",
       "      <th>floor</th>\n",
       "      <th>building_age_yrs</th>\n",
       "      <th>no_fee</th>\n",
       "      <th>has_roofdeck</th>\n",
       "      <th>has_washer_dryer</th>\n",
       "      <th>has_doorman</th>\n",
       "      <th>has_elevator</th>\n",
       "      <th>has_dishwasher</th>\n",
       "      <th>has_patio</th>\n",
       "      <th>has_gym</th>\n",
       "      <th>neighborhood</th>\n",
       "      <th>borough</th>\n",
       "    </tr>\n",
       "  </thead>\n",
       "  <tbody>\n",
       "    <tr>\n",
       "      <th>0</th>\n",
       "      <td>2550</td>\n",
       "      <td>0.0</td>\n",
       "      <td>1</td>\n",
       "      <td>480</td>\n",
       "      <td>9</td>\n",
       "      <td>2.0</td>\n",
       "      <td>17</td>\n",
       "      <td>1</td>\n",
       "      <td>1</td>\n",
       "      <td>0</td>\n",
       "      <td>0</td>\n",
       "      <td>1</td>\n",
       "      <td>1</td>\n",
       "      <td>0</td>\n",
       "      <td>1</td>\n",
       "      <td>Upper East Side</td>\n",
       "      <td>Manhattan</td>\n",
       "    </tr>\n",
       "    <tr>\n",
       "      <th>1</th>\n",
       "      <td>11500</td>\n",
       "      <td>2.0</td>\n",
       "      <td>2</td>\n",
       "      <td>2000</td>\n",
       "      <td>4</td>\n",
       "      <td>1.0</td>\n",
       "      <td>96</td>\n",
       "      <td>0</td>\n",
       "      <td>0</td>\n",
       "      <td>0</td>\n",
       "      <td>0</td>\n",
       "      <td>0</td>\n",
       "      <td>0</td>\n",
       "      <td>0</td>\n",
       "      <td>0</td>\n",
       "      <td>Greenwich Village</td>\n",
       "      <td>Manhattan</td>\n",
       "    </tr>\n",
       "    <tr>\n",
       "      <th>2</th>\n",
       "      <td>4500</td>\n",
       "      <td>1.0</td>\n",
       "      <td>1</td>\n",
       "      <td>916</td>\n",
       "      <td>2</td>\n",
       "      <td>51.0</td>\n",
       "      <td>29</td>\n",
       "      <td>0</td>\n",
       "      <td>1</td>\n",
       "      <td>0</td>\n",
       "      <td>1</td>\n",
       "      <td>1</td>\n",
       "      <td>1</td>\n",
       "      <td>0</td>\n",
       "      <td>0</td>\n",
       "      <td>Midtown</td>\n",
       "      <td>Manhattan</td>\n",
       "    </tr>\n",
       "    <tr>\n",
       "      <th>3</th>\n",
       "      <td>4795</td>\n",
       "      <td>1.0</td>\n",
       "      <td>1</td>\n",
       "      <td>975</td>\n",
       "      <td>3</td>\n",
       "      <td>8.0</td>\n",
       "      <td>31</td>\n",
       "      <td>0</td>\n",
       "      <td>0</td>\n",
       "      <td>0</td>\n",
       "      <td>1</td>\n",
       "      <td>1</td>\n",
       "      <td>1</td>\n",
       "      <td>0</td>\n",
       "      <td>1</td>\n",
       "      <td>Greenwich Village</td>\n",
       "      <td>Manhattan</td>\n",
       "    </tr>\n",
       "    <tr>\n",
       "      <th>4</th>\n",
       "      <td>17500</td>\n",
       "      <td>2.0</td>\n",
       "      <td>2</td>\n",
       "      <td>4800</td>\n",
       "      <td>3</td>\n",
       "      <td>4.0</td>\n",
       "      <td>136</td>\n",
       "      <td>0</td>\n",
       "      <td>0</td>\n",
       "      <td>0</td>\n",
       "      <td>1</td>\n",
       "      <td>1</td>\n",
       "      <td>1</td>\n",
       "      <td>0</td>\n",
       "      <td>1</td>\n",
       "      <td>Soho</td>\n",
       "      <td>Manhattan</td>\n",
       "    </tr>\n",
       "  </tbody>\n",
       "</table>\n",
       "</div>"
      ],
      "text/plain": [
       "    rent  bedrooms  bathrooms  size_sqft  min_to_subway  floor  \\\n",
       "0   2550       0.0          1        480              9    2.0   \n",
       "1  11500       2.0          2       2000              4    1.0   \n",
       "2   4500       1.0          1        916              2   51.0   \n",
       "3   4795       1.0          1        975              3    8.0   \n",
       "4  17500       2.0          2       4800              3    4.0   \n",
       "\n",
       "   building_age_yrs  no_fee  has_roofdeck  has_washer_dryer  has_doorman  \\\n",
       "0                17       1             1                 0            0   \n",
       "1                96       0             0                 0            0   \n",
       "2                29       0             1                 0            1   \n",
       "3                31       0             0                 0            1   \n",
       "4               136       0             0                 0            1   \n",
       "\n",
       "   has_elevator  has_dishwasher  has_patio  has_gym       neighborhood  \\\n",
       "0             1               1          0        1    Upper East Side   \n",
       "1             0               0          0        0  Greenwich Village   \n",
       "2             1               1          0        0            Midtown   \n",
       "3             1               1          0        1  Greenwich Village   \n",
       "4             1               1          0        1               Soho   \n",
       "\n",
       "     borough  \n",
       "0  Manhattan  \n",
       "1  Manhattan  \n",
       "2  Manhattan  \n",
       "3  Manhattan  \n",
       "4  Manhattan  "
      ]
     },
     "execution_count": 30,
     "metadata": {},
     "output_type": "execute_result"
    }
   ],
   "source": [
    "df= pd.read_excel('https://data.hossam.kr/E04/manhattan.xlsx')\n",
    "df.head()"
   ]
  },
  {
   "cell_type": "code",
   "execution_count": 31,
   "metadata": {},
   "outputs": [
    {
     "name": "stdout",
     "output_type": "stream",
     "text": [
      "<class 'pandas.core.frame.DataFrame'>\n",
      "RangeIndex: 3539 entries, 0 to 3538\n",
      "Data columns (total 17 columns):\n",
      " #   Column            Non-Null Count  Dtype  \n",
      "---  ------            --------------  -----  \n",
      " 0   rent              3539 non-null   int64  \n",
      " 1   bedrooms          3539 non-null   float64\n",
      " 2   bathrooms         3539 non-null   int64  \n",
      " 3   size_sqft         3539 non-null   int64  \n",
      " 4   min_to_subway     3539 non-null   int64  \n",
      " 5   floor             3539 non-null   float64\n",
      " 6   building_age_yrs  3539 non-null   int64  \n",
      " 7   no_fee            3539 non-null   int64  \n",
      " 8   has_roofdeck      3539 non-null   int64  \n",
      " 9   has_washer_dryer  3539 non-null   int64  \n",
      " 10  has_doorman       3539 non-null   int64  \n",
      " 11  has_elevator      3539 non-null   int64  \n",
      " 12  has_dishwasher    3539 non-null   int64  \n",
      " 13  has_patio         3539 non-null   int64  \n",
      " 14  has_gym           3539 non-null   int64  \n",
      " 15  neighborhood      3539 non-null   object \n",
      " 16  borough           3539 non-null   object \n",
      "dtypes: float64(2), int64(13), object(2)\n",
      "memory usage: 470.2+ KB\n"
     ]
    }
   ],
   "source": [
    "df.info()"
   ]
  },
  {
   "cell_type": "code",
   "execution_count": 32,
   "metadata": {},
   "outputs": [
    {
     "data": {
      "text/html": [
       "<div>\n",
       "<style scoped>\n",
       "    .dataframe tbody tr th:only-of-type {\n",
       "        vertical-align: middle;\n",
       "    }\n",
       "\n",
       "    .dataframe tbody tr th {\n",
       "        vertical-align: top;\n",
       "    }\n",
       "\n",
       "    .dataframe thead th {\n",
       "        text-align: right;\n",
       "    }\n",
       "</style>\n",
       "<table border=\"1\" class=\"dataframe\">\n",
       "  <thead>\n",
       "    <tr style=\"text-align: right;\">\n",
       "      <th></th>\n",
       "      <th>rent</th>\n",
       "      <th>bedrooms</th>\n",
       "      <th>bathrooms</th>\n",
       "      <th>size_sqft</th>\n",
       "      <th>min_to_subway</th>\n",
       "      <th>floor</th>\n",
       "      <th>building_age_yrs</th>\n",
       "      <th>no_fee</th>\n",
       "      <th>has_roofdeck</th>\n",
       "      <th>has_washer_dryer</th>\n",
       "      <th>has_doorman</th>\n",
       "      <th>has_elevator</th>\n",
       "      <th>has_dishwasher</th>\n",
       "      <th>has_patio</th>\n",
       "      <th>has_gym</th>\n",
       "      <th>neighborhood</th>\n",
       "      <th>borough</th>\n",
       "    </tr>\n",
       "  </thead>\n",
       "  <tbody>\n",
       "    <tr>\n",
       "      <th>0</th>\n",
       "      <td>2550</td>\n",
       "      <td>0.0</td>\n",
       "      <td>1</td>\n",
       "      <td>480</td>\n",
       "      <td>9</td>\n",
       "      <td>2.0</td>\n",
       "      <td>17</td>\n",
       "      <td>1</td>\n",
       "      <td>1</td>\n",
       "      <td>0</td>\n",
       "      <td>0</td>\n",
       "      <td>1</td>\n",
       "      <td>1</td>\n",
       "      <td>0</td>\n",
       "      <td>1</td>\n",
       "      <td>Upper East Side</td>\n",
       "      <td>Manhattan</td>\n",
       "    </tr>\n",
       "    <tr>\n",
       "      <th>1</th>\n",
       "      <td>11500</td>\n",
       "      <td>2.0</td>\n",
       "      <td>2</td>\n",
       "      <td>2000</td>\n",
       "      <td>4</td>\n",
       "      <td>1.0</td>\n",
       "      <td>96</td>\n",
       "      <td>0</td>\n",
       "      <td>0</td>\n",
       "      <td>0</td>\n",
       "      <td>0</td>\n",
       "      <td>0</td>\n",
       "      <td>0</td>\n",
       "      <td>0</td>\n",
       "      <td>0</td>\n",
       "      <td>Greenwich Village</td>\n",
       "      <td>Manhattan</td>\n",
       "    </tr>\n",
       "    <tr>\n",
       "      <th>2</th>\n",
       "      <td>4500</td>\n",
       "      <td>1.0</td>\n",
       "      <td>1</td>\n",
       "      <td>916</td>\n",
       "      <td>2</td>\n",
       "      <td>51.0</td>\n",
       "      <td>29</td>\n",
       "      <td>0</td>\n",
       "      <td>1</td>\n",
       "      <td>0</td>\n",
       "      <td>1</td>\n",
       "      <td>1</td>\n",
       "      <td>1</td>\n",
       "      <td>0</td>\n",
       "      <td>0</td>\n",
       "      <td>Midtown</td>\n",
       "      <td>Manhattan</td>\n",
       "    </tr>\n",
       "    <tr>\n",
       "      <th>3</th>\n",
       "      <td>4795</td>\n",
       "      <td>1.0</td>\n",
       "      <td>1</td>\n",
       "      <td>975</td>\n",
       "      <td>3</td>\n",
       "      <td>8.0</td>\n",
       "      <td>31</td>\n",
       "      <td>0</td>\n",
       "      <td>0</td>\n",
       "      <td>0</td>\n",
       "      <td>1</td>\n",
       "      <td>1</td>\n",
       "      <td>1</td>\n",
       "      <td>0</td>\n",
       "      <td>1</td>\n",
       "      <td>Greenwich Village</td>\n",
       "      <td>Manhattan</td>\n",
       "    </tr>\n",
       "    <tr>\n",
       "      <th>4</th>\n",
       "      <td>17500</td>\n",
       "      <td>2.0</td>\n",
       "      <td>2</td>\n",
       "      <td>4800</td>\n",
       "      <td>3</td>\n",
       "      <td>4.0</td>\n",
       "      <td>136</td>\n",
       "      <td>0</td>\n",
       "      <td>0</td>\n",
       "      <td>0</td>\n",
       "      <td>1</td>\n",
       "      <td>1</td>\n",
       "      <td>1</td>\n",
       "      <td>0</td>\n",
       "      <td>1</td>\n",
       "      <td>Soho</td>\n",
       "      <td>Manhattan</td>\n",
       "    </tr>\n",
       "  </tbody>\n",
       "</table>\n",
       "</div>"
      ],
      "text/plain": [
       "    rent  bedrooms  bathrooms  size_sqft  min_to_subway  floor  \\\n",
       "0   2550       0.0          1        480              9    2.0   \n",
       "1  11500       2.0          2       2000              4    1.0   \n",
       "2   4500       1.0          1        916              2   51.0   \n",
       "3   4795       1.0          1        975              3    8.0   \n",
       "4  17500       2.0          2       4800              3    4.0   \n",
       "\n",
       "   building_age_yrs  no_fee  has_roofdeck  has_washer_dryer  has_doorman  \\\n",
       "0                17       1             1                 0            0   \n",
       "1                96       0             0                 0            0   \n",
       "2                29       0             1                 0            1   \n",
       "3                31       0             0                 0            1   \n",
       "4               136       0             0                 0            1   \n",
       "\n",
       "   has_elevator  has_dishwasher  has_patio  has_gym       neighborhood  \\\n",
       "0             1               1          0        1    Upper East Side   \n",
       "1             0               0          0        0  Greenwich Village   \n",
       "2             1               1          0        0            Midtown   \n",
       "3             1               1          0        1  Greenwich Village   \n",
       "4             1               1          0        1               Soho   \n",
       "\n",
       "     borough  \n",
       "0  Manhattan  \n",
       "1  Manhattan  \n",
       "2  Manhattan  \n",
       "3  Manhattan  \n",
       "4  Manhattan  "
      ]
     },
     "execution_count": 32,
     "metadata": {},
     "output_type": "execute_result"
    }
   ],
   "source": [
    "df.head()"
   ]
  },
  {
   "cell_type": "code",
   "execution_count": 33,
   "metadata": {},
   "outputs": [],
   "source": [
    "num_col = ['bedrooms','bathrooms','size_sqft','min_to_subway','floor','building_age_yrs','rent']\n",
    "cat_col= ['no_fee','has_roofdeck','has_washer_dryer','has_doorman','has_elevator','has_dishwasher','has_patio','has_gym']\n",
    "\n",
    "\n"
   ]
  },
  {
   "cell_type": "code",
   "execution_count": 34,
   "metadata": {},
   "outputs": [],
   "source": [
    "y=df[['rent']]"
   ]
  },
  {
   "cell_type": "code",
   "execution_count": null,
   "metadata": {},
   "outputs": [],
   "source": []
  },
  {
   "cell_type": "code",
   "execution_count": 36,
   "metadata": {},
   "outputs": [
    {
     "data": {
      "text/html": [
       "<div>\n",
       "<style scoped>\n",
       "    .dataframe tbody tr th:only-of-type {\n",
       "        vertical-align: middle;\n",
       "    }\n",
       "\n",
       "    .dataframe tbody tr th {\n",
       "        vertical-align: top;\n",
       "    }\n",
       "\n",
       "    .dataframe thead th {\n",
       "        text-align: right;\n",
       "    }\n",
       "</style>\n",
       "<table border=\"1\" class=\"dataframe\">\n",
       "  <thead>\n",
       "    <tr style=\"text-align: right;\">\n",
       "      <th></th>\n",
       "      <th>bedrooms</th>\n",
       "      <th>bathrooms</th>\n",
       "      <th>size_sqft</th>\n",
       "      <th>min_to_subway</th>\n",
       "      <th>floor</th>\n",
       "      <th>building_age_yrs</th>\n",
       "      <th>rent</th>\n",
       "    </tr>\n",
       "  </thead>\n",
       "  <tbody>\n",
       "    <tr>\n",
       "      <th>bedrooms</th>\n",
       "      <td>1.000000</td>\n",
       "      <td>0.720885</td>\n",
       "      <td>0.771263</td>\n",
       "      <td>0.076543</td>\n",
       "      <td>0.043539</td>\n",
       "      <td>0.037228</td>\n",
       "      <td>0.638336</td>\n",
       "    </tr>\n",
       "    <tr>\n",
       "      <th>bathrooms</th>\n",
       "      <td>0.720885</td>\n",
       "      <td>1.000000</td>\n",
       "      <td>0.803627</td>\n",
       "      <td>0.086932</td>\n",
       "      <td>0.127969</td>\n",
       "      <td>-0.095421</td>\n",
       "      <td>0.769474</td>\n",
       "    </tr>\n",
       "    <tr>\n",
       "      <th>size_sqft</th>\n",
       "      <td>0.771263</td>\n",
       "      <td>0.803627</td>\n",
       "      <td>1.000000</td>\n",
       "      <td>0.039448</td>\n",
       "      <td>0.107186</td>\n",
       "      <td>0.014489</td>\n",
       "      <td>0.857954</td>\n",
       "    </tr>\n",
       "    <tr>\n",
       "      <th>min_to_subway</th>\n",
       "      <td>0.076543</td>\n",
       "      <td>0.086932</td>\n",
       "      <td>0.039448</td>\n",
       "      <td>1.000000</td>\n",
       "      <td>0.082445</td>\n",
       "      <td>-0.184682</td>\n",
       "      <td>0.035164</td>\n",
       "    </tr>\n",
       "    <tr>\n",
       "      <th>floor</th>\n",
       "      <td>0.043539</td>\n",
       "      <td>0.127969</td>\n",
       "      <td>0.107186</td>\n",
       "      <td>0.082445</td>\n",
       "      <td>1.000000</td>\n",
       "      <td>-0.389260</td>\n",
       "      <td>0.215867</td>\n",
       "    </tr>\n",
       "    <tr>\n",
       "      <th>building_age_yrs</th>\n",
       "      <td>0.037228</td>\n",
       "      <td>-0.095421</td>\n",
       "      <td>0.014489</td>\n",
       "      <td>-0.184682</td>\n",
       "      <td>-0.389260</td>\n",
       "      <td>1.000000</td>\n",
       "      <td>-0.128895</td>\n",
       "    </tr>\n",
       "    <tr>\n",
       "      <th>rent</th>\n",
       "      <td>0.638336</td>\n",
       "      <td>0.769474</td>\n",
       "      <td>0.857954</td>\n",
       "      <td>0.035164</td>\n",
       "      <td>0.215867</td>\n",
       "      <td>-0.128895</td>\n",
       "      <td>1.000000</td>\n",
       "    </tr>\n",
       "  </tbody>\n",
       "</table>\n",
       "</div>"
      ],
      "text/plain": [
       "                  bedrooms  bathrooms  size_sqft  min_to_subway     floor  \\\n",
       "bedrooms          1.000000   0.720885   0.771263       0.076543  0.043539   \n",
       "bathrooms         0.720885   1.000000   0.803627       0.086932  0.127969   \n",
       "size_sqft         0.771263   0.803627   1.000000       0.039448  0.107186   \n",
       "min_to_subway     0.076543   0.086932   0.039448       1.000000  0.082445   \n",
       "floor             0.043539   0.127969   0.107186       0.082445  1.000000   \n",
       "building_age_yrs  0.037228  -0.095421   0.014489      -0.184682 -0.389260   \n",
       "rent              0.638336   0.769474   0.857954       0.035164  0.215867   \n",
       "\n",
       "                  building_age_yrs      rent  \n",
       "bedrooms                  0.037228  0.638336  \n",
       "bathrooms                -0.095421  0.769474  \n",
       "size_sqft                 0.014489  0.857954  \n",
       "min_to_subway            -0.184682  0.035164  \n",
       "floor                    -0.389260  0.215867  \n",
       "building_age_yrs          1.000000 -0.128895  \n",
       "rent                     -0.128895  1.000000  "
      ]
     },
     "execution_count": 36,
     "metadata": {},
     "output_type": "execute_result"
    }
   ],
   "source": [
    "df.loc[:,num_col].corr()"
   ]
  },
  {
   "cell_type": "markdown",
   "metadata": {},
   "source": [
    "### 상관관계 확인 후 데이터 제거"
   ]
  },
  {
   "cell_type": "code",
   "execution_count": 37,
   "metadata": {},
   "outputs": [],
   "source": [
    "df = df.drop(['min_to_subway','floor','building_age_yrs'],axis=1)\n",
    "\n",
    "\n"
   ]
  },
  {
   "cell_type": "code",
   "execution_count": 38,
   "metadata": {},
   "outputs": [
    {
     "data": {
      "text/plain": [
       "['no_fee',\n",
       " 'has_roofdeck',\n",
       " 'has_washer_dryer',\n",
       " 'has_doorman',\n",
       " 'has_elevator',\n",
       " 'has_dishwasher',\n",
       " 'has_patio',\n",
       " 'has_gym']"
      ]
     },
     "execution_count": 38,
     "metadata": {},
     "output_type": "execute_result"
    }
   ],
   "source": [
    "cat_col\n"
   ]
  },
  {
   "cell_type": "markdown",
   "metadata": {},
   "source": [
    "### 범주형 변수 분포 확인"
   ]
  },
  {
   "cell_type": "code",
   "execution_count": 39,
   "metadata": {},
   "outputs": [
    {
     "data": {
      "image/png": "[encoded data removed]",
      "text/plain": [
       "<Figure size 3000x500 with 8 Axes>"
      ]
     },
     "metadata": {},
     "output_type": "display_data"
    }
   ],
   "source": [
    "fig,ax = plt.subplots(1,len(cat_col),figsize=(30,5))\n",
    "for col, ax in zip(cat_col,ax):\n",
    "    sb.histplot(data=df,x=col,ax=ax)\n",
    "## 별차이 없음 --> ㄱㄱ "
   ]
  },
  {
   "cell_type": "markdown",
   "metadata": {},
   "source": [
    "### 카테고리형으로 ㄱㄱ \n"
   ]
  },
  {
   "cell_type": "code",
   "execution_count": 40,
   "metadata": {},
   "outputs": [
    {
     "name": "stdout",
     "output_type": "stream",
     "text": [
      "<class 'pandas.core.frame.DataFrame'>\n",
      "RangeIndex: 3539 entries, 0 to 3538\n",
      "Data columns (total 14 columns):\n",
      " #   Column            Non-Null Count  Dtype   \n",
      "---  ------            --------------  -----   \n",
      " 0   rent              3539 non-null   int64   \n",
      " 1   bedrooms          3539 non-null   float64 \n",
      " 2   bathrooms         3539 non-null   int64   \n",
      " 3   size_sqft         3539 non-null   int64   \n",
      " 4   no_fee            3539 non-null   category\n",
      " 5   has_roofdeck      3539 non-null   category\n",
      " 6   has_washer_dryer  3539 non-null   category\n",
      " 7   has_doorman       3539 non-null   category\n",
      " 8   has_elevator      3539 non-null   category\n",
      " 9   has_dishwasher    3539 non-null   category\n",
      " 10  has_patio         3539 non-null   category\n",
      " 11  has_gym           3539 non-null   category\n",
      " 12  neighborhood      3539 non-null   object  \n",
      " 13  borough           3539 non-null   object  \n",
      "dtypes: category(8), float64(1), int64(3), object(2)\n",
      "memory usage: 194.6+ KB\n"
     ]
    }
   ],
   "source": [
    "df[cat_col]=df[cat_col].astype('category')\n",
    "df.info()"
   ]
  },
  {
   "cell_type": "code",
   "execution_count": 41,
   "metadata": {},
   "outputs": [
    {
     "data": {
      "text/plain": [
       "['bedrooms',\n",
       " 'bathrooms',\n",
       " 'size_sqft',\n",
       " 'min_to_subway',\n",
       " 'floor',\n",
       " 'building_age_yrs',\n",
       " 'rent']"
      ]
     },
     "execution_count": 41,
     "metadata": {},
     "output_type": "execute_result"
    }
   ],
   "source": [
    "num_col"
   ]
  },
  {
   "cell_type": "code",
   "execution_count": 43,
   "metadata": {},
   "outputs": [
    {
     "data": {
      "text/html": [
       "<div>\n",
       "<style scoped>\n",
       "    .dataframe tbody tr th:only-of-type {\n",
       "        vertical-align: middle;\n",
       "    }\n",
       "\n",
       "    .dataframe tbody tr th {\n",
       "        vertical-align: top;\n",
       "    }\n",
       "\n",
       "    .dataframe thead th {\n",
       "        text-align: right;\n",
       "    }\n",
       "</style>\n",
       "<table border=\"1\" class=\"dataframe\">\n",
       "  <thead>\n",
       "    <tr style=\"text-align: right;\">\n",
       "      <th></th>\n",
       "      <th>rent</th>\n",
       "      <th>bedrooms</th>\n",
       "      <th>bathrooms</th>\n",
       "      <th>size_sqft</th>\n",
       "      <th>no_fee</th>\n",
       "      <th>has_roofdeck</th>\n",
       "      <th>has_washer_dryer</th>\n",
       "      <th>has_doorman</th>\n",
       "      <th>has_elevator</th>\n",
       "      <th>has_dishwasher</th>\n",
       "      <th>has_patio</th>\n",
       "      <th>has_gym</th>\n",
       "    </tr>\n",
       "  </thead>\n",
       "  <tbody>\n",
       "    <tr>\n",
       "      <th>0</th>\n",
       "      <td>2550</td>\n",
       "      <td>0.0</td>\n",
       "      <td>1</td>\n",
       "      <td>480</td>\n",
       "      <td>1</td>\n",
       "      <td>1</td>\n",
       "      <td>0</td>\n",
       "      <td>0</td>\n",
       "      <td>1</td>\n",
       "      <td>1</td>\n",
       "      <td>0</td>\n",
       "      <td>1</td>\n",
       "    </tr>\n",
       "    <tr>\n",
       "      <th>1</th>\n",
       "      <td>11500</td>\n",
       "      <td>2.0</td>\n",
       "      <td>2</td>\n",
       "      <td>2000</td>\n",
       "      <td>0</td>\n",
       "      <td>0</td>\n",
       "      <td>0</td>\n",
       "      <td>0</td>\n",
       "      <td>0</td>\n",
       "      <td>0</td>\n",
       "      <td>0</td>\n",
       "      <td>0</td>\n",
       "    </tr>\n",
       "    <tr>\n",
       "      <th>2</th>\n",
       "      <td>4500</td>\n",
       "      <td>1.0</td>\n",
       "      <td>1</td>\n",
       "      <td>916</td>\n",
       "      <td>0</td>\n",
       "      <td>1</td>\n",
       "      <td>0</td>\n",
       "      <td>1</td>\n",
       "      <td>1</td>\n",
       "      <td>1</td>\n",
       "      <td>0</td>\n",
       "      <td>0</td>\n",
       "    </tr>\n",
       "    <tr>\n",
       "      <th>3</th>\n",
       "      <td>4795</td>\n",
       "      <td>1.0</td>\n",
       "      <td>1</td>\n",
       "      <td>975</td>\n",
       "      <td>0</td>\n",
       "      <td>0</td>\n",
       "      <td>0</td>\n",
       "      <td>1</td>\n",
       "      <td>1</td>\n",
       "      <td>1</td>\n",
       "      <td>0</td>\n",
       "      <td>1</td>\n",
       "    </tr>\n",
       "    <tr>\n",
       "      <th>4</th>\n",
       "      <td>17500</td>\n",
       "      <td>2.0</td>\n",
       "      <td>2</td>\n",
       "      <td>4800</td>\n",
       "      <td>0</td>\n",
       "      <td>0</td>\n",
       "      <td>0</td>\n",
       "      <td>1</td>\n",
       "      <td>1</td>\n",
       "      <td>1</td>\n",
       "      <td>0</td>\n",
       "      <td>1</td>\n",
       "    </tr>\n",
       "  </tbody>\n",
       "</table>\n",
       "</div>"
      ],
      "text/plain": [
       "    rent  bedrooms  bathrooms  size_sqft no_fee has_roofdeck has_washer_dryer  \\\n",
       "0   2550       0.0          1        480      1            1                0   \n",
       "1  11500       2.0          2       2000      0            0                0   \n",
       "2   4500       1.0          1        916      0            1                0   \n",
       "3   4795       1.0          1        975      0            0                0   \n",
       "4  17500       2.0          2       4800      0            0                0   \n",
       "\n",
       "  has_doorman has_elevator has_dishwasher has_patio has_gym  \n",
       "0           0            1              1         0       1  \n",
       "1           0            0              0         0       0  \n",
       "2           1            1              1         0       0  \n",
       "3           1            1              1         0       1  \n",
       "4           1            1              1         0       1  "
      ]
     },
     "execution_count": 43,
     "metadata": {},
     "output_type": "execute_result"
    }
   ],
   "source": [
    "df=df.drop(['neighborhood','borough'],axis=1)\n",
    "df.head()"
   ]
  },
  {
   "cell_type": "code",
   "execution_count": 44,
   "metadata": {},
   "outputs": [],
   "source": [
    "x_col = ['bedrooms',\n",
    " 'bathrooms',\n",
    " 'size_sqft']"
   ]
  },
  {
   "cell_type": "markdown",
   "metadata": {},
   "source": [
    "### 다항식 변환\n"
   ]
  },
  {
   "cell_type": "code",
   "execution_count": 46,
   "metadata": {},
   "outputs": [
    {
     "data": {
      "text/html": [
       "<div>\n",
       "<style scoped>\n",
       "    .dataframe tbody tr th:only-of-type {\n",
       "        vertical-align: middle;\n",
       "    }\n",
       "\n",
       "    .dataframe tbody tr th {\n",
       "        vertical-align: top;\n",
       "    }\n",
       "\n",
       "    .dataframe thead th {\n",
       "        text-align: right;\n",
       "    }\n",
       "</style>\n",
       "<table border=\"1\" class=\"dataframe\">\n",
       "  <thead>\n",
       "    <tr style=\"text-align: right;\">\n",
       "      <th></th>\n",
       "      <th>rent</th>\n",
       "      <th>bedrooms</th>\n",
       "      <th>bathrooms</th>\n",
       "      <th>size_sqft</th>\n",
       "      <th>no_fee</th>\n",
       "      <th>has_roofdeck</th>\n",
       "      <th>has_washer_dryer</th>\n",
       "      <th>has_doorman</th>\n",
       "      <th>has_elevator</th>\n",
       "      <th>has_dishwasher</th>\n",
       "      <th>has_patio</th>\n",
       "      <th>has_gym</th>\n",
       "    </tr>\n",
       "  </thead>\n",
       "  <tbody>\n",
       "    <tr>\n",
       "      <th>0</th>\n",
       "      <td>2550</td>\n",
       "      <td>0.0</td>\n",
       "      <td>1</td>\n",
       "      <td>480</td>\n",
       "      <td>1</td>\n",
       "      <td>1</td>\n",
       "      <td>0</td>\n",
       "      <td>0</td>\n",
       "      <td>1</td>\n",
       "      <td>1</td>\n",
       "      <td>0</td>\n",
       "      <td>1</td>\n",
       "    </tr>\n",
       "    <tr>\n",
       "      <th>1</th>\n",
       "      <td>11500</td>\n",
       "      <td>2.0</td>\n",
       "      <td>2</td>\n",
       "      <td>2000</td>\n",
       "      <td>0</td>\n",
       "      <td>0</td>\n",
       "      <td>0</td>\n",
       "      <td>0</td>\n",
       "      <td>0</td>\n",
       "      <td>0</td>\n",
       "      <td>0</td>\n",
       "      <td>0</td>\n",
       "    </tr>\n",
       "    <tr>\n",
       "      <th>2</th>\n",
       "      <td>4500</td>\n",
       "      <td>1.0</td>\n",
       "      <td>1</td>\n",
       "      <td>916</td>\n",
       "      <td>0</td>\n",
       "      <td>1</td>\n",
       "      <td>0</td>\n",
       "      <td>1</td>\n",
       "      <td>1</td>\n",
       "      <td>1</td>\n",
       "      <td>0</td>\n",
       "      <td>0</td>\n",
       "    </tr>\n",
       "    <tr>\n",
       "      <th>3</th>\n",
       "      <td>4795</td>\n",
       "      <td>1.0</td>\n",
       "      <td>1</td>\n",
       "      <td>975</td>\n",
       "      <td>0</td>\n",
       "      <td>0</td>\n",
       "      <td>0</td>\n",
       "      <td>1</td>\n",
       "      <td>1</td>\n",
       "      <td>1</td>\n",
       "      <td>0</td>\n",
       "      <td>1</td>\n",
       "    </tr>\n",
       "    <tr>\n",
       "      <th>4</th>\n",
       "      <td>17500</td>\n",
       "      <td>2.0</td>\n",
       "      <td>2</td>\n",
       "      <td>4800</td>\n",
       "      <td>0</td>\n",
       "      <td>0</td>\n",
       "      <td>0</td>\n",
       "      <td>1</td>\n",
       "      <td>1</td>\n",
       "      <td>1</td>\n",
       "      <td>0</td>\n",
       "      <td>1</td>\n",
       "    </tr>\n",
       "  </tbody>\n",
       "</table>\n",
       "</div>"
      ],
      "text/plain": [
       "    rent  bedrooms  bathrooms  size_sqft no_fee has_roofdeck has_washer_dryer  \\\n",
       "0   2550       0.0          1        480      1            1                0   \n",
       "1  11500       2.0          2       2000      0            0                0   \n",
       "2   4500       1.0          1        916      0            1                0   \n",
       "3   4795       1.0          1        975      0            0                0   \n",
       "4  17500       2.0          2       4800      0            0                0   \n",
       "\n",
       "  has_doorman has_elevator has_dishwasher has_patio has_gym  \n",
       "0           0            1              1         0       1  \n",
       "1           0            0              0         0       0  \n",
       "2           1            1              1         0       0  \n",
       "3           1            1              1         0       1  \n",
       "4           1            1              1         0       1  "
      ]
     },
     "execution_count": 46,
     "metadata": {},
     "output_type": "execute_result"
    }
   ],
   "source": [
    "df.head()"
   ]
  },
  {
   "cell_type": "code",
   "execution_count": 47,
   "metadata": {},
   "outputs": [
    {
     "data": {
      "text/plain": [
       "array(['bedrooms', 'bathrooms', 'size_sqft', 'bedrooms^2',\n",
       "       'bedrooms bathrooms', 'bedrooms size_sqft', 'bathrooms^2',\n",
       "       'bathrooms size_sqft', 'size_sqft^2'], dtype=object)"
      ]
     },
     "execution_count": 47,
     "metadata": {},
     "output_type": "execute_result"
    }
   ],
   "source": [
    "poly = PolynomialFeatures(degree=2,include_bias=False)\n",
    "fit=poly.fit_transform(df.loc[:,x_col])\n",
    "poly.get_feature_names_out()"
   ]
  },
  {
   "cell_type": "code",
   "execution_count": 48,
   "metadata": {},
   "outputs": [
    {
     "data": {
      "text/html": [
       "<div>\n",
       "<style scoped>\n",
       "    .dataframe tbody tr th:only-of-type {\n",
       "        vertical-align: middle;\n",
       "    }\n",
       "\n",
       "    .dataframe tbody tr th {\n",
       "        vertical-align: top;\n",
       "    }\n",
       "\n",
       "    .dataframe thead th {\n",
       "        text-align: right;\n",
       "    }\n",
       "</style>\n",
       "<table border=\"1\" class=\"dataframe\">\n",
       "  <thead>\n",
       "    <tr style=\"text-align: right;\">\n",
       "      <th></th>\n",
       "      <th>bedrooms</th>\n",
       "      <th>bathrooms</th>\n",
       "      <th>size_sqft</th>\n",
       "      <th>bedrooms^2</th>\n",
       "      <th>bedrooms bathrooms</th>\n",
       "      <th>bedrooms size_sqft</th>\n",
       "      <th>bathrooms^2</th>\n",
       "      <th>bathrooms size_sqft</th>\n",
       "      <th>size_sqft^2</th>\n",
       "    </tr>\n",
       "  </thead>\n",
       "  <tbody>\n",
       "    <tr>\n",
       "      <th>0</th>\n",
       "      <td>0.0</td>\n",
       "      <td>1.0</td>\n",
       "      <td>480.0</td>\n",
       "      <td>0.0</td>\n",
       "      <td>0.0</td>\n",
       "      <td>0.0</td>\n",
       "      <td>1.0</td>\n",
       "      <td>480.0</td>\n",
       "      <td>230400.0</td>\n",
       "    </tr>\n",
       "    <tr>\n",
       "      <th>1</th>\n",
       "      <td>2.0</td>\n",
       "      <td>2.0</td>\n",
       "      <td>2000.0</td>\n",
       "      <td>4.0</td>\n",
       "      <td>4.0</td>\n",
       "      <td>4000.0</td>\n",
       "      <td>4.0</td>\n",
       "      <td>4000.0</td>\n",
       "      <td>4000000.0</td>\n",
       "    </tr>\n",
       "    <tr>\n",
       "      <th>2</th>\n",
       "      <td>1.0</td>\n",
       "      <td>1.0</td>\n",
       "      <td>916.0</td>\n",
       "      <td>1.0</td>\n",
       "      <td>1.0</td>\n",
       "      <td>916.0</td>\n",
       "      <td>1.0</td>\n",
       "      <td>916.0</td>\n",
       "      <td>839056.0</td>\n",
       "    </tr>\n",
       "    <tr>\n",
       "      <th>3</th>\n",
       "      <td>1.0</td>\n",
       "      <td>1.0</td>\n",
       "      <td>975.0</td>\n",
       "      <td>1.0</td>\n",
       "      <td>1.0</td>\n",
       "      <td>975.0</td>\n",
       "      <td>1.0</td>\n",
       "      <td>975.0</td>\n",
       "      <td>950625.0</td>\n",
       "    </tr>\n",
       "    <tr>\n",
       "      <th>4</th>\n",
       "      <td>2.0</td>\n",
       "      <td>2.0</td>\n",
       "      <td>4800.0</td>\n",
       "      <td>4.0</td>\n",
       "      <td>4.0</td>\n",
       "      <td>9600.0</td>\n",
       "      <td>4.0</td>\n",
       "      <td>9600.0</td>\n",
       "      <td>23040000.0</td>\n",
       "    </tr>\n",
       "  </tbody>\n",
       "</table>\n",
       "</div>"
      ],
      "text/plain": [
       "   bedrooms  bathrooms  size_sqft  bedrooms^2  bedrooms bathrooms  \\\n",
       "0       0.0        1.0      480.0         0.0                 0.0   \n",
       "1       2.0        2.0     2000.0         4.0                 4.0   \n",
       "2       1.0        1.0      916.0         1.0                 1.0   \n",
       "3       1.0        1.0      975.0         1.0                 1.0   \n",
       "4       2.0        2.0     4800.0         4.0                 4.0   \n",
       "\n",
       "   bedrooms size_sqft  bathrooms^2  bathrooms size_sqft  size_sqft^2  \n",
       "0                 0.0          1.0                480.0     230400.0  \n",
       "1              4000.0          4.0               4000.0    4000000.0  \n",
       "2               916.0          1.0                916.0     839056.0  \n",
       "3               975.0          1.0                975.0     950625.0  \n",
       "4              9600.0          4.0               9600.0   23040000.0  "
      ]
     },
     "execution_count": 48,
     "metadata": {},
     "output_type": "execute_result"
    }
   ],
   "source": [
    "x=pd.DataFrame(fit,columns=poly.get_feature_names_out())\n",
    "x.head()"
   ]
  },
  {
   "cell_type": "code",
   "execution_count": 49,
   "metadata": {},
   "outputs": [
    {
     "data": {
      "text/plain": [
       "array(['bedrooms', 'bathrooms', 'size_sqft', 'bedrooms^2',\n",
       "       'bedrooms bathrooms', 'bedrooms size_sqft', 'bathrooms^2',\n",
       "       'bathrooms size_sqft', 'size_sqft^2'], dtype=object)"
      ]
     },
     "execution_count": 49,
     "metadata": {},
     "output_type": "execute_result"
    }
   ],
   "source": [
    "num_col=poly.get_feature_names_out()\n",
    "num_col"
   ]
  },
  {
   "cell_type": "code",
   "execution_count": 50,
   "metadata": {},
   "outputs": [
    {
     "data": {
      "text/html": [
       "<div>\n",
       "<style scoped>\n",
       "    .dataframe tbody tr th:only-of-type {\n",
       "        vertical-align: middle;\n",
       "    }\n",
       "\n",
       "    .dataframe tbody tr th {\n",
       "        vertical-align: top;\n",
       "    }\n",
       "\n",
       "    .dataframe thead th {\n",
       "        text-align: right;\n",
       "    }\n",
       "</style>\n",
       "<table border=\"1\" class=\"dataframe\">\n",
       "  <thead>\n",
       "    <tr style=\"text-align: right;\">\n",
       "      <th></th>\n",
       "      <th>bedrooms</th>\n",
       "      <th>bathrooms</th>\n",
       "      <th>size_sqft</th>\n",
       "      <th>bedrooms^2</th>\n",
       "      <th>bedrooms bathrooms</th>\n",
       "      <th>bedrooms size_sqft</th>\n",
       "      <th>bathrooms^2</th>\n",
       "      <th>bathrooms size_sqft</th>\n",
       "      <th>size_sqft^2</th>\n",
       "    </tr>\n",
       "  </thead>\n",
       "  <tbody>\n",
       "    <tr>\n",
       "      <th>0</th>\n",
       "      <td>-1.397410</td>\n",
       "      <td>-0.611790</td>\n",
       "      <td>-0.962011</td>\n",
       "      <td>-0.813802</td>\n",
       "      <td>-0.887412</td>\n",
       "      <td>-0.854889</td>\n",
       "      <td>-0.549112</td>\n",
       "      <td>-0.665656</td>\n",
       "      <td>-0.646249</td>\n",
       "    </tr>\n",
       "    <tr>\n",
       "      <th>1</th>\n",
       "      <td>0.669863</td>\n",
       "      <td>1.056257</td>\n",
       "      <td>2.218694</td>\n",
       "      <td>0.364040</td>\n",
       "      <td>0.679143</td>\n",
       "      <td>1.246829</td>\n",
       "      <td>0.792951</td>\n",
       "      <td>1.599041</td>\n",
       "      <td>2.118721</td>\n",
       "    </tr>\n",
       "    <tr>\n",
       "      <th>2</th>\n",
       "      <td>-0.363774</td>\n",
       "      <td>-0.611790</td>\n",
       "      <td>-0.049651</td>\n",
       "      <td>-0.519342</td>\n",
       "      <td>-0.495773</td>\n",
       "      <td>-0.373596</td>\n",
       "      <td>-0.549112</td>\n",
       "      <td>-0.385142</td>\n",
       "      <td>-0.199805</td>\n",
       "    </tr>\n",
       "    <tr>\n",
       "      <th>3</th>\n",
       "      <td>-0.363774</td>\n",
       "      <td>-0.611790</td>\n",
       "      <td>0.073811</td>\n",
       "      <td>-0.519342</td>\n",
       "      <td>-0.495773</td>\n",
       "      <td>-0.342595</td>\n",
       "      <td>-0.549112</td>\n",
       "      <td>-0.347183</td>\n",
       "      <td>-0.117970</td>\n",
       "    </tr>\n",
       "    <tr>\n",
       "      <th>4</th>\n",
       "      <td>0.669863</td>\n",
       "      <td>1.056257</td>\n",
       "      <td>8.077886</td>\n",
       "      <td>0.364040</td>\n",
       "      <td>0.679143</td>\n",
       "      <td>4.189235</td>\n",
       "      <td>0.792951</td>\n",
       "      <td>5.201967</td>\n",
       "      <td>16.084403</td>\n",
       "    </tr>\n",
       "  </tbody>\n",
       "</table>\n",
       "</div>"
      ],
      "text/plain": [
       "   bedrooms  bathrooms  size_sqft  bedrooms^2  bedrooms bathrooms  \\\n",
       "0 -1.397410  -0.611790  -0.962011   -0.813802           -0.887412   \n",
       "1  0.669863   1.056257   2.218694    0.364040            0.679143   \n",
       "2 -0.363774  -0.611790  -0.049651   -0.519342           -0.495773   \n",
       "3 -0.363774  -0.611790   0.073811   -0.519342           -0.495773   \n",
       "4  0.669863   1.056257   8.077886    0.364040            0.679143   \n",
       "\n",
       "   bedrooms size_sqft  bathrooms^2  bathrooms size_sqft  size_sqft^2  \n",
       "0           -0.854889    -0.549112            -0.665656    -0.646249  \n",
       "1            1.246829     0.792951             1.599041     2.118721  \n",
       "2           -0.373596    -0.549112            -0.385142    -0.199805  \n",
       "3           -0.342595    -0.549112            -0.347183    -0.117970  \n",
       "4            4.189235     0.792951             5.201967    16.084403  "
      ]
     },
     "execution_count": 50,
     "metadata": {},
     "output_type": "execute_result"
    }
   ],
   "source": [
    "from sklearn.preprocessing import StandardScaler\n",
    "scaler=  StandardScaler()\n",
    "x.loc[:,num_col] = scaler.fit_transform(x.loc[:,num_col])\n",
    "x.head()"
   ]
  },
  {
   "cell_type": "code",
   "execution_count": 51,
   "metadata": {},
   "outputs": [
    {
     "data": {
      "text/html": [
       "<div>\n",
       "<style scoped>\n",
       "    .dataframe tbody tr th:only-of-type {\n",
       "        vertical-align: middle;\n",
       "    }\n",
       "\n",
       "    .dataframe tbody tr th {\n",
       "        vertical-align: top;\n",
       "    }\n",
       "\n",
       "    .dataframe thead th {\n",
       "        text-align: right;\n",
       "    }\n",
       "</style>\n",
       "<table border=\"1\" class=\"dataframe\">\n",
       "  <thead>\n",
       "    <tr style=\"text-align: right;\">\n",
       "      <th></th>\n",
       "      <th>bedrooms</th>\n",
       "      <th>bathrooms</th>\n",
       "      <th>size_sqft</th>\n",
       "      <th>bedrooms^2</th>\n",
       "      <th>bedrooms bathrooms</th>\n",
       "      <th>bedrooms size_sqft</th>\n",
       "      <th>bathrooms^2</th>\n",
       "      <th>bathrooms size_sqft</th>\n",
       "      <th>size_sqft^2</th>\n",
       "      <th>no_fee</th>\n",
       "      <th>has_roofdeck</th>\n",
       "      <th>has_washer_dryer</th>\n",
       "      <th>has_doorman</th>\n",
       "      <th>has_elevator</th>\n",
       "      <th>has_dishwasher</th>\n",
       "      <th>has_patio</th>\n",
       "      <th>has_gym</th>\n",
       "    </tr>\n",
       "  </thead>\n",
       "  <tbody>\n",
       "    <tr>\n",
       "      <th>0</th>\n",
       "      <td>-1.397410</td>\n",
       "      <td>-0.611790</td>\n",
       "      <td>-0.962011</td>\n",
       "      <td>-0.813802</td>\n",
       "      <td>-0.887412</td>\n",
       "      <td>-0.854889</td>\n",
       "      <td>-0.549112</td>\n",
       "      <td>-0.665656</td>\n",
       "      <td>-0.646249</td>\n",
       "      <td>1</td>\n",
       "      <td>1</td>\n",
       "      <td>0</td>\n",
       "      <td>0</td>\n",
       "      <td>1</td>\n",
       "      <td>1</td>\n",
       "      <td>0</td>\n",
       "      <td>1</td>\n",
       "    </tr>\n",
       "    <tr>\n",
       "      <th>1</th>\n",
       "      <td>0.669863</td>\n",
       "      <td>1.056257</td>\n",
       "      <td>2.218694</td>\n",
       "      <td>0.364040</td>\n",
       "      <td>0.679143</td>\n",
       "      <td>1.246829</td>\n",
       "      <td>0.792951</td>\n",
       "      <td>1.599041</td>\n",
       "      <td>2.118721</td>\n",
       "      <td>0</td>\n",
       "      <td>0</td>\n",
       "      <td>0</td>\n",
       "      <td>0</td>\n",
       "      <td>0</td>\n",
       "      <td>0</td>\n",
       "      <td>0</td>\n",
       "      <td>0</td>\n",
       "    </tr>\n",
       "    <tr>\n",
       "      <th>2</th>\n",
       "      <td>-0.363774</td>\n",
       "      <td>-0.611790</td>\n",
       "      <td>-0.049651</td>\n",
       "      <td>-0.519342</td>\n",
       "      <td>-0.495773</td>\n",
       "      <td>-0.373596</td>\n",
       "      <td>-0.549112</td>\n",
       "      <td>-0.385142</td>\n",
       "      <td>-0.199805</td>\n",
       "      <td>0</td>\n",
       "      <td>1</td>\n",
       "      <td>0</td>\n",
       "      <td>1</td>\n",
       "      <td>1</td>\n",
       "      <td>1</td>\n",
       "      <td>0</td>\n",
       "      <td>0</td>\n",
       "    </tr>\n",
       "    <tr>\n",
       "      <th>3</th>\n",
       "      <td>-0.363774</td>\n",
       "      <td>-0.611790</td>\n",
       "      <td>0.073811</td>\n",
       "      <td>-0.519342</td>\n",
       "      <td>-0.495773</td>\n",
       "      <td>-0.342595</td>\n",
       "      <td>-0.549112</td>\n",
       "      <td>-0.347183</td>\n",
       "      <td>-0.117970</td>\n",
       "      <td>0</td>\n",
       "      <td>0</td>\n",
       "      <td>0</td>\n",
       "      <td>1</td>\n",
       "      <td>1</td>\n",
       "      <td>1</td>\n",
       "      <td>0</td>\n",
       "      <td>1</td>\n",
       "    </tr>\n",
       "    <tr>\n",
       "      <th>4</th>\n",
       "      <td>0.669863</td>\n",
       "      <td>1.056257</td>\n",
       "      <td>8.077886</td>\n",
       "      <td>0.364040</td>\n",
       "      <td>0.679143</td>\n",
       "      <td>4.189235</td>\n",
       "      <td>0.792951</td>\n",
       "      <td>5.201967</td>\n",
       "      <td>16.084403</td>\n",
       "      <td>0</td>\n",
       "      <td>0</td>\n",
       "      <td>0</td>\n",
       "      <td>1</td>\n",
       "      <td>1</td>\n",
       "      <td>1</td>\n",
       "      <td>0</td>\n",
       "      <td>1</td>\n",
       "    </tr>\n",
       "  </tbody>\n",
       "</table>\n",
       "</div>"
      ],
      "text/plain": [
       "   bedrooms  bathrooms  size_sqft  bedrooms^2  bedrooms bathrooms  \\\n",
       "0 -1.397410  -0.611790  -0.962011   -0.813802           -0.887412   \n",
       "1  0.669863   1.056257   2.218694    0.364040            0.679143   \n",
       "2 -0.363774  -0.611790  -0.049651   -0.519342           -0.495773   \n",
       "3 -0.363774  -0.611790   0.073811   -0.519342           -0.495773   \n",
       "4  0.669863   1.056257   8.077886    0.364040            0.679143   \n",
       "\n",
       "   bedrooms size_sqft  bathrooms^2  bathrooms size_sqft  size_sqft^2 no_fee  \\\n",
       "0           -0.854889    -0.549112            -0.665656    -0.646249      1   \n",
       "1            1.246829     0.792951             1.599041     2.118721      0   \n",
       "2           -0.373596    -0.549112            -0.385142    -0.199805      0   \n",
       "3           -0.342595    -0.549112            -0.347183    -0.117970      0   \n",
       "4            4.189235     0.792951             5.201967    16.084403      0   \n",
       "\n",
       "  has_roofdeck has_washer_dryer has_doorman has_elevator has_dishwasher  \\\n",
       "0            1                0           0            1              1   \n",
       "1            0                0           0            0              0   \n",
       "2            1                0           1            1              1   \n",
       "3            0                0           1            1              1   \n",
       "4            0                0           1            1              1   \n",
       "\n",
       "  has_patio has_gym  \n",
       "0         0       1  \n",
       "1         0       0  \n",
       "2         0       0  \n",
       "3         0       1  \n",
       "4         0       1  "
      ]
     },
     "execution_count": 51,
     "metadata": {},
     "output_type": "execute_result"
    }
   ],
   "source": [
    "x[cat_col]=df.loc[:,cat_col]\n",
    "x.head()"
   ]
  },
  {
   "cell_type": "code",
   "execution_count": 52,
   "metadata": {},
   "outputs": [
    {
     "data": {
      "text/html": [
       "<div>\n",
       "<style scoped>\n",
       "    .dataframe tbody tr th:only-of-type {\n",
       "        vertical-align: middle;\n",
       "    }\n",
       "\n",
       "    .dataframe tbody tr th {\n",
       "        vertical-align: top;\n",
       "    }\n",
       "\n",
       "    .dataframe thead th {\n",
       "        text-align: right;\n",
       "    }\n",
       "</style>\n",
       "<table border=\"1\" class=\"dataframe\">\n",
       "  <thead>\n",
       "    <tr style=\"text-align: right;\">\n",
       "      <th></th>\n",
       "      <th>rent</th>\n",
       "    </tr>\n",
       "  </thead>\n",
       "  <tbody>\n",
       "    <tr>\n",
       "      <th>0</th>\n",
       "      <td>2550</td>\n",
       "    </tr>\n",
       "    <tr>\n",
       "      <th>1</th>\n",
       "      <td>11500</td>\n",
       "    </tr>\n",
       "    <tr>\n",
       "      <th>2</th>\n",
       "      <td>4500</td>\n",
       "    </tr>\n",
       "    <tr>\n",
       "      <th>3</th>\n",
       "      <td>4795</td>\n",
       "    </tr>\n",
       "    <tr>\n",
       "      <th>4</th>\n",
       "      <td>17500</td>\n",
       "    </tr>\n",
       "  </tbody>\n",
       "</table>\n",
       "</div>"
      ],
      "text/plain": [
       "    rent\n",
       "0   2550\n",
       "1  11500\n",
       "2   4500\n",
       "3   4795\n",
       "4  17500"
      ]
     },
     "execution_count": 52,
     "metadata": {},
     "output_type": "execute_result"
    }
   ],
   "source": [
    "y.head()"
   ]
  },
  {
   "cell_type": "markdown",
   "metadata": {},
   "source": [
    "### 더미변수 ㄱㄱ \n"
   ]
  },
  {
   "cell_type": "code",
   "execution_count": 53,
   "metadata": {},
   "outputs": [
    {
     "data": {
      "text/html": [
       "<div>\n",
       "<style scoped>\n",
       "    .dataframe tbody tr th:only-of-type {\n",
       "        vertical-align: middle;\n",
       "    }\n",
       "\n",
       "    .dataframe tbody tr th {\n",
       "        vertical-align: top;\n",
       "    }\n",
       "\n",
       "    .dataframe thead th {\n",
       "        text-align: right;\n",
       "    }\n",
       "</style>\n",
       "<table border=\"1\" class=\"dataframe\">\n",
       "  <thead>\n",
       "    <tr style=\"text-align: right;\">\n",
       "      <th></th>\n",
       "      <th>bedrooms</th>\n",
       "      <th>bathrooms</th>\n",
       "      <th>size_sqft</th>\n",
       "      <th>bedrooms^2</th>\n",
       "      <th>bedrooms bathrooms</th>\n",
       "      <th>bedrooms size_sqft</th>\n",
       "      <th>bathrooms^2</th>\n",
       "      <th>bathrooms size_sqft</th>\n",
       "      <th>size_sqft^2</th>\n",
       "      <th>no_fee_1</th>\n",
       "      <th>has_roofdeck_1</th>\n",
       "      <th>has_washer_dryer_1</th>\n",
       "      <th>has_doorman_1</th>\n",
       "      <th>has_elevator_1</th>\n",
       "      <th>has_dishwasher_1</th>\n",
       "      <th>has_patio_1</th>\n",
       "      <th>has_gym_1</th>\n",
       "    </tr>\n",
       "  </thead>\n",
       "  <tbody>\n",
       "    <tr>\n",
       "      <th>0</th>\n",
       "      <td>-1.397410</td>\n",
       "      <td>-0.611790</td>\n",
       "      <td>-0.962011</td>\n",
       "      <td>-0.813802</td>\n",
       "      <td>-0.887412</td>\n",
       "      <td>-0.854889</td>\n",
       "      <td>-0.549112</td>\n",
       "      <td>-0.665656</td>\n",
       "      <td>-0.646249</td>\n",
       "      <td>1</td>\n",
       "      <td>1</td>\n",
       "      <td>0</td>\n",
       "      <td>0</td>\n",
       "      <td>1</td>\n",
       "      <td>1</td>\n",
       "      <td>0</td>\n",
       "      <td>1</td>\n",
       "    </tr>\n",
       "    <tr>\n",
       "      <th>1</th>\n",
       "      <td>0.669863</td>\n",
       "      <td>1.056257</td>\n",
       "      <td>2.218694</td>\n",
       "      <td>0.364040</td>\n",
       "      <td>0.679143</td>\n",
       "      <td>1.246829</td>\n",
       "      <td>0.792951</td>\n",
       "      <td>1.599041</td>\n",
       "      <td>2.118721</td>\n",
       "      <td>0</td>\n",
       "      <td>0</td>\n",
       "      <td>0</td>\n",
       "      <td>0</td>\n",
       "      <td>0</td>\n",
       "      <td>0</td>\n",
       "      <td>0</td>\n",
       "      <td>0</td>\n",
       "    </tr>\n",
       "    <tr>\n",
       "      <th>2</th>\n",
       "      <td>-0.363774</td>\n",
       "      <td>-0.611790</td>\n",
       "      <td>-0.049651</td>\n",
       "      <td>-0.519342</td>\n",
       "      <td>-0.495773</td>\n",
       "      <td>-0.373596</td>\n",
       "      <td>-0.549112</td>\n",
       "      <td>-0.385142</td>\n",
       "      <td>-0.199805</td>\n",
       "      <td>0</td>\n",
       "      <td>1</td>\n",
       "      <td>0</td>\n",
       "      <td>1</td>\n",
       "      <td>1</td>\n",
       "      <td>1</td>\n",
       "      <td>0</td>\n",
       "      <td>0</td>\n",
       "    </tr>\n",
       "    <tr>\n",
       "      <th>3</th>\n",
       "      <td>-0.363774</td>\n",
       "      <td>-0.611790</td>\n",
       "      <td>0.073811</td>\n",
       "      <td>-0.519342</td>\n",
       "      <td>-0.495773</td>\n",
       "      <td>-0.342595</td>\n",
       "      <td>-0.549112</td>\n",
       "      <td>-0.347183</td>\n",
       "      <td>-0.117970</td>\n",
       "      <td>0</td>\n",
       "      <td>0</td>\n",
       "      <td>0</td>\n",
       "      <td>1</td>\n",
       "      <td>1</td>\n",
       "      <td>1</td>\n",
       "      <td>0</td>\n",
       "      <td>1</td>\n",
       "    </tr>\n",
       "    <tr>\n",
       "      <th>4</th>\n",
       "      <td>0.669863</td>\n",
       "      <td>1.056257</td>\n",
       "      <td>8.077886</td>\n",
       "      <td>0.364040</td>\n",
       "      <td>0.679143</td>\n",
       "      <td>4.189235</td>\n",
       "      <td>0.792951</td>\n",
       "      <td>5.201967</td>\n",
       "      <td>16.084403</td>\n",
       "      <td>0</td>\n",
       "      <td>0</td>\n",
       "      <td>0</td>\n",
       "      <td>1</td>\n",
       "      <td>1</td>\n",
       "      <td>1</td>\n",
       "      <td>0</td>\n",
       "      <td>1</td>\n",
       "    </tr>\n",
       "  </tbody>\n",
       "</table>\n",
       "</div>"
      ],
      "text/plain": [
       "   bedrooms  bathrooms  size_sqft  bedrooms^2  bedrooms bathrooms  \\\n",
       "0 -1.397410  -0.611790  -0.962011   -0.813802           -0.887412   \n",
       "1  0.669863   1.056257   2.218694    0.364040            0.679143   \n",
       "2 -0.363774  -0.611790  -0.049651   -0.519342           -0.495773   \n",
       "3 -0.363774  -0.611790   0.073811   -0.519342           -0.495773   \n",
       "4  0.669863   1.056257   8.077886    0.364040            0.679143   \n",
       "\n",
       "   bedrooms size_sqft  bathrooms^2  bathrooms size_sqft  size_sqft^2  \\\n",
       "0           -0.854889    -0.549112            -0.665656    -0.646249   \n",
       "1            1.246829     0.792951             1.599041     2.118721   \n",
       "2           -0.373596    -0.549112            -0.385142    -0.199805   \n",
       "3           -0.342595    -0.549112            -0.347183    -0.117970   \n",
       "4            4.189235     0.792951             5.201967    16.084403   \n",
       "\n",
       "   no_fee_1  has_roofdeck_1  has_washer_dryer_1  has_doorman_1  \\\n",
       "0         1               1                   0              0   \n",
       "1         0               0                   0              0   \n",
       "2         0               1                   0              1   \n",
       "3         0               0                   0              1   \n",
       "4         0               0                   0              1   \n",
       "\n",
       "   has_elevator_1  has_dishwasher_1  has_patio_1  has_gym_1  \n",
       "0               1                 1            0          1  \n",
       "1               0                 0            0          0  \n",
       "2               1                 1            0          0  \n",
       "3               1                 1            0          1  \n",
       "4               1                 1            0          1  "
      ]
     },
     "execution_count": 53,
     "metadata": {},
     "output_type": "execute_result"
    }
   ],
   "source": [
    "x = pd.get_dummies(x,drop_first=True,dtype='int')\n",
    "x.head()"
   ]
  },
  {
   "cell_type": "markdown",
   "metadata": {},
   "source": [
    "### 데이터 분리"
   ]
  },
  {
   "cell_type": "code",
   "execution_count": 54,
   "metadata": {},
   "outputs": [
    {
     "name": "stdout",
     "output_type": "stream",
     "text": [
      "(2477, 17)\n",
      "(2477, 1)\n",
      "(1062, 17)\n",
      "(1062, 1)\n"
     ]
    }
   ],
   "source": [
    "x_train,x_test,y_train,y_test = train_test_split(x,y,test_size=0.3,random_state=123)\n",
    "print(x_train.shape)\n",
    "print(y_train.shape)\n",
    "print(x_test.shape)\n",
    "print(y_test.shape)"
   ]
  },
  {
   "cell_type": "markdown",
   "metadata": {},
   "source": [
    "### 회귀분석\n"
   ]
  },
  {
   "cell_type": "code",
   "execution_count": 55,
   "metadata": {},
   "outputs": [
    {
     "name": "stdout",
     "output_type": "stream",
     "text": [
      "기울기:  [[ -113.61027804   503.24840798  2344.4841047   -739.16350701\n",
      "    471.73469826   218.89331661 -1627.9916393   3082.47867753\n",
      "  -1655.34086293    79.77064024     5.12071944   237.17857214\n",
      "    -49.0790144    132.83179678  -115.99977433   -42.29470393\n",
      "    -94.59524803]]\n",
      "절편 :  [5093.52884607]\n"
     ]
    }
   ],
   "source": [
    "model = LinearRegression()\n",
    "fit = model.fit(x_train,y_train)\n",
    "\n",
    "# 기울기 \n",
    "coef = fit.coef_\n",
    "# 절편\n",
    "intercept = fit.intercept_\n",
    "print ('기울기: ', coef)\n",
    "\n",
    "print('절편 : ',intercept )\n",
    "\n"
   ]
  },
  {
   "cell_type": "markdown",
   "metadata": {},
   "source": [
    "### 설명력\n"
   ]
  },
  {
   "cell_type": "code",
   "execution_count": 56,
   "metadata": {},
   "outputs": [
    {
     "name": "stdout",
     "output_type": "stream",
     "text": [
      "훈련 데이터 설명력 :  0.7835036888699773\n",
      "검증 데이터 설명력 :  0.7465433070347595\n"
     ]
    }
   ],
   "source": [
    "y_train_pred = fit.predict(x_train)\n",
    "y_test_pred = fit.predict(x_test)\n",
    "print('훈련 데이터 설명력 : ',r2_score(y_train,y_train_pred))\n",
    "print('검증 데이터 설명력 : ',r2_score(y_test,y_test_pred))"
   ]
  },
  {
   "cell_type": "markdown",
   "metadata": {},
   "source": [
    "### 에러율"
   ]
  },
  {
   "cell_type": "code",
   "execution_count": 57,
   "metadata": {},
   "outputs": [
    {
     "name": "stdout",
     "output_type": "stream",
     "text": [
      "훈련 데이터 MAE :  966.5209997818346\n",
      "훈련 데이터 MAE :  1017.615244715646\n",
      "훈련 데이터 MSE :  2170173.5435469863\n",
      "훈련 데이터 MSE :  2520580.6814656598\n",
      "훈련 데이터 RMSE :  1473.1508896060127\n",
      "훈련 데이터 RMSE :  1587.6336735738694\n",
      "훈련 데이터 MAPE :  19.721599612988346\n",
      "검증 데이터 MAPE :  20.85284872908291\n",
      "훈련 데이터 MPE :  -5.336799816771206\n",
      "검증 데이터 MPE :  -7.129198889907405\n"
     ]
    }
   ],
   "source": [
    "print('훈련 데이터 MAE : ',mean_absolute_error(y_train,y_train_pred))\n",
    "\n",
    "print('훈련 데이터 MAE : ',mean_absolute_error(y_test,y_test_pred))\n",
    "\n",
    "print('훈련 데이터 MSE : ',mean_squared_error(y_train,y_train_pred))\n",
    "\n",
    "print('훈련 데이터 MSE : ',mean_squared_error(y_test,y_test_pred))\n",
    "\n",
    "print('훈련 데이터 RMSE : ',np.sqrt(mean_squared_error(y_train,y_train_pred)))\n",
    "\n",
    "print('훈련 데이터 RMSE : ',np.sqrt(mean_squared_error(y_test,y_test_pred)))\n",
    "\n",
    "\n",
    "print('훈련 데이터 MAPE : ',np.mean(np.abs((y_train.values - y_train_pred)/y_train.values))*100)\n",
    "\n",
    "print('검증 데이터 MAPE : ',np.mean(np.abs((y_test.values - y_test_pred)/y_test.values))*100)\n",
    "\n",
    "print('훈련 데이터 MPE : ',np.mean((y_train.values - y_train_pred)/y_train.values)*100)\n",
    "\n",
    "print('검증 데이터 MPE : ',np.mean((y_test.values - y_test_pred)/y_test.values)*100)"
   ]
  },
  {
   "cell_type": "markdown",
   "metadata": {},
   "source": [
    "### 시각화"
   ]
  },
  {
   "cell_type": "code",
   "execution_count": 58,
   "metadata": {},
   "outputs": [
    {
     "data": {
      "text/html": [
       "<div>\n",
       "<style scoped>\n",
       "    .dataframe tbody tr th:only-of-type {\n",
       "        vertical-align: middle;\n",
       "    }\n",
       "\n",
       "    .dataframe tbody tr th {\n",
       "        vertical-align: top;\n",
       "    }\n",
       "\n",
       "    .dataframe thead th {\n",
       "        text-align: right;\n",
       "    }\n",
       "</style>\n",
       "<table border=\"1\" class=\"dataframe\">\n",
       "  <thead>\n",
       "    <tr style=\"text-align: right;\">\n",
       "      <th></th>\n",
       "      <th>bedrooms</th>\n",
       "      <th>bathrooms</th>\n",
       "      <th>size_sqft</th>\n",
       "      <th>bedrooms^2</th>\n",
       "      <th>bedrooms bathrooms</th>\n",
       "      <th>bedrooms size_sqft</th>\n",
       "      <th>bathrooms^2</th>\n",
       "      <th>bathrooms size_sqft</th>\n",
       "      <th>size_sqft^2</th>\n",
       "      <th>no_fee_1</th>\n",
       "      <th>has_roofdeck_1</th>\n",
       "      <th>has_washer_dryer_1</th>\n",
       "      <th>has_doorman_1</th>\n",
       "      <th>has_elevator_1</th>\n",
       "      <th>has_dishwasher_1</th>\n",
       "      <th>has_patio_1</th>\n",
       "      <th>has_gym_1</th>\n",
       "    </tr>\n",
       "  </thead>\n",
       "  <tbody>\n",
       "    <tr>\n",
       "      <th>3106</th>\n",
       "      <td>0.669863</td>\n",
       "      <td>-0.611790</td>\n",
       "      <td>-0.292389</td>\n",
       "      <td>0.364040</td>\n",
       "      <td>-0.104134</td>\n",
       "      <td>-0.014202</td>\n",
       "      <td>-0.549112</td>\n",
       "      <td>-0.459775</td>\n",
       "      <td>-0.345811</td>\n",
       "      <td>0</td>\n",
       "      <td>1</td>\n",
       "      <td>0</td>\n",
       "      <td>1</td>\n",
       "      <td>1</td>\n",
       "      <td>1</td>\n",
       "      <td>0</td>\n",
       "      <td>0</td>\n",
       "    </tr>\n",
       "    <tr>\n",
       "      <th>2627</th>\n",
       "      <td>-0.363774</td>\n",
       "      <td>-0.611790</td>\n",
       "      <td>-0.344703</td>\n",
       "      <td>-0.519342</td>\n",
       "      <td>-0.495773</td>\n",
       "      <td>-0.447681</td>\n",
       "      <td>-0.549112</td>\n",
       "      <td>-0.475859</td>\n",
       "      <td>-0.374692</td>\n",
       "      <td>0</td>\n",
       "      <td>0</td>\n",
       "      <td>0</td>\n",
       "      <td>0</td>\n",
       "      <td>0</td>\n",
       "      <td>0</td>\n",
       "      <td>0</td>\n",
       "      <td>0</td>\n",
       "    </tr>\n",
       "    <tr>\n",
       "      <th>1213</th>\n",
       "      <td>-0.363774</td>\n",
       "      <td>1.056257</td>\n",
       "      <td>0.546731</td>\n",
       "      <td>-0.519342</td>\n",
       "      <td>-0.104134</td>\n",
       "      <td>-0.223848</td>\n",
       "      <td>0.792951</td>\n",
       "      <td>0.570920</td>\n",
       "      <td>0.242744</td>\n",
       "      <td>1</td>\n",
       "      <td>1</td>\n",
       "      <td>1</td>\n",
       "      <td>1</td>\n",
       "      <td>1</td>\n",
       "      <td>1</td>\n",
       "      <td>1</td>\n",
       "      <td>1</td>\n",
       "    </tr>\n",
       "    <tr>\n",
       "      <th>1300</th>\n",
       "      <td>-0.363774</td>\n",
       "      <td>-0.611790</td>\n",
       "      <td>-0.219149</td>\n",
       "      <td>-0.519342</td>\n",
       "      <td>-0.495773</td>\n",
       "      <td>-0.416155</td>\n",
       "      <td>-0.549112</td>\n",
       "      <td>-0.437256</td>\n",
       "      <td>-0.303837</td>\n",
       "      <td>1</td>\n",
       "      <td>0</td>\n",
       "      <td>0</td>\n",
       "      <td>0</td>\n",
       "      <td>0</td>\n",
       "      <td>0</td>\n",
       "      <td>0</td>\n",
       "      <td>0</td>\n",
       "    </tr>\n",
       "    <tr>\n",
       "      <th>1908</th>\n",
       "      <td>-1.397410</td>\n",
       "      <td>-0.611790</td>\n",
       "      <td>-1.129417</td>\n",
       "      <td>-0.813802</td>\n",
       "      <td>-0.887412</td>\n",
       "      <td>-0.854889</td>\n",
       "      <td>-0.549112</td>\n",
       "      <td>-0.717126</td>\n",
       "      <td>-0.697887</td>\n",
       "      <td>1</td>\n",
       "      <td>0</td>\n",
       "      <td>0</td>\n",
       "      <td>0</td>\n",
       "      <td>0</td>\n",
       "      <td>0</td>\n",
       "      <td>0</td>\n",
       "      <td>0</td>\n",
       "    </tr>\n",
       "  </tbody>\n",
       "</table>\n",
       "</div>"
      ],
      "text/plain": [
       "      bedrooms  bathrooms  size_sqft  bedrooms^2  bedrooms bathrooms  \\\n",
       "3106  0.669863  -0.611790  -0.292389    0.364040           -0.104134   \n",
       "2627 -0.363774  -0.611790  -0.344703   -0.519342           -0.495773   \n",
       "1213 -0.363774   1.056257   0.546731   -0.519342           -0.104134   \n",
       "1300 -0.363774  -0.611790  -0.219149   -0.519342           -0.495773   \n",
       "1908 -1.397410  -0.611790  -1.129417   -0.813802           -0.887412   \n",
       "\n",
       "      bedrooms size_sqft  bathrooms^2  bathrooms size_sqft  size_sqft^2  \\\n",
       "3106           -0.014202    -0.549112            -0.459775    -0.345811   \n",
       "2627           -0.447681    -0.549112            -0.475859    -0.374692   \n",
       "1213           -0.223848     0.792951             0.570920     0.242744   \n",
       "1300           -0.416155    -0.549112            -0.437256    -0.303837   \n",
       "1908           -0.854889    -0.549112            -0.717126    -0.697887   \n",
       "\n",
       "      no_fee_1  has_roofdeck_1  has_washer_dryer_1  has_doorman_1  \\\n",
       "3106         0               1                   0              1   \n",
       "2627         0               0                   0              0   \n",
       "1213         1               1                   1              1   \n",
       "1300         1               0                   0              0   \n",
       "1908         1               0                   0              0   \n",
       "\n",
       "      has_elevator_1  has_dishwasher_1  has_patio_1  has_gym_1  \n",
       "3106               1                 1            0          0  \n",
       "2627               0                 0            0          0  \n",
       "1213               1                 1            1          1  \n",
       "1300               0                 0            0          0  \n",
       "1908               0                 0            0          0  "
      ]
     },
     "execution_count": 58,
     "metadata": {},
     "output_type": "execute_result"
    }
   ],
   "source": [
    "x_train.head()"
   ]
  },
  {
   "cell_type": "code",
   "execution_count": 59,
   "metadata": {},
   "outputs": [
    {
     "data": {
      "text/plain": [
       "<Axes: xlabel='size_sqft', ylabel='rent'>"
      ]
     },
     "execution_count": 59,
     "metadata": {},
     "output_type": "execute_result"
    },
    {
     "data": {
      "image/png": "[encoded data removed]",
      "text/plain": [
       "<Figure size 1500x500 with 2 Axes>"
      ]
     },
     "metadata": {},
     "output_type": "display_data"
    }
   ],
   "source": [
    "fig,(ax1,ax2) = plt.subplots(1,2,figsize=(15,5))\n",
    "## 관측치 시각화 \n",
    "sb.scatterplot(x=x_train['size_sqft'],y=y_train['rent'],ax=ax1,label='train data')\n",
    "## 관측치 추세선\n",
    "sb.regplot(x=x_train['size_sqft'],y=y_train['rent'],ax=ax1)\n",
    "\n",
    "## 학습데이터에 따른 추정치\n",
    "sb.scatterplot(x=x_train['size_sqft'],y=y_train_pred.reshape(-1),ax=ax1,label='train predcit data')\n",
    "## 추정치에 따른 그래프\n",
    "sb.regplot(x=x_train['size_sqft'],y=y_train_pred.reshape(-1),ax=ax1) \n",
    "\n",
    "## 검증 데이터 시각화\n",
    "sb.scatterplot(x=x_test['size_sqft'],y=y_test['rent'],label='test data',ax=ax2)\n",
    "## 검증 데이터 추세선\n",
    "sb.regplot(x=x_test['size_sqft'],y=y_test['rent'],ax=ax2)\n",
    "\n",
    "## 검증 데이터 추정치 \n",
    "sb.scatterplot(x=x_test['size_sqft'],y=y_test_pred.reshape(-1),label='test predict data',ax=ax2)\n",
    "## 검증 데이터 선그래프\n",
    "sb.regplot(x=x_test['size_sqft'],y=y_test_pred.reshape(-1),ax=ax2)"
   ]
  },
  {
   "cell_type": "code",
   "execution_count": null,
   "metadata": {},
   "outputs": [],
   "source": []
  }
 ],
 "metadata": {
  "kernelspec": {
   "display_name": "Python 3",
   "language": "python",
   "name": "python3"
  },
  "language_info": {
   "codemirror_mode": {
    "name": "ipython",
    "version": 3
   },
   "file_extension": ".py",
   "mimetype": "text/x-python",
   "name": "python",
   "nbconvert_exporter": "python",
   "pygments_lexer": "ipython3",
   "version": "3.11.3"
  },
  "orig_nbformat": 4
 },
 "nbformat": 4,
 "nbformat_minor": 2
}

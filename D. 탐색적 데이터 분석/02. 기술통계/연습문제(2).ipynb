{
 "cells": [
  {
   "attachments": {},
   "cell_type": "markdown",
   "metadata": {},
   "source": [
    "# 기술통계 연습문제 (2)\n",
    "\n",
    "Wage 데이터 셋은 경제 및 노동 시장에 관련된 정보를 담고 있는 데이터셋이다.\n",
    "\n",
    "이 데이터셋은 미국에서 수집된 임금에 대한 정보를 포함하고 있다.\n"
   ]
  },
  {
   "cell_type": "code",
   "execution_count": 1,
   "metadata": {},
   "outputs": [],
   "source": [
    "import pandas as pd \n",
    "from matplotlib import pyplot as plt\n",
    "import numpy as np\n",
    "import datetime as dt\n",
    "import seaborn as sb\n",
    "\n"
   ]
  },
  {
   "cell_type": "code",
   "execution_count": 2,
   "metadata": {},
   "outputs": [],
   "source": [
    "# 폰트 설정\n",
    "plt.rcParams['font.family'] = 'Malgun Gothic'   # 윈도우 전용\n",
    "#plt.rcParams['font.family'] = 'AppleGothic'    # 맥 전용\n",
    "plt.rcParams[\"font.size\"] = 10\n",
    "\n",
    "# 그래프 크기 설정\n",
    "plt.rcParams[\"figure.figsize\"] = (12,8)\n",
    "\n",
    "# 유니코드에서 음수 부호설정\n",
    "plt.rcParams['axes.unicode_minus'] = False\n"
   ]
  },
  {
   "cell_type": "code",
   "execution_count": 3,
   "metadata": {},
   "outputs": [
    {
     "data": {
      "text/html": [
       "<div>\n",
       "<style scoped>\n",
       "    .dataframe tbody tr th:only-of-type {\n",
       "        vertical-align: middle;\n",
       "    }\n",
       "\n",
       "    .dataframe tbody tr th {\n",
       "        vertical-align: top;\n",
       "    }\n",
       "\n",
       "    .dataframe thead th {\n",
       "        text-align: right;\n",
       "    }\n",
       "</style>\n",
       "<table border=\"1\" class=\"dataframe\">\n",
       "  <thead>\n",
       "    <tr style=\"text-align: right;\">\n",
       "      <th></th>\n",
       "      <th>year</th>\n",
       "      <th>age</th>\n",
       "      <th>maritl</th>\n",
       "      <th>race</th>\n",
       "      <th>education</th>\n",
       "      <th>region</th>\n",
       "      <th>jobclass</th>\n",
       "      <th>health</th>\n",
       "      <th>health_ins</th>\n",
       "      <th>logwage</th>\n",
       "      <th>wage</th>\n",
       "    </tr>\n",
       "  </thead>\n",
       "  <tbody>\n",
       "    <tr>\n",
       "      <th>0</th>\n",
       "      <td>2006</td>\n",
       "      <td>18</td>\n",
       "      <td>1. Never Married</td>\n",
       "      <td>1. White</td>\n",
       "      <td>1. &lt; HS Grad</td>\n",
       "      <td>2. Middle Atlantic</td>\n",
       "      <td>1. Industrial</td>\n",
       "      <td>1. &lt;=Good</td>\n",
       "      <td>2. No</td>\n",
       "      <td>4.318063</td>\n",
       "      <td>75.043154</td>\n",
       "    </tr>\n",
       "    <tr>\n",
       "      <th>1</th>\n",
       "      <td>2004</td>\n",
       "      <td>24</td>\n",
       "      <td>1. Never Married</td>\n",
       "      <td>1. White</td>\n",
       "      <td>4. College Grad</td>\n",
       "      <td>2. Middle Atlantic</td>\n",
       "      <td>2. Information</td>\n",
       "      <td>2. &gt;=Very Good</td>\n",
       "      <td>2. No</td>\n",
       "      <td>4.255273</td>\n",
       "      <td>70.476020</td>\n",
       "    </tr>\n",
       "    <tr>\n",
       "      <th>2</th>\n",
       "      <td>2003</td>\n",
       "      <td>45</td>\n",
       "      <td>2. Married</td>\n",
       "      <td>1. White</td>\n",
       "      <td>3. Some College</td>\n",
       "      <td>2. Middle Atlantic</td>\n",
       "      <td>1. Industrial</td>\n",
       "      <td>1. &lt;=Good</td>\n",
       "      <td>1. Yes</td>\n",
       "      <td>4.875061</td>\n",
       "      <td>130.982177</td>\n",
       "    </tr>\n",
       "    <tr>\n",
       "      <th>3</th>\n",
       "      <td>2003</td>\n",
       "      <td>43</td>\n",
       "      <td>2. Married</td>\n",
       "      <td>3. Asian</td>\n",
       "      <td>4. College Grad</td>\n",
       "      <td>2. Middle Atlantic</td>\n",
       "      <td>2. Information</td>\n",
       "      <td>2. &gt;=Very Good</td>\n",
       "      <td>1. Yes</td>\n",
       "      <td>5.041393</td>\n",
       "      <td>154.685293</td>\n",
       "    </tr>\n",
       "    <tr>\n",
       "      <th>4</th>\n",
       "      <td>2005</td>\n",
       "      <td>50</td>\n",
       "      <td>4. Divorced</td>\n",
       "      <td>1. White</td>\n",
       "      <td>2. HS Grad</td>\n",
       "      <td>2. Middle Atlantic</td>\n",
       "      <td>2. Information</td>\n",
       "      <td>1. &lt;=Good</td>\n",
       "      <td>1. Yes</td>\n",
       "      <td>4.318063</td>\n",
       "      <td>75.043154</td>\n",
       "    </tr>\n",
       "    <tr>\n",
       "      <th>...</th>\n",
       "      <td>...</td>\n",
       "      <td>...</td>\n",
       "      <td>...</td>\n",
       "      <td>...</td>\n",
       "      <td>...</td>\n",
       "      <td>...</td>\n",
       "      <td>...</td>\n",
       "      <td>...</td>\n",
       "      <td>...</td>\n",
       "      <td>...</td>\n",
       "      <td>...</td>\n",
       "    </tr>\n",
       "    <tr>\n",
       "      <th>2995</th>\n",
       "      <td>2008</td>\n",
       "      <td>44</td>\n",
       "      <td>2. Married</td>\n",
       "      <td>1. White</td>\n",
       "      <td>3. Some College</td>\n",
       "      <td>2. Middle Atlantic</td>\n",
       "      <td>1. Industrial</td>\n",
       "      <td>2. &gt;=Very Good</td>\n",
       "      <td>1. Yes</td>\n",
       "      <td>5.041393</td>\n",
       "      <td>154.685293</td>\n",
       "    </tr>\n",
       "    <tr>\n",
       "      <th>2996</th>\n",
       "      <td>2007</td>\n",
       "      <td>30</td>\n",
       "      <td>2. Married</td>\n",
       "      <td>1. White</td>\n",
       "      <td>2. HS Grad</td>\n",
       "      <td>2. Middle Atlantic</td>\n",
       "      <td>1. Industrial</td>\n",
       "      <td>2. &gt;=Very Good</td>\n",
       "      <td>2. No</td>\n",
       "      <td>4.602060</td>\n",
       "      <td>99.689464</td>\n",
       "    </tr>\n",
       "    <tr>\n",
       "      <th>2997</th>\n",
       "      <td>2005</td>\n",
       "      <td>27</td>\n",
       "      <td>2. Married</td>\n",
       "      <td>2. Black</td>\n",
       "      <td>1. &lt; HS Grad</td>\n",
       "      <td>2. Middle Atlantic</td>\n",
       "      <td>1. Industrial</td>\n",
       "      <td>1. &lt;=Good</td>\n",
       "      <td>2. No</td>\n",
       "      <td>4.193125</td>\n",
       "      <td>66.229408</td>\n",
       "    </tr>\n",
       "    <tr>\n",
       "      <th>2998</th>\n",
       "      <td>2005</td>\n",
       "      <td>27</td>\n",
       "      <td>1. Never Married</td>\n",
       "      <td>1. White</td>\n",
       "      <td>3. Some College</td>\n",
       "      <td>2. Middle Atlantic</td>\n",
       "      <td>1. Industrial</td>\n",
       "      <td>2. &gt;=Very Good</td>\n",
       "      <td>1. Yes</td>\n",
       "      <td>4.477121</td>\n",
       "      <td>87.981033</td>\n",
       "    </tr>\n",
       "    <tr>\n",
       "      <th>2999</th>\n",
       "      <td>2009</td>\n",
       "      <td>55</td>\n",
       "      <td>5. Separated</td>\n",
       "      <td>1. White</td>\n",
       "      <td>2. HS Grad</td>\n",
       "      <td>2. Middle Atlantic</td>\n",
       "      <td>1. Industrial</td>\n",
       "      <td>1. &lt;=Good</td>\n",
       "      <td>1. Yes</td>\n",
       "      <td>4.505150</td>\n",
       "      <td>90.481913</td>\n",
       "    </tr>\n",
       "  </tbody>\n",
       "</table>\n",
       "<p>3000 rows × 11 columns</p>\n",
       "</div>"
      ],
      "text/plain": [
       "      year  age            maritl      race        education  \\\n",
       "0     2006   18  1. Never Married  1. White     1. < HS Grad   \n",
       "1     2004   24  1. Never Married  1. White  4. College Grad   \n",
       "2     2003   45        2. Married  1. White  3. Some College   \n",
       "3     2003   43        2. Married  3. Asian  4. College Grad   \n",
       "4     2005   50       4. Divorced  1. White       2. HS Grad   \n",
       "...    ...  ...               ...       ...              ...   \n",
       "2995  2008   44        2. Married  1. White  3. Some College   \n",
       "2996  2007   30        2. Married  1. White       2. HS Grad   \n",
       "2997  2005   27        2. Married  2. Black     1. < HS Grad   \n",
       "2998  2005   27  1. Never Married  1. White  3. Some College   \n",
       "2999  2009   55      5. Separated  1. White       2. HS Grad   \n",
       "\n",
       "                  region        jobclass          health health_ins   logwage  \\\n",
       "0     2. Middle Atlantic   1. Industrial       1. <=Good      2. No  4.318063   \n",
       "1     2. Middle Atlantic  2. Information  2. >=Very Good      2. No  4.255273   \n",
       "2     2. Middle Atlantic   1. Industrial       1. <=Good     1. Yes  4.875061   \n",
       "3     2. Middle Atlantic  2. Information  2. >=Very Good     1. Yes  5.041393   \n",
       "4     2. Middle Atlantic  2. Information       1. <=Good     1. Yes  4.318063   \n",
       "...                  ...             ...             ...        ...       ...   \n",
       "2995  2. Middle Atlantic   1. Industrial  2. >=Very Good     1. Yes  5.041393   \n",
       "2996  2. Middle Atlantic   1. Industrial  2. >=Very Good      2. No  4.602060   \n",
       "2997  2. Middle Atlantic   1. Industrial       1. <=Good      2. No  4.193125   \n",
       "2998  2. Middle Atlantic   1. Industrial  2. >=Very Good     1. Yes  4.477121   \n",
       "2999  2. Middle Atlantic   1. Industrial       1. <=Good     1. Yes  4.505150   \n",
       "\n",
       "            wage  \n",
       "0      75.043154  \n",
       "1      70.476020  \n",
       "2     130.982177  \n",
       "3     154.685293  \n",
       "4      75.043154  \n",
       "...          ...  \n",
       "2995  154.685293  \n",
       "2996   99.689464  \n",
       "2997   66.229408  \n",
       "2998   87.981033  \n",
       "2999   90.481913  \n",
       "\n",
       "[3000 rows x 11 columns]"
      ]
     },
     "execution_count": 3,
     "metadata": {},
     "output_type": "execute_result"
    }
   ],
   "source": [
    "df = pd.read_excel(\"https://data.hossam.kr/D02/wage.xlsx\")\n",
    "## 기술 통계량\n",
    "df_desc = df.describe()\n",
    "df"
   ]
  },
  {
   "cell_type": "markdown",
   "metadata": {},
   "source": [
    "### 1. 데이터를 로드하여 명목형 변수를 1, 2 등으로 레이블링 하시오. 값의 종류는 데이터프레임으로부터 조회하여 확인하시오."
   ]
  },
  {
   "cell_type": "code",
   "execution_count": 4,
   "metadata": {},
   "outputs": [
    {
     "data": {
      "text/plain": [
       "year            int64\n",
       "age             int64\n",
       "maritl         object\n",
       "race           object\n",
       "education      object\n",
       "region         object\n",
       "jobclass       object\n",
       "health         object\n",
       "health_ins     object\n",
       "logwage       float64\n",
       "wage          float64\n",
       "dtype: object"
      ]
     },
     "execution_count": 4,
     "metadata": {},
     "output_type": "execute_result"
    }
   ],
   "source": [
    "df.dtypes\n",
    "## 명목형 변수로 처리할 칼럼 : maritl race education region jobclass health health_ins"
   ]
  },
  {
   "cell_type": "code",
   "execution_count": 5,
   "metadata": {},
   "outputs": [
    {
     "data": {
      "text/plain": [
       "array(['1', '0'], dtype=object)"
      ]
     },
     "execution_count": 5,
     "metadata": {},
     "output_type": "execute_result"
    }
   ],
   "source": [
    "## 명목형 변수로 처리할 칼럼 : maritl race education region jobclass health health_ins\n",
    "\n",
    "## maritl 칼럼 레이블링 \n",
    "\n",
    "df['maritl'].unique()\n",
    "maritl_value = df['maritl'].unique()\n",
    "maritl_value\n",
    "df[df['maritl']==\"1. Never Married\"] = df[df['maritl']==\"1. Never Married\"].replace(\"1. Never Married\",\"0\")\n",
    "df[df['maritl']==\"2. Married\"] = df[df['maritl']==\"2. Married\"].replace(\"2. Married\",\"1\")\n",
    "df[df['maritl']==\"4. Divorced\"] = df[df['maritl']==\"4. Divorced\"].replace(\"4. Divorced\",\"2\")\n",
    "df[df['maritl']==\"3. Widowed\"] = df[df['maritl']==\"3. Widowed\"].replace(\"3. Widowed\",\"3\")\n",
    "df[df['maritl']==\"5. Separated\"] = df[df['maritl']==\"5. Separated\"].replace(\"5. Separated\",\"4\")\n",
    "\n",
    "\n",
    "## race 칼럼 레이블링 \n",
    "df['race'].unique()\n",
    "race_value = df['race'].unique()\n",
    "df[df['race']==\"1. White\"] = df[df['race']==\"1. White\"].replace(\"1. White\",\"0\")\n",
    "df[df['race']==\"2. Black\"] = df[df['race']==\"2. Black\"].replace(\"2. Black\",\"1\")\n",
    "df[df['race']==\"3. Asian\"] = df[df['race']==\"3. Asian\"].replace(\"3. Asian\",\"2\")\n",
    "df[df['race']==\"4. Other\"] = df[df['race']==\"4. Other\"].replace(\"4. Other\",\"3\")\n",
    "\n",
    "\n",
    "\n",
    "## education 칼럼 레이블링 \n",
    "\n",
    "df['education'].unique()\n",
    "education_value = df['education'].unique()\n",
    "df[df['education']==\"1. < HS Grad\"] = df[df['education']==\"1. < HS Grad\"].replace(\"1. < HS Grad\",\"0\")\n",
    "df[df['education']==\"2. HS Grad\"] = df[df['education']==\"2. HS Grad\"].replace(\"2. HS Grad\",\"1\")\n",
    "df[df['education']==\"3. Some College\"] = df[df['education']==\"3. Some College\"].replace(\"3. Some College\",\"2\")\n",
    "df[df['education']==\"4. College Grad\"] = df[df['education']==\"4. College Grad\"].replace(\"4. College Grad\",\"3\")\n",
    "df[df['education']==\"5. Advanced Degree\"] = df[df['education']==\"5. Advanced Degree\"].replace(\"5. Advanced Degree\",\"4\")\n",
    "\n",
    "df['education'].unique()\n",
    "\n",
    "## region 칼럼 레이블링\n",
    "df['region'].value_counts()\n",
    "region_value = df['region'].unique()\n",
    "\n",
    "df['region'] = '0'\n",
    "df['region'].value_counts()\n",
    "\n",
    "\n",
    "## jobclass 칼럼 레이블링\n",
    "df['jobclass'].unique()\n",
    "jobclass_value = df['jobclass'].unique()\n",
    "\n",
    "df[df['jobclass']==\"1. Industrial\"] = df[df['jobclass']==\"1. Industrial\"].replace(\"1. Industrial\",\"0\")\n",
    "df[df['jobclass']==\"2. Information\"] = df[df['jobclass']==\"2. Information\"].replace(\"2. Information\",\"1\")\n",
    "df['jobclass'].unique()\n",
    "\n",
    "# health 칼럼 레이블링\n",
    "df['health'].unique()\n",
    "health_value = df['health'].unique()\n",
    "\n",
    "df[df['health']==\"1. <=Good\"] = df[df['health']==\"1. <=Good\"].replace(\"1. <=Good\",\"0\")\n",
    "df[df['health']==\"2. >=Very Good\"] = df[df['health']==\"2. >=Very Good\"].replace(\"2. >=Very Good\",\"1\")\n",
    "df['health'].unique()\n",
    "\n",
    "# health_ins 칼럼 레이블링\n",
    "df['health_ins'].unique()\n",
    "health_ins_value = df['health_ins'].unique()\n",
    "\n",
    "df[df['health_ins']==\"1. Yes\"] = df[df['health_ins']==\"1. Yes\"].replace(\"1. Yes\",\"0\")\n",
    "df[df['health_ins']==\"2. No\"] = df[df['health_ins']==\"2. No\"].replace(\"2. No\",\"1\")\n",
    "df['health_ins'].unique()\n",
    "\n"
   ]
  },
  {
   "cell_type": "markdown",
   "metadata": {},
   "source": [
    "### 2.레이블링 된 명목형 변수를 category 타입으로 변경하시오."
   ]
  },
  {
   "cell_type": "code",
   "execution_count": 6,
   "metadata": {},
   "outputs": [
    {
     "data": {
      "text/plain": [
       "year             int64\n",
       "age              int64\n",
       "maritl        category\n",
       "race          category\n",
       "education     category\n",
       "region        category\n",
       "jobclass      category\n",
       "health        category\n",
       "health_ins    category\n",
       "logwage        float64\n",
       "wage           float64\n",
       "dtype: object"
      ]
     },
     "execution_count": 6,
     "metadata": {},
     "output_type": "execute_result"
    }
   ],
   "source": [
    "## 범주화로 처리할 칼럼 : maritl race education region jobclass health health_ins\n",
    "df[['maritl', 'race', 'education', 'region', 'jobclass', 'health', 'health_ins']]=df[['maritl', 'race', 'education', 'region', 'jobclass', 'health', 'health_ins']].astype(\"category\")\n",
    "df.dtypes"
   ]
  },
  {
   "cell_type": "markdown",
   "metadata": {},
   "source": [
    "### 3.수치형 변수에 대한 요약 통계를 확인하고 설명하시오 (상자그림 제외)"
   ]
  },
  {
   "cell_type": "code",
   "execution_count": 7,
   "metadata": {},
   "outputs": [
    {
     "data": {
      "text/html": [
       "<div>\n",
       "<style scoped>\n",
       "    .dataframe tbody tr th:only-of-type {\n",
       "        vertical-align: middle;\n",
       "    }\n",
       "\n",
       "    .dataframe tbody tr th {\n",
       "        vertical-align: top;\n",
       "    }\n",
       "\n",
       "    .dataframe thead th {\n",
       "        text-align: right;\n",
       "    }\n",
       "</style>\n",
       "<table border=\"1\" class=\"dataframe\">\n",
       "  <thead>\n",
       "    <tr style=\"text-align: right;\">\n",
       "      <th></th>\n",
       "      <th>age</th>\n",
       "      <th>logwage</th>\n",
       "      <th>wage</th>\n",
       "    </tr>\n",
       "  </thead>\n",
       "  <tbody>\n",
       "    <tr>\n",
       "      <th>count</th>\n",
       "      <td>3000.000000</td>\n",
       "      <td>3000.000000</td>\n",
       "      <td>3000.000000</td>\n",
       "    </tr>\n",
       "    <tr>\n",
       "      <th>mean</th>\n",
       "      <td>42.414667</td>\n",
       "      <td>4.653905</td>\n",
       "      <td>111.703608</td>\n",
       "    </tr>\n",
       "    <tr>\n",
       "      <th>std</th>\n",
       "      <td>11.542406</td>\n",
       "      <td>0.351753</td>\n",
       "      <td>41.728595</td>\n",
       "    </tr>\n",
       "    <tr>\n",
       "      <th>min</th>\n",
       "      <td>18.000000</td>\n",
       "      <td>3.000000</td>\n",
       "      <td>20.085537</td>\n",
       "    </tr>\n",
       "    <tr>\n",
       "      <th>25%</th>\n",
       "      <td>33.750000</td>\n",
       "      <td>4.447158</td>\n",
       "      <td>85.383940</td>\n",
       "    </tr>\n",
       "    <tr>\n",
       "      <th>50%</th>\n",
       "      <td>42.000000</td>\n",
       "      <td>4.653213</td>\n",
       "      <td>104.921507</td>\n",
       "    </tr>\n",
       "    <tr>\n",
       "      <th>75%</th>\n",
       "      <td>51.000000</td>\n",
       "      <td>4.857332</td>\n",
       "      <td>128.680488</td>\n",
       "    </tr>\n",
       "    <tr>\n",
       "      <th>max</th>\n",
       "      <td>80.000000</td>\n",
       "      <td>5.763128</td>\n",
       "      <td>318.342430</td>\n",
       "    </tr>\n",
       "  </tbody>\n",
       "</table>\n",
       "</div>"
      ],
      "text/plain": [
       "               age      logwage         wage\n",
       "count  3000.000000  3000.000000  3000.000000\n",
       "mean     42.414667     4.653905   111.703608\n",
       "std      11.542406     0.351753    41.728595\n",
       "min      18.000000     3.000000    20.085537\n",
       "25%      33.750000     4.447158    85.383940\n",
       "50%      42.000000     4.653213   104.921507\n",
       "75%      51.000000     4.857332   128.680488\n",
       "max      80.000000     5.763128   318.342430"
      ]
     },
     "execution_count": 7,
     "metadata": {},
     "output_type": "execute_result"
    }
   ],
   "source": [
    "df.dtypes\n",
    "## 수치형 변수 age,logwage,wage\n",
    "\n",
    "df.describe().iloc[:,1:]\n"
   ]
  },
  {
   "cell_type": "markdown",
   "metadata": {},
   "source": [
    "### 4. 명목형 변수에 대한 기술 통계를 수행하고 설명하시오"
   ]
  },
  {
   "cell_type": "code",
   "execution_count": 52,
   "metadata": {},
   "outputs": [
    {
     "name": "stdout",
     "output_type": "stream",
     "text": [
      "['1. Never Married' '2. Married' '4. Divorced' '3. Widowed' '5. Separated']\n"
     ]
    },
    {
     "data": {
      "text/plain": [
       "maritl\n",
       "1    2074\n",
       "0     648\n",
       "2     204\n",
       "4      55\n",
       "3      19\n",
       "Name: count, dtype: int64"
      ]
     },
     "execution_count": 52,
     "metadata": {},
     "output_type": "execute_result"
    }
   ],
   "source": [
    "## 빈도수 확인 \n",
    "## maritl race education region jobclass health health_ins\n",
    "print(maritl_value)\n",
    "df[\"maritl\"].value_counts()\n",
    "## 기혼자들이 제일 많다."
   ]
  },
  {
   "cell_type": "code",
   "execution_count": 9,
   "metadata": {},
   "outputs": [
    {
     "name": "stdout",
     "output_type": "stream",
     "text": [
      "['1. White' '3. Asian' '4. Other' '2. Black']\n"
     ]
    },
    {
     "data": {
      "text/plain": [
       "race\n",
       "0    2480\n",
       "1     293\n",
       "2     190\n",
       "3      37\n",
       "Name: count, dtype: int64"
      ]
     },
     "execution_count": 9,
     "metadata": {},
     "output_type": "execute_result"
    }
   ],
   "source": [
    "## race 칼럼 \n",
    "print(race_value)\n",
    "df['race'].value_counts()\n",
    "\n",
    "## 백인들이 제일 많다"
   ]
  },
  {
   "cell_type": "code",
   "execution_count": 10,
   "metadata": {},
   "outputs": [
    {
     "name": "stdout",
     "output_type": "stream",
     "text": [
      "['1. < HS Grad' '4. College Grad' '3. Some College' '2. HS Grad'\n",
      " '5. Advanced Degree']\n"
     ]
    },
    {
     "data": {
      "text/plain": [
       "education\n",
       "1    971\n",
       "3    685\n",
       "2    650\n",
       "4    426\n",
       "0    268\n",
       "Name: count, dtype: int64"
      ]
     },
     "execution_count": 10,
     "metadata": {},
     "output_type": "execute_result"
    }
   ],
   "source": [
    "## education 칼럼 \n",
    "print(education_value)\n",
    "df['education'].value_counts()\n",
    "\n",
    "## 고졸 가진 사람들이 많다. "
   ]
  },
  {
   "cell_type": "code",
   "execution_count": 11,
   "metadata": {},
   "outputs": [
    {
     "name": "stdout",
     "output_type": "stream",
     "text": [
      "['2. Middle Atlantic']\n"
     ]
    },
    {
     "data": {
      "text/plain": [
       "region\n",
       "0    3000\n",
       "Name: count, dtype: int64"
      ]
     },
     "execution_count": 11,
     "metadata": {},
     "output_type": "execute_result"
    }
   ],
   "source": [
    "\n",
    "## region 칼럼 \n",
    "print(region_value)\n",
    "df['region'].value_counts()\n",
    "# 모두 Middle Atlantic 지역 사람이다 "
   ]
  },
  {
   "cell_type": "code",
   "execution_count": 12,
   "metadata": {},
   "outputs": [
    {
     "name": "stdout",
     "output_type": "stream",
     "text": [
      "['1. Industrial' '2. Information']\n"
     ]
    },
    {
     "data": {
      "text/plain": [
       "jobclass\n",
       "0    1544\n",
       "1    1456\n",
       "Name: count, dtype: int64"
      ]
     },
     "execution_count": 12,
     "metadata": {},
     "output_type": "execute_result"
    }
   ],
   "source": [
    "\n",
    "## jobclass 칼럼 \n",
    "print(jobclass_value)\n",
    "df['jobclass'].value_counts()\n",
    "\n",
    "## Industrial 직군의 사람들이 조금 더 많다.\n"
   ]
  },
  {
   "cell_type": "code",
   "execution_count": 13,
   "metadata": {},
   "outputs": [
    {
     "name": "stdout",
     "output_type": "stream",
     "text": [
      "['1. <=Good' '2. >=Very Good']\n"
     ]
    },
    {
     "data": {
      "text/plain": [
       "health\n",
       "1    2142\n",
       "0     858\n",
       "Name: count, dtype: int64"
      ]
     },
     "execution_count": 13,
     "metadata": {},
     "output_type": "execute_result"
    }
   ],
   "source": [
    "\n",
    "## health 칼럼 \n",
    "print(health_value)\n",
    "df['health'].value_counts()\n",
    "\n",
    "## 건강이 좋거나 안좋은 사람이 더 많다.\n",
    "\n"
   ]
  },
  {
   "cell_type": "code",
   "execution_count": 14,
   "metadata": {},
   "outputs": [
    {
     "name": "stdout",
     "output_type": "stream",
     "text": [
      "['2. No' '1. Yes']\n"
     ]
    },
    {
     "data": {
      "text/plain": [
       "health_ins\n",
       "0    2083\n",
       "1     917\n",
       "Name: count, dtype: int64"
      ]
     },
     "execution_count": 14,
     "metadata": {},
     "output_type": "execute_result"
    }
   ],
   "source": [
    "\n",
    "## health_ins 칼럼 \n",
    "print(health_ins_value)\n",
    "df['health_ins'].value_counts()\n",
    "\n",
    "## 건강보험 가힙한사람들이 더 많듬\n"
   ]
  },
  {
   "cell_type": "markdown",
   "metadata": {},
   "source": [
    "### 5. 결혼 여부에 따른 임금 수준을 비교하고자 한다. 결혼 여부에 따라 서브플롯을 구성하여 임금 수준을 히스토그램으로 시각화 하고 설명하시오."
   ]
  },
  {
   "cell_type": "code",
   "execution_count": 16,
   "metadata": {},
   "outputs": [
    {
     "name": "stdout",
     "output_type": "stream",
     "text": [
      "['1. Never Married' '2. Married' '4. Divorced' '3. Widowed' '5. Separated']\n"
     ]
    }
   ],
   "source": [
    "print(maritl_value)\n"
   ]
  },
  {
   "cell_type": "code",
   "execution_count": 55,
   "metadata": {},
   "outputs": [
    {
     "data": {
      "image/png": "[encoded data removed]",
      "text/plain": [
       "<Figure size 2000x1500 with 6 Axes>"
      ]
     },
     "metadata": {},
     "output_type": "display_data"
    },
    {
     "data": {
      "text/plain": [
       "<Figure size 1200x800 with 0 Axes>"
      ]
     },
     "metadata": {},
     "output_type": "display_data"
    }
   ],
   "source": [
    "hist , bins = np.histogram(df['wage'],bins=10)\n",
    "fig, ax = plt.subplots(2,3,figsize=(20,15))\n",
    "plt.figure()\n",
    "## 전체 제목\n",
    "fig.suptitle(\"결혼 여부에 따른 임금수준 비교\")\n",
    "\n",
    "## Never Married 인사람\n",
    "sb.histplot(data=df[df['maritl']=='0']['wage'],bins=10,ax=ax[0][0],edgecolor='black',linewidth=1.2)\n",
    "ax[0][0].set_title(\"Never Married 의 임금수준\")\n",
    "ax[0][0].set_xticks(np.round(bins,1),np.round(bins,1))\n",
    "##  Married 인사람의 임금수준\n",
    "sb.histplot(data=df[df['maritl']=='1']['wage'],bins=10,ax=ax[0][1],edgecolor='black',linewidth=1.2)\n",
    "ax[0][1].set_title(\" Married 의 임금수준\")\n",
    "ax[0][1].set_xticks(np.round(bins,1),np.round(bins,1))\n",
    "\n",
    "##  Widowed 인사람\n",
    "sb.histplot(data=df[df['maritl']=='3']['wage'],bins=10,ax=ax[0][2],edgecolor='black',linewidth=1.2)\n",
    "ax[0][2].set_title(\" Widowed 의 임금수준\")\n",
    "ax[0][2].set_xticks(np.round(bins,1),np.round(bins,1))\n",
    "##  Divorced 인사람\n",
    "sb.histplot(data=df[df['maritl']=='2']['wage'],bins=10,ax=ax[1][0],edgecolor='black',linewidth=1.2)\n",
    "ax[1][0].set_title(\" Divorced 의 임금수준\")\n",
    "ax[1][0].set_xticks(np.round(bins,1),np.round(bins,1))\n",
    "\n",
    "##  Separated 인사람\n",
    "sb.histplot(data=df[df['maritl']=='4']['wage'],bins=10,ax=ax[1][1],edgecolor='black',linewidth=1.2)\n",
    "ax[1][1].set_title(\" Separated 의 임금수준\")\n",
    "ax[1][1].set_xticks(np.round(bins,1),np.round(bins,1))\n",
    "plt.show()\n",
    "plt.close()"
   ]
  },
  {
   "cell_type": "markdown",
   "metadata": {},
   "source": [
    "1. 최고소득층에 위치하는 사람의 경우 대다수가 기혼자들이다.\n",
    "2. 최저소득층에 위치하는 사람의 경우 대다수가 결혼을 해본적이 없는 사람들이다.\n",
    "3. 결혼여부의 빈도수를 따져보면 기혼자의 빈도가 제일 높고 widowed 한 사람의 빈도수가 제일 적다.\n",
    "4. 각 결혼여부에 상관없이 중하위소득층이 가장 많은 비율을 차지한다. "
   ]
  },
  {
   "cell_type": "markdown",
   "metadata": {},
   "source": [
    "### 6. 교육 수준에 따른 임금에 대한 히스토그램을 시각화 하고 설명하시오. 교육수준별로 그래프를 나누어 서브플롯으로 제시해야 합니다."
   ]
  },
  {
   "cell_type": "code",
   "execution_count": 18,
   "metadata": {},
   "outputs": [
    {
     "name": "stdout",
     "output_type": "stream",
     "text": [
      "['1. < HS Grad' '4. College Grad' '3. Some College' '2. HS Grad'\n",
      " '5. Advanced Degree']\n"
     ]
    }
   ],
   "source": [
    "print(education_value)\n"
   ]
  },
  {
   "cell_type": "code",
   "execution_count": 58,
   "metadata": {},
   "outputs": [
    {
     "data": {
      "image/png": "[encoded data removed]",
      "text/plain": [
       "<Figure size 2000x1500 with 6 Axes>"
      ]
     },
     "metadata": {},
     "output_type": "display_data"
    },
    {
     "data": {
      "text/plain": [
       "<Figure size 1200x800 with 0 Axes>"
      ]
     },
     "metadata": {},
     "output_type": "display_data"
    }
   ],
   "source": [
    "hist , bins = np.histogram(df['wage'],bins=10)\n",
    "fig, ax = plt.subplots(2,3,figsize=(20,15))\n",
    "plt.figure()\n",
    "## 전체 제목\n",
    "fig.suptitle(\"학력에 따른 임금수준 비교\")\n",
    "\n",
    "## < HS Grad 인사람\n",
    "sb.histplot(data=df[df['education']=='0']['wage'],bins=5,ax=ax[0][0],edgecolor='black',linewidth=1.2)\n",
    "ax[0][0].set_title(\"< HS Grad 의 임금수준\")\n",
    "ax[0][0].set_xticks(np.round(bins,1),np.round(bins,1))\n",
    "##  Married 인사람의 임금수준\n",
    "sb.histplot(data=df[df['education']=='1']['wage'],bins=10,ax=ax[0][1],edgecolor='black',linewidth=1.2)\n",
    "ax[0][1].set_title(\"  HS Grad의 임금수준\")\n",
    "ax[0][1].set_xticks(np.round(bins,1),np.round(bins,1))\n",
    "\n",
    "##  Widowed 인사람\n",
    "sb.histplot(data=df[df['education']=='2']['wage'],bins=10,ax=ax[0][2],edgecolor='black',linewidth=1.2)\n",
    "ax[0][2].set_title(\" Some College 의 임금수준\")\n",
    "ax[0][2].set_xticks(np.round(bins,1),np.round(bins,1))\n",
    "##  Divorced 인사람\n",
    "sb.histplot(data=df[df['education']=='3']['wage'],bins=10,ax=ax[1][0],edgecolor='black',linewidth=1.2)\n",
    "ax[1][0].set_title(\" College Grad 의 임금수준\")\n",
    "ax[1][0].set_xticks(np.round(bins,1),np.round(bins,1))\n",
    "\n",
    "##  Separated 인사람\n",
    "sb.histplot(data=df[df['education']=='4']['wage'],bins=10,ax=ax[1][1],edgecolor='black',linewidth=1.2)\n",
    "ax[1][1].set_title(\" Advanced Degree 의 임금수준\")\n",
    "ax[1][1].set_xticks(np.round(bins,1),np.round(bins,1))\n",
    "plt.show()\n",
    "plt.close()"
   ]
  },
  {
   "cell_type": "markdown",
   "metadata": {},
   "source": [
    "1. 최고소득층에는 Advanced Degree의 학력을 가진사람이 가장 많다 \n",
    "2. 학력에 상관없이 중하위층의 소득을 가진 계층의 빈도수가 가장 높다\n",
    "3. 전체 데이터에서 HS Grad의 학력을 가지고, 중하위소득층에 위치한 사람의 수가 가장 많다."
   ]
  },
  {
   "cell_type": "markdown",
   "metadata": {},
   "source": [
    "### 7. 직군별 건강상태를 확인하고자 한다. 적절한 형태로 데이터를 재배치하고 설명하시오."
   ]
  },
  {
   "cell_type": "code",
   "execution_count": 65,
   "metadata": {},
   "outputs": [
    {
     "name": "stdout",
     "output_type": "stream",
     "text": [
      "직군 칼럼의 결측치 수 : 0\n",
      " 건강상태 칼럼의 결측치 수 : 0\n",
      "\n",
      "--------------------------------------------------\n",
      "\n",
      "직군의 값 확인  ['1. Industrial' '2. Information']\n",
      "Industrial 직군의 건강상태 \n",
      "jobclass  health\n",
      "0         1         1057\n",
      "          0          487\n",
      "Name: count, dtype: int64\n",
      "Industrial 직군의 건강상태 비율 :  jobclass  health\n",
      "0         1         0.684585\n",
      "          0         0.315415\n",
      "Name: count, dtype: float64\n",
      "\n",
      "--------------------------------------------------\n",
      "\n",
      "Information 직군의 건강상태 \n",
      "jobclass  health\n",
      "1         1         1085\n",
      "          0          371\n",
      "Name: count, dtype: int64\n",
      "Information 직군의 건강상태 비율 :  jobclass  health\n",
      "1         1         0.745192\n",
      "          0         0.254808\n",
      "Name: count, dtype: float64\n"
     ]
    }
   ],
   "source": [
    "## 결측치 확인\n",
    "\n",
    "print('직군 칼럼의 결측치 수 :',df['jobclass'].isnull().sum())\n",
    "print(\" 건강상태 칼럼의 결측치 수 :\",df['health'].isnull().sum())\n",
    "print(\"\")\n",
    "print(\"-\"*50)\n",
    "print(\"\")\n",
    "## 직군별 데이터 재배치\n",
    "print(\"직군의 값 확인 \", jobclass_value)\n",
    "## Industrial 직군의 건강상태 확인\n",
    "df_Industrial = df[df['jobclass']=='0'][['jobclass','health']]\n",
    "## Industrial 건강상태 비율 확인\n",
    "print(\"Industrial 직군의 건강상태 \")\n",
    "print(df_Industrial.value_counts())\n",
    "print(\"Industrial 직군의 건강상태 비율 : \", df_Industrial.value_counts()/len(df_Industrial))\n",
    "# df_Industria\n",
    "print(\"\")\n",
    "print(\"-\"*50)\n",
    "print(\"\")\n",
    "## Industrial 직군의 건강상태 확인\n",
    "df_Information = df[df['jobclass']=='1'][['jobclass','health']]\n",
    "print(\"Information 직군의 건강상태 \")\n",
    "print(df_Information.value_counts())\n",
    "\n",
    "print(\"Information 직군의 건강상태 비율 : \", df_Information.value_counts()/len(df_Information))\n"
   ]
  },
  {
   "cell_type": "markdown",
   "metadata": {},
   "source": [
    "1. Industrial 직군보다 Information 직군에서 건강상태가 좋은 사람의 비율과 빈도가 더 높다\n"
   ]
  },
  {
   "cell_type": "markdown",
   "metadata": {},
   "source": [
    "### 8. 교육 수준을 인종 비율에 따라 설명하고자 한다. 적절한 시각화 자료를 제시하고 설명하시오."
   ]
  },
  {
   "cell_type": "code",
   "execution_count": 21,
   "metadata": {},
   "outputs": [
    {
     "name": "stdout",
     "output_type": "stream",
     "text": [
      "['1. < HS Grad' '4. College Grad' '3. Some College' '2. HS Grad'\n",
      " '5. Advanced Degree']\n",
      "['1. White' '3. Asian' '4. Other' '2. Black']\n"
     ]
    }
   ],
   "source": [
    "print(education_value)\n",
    "print(race_value)"
   ]
  },
  {
   "cell_type": "code",
   "execution_count": 48,
   "metadata": {},
   "outputs": [
    {
     "name": "stdout",
     "output_type": "stream",
     "text": [
      "['1. < HS Grad' '4. College Grad' '3. Some College' '2. HS Grad'\n",
      " '5. Advanced Degree']\n"
     ]
    },
    {
     "data": {
      "text/plain": [
       "<Figure size 1200x800 with 0 Axes>"
      ]
     },
     "metadata": {},
     "output_type": "display_data"
    }
   ],
   "source": [
    "plt.figure()\n",
    "\n",
    "topic = education_value\n",
    "new_df = df[['race','education']]\n",
    "print(education_value)\n",
    "## 백인의 교육수준\n",
    "white = df[df['race']=='0'][['race','education']]\n",
    "\n",
    "white_hslow = white[white['education']=='0']\n",
    "white_hs = white[white['education']=='1']\n",
    "white_somecoll = white[white['education']=='2']\n",
    "white_collgrad = white[white['education']=='3']\n",
    "white_advan = white[white['education']=='4']\n",
    "\n",
    "## 흑인의 교육수준\n",
    "black = df[df['race']=='1'][['race','education']]\n",
    "\n",
    "black_hslow = black[black['education']=='0']\n",
    "black_hs = black[black['education']=='1']\n",
    "black_somecoll = black[black['education']=='2']\n",
    "black_collgrad = black[black['education']=='3']\n",
    "black_advan = black[black['education']=='4']\n",
    "\n",
    "## 아시아인의 교육수준\n",
    "\n",
    "asian = df[df['race']=='2'][['race','education']]\n",
    "\n",
    "asian_hslow = asian[asian['education']=='0']\n",
    "asian_hs = asian[asian['education']=='1']\n",
    "asian_somecoll = asian[asian['education']=='2']\n",
    "asian_collgrad = asian[asian['education']=='3']\n",
    "asian_advan = asian[asian['education']=='4']\n",
    "\n",
    "## 기타 인종의 교육수준\n",
    "other = df[df['race']=='3'][['race','education']]\n",
    "\n",
    "other_hslow = other[other['education']=='0']\n",
    "other_hs = other[other['education']=='1']\n",
    "other_somecoll = other[other['education']=='2']\n",
    "other_collgrad = other[other['education']=='3']\n",
    "other_advan = other[other['education']=='4']\n",
    "\n",
    "x=len(education_value)\n",
    "\n",
    "\n",
    "\n"
   ]
  },
  {
   "cell_type": "code",
   "execution_count": 53,
   "metadata": {},
   "outputs": [
    {
     "data": {
      "text/plain": [
       "['1. < HS Grad',\n",
       " '4. College Grad',\n",
       " '3. Some College',\n",
       " '2. HS Grad',\n",
       " '5. Advanced Degree']"
      ]
     },
     "execution_count": 53,
     "metadata": {},
     "output_type": "execute_result"
    }
   ],
   "source": [
    "list(education_value)"
   ]
  },
  {
   "cell_type": "code",
   "execution_count": 50,
   "metadata": {},
   "outputs": [
    {
     "data": {
      "text/plain": [
       "<BarContainer object of 1 artists>"
      ]
     },
     "execution_count": 50,
     "metadata": {},
     "output_type": "execute_result"
    },
    {
     "data": {
      "image/png": "[encoded data removed]",
      "text/plain": [
       "<Figure size 1200x800 with 1 Axes>"
      ]
     },
     "metadata": {},
     "output_type": "display_data"
    }
   ],
   "source": [
    "plt.figure()\n",
    "plt.bar(x,len(white_hslow)/len(new_df))\n",
    "plt.bar(x,len(white_hs)/len(new_df))"
   ]
  }
 ],
 "metadata": {
  "kernelspec": {
   "display_name": "Python 3",
   "language": "python",
   "name": "python3"
  },
  "language_info": {
   "codemirror_mode": {
    "name": "ipython",
    "version": 3
   },
   "file_extension": ".py",
   "mimetype": "text/x-python",
   "name": "python",
   "nbconvert_exporter": "python",
   "pygments_lexer": "ipython3",
   "version": "3.11.3"
  },
  "orig_nbformat": 4
 },
 "nbformat": 4,
 "nbformat_minor": 2
}

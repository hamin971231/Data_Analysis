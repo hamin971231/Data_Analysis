{
 "cells": [
  {
   "cell_type": "markdown",
   "metadata": {},
   "source": [
    "# 워드클라우드 (한글, Mecab)\n",
    "\n",
    "## #01. Mecab 형태소 분석기\n",
    "\n",
    "### 1. Mecab 소개\n",
    "\n",
    "Mecab 형태소 분석기는 일본에서 만든 오픈소스 형태소 분석기\n",
    "\n",
    "검색 엔진에 사용하기 위해서 만들어졌으며, 특정 언어에 국한되지 않고 범용적으로 설계되었기 때문에 한글을 지원하는 은전한닢 이라는 오픈소스 프로젝트로 한글화되어 사용되고 있음.\n",
    "\n",
    "C++로 작성되었으며, 다양한 플랫폼에서 사용할 수 있습니다. 형태소 분석의 성능과 속도면에서 우수한 결과를 제공함\n",
    "\n",
    "### 2. Mecab 설치\n",
    "\n",
    "#### mecab-ko-msvc 설치 (본체)\n",
    "\n",
    "1. https://github.com/Pusnow/mecab-ko-msvc/releases 에 접속\n",
    "1. `mecab-ko-windows-x64.zip` 파일을 내려받는다.\n",
    "1. 내려 받은 파일의 압축을 해제해서 나타난 `mecab` 폴더를 C드라이브 root로 옮김\n",
    "\n",
    "> C:\\mecab\n",
    "\n",
    "#### mecab-ko-dic-msvc 설치 (사전)\n",
    "\n",
    "1. https://github.com/Pusnow/mecab-ko-dic-msvc/releases 에 접속\n",
    "1. 같은 페이지에서 `mecab-ko-dic-msvc.zip` 파일을 내려받아 압축을 해제\n",
    "1. 압축 해제된 폴더의 내용물만 `C:\\mecab` 폴더 안으로 이동 (폴더병합)\n",
    "\n",
    "#### python wheel 설치하기\n",
    "\n",
    "1. https://github.com/Pusnow/mecab-python-msvc/releases 페이지에 접속\n",
    "1. 자신의 파이썬 및 윈도우 버전에 맞는 버전을 내려받는다.\n",
    "    - python 3.11 : `cp311`\n",
    "    - Windows 32bit : `win32`\n",
    "    - Windows 64bit : `win_amd64`\n",
    "1. 내려받은 wheel 파일이 위치하는 폴더에서 명령프롬프트 실행\n",
    "1. 아래 명령어로 설치 진행\n",
    "    ```shell\n",
    "    $ python -m pip install <whl파일명>\n",
    "    ```\n",
    "    ```shell\n",
    "    $ python -m pip install mecab_python-0.996_ko_0.9.2_msvc-cp311-cp311-win_amd64.whl\n",
    "    ```\n",
    "\n",
    "설치 도중 `C++` 관련 에러가 발생한다면 `Visual C++ 재배포 가능도구 2015-2022`를 설치후 다시 시도\n",
    "\n",
    "> https://learn.microsoft.com/ko-kr/cpp/windows/latest-supported-vc-redist?view=msvc-170\n",
    "\n",
    "### 3. 사용자 사전 추가\n",
    "\n",
    "`C:\\mecab\\user-dic` 폴더에 `utf-8` 형식의 csv 파일을 추가한다.\n",
    "\n",
    "기존 파일들은 각각 고유명사(nnp.csv), 인명(person.csv), 지명(place.csv)을 담고 있는 파일\n",
    "\n",
    "> ex) C:\\mecab\\user-dic\\mydic.csv\n",
    "\n",
    "#### 사전 파일의 체계\n",
    "\n",
    "```\n",
    "단어, 0, 0, 우선순위, 품사 태그, 종성 유무, 읽기, 타입, 첫 번째 품사, 마지막 품사, 원형, 인덱스 표현\n",
    "```\n",
    "\n",
    "#### 추가예시\n",
    "\n",
    "```\n",
    "대우,,,,NNP,*,F,대우,*,*,*,*,*\n",
    "```\n",
    "\n",
    "#### 사전 컴파일\n",
    "\n",
    "> 추후 정리\n",
    "\n",
    "\n",
    "\n",
    "## #02. 작업 준비\n",
    "\n",
    "### 패키지 가져오기"
   ]
  },
  {
   "cell_type": "code",
   "execution_count": null,
   "metadata": {},
   "outputs": [],
   "source": [
    "from IPython.display import Image, display\n",
    "from konlpy.tag import Mecab\n",
    "from wordcloud import WordCloud\n",
    "import sys\n",
    "import os\n",
    "\n",
    "# 파이썬 내장 클래스 --> 설치 불필요\n",
    "from collections import Counter\n",
    "\n",
    "# 직접 구현한 모듈 참조\n",
    "# 소스파일의 위치에 따라 `os.path.dirname` 사용 횟수 조절 필요\n",
    "sys.path.append(os.path.dirname(os.path.dirname(os.getcwd())))\n",
    "from helper import clearStopwords"
   ]
  },
  {
   "cell_type": "markdown",
   "metadata": {},
   "source": [
    "### 형태소 분석 테스트\n",
    "\n",
    "#### 객체 생성"
   ]
  },
  {
   "cell_type": "code",
   "execution_count": null,
   "metadata": {},
   "outputs": [],
   "source": [
    "if sys.platform == 'win32':\n",
    "    mecab = Mecab(dicpath=\"C:\\\\mecab\\\\mecab-ko-dic\")\n",
    "else:\n",
    "    mecab = Mecab()"
   ]
  },
  {
   "cell_type": "markdown",
   "metadata": {},
   "source": [
    "#### 분석을 위한 샘플 문장"
   ]
  },
  {
   "cell_type": "code",
   "execution_count": null,
   "metadata": {},
   "outputs": [],
   "source": [
    "sample = \"개봉했을때부터 지금까지 마음이답답하거나 힘들때 이영화 보고있어요 그때마다 심적인 위로를 받을수있는영화같아요 장면 하나하나가 너무예쁘고 마음에 남아서 진한 여운까지 주는영화 감사합니다. 알잘딱깔센\""
   ]
  },
  {
   "cell_type": "markdown",
   "metadata": {},
   "source": [
    "#### 토큰화 (without 품사)\n",
    "\n",
    "모든 품사별로 분리"
   ]
  },
  {
   "cell_type": "code",
   "execution_count": null,
   "metadata": {},
   "outputs": [],
   "source": [
    "mecab.morphs(sample)"
   ]
  },
  {
   "cell_type": "markdown",
   "metadata": {},
   "source": [
    "### 토큰화 (with 품사)"
   ]
  },
  {
   "cell_type": "code",
   "execution_count": null,
   "metadata": {},
   "outputs": [],
   "source": [
    "mecab.pos(sample)"
   ]
  },
  {
   "cell_type": "markdown",
   "metadata": {},
   "source": [
    "### 명사만 추출"
   ]
  },
  {
   "cell_type": "code",
   "execution_count": null,
   "metadata": {},
   "outputs": [],
   "source": [
    "mecab.nouns(sample)"
   ]
  },
  {
   "cell_type": "code",
   "execution_count": null,
   "metadata": {},
   "outputs": [],
   "source": []
  }
 ],
 "metadata": {
  "kernelspec": {
   "display_name": "Python 3",
   "language": "python",
   "name": "python3"
  },
  "language_info": {
   "codemirror_mode": {
    "name": "ipython",
    "version": 3
   },
   "file_extension": ".py",
   "mimetype": "text/x-python",
   "name": "python",
   "nbconvert_exporter": "python",
   "pygments_lexer": "ipython3",
   "version": "3.11.4"
  },
  "orig_nbformat": 4
 },
 "nbformat": 4,
 "nbformat_minor": 2
}

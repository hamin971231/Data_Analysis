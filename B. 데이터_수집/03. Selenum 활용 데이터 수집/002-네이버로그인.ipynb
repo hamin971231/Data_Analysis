{
 "cells": [
  {
   "attachments": {},
   "cell_type": "markdown",
   "metadata": {},
   "source": [
    "# 네이버 웹툰 + 로그인\n",
    "\n",
    "\n",
    "###  #01.패키지 참조"
   ]
  },
  {
   "attachments": {},
   "cell_type": "markdown",
   "metadata": {},
   "source": [
    "\n",
    "- 메모 \n",
    "\n",
    "    --  until : True 가 될떄 까지 반복 \n",
    "\n",
    "\n",
    "    "
   ]
  },
  {
   "cell_type": "code",
   "execution_count": 5,
   "metadata": {},
   "outputs": [],
   "source": [
    "# 필요한 모듈 참조\n",
    "\n",
    "## chromedriver_autoinstaller 자동 설치 모듈\n",
    "import chromedriver_autoinstaller\n",
    "## 크롬을 제어하기 위한 객체\n",
    "from selenium import webdriver\n",
    "\n",
    "## 크롬이 웹페이지 로딩을 완료할 떄 까지 최대 n초간 대기하는 기능\n",
    "from selenium.webdriver.support.ui import WebDriverWait\n",
    "## 원하는 부분을 추출할 수 있는 방식을 지정하는 객체\n",
    "from selenium.webdriver.common.by import By\n",
    "from bs4 import BeautifulSoup\n",
    "from pandas import DataFrame\n",
    "import time"
   ]
  },
  {
   "attachments": {},
   "cell_type": "markdown",
   "metadata": {},
   "source": [
    "#### #02.크롬브라우저 가동\n",
    "\n",
    "\n"
   ]
  },
  {
   "cell_type": "code",
   "execution_count": 6,
   "metadata": {},
   "outputs": [],
   "source": [
    "## 크롬브라우저 자동 설치\n",
    "chromedriver_autoinstaller.install()\n",
    "\n",
    "## 크롬드라이버를 통해 크롬을 실행시킴 \n",
    "driver = webdriver.Chrome()\n",
    "\n",
    "## 크롬브라우저가 준비될떄까지 최대 5초식 대기\n",
    "driver.implicitly_wait(5)\n"
   ]
  },
  {
   "attachments": {},
   "cell_type": "markdown",
   "metadata": {},
   "source": [
    "#### #03. 크롬 브라우저의 페이지 이동"
   ]
  },
  {
   "cell_type": "code",
   "execution_count": 7,
   "metadata": {},
   "outputs": [],
   "source": [
    "# 네이버 로그인 페이지로 이동\n",
    "driver.get(\"https://nid.naver.com/nidlogin.login?mode=form&url=https://www.naver.com/\")\n",
    "## 페이지 로딩이 완료될 때까지 1초간 대기\n",
    "\n",
    "time.sleep(1)\n"
   ]
  },
  {
   "attachments": {},
   "cell_type": "markdown",
   "metadata": {},
   "source": [
    "#### #04. 아이디와 비밀번호 입력\n"
   ]
  },
  {
   "cell_type": "code",
   "execution_count": 11,
   "metadata": {},
   "outputs": [],
   "source": [
    "## 최대 3초가지 대기하면서 id 속성값이 id인 요소를 찾아서 id_input 에 저장\n",
    "id_input = WebDriverWait(driver,3).until(lambda x: x.find_element(By.CSS_SELECTOR,\"#id\"))\n",
    "\n",
    "# id_input에 입력값 전달\n",
    "id_input.send_keys(\"goaldl97123\")"
   ]
  },
  {
   "cell_type": "code",
   "execution_count": 12,
   "metadata": {},
   "outputs": [],
   "source": [
    "## 같은 방식으로 비밀번호\n",
    "pw_input=WebDriverWait(driver,3).until(lambda x:x.find_element(By.CSS_SELECTOR,\"#pw\"))\n",
    "\n",
    "pw_input.send_keys(\"dnwhd9712\")"
   ]
  },
  {
   "cell_type": "code",
   "execution_count": 16,
   "metadata": {},
   "outputs": [],
   "source": [
    "## 같은 방식으로 버튼 객체 취득\n",
    "login_button = WebDriverWait(driver,3).until( lambda x:x.find_element(By.CSS_SELECTOR,\".btn_login\"))\n",
    "## 버튼 클릭\n",
    "login_button.click()\n",
    "\n",
    "## 로그인이 처리되는 동안 3초동안 대기\n",
    "time.sleep(3)"
   ]
  },
  {
   "cell_type": "code",
   "execution_count": 17,
   "metadata": {},
   "outputs": [],
   "source": [
    "driver.get(\"https://nid.naver.com/user2/help/naverProfile?m=viewModifyProfile&token_help=CkjHbrMG4qmr8sA2\")\n",
    "time.sleep(1)"
   ]
  },
  {
   "cell_type": "code",
   "execution_count": null,
   "metadata": {},
   "outputs": [],
   "source": []
  }
 ],
 "metadata": {
  "kernelspec": {
   "display_name": "Python 3",
   "language": "python",
   "name": "python3"
  },
  "language_info": {
   "codemirror_mode": {
    "name": "ipython",
    "version": 3
   },
   "file_extension": ".py",
   "mimetype": "text/x-python",
   "name": "python",
   "nbconvert_exporter": "python",
   "pygments_lexer": "ipython3",
   "version": "3.11.3"
  },
  "orig_nbformat": 4
 },
 "nbformat": 4,
 "nbformat_minor": 2
}

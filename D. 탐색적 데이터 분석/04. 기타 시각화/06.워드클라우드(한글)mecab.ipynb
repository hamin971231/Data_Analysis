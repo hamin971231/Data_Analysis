{
 "cells": [
  {
   "cell_type": "markdown",
   "metadata": {},
   "source": [
    "## mecab-ko-msvc 설치 (본체)\n",
    "https://github.com/Pusnow/mecab-ko-msvc/releases 에 접속\n",
    "\n",
    "mecab-ko-windows-x64.zip 파일을 내려받는다.\n",
    "\n",
    "내려 받은 파일의 압축을 해제해서 나타난 mecab 폴더를 C드라이브 root로 옮김\n",
    "\n",
    "C:\\mecab\n",
    "\n",
    "## mecab-ko-dic-msvc.zip 설치 (사전)\n",
    "같은 페이지에서 mecab-ko-dic.zip 파일을 내려받아 압축을 해제\n",
    "압축 해제된 폴더의 내용물만 C:\\mecab 폴더 안으로 이동 (폴더병합)\n",
    "img\n",
    "\n",
    "## python wheel 설치하기\n",
    "https://github.com/Pusnow/mecab-python-msvc/releases 페이지에 접속\n",
    "\n",
    "자신의 파이썬 및 윈도우 버전에 맞는 버전을 내려받는다.\n",
    "\n",
    "python 3.11 : cp311\n",
    "\n",
    "Windows 32bit : win32\n",
    "\n",
    "Windows 64bit : win_amd64\n",
    "\n",
    "내려받은 wheel 파일이 위치하는 폴더에서 명령프롬프트 실행\n",
    "\n",
    "아래 명령어로 설치 진행\n",
    "\n",
    "$ python -m pip install <whl파일명>\n",
    "\n",
    "$ python -m pip install mecab_python-0.996_ko_0.9.2_msvc-cp311-cp311-win_amd64.whl\n",
    "\n",
    "설치 도중 C++ 관련 에러가 발생한다면 Visual C++ 재배포 가능도구 2015-2022를 설치후 다시 시도\n",
    "\n",
    "https://learn.microsoft.com/ko-kr/cpp/windows/latest-supported-vc-redist?view=msvc-170"
   ]
  },
  {
   "cell_type": "code",
   "execution_count": null,
   "metadata": {
    "vscode": {
     "languageId": "plaintext"
    }
   },
   "outputs": [],
   "source": []
  }
 ],
 "metadata": {
  "kernelspec": {
   "display_name": "Python 3",
   "language": "python",
   "name": "python3"
  },
  "language_info": {
   "codemirror_mode": {
    "name": "ipython",
    "version": 3
   },
   "file_extension": ".py",
   "mimetype": "text/x-python",
   "name": "python",
   "nbconvert_exporter": "python",
   "pygments_lexer": "ipython3",
   "version": "3.11.3"
  },
  "orig_nbformat": 4
 },
 "nbformat": 4,
 "nbformat_minor": 2
}

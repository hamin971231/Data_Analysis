{
 "cells": [
  {
   "cell_type": "markdown",
   "metadata": {},
   "source": [
    "# 다항 회귀분석 \n",
    "피쳐들과 레이블이 2차함수 이상의 관계를 가지는 것으로 곡선이나 좀 더 복잡한 모양을 표현하는 것이 가능\n",
    "\n",
    "# 피쳐들의 차수를 높이는 형태\n",
    "\n",
    "다항 회귀 역시 선형회귀로 간주되는데 선형회귀의 정의가 단순히 직선이나 곡선과 같은 모양에 있는 것이 아니라 가중치와 피쳐들의 선형 결합이 있기 떄문\n",
    "\n",
    "다항회귀는 별도의 알고리즘이 있는 것이 아니라 피쳐들을 제곱, 서로곱한 값 등 더 복잡한 값으로 만들어 선형회귀에 넣어서 학습시킴\n",
    "\n",
    "사이킷 런에서는 폴리노미알피쳐 클래스로 원본 단항 피쳐들을 다항 피쳐들로 변환한 데이터세트에 선형회귀 객체를 적용한느 것으로 다항 회귀가능"
   ]
  },
  {
   "cell_type": "markdown",
   "metadata": {},
   "source": [
    "## #01. 작업준비\n",
    "### 패키지 준비\n"
   ]
  },
  {
   "cell_type": "code",
   "execution_count": 1,
   "metadata": {},
   "outputs": [],
   "source": [
    "import pandas as pd \n",
    "from sklearn.linear_model import LinearRegression\n",
    "from sklearn.preprocessing import PolynomialFeatures\n",
    "from sklearn.model_selection import train_test_split\n",
    "from matplotlib import pyplot as plt\n",
    "import seaborn as sb\n",
    "\n",
    "import sys\n",
    "import os\n",
    "sys.path.append(os.path.dirname(os.path.dirname(os.getcwd())))\n",
    "import helper\n"
   ]
  },
  {
   "cell_type": "code",
   "execution_count": 2,
   "metadata": {},
   "outputs": [],
   "source": [
    "plt.rcParams[\"font.family\"] = 'AppleGothic' if sys.platform == 'darwin' else 'Malgun Gothic'\n",
    "plt.rcParams[\"font.size\"] = 12\n",
    "plt.rcParams[\"figure.figsize\"] = (10, 5)\n",
    "plt.rcParams[\"axes.unicode_minus\"] = False"
   ]
  },
  {
   "cell_type": "markdown",
   "metadata": {},
   "source": [
    "## #02. 자동차의 속도에 따른 제동거리 예측\n",
    "\n",
    "\n",
    "### 데이터 가져오기"
   ]
  },
  {
   "cell_type": "code",
   "execution_count": 3,
   "metadata": {},
   "outputs": [
    {
     "data": {
      "text/html": [
       "<div>\n",
       "<style scoped>\n",
       "    .dataframe tbody tr th:only-of-type {\n",
       "        vertical-align: middle;\n",
       "    }\n",
       "\n",
       "    .dataframe tbody tr th {\n",
       "        vertical-align: top;\n",
       "    }\n",
       "\n",
       "    .dataframe thead th {\n",
       "        text-align: right;\n",
       "    }\n",
       "</style>\n",
       "<table border=\"1\" class=\"dataframe\">\n",
       "  <thead>\n",
       "    <tr style=\"text-align: right;\">\n",
       "      <th></th>\n",
       "      <th>speed</th>\n",
       "      <th>dist</th>\n",
       "    </tr>\n",
       "  </thead>\n",
       "  <tbody>\n",
       "    <tr>\n",
       "      <th>0</th>\n",
       "      <td>4</td>\n",
       "      <td>2</td>\n",
       "    </tr>\n",
       "    <tr>\n",
       "      <th>1</th>\n",
       "      <td>4</td>\n",
       "      <td>10</td>\n",
       "    </tr>\n",
       "    <tr>\n",
       "      <th>2</th>\n",
       "      <td>7</td>\n",
       "      <td>4</td>\n",
       "    </tr>\n",
       "    <tr>\n",
       "      <th>3</th>\n",
       "      <td>7</td>\n",
       "      <td>22</td>\n",
       "    </tr>\n",
       "    <tr>\n",
       "      <th>4</th>\n",
       "      <td>8</td>\n",
       "      <td>16</td>\n",
       "    </tr>\n",
       "  </tbody>\n",
       "</table>\n",
       "</div>"
      ],
      "text/plain": [
       "   speed  dist\n",
       "0      4     2\n",
       "1      4    10\n",
       "2      7     4\n",
       "3      7    22\n",
       "4      8    16"
      ]
     },
     "execution_count": 3,
     "metadata": {},
     "output_type": "execute_result"
    }
   ],
   "source": [
    "origin= pd.read_excel('https://data.hossam.kr/E04/cars.xlsx')\n",
    "\n",
    "origin.head()"
   ]
  },
  {
   "cell_type": "markdown",
   "metadata": {},
   "source": [
    "\n",
    "### 훈련데이터와 검증데이터 분할\n",
    "\n",
    "- train 데이터 / 훈련데이터 : 모델을 생성하는데 사용되는 데이터\n",
    "- test 데이터 / 검증데이터 : 모델이 얼마나 잘 만들어 졌는지 확인하기 위한 데이터\n",
    "\n",
    "#### 데이터 프레임을 통쨰로 넣는 경우\n",
    "데이터 프레임을 독립변수와 종속변수가 모두 포함되어 있는 형태\n",
    "\n",
    "같은 유형으로 일정 비율로 분할된 두개의 데이터 프레임이 반환된다. \n",
    "\n",
    "\n"
   ]
  },
  {
   "cell_type": "code",
   "execution_count": 4,
   "metadata": {},
   "outputs": [],
   "source": [
    "poly =PolynomialFeatures(degree=2,include_bias=True)\n",
    "fit = poly.fit_transform(origin[['speed']])\n"
   ]
  },
  {
   "cell_type": "markdown",
   "metadata": {},
   "source": [
    "#### 생성된 피처의 이름확인"
   ]
  },
  {
   "cell_type": "code",
   "execution_count": 5,
   "metadata": {},
   "outputs": [
    {
     "data": {
      "text/plain": [
       "array(['1', 'speed', 'speed^2'], dtype=object)"
      ]
     },
     "execution_count": 5,
     "metadata": {},
     "output_type": "execute_result"
    }
   ],
   "source": [
    "poly.get_feature_names_out()"
   ]
  },
  {
   "cell_type": "markdown",
   "metadata": {},
   "source": [
    "#### 0 차항 (1) 을 포함하지 않는 2차식으로 변형"
   ]
  },
  {
   "cell_type": "code",
   "execution_count": 6,
   "metadata": {},
   "outputs": [
    {
     "data": {
      "text/plain": [
       "array([[  4.,  16.],\n",
       "       [  4.,  16.],\n",
       "       [  7.,  49.],\n",
       "       [  7.,  49.],\n",
       "       [  8.,  64.],\n",
       "       [  9.,  81.],\n",
       "       [ 10., 100.],\n",
       "       [ 10., 100.],\n",
       "       [ 10., 100.],\n",
       "       [ 11., 121.],\n",
       "       [ 11., 121.],\n",
       "       [ 12., 144.],\n",
       "       [ 12., 144.],\n",
       "       [ 12., 144.],\n",
       "       [ 12., 144.],\n",
       "       [ 13., 169.],\n",
       "       [ 13., 169.],\n",
       "       [ 13., 169.],\n",
       "       [ 13., 169.],\n",
       "       [ 14., 196.],\n",
       "       [ 14., 196.],\n",
       "       [ 14., 196.],\n",
       "       [ 14., 196.],\n",
       "       [ 15., 225.],\n",
       "       [ 15., 225.],\n",
       "       [ 15., 225.],\n",
       "       [ 16., 256.],\n",
       "       [ 16., 256.],\n",
       "       [ 17., 289.],\n",
       "       [ 17., 289.],\n",
       "       [ 17., 289.],\n",
       "       [ 18., 324.],\n",
       "       [ 18., 324.],\n",
       "       [ 18., 324.],\n",
       "       [ 18., 324.],\n",
       "       [ 19., 361.],\n",
       "       [ 19., 361.],\n",
       "       [ 19., 361.],\n",
       "       [ 20., 400.],\n",
       "       [ 20., 400.],\n",
       "       [ 20., 400.],\n",
       "       [ 20., 400.],\n",
       "       [ 20., 400.],\n",
       "       [ 22., 484.],\n",
       "       [ 23., 529.],\n",
       "       [ 24., 576.],\n",
       "       [ 24., 576.],\n",
       "       [ 24., 576.],\n",
       "       [ 24., 576.],\n",
       "       [ 25., 625.]])"
      ]
     },
     "execution_count": 6,
     "metadata": {},
     "output_type": "execute_result"
    }
   ],
   "source": [
    "poly =PolynomialFeatures(degree=2,include_bias=False)\n",
    "fit = poly.fit_transform(origin[['speed']])\n",
    "fit"
   ]
  },
  {
   "cell_type": "code",
   "execution_count": 7,
   "metadata": {},
   "outputs": [
    {
     "data": {
      "text/plain": [
       "array(['speed', 'speed^2'], dtype=object)"
      ]
     },
     "execution_count": 7,
     "metadata": {},
     "output_type": "execute_result"
    }
   ],
   "source": [
    "poly.get_feature_names_out()"
   ]
  },
  {
   "cell_type": "markdown",
   "metadata": {},
   "source": [
    "#### 데이터 프레임으로 재구성\n"
   ]
  },
  {
   "cell_type": "code",
   "execution_count": 8,
   "metadata": {},
   "outputs": [
    {
     "data": {
      "text/html": [
       "<div>\n",
       "<style scoped>\n",
       "    .dataframe tbody tr th:only-of-type {\n",
       "        vertical-align: middle;\n",
       "    }\n",
       "\n",
       "    .dataframe tbody tr th {\n",
       "        vertical-align: top;\n",
       "    }\n",
       "\n",
       "    .dataframe thead th {\n",
       "        text-align: right;\n",
       "    }\n",
       "</style>\n",
       "<table border=\"1\" class=\"dataframe\">\n",
       "  <thead>\n",
       "    <tr style=\"text-align: right;\">\n",
       "      <th></th>\n",
       "      <th>speed</th>\n",
       "      <th>speed^2</th>\n",
       "    </tr>\n",
       "  </thead>\n",
       "  <tbody>\n",
       "    <tr>\n",
       "      <th>0</th>\n",
       "      <td>4.0</td>\n",
       "      <td>16.0</td>\n",
       "    </tr>\n",
       "    <tr>\n",
       "      <th>1</th>\n",
       "      <td>4.0</td>\n",
       "      <td>16.0</td>\n",
       "    </tr>\n",
       "    <tr>\n",
       "      <th>2</th>\n",
       "      <td>7.0</td>\n",
       "      <td>49.0</td>\n",
       "    </tr>\n",
       "    <tr>\n",
       "      <th>3</th>\n",
       "      <td>7.0</td>\n",
       "      <td>49.0</td>\n",
       "    </tr>\n",
       "    <tr>\n",
       "      <th>4</th>\n",
       "      <td>8.0</td>\n",
       "      <td>64.0</td>\n",
       "    </tr>\n",
       "  </tbody>\n",
       "</table>\n",
       "</div>"
      ],
      "text/plain": [
       "   speed  speed^2\n",
       "0    4.0     16.0\n",
       "1    4.0     16.0\n",
       "2    7.0     49.0\n",
       "3    7.0     49.0\n",
       "4    8.0     64.0"
      ]
     },
     "execution_count": 8,
     "metadata": {},
     "output_type": "execute_result"
    }
   ],
   "source": [
    "x = pd.DataFrame(fit,columns=poly.get_feature_names_out())\n",
    "x.head()"
   ]
  },
  {
   "cell_type": "markdown",
   "metadata": {},
   "source": [
    "### 종속변수만 추출한 데이터 프레임"
   ]
  },
  {
   "cell_type": "code",
   "execution_count": 9,
   "metadata": {},
   "outputs": [
    {
     "data": {
      "text/html": [
       "<div>\n",
       "<style scoped>\n",
       "    .dataframe tbody tr th:only-of-type {\n",
       "        vertical-align: middle;\n",
       "    }\n",
       "\n",
       "    .dataframe tbody tr th {\n",
       "        vertical-align: top;\n",
       "    }\n",
       "\n",
       "    .dataframe thead th {\n",
       "        text-align: right;\n",
       "    }\n",
       "</style>\n",
       "<table border=\"1\" class=\"dataframe\">\n",
       "  <thead>\n",
       "    <tr style=\"text-align: right;\">\n",
       "      <th></th>\n",
       "      <th>dist</th>\n",
       "    </tr>\n",
       "  </thead>\n",
       "  <tbody>\n",
       "    <tr>\n",
       "      <th>0</th>\n",
       "      <td>2</td>\n",
       "    </tr>\n",
       "    <tr>\n",
       "      <th>1</th>\n",
       "      <td>10</td>\n",
       "    </tr>\n",
       "    <tr>\n",
       "      <th>2</th>\n",
       "      <td>4</td>\n",
       "    </tr>\n",
       "    <tr>\n",
       "      <th>3</th>\n",
       "      <td>22</td>\n",
       "    </tr>\n",
       "    <tr>\n",
       "      <th>4</th>\n",
       "      <td>16</td>\n",
       "    </tr>\n",
       "  </tbody>\n",
       "</table>\n",
       "</div>"
      ],
      "text/plain": [
       "   dist\n",
       "0     2\n",
       "1    10\n",
       "2     4\n",
       "3    22\n",
       "4    16"
      ]
     },
     "execution_count": 9,
     "metadata": {},
     "output_type": "execute_result"
    }
   ],
   "source": [
    "y = origin[['dist']]\n",
    "y.head()"
   ]
  },
  {
   "cell_type": "markdown",
   "metadata": {},
   "source": [
    "#### 테스트 데이터와 검증 데이터로 분리"
   ]
  },
  {
   "cell_type": "code",
   "execution_count": 10,
   "metadata": {},
   "outputs": [
    {
     "name": "stdout",
     "output_type": "stream",
     "text": [
      "(35, 2)\n",
      "(35, 1)\n",
      "(15, 2)\n",
      "(15, 1)\n"
     ]
    }
   ],
   "source": [
    "x_train,x_test,y_train,y_test = train_test_split(x,y,test_size=0.3,shuffle=3,random_state=20)\n",
    "\n",
    "print(x_train.shape)\n",
    "print(y_train.shape)\n",
    "print(x_test.shape)\n",
    "print(y_test.shape)\n",
    "\n"
   ]
  },
  {
   "cell_type": "markdown",
   "metadata": {},
   "source": [
    "### 회귀분석 수행\n",
    "표본수 적어서 과적합 무시하고 ㄱ"
   ]
  },
  {
   "cell_type": "code",
   "execution_count": 11,
   "metadata": {},
   "outputs": [
    {
     "name": "stdout",
     "output_type": "stream",
     "text": [
      "기울기:  [[0.96405552 0.10144317]]\n",
      "절편 :  [1.50537389]\n",
      "훈련 데이터 설명력 :  0.6079312442179488\n",
      "검증 데이터 설명력 :  0.8009124474679928\n"
     ]
    }
   ],
   "source": [
    "model = LinearRegression()\n",
    "fit = model.fit(x_train,y_train)\n",
    "\n",
    "## 직선의 기울기 \n",
    "coef = fit.coef_\n",
    "\n",
    "\n",
    "\n",
    "## 절편 \n",
    "intercept = fit.intercept_\n",
    "\n",
    "print ('기울기: ', coef)\n",
    "\n",
    "print('절편 : ',intercept )\n",
    "\n",
    "\n",
    "rscore = fit.score(x_train,y_train)\n",
    "rscore_test = fit.score(x_test,y_test)\n",
    "print('훈련 데이터 설명력 : ',rscore)\n",
    "print('검증 데이터 설명력 : ',rscore_test)"
   ]
  },
  {
   "cell_type": "markdown",
   "metadata": {},
   "source": [
    "### 회귀식 추정\n"
   ]
  },
  {
   "cell_type": "code",
   "execution_count": 12,
   "metadata": {},
   "outputs": [
    {
     "data": {
      "text/plain": [
       "'y = 0.101443 * speed + 0.101443 * speed^2 + 1.505374'"
      ]
     },
     "execution_count": 12,
     "metadata": {},
     "output_type": "execute_result"
    }
   ],
   "source": [
    "feature_name = x.columns\n",
    "expr = []\n",
    "for i, v in enumerate(feature_name):\n",
    "    expr.append(\"%f * %s\" % (fit.coef_[0][1],v))\n",
    "\n",
    "expr = \" + \".join(expr)\n",
    "expr = 'y = ' + expr + ' + %f' %fit.intercept_[0]\n",
    "expr\n",
    "\n"
   ]
  },
  {
   "cell_type": "markdown",
   "metadata": {},
   "source": [
    "### 예측값 생성\n",
    "훈련데이터에 대한 예측값"
   ]
  },
  {
   "cell_type": "code",
   "execution_count": 13,
   "metadata": {},
   "outputs": [],
   "source": [
    "y_pred_train = fit.predict(x_train)\n",
    "y_pred_train = y_pred_train.reshape(-1)"
   ]
  },
  {
   "cell_type": "code",
   "execution_count": 14,
   "metadata": {},
   "outputs": [],
   "source": [
    "y_pred_test = fit.predict(x_test)\n",
    "y_pred_test = y_pred_test.reshape(-1)"
   ]
  },
  {
   "cell_type": "code",
   "execution_count": null,
   "metadata": {},
   "outputs": [],
   "source": []
  },
  {
   "cell_type": "markdown",
   "metadata": {},
   "source": [
    "### 학습 결과 시각화"
   ]
  },
  {
   "cell_type": "code",
   "execution_count": 15,
   "metadata": {},
   "outputs": [
    {
     "data": {
      "text/html": [
       "<div>\n",
       "<style scoped>\n",
       "    .dataframe tbody tr th:only-of-type {\n",
       "        vertical-align: middle;\n",
       "    }\n",
       "\n",
       "    .dataframe tbody tr th {\n",
       "        vertical-align: top;\n",
       "    }\n",
       "\n",
       "    .dataframe thead th {\n",
       "        text-align: right;\n",
       "    }\n",
       "</style>\n",
       "<table border=\"1\" class=\"dataframe\">\n",
       "  <thead>\n",
       "    <tr style=\"text-align: right;\">\n",
       "      <th></th>\n",
       "      <th>speed</th>\n",
       "      <th>speed^2</th>\n",
       "    </tr>\n",
       "  </thead>\n",
       "  <tbody>\n",
       "    <tr>\n",
       "      <th>33</th>\n",
       "      <td>18.0</td>\n",
       "      <td>324.0</td>\n",
       "    </tr>\n",
       "    <tr>\n",
       "      <th>36</th>\n",
       "      <td>19.0</td>\n",
       "      <td>361.0</td>\n",
       "    </tr>\n",
       "    <tr>\n",
       "      <th>42</th>\n",
       "      <td>20.0</td>\n",
       "      <td>400.0</td>\n",
       "    </tr>\n",
       "    <tr>\n",
       "      <th>10</th>\n",
       "      <td>11.0</td>\n",
       "      <td>121.0</td>\n",
       "    </tr>\n",
       "    <tr>\n",
       "      <th>3</th>\n",
       "      <td>7.0</td>\n",
       "      <td>49.0</td>\n",
       "    </tr>\n",
       "    <tr>\n",
       "      <th>41</th>\n",
       "      <td>20.0</td>\n",
       "      <td>400.0</td>\n",
       "    </tr>\n",
       "    <tr>\n",
       "      <th>13</th>\n",
       "      <td>12.0</td>\n",
       "      <td>144.0</td>\n",
       "    </tr>\n",
       "    <tr>\n",
       "      <th>46</th>\n",
       "      <td>24.0</td>\n",
       "      <td>576.0</td>\n",
       "    </tr>\n",
       "    <tr>\n",
       "      <th>2</th>\n",
       "      <td>7.0</td>\n",
       "      <td>49.0</td>\n",
       "    </tr>\n",
       "    <tr>\n",
       "      <th>38</th>\n",
       "      <td>20.0</td>\n",
       "      <td>400.0</td>\n",
       "    </tr>\n",
       "    <tr>\n",
       "      <th>39</th>\n",
       "      <td>20.0</td>\n",
       "      <td>400.0</td>\n",
       "    </tr>\n",
       "    <tr>\n",
       "      <th>5</th>\n",
       "      <td>9.0</td>\n",
       "      <td>81.0</td>\n",
       "    </tr>\n",
       "    <tr>\n",
       "      <th>43</th>\n",
       "      <td>22.0</td>\n",
       "      <td>484.0</td>\n",
       "    </tr>\n",
       "    <tr>\n",
       "      <th>37</th>\n",
       "      <td>19.0</td>\n",
       "      <td>361.0</td>\n",
       "    </tr>\n",
       "    <tr>\n",
       "      <th>30</th>\n",
       "      <td>17.0</td>\n",
       "      <td>289.0</td>\n",
       "    </tr>\n",
       "    <tr>\n",
       "      <th>6</th>\n",
       "      <td>10.0</td>\n",
       "      <td>100.0</td>\n",
       "    </tr>\n",
       "    <tr>\n",
       "      <th>29</th>\n",
       "      <td>17.0</td>\n",
       "      <td>289.0</td>\n",
       "    </tr>\n",
       "    <tr>\n",
       "      <th>16</th>\n",
       "      <td>13.0</td>\n",
       "      <td>169.0</td>\n",
       "    </tr>\n",
       "    <tr>\n",
       "      <th>19</th>\n",
       "      <td>14.0</td>\n",
       "      <td>196.0</td>\n",
       "    </tr>\n",
       "    <tr>\n",
       "      <th>49</th>\n",
       "      <td>25.0</td>\n",
       "      <td>625.0</td>\n",
       "    </tr>\n",
       "    <tr>\n",
       "      <th>44</th>\n",
       "      <td>23.0</td>\n",
       "      <td>529.0</td>\n",
       "    </tr>\n",
       "    <tr>\n",
       "      <th>21</th>\n",
       "      <td>14.0</td>\n",
       "      <td>196.0</td>\n",
       "    </tr>\n",
       "    <tr>\n",
       "      <th>32</th>\n",
       "      <td>18.0</td>\n",
       "      <td>324.0</td>\n",
       "    </tr>\n",
       "    <tr>\n",
       "      <th>34</th>\n",
       "      <td>18.0</td>\n",
       "      <td>324.0</td>\n",
       "    </tr>\n",
       "    <tr>\n",
       "      <th>7</th>\n",
       "      <td>10.0</td>\n",
       "      <td>100.0</td>\n",
       "    </tr>\n",
       "    <tr>\n",
       "      <th>22</th>\n",
       "      <td>14.0</td>\n",
       "      <td>196.0</td>\n",
       "    </tr>\n",
       "    <tr>\n",
       "      <th>11</th>\n",
       "      <td>12.0</td>\n",
       "      <td>144.0</td>\n",
       "    </tr>\n",
       "    <tr>\n",
       "      <th>20</th>\n",
       "      <td>14.0</td>\n",
       "      <td>196.0</td>\n",
       "    </tr>\n",
       "    <tr>\n",
       "      <th>9</th>\n",
       "      <td>11.0</td>\n",
       "      <td>121.0</td>\n",
       "    </tr>\n",
       "    <tr>\n",
       "      <th>48</th>\n",
       "      <td>24.0</td>\n",
       "      <td>576.0</td>\n",
       "    </tr>\n",
       "    <tr>\n",
       "      <th>28</th>\n",
       "      <td>17.0</td>\n",
       "      <td>289.0</td>\n",
       "    </tr>\n",
       "    <tr>\n",
       "      <th>31</th>\n",
       "      <td>18.0</td>\n",
       "      <td>324.0</td>\n",
       "    </tr>\n",
       "    <tr>\n",
       "      <th>15</th>\n",
       "      <td>13.0</td>\n",
       "      <td>169.0</td>\n",
       "    </tr>\n",
       "    <tr>\n",
       "      <th>26</th>\n",
       "      <td>16.0</td>\n",
       "      <td>256.0</td>\n",
       "    </tr>\n",
       "    <tr>\n",
       "      <th>35</th>\n",
       "      <td>19.0</td>\n",
       "      <td>361.0</td>\n",
       "    </tr>\n",
       "  </tbody>\n",
       "</table>\n",
       "</div>"
      ],
      "text/plain": [
       "    speed  speed^2\n",
       "33   18.0    324.0\n",
       "36   19.0    361.0\n",
       "42   20.0    400.0\n",
       "10   11.0    121.0\n",
       "3     7.0     49.0\n",
       "41   20.0    400.0\n",
       "13   12.0    144.0\n",
       "46   24.0    576.0\n",
       "2     7.0     49.0\n",
       "38   20.0    400.0\n",
       "39   20.0    400.0\n",
       "5     9.0     81.0\n",
       "43   22.0    484.0\n",
       "37   19.0    361.0\n",
       "30   17.0    289.0\n",
       "6    10.0    100.0\n",
       "29   17.0    289.0\n",
       "16   13.0    169.0\n",
       "19   14.0    196.0\n",
       "49   25.0    625.0\n",
       "44   23.0    529.0\n",
       "21   14.0    196.0\n",
       "32   18.0    324.0\n",
       "34   18.0    324.0\n",
       "7    10.0    100.0\n",
       "22   14.0    196.0\n",
       "11   12.0    144.0\n",
       "20   14.0    196.0\n",
       "9    11.0    121.0\n",
       "48   24.0    576.0\n",
       "28   17.0    289.0\n",
       "31   18.0    324.0\n",
       "15   13.0    169.0\n",
       "26   16.0    256.0\n",
       "35   19.0    361.0"
      ]
     },
     "execution_count": 15,
     "metadata": {},
     "output_type": "execute_result"
    }
   ],
   "source": [
    "x_train"
   ]
  },
  {
   "cell_type": "code",
   "execution_count": 16,
   "metadata": {},
   "outputs": [],
   "source": [
    "import numpy as np"
   ]
  },
  {
   "cell_type": "code",
   "execution_count": 17,
   "metadata": {},
   "outputs": [
    {
     "data": {
      "image/png": "[encoded data removed]",
      "text/plain": [
       "<Figure size 1500x500 with 2 Axes>"
      ]
     },
     "metadata": {},
     "output_type": "display_data"
    }
   ],
   "source": [
    "fig, (ax1,ax2) = plt.subplots(1,2,figsize=(15,5))\n",
    "\n",
    "# 학습에 사용한 데이터와 예측값의 차이를 시각화\n",
    "sb.scatterplot(x=x_train['speed'],y=y_train['dist'],label = 'train data',ax=ax1)\n",
    "sb.scatterplot(x=x_train['speed'],y=y_pred_train,label = 'train predict',ax=ax1)\n",
    "\n",
    "## 그래프가 그려진 범위 안에서 1씩 증가하는 좌표를 생성\n",
    "\n",
    "xmin, xmax = ax1.get_xlim()\n",
    "xrange = np.arange(xmin.round(),xmax.round(),1)\n",
    "\n",
    "## y값에 대한 추정치 계산\n",
    "\n",
    "y_pred = xrange * fit.coef_[0][0] + xrange**2 * fit.coef_[0][1] + fit.intercept_[0]\n",
    "\n",
    "## 추세선\n",
    "sb.lineplot(x=xrange,y=y_pred,color='red',ax=ax1)\n",
    "ax1.set_title('훈련데이터')\n",
    "ax1.legend()\n",
    "ax1.grid()\n",
    "\n",
    "# 검증용 데이터와 예측값의 차이를 시각화\n",
    "sb.scatterplot(x=x_test['speed'],y=y_test['dist'],label='test data',ax=ax2)\n",
    "sb.scatterplot(x=x_test['speed'],y=y_pred_test,label = 'test predict',ax=ax2)\n",
    "## 그래프가 그려진 범위 안에서 1씩 증가하는 좌표를 생성\n",
    "\n",
    "xmin, xmax = ax2.get_xlim()\n",
    "xrange = np.arange(xmin.round(),xmax.round(),1)\n",
    "\n",
    "## y값에 대한 추정치 계싼 \n",
    "y_pred = xrange * fit.coef_[0][0] + xrange**2 * fit.coef_[0][1] + fit.intercept_[0]\n",
    "\n",
    "## 추세선 \n",
    "sb.lineplot(x=xrange,y=y_pred,color='red',ax=ax2)\n",
    "\n",
    "\n",
    "ax2.set_title('검증데이터')\n",
    "ax2.legend()\n",
    "ax2.grid()\n",
    "\n",
    "plt.show()\n",
    "plt.close()"
   ]
  },
  {
   "cell_type": "markdown",
   "metadata": {},
   "source": [
    "## #03. 농어 길이 예측\n",
    "\n"
   ]
  },
  {
   "cell_type": "code",
   "execution_count": 18,
   "metadata": {},
   "outputs": [
    {
     "data": {
      "text/html": [
       "<div>\n",
       "<style scoped>\n",
       "    .dataframe tbody tr th:only-of-type {\n",
       "        vertical-align: middle;\n",
       "    }\n",
       "\n",
       "    .dataframe tbody tr th {\n",
       "        vertical-align: top;\n",
       "    }\n",
       "\n",
       "    .dataframe thead th {\n",
       "        text-align: right;\n",
       "    }\n",
       "</style>\n",
       "<table border=\"1\" class=\"dataframe\">\n",
       "  <thead>\n",
       "    <tr style=\"text-align: right;\">\n",
       "      <th></th>\n",
       "      <th>길이</th>\n",
       "      <th>높이</th>\n",
       "      <th>두께</th>\n",
       "      <th>무게</th>\n",
       "    </tr>\n",
       "  </thead>\n",
       "  <tbody>\n",
       "    <tr>\n",
       "      <th>0</th>\n",
       "      <td>8.4</td>\n",
       "      <td>2.11</td>\n",
       "      <td>1.41</td>\n",
       "      <td>5.9</td>\n",
       "    </tr>\n",
       "    <tr>\n",
       "      <th>1</th>\n",
       "      <td>13.7</td>\n",
       "      <td>3.53</td>\n",
       "      <td>2.00</td>\n",
       "      <td>32.0</td>\n",
       "    </tr>\n",
       "    <tr>\n",
       "      <th>2</th>\n",
       "      <td>15.0</td>\n",
       "      <td>3.82</td>\n",
       "      <td>2.43</td>\n",
       "      <td>40.0</td>\n",
       "    </tr>\n",
       "    <tr>\n",
       "      <th>3</th>\n",
       "      <td>16.2</td>\n",
       "      <td>4.59</td>\n",
       "      <td>2.63</td>\n",
       "      <td>51.5</td>\n",
       "    </tr>\n",
       "    <tr>\n",
       "      <th>4</th>\n",
       "      <td>17.4</td>\n",
       "      <td>4.59</td>\n",
       "      <td>2.94</td>\n",
       "      <td>70.0</td>\n",
       "    </tr>\n",
       "  </tbody>\n",
       "</table>\n",
       "</div>"
      ],
      "text/plain": [
       "     길이    높이    두께    무게\n",
       "0   8.4  2.11  1.41   5.9\n",
       "1  13.7  3.53  2.00  32.0\n",
       "2  15.0  3.82  2.43  40.0\n",
       "3  16.2  4.59  2.63  51.5\n",
       "4  17.4  4.59  2.94  70.0"
      ]
     },
     "execution_count": 18,
     "metadata": {},
     "output_type": "execute_result"
    }
   ],
   "source": [
    "origin= pd.read_excel('https://data.hossam.kr/F02/fish2.xlsx')\n",
    "\n",
    "origin.head()"
   ]
  },
  {
   "cell_type": "markdown",
   "metadata": {},
   "source": [
    "### 다항식으로 변환하기"
   ]
  },
  {
   "cell_type": "code",
   "execution_count": 19,
   "metadata": {},
   "outputs": [
    {
     "data": {
      "text/html": [
       "<div>\n",
       "<style scoped>\n",
       "    .dataframe tbody tr th:only-of-type {\n",
       "        vertical-align: middle;\n",
       "    }\n",
       "\n",
       "    .dataframe tbody tr th {\n",
       "        vertical-align: top;\n",
       "    }\n",
       "\n",
       "    .dataframe thead th {\n",
       "        text-align: right;\n",
       "    }\n",
       "</style>\n",
       "<table border=\"1\" class=\"dataframe\">\n",
       "  <thead>\n",
       "    <tr style=\"text-align: right;\">\n",
       "      <th></th>\n",
       "      <th>길이</th>\n",
       "      <th>높이</th>\n",
       "      <th>두께</th>\n",
       "      <th>길이^2</th>\n",
       "      <th>길이 높이</th>\n",
       "      <th>길이 두께</th>\n",
       "      <th>높이^2</th>\n",
       "      <th>높이 두께</th>\n",
       "      <th>두께^2</th>\n",
       "    </tr>\n",
       "  </thead>\n",
       "  <tbody>\n",
       "    <tr>\n",
       "      <th>0</th>\n",
       "      <td>8.4</td>\n",
       "      <td>2.11</td>\n",
       "      <td>1.41</td>\n",
       "      <td>70.56</td>\n",
       "      <td>17.724</td>\n",
       "      <td>11.844</td>\n",
       "      <td>4.4521</td>\n",
       "      <td>2.9751</td>\n",
       "      <td>1.9881</td>\n",
       "    </tr>\n",
       "    <tr>\n",
       "      <th>1</th>\n",
       "      <td>13.7</td>\n",
       "      <td>3.53</td>\n",
       "      <td>2.00</td>\n",
       "      <td>187.69</td>\n",
       "      <td>48.361</td>\n",
       "      <td>27.400</td>\n",
       "      <td>12.4609</td>\n",
       "      <td>7.0600</td>\n",
       "      <td>4.0000</td>\n",
       "    </tr>\n",
       "    <tr>\n",
       "      <th>2</th>\n",
       "      <td>15.0</td>\n",
       "      <td>3.82</td>\n",
       "      <td>2.43</td>\n",
       "      <td>225.00</td>\n",
       "      <td>57.300</td>\n",
       "      <td>36.450</td>\n",
       "      <td>14.5924</td>\n",
       "      <td>9.2826</td>\n",
       "      <td>5.9049</td>\n",
       "    </tr>\n",
       "    <tr>\n",
       "      <th>3</th>\n",
       "      <td>16.2</td>\n",
       "      <td>4.59</td>\n",
       "      <td>2.63</td>\n",
       "      <td>262.44</td>\n",
       "      <td>74.358</td>\n",
       "      <td>42.606</td>\n",
       "      <td>21.0681</td>\n",
       "      <td>12.0717</td>\n",
       "      <td>6.9169</td>\n",
       "    </tr>\n",
       "    <tr>\n",
       "      <th>4</th>\n",
       "      <td>17.4</td>\n",
       "      <td>4.59</td>\n",
       "      <td>2.94</td>\n",
       "      <td>302.76</td>\n",
       "      <td>79.866</td>\n",
       "      <td>51.156</td>\n",
       "      <td>21.0681</td>\n",
       "      <td>13.4946</td>\n",
       "      <td>8.6436</td>\n",
       "    </tr>\n",
       "  </tbody>\n",
       "</table>\n",
       "</div>"
      ],
      "text/plain": [
       "     길이    높이    두께    길이^2   길이 높이   길이 두께     높이^2    높이 두께    두께^2\n",
       "0   8.4  2.11  1.41   70.56  17.724  11.844   4.4521   2.9751  1.9881\n",
       "1  13.7  3.53  2.00  187.69  48.361  27.400  12.4609   7.0600  4.0000\n",
       "2  15.0  3.82  2.43  225.00  57.300  36.450  14.5924   9.2826  5.9049\n",
       "3  16.2  4.59  2.63  262.44  74.358  42.606  21.0681  12.0717  6.9169\n",
       "4  17.4  4.59  2.94  302.76  79.866  51.156  21.0681  13.4946  8.6436"
      ]
     },
     "execution_count": 19,
     "metadata": {},
     "output_type": "execute_result"
    }
   ],
   "source": [
    "poly = PolynomialFeatures(degree=2,include_bias=False)\n",
    "fit = poly.fit_transform(origin[['길이','높이','두께']])\n",
    "x = pd.DataFrame(fit,columns=poly.get_feature_names_out())\n",
    "x.head()"
   ]
  },
  {
   "cell_type": "markdown",
   "metadata": {},
   "source": [
    "### 모듈 기능을 활용한 다항식 변환"
   ]
  },
  {
   "cell_type": "code",
   "execution_count": 20,
   "metadata": {},
   "outputs": [
    {
     "data": {
      "text/html": [
       "<div>\n",
       "<style scoped>\n",
       "    .dataframe tbody tr th:only-of-type {\n",
       "        vertical-align: middle;\n",
       "    }\n",
       "\n",
       "    .dataframe tbody tr th {\n",
       "        vertical-align: top;\n",
       "    }\n",
       "\n",
       "    .dataframe thead th {\n",
       "        text-align: right;\n",
       "    }\n",
       "</style>\n",
       "<table border=\"1\" class=\"dataframe\">\n",
       "  <thead>\n",
       "    <tr style=\"text-align: right;\">\n",
       "      <th></th>\n",
       "      <th>길이</th>\n",
       "      <th>높이</th>\n",
       "      <th>두께</th>\n",
       "      <th>길이^2</th>\n",
       "      <th>길이 높이</th>\n",
       "      <th>길이 두께</th>\n",
       "      <th>높이^2</th>\n",
       "      <th>높이 두께</th>\n",
       "      <th>두께^2</th>\n",
       "    </tr>\n",
       "  </thead>\n",
       "  <tbody>\n",
       "    <tr>\n",
       "      <th>0</th>\n",
       "      <td>8.4</td>\n",
       "      <td>2.11</td>\n",
       "      <td>1.41</td>\n",
       "      <td>70.56</td>\n",
       "      <td>17.724</td>\n",
       "      <td>11.844</td>\n",
       "      <td>4.4521</td>\n",
       "      <td>2.9751</td>\n",
       "      <td>1.9881</td>\n",
       "    </tr>\n",
       "    <tr>\n",
       "      <th>1</th>\n",
       "      <td>13.7</td>\n",
       "      <td>3.53</td>\n",
       "      <td>2.00</td>\n",
       "      <td>187.69</td>\n",
       "      <td>48.361</td>\n",
       "      <td>27.400</td>\n",
       "      <td>12.4609</td>\n",
       "      <td>7.0600</td>\n",
       "      <td>4.0000</td>\n",
       "    </tr>\n",
       "    <tr>\n",
       "      <th>2</th>\n",
       "      <td>15.0</td>\n",
       "      <td>3.82</td>\n",
       "      <td>2.43</td>\n",
       "      <td>225.00</td>\n",
       "      <td>57.300</td>\n",
       "      <td>36.450</td>\n",
       "      <td>14.5924</td>\n",
       "      <td>9.2826</td>\n",
       "      <td>5.9049</td>\n",
       "    </tr>\n",
       "    <tr>\n",
       "      <th>3</th>\n",
       "      <td>16.2</td>\n",
       "      <td>4.59</td>\n",
       "      <td>2.63</td>\n",
       "      <td>262.44</td>\n",
       "      <td>74.358</td>\n",
       "      <td>42.606</td>\n",
       "      <td>21.0681</td>\n",
       "      <td>12.0717</td>\n",
       "      <td>6.9169</td>\n",
       "    </tr>\n",
       "    <tr>\n",
       "      <th>4</th>\n",
       "      <td>17.4</td>\n",
       "      <td>4.59</td>\n",
       "      <td>2.94</td>\n",
       "      <td>302.76</td>\n",
       "      <td>79.866</td>\n",
       "      <td>51.156</td>\n",
       "      <td>21.0681</td>\n",
       "      <td>13.4946</td>\n",
       "      <td>8.6436</td>\n",
       "    </tr>\n",
       "  </tbody>\n",
       "</table>\n",
       "</div>"
      ],
      "text/plain": [
       "     길이    높이    두께    길이^2   길이 높이   길이 두께     높이^2    높이 두께    두께^2\n",
       "0   8.4  2.11  1.41   70.56  17.724  11.844   4.4521   2.9751  1.9881\n",
       "1  13.7  3.53  2.00  187.69  48.361  27.400  12.4609   7.0600  4.0000\n",
       "2  15.0  3.82  2.43  225.00  57.300  36.450  14.5924   9.2826  5.9049\n",
       "3  16.2  4.59  2.63  262.44  74.358  42.606  21.0681  12.0717  6.9169\n",
       "4  17.4  4.59  2.94  302.76  79.866  51.156  21.0681  13.4946  8.6436"
      ]
     },
     "execution_count": 20,
     "metadata": {},
     "output_type": "execute_result"
    }
   ],
   "source": [
    "x= helper.convertPoly(origin[['길이','높이','두께']])\n",
    "x.head()"
   ]
  },
  {
   "cell_type": "markdown",
   "metadata": {},
   "source": [
    "### 훈련데이터와 검증데이터로 분리"
   ]
  },
  {
   "cell_type": "code",
   "execution_count": 21,
   "metadata": {},
   "outputs": [
    {
     "name": "stdout",
     "output_type": "stream",
     "text": [
      "(39, 9)\n",
      "(39, 1)\n",
      "(17, 9)\n",
      "(17, 1)\n"
     ]
    }
   ],
   "source": [
    "x_train,x_test,y_train,y_test = train_test_split(x,origin[['무게']],test_size=0.3,shuffle=2,random_state=23)\n",
    "print(x_train.shape)\n",
    "print(y_train.shape)\n",
    "print(x_test.shape)\n",
    "print(y_test.shape)\n"
   ]
  },
  {
   "cell_type": "markdown",
   "metadata": {},
   "source": [
    "### 회귀분석 순행\n"
   ]
  },
  {
   "cell_type": "code",
   "execution_count": 22,
   "metadata": {},
   "outputs": [
    {
     "name": "stdout",
     "output_type": "stream",
     "text": [
      "계수:  [[  26.23503335 -125.57166799  -61.33396409   -2.16800703    5.04789757\n",
      "    15.46749184   53.35969761 -179.60994797  117.87161196]]\n",
      "절편:  [108.53236759]\n",
      "훈련 데이터 설명력:  0.9899991553243885\n",
      "검증 데이터 설명력:  0.9733293097765251\n"
     ]
    }
   ],
   "source": [
    "model = LinearRegression()\n",
    "fit = model.fit(x_train,y_train)\n",
    "\n",
    "print(\"계수: \", fit.coef_)\n",
    "print(\"절편: \", fit.intercept_)\n",
    "print(\"훈련 데이터 설명력: \", fit.score(x_train, y_train))\n",
    "print(\"검증 데이터 설명력: \", fit.score(x_test, y_test))\n"
   ]
  },
  {
   "cell_type": "markdown",
   "metadata": {},
   "source": [
    "### 회귀식 추정"
   ]
  },
  {
   "cell_type": "code",
   "execution_count": 23,
   "metadata": {},
   "outputs": [
    {
     "data": {
      "text/plain": [
       "'y = 26 * 길이 + -126 * 높이 + -61 * 두께 + -2 * 길이^2 + 5 * 길이 높이 + 15 * 길이 두께 + 53 * 높이^2 + -180 * 높이 두께 + 118 * 두께^2 + 108.53'"
      ]
     },
     "execution_count": 23,
     "metadata": {},
     "output_type": "execute_result"
    }
   ],
   "source": [
    "feature_name = x.columns\n",
    "expr = []\n",
    "\n",
    "for i , v in enumerate(feature_name) :\n",
    "    expr.append(f'{round(fit.coef_[0][i])} * {v}')\n",
    "\n",
    "expr = ' + '.join(expr)\n",
    "\n",
    "expr = f\"y = {expr} + {round(fit.intercept_[0],2)}\"\n",
    "expr"
   ]
  },
  {
   "cell_type": "markdown",
   "metadata": {},
   "source": [
    "### 예측값 생성\n",
    "훈련데이터에 대한 예측값\n",
    "\n"
   ]
  },
  {
   "cell_type": "code",
   "execution_count": 24,
   "metadata": {},
   "outputs": [
    {
     "data": {
      "text/plain": [
       "array([ 314.17059576,  113.23385425,  695.95614507,  240.44442715,\n",
       "        215.0005195 ,  221.71078525, 1045.54467464,  147.58723436,\n",
       "        264.61294462,  772.45222037,   65.60883665,  271.30706857,\n",
       "         70.5295051 ,  880.92162803,   31.38389154, 1060.62360165,\n",
       "        942.2572962 ,  128.48032121,  906.12460286,  674.39587545,\n",
       "         34.70657832,   58.33578966,  136.39632759,  101.66287928,\n",
       "         45.98442076,  883.92057214,   66.21922349,  159.57424218,\n",
       "        189.35075459,  821.22255279,  163.40523222,  123.54245092,\n",
       "        739.95672261,  239.54601607, 1020.70261359,   82.03595933,\n",
       "        726.24068271,  604.08463623,  135.66631727])"
      ]
     },
     "execution_count": 24,
     "metadata": {},
     "output_type": "execute_result"
    }
   ],
   "source": [
    "y_pred_train = fit.predict(x_train)\n",
    "y_pred_train = y_pred_train.reshape(-1)\n",
    "y_pred_train"
   ]
  },
  {
   "cell_type": "code",
   "execution_count": 25,
   "metadata": {},
   "outputs": [
    {
     "data": {
      "text/plain": [
       "17"
      ]
     },
     "execution_count": 25,
     "metadata": {},
     "output_type": "execute_result"
    }
   ],
   "source": [
    "#### 검증데이터에 대한 예측값\n",
    "len(x_test)"
   ]
  },
  {
   "cell_type": "code",
   "execution_count": 26,
   "metadata": {},
   "outputs": [
    {
     "data": {
      "text/plain": [
       "array([ 119.18913025,  935.34257247,  119.36685226,  283.65533811,\n",
       "        292.75428948,  206.04050907,  957.10181393,  218.10167029,\n",
       "       1169.51713225,  188.15926535,  147.75806265,  664.12455893,\n",
       "        120.79042796,  110.73693441,   80.69519758,  517.51663712,\n",
       "         32.54157631])"
      ]
     },
     "execution_count": 26,
     "metadata": {},
     "output_type": "execute_result"
    }
   ],
   "source": [
    "y_test_pred = fit.predict(x_test)\n",
    "y_test_pred = y_test_pred.reshape(-1)\n",
    "y_test_pred"
   ]
  },
  {
   "cell_type": "markdown",
   "metadata": {},
   "source": [
    "### 학습결과 시각화"
   ]
  },
  {
   "cell_type": "code",
   "execution_count": 27,
   "metadata": {},
   "outputs": [
    {
     "data": {
      "text/html": [
       "<div>\n",
       "<style scoped>\n",
       "    .dataframe tbody tr th:only-of-type {\n",
       "        vertical-align: middle;\n",
       "    }\n",
       "\n",
       "    .dataframe tbody tr th {\n",
       "        vertical-align: top;\n",
       "    }\n",
       "\n",
       "    .dataframe thead th {\n",
       "        text-align: right;\n",
       "    }\n",
       "</style>\n",
       "<table border=\"1\" class=\"dataframe\">\n",
       "  <thead>\n",
       "    <tr style=\"text-align: right;\">\n",
       "      <th></th>\n",
       "      <th>길이</th>\n",
       "      <th>높이</th>\n",
       "      <th>두께</th>\n",
       "      <th>무게</th>\n",
       "    </tr>\n",
       "  </thead>\n",
       "  <tbody>\n",
       "    <tr>\n",
       "      <th>0</th>\n",
       "      <td>8.4</td>\n",
       "      <td>2.11</td>\n",
       "      <td>1.41</td>\n",
       "      <td>5.9</td>\n",
       "    </tr>\n",
       "    <tr>\n",
       "      <th>1</th>\n",
       "      <td>13.7</td>\n",
       "      <td>3.53</td>\n",
       "      <td>2.00</td>\n",
       "      <td>32.0</td>\n",
       "    </tr>\n",
       "    <tr>\n",
       "      <th>2</th>\n",
       "      <td>15.0</td>\n",
       "      <td>3.82</td>\n",
       "      <td>2.43</td>\n",
       "      <td>40.0</td>\n",
       "    </tr>\n",
       "    <tr>\n",
       "      <th>3</th>\n",
       "      <td>16.2</td>\n",
       "      <td>4.59</td>\n",
       "      <td>2.63</td>\n",
       "      <td>51.5</td>\n",
       "    </tr>\n",
       "    <tr>\n",
       "      <th>4</th>\n",
       "      <td>17.4</td>\n",
       "      <td>4.59</td>\n",
       "      <td>2.94</td>\n",
       "      <td>70.0</td>\n",
       "    </tr>\n",
       "  </tbody>\n",
       "</table>\n",
       "</div>"
      ],
      "text/plain": [
       "     길이    높이    두께    무게\n",
       "0   8.4  2.11  1.41   5.9\n",
       "1  13.7  3.53  2.00  32.0\n",
       "2  15.0  3.82  2.43  40.0\n",
       "3  16.2  4.59  2.63  51.5\n",
       "4  17.4  4.59  2.94  70.0"
      ]
     },
     "execution_count": 27,
     "metadata": {},
     "output_type": "execute_result"
    }
   ],
   "source": [
    "origin.head()"
   ]
  },
  {
   "cell_type": "code",
   "execution_count": 28,
   "metadata": {},
   "outputs": [
    {
     "data": {
      "text/plain": [
       "17"
      ]
     },
     "execution_count": 28,
     "metadata": {},
     "output_type": "execute_result"
    }
   ],
   "source": [
    "len(y_test)"
   ]
  },
  {
   "cell_type": "code",
   "execution_count": 29,
   "metadata": {},
   "outputs": [
    {
     "data": {
      "text/plain": [
       "15"
      ]
     },
     "execution_count": 29,
     "metadata": {},
     "output_type": "execute_result"
    }
   ],
   "source": [
    "len(y_pred_test)"
   ]
  },
  {
   "cell_type": "code",
   "execution_count": 30,
   "metadata": {},
   "outputs": [
    {
     "data": {
      "image/png": "[encoded data removed]",
      "text/plain": [
       "<Figure size 1500x500 with 2 Axes>"
      ]
     },
     "metadata": {},
     "output_type": "display_data"
    }
   ],
   "source": [
    "fig, (ax1,ax2) = plt.subplots(1,2,figsize = (15,5))\n",
    "\n",
    "sb.scatterplot(x=x_train['길이'],y=y_train['무게'],label = 'train data',ax=ax1)\n",
    "sb.scatterplot(x=x_train['길이'],y=y_pred_train,label = ' train predict',ax=ax1)\n",
    "ax1.set_title(\"훈련 데이터\")\n",
    "ax1.legend()\n",
    "ax1.grid()\n",
    "\n",
    "\n",
    "sb.scatterplot(x=x_test['길이'],y=y_test['무게'],label = 'test data',ax=ax2)\n",
    "sb.scatterplot(x=x_test['길이'],y=y_test_pred,label= 'test predict',ax=ax2)\n",
    "\n",
    "ax2.set_title(\"검증 데이터\")\n",
    "ax2.legend()\n",
    "ax2.grid()"
   ]
  },
  {
   "cell_type": "markdown",
   "metadata": {},
   "source": [
    "### 추세선 그리기 \n",
    "\n",
    "seaborn의 regplot은 직선만 제공  - > 2차식을 표현하는 추세선은 직접 구현해야함"
   ]
  },
  {
   "cell_type": "code",
   "execution_count": 31,
   "metadata": {},
   "outputs": [],
   "source": [
    "x=x_train['길이']\n",
    "\n",
    "y= y_train['무게']\n"
   ]
  },
  {
   "cell_type": "markdown",
   "metadata": {},
   "source": [
    "#### x에따라 y 값이 변하는 2차방정식 생성"
   ]
  },
  {
   "cell_type": "code",
   "execution_count": 32,
   "metadata": {},
   "outputs": [
    {
     "data": {
      "text/plain": [
       "array([  1.08690343, -25.7423217 , 167.91096962])"
      ]
     },
     "execution_count": 32,
     "metadata": {},
     "output_type": "execute_result"
    }
   ],
   "source": [
    "coeff = np.polyfit(x,y,2)\n",
    "coeff"
   ]
  },
  {
   "cell_type": "markdown",
   "metadata": {},
   "source": [
    "#### 평면 좌표 상에서의 가상의 x값 생성\n"
   ]
  },
  {
   "cell_type": "code",
   "execution_count": 33,
   "metadata": {},
   "outputs": [],
   "source": [
    "vtrend = np.linspace(x.min(),x.max(),100)\n",
    "\n"
   ]
  },
  {
   "cell_type": "code",
   "execution_count": 34,
   "metadata": {},
   "outputs": [
    {
     "data": {
      "text/plain": [
       "array([  28.36737334,   25.81729931,   23.54831863,   21.56043129,\n",
       "         19.85363729,   18.42793663,   17.28332932,   16.41981536,\n",
       "         15.83739473,   15.53606745,   15.51583351,   15.77669292,\n",
       "         16.31864567,   17.14169176,   18.2458312 ,   19.63106398,\n",
       "         21.29739011,   23.24480958,   25.47332239,   27.98292854,\n",
       "         30.77362804,   33.84542088,   37.19830707,   40.8322866 ,\n",
       "         44.74735947,   48.94352569,   53.42078525,   58.17913815,\n",
       "         63.2185844 ,   68.53912399,   74.14075693,   80.0234832 ,\n",
       "         86.18730283,   92.63221579,   99.3582221 ,  106.36532175,\n",
       "        113.65351475,  121.22280109,  129.07318077,  137.2046538 ,\n",
       "        145.61722017,  154.31087988,  163.28563294,  172.54147934,\n",
       "        182.07841908,  191.89645217,  201.9955786 ,  212.37579838,\n",
       "        223.0371115 ,  233.97951796,  245.20301776,  256.70761091,\n",
       "        268.49329741,  280.56007724,  292.90795042,  305.53691695,\n",
       "        318.44697681,  331.63813002,  345.11037658,  358.86371648,\n",
       "        372.89814972,  387.2136763 ,  401.81029623,  416.6880095 ,\n",
       "        431.84681612,  447.28671608,  463.00770938,  479.00979603,\n",
       "        495.29297602,  511.85724935,  528.70261603,  545.82907605,\n",
       "        563.23662941,  580.92527612,  598.89501617,  617.14584957,\n",
       "        635.67777631,  654.49079639,  673.58490981,  692.96011658,\n",
       "        712.6164167 ,  732.55381015,  752.77229695,  773.2718771 ,\n",
       "        794.05255058,  815.11431741,  836.45717759,  858.08113111,\n",
       "        879.98617797,  902.17231817,  924.63955172,  947.38787861,\n",
       "        970.41729885,  993.72781243, 1017.31941935, 1041.19211962,\n",
       "       1065.34591323, 1089.78080018, 1114.49678048, 1139.49385412])"
      ]
     },
     "execution_count": 34,
     "metadata": {},
     "output_type": "execute_result"
    }
   ],
   "source": [
    "ttrend = vtrend**2 * coeff[0] + vtrend * coeff[1] + coeff[2]\n",
    "ttrend"
   ]
  },
  {
   "cell_type": "markdown",
   "metadata": {},
   "source": [
    "#### 확인 \n",
    "\n"
   ]
  },
  {
   "cell_type": "code",
   "execution_count": 35,
   "metadata": {},
   "outputs": [
    {
     "data": {
      "text/plain": [
       "<Axes: xlabel='길이', ylabel='무게'>"
      ]
     },
     "execution_count": 35,
     "metadata": {},
     "output_type": "execute_result"
    },
    {
     "data": {
      "image/png": "[encoded data removed]",
      "text/plain": [
       "<Figure size 700x400 with 1 Axes>"
      ]
     },
     "metadata": {},
     "output_type": "display_data"
    }
   ],
   "source": [
    "plt.figure(figsize=(7,4))\n",
    "\n",
    "sb.scatterplot(x=x_train['길이'],y=y_train['무게'])\n",
    "sb.lineplot(x=vtrend,y=ttrend,color='red')"
   ]
  },
  {
   "cell_type": "code",
   "execution_count": 37,
   "metadata": {},
   "outputs": [
    {
     "data": {
      "image/png": "[encoded data removed]",
      "text/plain": [
       "<Figure size 1500x500 with 2 Axes>"
      ]
     },
     "metadata": {},
     "output_type": "display_data"
    }
   ],
   "source": [
    "fig, (ax1,ax2) = plt.subplots(1,2,figsize = (15,5))\n",
    "## 학습에 사용된 관측치 시각화\n",
    "\n",
    "sb.scatterplot(x=x_train['길이'],y=y_train['무게'],label = 'train data',ax=ax1)\n",
    "## 학습에 사용한 데이터에 추세선\n",
    "x,y = helper.getTrend(x_train['길이'],y_train['무게'])\n",
    "sb.lineplot(x=x,y=y,color='blue',ax=ax1)\n",
    "## 학습 데이터에 따른 추정치\n",
    "sb.scatterplot(x=x_train['길이'],y=y_pred_train,label = ' train predict',ax=ax1)\n",
    "\n",
    "### 추정치에 대한 추세선\n",
    "x,y= helper.getTrend(x=x_train['길이'],y=y_pred_train)\n",
    "sb.lineplot(x=x,y=y,color='red',ax=ax1)\n",
    "ax1.set_title(\"훈련 데이터\")\n",
    "ax1.legend()\n",
    "ax1.grid()\n",
    "\n",
    "## 검증데이터 시각화\n",
    "sb.scatterplot(x=x_test['길이'],y=y_test['무게'],label = 'test data',ax=ax2)\n",
    "## 검증데이터 추세선\n",
    "x,y = helper.getTrend(x_test['길이'],y_test['무게'])\n",
    "sb.lineplot(x=x,y=y,color='blue',ax=ax2)\n",
    "### 검증데이터 추정치 시각화\n",
    "sb.scatterplot(x=x_test['길이'],y=y_test_pred,label= 'test predict',ax=ax2)\n",
    "\n",
    "## 검증데이터 추정치에 대한 추세선\n",
    "x,y = helper.getTrend(x_test['길이'],y_test_pred)\n",
    "sb.lineplot(x=x,y=y,color='red',ax=ax2)\n",
    "\n",
    "ax2.set_title(\"검증 데이터\")\n",
    "ax2.legend()\n",
    "ax2.grid()"
   ]
  },
  {
   "cell_type": "code",
   "execution_count": null,
   "metadata": {},
   "outputs": [],
   "source": []
  }
 ],
 "metadata": {
  "kernelspec": {
   "display_name": "Python 3",
   "language": "python",
   "name": "python3"
  },
  "language_info": {
   "codemirror_mode": {
    "name": "ipython",
    "version": 3
   },
   "file_extension": ".py",
   "mimetype": "text/x-python",
   "name": "python",
   "nbconvert_exporter": "python",
   "pygments_lexer": "ipython3",
   "version": "3.11.3"
  },
  "orig_nbformat": 4
 },
 "nbformat": 4,
 "nbformat_minor": 2
}

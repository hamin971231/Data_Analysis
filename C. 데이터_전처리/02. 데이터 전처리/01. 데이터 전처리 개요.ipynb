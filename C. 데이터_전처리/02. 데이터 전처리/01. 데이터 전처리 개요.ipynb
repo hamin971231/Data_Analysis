{
 "cells": [
  {
   "attachments": {},
   "cell_type": "markdown",
   "metadata": {},
   "source": [
    "# 데이터 전처리 개요\n"
   ]
  },
  {
   "attachments": {},
   "cell_type": "markdown",
   "metadata": {},
   "source": [
    "## #01. 데이터 전처리 이해\n",
    "\n"
   ]
  },
  {
   "attachments": {},
   "cell_type": "markdown",
   "metadata": {},
   "source": [
    "데이터를 본격적으로 분석하기 전에 분석에 적합하게 데이터를 가공하는 작업\n",
    "\n",
    "데이터 가공, 데이터 핸들링이라고도 부름"
   ]
  },
  {
   "attachments": {},
   "cell_type": "markdown",
   "metadata": {},
   "source": [
    "### 데이터 전처리에서 수행되는 주요 작업\n",
    "\n"
   ]
  },
  {
   "attachments": {},
   "cell_type": "markdown",
   "metadata": {},
   "source": [
    "#### 행,열 재배치\n",
    "\n",
    "    - 행 혹은 열에 대한 재배치,\n",
    "    - 정렬\n",
    "    - 특정 데이터 필터링\n",
    "    - 행 혹은 열 추가 삭제"
   ]
  },
  {
   "attachments": {},
   "cell_type": "markdown",
   "metadata": {},
   "source": [
    "#### 데이터 재배치\n",
    "두 개 이상의 데이터 프래임을 다루거나 새로운 데이터 프레임이 생성되는 형태\n",
    "\n",
    "    - 다른 데이터 프레임과 데이터 합치기 (열)\n",
    "    - 다른 데이터 프레임과 데이터 합치기 (행)\n",
    "    - 피벗 테이블\n",
    "    - 교차표"
   ]
  },
  {
   "attachments": {},
   "cell_type": "markdown",
   "metadata": {},
   "source": [
    "## #02. 변수의 이해\n",
    "\n"
   ]
  },
  {
   "attachments": {},
   "cell_type": "markdown",
   "metadata": {},
   "source": [
    "### 1) 변수와 데이터"
   ]
  },
  {
   "attachments": {},
   "cell_type": "markdown",
   "metadata": {},
   "source": [
    "- 변수 : 각 단위에 대해 관측되는 특성\n",
    "\n",
    "- 데이터 : 하나 이상의 변수에 대한 관찰값의 모음"
   ]
  },
  {
   "attachments": {},
   "cell_type": "markdown",
   "metadata": {},
   "source": [
    "### 2) 변수의 종류\n",
    "\n",
    "척도 : 사람이나 사물의 특성을 통계상의 수로 표현하기 위해서 체계적으로 숫자를 부여한 것.\n",
    "\n",
    "데이터의 척도 \n",
    "\n",
    "            1) 범주형 변수(질적 변수) \n",
    "\n",
    "                01. 명목척도 \n",
    "            \n",
    "                    - 태상을 특성에 따라 카테고리로 분류하여 기호를 부여\n",
    "            \n",
    "                    - 측정이 이루어지는 항목들이 상호배타적인 특성만 가짐\n",
    "\n",
    "                    - 비교방법 : 확인 분류\n",
    "\n",
    "                    - 추론 통계방법 : 비모수통계, 빈도분석, 교차분석\n",
    "            \n",
    "                02. 서열척도 \n",
    "            \n",
    "                    - 대상의 측성들을 구분할 수 있으며 이들 사이의 상대적인 크기가 비교 가능.\n",
    "            \n",
    "                    - 서열이나 순위가 존재\n",
    "\n",
    "                    - 비교방법 : 순위비교 \n",
    "\n",
    "                    - 추론통계 방법 : 비모수통계    \n",
    "\n",
    "            2) 연속형 변수(양적 변수)\n",
    "            \n",
    "                01. 등간척도\n",
    "                    \n",
    "                    - 인접한 두 변수의 차이가 일정한 변수\n",
    "\n",
    "                    - ex) 온도, IQ, 연도\n",
    "\n",
    "                    - 비교 방법 : + - 까지 가능\n",
    "\n",
    "                    - 통계값 : 최빈값, 중앙값. 산술평균\n",
    "\n",
    "                    - 추론 통계방법: 모수통계학\n",
    "\n",
    "                02. 비율척도\n",
    "\n",
    "                    - 사칙연산 가능\n",
    "\n",
    "                    - 절대영점 존재함\n",
    "\n",
    "                    "
   ]
  },
  {
   "cell_type": "code",
   "execution_count": null,
   "metadata": {},
   "outputs": [],
   "source": []
  },
  {
   "cell_type": "code",
   "execution_count": null,
   "metadata": {},
   "outputs": [],
   "source": []
  }
 ],
 "metadata": {
  "language_info": {
   "name": "python"
  },
  "orig_nbformat": 4
 },
 "nbformat": 4,
 "nbformat_minor": 2
}

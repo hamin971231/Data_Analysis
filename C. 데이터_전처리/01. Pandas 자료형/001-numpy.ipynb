{
 "cells": [
  {
   "attachments": {},
   "cell_type": "markdown",
   "metadata": {},
   "source": [
    "# Numpy\n",
    "\n",
    "### #01. NumPy 개요\n",
    "\n",
    "- 수학이나 과학에서 쓰이는 각종 공식이 포함되어 있음. \n",
    "- 배열을 쉽게 처리할 수 있도록 지원하는 패키지. \n",
    "\n",
    "\n",
    "#### 1) NumPy의 역할 \n",
    "- 데이터 분석을 수행하기 위해 데이터를 숫자형식으로 변환\n",
    "- 데이터 저장 및 가공의 효율성을 위해 NumPy 등장 \n",
    "- list -> numpy -> serise -> dataframe\n",
    "- numpy는 원소의 타입이 서로 다른것을 허용하지 않음.\n"
   ]
  },
  {
   "attachments": {},
   "cell_type": "markdown",
   "metadata": {},
   "source": [
    "### 2) NumPy 패키지 사용"
   ]
  },
  {
   "cell_type": "code",
   "execution_count": 2,
   "metadata": {},
   "outputs": [],
   "source": [
    "import numpy\n"
   ]
  },
  {
   "attachments": {},
   "cell_type": "markdown",
   "metadata": {},
   "source": [
    "#### 1) 넘파이 배열 생성과 기본 활용"
   ]
  },
  {
   "cell_type": "code",
   "execution_count": 4,
   "metadata": {},
   "outputs": [
    {
     "name": "stdout",
     "output_type": "stream",
     "text": [
      "5\n"
     ]
    }
   ],
   "source": [
    "arr = numpy.array([1,3,5,7,9])\n",
    "\n",
    "size = len(arr)\n",
    "print(size)"
   ]
  },
  {
   "attachments": {},
   "cell_type": "markdown",
   "metadata": {},
   "source": [
    "#### 2) 넘파이 배열 특성\n",
    "\n",
    "- 넘파이는 원소의 타입이 서로 다른 것을 허용 x\n",
    "- 가장 포괄적인 형태의 자료형으로 통일 \n",
    "\n"
   ]
  },
  {
   "cell_type": "code",
   "execution_count": 6,
   "metadata": {},
   "outputs": [
    {
     "data": {
      "text/plain": [
       "array(['1', '2.4', '3', '4.6'], dtype='<U32')"
      ]
     },
     "execution_count": 6,
     "metadata": {},
     "output_type": "execute_result"
    }
   ],
   "source": [
    "arr = numpy.array([1,2.4,3,'4.6'])\n",
    "arr"
   ]
  },
  {
   "cell_type": "code",
   "execution_count": 8,
   "metadata": {},
   "outputs": [
    {
     "data": {
      "text/plain": [
       "array([1, 2, 3, 4])"
      ]
     },
     "execution_count": 8,
     "metadata": {},
     "output_type": "execute_result"
    }
   ],
   "source": [
    "arr = numpy.array([1,2.4,3,4.6], dtype=\"int\")\n",
    "arr"
   ]
  },
  {
   "attachments": {},
   "cell_type": "markdown",
   "metadata": {},
   "source": [
    "#### 3) numpy 배열의 기초 통계값"
   ]
  },
  {
   "cell_type": "code",
   "execution_count": 13,
   "metadata": {},
   "outputs": [
    {
     "name": "stdout",
     "output_type": "stream",
     "text": [
      "338\n",
      "84.5\n",
      "77\n",
      "91\n"
     ]
    }
   ],
   "source": [
    "grade = numpy.array([82, 77, 91, 88])\n",
    "s1  = numpy.sum(grade)\n",
    "print(s1)\n",
    "print(numpy.average(grade))\n",
    "print(numpy.min(grade))\n",
    "print(numpy.max(grade))"
   ]
  },
  {
   "attachments": {},
   "cell_type": "markdown",
   "metadata": {},
   "source": [
    "#### 4) numpy 배열의 각 원소에 대한 연산"
   ]
  },
  {
   "cell_type": "code",
   "execution_count": 14,
   "metadata": {},
   "outputs": [
    {
     "data": {
      "text/plain": [
       "array([42.8, 40.8, 46.4, 45.2])"
      ]
     },
     "execution_count": 14,
     "metadata": {},
     "output_type": "execute_result"
    }
   ],
   "source": [
    "new = ( grade *2 ) /5 + 10\n",
    "new"
   ]
  },
  {
   "attachments": {},
   "cell_type": "markdown",
   "metadata": {},
   "source": [
    "#### 5) numpy 배열의 기본 인덱싱, 슬라이싱\n",
    "\n"
   ]
  },
  {
   "cell_type": "code",
   "execution_count": 16,
   "metadata": {},
   "outputs": [
    {
     "name": "stdout",
     "output_type": "stream",
     "text": [
      "[77 91]\n",
      "[91 88]\n"
     ]
    }
   ],
   "source": [
    "grade = numpy.array([82, 77, 91, 88])\n",
    "\n",
    "print(grade[1:3])\n",
    "print(grade[2:])\n",
    "\n"
   ]
  },
  {
   "attachments": {},
   "cell_type": "markdown",
   "metadata": {},
   "source": [
    "#### 6) 조건에 맞는 값 추출"
   ]
  },
  {
   "cell_type": "code",
   "execution_count": 17,
   "metadata": {},
   "outputs": [
    {
     "data": {
      "text/plain": [
       "array([ True, False,  True, False])"
      ]
     },
     "execution_count": 17,
     "metadata": {},
     "output_type": "execute_result"
    }
   ],
   "source": [
    "bool_array = numpy.array([True,False,True,False])\n",
    "bool_array"
   ]
  },
  {
   "cell_type": "code",
   "execution_count": 22,
   "metadata": {},
   "outputs": [
    {
     "name": "stdout",
     "output_type": "stream",
     "text": [
      "[82 88]\n"
     ]
    }
   ],
   "source": [
    "result2 = grade[(grade >= 80) & (grade <90)]\n",
    "print(result2)"
   ]
  },
  {
   "attachments": {},
   "cell_type": "markdown",
   "metadata": {},
   "source": [
    "### #03. 2차배열"
   ]
  },
  {
   "attachments": {},
   "cell_type": "markdown",
   "metadata": {},
   "source": [
    "#### 1) 넘파이 2차배열 생성 및 기본정보 조회"
   ]
  },
  {
   "cell_type": "code",
   "execution_count": 37,
   "metadata": {},
   "outputs": [
    {
     "name": "stdout",
     "output_type": "stream",
     "text": [
      "[[98 72 80 64]\n",
      " [88 90 80 72]\n",
      " [92 88 82 76]]\n",
      "2\n",
      "(3, 4)\n",
      "72\n",
      "72\n",
      "[[92 88 82 76]]\n"
     ]
    }
   ],
   "source": [
    "grade = numpy.array([[98,72,80,64],\n",
    "                    [88,90,80,72],\n",
    "                    [92,88,82,76]])\n",
    "\n",
    "print(grade)\n",
    "print(grade.ndim)\n",
    "print(grade.shape)\n",
    "\n",
    "print(grade[0,1])\n",
    "print(grade[0][1])\n",
    "print(grade[1:3][1:4])"
   ]
  },
  {
   "cell_type": "code",
   "execution_count": null,
   "metadata": {},
   "outputs": [],
   "source": []
  }
 ],
 "metadata": {
  "kernelspec": {
   "display_name": "Python 3",
   "language": "python",
   "name": "python3"
  },
  "language_info": {
   "codemirror_mode": {
    "name": "ipython",
    "version": 3
   },
   "file_extension": ".py",
   "mimetype": "text/x-python",
   "name": "python",
   "nbconvert_exporter": "python",
   "pygments_lexer": "ipython3",
   "version": "3.11.3"
  },
  "orig_nbformat": 4
 },
 "nbformat": 4,
 "nbformat_minor": 2
}

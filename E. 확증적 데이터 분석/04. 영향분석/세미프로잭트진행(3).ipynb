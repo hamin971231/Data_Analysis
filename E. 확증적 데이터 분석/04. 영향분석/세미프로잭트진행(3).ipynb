{
 "cells": [
  {
   "cell_type": "code",
   "execution_count": 1,
   "metadata": {},
   "outputs": [],
   "source": [
    "import pandas as pd\n",
    "import numpy as np\n",
    "import matplotlib.pyplot as plt\n",
    "import seaborn as sns\n",
    "import sys\n",
    "import os\n",
    "import scipy.stats as stats"
   ]
  },
  {
   "cell_type": "code",
   "execution_count": 2,
   "metadata": {},
   "outputs": [],
   "source": [
    "plt.rcParams[\"font.family\"] = 'AppleGothic' if sys.platform == 'darwin' else 'Malgun Gothic'\n",
    "plt.rcParams[\"font.size\"] = 12\n",
    "plt.rcParams[\"figure.figsize\"] = (10, 5)\n",
    "plt.rcParams[\"axes.unicode_minus\"] = False"
   ]
  },
  {
   "cell_type": "code",
   "execution_count": 3,
   "metadata": {},
   "outputs": [
    {
     "data": {
      "text/html": [
       "<div>\n",
       "<style scoped>\n",
       "    .dataframe tbody tr th:only-of-type {\n",
       "        vertical-align: middle;\n",
       "    }\n",
       "\n",
       "    .dataframe tbody tr th {\n",
       "        vertical-align: top;\n",
       "    }\n",
       "\n",
       "    .dataframe thead th {\n",
       "        text-align: right;\n",
       "    }\n",
       "</style>\n",
       "<table border=\"1\" class=\"dataframe\">\n",
       "  <thead>\n",
       "    <tr style=\"text-align: right;\">\n",
       "      <th></th>\n",
       "      <th>Unnamed: 0</th>\n",
       "      <th>gen</th>\n",
       "      <th>age</th>\n",
       "      <th>religion</th>\n",
       "      <th>edu</th>\n",
       "      <th>sm_year</th>\n",
       "      <th>sm_state</th>\n",
       "      <th>sm_day</th>\n",
       "      <th>dr_mean_year</th>\n",
       "      <th>dr_6cup</th>\n",
       "      <th>...</th>\n",
       "      <th>preg_experience</th>\n",
       "      <th>health_state</th>\n",
       "      <th>disabled</th>\n",
       "      <th>work_state</th>\n",
       "      <th>work_code</th>\n",
       "      <th>region</th>\n",
       "      <th>income</th>\n",
       "      <th>y_total</th>\n",
       "      <th>debt</th>\n",
       "      <th>y_train</th>\n",
       "    </tr>\n",
       "  </thead>\n",
       "  <tbody>\n",
       "    <tr>\n",
       "      <th>0</th>\n",
       "      <td>0</td>\n",
       "      <td>female</td>\n",
       "      <td>78</td>\n",
       "      <td>yes</td>\n",
       "      <td>중졸</td>\n",
       "      <td>NaN</td>\n",
       "      <td>no</td>\n",
       "      <td>NaN</td>\n",
       "      <td>전혀마시지않음</td>\n",
       "      <td>NaN</td>\n",
       "      <td>...</td>\n",
       "      <td>없다</td>\n",
       "      <td>2</td>\n",
       "      <td>abled</td>\n",
       "      <td>nowork</td>\n",
       "      <td>NaN</td>\n",
       "      <td>city</td>\n",
       "      <td>405.0</td>\n",
       "      <td>20</td>\n",
       "      <td>10350.0</td>\n",
       "      <td>0</td>\n",
       "    </tr>\n",
       "    <tr>\n",
       "      <th>1</th>\n",
       "      <td>1</td>\n",
       "      <td>male</td>\n",
       "      <td>75</td>\n",
       "      <td>no</td>\n",
       "      <td>초졸이하</td>\n",
       "      <td>NaN</td>\n",
       "      <td>no</td>\n",
       "      <td>NaN</td>\n",
       "      <td>전혀마시지않음</td>\n",
       "      <td>NaN</td>\n",
       "      <td>...</td>\n",
       "      <td>남성</td>\n",
       "      <td>1</td>\n",
       "      <td>abled</td>\n",
       "      <td>work</td>\n",
       "      <td>942.0</td>\n",
       "      <td>city</td>\n",
       "      <td>2788.0</td>\n",
       "      <td>29</td>\n",
       "      <td>0.0</td>\n",
       "      <td>1</td>\n",
       "    </tr>\n",
       "    <tr>\n",
       "      <th>2</th>\n",
       "      <td>2</td>\n",
       "      <td>male</td>\n",
       "      <td>81</td>\n",
       "      <td>yes</td>\n",
       "      <td>대졸이상</td>\n",
       "      <td>NaN</td>\n",
       "      <td>no</td>\n",
       "      <td>NaN</td>\n",
       "      <td>전혀마시지않음</td>\n",
       "      <td>NaN</td>\n",
       "      <td>...</td>\n",
       "      <td>남성</td>\n",
       "      <td>4</td>\n",
       "      <td>abled</td>\n",
       "      <td>work</td>\n",
       "      <td>762.0</td>\n",
       "      <td>city</td>\n",
       "      <td>2304.0</td>\n",
       "      <td>18</td>\n",
       "      <td>21220.0</td>\n",
       "      <td>0</td>\n",
       "    </tr>\n",
       "    <tr>\n",
       "      <th>3</th>\n",
       "      <td>3</td>\n",
       "      <td>male</td>\n",
       "      <td>61</td>\n",
       "      <td>yes</td>\n",
       "      <td>대졸이상</td>\n",
       "      <td>NaN</td>\n",
       "      <td>no</td>\n",
       "      <td>NaN</td>\n",
       "      <td>전혀마시지않음</td>\n",
       "      <td>NaN</td>\n",
       "      <td>...</td>\n",
       "      <td>남성</td>\n",
       "      <td>4</td>\n",
       "      <td>abled</td>\n",
       "      <td>work</td>\n",
       "      <td>855.0</td>\n",
       "      <td>city</td>\n",
       "      <td>5231.0</td>\n",
       "      <td>20</td>\n",
       "      <td>0.0</td>\n",
       "      <td>0</td>\n",
       "    </tr>\n",
       "    <tr>\n",
       "      <th>4</th>\n",
       "      <td>4</td>\n",
       "      <td>female</td>\n",
       "      <td>60</td>\n",
       "      <td>yes</td>\n",
       "      <td>고졸</td>\n",
       "      <td>NaN</td>\n",
       "      <td>no</td>\n",
       "      <td>NaN</td>\n",
       "      <td>전혀마시지않음</td>\n",
       "      <td>NaN</td>\n",
       "      <td>...</td>\n",
       "      <td>없다</td>\n",
       "      <td>4</td>\n",
       "      <td>abled</td>\n",
       "      <td>work</td>\n",
       "      <td>399.0</td>\n",
       "      <td>city</td>\n",
       "      <td>5231.0</td>\n",
       "      <td>21</td>\n",
       "      <td>0.0</td>\n",
       "      <td>0</td>\n",
       "    </tr>\n",
       "  </tbody>\n",
       "</table>\n",
       "<p>5 rows × 22 columns</p>\n",
       "</div>"
      ],
      "text/plain": [
       "   Unnamed: 0     gen  age religion   edu  sm_year sm_state  sm_day  \\\n",
       "0           0  female   78      yes    중졸      NaN       no     NaN   \n",
       "1           1    male   75       no  초졸이하      NaN       no     NaN   \n",
       "2           2    male   81      yes  대졸이상      NaN       no     NaN   \n",
       "3           3    male   61      yes  대졸이상      NaN       no     NaN   \n",
       "4           4  female   60      yes    고졸      NaN       no     NaN   \n",
       "\n",
       "  dr_mean_year dr_6cup  ... preg_experience health_state disabled  work_state  \\\n",
       "0      전혀마시지않음     NaN  ...              없다            2    abled      nowork   \n",
       "1      전혀마시지않음     NaN  ...              남성            1    abled        work   \n",
       "2      전혀마시지않음     NaN  ...              남성            4    abled        work   \n",
       "3      전혀마시지않음     NaN  ...              남성            4    abled        work   \n",
       "4      전혀마시지않음     NaN  ...              없다            4    abled        work   \n",
       "\n",
       "  work_code region  income y_total     debt  y_train  \n",
       "0       NaN   city   405.0      20  10350.0        0  \n",
       "1     942.0   city  2788.0      29      0.0        1  \n",
       "2     762.0   city  2304.0      18  21220.0        0  \n",
       "3     855.0   city  5231.0      20      0.0        0  \n",
       "4     399.0   city  5231.0      21      0.0        0  \n",
       "\n",
       "[5 rows x 22 columns]"
      ]
     },
     "execution_count": 3,
     "metadata": {},
     "output_type": "execute_result"
    }
   ],
   "source": [
    "df = pd.read_excel(\"빚추가마지막.xlsx\")\n",
    "df.head()"
   ]
  },
  {
   "cell_type": "code",
   "execution_count": 4,
   "metadata": {},
   "outputs": [
    {
     "name": "stdout",
     "output_type": "stream",
     "text": [
      "<class 'pandas.core.frame.DataFrame'>\n",
      "Index: 5414 entries, 0 to 13473\n",
      "Data columns (total 22 columns):\n",
      " #   Column           Non-Null Count  Dtype  \n",
      "---  ------           --------------  -----  \n",
      " 0   Unnamed: 0       5414 non-null   int64  \n",
      " 1   gen              5414 non-null   object \n",
      " 2   age              5414 non-null   int64  \n",
      " 3   religion         5414 non-null   object \n",
      " 4   edu              5414 non-null   object \n",
      " 5   sm_year          383 non-null    float64\n",
      " 6   sm_state         5414 non-null   object \n",
      " 7   sm_day           1048 non-null   float64\n",
      " 8   dr_mean_year     5414 non-null   object \n",
      " 9   dr_6cup          2955 non-null   object \n",
      " 10  dr_hurt          2955 non-null   object \n",
      " 11  dr_worry         2955 non-null   object \n",
      " 12  preg_experience  5414 non-null   object \n",
      " 13  health_state     5414 non-null   int64  \n",
      " 14  disabled         5414 non-null   object \n",
      " 15  work_state       5414 non-null   object \n",
      " 16  work_code        3801 non-null   float64\n",
      " 17  region           5414 non-null   object \n",
      " 18  income           5414 non-null   float64\n",
      " 19  y_total          5414 non-null   int64  \n",
      " 20  debt             5414 non-null   float64\n",
      " 21  y_train          5414 non-null   int64  \n",
      "dtypes: float64(5), int64(5), object(12)\n",
      "memory usage: 972.8+ KB\n"
     ]
    }
   ],
   "source": [
    "df.loc[(df['income']>0)&(df['debt']>0),:].info()"
   ]
  },
  {
   "cell_type": "code",
   "execution_count": 5,
   "metadata": {},
   "outputs": [],
   "source": [
    "df= df.loc[(df['income']>0)&(df['debt']>0),:]"
   ]
  },
  {
   "cell_type": "code",
   "execution_count": null,
   "metadata": {},
   "outputs": [],
   "source": []
  },
  {
   "cell_type": "code",
   "execution_count": 6,
   "metadata": {},
   "outputs": [
    {
     "data": {
      "text/plain": [
       "<Axes: xlabel='debt', ylabel='income'>"
      ]
     },
     "execution_count": 6,
     "metadata": {},
     "output_type": "execute_result"
    },
    {
     "data": {
      "image/png": "[encoded data removed]",
      "text/plain": [
       "<Figure size 1000x500 with 1 Axes>"
      ]
     },
     "metadata": {},
     "output_type": "display_data"
    }
   ],
   "source": [
    "sns.regplot(data=df,x='debt',y='income')"
   ]
  },
  {
   "cell_type": "code",
   "execution_count": 7,
   "metadata": {},
   "outputs": [
    {
     "data": {
      "text/plain": [
       "<Axes: xlabel='debt', ylabel='y_total'>"
      ]
     },
     "execution_count": 7,
     "metadata": {},
     "output_type": "execute_result"
    },
    {
     "data": {
      "image/png": "[encoded data removed]",
      "text/plain": [
       "<Figure size 1000x500 with 1 Axes>"
      ]
     },
     "metadata": {},
     "output_type": "display_data"
    }
   ],
   "source": [
    "sns.regplot(data=df,x='debt',y='y_total')"
   ]
  },
  {
   "cell_type": "code",
   "execution_count": 11,
   "metadata": {},
   "outputs": [
    {
     "data": {
      "image/png": "[encoded data removed]",
      "text/plain": [
       "<Figure size 1000x500 with 1 Axes>"
      ]
     },
     "metadata": {},
     "output_type": "display_data"
    }
   ],
   "source": [
    "plt.hist(df['debt'], color = 'green', alpha = 0.4, bins = 500)\n",
    "plt.show()"
   ]
  },
  {
   "cell_type": "code",
   "execution_count": 8,
   "metadata": {},
   "outputs": [
    {
     "data": {
      "text/html": [
       "<div>\n",
       "<style scoped>\n",
       "    .dataframe tbody tr th:only-of-type {\n",
       "        vertical-align: middle;\n",
       "    }\n",
       "\n",
       "    .dataframe tbody tr th {\n",
       "        vertical-align: top;\n",
       "    }\n",
       "\n",
       "    .dataframe thead th {\n",
       "        text-align: right;\n",
       "    }\n",
       "</style>\n",
       "<table border=\"1\" class=\"dataframe\">\n",
       "  <thead>\n",
       "    <tr style=\"text-align: right;\">\n",
       "      <th></th>\n",
       "      <th>debt</th>\n",
       "      <th>income</th>\n",
       "    </tr>\n",
       "  </thead>\n",
       "  <tbody>\n",
       "    <tr>\n",
       "      <th>debt</th>\n",
       "      <td>1.000000</td>\n",
       "      <td>0.300693</td>\n",
       "    </tr>\n",
       "    <tr>\n",
       "      <th>income</th>\n",
       "      <td>0.300693</td>\n",
       "      <td>1.000000</td>\n",
       "    </tr>\n",
       "  </tbody>\n",
       "</table>\n",
       "</div>"
      ],
      "text/plain": [
       "            debt    income\n",
       "debt    1.000000  0.300693\n",
       "income  0.300693  1.000000"
      ]
     },
     "execution_count": 8,
     "metadata": {},
     "output_type": "execute_result"
    }
   ],
   "source": [
    "corr  = df[['debt','income']].corr()\n",
    "corr"
   ]
  },
  {
   "cell_type": "code",
   "execution_count": 9,
   "metadata": {},
   "outputs": [
    {
     "data": {
      "text/plain": [
       "Unnamed: 0           int64\n",
       "gen                 object\n",
       "age                  int64\n",
       "religion            object\n",
       "edu                 object\n",
       "sm_year            float64\n",
       "sm_state            object\n",
       "sm_day             float64\n",
       "dr_mean_year        object\n",
       "dr_6cup             object\n",
       "dr_hurt             object\n",
       "dr_worry            object\n",
       "preg_experience     object\n",
       "health_state         int64\n",
       "disabled            object\n",
       "work_state          object\n",
       "work_code          float64\n",
       "region              object\n",
       "income             float64\n",
       "y_total              int64\n",
       "debt               float64\n",
       "y_train              int64\n",
       "dtype: object"
      ]
     },
     "execution_count": 9,
     "metadata": {},
     "output_type": "execute_result"
    }
   ],
   "source": [
    "df.dtypes"
   ]
  },
  {
   "cell_type": "code",
   "execution_count": 129,
   "metadata": {},
   "outputs": [
    {
     "data": {
      "text/html": [
       "<div>\n",
       "<style scoped>\n",
       "    .dataframe tbody tr th:only-of-type {\n",
       "        vertical-align: middle;\n",
       "    }\n",
       "\n",
       "    .dataframe tbody tr th {\n",
       "        vertical-align: top;\n",
       "    }\n",
       "\n",
       "    .dataframe thead th {\n",
       "        text-align: right;\n",
       "    }\n",
       "</style>\n",
       "<table border=\"1\" class=\"dataframe\">\n",
       "  <thead>\n",
       "    <tr style=\"text-align: right;\">\n",
       "      <th></th>\n",
       "      <th>Unnamed: 0</th>\n",
       "      <th>gen</th>\n",
       "      <th>age</th>\n",
       "      <th>religion</th>\n",
       "      <th>edu</th>\n",
       "      <th>sm_year</th>\n",
       "      <th>sm_state</th>\n",
       "      <th>sm_day</th>\n",
       "      <th>dr_mean_year</th>\n",
       "      <th>dr_6cup</th>\n",
       "      <th>...</th>\n",
       "      <th>health_state</th>\n",
       "      <th>disabled</th>\n",
       "      <th>work_state</th>\n",
       "      <th>work_code</th>\n",
       "      <th>region</th>\n",
       "      <th>income</th>\n",
       "      <th>y_total</th>\n",
       "      <th>debt</th>\n",
       "      <th>y_train</th>\n",
       "      <th>age_range</th>\n",
       "    </tr>\n",
       "  </thead>\n",
       "  <tbody>\n",
       "    <tr>\n",
       "      <th>0</th>\n",
       "      <td>0</td>\n",
       "      <td>female</td>\n",
       "      <td>78</td>\n",
       "      <td>yes</td>\n",
       "      <td>중졸</td>\n",
       "      <td>NaN</td>\n",
       "      <td>no</td>\n",
       "      <td>NaN</td>\n",
       "      <td>전혀마시지않음</td>\n",
       "      <td>NaN</td>\n",
       "      <td>...</td>\n",
       "      <td>2</td>\n",
       "      <td>abled</td>\n",
       "      <td>nowork</td>\n",
       "      <td>NaN</td>\n",
       "      <td>city</td>\n",
       "      <td>405.0</td>\n",
       "      <td>20</td>\n",
       "      <td>10350.0</td>\n",
       "      <td>0</td>\n",
       "      <td>60세 이상</td>\n",
       "    </tr>\n",
       "    <tr>\n",
       "      <th>2</th>\n",
       "      <td>2</td>\n",
       "      <td>male</td>\n",
       "      <td>81</td>\n",
       "      <td>yes</td>\n",
       "      <td>대졸이상</td>\n",
       "      <td>NaN</td>\n",
       "      <td>no</td>\n",
       "      <td>NaN</td>\n",
       "      <td>전혀마시지않음</td>\n",
       "      <td>NaN</td>\n",
       "      <td>...</td>\n",
       "      <td>4</td>\n",
       "      <td>abled</td>\n",
       "      <td>work</td>\n",
       "      <td>762.0</td>\n",
       "      <td>city</td>\n",
       "      <td>2304.0</td>\n",
       "      <td>18</td>\n",
       "      <td>21220.0</td>\n",
       "      <td>0</td>\n",
       "      <td>60세 이상</td>\n",
       "    </tr>\n",
       "    <tr>\n",
       "      <th>8</th>\n",
       "      <td>8</td>\n",
       "      <td>female</td>\n",
       "      <td>53</td>\n",
       "      <td>yes</td>\n",
       "      <td>고졸</td>\n",
       "      <td>NaN</td>\n",
       "      <td>no</td>\n",
       "      <td>NaN</td>\n",
       "      <td>전혀마시지않음</td>\n",
       "      <td>NaN</td>\n",
       "      <td>...</td>\n",
       "      <td>2</td>\n",
       "      <td>abled</td>\n",
       "      <td>work</td>\n",
       "      <td>151.0</td>\n",
       "      <td>city</td>\n",
       "      <td>2290.8</td>\n",
       "      <td>21</td>\n",
       "      <td>1020.0</td>\n",
       "      <td>0</td>\n",
       "      <td>50~59세</td>\n",
       "    </tr>\n",
       "    <tr>\n",
       "      <th>9</th>\n",
       "      <td>9</td>\n",
       "      <td>female</td>\n",
       "      <td>31</td>\n",
       "      <td>no</td>\n",
       "      <td>중졸</td>\n",
       "      <td>NaN</td>\n",
       "      <td>no</td>\n",
       "      <td>NaN</td>\n",
       "      <td>전혀마시지않음</td>\n",
       "      <td>NaN</td>\n",
       "      <td>...</td>\n",
       "      <td>2</td>\n",
       "      <td>abled</td>\n",
       "      <td>nowork</td>\n",
       "      <td>NaN</td>\n",
       "      <td>city</td>\n",
       "      <td>2290.8</td>\n",
       "      <td>17</td>\n",
       "      <td>1020.0</td>\n",
       "      <td>0</td>\n",
       "      <td>30~39세</td>\n",
       "    </tr>\n",
       "    <tr>\n",
       "      <th>13</th>\n",
       "      <td>13</td>\n",
       "      <td>male</td>\n",
       "      <td>45</td>\n",
       "      <td>no</td>\n",
       "      <td>대졸이상</td>\n",
       "      <td>NaN</td>\n",
       "      <td>yes</td>\n",
       "      <td>14.0</td>\n",
       "      <td>월2~3회</td>\n",
       "      <td>연1회</td>\n",
       "      <td>...</td>\n",
       "      <td>4</td>\n",
       "      <td>abled</td>\n",
       "      <td>work</td>\n",
       "      <td>399.0</td>\n",
       "      <td>city</td>\n",
       "      <td>5958.0</td>\n",
       "      <td>20</td>\n",
       "      <td>12921.0</td>\n",
       "      <td>0</td>\n",
       "      <td>40~49세</td>\n",
       "    </tr>\n",
       "  </tbody>\n",
       "</table>\n",
       "<p>5 rows × 23 columns</p>\n",
       "</div>"
      ],
      "text/plain": [
       "    Unnamed: 0     gen  age religion   edu  sm_year sm_state  sm_day  \\\n",
       "0            0  female   78      yes    중졸      NaN       no     NaN   \n",
       "2            2    male   81      yes  대졸이상      NaN       no     NaN   \n",
       "8            8  female   53      yes    고졸      NaN       no     NaN   \n",
       "9            9  female   31       no    중졸      NaN       no     NaN   \n",
       "13          13    male   45       no  대졸이상      NaN      yes    14.0   \n",
       "\n",
       "   dr_mean_year dr_6cup  ... health_state disabled work_state  work_code  \\\n",
       "0       전혀마시지않음     NaN  ...            2    abled     nowork        NaN   \n",
       "2       전혀마시지않음     NaN  ...            4    abled       work      762.0   \n",
       "8       전혀마시지않음     NaN  ...            2    abled       work      151.0   \n",
       "9       전혀마시지않음     NaN  ...            2    abled     nowork        NaN   \n",
       "13        월2~3회     연1회  ...            4    abled       work      399.0   \n",
       "\n",
       "   region  income  y_total     debt  y_train  age_range  \n",
       "0    city   405.0       20  10350.0        0     60세 이상  \n",
       "2    city  2304.0       18  21220.0        0     60세 이상  \n",
       "8    city  2290.8       21   1020.0        0     50~59세  \n",
       "9    city  2290.8       17   1020.0        0     30~39세  \n",
       "13   city  5958.0       20  12921.0        0     40~49세  \n",
       "\n",
       "[5 rows x 23 columns]"
      ]
     },
     "execution_count": 129,
     "metadata": {},
     "output_type": "execute_result"
    }
   ],
   "source": [
    "bins = [20,29,39,49,59,99]\n",
    "labels = ['19~29세','30~39세','40~49세','50~59세','60세 이상']\n",
    "\n",
    "cuts = pd.cut(df['age'],bins,labels=labels)\n",
    "df['age_range'] = cuts\n",
    "df.head()"
   ]
  },
  {
   "cell_type": "markdown",
   "metadata": {},
   "source": [
    "### 전체적인 경향성은 나이가 많아질수록 우울감이 높게 나타난다. 특히 노년층의 우울감은 굉장히 높다"
   ]
  },
  {
   "cell_type": "code",
   "execution_count": 130,
   "metadata": {},
   "outputs": [
    {
     "data": {
      "text/plain": [
       "<seaborn.axisgrid.FacetGrid at 0x190a9086050>"
      ]
     },
     "execution_count": 130,
     "metadata": {},
     "output_type": "execute_result"
    },
    {
     "data": {
      "image/png": "[encoded data removed]",
      "text/plain": [
       "<Figure size 569.125x500 with 1 Axes>"
      ]
     },
     "metadata": {},
     "output_type": "display_data"
    }
   ],
   "source": [
    "sns.catplot(data=df.loc[df['y_train']==1],x='age_range',kind='count',hue='y_train')"
   ]
  },
  {
   "cell_type": "markdown",
   "metadata": {},
   "source": [
    "종교에 따른 우울감 경험여부는 차이가 없는것으로 보임"
   ]
  },
  {
   "cell_type": "code",
   "execution_count": 131,
   "metadata": {},
   "outputs": [
    {
     "data": {
      "text/plain": [
       "<seaborn.axisgrid.FacetGrid at 0x190a909eb90>"
      ]
     },
     "execution_count": 131,
     "metadata": {},
     "output_type": "execute_result"
    },
    {
     "data": {
      "image/png": "[encoded data removed]",
      "text/plain": [
       "<Figure size 569.25x500 with 1 Axes>"
      ]
     },
     "metadata": {},
     "output_type": "display_data"
    }
   ],
   "source": [
    "sns.catplot(data=df,x='religion',kind='count',hue='y_train')"
   ]
  },
  {
   "cell_type": "markdown",
   "metadata": {},
   "source": [
    "교육수준에 따른 우울감 경험여부의 비율은 초졸인 사람들이 가장높았음."
   ]
  },
  {
   "cell_type": "code",
   "execution_count": 132,
   "metadata": {},
   "outputs": [
    {
     "data": {
      "image/png": "[encoded data removed]",
      "text/plain": [
       "<Figure size 569.25x500 with 1 Axes>"
      ]
     },
     "metadata": {},
     "output_type": "display_data"
    }
   ],
   "source": [
    "sns.catplot(data=df,x='edu',kind='count',hue='y_train')\n",
    "plt.show()\n",
    "plt.close()"
   ]
  },
  {
   "cell_type": "markdown",
   "metadata": {},
   "source": [
    "흡연여부는 애매함. -> 다운샘플링 진행"
   ]
  },
  {
   "cell_type": "code",
   "execution_count": 133,
   "metadata": {},
   "outputs": [
    {
     "data": {
      "text/plain": [
       "<seaborn.axisgrid.FacetGrid at 0x190aa0ee950>"
      ]
     },
     "execution_count": 133,
     "metadata": {},
     "output_type": "execute_result"
    },
    {
     "data": {
      "image/png": "[encoded data removed]",
      "text/plain": [
       "<Figure size 569.25x500 with 1 Axes>"
      ]
     },
     "metadata": {},
     "output_type": "display_data"
    }
   ],
   "source": [
    "sns.catplot(data=df,x='sm_state',kind='count',hue='y_train')"
   ]
  },
  {
   "cell_type": "code",
   "execution_count": 134,
   "metadata": {},
   "outputs": [],
   "source": [
    "from sklearn.utils import resample\n",
    "\n",
    "subset_city_downsampled = resample(df[df['sm_state']=='no'],\n",
    "                            replace=False,\n",
    "                            n_samples =1048 ,\n",
    "                            random_state = 2020)\n",
    "                            \n"
   ]
  },
  {
   "cell_type": "markdown",
   "metadata": {},
   "source": []
  },
  {
   "cell_type": "code",
   "execution_count": 135,
   "metadata": {},
   "outputs": [
    {
     "data": {
      "text/plain": [
       "sm_state\n",
       "yes    1048\n",
       "no     1048\n",
       "Name: count, dtype: int64"
      ]
     },
     "execution_count": 135,
     "metadata": {},
     "output_type": "execute_result"
    }
   ],
   "source": [
    "sm_data = pd.concat([df[df['sm_state']=='yes'],subset_city_downsampled])\n",
    "sm_data['sm_state'].value_counts()"
   ]
  },
  {
   "cell_type": "markdown",
   "metadata": {},
   "source": [
    "별차이 없음>\n"
   ]
  },
  {
   "cell_type": "code",
   "execution_count": 136,
   "metadata": {},
   "outputs": [
    {
     "data": {
      "text/plain": [
       "<seaborn.axisgrid.FacetGrid at 0x190a933f490>"
      ]
     },
     "execution_count": 136,
     "metadata": {},
     "output_type": "execute_result"
    },
    {
     "data": {
      "image/png": "[encoded data removed]",
      "text/plain": [
       "<Figure size 569.25x500 with 1 Axes>"
      ]
     },
     "metadata": {},
     "output_type": "display_data"
    }
   ],
   "source": [
    "sns.catplot(data=sm_data,x='sm_state',kind='count',hue='y_train')"
   ]
  },
  {
   "cell_type": "markdown",
   "metadata": {},
   "source": [
    "연평균 음주량도 별 차이 없어보임."
   ]
  },
  {
   "cell_type": "code",
   "execution_count": 137,
   "metadata": {},
   "outputs": [
    {
     "data": {
      "text/plain": [
       "<seaborn.axisgrid.FacetGrid at 0x190aa19f8d0>"
      ]
     },
     "execution_count": 137,
     "metadata": {},
     "output_type": "execute_result"
    },
    {
     "data": {
      "image/png": "[encoded data removed]",
      "text/plain": [
       "<Figure size 569.25x500 with 1 Axes>"
      ]
     },
     "metadata": {},
     "output_type": "display_data"
    }
   ],
   "source": [
    "sns.catplot(data=df,x='dr_mean_year',kind='count',hue='y_train')"
   ]
  },
  {
   "cell_type": "code",
   "execution_count": 138,
   "metadata": {},
   "outputs": [
    {
     "data": {
      "text/plain": [
       "0"
      ]
     },
     "execution_count": 138,
     "metadata": {},
     "output_type": "execute_result"
    }
   ],
   "source": [
    "over_dr = df.loc[df['dr_6cup'].notnull(),:]\n",
    "\n",
    "over_dr['dr_6cup'].isnull().sum()"
   ]
  },
  {
   "cell_type": "markdown",
   "metadata": {},
   "source": [
    "술을 한번마실때 6잔 이상 마시는 사람들이 우울감을 느끼는가에 대한 가설은 의미 x"
   ]
  },
  {
   "cell_type": "code",
   "execution_count": 139,
   "metadata": {},
   "outputs": [
    {
     "data": {
      "text/plain": [
       "<seaborn.axisgrid.FacetGrid at 0x190aa271fd0>"
      ]
     },
     "execution_count": 139,
     "metadata": {},
     "output_type": "execute_result"
    },
    {
     "data": {
      "image/png": "[encoded data removed]",
      "text/plain": [
       "<Figure size 569.125x500 with 1 Axes>"
      ]
     },
     "metadata": {},
     "output_type": "display_data"
    }
   ],
   "source": [
    "sns.catplot(data=over_dr.loc[over_dr['y_train']==1],x='dr_6cup',kind='count',hue='y_train')"
   ]
  },
  {
   "cell_type": "markdown",
   "metadata": {},
   "source": [
    "임신경험 여부는 별 차이 없음"
   ]
  },
  {
   "cell_type": "code",
   "execution_count": 140,
   "metadata": {},
   "outputs": [
    {
     "data": {
      "text/plain": [
       "<seaborn.axisgrid.FacetGrid at 0x190a95da710>"
      ]
     },
     "execution_count": 140,
     "metadata": {},
     "output_type": "execute_result"
    },
    {
     "data": {
      "image/png": "[encoded data removed]",
      "text/plain": [
       "<Figure size 569.25x500 with 1 Axes>"
      ]
     },
     "metadata": {},
     "output_type": "display_data"
    }
   ],
   "source": [
    "woman = df.loc[df['preg_experience']!='남성']\n",
    "sns.catplot(data=woman,x='preg_experience',kind='count',hue='y_train')"
   ]
  },
  {
   "cell_type": "code",
   "execution_count": 141,
   "metadata": {},
   "outputs": [],
   "source": [
    "\n",
    "subset_city_downsampled = resample(woman[woman['preg_experience']=='없다'],\n",
    "                            replace=False,\n",
    "                            n_samples =57 ,\n",
    "                            random_state = 2020)"
   ]
  },
  {
   "cell_type": "code",
   "execution_count": 142,
   "metadata": {},
   "outputs": [
    {
     "data": {
      "text/plain": [
       "preg_experience\n",
       "있다    57\n",
       "없다    57\n",
       "Name: count, dtype: int64"
      ]
     },
     "execution_count": 142,
     "metadata": {},
     "output_type": "execute_result"
    }
   ],
   "source": [
    "sm_data = pd.concat([woman[woman['preg_experience']=='있다'],subset_city_downsampled])\n",
    "sm_data['preg_experience'].value_counts()"
   ]
  },
  {
   "cell_type": "code",
   "execution_count": 143,
   "metadata": {},
   "outputs": [
    {
     "data": {
      "text/plain": [
       "<seaborn.axisgrid.FacetGrid at 0x190a967b110>"
      ]
     },
     "execution_count": 143,
     "metadata": {},
     "output_type": "execute_result"
    },
    {
     "data": {
      "image/png": "[encoded data removed]",
      "text/plain": [
       "<Figure size 569.25x500 with 1 Axes>"
      ]
     },
     "metadata": {},
     "output_type": "display_data"
    }
   ],
   "source": [
    "sns.catplot(data=sm_data,x='preg_experience',kind='count',hue='y_train')"
   ]
  },
  {
   "cell_type": "markdown",
   "metadata": {},
   "source": [
    "건강 만족도가 높아지면 우울감을 경험하는 경우가 적다."
   ]
  },
  {
   "cell_type": "code",
   "execution_count": 144,
   "metadata": {},
   "outputs": [
    {
     "data": {
      "text/html": [
       "<div>\n",
       "<style scoped>\n",
       "    .dataframe tbody tr th:only-of-type {\n",
       "        vertical-align: middle;\n",
       "    }\n",
       "\n",
       "    .dataframe tbody tr th {\n",
       "        vertical-align: top;\n",
       "    }\n",
       "\n",
       "    .dataframe thead th {\n",
       "        text-align: right;\n",
       "    }\n",
       "</style>\n",
       "<table border=\"1\" class=\"dataframe\">\n",
       "  <thead>\n",
       "    <tr style=\"text-align: right;\">\n",
       "      <th></th>\n",
       "      <th>health_state</th>\n",
       "      <th>y_total</th>\n",
       "    </tr>\n",
       "  </thead>\n",
       "  <tbody>\n",
       "    <tr>\n",
       "      <th>health_state</th>\n",
       "      <td>1.000000</td>\n",
       "      <td>-0.342151</td>\n",
       "    </tr>\n",
       "    <tr>\n",
       "      <th>y_total</th>\n",
       "      <td>-0.342151</td>\n",
       "      <td>1.000000</td>\n",
       "    </tr>\n",
       "  </tbody>\n",
       "</table>\n",
       "</div>"
      ],
      "text/plain": [
       "              health_state   y_total\n",
       "health_state      1.000000 -0.342151\n",
       "y_total          -0.342151  1.000000"
      ]
     },
     "execution_count": 144,
     "metadata": {},
     "output_type": "execute_result"
    },
    {
     "data": {
      "image/png": "[encoded data removed]",
      "text/plain": [
       "<Figure size 1000x500 with 1 Axes>"
      ]
     },
     "metadata": {},
     "output_type": "display_data"
    }
   ],
   "source": [
    "sns.regplot(data=df,x='health_state',y='y_total')\n",
    "corr = df[['health_state','y_total']].corr(method='pearson')\n",
    "corr"
   ]
  },
  {
   "cell_type": "markdown",
   "metadata": {},
   "source": [
    "장애여부는 데이터의 크기 차이가 심해서 비교하기 애매함 -> 다운샘플링"
   ]
  },
  {
   "cell_type": "code",
   "execution_count": 145,
   "metadata": {},
   "outputs": [
    {
     "data": {
      "text/plain": [
       "<seaborn.axisgrid.FacetGrid at 0x190aa03c510>"
      ]
     },
     "execution_count": 145,
     "metadata": {},
     "output_type": "execute_result"
    },
    {
     "data": {
      "image/png": "[encoded data removed]",
      "text/plain": [
       "<Figure size 569.25x500 with 1 Axes>"
      ]
     },
     "metadata": {},
     "output_type": "display_data"
    }
   ],
   "source": [
    "sns.catplot(data=df,x='disabled',kind='count',hue='y_train')"
   ]
  },
  {
   "cell_type": "code",
   "execution_count": 146,
   "metadata": {},
   "outputs": [
    {
     "data": {
      "text/plain": [
       "disabled\n",
       "abled       319\n",
       "disabled    318\n",
       "Name: count, dtype: int64"
      ]
     },
     "execution_count": 146,
     "metadata": {},
     "output_type": "execute_result"
    }
   ],
   "source": [
    "subset_city_downsampled = resample(df[df['disabled']=='abled'],\n",
    "                            replace=False,\n",
    "                            n_samples =319 ,\n",
    "                            random_state = 2020)\n",
    "able = pd.concat([df[df['disabled']=='disabled'],subset_city_downsampled])\n",
    "able['disabled'].value_counts()"
   ]
  },
  {
   "cell_type": "markdown",
   "metadata": {},
   "source": [
    "차이 있음"
   ]
  },
  {
   "cell_type": "code",
   "execution_count": 147,
   "metadata": {},
   "outputs": [
    {
     "data": {
      "text/plain": [
       "<seaborn.axisgrid.FacetGrid at 0x190a946e450>"
      ]
     },
     "execution_count": 147,
     "metadata": {},
     "output_type": "execute_result"
    },
    {
     "data": {
      "image/png": "[encoded data removed]",
      "text/plain": [
       "<Figure size 569.25x500 with 1 Axes>"
      ]
     },
     "metadata": {},
     "output_type": "display_data"
    }
   ],
   "source": [
    "sns.catplot(data=able,x='disabled',kind='count',hue='y_train')"
   ]
  },
  {
   "cell_type": "code",
   "execution_count": 148,
   "metadata": {},
   "outputs": [
    {
     "data": {
      "text/plain": [
       "array(['nowork', 'work'], dtype=object)"
      ]
     },
     "execution_count": 148,
     "metadata": {},
     "output_type": "execute_result"
    }
   ],
   "source": [
    "df['work_state'].unique()"
   ]
  },
  {
   "cell_type": "markdown",
   "metadata": {},
   "source": [
    "노동여부에 따라 차이 많이 남"
   ]
  },
  {
   "cell_type": "code",
   "execution_count": 149,
   "metadata": {},
   "outputs": [
    {
     "data": {
      "text/plain": [
       "<seaborn.axisgrid.FacetGrid at 0x190a940f610>"
      ]
     },
     "execution_count": 149,
     "metadata": {},
     "output_type": "execute_result"
    },
    {
     "data": {
      "image/png": "[encoded data removed]",
      "text/plain": [
       "<Figure size 569.25x500 with 1 Axes>"
      ]
     },
     "metadata": {},
     "output_type": "display_data"
    }
   ],
   "source": [
    "sns.catplot(data=df,x='work_state',kind='count',hue='y_train')"
   ]
  },
  {
   "cell_type": "markdown",
   "metadata": {},
   "source": [
    "사는 지역에 따라 우울감 경험의차이는 없ㅇ므"
   ]
  },
  {
   "cell_type": "code",
   "execution_count": 150,
   "metadata": {},
   "outputs": [
    {
     "data": {
      "text/plain": [
       "<seaborn.axisgrid.FacetGrid at 0x190a9863e10>"
      ]
     },
     "execution_count": 150,
     "metadata": {},
     "output_type": "execute_result"
    },
    {
     "data": {
      "image/png": "[encoded data removed]",
      "text/plain": [
       "<Figure size 569.25x500 with 1 Axes>"
      ]
     },
     "metadata": {},
     "output_type": "display_data"
    }
   ],
   "source": [
    "sns.catplot(data=df,x='region',kind='count',hue='y_train')"
   ]
  },
  {
   "cell_type": "code",
   "execution_count": 151,
   "metadata": {},
   "outputs": [
    {
     "data": {
      "text/plain": [
       "region\n",
       "country    696\n",
       "city       696\n",
       "Name: count, dtype: int64"
      ]
     },
     "execution_count": 151,
     "metadata": {},
     "output_type": "execute_result"
    }
   ],
   "source": [
    "\n",
    "subset_city_downsampled = resample(df[df['region']=='city'],\n",
    "                            replace=False,\n",
    "                            n_samples =696 ,\n",
    "                            random_state = 2020)\n",
    "city = pd.concat([df[df['region']=='country'],subset_city_downsampled])\n",
    "city['region'].value_counts()"
   ]
  },
  {
   "cell_type": "code",
   "execution_count": 152,
   "metadata": {},
   "outputs": [
    {
     "data": {
      "text/plain": [
       "<seaborn.axisgrid.FacetGrid at 0x190a9790790>"
      ]
     },
     "execution_count": 152,
     "metadata": {},
     "output_type": "execute_result"
    },
    {
     "data": {
      "image/png": "[encoded data removed]",
      "text/plain": [
       "<Figure size 569.25x500 with 1 Axes>"
      ]
     },
     "metadata": {},
     "output_type": "display_data"
    }
   ],
   "source": [
    "sns.catplot(data=city,x='region',kind='count',hue='y_train')"
   ]
  },
  {
   "cell_type": "markdown",
   "metadata": {},
   "source": [
    "성별에 따른 차이 잇음"
   ]
  },
  {
   "cell_type": "code",
   "execution_count": 153,
   "metadata": {},
   "outputs": [
    {
     "data": {
      "text/plain": [
       "<seaborn.axisgrid.FacetGrid at 0x190a946fe10>"
      ]
     },
     "execution_count": 153,
     "metadata": {},
     "output_type": "execute_result"
    },
    {
     "data": {
      "image/png": "[encoded data removed]",
      "text/plain": [
       "<Figure size 569.25x500 with 1 Axes>"
      ]
     },
     "metadata": {},
     "output_type": "display_data"
    }
   ],
   "source": [
    "sns.catplot(data=df,x='gen',kind='count',hue='y_train')"
   ]
  },
  {
   "cell_type": "code",
   "execution_count": 154,
   "metadata": {},
   "outputs": [
    {
     "data": {
      "text/html": [
       "<div>\n",
       "<style scoped>\n",
       "    .dataframe tbody tr th:only-of-type {\n",
       "        vertical-align: middle;\n",
       "    }\n",
       "\n",
       "    .dataframe tbody tr th {\n",
       "        vertical-align: top;\n",
       "    }\n",
       "\n",
       "    .dataframe thead th {\n",
       "        text-align: right;\n",
       "    }\n",
       "</style>\n",
       "<table border=\"1\" class=\"dataframe\">\n",
       "  <thead>\n",
       "    <tr style=\"text-align: right;\">\n",
       "      <th></th>\n",
       "      <th>Unnamed: 0</th>\n",
       "      <th>gen</th>\n",
       "      <th>age</th>\n",
       "      <th>religion</th>\n",
       "      <th>edu</th>\n",
       "      <th>sm_year</th>\n",
       "      <th>sm_state</th>\n",
       "      <th>sm_day</th>\n",
       "      <th>dr_mean_year</th>\n",
       "      <th>dr_6cup</th>\n",
       "      <th>...</th>\n",
       "      <th>health_state</th>\n",
       "      <th>disabled</th>\n",
       "      <th>work_state</th>\n",
       "      <th>work_code</th>\n",
       "      <th>region</th>\n",
       "      <th>income</th>\n",
       "      <th>y_total</th>\n",
       "      <th>debt</th>\n",
       "      <th>y_train</th>\n",
       "      <th>age_range</th>\n",
       "    </tr>\n",
       "  </thead>\n",
       "  <tbody>\n",
       "    <tr>\n",
       "      <th>0</th>\n",
       "      <td>0</td>\n",
       "      <td>female</td>\n",
       "      <td>78</td>\n",
       "      <td>yes</td>\n",
       "      <td>중졸</td>\n",
       "      <td>NaN</td>\n",
       "      <td>no</td>\n",
       "      <td>NaN</td>\n",
       "      <td>전혀마시지않음</td>\n",
       "      <td>NaN</td>\n",
       "      <td>...</td>\n",
       "      <td>2</td>\n",
       "      <td>abled</td>\n",
       "      <td>nowork</td>\n",
       "      <td>NaN</td>\n",
       "      <td>city</td>\n",
       "      <td>405.0</td>\n",
       "      <td>20</td>\n",
       "      <td>10350.0</td>\n",
       "      <td>0</td>\n",
       "      <td>60세 이상</td>\n",
       "    </tr>\n",
       "    <tr>\n",
       "      <th>2</th>\n",
       "      <td>2</td>\n",
       "      <td>male</td>\n",
       "      <td>81</td>\n",
       "      <td>yes</td>\n",
       "      <td>대졸이상</td>\n",
       "      <td>NaN</td>\n",
       "      <td>no</td>\n",
       "      <td>NaN</td>\n",
       "      <td>전혀마시지않음</td>\n",
       "      <td>NaN</td>\n",
       "      <td>...</td>\n",
       "      <td>4</td>\n",
       "      <td>abled</td>\n",
       "      <td>work</td>\n",
       "      <td>762.0</td>\n",
       "      <td>city</td>\n",
       "      <td>2304.0</td>\n",
       "      <td>18</td>\n",
       "      <td>21220.0</td>\n",
       "      <td>0</td>\n",
       "      <td>60세 이상</td>\n",
       "    </tr>\n",
       "    <tr>\n",
       "      <th>8</th>\n",
       "      <td>8</td>\n",
       "      <td>female</td>\n",
       "      <td>53</td>\n",
       "      <td>yes</td>\n",
       "      <td>고졸</td>\n",
       "      <td>NaN</td>\n",
       "      <td>no</td>\n",
       "      <td>NaN</td>\n",
       "      <td>전혀마시지않음</td>\n",
       "      <td>NaN</td>\n",
       "      <td>...</td>\n",
       "      <td>2</td>\n",
       "      <td>abled</td>\n",
       "      <td>work</td>\n",
       "      <td>151.0</td>\n",
       "      <td>city</td>\n",
       "      <td>2290.8</td>\n",
       "      <td>21</td>\n",
       "      <td>1020.0</td>\n",
       "      <td>0</td>\n",
       "      <td>50~59세</td>\n",
       "    </tr>\n",
       "    <tr>\n",
       "      <th>9</th>\n",
       "      <td>9</td>\n",
       "      <td>female</td>\n",
       "      <td>31</td>\n",
       "      <td>no</td>\n",
       "      <td>중졸</td>\n",
       "      <td>NaN</td>\n",
       "      <td>no</td>\n",
       "      <td>NaN</td>\n",
       "      <td>전혀마시지않음</td>\n",
       "      <td>NaN</td>\n",
       "      <td>...</td>\n",
       "      <td>2</td>\n",
       "      <td>abled</td>\n",
       "      <td>nowork</td>\n",
       "      <td>NaN</td>\n",
       "      <td>city</td>\n",
       "      <td>2290.8</td>\n",
       "      <td>17</td>\n",
       "      <td>1020.0</td>\n",
       "      <td>0</td>\n",
       "      <td>30~39세</td>\n",
       "    </tr>\n",
       "    <tr>\n",
       "      <th>13</th>\n",
       "      <td>13</td>\n",
       "      <td>male</td>\n",
       "      <td>45</td>\n",
       "      <td>no</td>\n",
       "      <td>대졸이상</td>\n",
       "      <td>NaN</td>\n",
       "      <td>yes</td>\n",
       "      <td>14.0</td>\n",
       "      <td>월2~3회</td>\n",
       "      <td>연1회</td>\n",
       "      <td>...</td>\n",
       "      <td>4</td>\n",
       "      <td>abled</td>\n",
       "      <td>work</td>\n",
       "      <td>399.0</td>\n",
       "      <td>city</td>\n",
       "      <td>5958.0</td>\n",
       "      <td>20</td>\n",
       "      <td>12921.0</td>\n",
       "      <td>0</td>\n",
       "      <td>40~49세</td>\n",
       "    </tr>\n",
       "  </tbody>\n",
       "</table>\n",
       "<p>5 rows × 23 columns</p>\n",
       "</div>"
      ],
      "text/plain": [
       "    Unnamed: 0     gen  age religion   edu  sm_year sm_state  sm_day  \\\n",
       "0            0  female   78      yes    중졸      NaN       no     NaN   \n",
       "2            2    male   81      yes  대졸이상      NaN       no     NaN   \n",
       "8            8  female   53      yes    고졸      NaN       no     NaN   \n",
       "9            9  female   31       no    중졸      NaN       no     NaN   \n",
       "13          13    male   45       no  대졸이상      NaN      yes    14.0   \n",
       "\n",
       "   dr_mean_year dr_6cup  ... health_state disabled work_state  work_code  \\\n",
       "0       전혀마시지않음     NaN  ...            2    abled     nowork        NaN   \n",
       "2       전혀마시지않음     NaN  ...            4    abled       work      762.0   \n",
       "8       전혀마시지않음     NaN  ...            2    abled       work      151.0   \n",
       "9       전혀마시지않음     NaN  ...            2    abled     nowork        NaN   \n",
       "13        월2~3회     연1회  ...            4    abled       work      399.0   \n",
       "\n",
       "   region  income  y_total     debt  y_train  age_range  \n",
       "0    city   405.0       20  10350.0        0     60세 이상  \n",
       "2    city  2304.0       18  21220.0        0     60세 이상  \n",
       "8    city  2290.8       21   1020.0        0     50~59세  \n",
       "9    city  2290.8       17   1020.0        0     30~39세  \n",
       "13   city  5958.0       20  12921.0        0     40~49세  \n",
       "\n",
       "[5 rows x 23 columns]"
      ]
     },
     "execution_count": 154,
     "metadata": {},
     "output_type": "execute_result"
    }
   ],
   "source": [
    "df.head()"
   ]
  },
  {
   "cell_type": "code",
   "execution_count": 155,
   "metadata": {},
   "outputs": [
    {
     "data": {
      "text/plain": [
       "Index(['Unnamed: 0', 'gen', 'age', 'religion', 'edu', 'sm_year', 'sm_state',\n",
       "       'sm_day', 'dr_mean_year', 'dr_6cup', 'dr_hurt', 'dr_worry',\n",
       "       'preg_experience', 'health_state', 'disabled', 'work_state',\n",
       "       'work_code', 'region', 'income', 'y_total', 'debt', 'y_train',\n",
       "       'age_range'],\n",
       "      dtype='object')"
      ]
     },
     "execution_count": 155,
     "metadata": {},
     "output_type": "execute_result"
    }
   ],
   "source": [
    "df.columns"
   ]
  },
  {
   "cell_type": "code",
   "execution_count": 156,
   "metadata": {},
   "outputs": [
    {
     "data": {
      "text/plain": [
       "array(['60세 이상', '50~59세', '30~39세', '40~49세', '19~29세', 'nan'],\n",
       "      dtype=object)"
      ]
     },
     "execution_count": 156,
     "metadata": {},
     "output_type": "execute_result"
    }
   ],
   "source": [
    "df['age_range']= df['age_range'].astype('str')\n",
    "df['age_range'].unique()"
   ]
  },
  {
   "cell_type": "code",
   "execution_count": 157,
   "metadata": {},
   "outputs": [],
   "source": [
    "df['age_range'] = df['age_range'].fillna(0)\n",
    "df = df.loc[df['age_range']!=0,:]\n"
   ]
  },
  {
   "cell_type": "code",
   "execution_count": 158,
   "metadata": {},
   "outputs": [
    {
     "data": {
      "text/plain": [
       "Unnamed: 0            0\n",
       "gen                   0\n",
       "age                   0\n",
       "religion              0\n",
       "edu                   0\n",
       "sm_year            5031\n",
       "sm_state              0\n",
       "sm_day             4366\n",
       "dr_mean_year          0\n",
       "dr_6cup            2459\n",
       "dr_hurt            2459\n",
       "dr_worry           2459\n",
       "preg_experience       0\n",
       "health_state          0\n",
       "disabled              0\n",
       "work_state            0\n",
       "work_code          1613\n",
       "region                0\n",
       "income                0\n",
       "y_total               0\n",
       "debt                  0\n",
       "y_train               0\n",
       "age_range             0\n",
       "dtype: int64"
      ]
     },
     "execution_count": 158,
     "metadata": {},
     "output_type": "execute_result"
    }
   ],
   "source": [
    "df.isnull().sum()"
   ]
  },
  {
   "cell_type": "code",
   "execution_count": 159,
   "metadata": {},
   "outputs": [],
   "source": [
    "from statsmodels.formula.api import logit"
   ]
  },
  {
   "cell_type": "code",
   "execution_count": 160,
   "metadata": {},
   "outputs": [],
   "source": [
    "pd.set_option(\"display.max_rows\", None)"
   ]
  },
  {
   "cell_type": "code",
   "execution_count": 161,
   "metadata": {},
   "outputs": [],
   "source": [
    "df['log_income'] = np.log1p(df['income'])\n",
    "df['log_debt'] = np.log1p(df['debt'])\n"
   ]
  },
  {
   "cell_type": "code",
   "execution_count": 162,
   "metadata": {},
   "outputs": [
    {
     "data": {
      "text/plain": [
       "Index(['Unnamed: 0', 'gen', 'age', 'religion', 'edu', 'sm_year', 'sm_state',\n",
       "       'sm_day', 'dr_mean_year', 'dr_6cup', 'dr_hurt', 'dr_worry',\n",
       "       'preg_experience', 'health_state', 'disabled', 'work_state',\n",
       "       'work_code', 'region', 'income', 'y_total', 'debt', 'y_train',\n",
       "       'age_range', 'log_income', 'log_debt'],\n",
       "      dtype='object')"
      ]
     },
     "execution_count": 162,
     "metadata": {},
     "output_type": "execute_result"
    }
   ],
   "source": [
    "df.columns"
   ]
  },
  {
   "cell_type": "code",
   "execution_count": 187,
   "metadata": {},
   "outputs": [
    {
     "ename": "KeyError",
     "evalue": "\"['y_total'] not in index\"",
     "output_type": "error",
     "traceback": [
      "\u001b[1;31m---------------------------------------------------------------------------\u001b[0m",
      "\u001b[1;31mKeyError\u001b[0m                                  Traceback (most recent call last)",
      "Cell \u001b[1;32mIn[187], line 2\u001b[0m\n\u001b[0;32m      1\u001b[0m test \u001b[39m=\u001b[39m df\u001b[39m.\u001b[39mcopy()\n\u001b[1;32m----> 2\u001b[0m test \u001b[39m=\u001b[39m test\u001b[39m.\u001b[39;49mloc[:,[\u001b[39m'\u001b[39;49m\u001b[39mgen\u001b[39;49m\u001b[39m'\u001b[39;49m,\u001b[39m'\u001b[39;49m\u001b[39medu\u001b[39;49m\u001b[39m'\u001b[39;49m,\u001b[39m'\u001b[39;49m\u001b[39mhealth_state\u001b[39;49m\u001b[39m'\u001b[39;49m,\u001b[39m'\u001b[39;49m\u001b[39mdisabled\u001b[39;49m\u001b[39m'\u001b[39;49m,\u001b[39m'\u001b[39;49m\u001b[39mwork_state\u001b[39;49m\u001b[39m'\u001b[39;49m,\u001b[39m'\u001b[39;49m\u001b[39my_total\u001b[39;49m\u001b[39m'\u001b[39;49m,\u001b[39m'\u001b[39;49m\u001b[39mage_range\u001b[39;49m\u001b[39m'\u001b[39;49m,\u001b[39m'\u001b[39;49m\u001b[39mlog_income\u001b[39;49m\u001b[39m'\u001b[39;49m,\u001b[39m'\u001b[39;49m\u001b[39mlog_debt\u001b[39;49m\u001b[39m'\u001b[39;49m]]\n\u001b[0;32m      3\u001b[0m test\u001b[39m.\u001b[39mhead()\n",
      "File \u001b[1;32mc:\\Users\\hamin\\AppData\\Local\\Programs\\Python\\Python311\\Lib\\site-packages\\pandas\\core\\indexing.py:1097\u001b[0m, in \u001b[0;36m_LocationIndexer.__getitem__\u001b[1;34m(self, key)\u001b[0m\n\u001b[0;32m   1095\u001b[0m     \u001b[39mif\u001b[39;00m \u001b[39mself\u001b[39m\u001b[39m.\u001b[39m_is_scalar_access(key):\n\u001b[0;32m   1096\u001b[0m         \u001b[39mreturn\u001b[39;00m \u001b[39mself\u001b[39m\u001b[39m.\u001b[39mobj\u001b[39m.\u001b[39m_get_value(\u001b[39m*\u001b[39mkey, takeable\u001b[39m=\u001b[39m\u001b[39mself\u001b[39m\u001b[39m.\u001b[39m_takeable)\n\u001b[1;32m-> 1097\u001b[0m     \u001b[39mreturn\u001b[39;00m \u001b[39mself\u001b[39;49m\u001b[39m.\u001b[39;49m_getitem_tuple(key)\n\u001b[0;32m   1098\u001b[0m \u001b[39melse\u001b[39;00m:\n\u001b[0;32m   1099\u001b[0m     \u001b[39m# we by definition only have the 0th axis\u001b[39;00m\n\u001b[0;32m   1100\u001b[0m     axis \u001b[39m=\u001b[39m \u001b[39mself\u001b[39m\u001b[39m.\u001b[39maxis \u001b[39mor\u001b[39;00m \u001b[39m0\u001b[39m\n",
      "File \u001b[1;32mc:\\Users\\hamin\\AppData\\Local\\Programs\\Python\\Python311\\Lib\\site-packages\\pandas\\core\\indexing.py:1289\u001b[0m, in \u001b[0;36m_LocIndexer._getitem_tuple\u001b[1;34m(self, tup)\u001b[0m\n\u001b[0;32m   1286\u001b[0m \u001b[39mif\u001b[39;00m \u001b[39mself\u001b[39m\u001b[39m.\u001b[39m_multi_take_opportunity(tup):\n\u001b[0;32m   1287\u001b[0m     \u001b[39mreturn\u001b[39;00m \u001b[39mself\u001b[39m\u001b[39m.\u001b[39m_multi_take(tup)\n\u001b[1;32m-> 1289\u001b[0m \u001b[39mreturn\u001b[39;00m \u001b[39mself\u001b[39;49m\u001b[39m.\u001b[39;49m_getitem_tuple_same_dim(tup)\n",
      "File \u001b[1;32mc:\\Users\\hamin\\AppData\\Local\\Programs\\Python\\Python311\\Lib\\site-packages\\pandas\\core\\indexing.py:955\u001b[0m, in \u001b[0;36m_LocationIndexer._getitem_tuple_same_dim\u001b[1;34m(self, tup)\u001b[0m\n\u001b[0;32m    952\u001b[0m \u001b[39mif\u001b[39;00m com\u001b[39m.\u001b[39mis_null_slice(key):\n\u001b[0;32m    953\u001b[0m     \u001b[39mcontinue\u001b[39;00m\n\u001b[1;32m--> 955\u001b[0m retval \u001b[39m=\u001b[39m \u001b[39mgetattr\u001b[39;49m(retval, \u001b[39mself\u001b[39;49m\u001b[39m.\u001b[39;49mname)\u001b[39m.\u001b[39;49m_getitem_axis(key, axis\u001b[39m=\u001b[39;49mi)\n\u001b[0;32m    956\u001b[0m \u001b[39m# We should never have retval.ndim < self.ndim, as that should\u001b[39;00m\n\u001b[0;32m    957\u001b[0m \u001b[39m#  be handled by the _getitem_lowerdim call above.\u001b[39;00m\n\u001b[0;32m    958\u001b[0m \u001b[39massert\u001b[39;00m retval\u001b[39m.\u001b[39mndim \u001b[39m==\u001b[39m \u001b[39mself\u001b[39m\u001b[39m.\u001b[39mndim\n",
      "File \u001b[1;32mc:\\Users\\hamin\\AppData\\Local\\Programs\\Python\\Python311\\Lib\\site-packages\\pandas\\core\\indexing.py:1332\u001b[0m, in \u001b[0;36m_LocIndexer._getitem_axis\u001b[1;34m(self, key, axis)\u001b[0m\n\u001b[0;32m   1329\u001b[0m     \u001b[39mif\u001b[39;00m \u001b[39mhasattr\u001b[39m(key, \u001b[39m\"\u001b[39m\u001b[39mndim\u001b[39m\u001b[39m\"\u001b[39m) \u001b[39mand\u001b[39;00m key\u001b[39m.\u001b[39mndim \u001b[39m>\u001b[39m \u001b[39m1\u001b[39m:\n\u001b[0;32m   1330\u001b[0m         \u001b[39mraise\u001b[39;00m \u001b[39mValueError\u001b[39;00m(\u001b[39m\"\u001b[39m\u001b[39mCannot index with multidimensional key\u001b[39m\u001b[39m\"\u001b[39m)\n\u001b[1;32m-> 1332\u001b[0m     \u001b[39mreturn\u001b[39;00m \u001b[39mself\u001b[39;49m\u001b[39m.\u001b[39;49m_getitem_iterable(key, axis\u001b[39m=\u001b[39;49maxis)\n\u001b[0;32m   1334\u001b[0m \u001b[39m# nested tuple slicing\u001b[39;00m\n\u001b[0;32m   1335\u001b[0m \u001b[39mif\u001b[39;00m is_nested_tuple(key, labels):\n",
      "File \u001b[1;32mc:\\Users\\hamin\\AppData\\Local\\Programs\\Python\\Python311\\Lib\\site-packages\\pandas\\core\\indexing.py:1272\u001b[0m, in \u001b[0;36m_LocIndexer._getitem_iterable\u001b[1;34m(self, key, axis)\u001b[0m\n\u001b[0;32m   1269\u001b[0m \u001b[39mself\u001b[39m\u001b[39m.\u001b[39m_validate_key(key, axis)\n\u001b[0;32m   1271\u001b[0m \u001b[39m# A collection of keys\u001b[39;00m\n\u001b[1;32m-> 1272\u001b[0m keyarr, indexer \u001b[39m=\u001b[39m \u001b[39mself\u001b[39;49m\u001b[39m.\u001b[39;49m_get_listlike_indexer(key, axis)\n\u001b[0;32m   1273\u001b[0m \u001b[39mreturn\u001b[39;00m \u001b[39mself\u001b[39m\u001b[39m.\u001b[39mobj\u001b[39m.\u001b[39m_reindex_with_indexers(\n\u001b[0;32m   1274\u001b[0m     {axis: [keyarr, indexer]}, copy\u001b[39m=\u001b[39m\u001b[39mTrue\u001b[39;00m, allow_dups\u001b[39m=\u001b[39m\u001b[39mTrue\u001b[39;00m\n\u001b[0;32m   1275\u001b[0m )\n",
      "File \u001b[1;32mc:\\Users\\hamin\\AppData\\Local\\Programs\\Python\\Python311\\Lib\\site-packages\\pandas\\core\\indexing.py:1462\u001b[0m, in \u001b[0;36m_LocIndexer._get_listlike_indexer\u001b[1;34m(self, key, axis)\u001b[0m\n\u001b[0;32m   1459\u001b[0m ax \u001b[39m=\u001b[39m \u001b[39mself\u001b[39m\u001b[39m.\u001b[39mobj\u001b[39m.\u001b[39m_get_axis(axis)\n\u001b[0;32m   1460\u001b[0m axis_name \u001b[39m=\u001b[39m \u001b[39mself\u001b[39m\u001b[39m.\u001b[39mobj\u001b[39m.\u001b[39m_get_axis_name(axis)\n\u001b[1;32m-> 1462\u001b[0m keyarr, indexer \u001b[39m=\u001b[39m ax\u001b[39m.\u001b[39;49m_get_indexer_strict(key, axis_name)\n\u001b[0;32m   1464\u001b[0m \u001b[39mreturn\u001b[39;00m keyarr, indexer\n",
      "File \u001b[1;32mc:\\Users\\hamin\\AppData\\Local\\Programs\\Python\\Python311\\Lib\\site-packages\\pandas\\core\\indexes\\base.py:5876\u001b[0m, in \u001b[0;36mIndex._get_indexer_strict\u001b[1;34m(self, key, axis_name)\u001b[0m\n\u001b[0;32m   5873\u001b[0m \u001b[39melse\u001b[39;00m:\n\u001b[0;32m   5874\u001b[0m     keyarr, indexer, new_indexer \u001b[39m=\u001b[39m \u001b[39mself\u001b[39m\u001b[39m.\u001b[39m_reindex_non_unique(keyarr)\n\u001b[1;32m-> 5876\u001b[0m \u001b[39mself\u001b[39;49m\u001b[39m.\u001b[39;49m_raise_if_missing(keyarr, indexer, axis_name)\n\u001b[0;32m   5878\u001b[0m keyarr \u001b[39m=\u001b[39m \u001b[39mself\u001b[39m\u001b[39m.\u001b[39mtake(indexer)\n\u001b[0;32m   5879\u001b[0m \u001b[39mif\u001b[39;00m \u001b[39misinstance\u001b[39m(key, Index):\n\u001b[0;32m   5880\u001b[0m     \u001b[39m# GH 42790 - Preserve name from an Index\u001b[39;00m\n",
      "File \u001b[1;32mc:\\Users\\hamin\\AppData\\Local\\Programs\\Python\\Python311\\Lib\\site-packages\\pandas\\core\\indexes\\base.py:5938\u001b[0m, in \u001b[0;36mIndex._raise_if_missing\u001b[1;34m(self, key, indexer, axis_name)\u001b[0m\n\u001b[0;32m   5935\u001b[0m     \u001b[39mraise\u001b[39;00m \u001b[39mKeyError\u001b[39;00m(\u001b[39mf\u001b[39m\u001b[39m\"\u001b[39m\u001b[39mNone of [\u001b[39m\u001b[39m{\u001b[39;00mkey\u001b[39m}\u001b[39;00m\u001b[39m] are in the [\u001b[39m\u001b[39m{\u001b[39;00maxis_name\u001b[39m}\u001b[39;00m\u001b[39m]\u001b[39m\u001b[39m\"\u001b[39m)\n\u001b[0;32m   5937\u001b[0m not_found \u001b[39m=\u001b[39m \u001b[39mlist\u001b[39m(ensure_index(key)[missing_mask\u001b[39m.\u001b[39mnonzero()[\u001b[39m0\u001b[39m]]\u001b[39m.\u001b[39munique())\n\u001b[1;32m-> 5938\u001b[0m \u001b[39mraise\u001b[39;00m \u001b[39mKeyError\u001b[39;00m(\u001b[39mf\u001b[39m\u001b[39m\"\u001b[39m\u001b[39m{\u001b[39;00mnot_found\u001b[39m}\u001b[39;00m\u001b[39m not in index\u001b[39m\u001b[39m\"\u001b[39m)\n",
      "\u001b[1;31mKeyError\u001b[0m: \"['y_total'] not in index\""
     ]
    }
   ],
   "source": [
    "test = df.copy()\n",
    "test = test.loc[:,['gen','edu','health_state','disabled','work_state','y_total','age_range','log_income','log_debt']]\n",
    "test.head()"
   ]
  },
  {
   "cell_type": "code",
   "execution_count": 164,
   "metadata": {},
   "outputs": [
    {
     "data": {
      "text/html": [
       "<div>\n",
       "<style scoped>\n",
       "    .dataframe tbody tr th:only-of-type {\n",
       "        vertical-align: middle;\n",
       "    }\n",
       "\n",
       "    .dataframe tbody tr th {\n",
       "        vertical-align: top;\n",
       "    }\n",
       "\n",
       "    .dataframe thead th {\n",
       "        text-align: right;\n",
       "    }\n",
       "</style>\n",
       "<table border=\"1\" class=\"dataframe\">\n",
       "  <thead>\n",
       "    <tr style=\"text-align: right;\">\n",
       "      <th></th>\n",
       "      <th>gen</th>\n",
       "      <th>edu</th>\n",
       "      <th>health_state</th>\n",
       "      <th>disabled</th>\n",
       "      <th>work_state</th>\n",
       "      <th>y_train</th>\n",
       "      <th>age_range</th>\n",
       "      <th>log_income</th>\n",
       "      <th>log_debt</th>\n",
       "    </tr>\n",
       "  </thead>\n",
       "  <tbody>\n",
       "    <tr>\n",
       "      <th>0</th>\n",
       "      <td>female</td>\n",
       "      <td>중졸</td>\n",
       "      <td>2</td>\n",
       "      <td>abled</td>\n",
       "      <td>nowork</td>\n",
       "      <td>0</td>\n",
       "      <td>60세 이상</td>\n",
       "      <td>6.006353</td>\n",
       "      <td>9.244838</td>\n",
       "    </tr>\n",
       "    <tr>\n",
       "      <th>2</th>\n",
       "      <td>male</td>\n",
       "      <td>대졸이상</td>\n",
       "      <td>4</td>\n",
       "      <td>abled</td>\n",
       "      <td>work</td>\n",
       "      <td>0</td>\n",
       "      <td>60세 이상</td>\n",
       "      <td>7.742836</td>\n",
       "      <td>9.962747</td>\n",
       "    </tr>\n",
       "    <tr>\n",
       "      <th>8</th>\n",
       "      <td>female</td>\n",
       "      <td>고졸</td>\n",
       "      <td>2</td>\n",
       "      <td>abled</td>\n",
       "      <td>work</td>\n",
       "      <td>0</td>\n",
       "      <td>50~59세</td>\n",
       "      <td>7.737093</td>\n",
       "      <td>6.928538</td>\n",
       "    </tr>\n",
       "    <tr>\n",
       "      <th>9</th>\n",
       "      <td>female</td>\n",
       "      <td>중졸</td>\n",
       "      <td>2</td>\n",
       "      <td>abled</td>\n",
       "      <td>nowork</td>\n",
       "      <td>0</td>\n",
       "      <td>30~39세</td>\n",
       "      <td>7.737093</td>\n",
       "      <td>6.928538</td>\n",
       "    </tr>\n",
       "    <tr>\n",
       "      <th>13</th>\n",
       "      <td>male</td>\n",
       "      <td>대졸이상</td>\n",
       "      <td>4</td>\n",
       "      <td>abled</td>\n",
       "      <td>work</td>\n",
       "      <td>0</td>\n",
       "      <td>40~49세</td>\n",
       "      <td>8.692658</td>\n",
       "      <td>9.466687</td>\n",
       "    </tr>\n",
       "  </tbody>\n",
       "</table>\n",
       "</div>"
      ],
      "text/plain": [
       "       gen   edu  health_state disabled work_state  y_train age_range  \\\n",
       "0   female    중졸             2    abled     nowork        0    60세 이상   \n",
       "2     male  대졸이상             4    abled       work        0    60세 이상   \n",
       "8   female    고졸             2    abled       work        0    50~59세   \n",
       "9   female    중졸             2    abled     nowork        0    30~39세   \n",
       "13    male  대졸이상             4    abled       work        0    40~49세   \n",
       "\n",
       "    log_income  log_debt  \n",
       "0     6.006353  9.244838  \n",
       "2     7.742836  9.962747  \n",
       "8     7.737093  6.928538  \n",
       "9     7.737093  6.928538  \n",
       "13    8.692658  9.466687  "
      ]
     },
     "execution_count": 164,
     "metadata": {},
     "output_type": "execute_result"
    }
   ],
   "source": [
    "df=df.loc[:,['gen','edu','health_state','disabled','work_state','y_train','age_range','log_income','log_debt']]\n",
    "df.head()"
   ]
  },
  {
   "cell_type": "code",
   "execution_count": 165,
   "metadata": {},
   "outputs": [
    {
     "data": {
      "text/plain": [
       "edu\n",
       "대졸이상    2686\n",
       "고졸      1690\n",
       "초졸이하     607\n",
       "중졸       431\n",
       "Name: count, dtype: int64"
      ]
     },
     "execution_count": 165,
     "metadata": {},
     "output_type": "execute_result"
    }
   ],
   "source": [
    "df['edu'].value_counts()"
   ]
  },
  {
   "cell_type": "code",
   "execution_count": 166,
   "metadata": {},
   "outputs": [
    {
     "data": {
      "text/html": [
       "<div>\n",
       "<style scoped>\n",
       "    .dataframe tbody tr th:only-of-type {\n",
       "        vertical-align: middle;\n",
       "    }\n",
       "\n",
       "    .dataframe tbody tr th {\n",
       "        vertical-align: top;\n",
       "    }\n",
       "\n",
       "    .dataframe thead th {\n",
       "        text-align: right;\n",
       "    }\n",
       "</style>\n",
       "<table border=\"1\" class=\"dataframe\">\n",
       "  <thead>\n",
       "    <tr style=\"text-align: right;\">\n",
       "      <th></th>\n",
       "      <th>gen</th>\n",
       "      <th>edu</th>\n",
       "      <th>health_state</th>\n",
       "      <th>disabled</th>\n",
       "      <th>work_state</th>\n",
       "      <th>y_train</th>\n",
       "      <th>age_range</th>\n",
       "      <th>log_income</th>\n",
       "      <th>log_debt</th>\n",
       "    </tr>\n",
       "  </thead>\n",
       "  <tbody>\n",
       "    <tr>\n",
       "      <th>0</th>\n",
       "      <td>female</td>\n",
       "      <td>중졸</td>\n",
       "      <td>2</td>\n",
       "      <td>abled</td>\n",
       "      <td>nowork</td>\n",
       "      <td>0</td>\n",
       "      <td>60세 이상</td>\n",
       "      <td>6.006353</td>\n",
       "      <td>9.244838</td>\n",
       "    </tr>\n",
       "    <tr>\n",
       "      <th>2</th>\n",
       "      <td>male</td>\n",
       "      <td>대졸이상</td>\n",
       "      <td>4</td>\n",
       "      <td>abled</td>\n",
       "      <td>work</td>\n",
       "      <td>0</td>\n",
       "      <td>60세 이상</td>\n",
       "      <td>7.742836</td>\n",
       "      <td>9.962747</td>\n",
       "    </tr>\n",
       "    <tr>\n",
       "      <th>8</th>\n",
       "      <td>female</td>\n",
       "      <td>고졸</td>\n",
       "      <td>2</td>\n",
       "      <td>abled</td>\n",
       "      <td>work</td>\n",
       "      <td>0</td>\n",
       "      <td>50~59세</td>\n",
       "      <td>7.737093</td>\n",
       "      <td>6.928538</td>\n",
       "    </tr>\n",
       "    <tr>\n",
       "      <th>9</th>\n",
       "      <td>female</td>\n",
       "      <td>중졸</td>\n",
       "      <td>2</td>\n",
       "      <td>abled</td>\n",
       "      <td>nowork</td>\n",
       "      <td>0</td>\n",
       "      <td>30~39세</td>\n",
       "      <td>7.737093</td>\n",
       "      <td>6.928538</td>\n",
       "    </tr>\n",
       "    <tr>\n",
       "      <th>13</th>\n",
       "      <td>male</td>\n",
       "      <td>대졸이상</td>\n",
       "      <td>4</td>\n",
       "      <td>abled</td>\n",
       "      <td>work</td>\n",
       "      <td>0</td>\n",
       "      <td>40~49세</td>\n",
       "      <td>8.692658</td>\n",
       "      <td>9.466687</td>\n",
       "    </tr>\n",
       "  </tbody>\n",
       "</table>\n",
       "</div>"
      ],
      "text/plain": [
       "       gen   edu  health_state disabled work_state  y_train age_range  \\\n",
       "0   female    중졸             2    abled     nowork        0    60세 이상   \n",
       "2     male  대졸이상             4    abled       work        0    60세 이상   \n",
       "8   female    고졸             2    abled       work        0    50~59세   \n",
       "9   female    중졸             2    abled     nowork        0    30~39세   \n",
       "13    male  대졸이상             4    abled       work        0    40~49세   \n",
       "\n",
       "    log_income  log_debt  \n",
       "0     6.006353  9.244838  \n",
       "2     7.742836  9.962747  \n",
       "8     7.737093  6.928538  \n",
       "9     7.737093  6.928538  \n",
       "13    8.692658  9.466687  "
      ]
     },
     "execution_count": 166,
     "metadata": {},
     "output_type": "execute_result"
    }
   ],
   "source": [
    "df.head()"
   ]
  },
  {
   "cell_type": "code",
   "execution_count": null,
   "metadata": {},
   "outputs": [],
   "source": []
  },
  {
   "cell_type": "code",
   "execution_count": null,
   "metadata": {},
   "outputs": [],
   "source": []
  },
  {
   "cell_type": "code",
   "execution_count": null,
   "metadata": {},
   "outputs": [],
   "source": []
  },
  {
   "cell_type": "code",
   "execution_count": 167,
   "metadata": {},
   "outputs": [],
   "source": [
    "df.loc[df['gen']=='male','gen']=1\n",
    "df.loc[df['gen']=='female','gen']=2\n",
    "\n",
    "df.loc[df['edu']=='초졸이하','edu']=1\n",
    "df.loc[df['edu']=='중졸','edu']=2\n",
    "df.loc[df['edu']=='고졸','edu']=3\n",
    "df.loc[df['edu']=='대졸이상','edu']=4\n",
    "\n",
    "df.loc[df['disabled']=='disabled','disabled']=1\n",
    "df.loc[df['disabled']=='abled','disabled']=2\n",
    "\n",
    "\n",
    "df.loc[df['work_state']=='work','work_state']=1\n",
    "df.loc[df['work_state']=='nowork','work_state']=2\n"
   ]
  },
  {
   "cell_type": "code",
   "execution_count": 168,
   "metadata": {},
   "outputs": [
    {
     "data": {
      "text/html": [
       "<div>\n",
       "<style scoped>\n",
       "    .dataframe tbody tr th:only-of-type {\n",
       "        vertical-align: middle;\n",
       "    }\n",
       "\n",
       "    .dataframe tbody tr th {\n",
       "        vertical-align: top;\n",
       "    }\n",
       "\n",
       "    .dataframe thead th {\n",
       "        text-align: right;\n",
       "    }\n",
       "</style>\n",
       "<table border=\"1\" class=\"dataframe\">\n",
       "  <thead>\n",
       "    <tr style=\"text-align: right;\">\n",
       "      <th></th>\n",
       "      <th>gen</th>\n",
       "      <th>edu</th>\n",
       "      <th>health_state</th>\n",
       "      <th>disabled</th>\n",
       "      <th>work_state</th>\n",
       "      <th>y_total</th>\n",
       "      <th>age_range</th>\n",
       "      <th>log_income</th>\n",
       "      <th>log_debt</th>\n",
       "    </tr>\n",
       "  </thead>\n",
       "  <tbody>\n",
       "    <tr>\n",
       "      <th>0</th>\n",
       "      <td>female</td>\n",
       "      <td>중졸</td>\n",
       "      <td>2</td>\n",
       "      <td>abled</td>\n",
       "      <td>nowork</td>\n",
       "      <td>20</td>\n",
       "      <td>60세 이상</td>\n",
       "      <td>6.006353</td>\n",
       "      <td>9.244838</td>\n",
       "    </tr>\n",
       "    <tr>\n",
       "      <th>2</th>\n",
       "      <td>male</td>\n",
       "      <td>대졸이상</td>\n",
       "      <td>4</td>\n",
       "      <td>abled</td>\n",
       "      <td>work</td>\n",
       "      <td>18</td>\n",
       "      <td>60세 이상</td>\n",
       "      <td>7.742836</td>\n",
       "      <td>9.962747</td>\n",
       "    </tr>\n",
       "    <tr>\n",
       "      <th>8</th>\n",
       "      <td>female</td>\n",
       "      <td>고졸</td>\n",
       "      <td>2</td>\n",
       "      <td>abled</td>\n",
       "      <td>work</td>\n",
       "      <td>21</td>\n",
       "      <td>50~59세</td>\n",
       "      <td>7.737093</td>\n",
       "      <td>6.928538</td>\n",
       "    </tr>\n",
       "    <tr>\n",
       "      <th>9</th>\n",
       "      <td>female</td>\n",
       "      <td>중졸</td>\n",
       "      <td>2</td>\n",
       "      <td>abled</td>\n",
       "      <td>nowork</td>\n",
       "      <td>17</td>\n",
       "      <td>30~39세</td>\n",
       "      <td>7.737093</td>\n",
       "      <td>6.928538</td>\n",
       "    </tr>\n",
       "    <tr>\n",
       "      <th>13</th>\n",
       "      <td>male</td>\n",
       "      <td>대졸이상</td>\n",
       "      <td>4</td>\n",
       "      <td>abled</td>\n",
       "      <td>work</td>\n",
       "      <td>20</td>\n",
       "      <td>40~49세</td>\n",
       "      <td>8.692658</td>\n",
       "      <td>9.466687</td>\n",
       "    </tr>\n",
       "  </tbody>\n",
       "</table>\n",
       "</div>"
      ],
      "text/plain": [
       "       gen   edu  health_state disabled work_state  y_total age_range  \\\n",
       "0   female    중졸             2    abled     nowork       20    60세 이상   \n",
       "2     male  대졸이상             4    abled       work       18    60세 이상   \n",
       "8   female    고졸             2    abled       work       21    50~59세   \n",
       "9   female    중졸             2    abled     nowork       17    30~39세   \n",
       "13    male  대졸이상             4    abled       work       20    40~49세   \n",
       "\n",
       "    log_income  log_debt  \n",
       "0     6.006353  9.244838  \n",
       "2     7.742836  9.962747  \n",
       "8     7.737093  6.928538  \n",
       "9     7.737093  6.928538  \n",
       "13    8.692658  9.466687  "
      ]
     },
     "execution_count": 168,
     "metadata": {},
     "output_type": "execute_result"
    }
   ],
   "source": [
    "test.head()"
   ]
  },
  {
   "cell_type": "code",
   "execution_count": 169,
   "metadata": {},
   "outputs": [
    {
     "data": {
      "text/plain": [
       "Index(['health_state', 'y_total', 'log_income', 'log_debt', 'gen_2', 'edu_2',\n",
       "       'edu_3', 'edu_4', 'disabled_2', 'work_state_2', 'age_range_2',\n",
       "       'age_range_3', 'age_range_4', 'age_range_5'],\n",
       "      dtype='object')"
      ]
     },
     "execution_count": 169,
     "metadata": {},
     "output_type": "execute_result"
    }
   ],
   "source": [
    "test.loc[test['gen']=='male','gen']=1\n",
    "test.loc[test['gen']=='female','gen']=2\n",
    "\n",
    "test.loc[test['edu']=='초졸이하','edu']=1\n",
    "test.loc[test['edu']=='중졸','edu']=2\n",
    "test.loc[test['edu']=='고졸','edu']=3\n",
    "test.loc[test['edu']=='대졸이상','edu']=4\n",
    "\n",
    "test.loc[test['disabled']=='disabled','disabled']=1\n",
    "test.loc[test['disabled']=='abled','disabled']=2\n",
    "\n",
    "\n",
    "test.loc[test['work_state']=='work','work_state']=1\n",
    "test.loc[test['work_state']=='nowork','work_state']=2\n",
    "\n",
    "test['age_range'] = test['age_range'].astype('str')\n",
    "test.loc[test['age_range']=='19~29세','age_range']=1\n",
    "test.loc[test['age_range']=='30~39세','age_range']=2\n",
    "test.loc[test['age_range']=='40~49세','age_range']=3\n",
    "test.loc[test['age_range']=='50~59세','age_range']=4\n",
    "test.loc[test['age_range']=='60세 이상','age_range']=5\n",
    "test['age_range'] = test['age_range'].astype('category')\n",
    "\n",
    "test['age_range']=test['age_range'].astype(str)\n",
    "test= test.loc[test['age_range']!='nan',:]\n",
    "test['age_range']=test['age_range'].astype(\"category\")\n",
    "\n",
    "\n",
    "test= pd.get_dummies(test,drop_first=True,dtype='int')\n",
    "test.columns\n",
    "\n"
   ]
  },
  {
   "cell_type": "code",
   "execution_count": null,
   "metadata": {},
   "outputs": [],
   "source": [
    "\n",
    "\n"
   ]
  },
  {
   "cell_type": "code",
   "execution_count": 170,
   "metadata": {},
   "outputs": [
    {
     "name": "stdout",
     "output_type": "stream",
     "text": [
      "<class 'pandas.core.frame.DataFrame'>\n",
      "Index: 5414 entries, 0 to 13473\n",
      "Data columns (total 9 columns):\n",
      " #   Column        Non-Null Count  Dtype  \n",
      "---  ------        --------------  -----  \n",
      " 0   gen           5414 non-null   object \n",
      " 1   edu           5414 non-null   object \n",
      " 2   health_state  5414 non-null   int64  \n",
      " 3   disabled      5414 non-null   object \n",
      " 4   work_state    5414 non-null   object \n",
      " 5   y_train       5414 non-null   int64  \n",
      " 6   age_range     5414 non-null   object \n",
      " 7   log_income    5414 non-null   float64\n",
      " 8   log_debt      5414 non-null   float64\n",
      "dtypes: float64(2), int64(2), object(5)\n",
      "memory usage: 423.0+ KB\n"
     ]
    }
   ],
   "source": [
    "df.info()"
   ]
  },
  {
   "cell_type": "code",
   "execution_count": 171,
   "metadata": {},
   "outputs": [],
   "source": [
    "df['age_range'] = df['age_range'].astype('str')\n",
    "df.loc[df['age_range']=='19~29세','age_range']=1\n",
    "df.loc[df['age_range']=='30~39세','age_range']=2\n",
    "df.loc[df['age_range']=='40~49세','age_range']=3\n",
    "df.loc[df['age_range']=='50~59세','age_range']=4\n",
    "df.loc[df['age_range']=='60세 이상','age_range']=5\n",
    "df['age_range'] = df['age_range'].astype('category')"
   ]
  },
  {
   "cell_type": "code",
   "execution_count": 172,
   "metadata": {},
   "outputs": [
    {
     "name": "stdout",
     "output_type": "stream",
     "text": [
      "<class 'pandas.core.frame.DataFrame'>\n",
      "Index: 5414 entries, 0 to 13473\n",
      "Data columns (total 9 columns):\n",
      " #   Column        Non-Null Count  Dtype   \n",
      "---  ------        --------------  -----   \n",
      " 0   gen           5414 non-null   object  \n",
      " 1   edu           5414 non-null   object  \n",
      " 2   health_state  5414 non-null   int64   \n",
      " 3   disabled      5414 non-null   object  \n",
      " 4   work_state    5414 non-null   object  \n",
      " 5   y_train       5414 non-null   int64   \n",
      " 6   age_range     5414 non-null   category\n",
      " 7   log_income    5414 non-null   float64 \n",
      " 8   log_debt      5414 non-null   float64 \n",
      "dtypes: category(1), float64(2), int64(2), object(4)\n",
      "memory usage: 386.2+ KB\n"
     ]
    }
   ],
   "source": [
    "df.info()"
   ]
  },
  {
   "cell_type": "code",
   "execution_count": 173,
   "metadata": {},
   "outputs": [
    {
     "data": {
      "text/plain": [
       "[5, 4, 2, 3, 1, 'nan']\n",
       "Categories (6, object): [1, 2, 3, 4, 5, 'nan']"
      ]
     },
     "execution_count": 173,
     "metadata": {},
     "output_type": "execute_result"
    }
   ],
   "source": [
    "df['age_range'].unique()"
   ]
  },
  {
   "cell_type": "code",
   "execution_count": 174,
   "metadata": {},
   "outputs": [],
   "source": [
    "df['age_range']=df['age_range'].astype(str)\n",
    "df= df.loc[df['age_range']!='nan',:]\n",
    "df['age_range']=df['age_range'].astype(\"category\")\n"
   ]
  },
  {
   "cell_type": "code",
   "execution_count": 175,
   "metadata": {},
   "outputs": [
    {
     "data": {
      "text/plain": [
       "['5', '4', '2', '3', '1']\n",
       "Categories (5, object): ['1', '2', '3', '4', '5']"
      ]
     },
     "execution_count": 175,
     "metadata": {},
     "output_type": "execute_result"
    }
   ],
   "source": [
    "df['age_range'].unique()"
   ]
  },
  {
   "cell_type": "code",
   "execution_count": 177,
   "metadata": {},
   "outputs": [
    {
     "data": {
      "text/plain": [
       "Index(['gen', 'edu', 'health_state', 'disabled', 'work_state', 'y_train',\n",
       "       'age_range', 'log_income', 'log_debt'],\n",
       "      dtype='object')"
      ]
     },
     "execution_count": 177,
     "metadata": {},
     "output_type": "execute_result"
    }
   ],
   "source": [
    "df.columns"
   ]
  },
  {
   "cell_type": "code",
   "execution_count": 178,
   "metadata": {},
   "outputs": [],
   "source": [
    "from sklearn.preprocessing import OneHotEncoder"
   ]
  },
  {
   "cell_type": "code",
   "execution_count": 179,
   "metadata": {},
   "outputs": [
    {
     "data": {
      "text/html": [
       "<div>\n",
       "<style scoped>\n",
       "    .dataframe tbody tr th:only-of-type {\n",
       "        vertical-align: middle;\n",
       "    }\n",
       "\n",
       "    .dataframe tbody tr th {\n",
       "        vertical-align: top;\n",
       "    }\n",
       "\n",
       "    .dataframe thead th {\n",
       "        text-align: right;\n",
       "    }\n",
       "</style>\n",
       "<table border=\"1\" class=\"dataframe\">\n",
       "  <thead>\n",
       "    <tr style=\"text-align: right;\">\n",
       "      <th></th>\n",
       "      <th>gen</th>\n",
       "      <th>edu</th>\n",
       "      <th>health_state</th>\n",
       "      <th>disabled</th>\n",
       "      <th>work_state</th>\n",
       "      <th>y_train</th>\n",
       "      <th>age_range</th>\n",
       "      <th>log_income</th>\n",
       "      <th>log_debt</th>\n",
       "    </tr>\n",
       "  </thead>\n",
       "  <tbody>\n",
       "    <tr>\n",
       "      <th>0</th>\n",
       "      <td>2</td>\n",
       "      <td>2</td>\n",
       "      <td>2</td>\n",
       "      <td>2</td>\n",
       "      <td>2</td>\n",
       "      <td>0</td>\n",
       "      <td>5</td>\n",
       "      <td>6.006353</td>\n",
       "      <td>9.244838</td>\n",
       "    </tr>\n",
       "    <tr>\n",
       "      <th>2</th>\n",
       "      <td>1</td>\n",
       "      <td>4</td>\n",
       "      <td>4</td>\n",
       "      <td>2</td>\n",
       "      <td>1</td>\n",
       "      <td>0</td>\n",
       "      <td>5</td>\n",
       "      <td>7.742836</td>\n",
       "      <td>9.962747</td>\n",
       "    </tr>\n",
       "    <tr>\n",
       "      <th>8</th>\n",
       "      <td>2</td>\n",
       "      <td>3</td>\n",
       "      <td>2</td>\n",
       "      <td>2</td>\n",
       "      <td>1</td>\n",
       "      <td>0</td>\n",
       "      <td>4</td>\n",
       "      <td>7.737093</td>\n",
       "      <td>6.928538</td>\n",
       "    </tr>\n",
       "    <tr>\n",
       "      <th>9</th>\n",
       "      <td>2</td>\n",
       "      <td>2</td>\n",
       "      <td>2</td>\n",
       "      <td>2</td>\n",
       "      <td>2</td>\n",
       "      <td>0</td>\n",
       "      <td>2</td>\n",
       "      <td>7.737093</td>\n",
       "      <td>6.928538</td>\n",
       "    </tr>\n",
       "    <tr>\n",
       "      <th>13</th>\n",
       "      <td>1</td>\n",
       "      <td>4</td>\n",
       "      <td>4</td>\n",
       "      <td>2</td>\n",
       "      <td>1</td>\n",
       "      <td>0</td>\n",
       "      <td>3</td>\n",
       "      <td>8.692658</td>\n",
       "      <td>9.466687</td>\n",
       "    </tr>\n",
       "  </tbody>\n",
       "</table>\n",
       "</div>"
      ],
      "text/plain": [
       "   gen edu  health_state disabled work_state  y_train age_range  log_income  \\\n",
       "0    2   2             2        2          2        0         5    6.006353   \n",
       "2    1   4             4        2          1        0         5    7.742836   \n",
       "8    2   3             2        2          1        0         4    7.737093   \n",
       "9    2   2             2        2          2        0         2    7.737093   \n",
       "13   1   4             4        2          1        0         3    8.692658   \n",
       "\n",
       "    log_debt  \n",
       "0   9.244838  \n",
       "2   9.962747  \n",
       "8   6.928538  \n",
       "9   6.928538  \n",
       "13  9.466687  "
      ]
     },
     "execution_count": 179,
     "metadata": {},
     "output_type": "execute_result"
    }
   ],
   "source": [
    "test= pd.get_dummies(df,drop_first=True,dtype='int')\n",
    "df.head()"
   ]
  },
  {
   "cell_type": "code",
   "execution_count": 180,
   "metadata": {},
   "outputs": [],
   "source": [
    "# df = df.drop(['age_range_nan'],axis=1)\n",
    "# df.columns"
   ]
  },
  {
   "cell_type": "code",
   "execution_count": 181,
   "metadata": {},
   "outputs": [
    {
     "data": {
      "text/html": [
       "<div>\n",
       "<style scoped>\n",
       "    .dataframe tbody tr th:only-of-type {\n",
       "        vertical-align: middle;\n",
       "    }\n",
       "\n",
       "    .dataframe tbody tr th {\n",
       "        vertical-align: top;\n",
       "    }\n",
       "\n",
       "    .dataframe thead th {\n",
       "        text-align: right;\n",
       "    }\n",
       "</style>\n",
       "<table border=\"1\" class=\"dataframe\">\n",
       "  <thead>\n",
       "    <tr style=\"text-align: right;\">\n",
       "      <th></th>\n",
       "      <th>health_state</th>\n",
       "      <th>y_train</th>\n",
       "      <th>log_income</th>\n",
       "      <th>log_debt</th>\n",
       "      <th>gen_2</th>\n",
       "      <th>edu_2</th>\n",
       "      <th>edu_3</th>\n",
       "      <th>edu_4</th>\n",
       "      <th>disabled_2</th>\n",
       "      <th>work_state_2</th>\n",
       "      <th>age_range_2</th>\n",
       "      <th>age_range_3</th>\n",
       "      <th>age_range_4</th>\n",
       "      <th>age_range_5</th>\n",
       "    </tr>\n",
       "  </thead>\n",
       "  <tbody>\n",
       "    <tr>\n",
       "      <th>0</th>\n",
       "      <td>2</td>\n",
       "      <td>0</td>\n",
       "      <td>6.006353</td>\n",
       "      <td>9.244838</td>\n",
       "      <td>1</td>\n",
       "      <td>1</td>\n",
       "      <td>0</td>\n",
       "      <td>0</td>\n",
       "      <td>1</td>\n",
       "      <td>1</td>\n",
       "      <td>0</td>\n",
       "      <td>0</td>\n",
       "      <td>0</td>\n",
       "      <td>1</td>\n",
       "    </tr>\n",
       "    <tr>\n",
       "      <th>2</th>\n",
       "      <td>4</td>\n",
       "      <td>0</td>\n",
       "      <td>7.742836</td>\n",
       "      <td>9.962747</td>\n",
       "      <td>0</td>\n",
       "      <td>0</td>\n",
       "      <td>0</td>\n",
       "      <td>1</td>\n",
       "      <td>1</td>\n",
       "      <td>0</td>\n",
       "      <td>0</td>\n",
       "      <td>0</td>\n",
       "      <td>0</td>\n",
       "      <td>1</td>\n",
       "    </tr>\n",
       "    <tr>\n",
       "      <th>8</th>\n",
       "      <td>2</td>\n",
       "      <td>0</td>\n",
       "      <td>7.737093</td>\n",
       "      <td>6.928538</td>\n",
       "      <td>1</td>\n",
       "      <td>0</td>\n",
       "      <td>1</td>\n",
       "      <td>0</td>\n",
       "      <td>1</td>\n",
       "      <td>0</td>\n",
       "      <td>0</td>\n",
       "      <td>0</td>\n",
       "      <td>1</td>\n",
       "      <td>0</td>\n",
       "    </tr>\n",
       "    <tr>\n",
       "      <th>9</th>\n",
       "      <td>2</td>\n",
       "      <td>0</td>\n",
       "      <td>7.737093</td>\n",
       "      <td>6.928538</td>\n",
       "      <td>1</td>\n",
       "      <td>1</td>\n",
       "      <td>0</td>\n",
       "      <td>0</td>\n",
       "      <td>1</td>\n",
       "      <td>1</td>\n",
       "      <td>1</td>\n",
       "      <td>0</td>\n",
       "      <td>0</td>\n",
       "      <td>0</td>\n",
       "    </tr>\n",
       "    <tr>\n",
       "      <th>13</th>\n",
       "      <td>4</td>\n",
       "      <td>0</td>\n",
       "      <td>8.692658</td>\n",
       "      <td>9.466687</td>\n",
       "      <td>0</td>\n",
       "      <td>0</td>\n",
       "      <td>0</td>\n",
       "      <td>1</td>\n",
       "      <td>1</td>\n",
       "      <td>0</td>\n",
       "      <td>0</td>\n",
       "      <td>1</td>\n",
       "      <td>0</td>\n",
       "      <td>0</td>\n",
       "    </tr>\n",
       "  </tbody>\n",
       "</table>\n",
       "</div>"
      ],
      "text/plain": [
       "    health_state  y_train  log_income  log_debt  gen_2  edu_2  edu_3  edu_4  \\\n",
       "0              2        0    6.006353  9.244838      1      1      0      0   \n",
       "2              4        0    7.742836  9.962747      0      0      0      1   \n",
       "8              2        0    7.737093  6.928538      1      0      1      0   \n",
       "9              2        0    7.737093  6.928538      1      1      0      0   \n",
       "13             4        0    8.692658  9.466687      0      0      0      1   \n",
       "\n",
       "    disabled_2  work_state_2  age_range_2  age_range_3  age_range_4  \\\n",
       "0            1             1            0            0            0   \n",
       "2            1             0            0            0            0   \n",
       "8            1             0            0            0            1   \n",
       "9            1             1            1            0            0   \n",
       "13           1             0            0            1            0   \n",
       "\n",
       "    age_range_5  \n",
       "0             1  \n",
       "2             1  \n",
       "8             0  \n",
       "9             0  \n",
       "13            0  "
      ]
     },
     "execution_count": 181,
     "metadata": {},
     "output_type": "execute_result"
    }
   ],
   "source": [
    "test.head()"
   ]
  },
  {
   "cell_type": "code",
   "execution_count": 182,
   "metadata": {},
   "outputs": [
    {
     "data": {
      "text/plain": [
       "Index(['health_state', 'y_train', 'log_income', 'log_debt', 'gen_2', 'edu_2',\n",
       "       'edu_3', 'edu_4', 'disabled_2', 'work_state_2', 'age_range_2',\n",
       "       'age_range_3', 'age_range_4', 'age_range_5'],\n",
       "      dtype='object')"
      ]
     },
     "execution_count": 182,
     "metadata": {},
     "output_type": "execute_result"
    }
   ],
   "source": [
    "test.columns"
   ]
  },
  {
   "cell_type": "code",
   "execution_count": 183,
   "metadata": {},
   "outputs": [
    {
     "data": {
      "text/plain": [
       "['health_state',\n",
       " 'log_income',\n",
       " 'log_debt',\n",
       " 'gen_2',\n",
       " 'edu_2',\n",
       " 'edu_3',\n",
       " 'edu_4',\n",
       " 'disabled_2',\n",
       " 'work_state_2',\n",
       " 'age_range_2',\n",
       " 'age_range_3',\n",
       " 'age_range_4',\n",
       " 'age_range_5']"
      ]
     },
     "execution_count": 183,
     "metadata": {},
     "output_type": "execute_result"
    }
   ],
   "source": [
    "cnames = ['health_state','log_income','log_debt','gen_2','edu_2','edu_3','edu_4','disabled_2','work_state_2','age_range_2','age_range_3','age_range_4','age_range_5']\n",
    "cnames\n",
    "\n"
   ]
  },
  {
   "cell_type": "code",
   "execution_count": 184,
   "metadata": {},
   "outputs": [],
   "source": [
    "from sklearn.linear_model import LinearRegression\n",
    "import statsmodels.api as sm\n",
    "from statsmodels.formula.api import ols"
   ]
  },
  {
   "cell_type": "code",
   "execution_count": 186,
   "metadata": {},
   "outputs": [
    {
     "data": {
      "text/html": [
       "<div>\n",
       "<style scoped>\n",
       "    .dataframe tbody tr th:only-of-type {\n",
       "        vertical-align: middle;\n",
       "    }\n",
       "\n",
       "    .dataframe tbody tr th {\n",
       "        vertical-align: top;\n",
       "    }\n",
       "\n",
       "    .dataframe thead th {\n",
       "        text-align: right;\n",
       "    }\n",
       "</style>\n",
       "<table border=\"1\" class=\"dataframe\">\n",
       "  <thead>\n",
       "    <tr style=\"text-align: right;\">\n",
       "      <th></th>\n",
       "      <th>health_state</th>\n",
       "      <th>y_train</th>\n",
       "      <th>log_income</th>\n",
       "      <th>log_debt</th>\n",
       "      <th>gen_2</th>\n",
       "      <th>edu_2</th>\n",
       "      <th>edu_3</th>\n",
       "      <th>edu_4</th>\n",
       "      <th>disabled_2</th>\n",
       "      <th>work_state_2</th>\n",
       "      <th>age_range_2</th>\n",
       "      <th>age_range_3</th>\n",
       "      <th>age_range_4</th>\n",
       "      <th>age_range_5</th>\n",
       "    </tr>\n",
       "  </thead>\n",
       "  <tbody>\n",
       "    <tr>\n",
       "      <th>0</th>\n",
       "      <td>2</td>\n",
       "      <td>0</td>\n",
       "      <td>6.006353</td>\n",
       "      <td>9.244838</td>\n",
       "      <td>1</td>\n",
       "      <td>1</td>\n",
       "      <td>0</td>\n",
       "      <td>0</td>\n",
       "      <td>1</td>\n",
       "      <td>1</td>\n",
       "      <td>0</td>\n",
       "      <td>0</td>\n",
       "      <td>0</td>\n",
       "      <td>1</td>\n",
       "    </tr>\n",
       "    <tr>\n",
       "      <th>2</th>\n",
       "      <td>4</td>\n",
       "      <td>0</td>\n",
       "      <td>7.742836</td>\n",
       "      <td>9.962747</td>\n",
       "      <td>0</td>\n",
       "      <td>0</td>\n",
       "      <td>0</td>\n",
       "      <td>1</td>\n",
       "      <td>1</td>\n",
       "      <td>0</td>\n",
       "      <td>0</td>\n",
       "      <td>0</td>\n",
       "      <td>0</td>\n",
       "      <td>1</td>\n",
       "    </tr>\n",
       "    <tr>\n",
       "      <th>8</th>\n",
       "      <td>2</td>\n",
       "      <td>0</td>\n",
       "      <td>7.737093</td>\n",
       "      <td>6.928538</td>\n",
       "      <td>1</td>\n",
       "      <td>0</td>\n",
       "      <td>1</td>\n",
       "      <td>0</td>\n",
       "      <td>1</td>\n",
       "      <td>0</td>\n",
       "      <td>0</td>\n",
       "      <td>0</td>\n",
       "      <td>1</td>\n",
       "      <td>0</td>\n",
       "    </tr>\n",
       "    <tr>\n",
       "      <th>9</th>\n",
       "      <td>2</td>\n",
       "      <td>0</td>\n",
       "      <td>7.737093</td>\n",
       "      <td>6.928538</td>\n",
       "      <td>1</td>\n",
       "      <td>1</td>\n",
       "      <td>0</td>\n",
       "      <td>0</td>\n",
       "      <td>1</td>\n",
       "      <td>1</td>\n",
       "      <td>1</td>\n",
       "      <td>0</td>\n",
       "      <td>0</td>\n",
       "      <td>0</td>\n",
       "    </tr>\n",
       "    <tr>\n",
       "      <th>13</th>\n",
       "      <td>4</td>\n",
       "      <td>0</td>\n",
       "      <td>8.692658</td>\n",
       "      <td>9.466687</td>\n",
       "      <td>0</td>\n",
       "      <td>0</td>\n",
       "      <td>0</td>\n",
       "      <td>1</td>\n",
       "      <td>1</td>\n",
       "      <td>0</td>\n",
       "      <td>0</td>\n",
       "      <td>1</td>\n",
       "      <td>0</td>\n",
       "      <td>0</td>\n",
       "    </tr>\n",
       "  </tbody>\n",
       "</table>\n",
       "</div>"
      ],
      "text/plain": [
       "    health_state  y_train  log_income  log_debt  gen_2  edu_2  edu_3  edu_4  \\\n",
       "0              2        0    6.006353  9.244838      1      1      0      0   \n",
       "2              4        0    7.742836  9.962747      0      0      0      1   \n",
       "8              2        0    7.737093  6.928538      1      0      1      0   \n",
       "9              2        0    7.737093  6.928538      1      1      0      0   \n",
       "13             4        0    8.692658  9.466687      0      0      0      1   \n",
       "\n",
       "    disabled_2  work_state_2  age_range_2  age_range_3  age_range_4  \\\n",
       "0            1             1            0            0            0   \n",
       "2            1             0            0            0            0   \n",
       "8            1             0            0            0            1   \n",
       "9            1             1            1            0            0   \n",
       "13           1             0            0            1            0   \n",
       "\n",
       "    age_range_5  \n",
       "0             1  \n",
       "2             1  \n",
       "8             0  \n",
       "9             0  \n",
       "13            0  "
      ]
     },
     "execution_count": 186,
     "metadata": {},
     "output_type": "execute_result"
    }
   ],
   "source": [
    "test.head()"
   ]
  },
  {
   "cell_type": "code",
   "execution_count": 185,
   "metadata": {},
   "outputs": [
    {
     "ename": "PatsyError",
     "evalue": "Error evaluating factor: NameError: name 'y_total' is not defined\n    y_total~ C(health_state)+log_income+log_debt+C(gen_2)+C(edu_2)+C(edu_3)+C(edu_4)+C(disabled_2)+C(work_state_2)+C(age_range_2)+C(age_range_3)+C(age_range_4)+C(age_range_5)\n    ^^^^^^^",
     "output_type": "error",
     "traceback": [
      "\u001b[1;31m---------------------------------------------------------------------------\u001b[0m",
      "\u001b[1;31mNameError\u001b[0m                                 Traceback (most recent call last)",
      "File \u001b[1;32mc:\\Users\\hamin\\AppData\\Local\\Programs\\Python\\Python311\\Lib\\site-packages\\patsy\\compat.py:36\u001b[0m, in \u001b[0;36mcall_and_wrap_exc\u001b[1;34m(msg, origin, f, *args, **kwargs)\u001b[0m\n\u001b[0;32m     35\u001b[0m \u001b[39mtry\u001b[39;00m:\n\u001b[1;32m---> 36\u001b[0m     \u001b[39mreturn\u001b[39;00m f(\u001b[39m*\u001b[39;49margs, \u001b[39m*\u001b[39;49m\u001b[39m*\u001b[39;49mkwargs)\n\u001b[0;32m     37\u001b[0m \u001b[39mexcept\u001b[39;00m \u001b[39mException\u001b[39;00m \u001b[39mas\u001b[39;00m e:\n",
      "File \u001b[1;32mc:\\Users\\hamin\\AppData\\Local\\Programs\\Python\\Python311\\Lib\\site-packages\\patsy\\eval.py:169\u001b[0m, in \u001b[0;36mEvalEnvironment.eval\u001b[1;34m(self, expr, source_name, inner_namespace)\u001b[0m\n\u001b[0;32m    168\u001b[0m code \u001b[39m=\u001b[39m \u001b[39mcompile\u001b[39m(expr, source_name, \u001b[39m\"\u001b[39m\u001b[39meval\u001b[39m\u001b[39m\"\u001b[39m, \u001b[39mself\u001b[39m\u001b[39m.\u001b[39mflags, \u001b[39mFalse\u001b[39;00m)\n\u001b[1;32m--> 169\u001b[0m \u001b[39mreturn\u001b[39;00m \u001b[39meval\u001b[39;49m(code, {}, VarLookupDict([inner_namespace]\n\u001b[0;32m    170\u001b[0m                                     \u001b[39m+\u001b[39;49m \u001b[39mself\u001b[39;49m\u001b[39m.\u001b[39;49m_namespaces))\n",
      "File \u001b[1;32m<string>:1\u001b[0m\n",
      "\u001b[1;31mNameError\u001b[0m: name 'y_total' is not defined",
      "\nThe above exception was the direct cause of the following exception:\n",
      "\u001b[1;31mPatsyError\u001b[0m                                Traceback (most recent call last)",
      "Cell \u001b[1;32mIn[185], line 1\u001b[0m\n\u001b[1;32m----> 1\u001b[0m model \u001b[39m=\u001b[39m ols(\u001b[39m'\u001b[39;49m\u001b[39my_total~ C(health_state)+log_income+log_debt+C(gen_2)+C(edu_2)+C(edu_3)+C(edu_4)+C(disabled_2)+C(work_state_2)+C(age_range_2)+C(age_range_3)+C(age_range_4)+C(age_range_5)\u001b[39;49m\u001b[39m'\u001b[39;49m, data \u001b[39m=\u001b[39;49m test)\n\u001b[0;32m      2\u001b[0m fit \u001b[39m=\u001b[39m model\u001b[39m.\u001b[39mfit()\n\u001b[0;32m      4\u001b[0m fit\u001b[39m.\u001b[39msummary\n",
      "File \u001b[1;32mc:\\Users\\hamin\\AppData\\Local\\Programs\\Python\\Python311\\Lib\\site-packages\\statsmodels\\base\\model.py:203\u001b[0m, in \u001b[0;36mModel.from_formula\u001b[1;34m(cls, formula, data, subset, drop_cols, *args, **kwargs)\u001b[0m\n\u001b[0;32m    200\u001b[0m \u001b[39mif\u001b[39;00m missing \u001b[39m==\u001b[39m \u001b[39m'\u001b[39m\u001b[39mnone\u001b[39m\u001b[39m'\u001b[39m:  \u001b[39m# with patsy it's drop or raise. let's raise.\u001b[39;00m\n\u001b[0;32m    201\u001b[0m     missing \u001b[39m=\u001b[39m \u001b[39m'\u001b[39m\u001b[39mraise\u001b[39m\u001b[39m'\u001b[39m\n\u001b[1;32m--> 203\u001b[0m tmp \u001b[39m=\u001b[39m handle_formula_data(data, \u001b[39mNone\u001b[39;49;00m, formula, depth\u001b[39m=\u001b[39;49meval_env,\n\u001b[0;32m    204\u001b[0m                           missing\u001b[39m=\u001b[39;49mmissing)\n\u001b[0;32m    205\u001b[0m ((endog, exog), missing_idx, design_info) \u001b[39m=\u001b[39m tmp\n\u001b[0;32m    206\u001b[0m max_endog \u001b[39m=\u001b[39m \u001b[39mcls\u001b[39m\u001b[39m.\u001b[39m_formula_max_endog\n",
      "File \u001b[1;32mc:\\Users\\hamin\\AppData\\Local\\Programs\\Python\\Python311\\Lib\\site-packages\\statsmodels\\formula\\formulatools.py:63\u001b[0m, in \u001b[0;36mhandle_formula_data\u001b[1;34m(Y, X, formula, depth, missing)\u001b[0m\n\u001b[0;32m     61\u001b[0m \u001b[39melse\u001b[39;00m:\n\u001b[0;32m     62\u001b[0m     \u001b[39mif\u001b[39;00m data_util\u001b[39m.\u001b[39m_is_using_pandas(Y, \u001b[39mNone\u001b[39;00m):\n\u001b[1;32m---> 63\u001b[0m         result \u001b[39m=\u001b[39m dmatrices(formula, Y, depth, return_type\u001b[39m=\u001b[39;49m\u001b[39m'\u001b[39;49m\u001b[39mdataframe\u001b[39;49m\u001b[39m'\u001b[39;49m,\n\u001b[0;32m     64\u001b[0m                            NA_action\u001b[39m=\u001b[39;49mna_action)\n\u001b[0;32m     65\u001b[0m     \u001b[39melse\u001b[39;00m:\n\u001b[0;32m     66\u001b[0m         result \u001b[39m=\u001b[39m dmatrices(formula, Y, depth, return_type\u001b[39m=\u001b[39m\u001b[39m'\u001b[39m\u001b[39mdataframe\u001b[39m\u001b[39m'\u001b[39m,\n\u001b[0;32m     67\u001b[0m                            NA_action\u001b[39m=\u001b[39mna_action)\n",
      "File \u001b[1;32mc:\\Users\\hamin\\AppData\\Local\\Programs\\Python\\Python311\\Lib\\site-packages\\patsy\\highlevel.py:309\u001b[0m, in \u001b[0;36mdmatrices\u001b[1;34m(formula_like, data, eval_env, NA_action, return_type)\u001b[0m\n\u001b[0;32m    299\u001b[0m \u001b[39m\u001b[39m\u001b[39m\"\"\"Construct two design matrices given a formula_like and data.\u001b[39;00m\n\u001b[0;32m    300\u001b[0m \n\u001b[0;32m    301\u001b[0m \u001b[39mThis function is identical to :func:`dmatrix`, except that it requires\u001b[39;00m\n\u001b[1;32m   (...)\u001b[0m\n\u001b[0;32m    306\u001b[0m \u001b[39mSee :func:`dmatrix` for details.\u001b[39;00m\n\u001b[0;32m    307\u001b[0m \u001b[39m\"\"\"\u001b[39;00m\n\u001b[0;32m    308\u001b[0m eval_env \u001b[39m=\u001b[39m EvalEnvironment\u001b[39m.\u001b[39mcapture(eval_env, reference\u001b[39m=\u001b[39m\u001b[39m1\u001b[39m)\n\u001b[1;32m--> 309\u001b[0m (lhs, rhs) \u001b[39m=\u001b[39m _do_highlevel_design(formula_like, data, eval_env,\n\u001b[0;32m    310\u001b[0m                                   NA_action, return_type)\n\u001b[0;32m    311\u001b[0m \u001b[39mif\u001b[39;00m lhs\u001b[39m.\u001b[39mshape[\u001b[39m1\u001b[39m] \u001b[39m==\u001b[39m \u001b[39m0\u001b[39m:\n\u001b[0;32m    312\u001b[0m     \u001b[39mraise\u001b[39;00m PatsyError(\u001b[39m\"\u001b[39m\u001b[39mmodel is missing required outcome variables\u001b[39m\u001b[39m\"\u001b[39m)\n",
      "File \u001b[1;32mc:\\Users\\hamin\\AppData\\Local\\Programs\\Python\\Python311\\Lib\\site-packages\\patsy\\highlevel.py:164\u001b[0m, in \u001b[0;36m_do_highlevel_design\u001b[1;34m(formula_like, data, eval_env, NA_action, return_type)\u001b[0m\n\u001b[0;32m    162\u001b[0m \u001b[39mdef\u001b[39;00m \u001b[39mdata_iter_maker\u001b[39m():\n\u001b[0;32m    163\u001b[0m     \u001b[39mreturn\u001b[39;00m \u001b[39miter\u001b[39m([data])\n\u001b[1;32m--> 164\u001b[0m design_infos \u001b[39m=\u001b[39m _try_incr_builders(formula_like, data_iter_maker, eval_env,\n\u001b[0;32m    165\u001b[0m                                   NA_action)\n\u001b[0;32m    166\u001b[0m \u001b[39mif\u001b[39;00m design_infos \u001b[39mis\u001b[39;00m \u001b[39mnot\u001b[39;00m \u001b[39mNone\u001b[39;00m:\n\u001b[0;32m    167\u001b[0m     \u001b[39mreturn\u001b[39;00m build_design_matrices(design_infos, data,\n\u001b[0;32m    168\u001b[0m                                  NA_action\u001b[39m=\u001b[39mNA_action,\n\u001b[0;32m    169\u001b[0m                                  return_type\u001b[39m=\u001b[39mreturn_type)\n",
      "File \u001b[1;32mc:\\Users\\hamin\\AppData\\Local\\Programs\\Python\\Python311\\Lib\\site-packages\\patsy\\highlevel.py:66\u001b[0m, in \u001b[0;36m_try_incr_builders\u001b[1;34m(formula_like, data_iter_maker, eval_env, NA_action)\u001b[0m\n\u001b[0;32m     64\u001b[0m \u001b[39mif\u001b[39;00m \u001b[39misinstance\u001b[39m(formula_like, ModelDesc):\n\u001b[0;32m     65\u001b[0m     \u001b[39massert\u001b[39;00m \u001b[39misinstance\u001b[39m(eval_env, EvalEnvironment)\n\u001b[1;32m---> 66\u001b[0m     \u001b[39mreturn\u001b[39;00m design_matrix_builders([formula_like\u001b[39m.\u001b[39;49mlhs_termlist,\n\u001b[0;32m     67\u001b[0m                                    formula_like\u001b[39m.\u001b[39;49mrhs_termlist],\n\u001b[0;32m     68\u001b[0m                                   data_iter_maker,\n\u001b[0;32m     69\u001b[0m                                   eval_env,\n\u001b[0;32m     70\u001b[0m                                   NA_action)\n\u001b[0;32m     71\u001b[0m \u001b[39melse\u001b[39;00m:\n\u001b[0;32m     72\u001b[0m     \u001b[39mreturn\u001b[39;00m \u001b[39mNone\u001b[39;00m\n",
      "File \u001b[1;32mc:\\Users\\hamin\\AppData\\Local\\Programs\\Python\\Python311\\Lib\\site-packages\\patsy\\build.py:693\u001b[0m, in \u001b[0;36mdesign_matrix_builders\u001b[1;34m(termlists, data_iter_maker, eval_env, NA_action)\u001b[0m\n\u001b[0;32m    689\u001b[0m factor_states \u001b[39m=\u001b[39m _factors_memorize(all_factors, data_iter_maker, eval_env)\n\u001b[0;32m    690\u001b[0m \u001b[39m# Now all the factors have working eval methods, so we can evaluate them\u001b[39;00m\n\u001b[0;32m    691\u001b[0m \u001b[39m# on some data to find out what type of data they return.\u001b[39;00m\n\u001b[0;32m    692\u001b[0m (num_column_counts,\n\u001b[1;32m--> 693\u001b[0m  cat_levels_contrasts) \u001b[39m=\u001b[39m _examine_factor_types(all_factors,\n\u001b[0;32m    694\u001b[0m                                                factor_states,\n\u001b[0;32m    695\u001b[0m                                                data_iter_maker,\n\u001b[0;32m    696\u001b[0m                                                NA_action)\n\u001b[0;32m    697\u001b[0m \u001b[39m# Now we need the factor infos, which encapsulate the knowledge of\u001b[39;00m\n\u001b[0;32m    698\u001b[0m \u001b[39m# how to turn any given factor into a chunk of data:\u001b[39;00m\n\u001b[0;32m    699\u001b[0m factor_infos \u001b[39m=\u001b[39m {}\n",
      "File \u001b[1;32mc:\\Users\\hamin\\AppData\\Local\\Programs\\Python\\Python311\\Lib\\site-packages\\patsy\\build.py:443\u001b[0m, in \u001b[0;36m_examine_factor_types\u001b[1;34m(factors, factor_states, data_iter_maker, NA_action)\u001b[0m\n\u001b[0;32m    441\u001b[0m \u001b[39mfor\u001b[39;00m data \u001b[39min\u001b[39;00m data_iter_maker():\n\u001b[0;32m    442\u001b[0m     \u001b[39mfor\u001b[39;00m factor \u001b[39min\u001b[39;00m \u001b[39mlist\u001b[39m(examine_needed):\n\u001b[1;32m--> 443\u001b[0m         value \u001b[39m=\u001b[39m factor\u001b[39m.\u001b[39;49meval(factor_states[factor], data)\n\u001b[0;32m    444\u001b[0m         \u001b[39mif\u001b[39;00m factor \u001b[39min\u001b[39;00m cat_sniffers \u001b[39mor\u001b[39;00m guess_categorical(value):\n\u001b[0;32m    445\u001b[0m             \u001b[39mif\u001b[39;00m factor \u001b[39mnot\u001b[39;00m \u001b[39min\u001b[39;00m cat_sniffers:\n",
      "File \u001b[1;32mc:\\Users\\hamin\\AppData\\Local\\Programs\\Python\\Python311\\Lib\\site-packages\\patsy\\eval.py:568\u001b[0m, in \u001b[0;36mEvalFactor.eval\u001b[1;34m(self, memorize_state, data)\u001b[0m\n\u001b[0;32m    567\u001b[0m \u001b[39mdef\u001b[39;00m \u001b[39meval\u001b[39m(\u001b[39mself\u001b[39m, memorize_state, data):\n\u001b[1;32m--> 568\u001b[0m     \u001b[39mreturn\u001b[39;00m \u001b[39mself\u001b[39;49m\u001b[39m.\u001b[39;49m_eval(memorize_state[\u001b[39m\"\u001b[39;49m\u001b[39meval_code\u001b[39;49m\u001b[39m\"\u001b[39;49m],\n\u001b[0;32m    569\u001b[0m                       memorize_state,\n\u001b[0;32m    570\u001b[0m                       data)\n",
      "File \u001b[1;32mc:\\Users\\hamin\\AppData\\Local\\Programs\\Python\\Python311\\Lib\\site-packages\\patsy\\eval.py:551\u001b[0m, in \u001b[0;36mEvalFactor._eval\u001b[1;34m(self, code, memorize_state, data)\u001b[0m\n\u001b[0;32m    549\u001b[0m \u001b[39mdef\u001b[39;00m \u001b[39m_eval\u001b[39m(\u001b[39mself\u001b[39m, code, memorize_state, data):\n\u001b[0;32m    550\u001b[0m     inner_namespace \u001b[39m=\u001b[39m VarLookupDict([data, memorize_state[\u001b[39m\"\u001b[39m\u001b[39mtransforms\u001b[39m\u001b[39m\"\u001b[39m]])\n\u001b[1;32m--> 551\u001b[0m     \u001b[39mreturn\u001b[39;00m call_and_wrap_exc(\u001b[39m\"\u001b[39;49m\u001b[39mError evaluating factor\u001b[39;49m\u001b[39m\"\u001b[39;49m,\n\u001b[0;32m    552\u001b[0m                              \u001b[39mself\u001b[39;49m,\n\u001b[0;32m    553\u001b[0m                              memorize_state[\u001b[39m\"\u001b[39;49m\u001b[39meval_env\u001b[39;49m\u001b[39m\"\u001b[39;49m]\u001b[39m.\u001b[39;49meval,\n\u001b[0;32m    554\u001b[0m                              code,\n\u001b[0;32m    555\u001b[0m                              inner_namespace\u001b[39m=\u001b[39;49minner_namespace)\n",
      "File \u001b[1;32mc:\\Users\\hamin\\AppData\\Local\\Programs\\Python\\Python311\\Lib\\site-packages\\patsy\\compat.py:43\u001b[0m, in \u001b[0;36mcall_and_wrap_exc\u001b[1;34m(msg, origin, f, *args, **kwargs)\u001b[0m\n\u001b[0;32m     39\u001b[0m     new_exc \u001b[39m=\u001b[39m PatsyError(\u001b[39m\"\u001b[39m\u001b[39m%s\u001b[39;00m\u001b[39m: \u001b[39m\u001b[39m%s\u001b[39;00m\u001b[39m: \u001b[39m\u001b[39m%s\u001b[39;00m\u001b[39m\"\u001b[39m\n\u001b[0;32m     40\u001b[0m                          \u001b[39m%\u001b[39m (msg, e\u001b[39m.\u001b[39m\u001b[39m__class__\u001b[39m\u001b[39m.\u001b[39m\u001b[39m__name__\u001b[39m, e),\n\u001b[0;32m     41\u001b[0m                          origin)\n\u001b[0;32m     42\u001b[0m     \u001b[39m# Use 'exec' to hide this syntax from the Python 2 parser:\u001b[39;00m\n\u001b[1;32m---> 43\u001b[0m     exec(\u001b[39m\"\u001b[39;49m\u001b[39mraise new_exc from e\u001b[39;49m\u001b[39m\"\u001b[39;49m)\n\u001b[0;32m     44\u001b[0m \u001b[39melse\u001b[39;00m:\n\u001b[0;32m     45\u001b[0m     \u001b[39m# In python 2, we just let the original exception escape -- better\u001b[39;00m\n\u001b[0;32m     46\u001b[0m     \u001b[39m# than destroying the traceback. But if it's a PatsyError, we can\u001b[39;00m\n\u001b[0;32m     47\u001b[0m     \u001b[39m# at least set the origin properly.\u001b[39;00m\n\u001b[0;32m     48\u001b[0m     \u001b[39mif\u001b[39;00m \u001b[39misinstance\u001b[39m(e, PatsyError):\n",
      "File \u001b[1;32m<string>:1\u001b[0m\n",
      "\u001b[1;31mPatsyError\u001b[0m: Error evaluating factor: NameError: name 'y_total' is not defined\n    y_total~ C(health_state)+log_income+log_debt+C(gen_2)+C(edu_2)+C(edu_3)+C(edu_4)+C(disabled_2)+C(work_state_2)+C(age_range_2)+C(age_range_3)+C(age_range_4)+C(age_range_5)\n    ^^^^^^^"
     ]
    }
   ],
   "source": [
    "model = ols('y_total~ C(health_state)+log_income+log_debt+C(gen_2)+C(edu_2)+C(edu_3)+C(edu_4)+C(disabled_2)+C(work_state_2)+C(age_range_2)+C(age_range_3)+C(age_range_4)+C(age_range_5)', data = test)\n",
    "fit = model.fit()\n",
    "\n",
    "fit.summary"
   ]
  },
  {
   "cell_type": "code",
   "execution_count": 125,
   "metadata": {},
   "outputs": [
    {
     "name": "stdout",
     "output_type": "stream",
     "text": [
      "                            OLS Regression Results                            \n",
      "==============================================================================\n",
      "Dep. Variable:                y_total   R-squared:                       0.175\n",
      "Model:                            OLS   Adj. R-squared:                  0.173\n",
      "Method:                 Least Squares   F-statistic:                     71.42\n",
      "Date:                Mon, 14 Aug 2023   Prob (F-statistic):          9.36e-211\n",
      "Time:                        10:06:23   Log-Likelihood:                -13053.\n",
      "No. Observations:                5405   AIC:                         2.614e+04\n",
      "Df Residuals:                    5388   BIC:                         2.625e+04\n",
      "Df Model:                          16                                         \n",
      "Covariance Type:            nonrobust                                         \n",
      "========================================================================================\n",
      "                           coef    std err          t      P>|t|      [0.025      0.975]\n",
      "----------------------------------------------------------------------------------------\n",
      "Intercept               27.8357      0.640     43.469      0.000      26.580      29.091\n",
      "C(health_state)[T.2]    -1.7737      0.364     -4.869      0.000      -2.488      -1.059\n",
      "C(health_state)[T.3]    -3.3343      0.362     -9.207      0.000      -4.044      -2.624\n",
      "C(health_state)[T.4]    -3.9868      0.361    -11.053      0.000      -4.694      -3.280\n",
      "C(health_state)[T.5]    -4.1368      0.378    -10.950      0.000      -4.877      -3.396\n",
      "C(gen_2)[T.1]            0.5671      0.077      7.376      0.000       0.416       0.718\n",
      "C(edu_2)[T.1]           -0.0945      0.174     -0.544      0.586      -0.435       0.246\n",
      "C(edu_3)[T.1]           -0.1392      0.151     -0.923      0.356      -0.435       0.157\n",
      "C(edu_4)[T.1]           -0.3307      0.162     -2.036      0.042      -0.649      -0.012\n",
      "C(disabled_2)[T.1]      -0.2500      0.165     -1.516      0.129      -0.573       0.073\n",
      "C(work_state_2)[T.1]     0.3336      0.088      3.782      0.000       0.161       0.507\n",
      "C(age_range_2)[T.1]     -0.0308      0.147     -0.209      0.834      -0.319       0.258\n",
      "C(age_range_3)[T.1]     -0.0527      0.136     -0.387      0.699      -0.320       0.214\n",
      "C(age_range_4)[T.1]     -0.0976      0.143     -0.681      0.496      -0.379       0.183\n",
      "C(age_range_5)[T.1]     -0.0716      0.153     -0.467      0.641      -0.372       0.229\n",
      "log_income              -0.6023      0.063     -9.617      0.000      -0.725      -0.480\n",
      "log_debt                -0.0463      0.026     -1.770      0.077      -0.098       0.005\n",
      "==============================================================================\n",
      "Omnibus:                     1907.524   Durbin-Watson:                   1.633\n",
      "Prob(Omnibus):                  0.000   Jarque-Bera (JB):             8755.237\n",
      "Skew:                           1.660   Prob(JB):                         0.00\n",
      "Kurtosis:                       8.278   Cond. No.                         273.\n",
      "==============================================================================\n",
      "\n",
      "Notes:\n",
      "[1] Standard Errors assume that the covariance matrix of the errors is correctly specified.\n"
     ]
    }
   ],
   "source": [
    "print(fit.summary())"
   ]
  },
  {
   "cell_type": "code",
   "execution_count": 118,
   "metadata": {},
   "outputs": [
    {
     "data": {
      "text/html": [
       "<div>\n",
       "<style scoped>\n",
       "    .dataframe tbody tr th:only-of-type {\n",
       "        vertical-align: middle;\n",
       "    }\n",
       "\n",
       "    .dataframe tbody tr th {\n",
       "        vertical-align: top;\n",
       "    }\n",
       "\n",
       "    .dataframe thead th {\n",
       "        text-align: right;\n",
       "    }\n",
       "</style>\n",
       "<table border=\"1\" class=\"dataframe\">\n",
       "  <thead>\n",
       "    <tr style=\"text-align: right;\">\n",
       "      <th></th>\n",
       "      <th>health_state</th>\n",
       "      <th>y_total</th>\n",
       "      <th>log_income</th>\n",
       "      <th>log_debt</th>\n",
       "      <th>gen_2</th>\n",
       "      <th>edu_2</th>\n",
       "      <th>edu_3</th>\n",
       "      <th>edu_4</th>\n",
       "      <th>disabled_2</th>\n",
       "      <th>work_state_2</th>\n",
       "      <th>age_range_2</th>\n",
       "      <th>age_range_3</th>\n",
       "      <th>age_range_4</th>\n",
       "      <th>age_range_5</th>\n",
       "    </tr>\n",
       "  </thead>\n",
       "  <tbody>\n",
       "    <tr>\n",
       "      <th>0</th>\n",
       "      <td>2</td>\n",
       "      <td>20</td>\n",
       "      <td>6.006353</td>\n",
       "      <td>9.244838</td>\n",
       "      <td>1</td>\n",
       "      <td>1</td>\n",
       "      <td>0</td>\n",
       "      <td>0</td>\n",
       "      <td>1</td>\n",
       "      <td>1</td>\n",
       "      <td>0</td>\n",
       "      <td>0</td>\n",
       "      <td>0</td>\n",
       "      <td>1</td>\n",
       "    </tr>\n",
       "    <tr>\n",
       "      <th>2</th>\n",
       "      <td>4</td>\n",
       "      <td>18</td>\n",
       "      <td>7.742836</td>\n",
       "      <td>9.962747</td>\n",
       "      <td>0</td>\n",
       "      <td>0</td>\n",
       "      <td>0</td>\n",
       "      <td>1</td>\n",
       "      <td>1</td>\n",
       "      <td>0</td>\n",
       "      <td>0</td>\n",
       "      <td>0</td>\n",
       "      <td>0</td>\n",
       "      <td>1</td>\n",
       "    </tr>\n",
       "    <tr>\n",
       "      <th>8</th>\n",
       "      <td>2</td>\n",
       "      <td>21</td>\n",
       "      <td>7.737093</td>\n",
       "      <td>6.928538</td>\n",
       "      <td>1</td>\n",
       "      <td>0</td>\n",
       "      <td>1</td>\n",
       "      <td>0</td>\n",
       "      <td>1</td>\n",
       "      <td>0</td>\n",
       "      <td>0</td>\n",
       "      <td>0</td>\n",
       "      <td>1</td>\n",
       "      <td>0</td>\n",
       "    </tr>\n",
       "    <tr>\n",
       "      <th>9</th>\n",
       "      <td>2</td>\n",
       "      <td>17</td>\n",
       "      <td>7.737093</td>\n",
       "      <td>6.928538</td>\n",
       "      <td>1</td>\n",
       "      <td>1</td>\n",
       "      <td>0</td>\n",
       "      <td>0</td>\n",
       "      <td>1</td>\n",
       "      <td>1</td>\n",
       "      <td>1</td>\n",
       "      <td>0</td>\n",
       "      <td>0</td>\n",
       "      <td>0</td>\n",
       "    </tr>\n",
       "    <tr>\n",
       "      <th>13</th>\n",
       "      <td>4</td>\n",
       "      <td>20</td>\n",
       "      <td>8.692658</td>\n",
       "      <td>9.466687</td>\n",
       "      <td>0</td>\n",
       "      <td>0</td>\n",
       "      <td>0</td>\n",
       "      <td>1</td>\n",
       "      <td>1</td>\n",
       "      <td>0</td>\n",
       "      <td>0</td>\n",
       "      <td>1</td>\n",
       "      <td>0</td>\n",
       "      <td>0</td>\n",
       "    </tr>\n",
       "  </tbody>\n",
       "</table>\n",
       "</div>"
      ],
      "text/plain": [
       "    health_state  y_total  log_income  log_debt  gen_2  edu_2  edu_3  edu_4  \\\n",
       "0              2       20    6.006353  9.244838      1      1      0      0   \n",
       "2              4       18    7.742836  9.962747      0      0      0      1   \n",
       "8              2       21    7.737093  6.928538      1      0      1      0   \n",
       "9              2       17    7.737093  6.928538      1      1      0      0   \n",
       "13             4       20    8.692658  9.466687      0      0      0      1   \n",
       "\n",
       "    disabled_2  work_state_2  age_range_2  age_range_3  age_range_4  \\\n",
       "0            1             1            0            0            0   \n",
       "2            1             0            0            0            0   \n",
       "8            1             0            0            0            1   \n",
       "9            1             1            1            0            0   \n",
       "13           1             0            0            1            0   \n",
       "\n",
       "    age_range_5  \n",
       "0             1  \n",
       "2             1  \n",
       "8             0  \n",
       "9             0  \n",
       "13            0  "
      ]
     },
     "execution_count": 118,
     "metadata": {},
     "output_type": "execute_result"
    }
   ],
   "source": [
    "test.head()"
   ]
  },
  {
   "cell_type": "code",
   "execution_count": 119,
   "metadata": {},
   "outputs": [
    {
     "data": {
      "text/plain": [
       "health_state      int64\n",
       "y_total           int64\n",
       "log_income      float64\n",
       "log_debt        float64\n",
       "gen_2             int32\n",
       "edu_2             int32\n",
       "edu_3             int32\n",
       "edu_4             int32\n",
       "disabled_2        int32\n",
       "work_state_2      int32\n",
       "age_range_2       int32\n",
       "age_range_3       int32\n",
       "age_range_4       int32\n",
       "age_range_5       int32\n",
       "dtype: object"
      ]
     },
     "execution_count": 119,
     "metadata": {},
     "output_type": "execute_result"
    }
   ],
   "source": [
    "test.dtypes"
   ]
  },
  {
   "cell_type": "code",
   "execution_count": 121,
   "metadata": {},
   "outputs": [
    {
     "ename": "ValueError",
     "evalue": "unrecognized data structures: <class 'str'> / <class 'NoneType'>",
     "output_type": "error",
     "traceback": [
      "\u001b[1;31m---------------------------------------------------------------------------\u001b[0m",
      "\u001b[1;31mValueError\u001b[0m                                Traceback (most recent call last)",
      "Cell \u001b[1;32mIn[121], line 1\u001b[0m\n\u001b[1;32m----> 1\u001b[0m model \u001b[39m=\u001b[39m sm\u001b[39m.\u001b[39;49mOLS(\u001b[39m'\u001b[39;49m\u001b[39my_total~ C(health_state)+log_income+log_debt+C(gen_2)+C(edu_2)+C(edu_3)+C(edu_4)+C(disabled_2)+C(work_state_2)+C(age_range_2)+C(age_range_3)+C(age_range_4)+C(age_range_5)\u001b[39;49m\u001b[39m'\u001b[39;49m, data \u001b[39m=\u001b[39;49m test)\u001b[39m.\u001b[39mfit()\n\u001b[0;32m      3\u001b[0m \u001b[39mprint\u001b[39m(model\u001b[39m.\u001b[39msummary())\n",
      "File \u001b[1;32mc:\\Users\\hamin\\AppData\\Local\\Programs\\Python\\Python311\\Lib\\site-packages\\statsmodels\\regression\\linear_model.py:922\u001b[0m, in \u001b[0;36mOLS.__init__\u001b[1;34m(self, endog, exog, missing, hasconst, **kwargs)\u001b[0m\n\u001b[0;32m    919\u001b[0m     msg \u001b[39m=\u001b[39m (\u001b[39m\"\u001b[39m\u001b[39mWeights are not supported in OLS and will be ignored\u001b[39m\u001b[39m\"\u001b[39m\n\u001b[0;32m    920\u001b[0m            \u001b[39m\"\u001b[39m\u001b[39mAn exception will be raised in the next version.\u001b[39m\u001b[39m\"\u001b[39m)\n\u001b[0;32m    921\u001b[0m     warnings\u001b[39m.\u001b[39mwarn(msg, ValueWarning)\n\u001b[1;32m--> 922\u001b[0m \u001b[39msuper\u001b[39;49m(OLS, \u001b[39mself\u001b[39;49m)\u001b[39m.\u001b[39;49m\u001b[39m__init__\u001b[39;49m(endog, exog, missing\u001b[39m=\u001b[39;49mmissing,\n\u001b[0;32m    923\u001b[0m                           hasconst\u001b[39m=\u001b[39;49mhasconst, \u001b[39m*\u001b[39;49m\u001b[39m*\u001b[39;49mkwargs)\n\u001b[0;32m    924\u001b[0m \u001b[39mif\u001b[39;00m \u001b[39m\"\u001b[39m\u001b[39mweights\u001b[39m\u001b[39m\"\u001b[39m \u001b[39min\u001b[39;00m \u001b[39mself\u001b[39m\u001b[39m.\u001b[39m_init_keys:\n\u001b[0;32m    925\u001b[0m     \u001b[39mself\u001b[39m\u001b[39m.\u001b[39m_init_keys\u001b[39m.\u001b[39mremove(\u001b[39m\"\u001b[39m\u001b[39mweights\u001b[39m\u001b[39m\"\u001b[39m)\n",
      "File \u001b[1;32mc:\\Users\\hamin\\AppData\\Local\\Programs\\Python\\Python311\\Lib\\site-packages\\statsmodels\\regression\\linear_model.py:748\u001b[0m, in \u001b[0;36mWLS.__init__\u001b[1;34m(self, endog, exog, weights, missing, hasconst, **kwargs)\u001b[0m\n\u001b[0;32m    746\u001b[0m \u001b[39melse\u001b[39;00m:\n\u001b[0;32m    747\u001b[0m     weights \u001b[39m=\u001b[39m weights\u001b[39m.\u001b[39msqueeze()\n\u001b[1;32m--> 748\u001b[0m \u001b[39msuper\u001b[39;49m(WLS, \u001b[39mself\u001b[39;49m)\u001b[39m.\u001b[39;49m\u001b[39m__init__\u001b[39;49m(endog, exog, missing\u001b[39m=\u001b[39;49mmissing,\n\u001b[0;32m    749\u001b[0m                           weights\u001b[39m=\u001b[39;49mweights, hasconst\u001b[39m=\u001b[39;49mhasconst, \u001b[39m*\u001b[39;49m\u001b[39m*\u001b[39;49mkwargs)\n\u001b[0;32m    750\u001b[0m nobs \u001b[39m=\u001b[39m \u001b[39mself\u001b[39m\u001b[39m.\u001b[39mexog\u001b[39m.\u001b[39mshape[\u001b[39m0\u001b[39m]\n\u001b[0;32m    751\u001b[0m weights \u001b[39m=\u001b[39m \u001b[39mself\u001b[39m\u001b[39m.\u001b[39mweights\n",
      "File \u001b[1;32mc:\\Users\\hamin\\AppData\\Local\\Programs\\Python\\Python311\\Lib\\site-packages\\statsmodels\\regression\\linear_model.py:202\u001b[0m, in \u001b[0;36mRegressionModel.__init__\u001b[1;34m(self, endog, exog, **kwargs)\u001b[0m\n\u001b[0;32m    201\u001b[0m \u001b[39mdef\u001b[39;00m \u001b[39m__init__\u001b[39m(\u001b[39mself\u001b[39m, endog, exog, \u001b[39m*\u001b[39m\u001b[39m*\u001b[39mkwargs):\n\u001b[1;32m--> 202\u001b[0m     \u001b[39msuper\u001b[39;49m(RegressionModel, \u001b[39mself\u001b[39;49m)\u001b[39m.\u001b[39;49m\u001b[39m__init__\u001b[39;49m(endog, exog, \u001b[39m*\u001b[39;49m\u001b[39m*\u001b[39;49mkwargs)\n\u001b[0;32m    203\u001b[0m     \u001b[39mself\u001b[39m\u001b[39m.\u001b[39mpinv_wexog: Float64Array \u001b[39m|\u001b[39m \u001b[39mNone\u001b[39;00m \u001b[39m=\u001b[39m \u001b[39mNone\u001b[39;00m\n\u001b[0;32m    204\u001b[0m     \u001b[39mself\u001b[39m\u001b[39m.\u001b[39m_data_attr\u001b[39m.\u001b[39mextend([\u001b[39m'\u001b[39m\u001b[39mpinv_wexog\u001b[39m\u001b[39m'\u001b[39m, \u001b[39m'\u001b[39m\u001b[39mwendog\u001b[39m\u001b[39m'\u001b[39m, \u001b[39m'\u001b[39m\u001b[39mwexog\u001b[39m\u001b[39m'\u001b[39m, \u001b[39m'\u001b[39m\u001b[39mweights\u001b[39m\u001b[39m'\u001b[39m])\n",
      "File \u001b[1;32mc:\\Users\\hamin\\AppData\\Local\\Programs\\Python\\Python311\\Lib\\site-packages\\statsmodels\\base\\model.py:270\u001b[0m, in \u001b[0;36mLikelihoodModel.__init__\u001b[1;34m(self, endog, exog, **kwargs)\u001b[0m\n\u001b[0;32m    269\u001b[0m \u001b[39mdef\u001b[39;00m \u001b[39m__init__\u001b[39m(\u001b[39mself\u001b[39m, endog, exog\u001b[39m=\u001b[39m\u001b[39mNone\u001b[39;00m, \u001b[39m*\u001b[39m\u001b[39m*\u001b[39mkwargs):\n\u001b[1;32m--> 270\u001b[0m     \u001b[39msuper\u001b[39;49m()\u001b[39m.\u001b[39;49m\u001b[39m__init__\u001b[39;49m(endog, exog, \u001b[39m*\u001b[39;49m\u001b[39m*\u001b[39;49mkwargs)\n\u001b[0;32m    271\u001b[0m     \u001b[39mself\u001b[39m\u001b[39m.\u001b[39minitialize()\n",
      "File \u001b[1;32mc:\\Users\\hamin\\AppData\\Local\\Programs\\Python\\Python311\\Lib\\site-packages\\statsmodels\\base\\model.py:95\u001b[0m, in \u001b[0;36mModel.__init__\u001b[1;34m(self, endog, exog, **kwargs)\u001b[0m\n\u001b[0;32m     93\u001b[0m missing \u001b[39m=\u001b[39m kwargs\u001b[39m.\u001b[39mpop(\u001b[39m'\u001b[39m\u001b[39mmissing\u001b[39m\u001b[39m'\u001b[39m, \u001b[39m'\u001b[39m\u001b[39mnone\u001b[39m\u001b[39m'\u001b[39m)\n\u001b[0;32m     94\u001b[0m hasconst \u001b[39m=\u001b[39m kwargs\u001b[39m.\u001b[39mpop(\u001b[39m'\u001b[39m\u001b[39mhasconst\u001b[39m\u001b[39m'\u001b[39m, \u001b[39mNone\u001b[39;00m)\n\u001b[1;32m---> 95\u001b[0m \u001b[39mself\u001b[39m\u001b[39m.\u001b[39mdata \u001b[39m=\u001b[39m \u001b[39mself\u001b[39;49m\u001b[39m.\u001b[39;49m_handle_data(endog, exog, missing, hasconst,\n\u001b[0;32m     96\u001b[0m                               \u001b[39m*\u001b[39;49m\u001b[39m*\u001b[39;49mkwargs)\n\u001b[0;32m     97\u001b[0m \u001b[39mself\u001b[39m\u001b[39m.\u001b[39mk_constant \u001b[39m=\u001b[39m \u001b[39mself\u001b[39m\u001b[39m.\u001b[39mdata\u001b[39m.\u001b[39mk_constant\n\u001b[0;32m     98\u001b[0m \u001b[39mself\u001b[39m\u001b[39m.\u001b[39mexog \u001b[39m=\u001b[39m \u001b[39mself\u001b[39m\u001b[39m.\u001b[39mdata\u001b[39m.\u001b[39mexog\n",
      "File \u001b[1;32mc:\\Users\\hamin\\AppData\\Local\\Programs\\Python\\Python311\\Lib\\site-packages\\statsmodels\\base\\model.py:135\u001b[0m, in \u001b[0;36mModel._handle_data\u001b[1;34m(self, endog, exog, missing, hasconst, **kwargs)\u001b[0m\n\u001b[0;32m    134\u001b[0m \u001b[39mdef\u001b[39;00m \u001b[39m_handle_data\u001b[39m(\u001b[39mself\u001b[39m, endog, exog, missing, hasconst, \u001b[39m*\u001b[39m\u001b[39m*\u001b[39mkwargs):\n\u001b[1;32m--> 135\u001b[0m     data \u001b[39m=\u001b[39m handle_data(endog, exog, missing, hasconst, \u001b[39m*\u001b[39;49m\u001b[39m*\u001b[39;49mkwargs)\n\u001b[0;32m    136\u001b[0m     \u001b[39m# kwargs arrays could have changed, easier to just attach here\u001b[39;00m\n\u001b[0;32m    137\u001b[0m     \u001b[39mfor\u001b[39;00m key \u001b[39min\u001b[39;00m kwargs:\n",
      "File \u001b[1;32mc:\\Users\\hamin\\AppData\\Local\\Programs\\Python\\Python311\\Lib\\site-packages\\statsmodels\\base\\data.py:674\u001b[0m, in \u001b[0;36mhandle_data\u001b[1;34m(endog, exog, missing, hasconst, **kwargs)\u001b[0m\n\u001b[0;32m    671\u001b[0m \u001b[39mif\u001b[39;00m \u001b[39misinstance\u001b[39m(exog, (\u001b[39mlist\u001b[39m, \u001b[39mtuple\u001b[39m)):\n\u001b[0;32m    672\u001b[0m     exog \u001b[39m=\u001b[39m np\u001b[39m.\u001b[39masarray(exog)\n\u001b[1;32m--> 674\u001b[0m klass \u001b[39m=\u001b[39m handle_data_class_factory(endog, exog)\n\u001b[0;32m    675\u001b[0m \u001b[39mreturn\u001b[39;00m klass(endog, exog\u001b[39m=\u001b[39mexog, missing\u001b[39m=\u001b[39mmissing, hasconst\u001b[39m=\u001b[39mhasconst,\n\u001b[0;32m    676\u001b[0m              \u001b[39m*\u001b[39m\u001b[39m*\u001b[39mkwargs)\n",
      "File \u001b[1;32mc:\\Users\\hamin\\AppData\\Local\\Programs\\Python\\Python311\\Lib\\site-packages\\statsmodels\\base\\data.py:662\u001b[0m, in \u001b[0;36mhandle_data_class_factory\u001b[1;34m(endog, exog)\u001b[0m\n\u001b[0;32m    660\u001b[0m     klass \u001b[39m=\u001b[39m ModelData\n\u001b[0;32m    661\u001b[0m \u001b[39melse\u001b[39;00m:\n\u001b[1;32m--> 662\u001b[0m     \u001b[39mraise\u001b[39;00m \u001b[39mValueError\u001b[39;00m(\u001b[39m'\u001b[39m\u001b[39munrecognized data structures: \u001b[39m\u001b[39m%s\u001b[39;00m\u001b[39m / \u001b[39m\u001b[39m%s\u001b[39;00m\u001b[39m'\u001b[39m \u001b[39m%\u001b[39m\n\u001b[0;32m    663\u001b[0m                      (\u001b[39mtype\u001b[39m(endog), \u001b[39mtype\u001b[39m(exog)))\n\u001b[0;32m    664\u001b[0m \u001b[39mreturn\u001b[39;00m klass\n",
      "\u001b[1;31mValueError\u001b[0m: unrecognized data structures: <class 'str'> / <class 'NoneType'>"
     ]
    }
   ],
   "source": [
    "model = sm.OLS('y_total~ C(health_state)+log_income+log_debt+C(gen_2)+C(edu_2)+C(edu_3)+C(edu_4)+C(disabled_2)+C(work_state_2)+C(age_range_2)+C(age_range_3)+C(age_range_4)+C(age_range_5)', data = test).fit()\n",
    "\n",
    "print(model.summary())"
   ]
  },
  {
   "cell_type": "code",
   "execution_count": null,
   "metadata": {},
   "outputs": [
    {
     "name": "stdout",
     "output_type": "stream",
     "text": [
      "                                 OLS Regression Results                                \n",
      "=======================================================================================\n",
      "Dep. Variable:                y_total   R-squared (uncentered):                   0.970\n",
      "Model:                            OLS   Adj. R-squared (uncentered):              0.970\n",
      "Method:                 Least Squares   F-statistic:                          1.330e+04\n",
      "Date:                Mon, 14 Aug 2023   Prob (F-statistic):                        0.00\n",
      "Time:                        09:48:03   Log-Likelihood:                         -14077.\n",
      "No. Observations:                5405   AIC:                                  2.818e+04\n",
      "Df Residuals:                    5392   BIC:                                  2.827e+04\n",
      "Df Model:                          13                                                  \n",
      "Covariance Type:            nonrobust                                                  \n",
      "================================================================================\n",
      "                   coef    std err          t      P>|t|      [0.025      0.975]\n",
      "--------------------------------------------------------------------------------\n",
      "health_state    -0.4763      0.061     -7.763      0.000      -0.597      -0.356\n",
      "log_income       1.7866      0.046     38.674      0.000       1.696       1.877\n",
      "log_debt         0.1407      0.031      4.502      0.000       0.079       0.202\n",
      "gen_2            0.7801      0.093      8.416      0.000       0.598       0.962\n",
      "edu_2            0.6790      0.208      3.260      0.001       0.271       1.087\n",
      "edu_3            0.2175      0.181      1.199      0.231      -0.138       0.573\n",
      "edu_4           -0.1351      0.196     -0.690      0.490      -0.519       0.249\n",
      "disabled_2       1.0011      0.196      5.103      0.000       0.616       1.386\n",
      "work_state_2     1.5747      0.102     15.406      0.000       1.374       1.775\n",
      "age_range_2      1.4297      0.174      8.210      0.000       1.088       1.771\n",
      "age_range_3      1.3398      0.161      8.340      0.000       1.025       1.655\n",
      "age_range_4      1.5011      0.168      8.953      0.000       1.172       1.830\n",
      "age_range_5      3.0099      0.167     17.984      0.000       2.682       3.338\n",
      "==============================================================================\n",
      "Omnibus:                     1712.391   Durbin-Watson:                   1.504\n",
      "Prob(Omnibus):                  0.000   Jarque-Bera (JB):             6417.777\n",
      "Skew:                           1.549   Prob(JB):                         0.00\n",
      "Kurtosis:                       7.348   Cond. No.                         86.1\n",
      "==============================================================================\n",
      "\n",
      "Notes:\n",
      "[1] R² is computed without centering (uncentered) since the model does not contain a constant.\n",
      "[2] Standard Errors assume that the covariance matrix of the errors is correctly specified.\n"
     ]
    }
   ],
   "source": [
    "print(model.summary())"
   ]
  },
  {
   "cell_type": "code",
   "execution_count": null,
   "metadata": {},
   "outputs": [],
   "source": []
  },
  {
   "cell_type": "code",
   "execution_count": 61,
   "metadata": {},
   "outputs": [
    {
     "name": "stdout",
     "output_type": "stream",
     "text": [
      "Optimization terminated successfully.\n",
      "         Current function value: 0.271050\n",
      "         Iterations 7\n",
      "                           Logit Regression Results                           \n",
      "==============================================================================\n",
      "Dep. Variable:                y_train   No. Observations:                 5405\n",
      "Model:                          Logit   Df Residuals:                     5391\n",
      "Method:                           MLE   Df Model:                           13\n",
      "Date:                Sat, 12 Aug 2023   Pseudo R-squ.:                  0.1373\n",
      "Time:                        16:35:05   Log-Likelihood:                -1465.0\n",
      "converged:                       True   LL-Null:                       -1698.1\n",
      "Covariance Type:            nonrobust   LLR p-value:                 2.198e-91\n",
      "==================================================================================\n",
      "                     coef    std err          z      P>|z|      [0.025      0.975]\n",
      "----------------------------------------------------------------------------------\n",
      "Intercept          4.4670      0.655      6.824      0.000       3.184       5.750\n",
      "df[cnames][0]     -0.6670      0.061    -10.854      0.000      -0.787      -0.547\n",
      "df[cnames][1]     -0.4501      0.070     -6.462      0.000      -0.587      -0.314\n",
      "df[cnames][2]     -0.0442      0.033     -1.323      0.186      -0.110       0.021\n",
      "df[cnames][3]      0.5502      0.108      5.115      0.000       0.339       0.761\n",
      "df[cnames][4]     -0.0269      0.179     -0.150      0.881      -0.378       0.324\n",
      "df[cnames][5]      0.0331      0.162      0.205      0.837      -0.283       0.350\n",
      "df[cnames][6]     -0.2209      0.190     -1.165      0.244      -0.593       0.151\n",
      "df[cnames][7]     -0.3339      0.163     -2.044      0.041      -0.654      -0.014\n",
      "df[cnames][8]      0.3986      0.105      3.789      0.000       0.192       0.605\n",
      "df[cnames][9]     -0.2435      0.215     -1.135      0.256      -0.664       0.177\n",
      "df[cnames][10]    -0.5023      0.202     -2.487      0.013      -0.898      -0.106\n",
      "df[cnames][11]    -0.5076      0.205     -2.477      0.013      -0.909      -0.106\n",
      "df[cnames][12]    -0.4975      0.206     -2.411      0.016      -0.902      -0.093\n",
      "==================================================================================\n"
     ]
    }
   ],
   "source": [
    "model = logit('y_train ~df[cnames]',data = df)\n",
    "fit = model.fit()\n",
    "print(fit.summary())"
   ]
  },
  {
   "cell_type": "code",
   "execution_count": 64,
   "metadata": {},
   "outputs": [
    {
     "data": {
      "text/plain": [
       "['health_state',\n",
       " 'log_income',\n",
       " 'log_debt',\n",
       " 'gen_2',\n",
       " 'edu_2',\n",
       " 'edu_3',\n",
       " 'edu_4',\n",
       " 'disabled_2',\n",
       " 'work_state_2',\n",
       " 'age_range_2',\n",
       " 'age_range_3',\n",
       " 'age_range_4',\n",
       " 'age_range_5']"
      ]
     },
     "execution_count": 64,
     "metadata": {},
     "output_type": "execute_result"
    }
   ],
   "source": [
    "cnames"
   ]
  },
  {
   "cell_type": "code",
   "execution_count": null,
   "metadata": {},
   "outputs": [],
   "source": []
  },
  {
   "cell_type": "code",
   "execution_count": 60,
   "metadata": {},
   "outputs": [],
   "source": [
    "\n",
    "df[cnames][2]  -> log_debt\n",
    "df[cnames][4]  -> edu_2\n",
    "df[cnames][5] -> edu_3\n",
    "df[cnames][6] -> edu_4\n",
    "df[cnames][9]  -> age_range_2"
   ]
  },
  {
   "cell_type": "code",
   "execution_count": 63,
   "metadata": {},
   "outputs": [
    {
     "data": {
      "text/html": [
       "<div>\n",
       "<style scoped>\n",
       "    .dataframe tbody tr th:only-of-type {\n",
       "        vertical-align: middle;\n",
       "    }\n",
       "\n",
       "    .dataframe tbody tr th {\n",
       "        vertical-align: top;\n",
       "    }\n",
       "\n",
       "    .dataframe thead th {\n",
       "        text-align: right;\n",
       "    }\n",
       "</style>\n",
       "<table border=\"1\" class=\"dataframe\">\n",
       "  <thead>\n",
       "    <tr style=\"text-align: right;\">\n",
       "      <th></th>\n",
       "      <th>health_state</th>\n",
       "      <th>y_train</th>\n",
       "      <th>log_income</th>\n",
       "      <th>log_debt</th>\n",
       "      <th>gen_2</th>\n",
       "      <th>edu_2</th>\n",
       "      <th>edu_3</th>\n",
       "      <th>edu_4</th>\n",
       "      <th>disabled_2</th>\n",
       "      <th>work_state_2</th>\n",
       "      <th>age_range_2</th>\n",
       "      <th>age_range_3</th>\n",
       "      <th>age_range_4</th>\n",
       "      <th>age_range_5</th>\n",
       "    </tr>\n",
       "  </thead>\n",
       "  <tbody>\n",
       "    <tr>\n",
       "      <th>0</th>\n",
       "      <td>2</td>\n",
       "      <td>0</td>\n",
       "      <td>6.006353</td>\n",
       "      <td>9.244838</td>\n",
       "      <td>1</td>\n",
       "      <td>1</td>\n",
       "      <td>0</td>\n",
       "      <td>0</td>\n",
       "      <td>1</td>\n",
       "      <td>1</td>\n",
       "      <td>0</td>\n",
       "      <td>0</td>\n",
       "      <td>0</td>\n",
       "      <td>1</td>\n",
       "    </tr>\n",
       "    <tr>\n",
       "      <th>2</th>\n",
       "      <td>4</td>\n",
       "      <td>0</td>\n",
       "      <td>7.742836</td>\n",
       "      <td>9.962747</td>\n",
       "      <td>0</td>\n",
       "      <td>0</td>\n",
       "      <td>0</td>\n",
       "      <td>1</td>\n",
       "      <td>1</td>\n",
       "      <td>0</td>\n",
       "      <td>0</td>\n",
       "      <td>0</td>\n",
       "      <td>0</td>\n",
       "      <td>1</td>\n",
       "    </tr>\n",
       "    <tr>\n",
       "      <th>8</th>\n",
       "      <td>2</td>\n",
       "      <td>0</td>\n",
       "      <td>7.737093</td>\n",
       "      <td>6.928538</td>\n",
       "      <td>1</td>\n",
       "      <td>0</td>\n",
       "      <td>1</td>\n",
       "      <td>0</td>\n",
       "      <td>1</td>\n",
       "      <td>0</td>\n",
       "      <td>0</td>\n",
       "      <td>0</td>\n",
       "      <td>1</td>\n",
       "      <td>0</td>\n",
       "    </tr>\n",
       "    <tr>\n",
       "      <th>9</th>\n",
       "      <td>2</td>\n",
       "      <td>0</td>\n",
       "      <td>7.737093</td>\n",
       "      <td>6.928538</td>\n",
       "      <td>1</td>\n",
       "      <td>1</td>\n",
       "      <td>0</td>\n",
       "      <td>0</td>\n",
       "      <td>1</td>\n",
       "      <td>1</td>\n",
       "      <td>1</td>\n",
       "      <td>0</td>\n",
       "      <td>0</td>\n",
       "      <td>0</td>\n",
       "    </tr>\n",
       "    <tr>\n",
       "      <th>13</th>\n",
       "      <td>4</td>\n",
       "      <td>0</td>\n",
       "      <td>8.692658</td>\n",
       "      <td>9.466687</td>\n",
       "      <td>0</td>\n",
       "      <td>0</td>\n",
       "      <td>0</td>\n",
       "      <td>1</td>\n",
       "      <td>1</td>\n",
       "      <td>0</td>\n",
       "      <td>0</td>\n",
       "      <td>1</td>\n",
       "      <td>0</td>\n",
       "      <td>0</td>\n",
       "    </tr>\n",
       "  </tbody>\n",
       "</table>\n",
       "</div>"
      ],
      "text/plain": [
       "    health_state  y_train  log_income  log_debt  gen_2  edu_2  edu_3  edu_4  \\\n",
       "0              2        0    6.006353  9.244838      1      1      0      0   \n",
       "2              4        0    7.742836  9.962747      0      0      0      1   \n",
       "8              2        0    7.737093  6.928538      1      0      1      0   \n",
       "9              2        0    7.737093  6.928538      1      1      0      0   \n",
       "13             4        0    8.692658  9.466687      0      0      0      1   \n",
       "\n",
       "    disabled_2  work_state_2  age_range_2  age_range_3  age_range_4  \\\n",
       "0            1             1            0            0            0   \n",
       "2            1             0            0            0            0   \n",
       "8            1             0            0            0            1   \n",
       "9            1             1            1            0            0   \n",
       "13           1             0            0            1            0   \n",
       "\n",
       "    age_range_5  \n",
       "0             1  \n",
       "2             1  \n",
       "8             0  \n",
       "9             0  \n",
       "13            0  "
      ]
     },
     "execution_count": 63,
     "metadata": {},
     "output_type": "execute_result"
    }
   ],
   "source": [
    "df.head()"
   ]
  },
  {
   "cell_type": "code",
   "execution_count": 65,
   "metadata": {},
   "outputs": [
    {
     "data": {
      "text/html": [
       "<div>\n",
       "<style scoped>\n",
       "    .dataframe tbody tr th:only-of-type {\n",
       "        vertical-align: middle;\n",
       "    }\n",
       "\n",
       "    .dataframe tbody tr th {\n",
       "        vertical-align: top;\n",
       "    }\n",
       "\n",
       "    .dataframe thead th {\n",
       "        text-align: right;\n",
       "    }\n",
       "</style>\n",
       "<table border=\"1\" class=\"dataframe\">\n",
       "  <thead>\n",
       "    <tr style=\"text-align: right;\">\n",
       "      <th></th>\n",
       "      <th>health_state</th>\n",
       "      <th>y_train</th>\n",
       "      <th>log_income</th>\n",
       "      <th>gen_2</th>\n",
       "      <th>disabled_2</th>\n",
       "      <th>work_state_2</th>\n",
       "      <th>age_range_3</th>\n",
       "      <th>age_range_4</th>\n",
       "      <th>age_range_5</th>\n",
       "    </tr>\n",
       "  </thead>\n",
       "  <tbody>\n",
       "    <tr>\n",
       "      <th>0</th>\n",
       "      <td>2</td>\n",
       "      <td>0</td>\n",
       "      <td>6.006353</td>\n",
       "      <td>1</td>\n",
       "      <td>1</td>\n",
       "      <td>1</td>\n",
       "      <td>0</td>\n",
       "      <td>0</td>\n",
       "      <td>1</td>\n",
       "    </tr>\n",
       "    <tr>\n",
       "      <th>2</th>\n",
       "      <td>4</td>\n",
       "      <td>0</td>\n",
       "      <td>7.742836</td>\n",
       "      <td>0</td>\n",
       "      <td>1</td>\n",
       "      <td>0</td>\n",
       "      <td>0</td>\n",
       "      <td>0</td>\n",
       "      <td>1</td>\n",
       "    </tr>\n",
       "    <tr>\n",
       "      <th>8</th>\n",
       "      <td>2</td>\n",
       "      <td>0</td>\n",
       "      <td>7.737093</td>\n",
       "      <td>1</td>\n",
       "      <td>1</td>\n",
       "      <td>0</td>\n",
       "      <td>0</td>\n",
       "      <td>1</td>\n",
       "      <td>0</td>\n",
       "    </tr>\n",
       "    <tr>\n",
       "      <th>9</th>\n",
       "      <td>2</td>\n",
       "      <td>0</td>\n",
       "      <td>7.737093</td>\n",
       "      <td>1</td>\n",
       "      <td>1</td>\n",
       "      <td>1</td>\n",
       "      <td>0</td>\n",
       "      <td>0</td>\n",
       "      <td>0</td>\n",
       "    </tr>\n",
       "    <tr>\n",
       "      <th>13</th>\n",
       "      <td>4</td>\n",
       "      <td>0</td>\n",
       "      <td>8.692658</td>\n",
       "      <td>0</td>\n",
       "      <td>1</td>\n",
       "      <td>0</td>\n",
       "      <td>1</td>\n",
       "      <td>0</td>\n",
       "      <td>0</td>\n",
       "    </tr>\n",
       "  </tbody>\n",
       "</table>\n",
       "</div>"
      ],
      "text/plain": [
       "    health_state  y_train  log_income  gen_2  disabled_2  work_state_2  \\\n",
       "0              2        0    6.006353      1           1             1   \n",
       "2              4        0    7.742836      0           1             0   \n",
       "8              2        0    7.737093      1           1             0   \n",
       "9              2        0    7.737093      1           1             1   \n",
       "13             4        0    8.692658      0           1             0   \n",
       "\n",
       "    age_range_3  age_range_4  age_range_5  \n",
       "0             0            0            1  \n",
       "2             0            0            1  \n",
       "8             0            1            0  \n",
       "9             0            0            0  \n",
       "13            1            0            0  "
      ]
     },
     "execution_count": 65,
     "metadata": {},
     "output_type": "execute_result"
    }
   ],
   "source": [
    "df.drop(['log_debt','edu_2','edu_3','edu_4','age_range_2'],axis=1,inplace=True)\n",
    "df.head()\n"
   ]
  },
  {
   "cell_type": "code",
   "execution_count": 67,
   "metadata": {},
   "outputs": [
    {
     "data": {
      "text/plain": [
       "['health_state',\n",
       " 'log_income',\n",
       " 'gen_2',\n",
       " 'disabled_2',\n",
       " 'work_state_2',\n",
       " 'age_range_3',\n",
       " 'age_range_4',\n",
       " 'age_range_5']"
      ]
     },
     "execution_count": 67,
     "metadata": {},
     "output_type": "execute_result"
    }
   ],
   "source": [
    "cnames2=['health_state','log_income','gen_2','disabled_2','work_state_2','age_range_3','age_range_4','age_range_5']\n",
    "cnames2"
   ]
  },
  {
   "cell_type": "code",
   "execution_count": 68,
   "metadata": {},
   "outputs": [
    {
     "data": {
      "text/html": [
       "<div>\n",
       "<style scoped>\n",
       "    .dataframe tbody tr th:only-of-type {\n",
       "        vertical-align: middle;\n",
       "    }\n",
       "\n",
       "    .dataframe tbody tr th {\n",
       "        vertical-align: top;\n",
       "    }\n",
       "\n",
       "    .dataframe thead th {\n",
       "        text-align: right;\n",
       "    }\n",
       "</style>\n",
       "<table border=\"1\" class=\"dataframe\">\n",
       "  <thead>\n",
       "    <tr style=\"text-align: right;\">\n",
       "      <th></th>\n",
       "      <th>health_state</th>\n",
       "      <th>y_train</th>\n",
       "      <th>log_income</th>\n",
       "      <th>gen_2</th>\n",
       "      <th>disabled_2</th>\n",
       "      <th>work_state_2</th>\n",
       "      <th>age_range_3</th>\n",
       "      <th>age_range_4</th>\n",
       "      <th>age_range_5</th>\n",
       "    </tr>\n",
       "  </thead>\n",
       "  <tbody>\n",
       "    <tr>\n",
       "      <th>0</th>\n",
       "      <td>2</td>\n",
       "      <td>0</td>\n",
       "      <td>6.006353</td>\n",
       "      <td>1</td>\n",
       "      <td>1</td>\n",
       "      <td>1</td>\n",
       "      <td>0</td>\n",
       "      <td>0</td>\n",
       "      <td>1</td>\n",
       "    </tr>\n",
       "    <tr>\n",
       "      <th>2</th>\n",
       "      <td>4</td>\n",
       "      <td>0</td>\n",
       "      <td>7.742836</td>\n",
       "      <td>0</td>\n",
       "      <td>1</td>\n",
       "      <td>0</td>\n",
       "      <td>0</td>\n",
       "      <td>0</td>\n",
       "      <td>1</td>\n",
       "    </tr>\n",
       "    <tr>\n",
       "      <th>8</th>\n",
       "      <td>2</td>\n",
       "      <td>0</td>\n",
       "      <td>7.737093</td>\n",
       "      <td>1</td>\n",
       "      <td>1</td>\n",
       "      <td>0</td>\n",
       "      <td>0</td>\n",
       "      <td>1</td>\n",
       "      <td>0</td>\n",
       "    </tr>\n",
       "    <tr>\n",
       "      <th>9</th>\n",
       "      <td>2</td>\n",
       "      <td>0</td>\n",
       "      <td>7.737093</td>\n",
       "      <td>1</td>\n",
       "      <td>1</td>\n",
       "      <td>1</td>\n",
       "      <td>0</td>\n",
       "      <td>0</td>\n",
       "      <td>0</td>\n",
       "    </tr>\n",
       "    <tr>\n",
       "      <th>13</th>\n",
       "      <td>4</td>\n",
       "      <td>0</td>\n",
       "      <td>8.692658</td>\n",
       "      <td>0</td>\n",
       "      <td>1</td>\n",
       "      <td>0</td>\n",
       "      <td>1</td>\n",
       "      <td>0</td>\n",
       "      <td>0</td>\n",
       "    </tr>\n",
       "  </tbody>\n",
       "</table>\n",
       "</div>"
      ],
      "text/plain": [
       "    health_state  y_train  log_income  gen_2  disabled_2  work_state_2  \\\n",
       "0              2        0    6.006353      1           1             1   \n",
       "2              4        0    7.742836      0           1             0   \n",
       "8              2        0    7.737093      1           1             0   \n",
       "9              2        0    7.737093      1           1             1   \n",
       "13             4        0    8.692658      0           1             0   \n",
       "\n",
       "    age_range_3  age_range_4  age_range_5  \n",
       "0             0            0            1  \n",
       "2             0            0            1  \n",
       "8             0            1            0  \n",
       "9             0            0            0  \n",
       "13            1            0            0  "
      ]
     },
     "execution_count": 68,
     "metadata": {},
     "output_type": "execute_result"
    }
   ],
   "source": [
    "df.head()"
   ]
  },
  {
   "cell_type": "code",
   "execution_count": 69,
   "metadata": {},
   "outputs": [
    {
     "name": "stdout",
     "output_type": "stream",
     "text": [
      "Optimization terminated successfully.\n",
      "         Current function value: 0.271699\n",
      "         Iterations 7\n",
      "                           Logit Regression Results                           \n",
      "==============================================================================\n",
      "Dep. Variable:                y_train   No. Observations:                 5405\n",
      "Model:                          Logit   Df Residuals:                     5396\n",
      "Method:                           MLE   Df Model:                            8\n",
      "Date:                Sat, 12 Aug 2023   Pseudo R-squ.:                  0.1352\n",
      "Time:                        16:40:45   Log-Likelihood:                -1468.5\n",
      "converged:                       True   LL-Null:                       -1698.1\n",
      "Covariance Type:            nonrobust   LLR p-value:                 4.012e-94\n",
      "==================================================================================\n",
      "                     coef    std err          z      P>|z|      [0.025      0.975]\n",
      "----------------------------------------------------------------------------------\n",
      "Intercept          4.0694      0.619      6.573      0.000       2.856       5.283\n",
      "df[cnames2][0]    -0.6765      0.061    -11.134      0.000      -0.796      -0.557\n",
      "df[cnames2][1]    -0.4764      0.068     -7.025      0.000      -0.609      -0.344\n",
      "df[cnames2][2]     0.5560      0.106      5.244      0.000       0.348       0.764\n",
      "df[cnames2][3]    -0.3518      0.163     -2.162      0.031      -0.671      -0.033\n",
      "df[cnames2][4]     0.4160      0.104      3.991      0.000       0.212       0.620\n",
      "df[cnames2][5]    -0.3459      0.171     -2.019      0.043      -0.682      -0.010\n",
      "df[cnames2][6]    -0.2707      0.166     -1.631      0.103      -0.596       0.055\n",
      "df[cnames2][7]    -0.2251      0.148     -1.518      0.129      -0.516       0.065\n",
      "==================================================================================\n"
     ]
    }
   ],
   "source": [
    "model2 = logit('y_train ~ df[cnames2]',data = df)\n",
    "fit2 = model2.fit()\n",
    "print(fit2.summary())"
   ]
  },
  {
   "cell_type": "code",
   "execution_count": 70,
   "metadata": {},
   "outputs": [
    {
     "name": "stdout",
     "output_type": "stream",
     "text": [
      "Optimization terminated successfully.\n",
      "         Current function value: 0.272791\n",
      "         Iterations 7\n",
      "                           Logit Regression Results                           \n",
      "==============================================================================\n",
      "Dep. Variable:                y_train   No. Observations:                 5405\n",
      "Model:                          Logit   Df Residuals:                     5397\n",
      "Method:                           MLE   Df Model:                            7\n",
      "Date:                Fri, 11 Aug 2023   Pseudo R-squ.:                  0.1317\n",
      "Time:                        17:45:27   Log-Likelihood:                -1474.4\n",
      "converged:                       True   LL-Null:                       -1698.1\n",
      "Covariance Type:            nonrobust   LLR p-value:                 1.636e-92\n",
      "==================================================================================\n",
      "                     coef    std err          z      P>|z|      [0.025      0.975]\n",
      "----------------------------------------------------------------------------------\n",
      "Intercept          3.4797      0.575      6.054      0.000       2.353       4.606\n",
      "log_income        -0.5073      0.066     -7.736      0.000      -0.636      -0.379\n",
      "gen_2              0.5968      0.104      5.739      0.000       0.393       0.801\n",
      "health_state_2    -0.7439      0.280     -2.659      0.008      -1.292      -0.196\n",
      "health_state_3    -1.5964      0.284     -5.619      0.000      -2.153      -1.040\n",
      "health_state_4    -2.3286      0.283     -8.230      0.000      -2.883      -1.774\n",
      "health_state_5    -2.2186      0.333     -6.660      0.000      -2.871      -1.566\n",
      "age_range_3       -0.2232      0.147     -1.518      0.129      -0.511       0.065\n",
      "==================================================================================\n"
     ]
    }
   ],
   "source": [
    "model2 = logit('y_train ~ log_income+gen_2+health_state_2+health_state_3+health_state_4+health_state_5+age_range_3',data = df)\n",
    "fit2 = model2.fit()\n",
    "print(fit2.summary())"
   ]
  },
  {
   "cell_type": "code",
   "execution_count": 71,
   "metadata": {},
   "outputs": [
    {
     "name": "stdout",
     "output_type": "stream",
     "text": [
      "Optimization terminated successfully.\n",
      "         Current function value: 0.273012\n",
      "         Iterations 7\n",
      "                           Logit Regression Results                           \n",
      "==============================================================================\n",
      "Dep. Variable:                y_train   No. Observations:                 5405\n",
      "Model:                          Logit   Df Residuals:                     5398\n",
      "Method:                           MLE   Df Model:                            6\n",
      "Date:                Fri, 11 Aug 2023   Pseudo R-squ.:                  0.1310\n",
      "Time:                        17:45:45   Log-Likelihood:                -1475.6\n",
      "converged:                       True   LL-Null:                       -1698.1\n",
      "Covariance Type:            nonrobust   LLR p-value:                 5.926e-93\n",
      "==================================================================================\n",
      "                     coef    std err          z      P>|z|      [0.025      0.975]\n",
      "----------------------------------------------------------------------------------\n",
      "Intercept          3.5761      0.573      6.245      0.000       2.454       4.698\n",
      "log_income        -0.5206      0.065     -7.987      0.000      -0.648      -0.393\n",
      "gen_2              0.5971      0.104      5.743      0.000       0.393       0.801\n",
      "health_state_2    -0.7495      0.280     -2.680      0.007      -1.298      -0.201\n",
      "health_state_3    -1.6086      0.284     -5.664      0.000      -2.165      -1.052\n",
      "health_state_4    -2.3615      0.282     -8.368      0.000      -2.915      -1.808\n",
      "health_state_5    -2.2620      0.332     -6.813      0.000      -2.913      -1.611\n",
      "==================================================================================\n"
     ]
    }
   ],
   "source": [
    "model2 = logit('y_train ~ log_income+gen_2+health_state_2+health_state_3+health_state_4+health_state_5',data = df)\n",
    "fit2 = model2.fit()\n",
    "print(fit2.summary())"
   ]
  },
  {
   "cell_type": "code",
   "execution_count": null,
   "metadata": {},
   "outputs": [],
   "source": []
  }
 ],
 "metadata": {
  "kernelspec": {
   "display_name": "Python 3",
   "language": "python",
   "name": "python3"
  },
  "language_info": {
   "codemirror_mode": {
    "name": "ipython",
    "version": 3
   },
   "file_extension": ".py",
   "mimetype": "text/x-python",
   "name": "python",
   "nbconvert_exporter": "python",
   "pygments_lexer": "ipython3",
   "version": "3.11.3"
  },
  "orig_nbformat": 4
 },
 "nbformat": 4,
 "nbformat_minor": 2
}

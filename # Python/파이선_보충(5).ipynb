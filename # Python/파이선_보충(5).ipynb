{
 "cells": [
  {
   "attachments": {},
   "cell_type": "markdown",
   "metadata": {},
   "source": [
    "# 파이선 보충 Take 5\n",
    "\n"
   ]
  },
  {
   "attachments": {},
   "cell_type": "markdown",
   "metadata": {},
   "source": [
    "### 메일 발송에 필요한 내장모듈 참조 \n"
   ]
  },
  {
   "attachments": {},
   "cell_type": "markdown",
   "metadata": {},
   "source": [
    "파이선에 내장되어 있는 모듈만 사용한다 .\n"
   ]
  },
  {
   "cell_type": "code",
   "execution_count": 14,
   "metadata": {},
   "outputs": [],
   "source": [
    "import os                # 경로 정보를 취득하기 위한 모듈\n",
    "from smtplib import SMTP # 발송서버와 연동하기 위한 모듈\n",
    "from email.mime.text import MIMEText # 본문 구성 기능\n",
    "from email.mime.application import MIMEApplication # 파일을 Multipart 형식으로 변환\n",
    "from email.mime.multipart import MIMEMultipart # 파일을 본문에 추가하는 기능 제공\n"
   ]
  },
  {
   "attachments": {},
   "cell_type": "markdown",
   "metadata": {},
   "source": [
    "메일 발송에 필요한 정보 설정\n"
   ]
  },
  {
   "cell_type": "code",
   "execution_count": 15,
   "metadata": {},
   "outputs": [],
   "source": [
    "## 보내는 사람 주소 (로그인 계정과 동일해야함)\n",
    "\n",
    "from_addr = \"goaldl97123@naver.com\"\n",
    "\n",
    "# 받는사람 주소 \n",
    "to_addr = \"hamin971231@gmail.com\"\n",
    "\n",
    "## 제목 \n",
    "subject = \"파이썬 메일보내기 테스트\"\n",
    "\n",
    "# 본문내용 작성\n",
    "content = \"\"\" 집에 가고 싶다 !!\n",
    "    집에 가고 싶다 !!\n",
    "집에 가고 싶다 !! \"\"\"\n",
    "\n",
    "## 첨부파일 필요한경우 \n",
    "files = [\"grade.csv\",\"hellopython.txt\"]\n",
    "\n",
    "\n",
    "## smtp 서버 주소  smtp.naver.com\n",
    "\n",
    "## 구글 1회용 비밀번호 huqkwlhyvvpuobxd\n"
   ]
  },
  {
   "attachments": {},
   "cell_type": "markdown",
   "metadata": {},
   "source": [
    "### SMTP 연동 정보 설정"
   ]
  },
  {
   "cell_type": "code",
   "execution_count": 16,
   "metadata": {},
   "outputs": [],
   "source": [
    "## 컨텐츠 형식\n",
    "\n",
    "content_type =\"plain\"\n",
    "\n",
    "## 로그인 계쩡 이름\n",
    "\n",
    "username = \"goaldl97123@naver.com\"\n",
    "\n",
    "## 비번\n",
    "\n",
    "password = \"dnwhd9712\"\n",
    "\n",
    "## 구글 발송 서버 주소와 포트\n",
    "\n",
    "smtp = \"smtp.naver.com\"\n",
    "port = 465\n",
    "\n",
    "\n"
   ]
  },
  {
   "attachments": {},
   "cell_type": "markdown",
   "metadata": {},
   "source": [
    "### 메일 발송정보 구성\n"
   ]
  },
  {
   "cell_type": "code",
   "execution_count": 17,
   "metadata": {},
   "outputs": [],
   "source": [
    "## 메일 발송 정보를 저장하기 위한 객체\n",
    "msg = MIMEMultipart()\n",
    "msg[\"Subject\"] = subject\n",
    "msg[\"From\"] = from_addr\n",
    "msg[\"to\"] = to_addr\n",
    "\n",
    "## 본문 설정 -> 메일의 내용과 형식 지정\n",
    "\n",
    "msg.attach(MIMEText(content,content_type))\n"
   ]
  },
  {
   "attachments": {},
   "cell_type": "markdown",
   "metadata": {},
   "source": [
    "### 메일 발송 정보에 첨부파일 추가\n"
   ]
  },
  {
   "cell_type": "code",
   "execution_count": 18,
   "metadata": {},
   "outputs": [],
   "source": [
    "# 리스트 변수의 원소가 하나라도 존재할 경우 True\n",
    "\n",
    "if files :\n",
    "    for f in files :\n",
    "        # 바이너리 형식으로 읽기\n",
    "        with open(f,'rb') as a_file :\n",
    "            basename = os.path.basename(f)\n",
    "            ## 파일의 내용과 파일 이름을 메일에 첨부할 형식으로 변환\n",
    "            part = MIMEApplication(a_file.read(),Name=basename)\n",
    "            ## 파일첨부\n",
    "            part[\"Content-Disposition\"] = 'attachment; filename=\"%s' % basename\n",
    "            msg.attach(part)"
   ]
  },
  {
   "attachments": {},
   "cell_type": "markdown",
   "metadata": {},
   "source": [
    "### 메일보내기 \n"
   ]
  },
  {
   "cell_type": "code",
   "execution_count": 19,
   "metadata": {},
   "outputs": [
    {
     "data": {
      "text/plain": [
       "(221, b'2.0.0 Closing connection AroF3bUZSO6fQO6OACGzAg - nsmtp')"
      ]
     },
     "execution_count": 19,
     "metadata": {},
     "output_type": "execute_result"
    }
   ],
   "source": [
    "mail = SMTP(smtp)\n",
    "## 메일 서버 접속\n",
    "mail.ehlo()\n",
    "## 메일 서버 연동설정\n",
    "mail.starttls()\n",
    "## 메일서버 로그인\n",
    "mail.login(username,password)\n",
    "## 메일보내기 \n",
    "mail.sendmail(from_addr,to_addr,msg.as_string())\n",
    "## 메일서버 접속 종료\n",
    "mail.quit()"
   ]
  },
  {
   "cell_type": "code",
   "execution_count": null,
   "metadata": {},
   "outputs": [],
   "source": []
  }
 ],
 "metadata": {
  "kernelspec": {
   "display_name": "Python 3",
   "language": "python",
   "name": "python3"
  },
  "language_info": {
   "codemirror_mode": {
    "name": "ipython",
    "version": 3
   },
   "file_extension": ".py",
   "mimetype": "text/x-python",
   "name": "python",
   "nbconvert_exporter": "python",
   "pygments_lexer": "ipython3",
   "version": "3.11.3"
  },
  "orig_nbformat": 4
 },
 "nbformat": 4,
 "nbformat_minor": 2
}

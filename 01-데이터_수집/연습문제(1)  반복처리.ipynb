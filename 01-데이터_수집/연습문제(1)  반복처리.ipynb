{
 "cells": [
  {
   "cell_type": "code",
   "execution_count": 3,
   "metadata": {},
   "outputs": [],
   "source": [
    "# 모듈 import \n",
    "import requests\n",
    "import json\n",
    "from pandas import DataFrame\n",
    "\n",
    "\n",
    "## REST API 키값 \t1dac6609b89162d4b62fa47385304f6b\n",
    "## URL 값 https://dapi.kakao.com/v3/search/book\n",
    "## 쿼리파라미터\n",
    "## https://dapi.kakao.com/v3/search/book?query=검색어 query라는 파리미터 쓴 예\n",
    "\n"
   ]
  },
  {
   "cell_type": "code",
   "execution_count": 4,
   "metadata": {},
   "outputs": [],
   "source": [
    "## 접속할 url\n",
    "\n",
    "urlFmt=\"https://dapi.kakao.com/v3/search/book?query={query}&page={page}&size={size}\"\n"
   ]
  },
  {
   "cell_type": "code",
   "execution_count": 5,
   "metadata": {},
   "outputs": [],
   "source": [
    "## 요청변수\n",
    "\n",
    "query=\"은혼\"\n",
    "page=1\n",
    "size=50\n",
    "key=\"1dac6609b89162d4b62fa47385304f6b\"\n"
   ]
  },
  {
   "cell_type": "code",
   "execution_count": 6,
   "metadata": {},
   "outputs": [],
   "source": [
    "## 접속객체 생성\n",
    "\n",
    "session=requests.Session()\n",
    "\n",
    "## 접속객체에 header 정보 삽입\n",
    "\n",
    "session.headers.update({\n",
    "    \"Authorization\": \"KakaoAK %s\" % key\n",
    "})"
   ]
  },
  {
   "cell_type": "code",
   "execution_count": 7,
   "metadata": {},
   "outputs": [
    {
     "name": "stdout",
     "output_type": "stream",
     "text": [
      "isEnd= False , 다음페이지= 2\n",
      "isEnd= False , 다음페이지= 3\n",
      "isEnd= False , 다음페이지= 4\n",
      "isEnd= False , 다음페이지= 5\n",
      "isEnd= False , 다음페이지= 6\n",
      "isEnd= False , 다음페이지= 7\n",
      "isEnd= False , 다음페이지= 8\n",
      "isEnd= True , 다음페이지= 9\n",
      "최종 검색 건수 : 391\n"
     ]
    }
   ],
   "source": [
    "## 다음페이지가 존재하는지 여부 --> 이 값이 false인동안은 반복\n",
    "isEnd = False\n",
    "\n",
    "## 반복 수행 도축 추출되는 검색결과 리스트를 결함할 빈 리스트 준비\n",
    "my_list=[]\n",
    "\n",
    "## 1페이지부터 시작\n",
    "\n",
    "## -----------------------------------------------------\n",
    "## 이전 예제코드 시작\n",
    "## -----------------------------------------------------\n",
    "\n",
    "## 접속할 url\n",
    "while not isEnd :\n",
    "\n",
    "    url=urlFmt.format(query=query, page=page, size=size)\n",
    "    url\n",
    "\n",
    "    ## 생성한 접속객체를 활용해서 api 접속\n",
    "\n",
    "    r=session.get(url)\n",
    "\n",
    "    ## 접속에 실패한 경우\n",
    "    if r.status_code!=200:\n",
    "        # 에러코드와 에러 메세지 출력\n",
    "        msg=\"{%d Error} %s 에러가 발생함\" % (r.status_code,r.reason)\n",
    "        # 에러를 강제로 생성시킴\n",
    "        raise Exception(msg)\n",
    "        ## 인코딩 형식 지정\n",
    "\n",
    "    encoding='utf-8'\n",
    "    # 가져온 문자열을 딕셔너리로 반환\n",
    "\n",
    "    data=json.loads(r.text)\n",
    "\n",
    "    ## -----------------------------------------------------\n",
    "    ## 이전 예제코드 끝\n",
    "    ## -----------------------------------------------------\n",
    "\n",
    "    # 검색 결과를 갖고 있는 딕셔너리를 포함하는 리스트\n",
    "    searchList = data['documents']\n",
    "\n",
    "    # 추출한 리스트를 미리 준비한 빈 리스트에 추가\n",
    "    my_list.extend(searchList)\n",
    "    # 증감식에 해당하는 isEnd 변수 추출\n",
    "    isEnd = bool(data['meta']['is_end'])\n",
    "    page += 1\n",
    "    print(\"isEnd=\", isEnd, \", 다음페이지=\", page)\n",
    "\n",
    "print('최종 검색 건수 : %d'  %len(my_list))\n",
    "\n",
    "\n",
    "\n"
   ]
  },
  {
   "cell_type": "code",
   "execution_count": 11,
   "metadata": {},
   "outputs": [
    {
     "name": "stdout",
     "output_type": "stream",
     "text": [
      "은혼 키워드로 검색된 모든 책의 총 가격은 1773190 입니다\n"
     ]
    }
   ],
   "source": [
    "\n",
    "price_list=[]\n",
    "\n",
    "for i in range(len(my_list)) :\n",
    "    price_list.append(my_list[i]['price'])\n",
    "\n",
    "answer = sum(price_list)\n",
    "print(\"%s 키워드로 검색된 모든 책의 총 가격은 %d 입니다\" %(query,answer))"
   ]
  },
  {
   "cell_type": "code",
   "execution_count": 54,
   "metadata": {},
   "outputs": [
    {
     "name": "stdout",
     "output_type": "stream",
     "text": [
      "True\n"
     ]
    }
   ],
   "source": [
    "\n",
    "s='aaaa'\n",
    "s1='1234'\n",
    "answer=False\n",
    "from string import ascii_lowercase\n",
    "from string import ascii_uppercase\n",
    "alpha_list=list(ascii_uppercase)+list(ascii_lowercase)\n",
    "if len(s) == 4 or len(s) == 6 :\n",
    "\n",
    "else : \n",
    "    answer=False \n",
    "\n",
    "print(answer)"
   ]
  },
  {
   "cell_type": "code",
   "execution_count": null,
   "metadata": {},
   "outputs": [],
   "source": []
  },
  {
   "cell_type": "code",
   "execution_count": null,
   "metadata": {},
   "outputs": [],
   "source": []
  },
  {
   "cell_type": "code",
   "execution_count": null,
   "metadata": {},
   "outputs": [],
   "source": []
  },
  {
   "cell_type": "code",
   "execution_count": null,
   "metadata": {},
   "outputs": [],
   "source": []
  }
 ],
 "metadata": {
  "kernelspec": {
   "display_name": "Python 3",
   "language": "python",
   "name": "python3"
  },
  "language_info": {
   "codemirror_mode": {
    "name": "ipython",
    "version": 3
   },
   "file_extension": ".py",
   "mimetype": "text/x-python",
   "name": "python",
   "nbconvert_exporter": "python",
   "pygments_lexer": "ipython3",
   "version": "3.11.3"
  },
  "orig_nbformat": 4
 },
 "nbformat": 4,
 "nbformat_minor": 2
}

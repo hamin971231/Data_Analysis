{
 "cells": [
  {
   "cell_type": "code",
   "execution_count": 1,
   "metadata": {},
   "outputs": [],
   "source": [
    "# 필요한 모듈 \n",
    "\n",
    "import requests\n",
    "# -> 웹 상의 데이터를 요청하는 기능\n",
    "import json\n",
    "# -> json을 \n"
   ]
  },
  {
   "cell_type": "code",
   "execution_count": 2,
   "metadata": {},
   "outputs": [],
   "source": [
    "# 온라인 상의 url \n",
    "url= \"https://data.hossam.kr/sample.json\"\n",
    "\n",
    "\n"
   ]
  },
  {
   "cell_type": "code",
   "execution_count": 4,
   "metadata": {},
   "outputs": [],
   "source": [
    "# 접속 객체 생성\n",
    "\n",
    "session = requests.session()\n",
    "\n"
   ]
  },
  {
   "cell_type": "code",
   "execution_count": 5,
   "metadata": {},
   "outputs": [],
   "source": [
    "# 접속 정보 설정 \n",
    "session.headers.update({\n",
    "    # referer : 이전에 내가 머물렀던 웹페이지 주소 \n",
    "    \"Referer\":\"\",\n",
    "    \"User-Agent\": \"Mozilla/5.0 (Windows NT 10.0; Win64; x64) AppleWebKit/537.36 (KHTML, like Gecko) Chrome/114.0.0.0 Safari/537.36\"\n",
    "})\n",
    "\n"
   ]
  },
  {
   "cell_type": "code",
   "execution_count": 6,
   "metadata": {},
   "outputs": [],
   "source": [
    "# 특정 웹페이지 접속 \n",
    "r= session.get(url)\n",
    "\n"
   ]
  },
  {
   "cell_type": "code",
   "execution_count": 7,
   "metadata": {},
   "outputs": [],
   "source": [
    "# 접속에 실패했을 때 \n",
    "\n",
    "if r.status_code!=200 :\n",
    "    # 200이 아니면 에러코드와 에러메세지 출력\n",
    "    msg = \"[%d Error] %s 에러가 발생함\" % {r.status_code,r.reason}\n",
    "    # 에러를 강제로 생성시킨다.\n",
    "    raise Exception(msg)\n"
   ]
  },
  {
   "cell_type": "code",
   "execution_count": 8,
   "metadata": {},
   "outputs": [
    {
     "name": "stdout",
     "output_type": "stream",
     "text": [
      "{\n",
      "    \"name\": \"갤럭시 S6\",\n",
      "    \"type\": \"삼성\",\n",
      "    \"img\": \"http://itpaper.co.kr/demo/app/img/GalaxyS6.png\"\n",
      "}\n"
     ]
    }
   ],
   "source": [
    "\n",
    "# 인코딩 형식 지정\n",
    "r.encoding = 'utf-8'\n",
    "\n",
    "# 텍스트 출력 \n",
    "## 온라인에서 가져온 건 무조건 문자열임. \n",
    "print(r.text)"
   ]
  },
  {
   "cell_type": "code",
   "execution_count": 9,
   "metadata": {},
   "outputs": [
    {
     "name": "stdout",
     "output_type": "stream",
     "text": [
      "<class 'dict'>\n",
      "{'name': '갤럭시 S6', 'type': '삼성', 'img': 'http://itpaper.co.kr/demo/app/img/GalaxyS6.png'}\n"
     ]
    }
   ],
   "source": [
    "## json으로 바꾸기\n",
    "## 딕셔너리 형태로 변환할수있다. \n",
    "data= json.loads(r.text)\n",
    "print(type(data))\n",
    "print(data)"
   ]
  },
  {
   "cell_type": "code",
   "execution_count": null,
   "metadata": {},
   "outputs": [],
   "source": []
  }
 ],
 "metadata": {
  "kernelspec": {
   "display_name": "Python 3",
   "language": "python",
   "name": "python3"
  },
  "language_info": {
   "codemirror_mode": {
    "name": "ipython",
    "version": 3
   },
   "file_extension": ".py",
   "mimetype": "text/x-python",
   "name": "python",
   "nbconvert_exporter": "python",
   "pygments_lexer": "ipython3",
   "version": "3.11.3"
  },
  "orig_nbformat": 4
 },
 "nbformat": 4,
 "nbformat_minor": 2
}

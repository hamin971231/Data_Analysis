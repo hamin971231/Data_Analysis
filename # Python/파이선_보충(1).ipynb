{
 "cells": [
  {
   "attachments": {},
   "cell_type": "markdown",
   "metadata": {},
   "source": [
    "# 파이선 보충 Take 1 \n",
    "\n",
    "## 문자열 포매팅\n",
    "\n",
    "### 1) 형식문자 활용 포매팅"
   ]
  },
  {
   "cell_type": "code",
   "execution_count": 1,
   "metadata": {},
   "outputs": [
    {
     "name": "stdout",
     "output_type": "stream",
     "text": [
      "나는 1000원을 갖고있다.\n"
     ]
    }
   ],
   "source": [
    "str1= \"나는 %d원을 갖고있다.\" % 1000\n",
    "# %연산자 뒤의 값이 %d 값을 치환한다\n",
    "print(str1)"
   ]
  },
  {
   "cell_type": "code",
   "execution_count": 4,
   "metadata": {},
   "outputs": [
    {
     "name": "stdout",
     "output_type": "stream",
     "text": [
      "123.456000원 입니다\n"
     ]
    }
   ],
   "source": [
    "# 실수 값\n",
    "money=123.456\n",
    "print(\"%f원 입니다\" % money)"
   ]
  },
  {
   "cell_type": "code",
   "execution_count": 7,
   "metadata": {},
   "outputs": [
    {
     "name": "stdout",
     "output_type": "stream",
     "text": [
      "성취도는 72%입니다\n"
     ]
    }
   ],
   "source": [
    "## 순수한 % 출력은  %% 로 표현\n",
    "\n",
    "print(\"성취도는 %d%%입니다\" % 72)\n"
   ]
  },
  {
   "cell_type": "code",
   "execution_count": 27,
   "metadata": {},
   "outputs": [
    {
     "name": "stdout",
     "output_type": "stream",
     "text": [
      "[     12310]원을 입금\n",
      "[0000012310]원을 입금\n",
      "[12310     ]원을 입금\n",
      "[12310     ]원을 입금\n"
     ]
    }
   ],
   "source": [
    "\n",
    "## 자리수 지정 -> 공백 \n",
    "print(\"[%10d]원을 입금\" % 12310)\n",
    "\n",
    "## 자리수 지정 + 빈자리 0 + 오른쪽 정렬\n",
    "print(\"[%010d]원을 입금\" % 12310)\n",
    "\n",
    "## 자리수 지정  + 왼쪽 정렬\n",
    "print(\"[%-10d]원을 입금\" % 12310)\n",
    "\n",
    "\n",
    "\n",
    "\n"
   ]
  },
  {
   "attachments": {},
   "cell_type": "markdown",
   "metadata": {},
   "source": [
    "### 2) format() 매서트 활용 포매팅\n"
   ]
  },
  {
   "cell_type": "code",
   "execution_count": 12,
   "metadata": {},
   "outputs": [
    {
     "name": "stdout",
     "output_type": "stream",
     "text": [
      "i got 3 apple\n",
      "i got {} 12 apple\n"
     ]
    }
   ],
   "source": [
    "msg='i got {0} apple'\n",
    "\n",
    "print(msg.format(3))\n",
    "\n",
    "msg='i got {{}} {0} apple'\n",
    "print(msg.format(12))"
   ]
  },
  {
   "attachments": {},
   "cell_type": "markdown",
   "metadata": {},
   "source": [
    "## #02. 구조분해"
   ]
  },
  {
   "cell_type": "code",
   "execution_count": 16,
   "metadata": {},
   "outputs": [
    {
     "name": "stdout",
     "output_type": "stream",
     "text": [
      "10 20 30\n"
     ]
    }
   ],
   "source": [
    "# 리스트 혹은 튜플\n",
    "\n",
    "mylist=[10,20,30]\n",
    "a= mylist[0]\n",
    "b= mylist[1]\n",
    "c= mylist[2]\n",
    "\n",
    "print(a, b, c)"
   ]
  },
  {
   "cell_type": "code",
   "execution_count": 19,
   "metadata": {},
   "outputs": [
    {
     "name": "stdout",
     "output_type": "stream",
     "text": [
      "10 20 30\n"
     ]
    }
   ],
   "source": [
    "x,y,z, = mylist\n",
    "print(x,y,z)\n"
   ]
  },
  {
   "cell_type": "code",
   "execution_count": 20,
   "metadata": {},
   "outputs": [],
   "source": [
    "def foo(x,y):\n",
    "    a = x+ y\n",
    "    b = x-y\n",
    "    return [a,b]\n",
    "    "
   ]
  },
  {
   "cell_type": "code",
   "execution_count": 21,
   "metadata": {},
   "outputs": [
    {
     "data": {
      "text/plain": [
       "[150, 50]"
      ]
     },
     "execution_count": 21,
     "metadata": {},
     "output_type": "execute_result"
    }
   ],
   "source": [
    "bar=foo(100,50)\n",
    "bar"
   ]
  },
  {
   "cell_type": "code",
   "execution_count": 22,
   "metadata": {},
   "outputs": [
    {
     "name": "stdout",
     "output_type": "stream",
     "text": [
      "150 50\n"
     ]
    }
   ],
   "source": [
    "## 함수의 리턴값이 여러개일 때 구조분해 \n",
    "i,j=foo(100,50)\n",
    "print(i,j)"
   ]
  },
  {
   "cell_type": "code",
   "execution_count": 24,
   "metadata": {},
   "outputs": [
    {
     "name": "stdout",
     "output_type": "stream",
     "text": [
      "0 10\n",
      "1 20\n",
      "2 30\n"
     ]
    }
   ],
   "source": [
    "## enumerate 함수 \n",
    "## 인덱스:값의 구조를 가진 튜플로 리턴 \n",
    "mylist=[10,20,30]\n",
    "for i, v in enumerate(mylist) :\n",
    "    print(i,v)"
   ]
  },
  {
   "cell_type": "code",
   "execution_count": 45,
   "metadata": {},
   "outputs": [
    {
     "name": "stdout",
     "output_type": "stream",
     "text": [
      "6\n",
      "2\n",
      "7\n"
     ]
    }
   ],
   "source": [
    "array=[1, 5, 2, 6, 3, 7, 4]\n",
    "commands=[[2,5,3],[4,4,1],[1,7,3]]\n",
    "answer=[]\n",
    "for i in range(len(commands)) :\n",
    "    array[i]\n"
   ]
  },
  {
   "cell_type": "code",
   "execution_count": null,
   "metadata": {},
   "outputs": [],
   "source": []
  }
 ],
 "metadata": {
  "kernelspec": {
   "display_name": "Python 3",
   "language": "python",
   "name": "python3"
  },
  "language_info": {
   "codemirror_mode": {
    "name": "ipython",
    "version": 3
   },
   "file_extension": ".py",
   "mimetype": "text/x-python",
   "name": "python",
   "nbconvert_exporter": "python",
   "pygments_lexer": "ipython3",
   "version": "3.11.3"
  },
  "orig_nbformat": 4
 },
 "nbformat": 4,
 "nbformat_minor": 2
}

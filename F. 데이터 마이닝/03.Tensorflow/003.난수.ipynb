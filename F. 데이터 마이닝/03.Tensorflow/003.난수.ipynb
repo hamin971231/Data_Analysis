{
 "cells": [
  {
   "cell_type": "markdown",
   "metadata": {},
   "source": [
    "# 난수\n",
    "\n",
    "## #01. 작업준비\n",
    "\n",
    "패키지 가져오기"
   ]
  },
  {
   "cell_type": "code",
   "execution_count": 1,
   "metadata": {},
   "outputs": [],
   "source": [
    "import tensorflow as tf\n",
    "import numpy as np"
   ]
  },
  {
   "cell_type": "code",
   "execution_count": null,
   "metadata": {},
   "outputs": [],
   "source": []
  },
  {
   "cell_type": "markdown",
   "metadata": {},
   "source": [
    "## #02. 균등 분포 난수\n",
    "일반적으로 각 이벤트의 결과값을 알 수 없는 경우 미래에 발생할 이벤트의 결과값 \n",
    "가 각 예상되는 범위별로 균등한 확률로 일어날 것이라고 예상될 때 사용.\n",
    "\n",
    "### 1) 균등 분포 난수의 사용 예\n",
    "주사위에 대한 확률\n",
    "- 200번을 던지고 201번째  주사위를 던진다고 했을 때 201번째 결과값은 앞의 1에서 200번까지 결과값에 영향을 받지 않는다.\n",
    "- 201번째 결과값이 1,2,3,4,5,6 각각의 결과값으로 나올 확률은 6분의 1이며 이는 앞의 1~200번째 결과값에 영향을 받아 줄어들거나 늘어나지 않는다는 것이다.\n",
    "- 이처럼 미래 결과값이 경험적으로 알 수 없을 상황에서 사용하는 것이 균등분포이다.\n"
   ]
  },
  {
   "cell_type": "markdown",
   "metadata": {},
   "source": [
    "### 2) 균등 분포 난수 실험\n",
    "스칼라 형태의 균등 분포 난수\n"
   ]
  },
  {
   "cell_type": "code",
   "execution_count": 2,
   "metadata": {},
   "outputs": [
    {
     "name": "stdout",
     "output_type": "stream",
     "text": [
      "8\n"
     ]
    }
   ],
   "source": [
    "uni_rnd1= tf.random.uniform(shape=[],minval=0,maxval=100,dtype=tf.int32)\n",
    "tf.print(uni_rnd1)"
   ]
  },
  {
   "cell_type": "markdown",
   "metadata": {},
   "source": [
    "#### 백터형태의 균등 분포 난수"
   ]
  },
  {
   "cell_type": "code",
   "execution_count": 5,
   "metadata": {},
   "outputs": [
    {
     "name": "stdout",
     "output_type": "stream",
     "text": [
      "[24 51 60 16 4]\n"
     ]
    }
   ],
   "source": [
    "uni_rnd2= tf.random.uniform(shape=[5],minval=0,maxval=100,dtype=tf.int32)\n",
    "tf.print(uni_rnd2)"
   ]
  },
  {
   "cell_type": "markdown",
   "metadata": {},
   "source": [
    "#### 행렬형태의 균등 분포 난수"
   ]
  },
  {
   "cell_type": "code",
   "execution_count": 7,
   "metadata": {},
   "outputs": [
    {
     "name": "stdout",
     "output_type": "stream",
     "text": [
      "[[41 72]\n",
      " [90 95]]\n"
     ]
    }
   ],
   "source": [
    "uni_rnd3= tf.random.uniform(shape=[2,2],minval=0,maxval=100,dtype=tf.int32)\n",
    "tf.print(uni_rnd3)"
   ]
  },
  {
   "cell_type": "markdown",
   "metadata": {},
   "source": [
    "#### 탠서 형태의 균등 분포 난수"
   ]
  },
  {
   "cell_type": "code",
   "execution_count": 8,
   "metadata": {},
   "outputs": [
    {
     "name": "stdout",
     "output_type": "stream",
     "text": [
      "[[[14 54]\n",
      "  [11 83]]\n",
      "\n",
      " [[72 93]\n",
      "  [48 86]]\n",
      "\n",
      " [[6 71]\n",
      "  [50 25]]]\n"
     ]
    }
   ],
   "source": [
    "uni_rnd4= tf.random.uniform(shape=[3,2,2],minval=0,maxval=100,dtype=tf.int32)\n",
    "tf.print(uni_rnd4)"
   ]
  },
  {
   "cell_type": "markdown",
   "metadata": {},
   "source": [
    "### 3) 렌덤값을 갖는 행렬 곱 예시\n",
    "랜덤값을 갖는 3행2열의 행렬을 변수 x로 정의"
   ]
  },
  {
   "cell_type": "code",
   "execution_count": 9,
   "metadata": {},
   "outputs": [
    {
     "name": "stdout",
     "output_type": "stream",
     "text": [
      "[[0.778531671 0.0116186142]\n",
      " [0.471047878 0.293477535]\n",
      " [0.809447408 0.720927238]]\n"
     ]
    }
   ],
   "source": [
    "x = tf.Variable(tf.random.uniform([3, 2]))\n",
    "tf.print(x)"
   ]
  },
  {
   "cell_type": "markdown",
   "metadata": {},
   "source": [
    "#### 랜덤값을 갖는 2행1열의 행렬을 변수 y로 정의"
   ]
  },
  {
   "cell_type": "code",
   "execution_count": 10,
   "metadata": {},
   "outputs": [
    {
     "name": "stdout",
     "output_type": "stream",
     "text": [
      "[[0.0638133287]\n",
      " [0.380884528]]\n"
     ]
    }
   ],
   "source": [
    "y= tf.Variable(tf.random.uniform([2,1]))\n",
    "tf.print(y)"
   ]
  },
  {
   "cell_type": "markdown",
   "metadata": {},
   "source": [
    "### 행렬곱에 대한 연산을 수행하는 노드 정의"
   ]
  },
  {
   "cell_type": "code",
   "execution_count": 11,
   "metadata": {},
   "outputs": [
    {
     "name": "stdout",
     "output_type": "stream",
     "text": [
      "[[0.0541060492]\n",
      " [0.14184019]\n",
      " [0.326243579]]\n"
     ]
    }
   ],
   "source": [
    "expr = tf.matmul(x,y)\n",
    "tf.print(expr)"
   ]
  },
  {
   "cell_type": "markdown",
   "metadata": {},
   "source": [
    "## #03. 정규 분포 난수\n",
    "정규분포란 과거의 축적된 경험적 데이터를 이미 보유하고 있는 상태에서 이용하여 미래에 발생할 결과값 \n",
    "의 각 예상되는 범위별로 발생될 확률을 어느 정도 추정할 수 있을 때 사용\n",
    "\n",
    "### 1) 정규 분포 난수의 사용 예\n",
    "#### 매장의 매출액 예측\n",
    "- 이전 3개월의 매출이 2천만원, 2천백만원, 2천2백원 발생한 경우 평균이나 범위에 대한 예측이 가능하다.\n",
    "- 평균에 대한 예측 → 이번달 매출은 과거 3개월의 매출평균인 2천백만원으로 예측.\n",
    "- 범위에 대한 예측 → 최소 2천만원 ~  최대 2천2백만원까지 매출이 발생할 수 있다는 예상이 가능함.\n",
    "#### 로또 추첨\n",
    "- 64개의 공 중에서 하나를 랜덤으로 추출하면, 두 번째 랜덤 범위는 첫 번째 추출된 공을 제외한 범위 안에서 생성된다.\n",
    "- 만약 로또 추첨시 하나의 공을 뽑아 번호를 확인하고 그 공을 다시 추첨 대상에 포함시켰다면 균등분포 난수가 된다.\n",
    "### 2) 정규 분포 난수 실험\n",
    "정규 분포 난수를 생성할 때는 평균(mean)과 표준편차(stddev)를 지정해야 한다.\n",
    "\n",
    "#### 스칼라 형태의 정규 분포 난수"
   ]
  },
  {
   "cell_type": "code",
   "execution_count": 13,
   "metadata": {},
   "outputs": [
    {
     "name": "stdout",
     "output_type": "stream",
     "text": [
      "1.84196198\n"
     ]
    }
   ],
   "source": [
    "normal_rnd1 = tf.random.normal(shape=[],mean=0.0,stddev=1.0)\n",
    "tf.print(normal_rnd1)"
   ]
  },
  {
   "cell_type": "markdown",
   "metadata": {},
   "source": [
    "### 백터 형태의 정규분포 난수"
   ]
  },
  {
   "cell_type": "code",
   "execution_count": 14,
   "metadata": {},
   "outputs": [
    {
     "name": "stdout",
     "output_type": "stream",
     "text": [
      "[0.785886 -0.938920498 0.262168556 0.417043179 0.712221682]\n"
     ]
    }
   ],
   "source": [
    "normal_rnd2 = tf.random.normal(shape=[5],mean=0,stddev=1.0)\n",
    "tf.print(normal_rnd2)"
   ]
  },
  {
   "cell_type": "markdown",
   "metadata": {},
   "source": [
    "### 행렬 형태의 정규분포 난수\n"
   ]
  },
  {
   "cell_type": "code",
   "execution_count": 15,
   "metadata": {},
   "outputs": [
    {
     "name": "stdout",
     "output_type": "stream",
     "text": [
      "[[0.38087222 -0.765643895 -0.237597406]\n",
      " [-1.2938273 0.153873697 -0.031705074]]\n"
     ]
    }
   ],
   "source": [
    "normal_rnd3 = tf.random.normal(shape=[2,3],mean=0,stddev=1.0)\n",
    "tf.print(normal_rnd3)"
   ]
  },
  {
   "cell_type": "markdown",
   "metadata": {},
   "source": [
    "### 텐서형태의 정규분포 난수"
   ]
  },
  {
   "cell_type": "code",
   "execution_count": 16,
   "metadata": {},
   "outputs": [
    {
     "name": "stdout",
     "output_type": "stream",
     "text": [
      "[[[-0.21593754 1.81462586 -0.361007959]\n",
      "  [-0.604429662 -0.217204243 0.0142352516]]\n",
      "\n",
      " [[-1.43557024 0.0253317431 0.655242443]\n",
      "  [-0.583641052 -0.403546065 0.408670306]]]\n"
     ]
    }
   ],
   "source": [
    "normal_rnd4 = tf.random.normal(shape=[2,2,3],mean=0,stddev=1.0)\n",
    "tf.print(normal_rnd4)"
   ]
  }
 ],
 "metadata": {
  "kernelspec": {
   "display_name": "Python 3",
   "language": "python",
   "name": "python3"
  },
  "language_info": {
   "codemirror_mode": {
    "name": "ipython",
    "version": 3
   },
   "file_extension": ".py",
   "mimetype": "text/x-python",
   "name": "python",
   "nbconvert_exporter": "python",
   "pygments_lexer": "ipython3",
   "version": "3.9.13"
  },
  "orig_nbformat": 4
 },
 "nbformat": 4,
 "nbformat_minor": 2
}

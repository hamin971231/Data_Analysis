{
 "cells": [
  {
   "cell_type": "markdown",
   "metadata": {},
   "source": [
    "# 합성곱 신경망  (CNN, Convolutional )"
   ]
  },
  {
   "cell_type": "markdown",
   "metadata": {},
   "source": [
    "## #01. 패키지 준비 "
   ]
  },
  {
   "cell_type": "code",
   "execution_count": 1,
   "metadata": {},
   "outputs": [],
   "source": [
    "\n",
    "import datetime as dt\n",
    "import pandas as pd \n",
    "from matplotlib import pyplot as plt\n",
    "import seaborn as sb\n",
    "import numpy as np\n",
    "\n",
    "from tensorflow.keras.models import Sequential\n",
    "from tensorflow.keras.layers import Dense, BatchNormalization, Conv2D, MaxPool2D, Flatten, Dropout\n",
    "from tensorflow.keras.callbacks import EarlyStopping, ReduceLROnPlateau\n",
    "from tensorflow.keras.utils import to_categorical\n",
    "from tensorflow.keras.datasets.mnist import load_data\n",
    "\n",
    "from sklearn.metrics import confusion_matrix\n",
    "from sklearn.model_selection import train_test_split\n"
   ]
  },
  {
   "cell_type": "markdown",
   "metadata": {},
   "source": [
    "## #02. 데이터 준비\n"
   ]
  },
  {
   "cell_type": "code",
   "execution_count": 2,
   "metadata": {},
   "outputs": [
    {
     "name": "stdout",
     "output_type": "stream",
     "text": [
      "훈련 데이터 (60000, 28, 28) 레이블 (60000,)\n",
      "검증 데이터 (10000, 28, 28) 레이블 (10000,)\n"
     ]
    }
   ],
   "source": [
    "(x_train,y_train),(x_test,y_test) = load_data(path='mnist.npz')\n",
    "print(f'훈련 데이터 {x_train.shape} 레이블 {y_train.shape}')\n",
    "print(f'검증 데이터 {x_test.shape} 레이블 {y_test.shape}')"
   ]
  },
  {
   "cell_type": "markdown",
   "metadata": {},
   "source": [
    "## #03. 데이터 전처리\n",
    "결측치 등의 데이터 이상점이 없는 예제 데이터 이므로 생략"
   ]
  },
  {
   "cell_type": "markdown",
   "metadata": {},
   "source": [
    "## #04. 탐색적 데이터 분석\n",
    "### 임의의 샘플데이터 확인"
   ]
  },
  {
   "cell_type": "code",
   "execution_count": 3,
   "metadata": {},
   "outputs": [
    {
     "name": "stdout",
     "output_type": "stream",
     "text": [
      "[[  0   0   0   0   0   0   0   0   0   0   0   0   0   0   0   0   0   0\n",
      "    0   0   0   0   0   0   0   0   0   0]\n",
      " [  0   0   0   0   0   0   0   0   0   0   0   0   0   0   0   0   0   0\n",
      "    0   0   0   0   0   0   0   0   0   0]\n",
      " [  0   0   0   0   0   0   0   0   0   0   0   0   0   0   0   0   0   0\n",
      "    0   0   0   0   0   0   0   0   0   0]\n",
      " [  0   0   0   0   0   0   0   0   0   0   0   0   0   0   0   0   0   0\n",
      "    0   0   0   0   0   0   0   0   0   0]\n",
      " [  0   0   0   0   0   0   0   0   0   0   0   0   0   0   0  51 159 253\n",
      "  159  50   0   0   0   0   0   0   0   0]\n",
      " [  0   0   0   0   0   0   0   0   0   0   0   0   0   0  48 238 252 252\n",
      "  252 237   0   0   0   0   0   0   0   0]\n",
      " [  0   0   0   0   0   0   0   0   0   0   0   0   0  54 227 253 252 239\n",
      "  233 252  57   6   0   0   0   0   0   0]\n",
      " [  0   0   0   0   0   0   0   0   0   0   0  10  60 224 252 253 252 202\n",
      "   84 252 253 122   0   0   0   0   0   0]\n",
      " [  0   0   0   0   0   0   0   0   0   0   0 163 252 252 252 253 252 252\n",
      "   96 189 253 167   0   0   0   0   0   0]\n",
      " [  0   0   0   0   0   0   0   0   0   0  51 238 253 253 190 114 253 228\n",
      "   47  79 255 168   0   0   0   0   0   0]\n",
      " [  0   0   0   0   0   0   0   0   0  48 238 252 252 179  12  75 121  21\n",
      "    0   0 253 243  50   0   0   0   0   0]\n",
      " [  0   0   0   0   0   0   0   0  38 165 253 233 208  84   0   0   0   0\n",
      "    0   0 253 252 165   0   0   0   0   0]\n",
      " [  0   0   0   0   0   0   0   7 178 252 240  71  19  28   0   0   0   0\n",
      "    0   0 253 252 195   0   0   0   0   0]\n",
      " [  0   0   0   0   0   0   0  57 252 252  63   0   0   0   0   0   0   0\n",
      "    0   0 253 252 195   0   0   0   0   0]\n",
      " [  0   0   0   0   0   0   0 198 253 190   0   0   0   0   0   0   0   0\n",
      "    0   0 255 253 196   0   0   0   0   0]\n",
      " [  0   0   0   0   0   0  76 246 252 112   0   0   0   0   0   0   0   0\n",
      "    0   0 253 252 148   0   0   0   0   0]\n",
      " [  0   0   0   0   0   0  85 252 230  25   0   0   0   0   0   0   0   0\n",
      "    7 135 253 186  12   0   0   0   0   0]\n",
      " [  0   0   0   0   0   0  85 252 223   0   0   0   0   0   0   0   0   7\n",
      "  131 252 225  71   0   0   0   0   0   0]\n",
      " [  0   0   0   0   0   0  85 252 145   0   0   0   0   0   0   0  48 165\n",
      "  252 173   0   0   0   0   0   0   0   0]\n",
      " [  0   0   0   0   0   0  86 253 225   0   0   0   0   0   0 114 238 253\n",
      "  162   0   0   0   0   0   0   0   0   0]\n",
      " [  0   0   0   0   0   0  85 252 249 146  48  29  85 178 225 253 223 167\n",
      "   56   0   0   0   0   0   0   0   0   0]\n",
      " [  0   0   0   0   0   0  85 252 252 252 229 215 252 252 252 196 130   0\n",
      "    0   0   0   0   0   0   0   0   0   0]\n",
      " [  0   0   0   0   0   0  28 199 252 252 253 252 252 233 145   0   0   0\n",
      "    0   0   0   0   0   0   0   0   0   0]\n",
      " [  0   0   0   0   0   0   0  25 128 252 253 252 141  37   0   0   0   0\n",
      "    0   0   0   0   0   0   0   0   0   0]\n",
      " [  0   0   0   0   0   0   0   0   0   0   0   0   0   0   0   0   0   0\n",
      "    0   0   0   0   0   0   0   0   0   0]\n",
      " [  0   0   0   0   0   0   0   0   0   0   0   0   0   0   0   0   0   0\n",
      "    0   0   0   0   0   0   0   0   0   0]\n",
      " [  0   0   0   0   0   0   0   0   0   0   0   0   0   0   0   0   0   0\n",
      "    0   0   0   0   0   0   0   0   0   0]\n",
      " [  0   0   0   0   0   0   0   0   0   0   0   0   0   0   0   0   0   0\n",
      "    0   0   0   0   0   0   0   0   0   0]]\n"
     ]
    }
   ],
   "source": [
    "print(x_train[1])"
   ]
  },
  {
   "cell_type": "code",
   "execution_count": 4,
   "metadata": {},
   "outputs": [
    {
     "name": "stdout",
     "output_type": "stream",
     "text": [
      "255\n"
     ]
    }
   ],
   "source": [
    "print(np.max(x_train[1]))"
   ]
  },
  {
   "cell_type": "code",
   "execution_count": 5,
   "metadata": {},
   "outputs": [
    {
     "name": "stdout",
     "output_type": "stream",
     "text": [
      "000000000000000000000000000000000000000000000000000000000000000000000000000000000000\n",
      "000000000000000000000000000000000000000000000000000000000000000000000000000000000000\n",
      "000000000000000000000000000000000000000000000000000000000000000000000000000000000000\n",
      "000000000000000000000000000000000000000000000000000000000000000000000000000000000000\n",
      "000000000000000000000000000000000000000000000051159253159050000000000000000000000000\n",
      "000000000000000000000000000000000000000000048238252252252237000000000000000000000000\n",
      "000000000000000000000000000000000000000054227253252239233252057006000000000000000000\n",
      "000000000000000000000000000000000010060224252253252202084252253122000000000000000000\n",
      "000000000000000000000000000000000163252252252253252252096189253167000000000000000000\n",
      "000000000000000000000000000000051238253253190114253228047079255168000000000000000000\n",
      "000000000000000000000000000048238252252179012075121021000000253243050000000000000000\n",
      "000000000000000000000000038165253233208084000000000000000000253252165000000000000000\n",
      "000000000000000000000007178252240071019028000000000000000000253252195000000000000000\n",
      "000000000000000000000057252252063000000000000000000000000000253252195000000000000000\n",
      "000000000000000000000198253190000000000000000000000000000000255253196000000000000000\n",
      "000000000000000000076246252112000000000000000000000000000000253252148000000000000000\n",
      "000000000000000000085252230025000000000000000000000000007135253186012000000000000000\n",
      "000000000000000000085252223000000000000000000000000007131252225071000000000000000000\n",
      "000000000000000000085252145000000000000000000000048165252173000000000000000000000000\n",
      "000000000000000000086253225000000000000000000114238253162000000000000000000000000000\n",
      "000000000000000000085252249146048029085178225253223167056000000000000000000000000000\n",
      "000000000000000000085252252252229215252252252196130000000000000000000000000000000000\n",
      "000000000000000000028199252252253252252233145000000000000000000000000000000000000000\n",
      "000000000000000000000025128252253252141037000000000000000000000000000000000000000000\n",
      "000000000000000000000000000000000000000000000000000000000000000000000000000000000000\n",
      "000000000000000000000000000000000000000000000000000000000000000000000000000000000000\n",
      "000000000000000000000000000000000000000000000000000000000000000000000000000000000000\n",
      "000000000000000000000000000000000000000000000000000000000000000000000000000000000000\n"
     ]
    }
   ],
   "source": [
    "for i in x_train[1]:\n",
    "    for j in i:\n",
    "        print(\"%03d\" % j, end=\"\")\n",
    "    print()"
   ]
  },
  {
   "cell_type": "code",
   "execution_count": 10,
   "metadata": {},
   "outputs": [
    {
     "name": "stdout",
     "output_type": "stream",
     "text": [
      "0\n"
     ]
    }
   ],
   "source": [
    "print(y_train[1])"
   ]
  },
  {
   "cell_type": "markdown",
   "metadata": {},
   "source": [
    "#### 레이블에 대한 one-hot-encoding"
   ]
  },
  {
   "cell_type": "code",
   "execution_count": 6,
   "metadata": {},
   "outputs": [
    {
     "name": "stdout",
     "output_type": "stream",
     "text": [
      "[[0. 0. 0. ... 1. 0. 0.]\n",
      " [0. 0. 1. ... 0. 0. 0.]\n",
      " [0. 1. 0. ... 0. 0. 0.]\n",
      " ...\n",
      " [0. 0. 0. ... 0. 0. 0.]\n",
      " [0. 0. 0. ... 0. 0. 0.]\n",
      " [0. 0. 0. ... 0. 0. 0.]]\n"
     ]
    }
   ],
   "source": [
    "y_train_onehot = to_categorical(y_train)\n",
    "y_test_onehot = to_categorical(y_test)\n",
    "print(y_test_onehot)"
   ]
  },
  {
   "cell_type": "markdown",
   "metadata": {},
   "source": [
    "### 훈련 검증용 데이터의 차수 재설정\n",
    "기본 CNN 골격에 맞게 28*28*1  로 차원 변경"
   ]
  },
  {
   "cell_type": "code",
   "execution_count": 7,
   "metadata": {},
   "outputs": [
    {
     "data": {
      "text/plain": [
       "(60000, 28, 28)"
      ]
     },
     "execution_count": 7,
     "metadata": {},
     "output_type": "execute_result"
    }
   ],
   "source": [
    "x_train.shape"
   ]
  },
  {
   "cell_type": "code",
   "execution_count": 8,
   "metadata": {},
   "outputs": [
    {
     "name": "stdout",
     "output_type": "stream",
     "text": [
      "훈련 데이터 (60000, 28, 28, 1) / 검증 데이터 (10000, 28, 28, 1)\n"
     ]
    }
   ],
   "source": [
    "x_train_reshape = x_train.reshape(x_train.shape[0],x_train.shape[1],x_train.shape[2],1)\n",
    "x_test_reshape = x_test.reshape(x_test.shape[0],x_test[1].shape[1],x_test.shape[2],1)\n",
    "print(f'훈련 데이터 {x_train_reshape.shape} / 검증 데이터 {x_test_reshape.shape}')"
   ]
  },
  {
   "cell_type": "markdown",
   "metadata": {},
   "source": [
    "#### 이미지 데이터 정규화\n",
    "이미지와같이 복잡한 데이터의 경우 BatchNormalization층을 적용하여 텐서플로우 모델 구성 시 표준화를 수행하는 학습층을 추가할 수 있다 .\n"
   ]
  },
  {
   "cell_type": "markdown",
   "metadata": {},
   "source": [
    "## 모델개발\n",
    "### 모델정의\n",
    "( con2D적용 - > BatchNormalization층 적용 -> MaxPool2D 적용 ) 읭 과정을 n 번 반복 -> Flatten 레이어 추가 -> Dense층 n개 추가\n",
    "\n",
    "- Condv2D층\n",
    "1) 영상이나 이미지의 특징을 확인하기 위한 함수\n",
    "2) filters : 필터의 개수\n",
    "3) kernel_size : 필터의 크기\n",
    "4) strides : 필터의 이동간경\n",
    "5) padding  : valid -> 패딩 없음, same -> 인풋과 아웃품이 같도록 패딩\n",
    "6) activation : 활성화 함수\n",
    "7) input_shape : 첫 레이어에 인풋으로 들어오는 크기\n",
    "\n",
    "- BatchNormalization ( 배치 정규화 )\n",
    "1) 신경망 입력데이터를 평균 0, 분산 1로 정규화해서 학습이 잘 이루어지도록 하는 방법\n",
    "2) BatchNormalization 층에서 정규화하기 때문에 별도의 정규화 적용할 필요 x\n",
    "\n",
    "- MaxPool2D\n",
    "1) 컨볼루션 레이어의 출력 이미지에서 주요값만 뽑아 크기가 작은 출력영상을 만든다\n",
    "2) pool_size : 축소시킬 필터의 크기\n",
    "3) strides : 필터의 이동간격 -> 기본값으로 pool_size를 갖는다\n",
    "4) 일반적으로 strides는 pool_size와 동일하기 적용되므로 생략하는편"
   ]
  },
  {
   "cell_type": "code",
   "execution_count": 14,
   "metadata": {},
   "outputs": [
    {
     "name": "stdout",
     "output_type": "stream",
     "text": [
      "Model: \"sequential_5\"\n",
      "_________________________________________________________________\n",
      " Layer (type)                Output Shape              Param #   \n",
      "=================================================================\n",
      " conv2d_4 (Conv2D)           (None, 28, 28, 32)        832       \n",
      "                                                                 \n",
      " batch_normalization_4 (Bat  (None, 28, 28, 32)        128       \n",
      " chNormalization)                                                \n",
      "                                                                 \n",
      " max_pooling2d_4 (MaxPoolin  (None, 14, 14, 32)        0         \n",
      " g2D)                                                            \n",
      "                                                                 \n",
      " dropout_4 (Dropout)         (None, 14, 14, 32)        0         \n",
      "                                                                 \n",
      " conv2d_5 (Conv2D)           (None, 14, 14, 64)        18496     \n",
      "                                                                 \n",
      " batch_normalization_5 (Bat  (None, 14, 14, 64)        256       \n",
      " chNormalization)                                                \n",
      "                                                                 \n",
      " max_pooling2d_5 (MaxPoolin  (None, 7, 7, 64)          0         \n",
      " g2D)                                                            \n",
      "                                                                 \n",
      " dropout_5 (Dropout)         (None, 7, 7, 64)          0         \n",
      "                                                                 \n",
      " flatten_1 (Flatten)         (None, 3136)              0         \n",
      "                                                                 \n",
      " dense (Dense)               (None, 256)               803072    \n",
      "                                                                 \n",
      " dense_1 (Dense)             (None, 10)                2570      \n",
      "                                                                 \n",
      "=================================================================\n",
      "Total params: 825354 (3.15 MB)\n",
      "Trainable params: 825162 (3.15 MB)\n",
      "Non-trainable params: 192 (768.00 Byte)\n",
      "_________________________________________________________________\n"
     ]
    }
   ],
   "source": [
    "model = Sequential()\n",
    "\n",
    "#------------------------#\n",
    "# Conv2D\n",
    "model.add(Conv2D(filters=32,kernel_size=(5,5),strides = (1,1),padding= 'same',activation = 'relu',input_shape=(28,28,1)))\n",
    "\n",
    "# 표준화\n",
    "model.add(BatchNormalization())\n",
    "\n",
    "# MaxPool2D\n",
    "model.add(MaxPool2D(pool_size=(2,2),strides=(2,2)))\n",
    "\n",
    "## 랜덤으로 25%의 뉴런을 쉬게함\n",
    "model.add(Dropout(0.25))\n",
    "\n",
    "#------------------------#\n",
    "# 이전보다 filter는 크게, kelnel_size는 작게, input_shape는 최초에만 적용하므로 여기서는 생략\n",
    "\n",
    "model.add(Conv2D(filters= 64,kernel_size = (3,3),strides=(1,1),padding= 'same',activation='relu'))\n",
    "model.add(BatchNormalization())\n",
    "model.add(MaxPool2D(pool_size=(2,2),strides=(2,2)))\n",
    "# 랜덤으로 25%의 뉴런을 쉬게함\n",
    "model.add(Dropout(0.25))\n",
    "#------------------------#\n",
    "\n",
    "## 1차원으로 변환하기 위한 레이어\n",
    "model.add(Flatten())\n",
    "model.add(Dense(256,activation = 'relu'))\n",
    "\n",
    "# 최종 아웃풋의 수는 one_hot_encoding의 원소 수 만큼\n",
    "model.add(Dense(10, activation='softmax'))\n",
    "\n",
    "model.compile(optimizer='adam', loss='categorical_crossentropy', metrics=['acc'])\n",
    "model.summary()\n"
   ]
  },
  {
   "cell_type": "code",
   "execution_count": 17,
   "metadata": {},
   "outputs": [
    {
     "name": "stdout",
     "output_type": "stream",
     "text": [
      "Epoch 1/500\n",
      "   3/1875 [..............................] - ETA: 48s - loss: 0.0976 - acc: 0.9583"
     ]
    },
    {
     "name": "stdout",
     "output_type": "stream",
     "text": [
      "1875/1875 [==============================] - 54s 29ms/step - loss: 0.0612 - acc: 0.9818 - val_loss: 0.0504 - val_acc: 0.9859 - lr: 0.0010\n",
      "Epoch 2/500\n",
      "1875/1875 [==============================] - 55s 29ms/step - loss: 0.0467 - acc: 0.9861 - val_loss: 0.0511 - val_acc: 0.9846 - lr: 0.0010\n",
      "Epoch 3/500\n",
      "1875/1875 [==============================] - 57s 30ms/step - loss: 0.0392 - acc: 0.9886 - val_loss: 0.0469 - val_acc: 0.9877 - lr: 0.0010\n",
      "Epoch 4/500\n",
      "1875/1875 [==============================] - 55s 29ms/step - loss: 0.0359 - acc: 0.9896 - val_loss: 0.0433 - val_acc: 0.9880 - lr: 0.0010\n",
      "Epoch 5/500\n",
      "1875/1875 [==============================] - 55s 30ms/step - loss: 0.0290 - acc: 0.9913 - val_loss: 0.0352 - val_acc: 0.9906 - lr: 0.0010\n",
      "Epoch 6/500\n",
      "1875/1875 [==============================] - 54s 29ms/step - loss: 0.0267 - acc: 0.9922 - val_loss: 0.0324 - val_acc: 0.9901 - lr: 0.0010\n",
      "Epoch 7/500\n",
      "1875/1875 [==============================] - 55s 29ms/step - loss: 0.0239 - acc: 0.9931 - val_loss: 0.0345 - val_acc: 0.9912 - lr: 0.0010\n",
      "Epoch 8/500\n",
      "1875/1875 [==============================] - 59s 31ms/step - loss: 0.0224 - acc: 0.9932 - val_loss: 0.0356 - val_acc: 0.9914 - lr: 0.0010\n",
      "Epoch 9/500\n",
      "1875/1875 [==============================] - 55s 29ms/step - loss: 0.0189 - acc: 0.9946 - val_loss: 0.0310 - val_acc: 0.9922 - lr: 0.0010\n",
      "Epoch 10/500\n",
      "1875/1875 [==============================] - 54s 29ms/step - loss: 0.0174 - acc: 0.9948 - val_loss: 0.0375 - val_acc: 0.9917 - lr: 0.0010\n",
      "Epoch 11/500\n",
      "1875/1875 [==============================] - 55s 29ms/step - loss: 0.0177 - acc: 0.9949 - val_loss: 0.0316 - val_acc: 0.9931 - lr: 0.0010\n",
      "Epoch 12/500\n",
      "1875/1875 [==============================] - 57s 30ms/step - loss: 0.0156 - acc: 0.9956 - val_loss: 0.0308 - val_acc: 0.9934 - lr: 0.0010\n",
      "Epoch 13/500\n",
      "1875/1875 [==============================] - 54s 29ms/step - loss: 0.0137 - acc: 0.9963 - val_loss: 0.0381 - val_acc: 0.9915 - lr: 0.0010\n",
      "Epoch 14/500\n",
      "1875/1875 [==============================] - 53s 28ms/step - loss: 0.0140 - acc: 0.9960 - val_loss: 0.0446 - val_acc: 0.9898 - lr: 0.0010\n",
      "Epoch 15/500\n",
      "1874/1875 [============================>.] - ETA: 0s - loss: 0.0115 - acc: 0.9967\n",
      "Epoch 15: ReduceLROnPlateau reducing learning rate to 0.0005000000237487257.\n",
      "1875/1875 [==============================] - 56s 30ms/step - loss: 0.0115 - acc: 0.9967 - val_loss: 0.0354 - val_acc: 0.9927 - lr: 0.0010\n",
      "Epoch 16/500\n",
      "1875/1875 [==============================] - 55s 29ms/step - loss: 0.0062 - acc: 0.9980 - val_loss: 0.0265 - val_acc: 0.9940 - lr: 5.0000e-04\n",
      "Epoch 17/500\n",
      "1875/1875 [==============================] - 54s 29ms/step - loss: 0.0049 - acc: 0.9983 - val_loss: 0.0314 - val_acc: 0.9933 - lr: 5.0000e-04\n",
      "Epoch 18/500\n",
      "1875/1875 [==============================] - 54s 29ms/step - loss: 0.0031 - acc: 0.9988 - val_loss: 0.0308 - val_acc: 0.9926 - lr: 5.0000e-04\n",
      "Epoch 19/500\n",
      "1874/1875 [============================>.] - ETA: 0s - loss: 0.0039 - acc: 0.9986\n",
      "Epoch 19: ReduceLROnPlateau reducing learning rate to 0.0002500000118743628.\n",
      "1875/1875 [==============================] - 57s 30ms/step - loss: 0.0039 - acc: 0.9986 - val_loss: 0.0301 - val_acc: 0.9938 - lr: 5.0000e-04\n",
      "Epoch 20/500\n",
      "1875/1875 [==============================] - 58s 31ms/step - loss: 0.0021 - acc: 0.9993 - val_loss: 0.0314 - val_acc: 0.9942 - lr: 2.5000e-04\n",
      "Epoch 21/500\n",
      "1875/1875 [==============================] - 57s 30ms/step - loss: 0.0020 - acc: 0.9993 - val_loss: 0.0281 - val_acc: 0.9943 - lr: 2.5000e-04\n",
      "Epoch 21: early stopping\n"
     ]
    },
    {
     "data": {
      "text/plain": [
       "datetime.timedelta(seconds=1161, microseconds=56781)"
      ]
     },
     "execution_count": 17,
     "metadata": {},
     "output_type": "execute_result"
    }
   ],
   "source": [
    "start = dt.datetime.now()\n",
    "\n",
    "result = model.fit(x_train_reshape, y_train_onehot, epochs=500, validation_data=(x_test_reshape, y_test_onehot), callbacks = [\n",
    "    EarlyStopping(monitor = 'val_loss', patience=5, verbose = 1),\n",
    "    ReduceLROnPlateau(monitor= \"val_loss\", patience=3, factor = 0.5, min_lr=0.0001, verbose=1)\n",
    "])\n",
    "\n",
    "end = dt.datetime.now()\n",
    "\n",
    "end-start"
   ]
  },
  {
   "cell_type": "markdown",
   "metadata": {},
   "source": [
    "## #07. 학습결과 평가가\n"
   ]
  },
  {
   "cell_type": "code",
   "execution_count": 18,
   "metadata": {},
   "outputs": [
    {
     "data": {
      "text/html": [
       "<div>\n",
       "<style scoped>\n",
       "    .dataframe tbody tr th:only-of-type {\n",
       "        vertical-align: middle;\n",
       "    }\n",
       "\n",
       "    .dataframe tbody tr th {\n",
       "        vertical-align: top;\n",
       "    }\n",
       "\n",
       "    .dataframe thead th {\n",
       "        text-align: right;\n",
       "    }\n",
       "</style>\n",
       "<table border=\"1\" class=\"dataframe\">\n",
       "  <thead>\n",
       "    <tr style=\"text-align: right;\">\n",
       "      <th></th>\n",
       "      <th>loss</th>\n",
       "      <th>acc</th>\n",
       "      <th>val_loss</th>\n",
       "      <th>val_acc</th>\n",
       "      <th>lr</th>\n",
       "    </tr>\n",
       "    <tr>\n",
       "      <th>epochs</th>\n",
       "      <th></th>\n",
       "      <th></th>\n",
       "      <th></th>\n",
       "      <th></th>\n",
       "      <th></th>\n",
       "    </tr>\n",
       "  </thead>\n",
       "  <tbody>\n",
       "    <tr>\n",
       "      <th>1</th>\n",
       "      <td>0.061220</td>\n",
       "      <td>0.981750</td>\n",
       "      <td>0.050383</td>\n",
       "      <td>0.9859</td>\n",
       "      <td>0.00100</td>\n",
       "    </tr>\n",
       "    <tr>\n",
       "      <th>2</th>\n",
       "      <td>0.046714</td>\n",
       "      <td>0.986083</td>\n",
       "      <td>0.051113</td>\n",
       "      <td>0.9846</td>\n",
       "      <td>0.00100</td>\n",
       "    </tr>\n",
       "    <tr>\n",
       "      <th>3</th>\n",
       "      <td>0.039158</td>\n",
       "      <td>0.988600</td>\n",
       "      <td>0.046941</td>\n",
       "      <td>0.9877</td>\n",
       "      <td>0.00100</td>\n",
       "    </tr>\n",
       "    <tr>\n",
       "      <th>4</th>\n",
       "      <td>0.035896</td>\n",
       "      <td>0.989600</td>\n",
       "      <td>0.043333</td>\n",
       "      <td>0.9880</td>\n",
       "      <td>0.00100</td>\n",
       "    </tr>\n",
       "    <tr>\n",
       "      <th>5</th>\n",
       "      <td>0.028981</td>\n",
       "      <td>0.991333</td>\n",
       "      <td>0.035189</td>\n",
       "      <td>0.9906</td>\n",
       "      <td>0.00100</td>\n",
       "    </tr>\n",
       "    <tr>\n",
       "      <th>6</th>\n",
       "      <td>0.026732</td>\n",
       "      <td>0.992183</td>\n",
       "      <td>0.032362</td>\n",
       "      <td>0.9901</td>\n",
       "      <td>0.00100</td>\n",
       "    </tr>\n",
       "    <tr>\n",
       "      <th>7</th>\n",
       "      <td>0.023934</td>\n",
       "      <td>0.993133</td>\n",
       "      <td>0.034461</td>\n",
       "      <td>0.9912</td>\n",
       "      <td>0.00100</td>\n",
       "    </tr>\n",
       "    <tr>\n",
       "      <th>8</th>\n",
       "      <td>0.022430</td>\n",
       "      <td>0.993217</td>\n",
       "      <td>0.035649</td>\n",
       "      <td>0.9914</td>\n",
       "      <td>0.00100</td>\n",
       "    </tr>\n",
       "    <tr>\n",
       "      <th>9</th>\n",
       "      <td>0.018907</td>\n",
       "      <td>0.994567</td>\n",
       "      <td>0.030975</td>\n",
       "      <td>0.9922</td>\n",
       "      <td>0.00100</td>\n",
       "    </tr>\n",
       "    <tr>\n",
       "      <th>10</th>\n",
       "      <td>0.017385</td>\n",
       "      <td>0.994767</td>\n",
       "      <td>0.037548</td>\n",
       "      <td>0.9917</td>\n",
       "      <td>0.00100</td>\n",
       "    </tr>\n",
       "    <tr>\n",
       "      <th>11</th>\n",
       "      <td>0.017719</td>\n",
       "      <td>0.994900</td>\n",
       "      <td>0.031620</td>\n",
       "      <td>0.9931</td>\n",
       "      <td>0.00100</td>\n",
       "    </tr>\n",
       "    <tr>\n",
       "      <th>12</th>\n",
       "      <td>0.015579</td>\n",
       "      <td>0.995600</td>\n",
       "      <td>0.030847</td>\n",
       "      <td>0.9934</td>\n",
       "      <td>0.00100</td>\n",
       "    </tr>\n",
       "    <tr>\n",
       "      <th>13</th>\n",
       "      <td>0.013681</td>\n",
       "      <td>0.996333</td>\n",
       "      <td>0.038134</td>\n",
       "      <td>0.9915</td>\n",
       "      <td>0.00100</td>\n",
       "    </tr>\n",
       "    <tr>\n",
       "      <th>14</th>\n",
       "      <td>0.013973</td>\n",
       "      <td>0.996000</td>\n",
       "      <td>0.044584</td>\n",
       "      <td>0.9898</td>\n",
       "      <td>0.00100</td>\n",
       "    </tr>\n",
       "    <tr>\n",
       "      <th>15</th>\n",
       "      <td>0.011504</td>\n",
       "      <td>0.996683</td>\n",
       "      <td>0.035409</td>\n",
       "      <td>0.9927</td>\n",
       "      <td>0.00100</td>\n",
       "    </tr>\n",
       "    <tr>\n",
       "      <th>16</th>\n",
       "      <td>0.006233</td>\n",
       "      <td>0.998033</td>\n",
       "      <td>0.026526</td>\n",
       "      <td>0.9940</td>\n",
       "      <td>0.00050</td>\n",
       "    </tr>\n",
       "    <tr>\n",
       "      <th>17</th>\n",
       "      <td>0.004881</td>\n",
       "      <td>0.998300</td>\n",
       "      <td>0.031367</td>\n",
       "      <td>0.9933</td>\n",
       "      <td>0.00050</td>\n",
       "    </tr>\n",
       "    <tr>\n",
       "      <th>18</th>\n",
       "      <td>0.003116</td>\n",
       "      <td>0.998767</td>\n",
       "      <td>0.030772</td>\n",
       "      <td>0.9926</td>\n",
       "      <td>0.00050</td>\n",
       "    </tr>\n",
       "    <tr>\n",
       "      <th>19</th>\n",
       "      <td>0.003893</td>\n",
       "      <td>0.998583</td>\n",
       "      <td>0.030115</td>\n",
       "      <td>0.9938</td>\n",
       "      <td>0.00050</td>\n",
       "    </tr>\n",
       "    <tr>\n",
       "      <th>20</th>\n",
       "      <td>0.002115</td>\n",
       "      <td>0.999333</td>\n",
       "      <td>0.031417</td>\n",
       "      <td>0.9942</td>\n",
       "      <td>0.00025</td>\n",
       "    </tr>\n",
       "    <tr>\n",
       "      <th>21</th>\n",
       "      <td>0.002042</td>\n",
       "      <td>0.999317</td>\n",
       "      <td>0.028058</td>\n",
       "      <td>0.9943</td>\n",
       "      <td>0.00025</td>\n",
       "    </tr>\n",
       "  </tbody>\n",
       "</table>\n",
       "</div>"
      ],
      "text/plain": [
       "            loss       acc  val_loss  val_acc       lr\n",
       "epochs                                                \n",
       "1       0.061220  0.981750  0.050383   0.9859  0.00100\n",
       "2       0.046714  0.986083  0.051113   0.9846  0.00100\n",
       "3       0.039158  0.988600  0.046941   0.9877  0.00100\n",
       "4       0.035896  0.989600  0.043333   0.9880  0.00100\n",
       "5       0.028981  0.991333  0.035189   0.9906  0.00100\n",
       "6       0.026732  0.992183  0.032362   0.9901  0.00100\n",
       "7       0.023934  0.993133  0.034461   0.9912  0.00100\n",
       "8       0.022430  0.993217  0.035649   0.9914  0.00100\n",
       "9       0.018907  0.994567  0.030975   0.9922  0.00100\n",
       "10      0.017385  0.994767  0.037548   0.9917  0.00100\n",
       "11      0.017719  0.994900  0.031620   0.9931  0.00100\n",
       "12      0.015579  0.995600  0.030847   0.9934  0.00100\n",
       "13      0.013681  0.996333  0.038134   0.9915  0.00100\n",
       "14      0.013973  0.996000  0.044584   0.9898  0.00100\n",
       "15      0.011504  0.996683  0.035409   0.9927  0.00100\n",
       "16      0.006233  0.998033  0.026526   0.9940  0.00050\n",
       "17      0.004881  0.998300  0.031367   0.9933  0.00050\n",
       "18      0.003116  0.998767  0.030772   0.9926  0.00050\n",
       "19      0.003893  0.998583  0.030115   0.9938  0.00050\n",
       "20      0.002115  0.999333  0.031417   0.9942  0.00025\n",
       "21      0.002042  0.999317  0.028058   0.9943  0.00025"
      ]
     },
     "execution_count": 18,
     "metadata": {},
     "output_type": "execute_result"
    }
   ],
   "source": [
    "result_df = pd.DataFrame(result.history)\n",
    "result_df['epochs'] = result_df.index+1\n",
    "result_df.set_index('epochs',inplace=True)\n",
    "result_df"
   ]
  },
  {
   "cell_type": "code",
   "execution_count": 21,
   "metadata": {},
   "outputs": [
    {
     "name": "stderr",
     "output_type": "stream",
     "text": [
      "c:\\Users\\Hamin\\AppData\\Local\\Programs\\Python\\Python39\\lib\\site-packages\\seaborn\\_oldcore.py:1498: FutureWarning: is_categorical_dtype is deprecated and will be removed in a future version. Use isinstance(dtype, CategoricalDtype) instead\n",
      "  if pd.api.types.is_categorical_dtype(vector):\n",
      "c:\\Users\\Hamin\\AppData\\Local\\Programs\\Python\\Python39\\lib\\site-packages\\seaborn\\_oldcore.py:1498: FutureWarning: is_categorical_dtype is deprecated and will be removed in a future version. Use isinstance(dtype, CategoricalDtype) instead\n",
      "  if pd.api.types.is_categorical_dtype(vector):\n",
      "c:\\Users\\Hamin\\AppData\\Local\\Programs\\Python\\Python39\\lib\\site-packages\\seaborn\\_oldcore.py:1119: FutureWarning: use_inf_as_na option is deprecated and will be removed in a future version. Convert inf values to NaN before operating instead.\n",
      "  with pd.option_context('mode.use_inf_as_na', True):\n",
      "c:\\Users\\Hamin\\AppData\\Local\\Programs\\Python\\Python39\\lib\\site-packages\\seaborn\\_oldcore.py:1119: FutureWarning: use_inf_as_na option is deprecated and will be removed in a future version. Convert inf values to NaN before operating instead.\n",
      "  with pd.option_context('mode.use_inf_as_na', True):\n",
      "c:\\Users\\Hamin\\AppData\\Local\\Programs\\Python\\Python39\\lib\\site-packages\\seaborn\\_oldcore.py:1498: FutureWarning: is_categorical_dtype is deprecated and will be removed in a future version. Use isinstance(dtype, CategoricalDtype) instead\n",
      "  if pd.api.types.is_categorical_dtype(vector):\n",
      "c:\\Users\\Hamin\\AppData\\Local\\Programs\\Python\\Python39\\lib\\site-packages\\seaborn\\_oldcore.py:1498: FutureWarning: is_categorical_dtype is deprecated and will be removed in a future version. Use isinstance(dtype, CategoricalDtype) instead\n",
      "  if pd.api.types.is_categorical_dtype(vector):\n",
      "c:\\Users\\Hamin\\AppData\\Local\\Programs\\Python\\Python39\\lib\\site-packages\\seaborn\\_oldcore.py:1119: FutureWarning: use_inf_as_na option is deprecated and will be removed in a future version. Convert inf values to NaN before operating instead.\n",
      "  with pd.option_context('mode.use_inf_as_na', True):\n",
      "c:\\Users\\Hamin\\AppData\\Local\\Programs\\Python\\Python39\\lib\\site-packages\\seaborn\\_oldcore.py:1119: FutureWarning: use_inf_as_na option is deprecated and will be removed in a future version. Convert inf values to NaN before operating instead.\n",
      "  with pd.option_context('mode.use_inf_as_na', True):\n"
     ]
    },
    {
     "data": {
      "text/plain": [
       "<matplotlib.legend.Legend at 0x20aa7c4a700>"
      ]
     },
     "execution_count": 21,
     "metadata": {},
     "output_type": "execute_result"
    },
    {
     "name": "stderr",
     "output_type": "stream",
     "text": [
      "C:\\Users\\Hamin\\AppData\\Roaming\\Python\\Python39\\site-packages\\IPython\\core\\events.py:93: UserWarning: Glyph 49552 (\\N{HANGUL SYLLABLE SON}) missing from current font.\n",
      "  func(*args, **kwargs)\n",
      "C:\\Users\\Hamin\\AppData\\Roaming\\Python\\Python39\\site-packages\\IPython\\core\\events.py:93: UserWarning: Glyph 49892 (\\N{HANGUL SYLLABLE SIL}) missing from current font.\n",
      "  func(*args, **kwargs)\n",
      "C:\\Users\\Hamin\\AppData\\Roaming\\Python\\Python39\\site-packages\\IPython\\core\\events.py:93: UserWarning: Glyph 47456 (\\N{HANGUL SYLLABLE RYUL}) missing from current font.\n",
      "  func(*args, **kwargs)\n",
      "C:\\Users\\Hamin\\AppData\\Roaming\\Python\\Python39\\site-packages\\IPython\\core\\events.py:93: UserWarning: Glyph 54984 (\\N{HANGUL SYLLABLE HUN}) missing from current font.\n",
      "  func(*args, **kwargs)\n",
      "C:\\Users\\Hamin\\AppData\\Roaming\\Python\\Python39\\site-packages\\IPython\\core\\events.py:93: UserWarning: Glyph 47144 (\\N{HANGUL SYLLABLE RYEON}) missing from current font.\n",
      "  func(*args, **kwargs)\n",
      "C:\\Users\\Hamin\\AppData\\Roaming\\Python\\Python39\\site-packages\\IPython\\core\\events.py:93: UserWarning: Glyph 48143 (\\N{HANGUL SYLLABLE MIC}) missing from current font.\n",
      "  func(*args, **kwargs)\n",
      "C:\\Users\\Hamin\\AppData\\Roaming\\Python\\Python39\\site-packages\\IPython\\core\\events.py:93: UserWarning: Glyph 44160 (\\N{HANGUL SYLLABLE GEOM}) missing from current font.\n",
      "  func(*args, **kwargs)\n",
      "C:\\Users\\Hamin\\AppData\\Roaming\\Python\\Python39\\site-packages\\IPython\\core\\events.py:93: UserWarning: Glyph 51613 (\\N{HANGUL SYLLABLE JEUNG}) missing from current font.\n",
      "  func(*args, **kwargs)\n",
      "C:\\Users\\Hamin\\AppData\\Roaming\\Python\\Python39\\site-packages\\IPython\\core\\events.py:93: UserWarning: Glyph 48152 (\\N{HANGUL SYLLABLE BAN}) missing from current font.\n",
      "  func(*args, **kwargs)\n",
      "C:\\Users\\Hamin\\AppData\\Roaming\\Python\\Python39\\site-packages\\IPython\\core\\events.py:93: UserWarning: Glyph 48373 (\\N{HANGUL SYLLABLE BOG}) missing from current font.\n",
      "  func(*args, **kwargs)\n",
      "C:\\Users\\Hamin\\AppData\\Roaming\\Python\\Python39\\site-packages\\IPython\\core\\events.py:93: UserWarning: Glyph 54924 (\\N{HANGUL SYLLABLE HOE}) missing from current font.\n",
      "  func(*args, **kwargs)\n",
      "C:\\Users\\Hamin\\AppData\\Roaming\\Python\\Python39\\site-packages\\IPython\\core\\events.py:93: UserWarning: Glyph 52264 (\\N{HANGUL SYLLABLE CA}) missing from current font.\n",
      "  func(*args, **kwargs)\n",
      "C:\\Users\\Hamin\\AppData\\Roaming\\Python\\Python39\\site-packages\\IPython\\core\\events.py:93: UserWarning: Glyph 45936 (\\N{HANGUL SYLLABLE DE}) missing from current font.\n",
      "  func(*args, **kwargs)\n",
      "C:\\Users\\Hamin\\AppData\\Roaming\\Python\\Python39\\site-packages\\IPython\\core\\events.py:93: UserWarning: Glyph 51060 (\\N{HANGUL SYLLABLE I}) missing from current font.\n",
      "  func(*args, **kwargs)\n",
      "C:\\Users\\Hamin\\AppData\\Roaming\\Python\\Python39\\site-packages\\IPython\\core\\events.py:93: UserWarning: Glyph 53552 (\\N{HANGUL SYLLABLE TEO}) missing from current font.\n",
      "  func(*args, **kwargs)\n",
      "C:\\Users\\Hamin\\AppData\\Roaming\\Python\\Python39\\site-packages\\IPython\\core\\events.py:93: UserWarning: Glyph 54632 (\\N{HANGUL SYLLABLE HAM}) missing from current font.\n",
      "  func(*args, **kwargs)\n",
      "C:\\Users\\Hamin\\AppData\\Roaming\\Python\\Python39\\site-packages\\IPython\\core\\events.py:93: UserWarning: Glyph 49688 (\\N{HANGUL SYLLABLE SU}) missing from current font.\n",
      "  func(*args, **kwargs)\n",
      "C:\\Users\\Hamin\\AppData\\Roaming\\Python\\Python39\\site-packages\\IPython\\core\\pylabtools.py:152: UserWarning: Glyph 49552 (\\N{HANGUL SYLLABLE SON}) missing from current font.\n",
      "  fig.canvas.print_figure(bytes_io, **kw)\n",
      "C:\\Users\\Hamin\\AppData\\Roaming\\Python\\Python39\\site-packages\\IPython\\core\\pylabtools.py:152: UserWarning: Glyph 49892 (\\N{HANGUL SYLLABLE SIL}) missing from current font.\n",
      "  fig.canvas.print_figure(bytes_io, **kw)\n",
      "C:\\Users\\Hamin\\AppData\\Roaming\\Python\\Python39\\site-packages\\IPython\\core\\pylabtools.py:152: UserWarning: Glyph 47456 (\\N{HANGUL SYLLABLE RYUL}) missing from current font.\n",
      "  fig.canvas.print_figure(bytes_io, **kw)\n",
      "C:\\Users\\Hamin\\AppData\\Roaming\\Python\\Python39\\site-packages\\IPython\\core\\pylabtools.py:152: UserWarning: Glyph 54984 (\\N{HANGUL SYLLABLE HUN}) missing from current font.\n",
      "  fig.canvas.print_figure(bytes_io, **kw)\n",
      "C:\\Users\\Hamin\\AppData\\Roaming\\Python\\Python39\\site-packages\\IPython\\core\\pylabtools.py:152: UserWarning: Glyph 47144 (\\N{HANGUL SYLLABLE RYEON}) missing from current font.\n",
      "  fig.canvas.print_figure(bytes_io, **kw)\n",
      "C:\\Users\\Hamin\\AppData\\Roaming\\Python\\Python39\\site-packages\\IPython\\core\\pylabtools.py:152: UserWarning: Glyph 48143 (\\N{HANGUL SYLLABLE MIC}) missing from current font.\n",
      "  fig.canvas.print_figure(bytes_io, **kw)\n",
      "C:\\Users\\Hamin\\AppData\\Roaming\\Python\\Python39\\site-packages\\IPython\\core\\pylabtools.py:152: UserWarning: Glyph 44160 (\\N{HANGUL SYLLABLE GEOM}) missing from current font.\n",
      "  fig.canvas.print_figure(bytes_io, **kw)\n",
      "C:\\Users\\Hamin\\AppData\\Roaming\\Python\\Python39\\site-packages\\IPython\\core\\pylabtools.py:152: UserWarning: Glyph 51613 (\\N{HANGUL SYLLABLE JEUNG}) missing from current font.\n",
      "  fig.canvas.print_figure(bytes_io, **kw)\n",
      "C:\\Users\\Hamin\\AppData\\Roaming\\Python\\Python39\\site-packages\\IPython\\core\\pylabtools.py:152: UserWarning: Glyph 48152 (\\N{HANGUL SYLLABLE BAN}) missing from current font.\n",
      "  fig.canvas.print_figure(bytes_io, **kw)\n",
      "C:\\Users\\Hamin\\AppData\\Roaming\\Python\\Python39\\site-packages\\IPython\\core\\pylabtools.py:152: UserWarning: Glyph 48373 (\\N{HANGUL SYLLABLE BOG}) missing from current font.\n",
      "  fig.canvas.print_figure(bytes_io, **kw)\n",
      "C:\\Users\\Hamin\\AppData\\Roaming\\Python\\Python39\\site-packages\\IPython\\core\\pylabtools.py:152: UserWarning: Glyph 54924 (\\N{HANGUL SYLLABLE HOE}) missing from current font.\n",
      "  fig.canvas.print_figure(bytes_io, **kw)\n",
      "C:\\Users\\Hamin\\AppData\\Roaming\\Python\\Python39\\site-packages\\IPython\\core\\pylabtools.py:152: UserWarning: Glyph 52264 (\\N{HANGUL SYLLABLE CA}) missing from current font.\n",
      "  fig.canvas.print_figure(bytes_io, **kw)\n",
      "C:\\Users\\Hamin\\AppData\\Roaming\\Python\\Python39\\site-packages\\IPython\\core\\pylabtools.py:152: UserWarning: Glyph 45936 (\\N{HANGUL SYLLABLE DE}) missing from current font.\n",
      "  fig.canvas.print_figure(bytes_io, **kw)\n",
      "C:\\Users\\Hamin\\AppData\\Roaming\\Python\\Python39\\site-packages\\IPython\\core\\pylabtools.py:152: UserWarning: Glyph 51060 (\\N{HANGUL SYLLABLE I}) missing from current font.\n",
      "  fig.canvas.print_figure(bytes_io, **kw)\n",
      "C:\\Users\\Hamin\\AppData\\Roaming\\Python\\Python39\\site-packages\\IPython\\core\\pylabtools.py:152: UserWarning: Glyph 53552 (\\N{HANGUL SYLLABLE TEO}) missing from current font.\n",
      "  fig.canvas.print_figure(bytes_io, **kw)\n",
      "C:\\Users\\Hamin\\AppData\\Roaming\\Python\\Python39\\site-packages\\IPython\\core\\pylabtools.py:152: UserWarning: Glyph 54632 (\\N{HANGUL SYLLABLE HAM}) missing from current font.\n",
      "  fig.canvas.print_figure(bytes_io, **kw)\n",
      "C:\\Users\\Hamin\\AppData\\Roaming\\Python\\Python39\\site-packages\\IPython\\core\\pylabtools.py:152: UserWarning: Glyph 49688 (\\N{HANGUL SYLLABLE SU}) missing from current font.\n",
      "  fig.canvas.print_figure(bytes_io, **kw)\n"
     ]
    },
    {
     "data": {
      "image/png": "[encoded data removed]",
      "text/plain": [
       "<Figure size 2250x750 with 2 Axes>"
      ]
     },
     "metadata": {},
     "output_type": "display_data"
    }
   ],
   "source": [
    "fig, ax = plt.subplots(1,2,figsize=(15,5),dpi = 150)\n",
    "\n",
    "# 1) 훈련 및 검증데이터 손실함수 시각화\n",
    "sb.lineplot(x=result_df.index, y='loss',data=result_df,label='훈련데이터 손실함수',ax=ax[0])\n",
    "sb.lineplot(x=result_df.index,y='val_loss',data=result_df,label='검증데이터 손실함수',ax=ax[0])\n",
    "ax[0].set_title('훈련 및 검증 손실률')\n",
    "ax[0].set_xlabel('반복회차')\n",
    "ax[0].set_ylabel('손실률')\n",
    "ax[0].grid()\n",
    "ax[0].legend()\n",
    "# # 2) 훈련 및 검증 절대오차 그리기\n",
    "# sns.lineplot(x=result_df.index , y='categorical_crossentropy',data=result_df,label='훈련데이터 acc',ax=ax[1])\n",
    "# sns.lineplot(x=result_df.index, y='val_categorical_crossentropy',data=result_df,label='검증데이터 acc',ax=ax[1])\n",
    "# ax[1].set_title('훈련 및 검증 절대오차')\n",
    "# ax[1].set_xlabel('반복회차')\n",
    "# ax[1].set_ylabel('정확도')\n",
    "# ax[1].grid()\n",
    "# ax[1].legend()\n",
    "\n",
    "# plt.show()\n",
    "# plt.close()"
   ]
  },
  {
   "cell_type": "code",
   "execution_count": 20,
   "metadata": {},
   "outputs": [
    {
     "name": "stdout",
     "output_type": "stream",
     "text": [
      "1875/1875 [==============================] - 14s 8ms/step\n",
      "60000개의 검증 데이터가 10개의 경우의 수를 갖는다.\n"
     ]
    },
    {
     "data": {
      "text/plain": [
       "array([2.0336138e-18, 3.2615105e-14, 3.5210688e-18, 5.2327728e-08,\n",
       "       3.4638538e-23, 1.0000000e+00, 1.6577214e-14, 3.6028761e-19,\n",
       "       3.0179036e-12, 2.3408740e-16], dtype=float32)"
      ]
     },
     "execution_count": 20,
     "metadata": {},
     "output_type": "execute_result"
    }
   ],
   "source": [
    "result = model.predict(x_train_reshape)\n",
    "data_count, case_count = result.shape\n",
    "print(\"%d개의 검증 데이터가 %d개의 경우의 수를 갖는다.\" % (data_count, case_count))\n",
    "result[0]"
   ]
  },
  {
   "cell_type": "markdown",
   "metadata": {},
   "source": [
    "### 가장 큰 확률값의 인덱스를 별도 리스트로 추출\n"
   ]
  },
  {
   "cell_type": "code",
   "execution_count": 22,
   "metadata": {},
   "outputs": [],
   "source": [
    "arg_result= np.argmax(result,axis=1)\n"
   ]
  },
  {
   "cell_type": "markdown",
   "metadata": {},
   "source": [
    "### 데이터 비교"
   ]
  },
  {
   "cell_type": "code",
   "execution_count": 25,
   "metadata": {},
   "outputs": [
    {
     "data": {
      "image/png": "[encoded data removed]",
      "text/plain": [
       "<Figure size 2400x1600 with 15 Axes>"
      ]
     },
     "metadata": {},
     "output_type": "display_data"
    }
   ],
   "source": [
    "row =3 \n",
    "col = 5\n",
    "fig,ax =plt.subplots(row,col,figsize=((col+1)*4,(row+1)*4),dpi = 100)\n",
    "size = row * col\n",
    "length=len(y_train)\n",
    "for i in range(0,size):\n",
    "    k = np.random.randint(length)\n",
    "    train = x_train[k]\n",
    "    label = y_train[k]\n",
    "    ax[i//col][i%col].imshow(train)\n",
    "    ax[i//col][i%col].set_title(\"label=%d, LM=%d\" % (label, arg_result[k]))\n",
    "\n",
    "plt.show()\n",
    "plt.close()"
   ]
  },
  {
   "cell_type": "code",
   "execution_count": 26,
   "metadata": {},
   "outputs": [
    {
     "data": {
      "text/html": [
       "<div>\n",
       "<style scoped>\n",
       "    .dataframe tbody tr th:only-of-type {\n",
       "        vertical-align: middle;\n",
       "    }\n",
       "\n",
       "    .dataframe tbody tr th {\n",
       "        vertical-align: top;\n",
       "    }\n",
       "\n",
       "    .dataframe thead th {\n",
       "        text-align: right;\n",
       "    }\n",
       "</style>\n",
       "<table border=\"1\" class=\"dataframe\">\n",
       "  <thead>\n",
       "    <tr style=\"text-align: right;\">\n",
       "      <th></th>\n",
       "      <th>실제값(0)</th>\n",
       "      <th>실제값(1)</th>\n",
       "      <th>실제값(2)</th>\n",
       "      <th>실제값(3)</th>\n",
       "      <th>실제값(4)</th>\n",
       "      <th>실제값(5)</th>\n",
       "      <th>실제값(6)</th>\n",
       "      <th>실제값(7)</th>\n",
       "      <th>실제값(8)</th>\n",
       "      <th>실제값(9)</th>\n",
       "    </tr>\n",
       "  </thead>\n",
       "  <tbody>\n",
       "    <tr>\n",
       "      <th>예측값(0)</th>\n",
       "      <td>5923</td>\n",
       "      <td>0</td>\n",
       "      <td>0</td>\n",
       "      <td>0</td>\n",
       "      <td>0</td>\n",
       "      <td>0</td>\n",
       "      <td>0</td>\n",
       "      <td>0</td>\n",
       "      <td>0</td>\n",
       "      <td>0</td>\n",
       "    </tr>\n",
       "    <tr>\n",
       "      <th>예측값(1)</th>\n",
       "      <td>0</td>\n",
       "      <td>6742</td>\n",
       "      <td>0</td>\n",
       "      <td>0</td>\n",
       "      <td>0</td>\n",
       "      <td>0</td>\n",
       "      <td>0</td>\n",
       "      <td>0</td>\n",
       "      <td>0</td>\n",
       "      <td>0</td>\n",
       "    </tr>\n",
       "    <tr>\n",
       "      <th>예측값(2)</th>\n",
       "      <td>0</td>\n",
       "      <td>0</td>\n",
       "      <td>5958</td>\n",
       "      <td>0</td>\n",
       "      <td>0</td>\n",
       "      <td>0</td>\n",
       "      <td>0</td>\n",
       "      <td>0</td>\n",
       "      <td>0</td>\n",
       "      <td>0</td>\n",
       "    </tr>\n",
       "    <tr>\n",
       "      <th>예측값(3)</th>\n",
       "      <td>0</td>\n",
       "      <td>0</td>\n",
       "      <td>0</td>\n",
       "      <td>6130</td>\n",
       "      <td>0</td>\n",
       "      <td>0</td>\n",
       "      <td>0</td>\n",
       "      <td>0</td>\n",
       "      <td>0</td>\n",
       "      <td>1</td>\n",
       "    </tr>\n",
       "    <tr>\n",
       "      <th>예측값(4)</th>\n",
       "      <td>0</td>\n",
       "      <td>0</td>\n",
       "      <td>0</td>\n",
       "      <td>0</td>\n",
       "      <td>5842</td>\n",
       "      <td>0</td>\n",
       "      <td>0</td>\n",
       "      <td>0</td>\n",
       "      <td>0</td>\n",
       "      <td>0</td>\n",
       "    </tr>\n",
       "    <tr>\n",
       "      <th>예측값(5)</th>\n",
       "      <td>0</td>\n",
       "      <td>0</td>\n",
       "      <td>0</td>\n",
       "      <td>0</td>\n",
       "      <td>0</td>\n",
       "      <td>5421</td>\n",
       "      <td>0</td>\n",
       "      <td>0</td>\n",
       "      <td>0</td>\n",
       "      <td>0</td>\n",
       "    </tr>\n",
       "    <tr>\n",
       "      <th>예측값(6)</th>\n",
       "      <td>0</td>\n",
       "      <td>0</td>\n",
       "      <td>0</td>\n",
       "      <td>0</td>\n",
       "      <td>0</td>\n",
       "      <td>0</td>\n",
       "      <td>5918</td>\n",
       "      <td>0</td>\n",
       "      <td>0</td>\n",
       "      <td>0</td>\n",
       "    </tr>\n",
       "    <tr>\n",
       "      <th>예측값(7)</th>\n",
       "      <td>0</td>\n",
       "      <td>0</td>\n",
       "      <td>0</td>\n",
       "      <td>0</td>\n",
       "      <td>0</td>\n",
       "      <td>0</td>\n",
       "      <td>0</td>\n",
       "      <td>6265</td>\n",
       "      <td>0</td>\n",
       "      <td>0</td>\n",
       "    </tr>\n",
       "    <tr>\n",
       "      <th>예측값(8)</th>\n",
       "      <td>0</td>\n",
       "      <td>1</td>\n",
       "      <td>0</td>\n",
       "      <td>0</td>\n",
       "      <td>0</td>\n",
       "      <td>0</td>\n",
       "      <td>0</td>\n",
       "      <td>0</td>\n",
       "      <td>5850</td>\n",
       "      <td>0</td>\n",
       "    </tr>\n",
       "    <tr>\n",
       "      <th>예측값(9)</th>\n",
       "      <td>0</td>\n",
       "      <td>0</td>\n",
       "      <td>0</td>\n",
       "      <td>0</td>\n",
       "      <td>0</td>\n",
       "      <td>0</td>\n",
       "      <td>0</td>\n",
       "      <td>1</td>\n",
       "      <td>0</td>\n",
       "      <td>5948</td>\n",
       "    </tr>\n",
       "  </tbody>\n",
       "</table>\n",
       "</div>"
      ],
      "text/plain": [
       "        실제값(0)  실제값(1)  실제값(2)  실제값(3)  실제값(4)  실제값(5)  실제값(6)  실제값(7)  \\\n",
       "예측값(0)    5923       0       0       0       0       0       0       0   \n",
       "예측값(1)       0    6742       0       0       0       0       0       0   \n",
       "예측값(2)       0       0    5958       0       0       0       0       0   \n",
       "예측값(3)       0       0       0    6130       0       0       0       0   \n",
       "예측값(4)       0       0       0       0    5842       0       0       0   \n",
       "예측값(5)       0       0       0       0       0    5421       0       0   \n",
       "예측값(6)       0       0       0       0       0       0    5918       0   \n",
       "예측값(7)       0       0       0       0       0       0       0    6265   \n",
       "예측값(8)       0       1       0       0       0       0       0       0   \n",
       "예측값(9)       0       0       0       0       0       0       0       1   \n",
       "\n",
       "        실제값(8)  실제값(9)  \n",
       "예측값(0)       0       0  \n",
       "예측값(1)       0       0  \n",
       "예측값(2)       0       0  \n",
       "예측값(3)       0       1  \n",
       "예측값(4)       0       0  \n",
       "예측값(5)       0       0  \n",
       "예측값(6)       0       0  \n",
       "예측값(7)       0       0  \n",
       "예측값(8)    5850       0  \n",
       "예측값(9)       0    5948  "
      ]
     },
     "execution_count": 26,
     "metadata": {},
     "output_type": "execute_result"
    }
   ],
   "source": [
    "cm = confusion_matrix(y_train, arg_result)\n",
    "cmdf2 = pd.DataFrame(cm, columns=list(map(lambda x: \"실제값(%d)\" % x, range(10))), index=list(map(lambda x: \"예측값(%d)\" % x, range(10))))\n",
    "cmdf2"
   ]
  },
  {
   "cell_type": "markdown",
   "metadata": {},
   "source": [
    "plt.figure(figsize=(15, 10))\n",
    "sb.heatmap(cmdf2, annot = True, fmt = 'd', cmap = 'Blues')\n",
    "plt.xlabel('결과값')\n",
    "plt.ylabel('예측값')\n",
    "plt.show()\n",
    "plt.close()"
   ]
  },
  {
   "cell_type": "markdown",
   "metadata": {},
   "source": []
  },
  {
   "cell_type": "markdown",
   "metadata": {},
   "source": []
  }
 ],
 "metadata": {
  "kernelspec": {
   "display_name": "Python 3",
   "language": "python",
   "name": "python3"
  },
  "language_info": {
   "codemirror_mode": {
    "name": "ipython",
    "version": 3
   },
   "file_extension": ".py",
   "mimetype": "text/x-python",
   "name": "python",
   "nbconvert_exporter": "python",
   "pygments_lexer": "ipython3",
   "version": "3.9.13"
  },
  "orig_nbformat": 4
 },
 "nbformat": 4,
 "nbformat_minor": 2
}
